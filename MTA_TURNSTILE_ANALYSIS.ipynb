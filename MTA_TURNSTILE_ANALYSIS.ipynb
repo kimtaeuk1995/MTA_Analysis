{
 "metadata": {
  "language_info": {
   "codemirror_mode": {
    "name": "ipython",
    "version": 3
   },
   "file_extension": ".py",
   "mimetype": "text/x-python",
   "name": "python",
   "nbconvert_exporter": "python",
   "pygments_lexer": "ipython3",
   "version": "3.7.6-final"
  },
  "orig_nbformat": 2,
  "kernelspec": {
   "name": "Python 3.7.6 64-bit ('base': conda)",
   "display_name": "Python 3.7.6 64-bit ('base': conda)",
   "metadata": {
    "interpreter": {
     "hash": "c59ab9589ab9721951ace112490e4bf0ea865c3f59dd6195158da930da3c1de9"
    }
   }
  }
 },
 "nbformat": 4,
 "nbformat_minor": 2,
 "cells": [
  {
   "cell_type": "code",
   "execution_count": 26,
   "metadata": {},
   "outputs": [],
   "source": [
    "import pandas as pd\n",
    "from dateutil.parser import parse\n",
    "import dateutil.parser\n",
    "import datetime\n",
    "import numpy as np\n",
    "from uszipcode import Zipcode\n",
    "from uszipcode import SearchEngine\n",
    "from geopy.geocoders import Nominatim\n",
    "import plotly_express as px\n",
    "import matplotlib.pyplot as plt\n",
    "%matplotlib inline\n",
    "\n",
    "import seaborn as sns"
   ]
  },
  {
   "cell_type": "code",
   "execution_count": 4,
   "metadata": {},
   "outputs": [],
   "source": [
    "pd.set_option('display.max_columns', 500)\n",
    "pd.set_option('display.max_rows', 500)\n",
    "pd.set_option('display.precision',4)"
   ]
  },
  {
   "source": [
    "# Goals / Methodology\n",
    "\n",
    "__Goal:__\n",
    "Our primary goal in this presentation is to maximize the number of signatures obtained at subway station entrances/exits via street marketing teams, focusing on those individuals who will attend the gala and contribute to WTWY’s cause.\n",
    "\n",
    "__Methodology:__\n",
    "To do so, we will look at MTA subway data as well as NYC Census data such as median household income to determine, not just the busiest stations, but the stations with the most value-added individuals considering our prompt above. Furthermore, we will look at the number of tech companies near stations to determine best allotment of street marketing team placement to properly capture our target group\n",
    "\n"
   ],
   "cell_type": "markdown",
   "metadata": {}
  },
  {
   "source": [
    "# Importing Data"
   ],
   "cell_type": "markdown",
   "metadata": {}
  },
  {
   "cell_type": "code",
   "execution_count": 5,
   "metadata": {},
   "outputs": [],
   "source": [
    "# helper function to read in data for appropriate dates\n",
    "week_nums = [200905, 200912, 200919]\n",
    "\n",
    "def get_data(week_nums):\n",
    "    url = 'http://web.mta.info/developers/data/nyct/turnstile/turnstile_{}.txt'\n",
    "    df = []\n",
    "    for week_num in week_nums:\n",
    "        file_url = url.format(week_num)\n",
    "        df.append(pd.read_csv(file_url))\n",
    "    return pd.concat(df)"
   ]
  },
  {
   "cell_type": "code",
   "execution_count": 6,
   "metadata": {},
   "outputs": [],
   "source": [
    "# read in data\n",
    "mta = get_data(week_nums)"
   ]
  },
  {
   "cell_type": "code",
   "execution_count": 7,
   "metadata": {},
   "outputs": [
    {
     "output_type": "execute_result",
     "data": {
      "text/plain": "(628297, 11)"
     },
     "metadata": {},
     "execution_count": 7
    }
   ],
   "source": [
    "mta.shape"
   ]
  },
  {
   "source": [
    "# Finding zipcode and demographic data for stations"
   ],
   "cell_type": "markdown",
   "metadata": {}
  },
  {
   "cell_type": "code",
   "execution_count": 8,
   "metadata": {},
   "outputs": [],
   "source": [
    "# subset for only unique station names\n",
    "unique_station = mta.drop_duplicates(subset=['STATION']).reset_index()"
   ]
  },
  {
   "cell_type": "code",
   "execution_count": 9,
   "metadata": {
    "tags": []
   },
   "outputs": [
    {
     "output_type": "stream",
     "name": "stdout",
     "text": "TIMES SQ-42 ST\nWHITEHALL S-FRY\nPARK PLACE\nJAY ST-METROTEC\nATL AV-BARCLAY\nCONEY IS-STILLW\nW 8 ST-AQUARIUM\nNEW LOTS\nCANARSIE-ROCKAW\n75 ST-ELDERTS\n85 ST-FOREST PK\n163 ST-AMSTERDM\n81 ST-MUSEUM\n59 ST COLUMBUS\n42 ST-PORT AUTH\n34 ST-PENN STA\nHOYT-SCHER\nCLINTON-WASH AV\nBROADWAY JCT\nOZONE PK LEFFRT\nAQUEDUCT N.COND\nAQUEDUCT RACETR\n161/YANKEE STAD\nJKSN HT-ROOSVLT\nGRAND-NEWTOWN\nMYRTLE-WILLOUGH\nBEDFORD-NOSTRAN\n47-50 STS ROCK\nSMITH-9 ST\n4 AV-9 ST\n15 ST-PROSPECT\nROOSEVELT ISLND\n21 ST-QNSBRIDGE\nJAMAICA VAN WK\nSUTPHIN-ARCHER\nJAMAICA CENTER\n72 ST-2 AVE\n86 ST-2 AVE\n96 ST-2 AVE\nNEWARK HW BMEBE\nJOURNAL SQUARE\nPAVONIA/NEWPORT\nTWENTY THIRD ST\nTHIRTY ST\nLACKAWANNA\nTHIRTY THIRD ST\nNEWARK BM BW\nNEWARK C\nNEWARK HM HE\nPATH WTC 2\nPATH NEW WTC\n66 ST-LINCOLN\n116 ST-COLUMBIA\n137 ST CITY COL\nGRD CNTRL-42 ST\n68ST-HUNTER CO\n138/GRAND CONC\n149/GRAND CONC\nWEST FARMS SQ\nE 143/ST MARY'S\nMORISN AV/SNDVW\nVERNON-JACKSON\n82 ST-JACKSON H\n103 ST-CORONA\n34 ST-HUDSON YD\nGRAND ARMY PLAZ\nEASTN PKWY-MUSM\nCROWN HTS-UTICA\nSUTTER AV-RUTLD\nFLATBUSH AV-B.C\nEASTCHSTER/DYRE\nRIT-MANHATTAN\nRIT-ROOSEVELT\n"
    }
   ],
   "source": [
    "geolocator = Nominatim(user_agent=\"test_app\")\n",
    "\n",
    "# find unique latitude and longitude for each station\n",
    "lat_long = []\n",
    "for station in unique_station.STATION:\n",
    "    try:\n",
    "        loc = geolocator.geocode(f'{station} Station NYC')\n",
    "        lat_long.append([station, (loc.latitude, loc.longitude)])\n",
    "    # if cannot identify station name print the specific station\n",
    "    except:\n",
    "        print(station)\n",
    "\n"
   ]
  },
  {
   "cell_type": "code",
   "execution_count": 10,
   "metadata": {},
   "outputs": [],
   "source": [
    "# add in latitude and longitude for missing stations\n",
    "missing = [['TIMES SQ-42 ST', (40.7559, -73.9871)],['WHITEHALL S-FRY', (40.7017, -74.0129)], ['PARK PLACE', (40.7132, -74.0093)], ['JAY ST-METROTEC', (40.69218,-73.985942)], ['ATL AV-BARCLAY', (40.683666,-73.97881)], ['CONEY IS-STILLW', (40.577422,-73.981233)], ['W 8 ST-AQUARIUM', (40.576127,-73.975939)], ['NEW LOTS', (40.658733,-73.899232)], ['CANARSIE-ROCKAW', (40.646654,-73.90185)], ['75 ST-ELDERTS', (40.691324,-73.867139)], ['85 ST-FOREST PK', (40.692435,-73.86001)], ['163 ST-AMSTERDM', (40.836013,-73.939892)], ['81 ST-MUSEUM', (40.781433,-73.972143)], ['59 ST COLUMBUS', (40.768296,-73.981736)], ['42 ST-PORT AUTH', (40.757308,-73.989735)], ['34 ST-PENN STA', (40.752287,-73.993391)], ['HOYT-SCHER', (40.688484,-73.985001)], ['CLINTON-WASH AV', (40.683263,-73.965838)], ['BROADWAY JCT', (40.679498,-73.904512)], ['OZONE PK LEFFRT', (40.685951,-73.825798)], ['AQUEDUCT N.COND', (40.668234,-73.834058)], ['AQUEDUCT RACETR', (40.672097,-73.835919)], ['161/YANKEE STAD', (40.827905,-73.925651)], ['JKSN HT-ROOSVLT', (40.746644,-73.891338)], ['GRAND-NEWTOWN', (40.737015,-73.877223)], ['MYRTLE-WILLOUGH', (40.694568,-73.949046)], ['BEDFORD-NOSTRAN', (40.689627,-73.953522)], ['47-50 STS ROCK', (40.758663,-73.981329)], ['SMITH-9 ST', (40.67358,-73.995959)], ['4 AV-9 ST', (40.670387, -73.98848)], ['15 ST-PROSPECT', (40.660365,-73.979493)], ['ROOSEVELT ISLND', (40.759145,-73.95326)], ['21 ST-QNSBRIDGE', (40.754203,-73.942836)], ['JAMAICA VAN WK', (40.709179,-73.820574)], ['SUTPHIN-ARCHER', (40.700486,-73.807969)], ['JAMAICA CENTER', (40.702147,-73.801109)], ['72 ST-2 AVE', (40.768799,-73.958424)], ['86 ST-2 AVE', (40.777891,-73.951787)], ['96 ST-2 AVE', (40.784318,-73.947152)], ['JOURNAL SQUARE', (40.732141, -74.063114)], ['PAVONIA/NEWPORT', (40.726676, -74.034757)], ['TWENTY THIRD ST', (40.741339, -73.989272)], ['THIRTY ST', (40.766859, -73.921423)], ['LACKAWANNA', (40.7359352, -74.0273625)], ['THIRTY THIRD ST', (40.7486, -73.9887)], ['NEWARK BM BW', (40.735657, -74.172363)], ['NEWARK HW BMEBE', (40.735657, -74.172363)], ['PATH WTC 2', (40.712742, -74.013382)], ['PATH NEW WTC', (40.712742, -74.013382)], ['66 ST-LINCOLN', (40.77344,-73.982209)], ['116 ST-COLUMBIA', (40.807722,-73.96411)], ['137 ST CITY COL', (40.821, -73.954)], ['GRD CNTRL-42 ST', (40.751776,-73.976848)], ['68ST-HUNTER CO', (40.768141,-73.96387)], ['138/GRAND CONC', (40.813224,-73.929849)], ['149/GRAND CONC', (40.818375,-73.927351)], ['WEST FARMS SQ', (40.840295,-73.880049)], [\"E 143/ST MARY'S\", (40.808719,-73.907657)], ['MORISN AV/SNDVW', (40.829495, -73.874474)], ['VERNON-JACKSON', (40.742626,-73.953581)], ['82 ST-JACKSON H', (40.747659,-73.883697)], ['103 ST-CORONA', (40.749865,-73.8627)], ['34 ST-HUDSON YD', (40.753821,-73.981963)], ['GRAND ARMY PLAZ', (40.675235,-73.971046)], ['EASTN PKWY-MUSM', (40.671987,-73.964375)], ['CROWN HTS-UTICA', (40.668897,-73.932942)], ['SUTTER AV-RUTLD', (40.664717,-73.92261)], ['FLATBUSH AV-B.C', (40.632836,-73.947642)], ['EASTCHSTER/DYRE', (40.8883,-73.830834)], ['RIT-MANHATTAN', (43.0844, -77.6749)], ['RIT-ROOSEVELT', (43.0844, -77.6749)]]"
   ]
  },
  {
   "cell_type": "code",
   "execution_count": 11,
   "metadata": {},
   "outputs": [],
   "source": [
    "station_lat_long = lat_long + missing"
   ]
  },
  {
   "cell_type": "code",
   "execution_count": 12,
   "metadata": {},
   "outputs": [],
   "source": [
    "# search latitude and longitude to get zipcode, population, population density, median household income\n",
    "search = SearchEngine(simple_zipcode=True)\n",
    "zip_list = []\n",
    "for i in range(len(station_lat_long)):\n",
    "    try:\n",
    "        zipcode = search.by_coordinates(station_lat_long[i][1][0], station_lat_long[i][1][1], returns=1)\n",
    "        zip_list.append([station_lat_long[i][0], station_lat_long[i][1][0], station_lat_long[i][1][1], zipcode[0].zipcode, zipcode[0].population, zipcode[0].population_density, zipcode[0].median_household_income])\n",
    "    # see if there is no match \n",
    "    except:\n",
    "        print(station_lat_long[i][0])\n",
    "\n"
   ]
  },
  {
   "cell_type": "code",
   "execution_count": 13,
   "metadata": {},
   "outputs": [
    {
     "output_type": "execute_result",
     "data": {
      "text/plain": "           STATION  Latitude  Longitude ZIPCODE  POPULATION  POPULATION_DEN  \\\n0            59 ST   40.6414   -74.0179   11220       99598         55603.0   \n1       5 AV/59 ST   40.7648   -73.9727   10153           0             NaN   \n2       57 ST-7 AV   40.7647   -73.9806   10103           3           314.0   \n3            49 ST   40.7599   -73.9841   10020           0             NaN   \n4  34 ST-HERALD SQ   40.7496   -73.9879   10001       21102         33959.0   \n\n   MEDIAN_INCOME  \n0        37580.0  \n1            NaN  \n2            NaN  \n3            NaN  \n4        81671.0  ",
      "text/html": "<div>\n<style scoped>\n    .dataframe tbody tr th:only-of-type {\n        vertical-align: middle;\n    }\n\n    .dataframe tbody tr th {\n        vertical-align: top;\n    }\n\n    .dataframe thead th {\n        text-align: right;\n    }\n</style>\n<table border=\"1\" class=\"dataframe\">\n  <thead>\n    <tr style=\"text-align: right;\">\n      <th></th>\n      <th>STATION</th>\n      <th>Latitude</th>\n      <th>Longitude</th>\n      <th>ZIPCODE</th>\n      <th>POPULATION</th>\n      <th>POPULATION_DEN</th>\n      <th>MEDIAN_INCOME</th>\n    </tr>\n  </thead>\n  <tbody>\n    <tr>\n      <th>0</th>\n      <td>59 ST</td>\n      <td>40.6414</td>\n      <td>-74.0179</td>\n      <td>11220</td>\n      <td>99598</td>\n      <td>55603.0</td>\n      <td>37580.0</td>\n    </tr>\n    <tr>\n      <th>1</th>\n      <td>5 AV/59 ST</td>\n      <td>40.7648</td>\n      <td>-73.9727</td>\n      <td>10153</td>\n      <td>0</td>\n      <td>NaN</td>\n      <td>NaN</td>\n    </tr>\n    <tr>\n      <th>2</th>\n      <td>57 ST-7 AV</td>\n      <td>40.7647</td>\n      <td>-73.9806</td>\n      <td>10103</td>\n      <td>3</td>\n      <td>314.0</td>\n      <td>NaN</td>\n    </tr>\n    <tr>\n      <th>3</th>\n      <td>49 ST</td>\n      <td>40.7599</td>\n      <td>-73.9841</td>\n      <td>10020</td>\n      <td>0</td>\n      <td>NaN</td>\n      <td>NaN</td>\n    </tr>\n    <tr>\n      <th>4</th>\n      <td>34 ST-HERALD SQ</td>\n      <td>40.7496</td>\n      <td>-73.9879</td>\n      <td>10001</td>\n      <td>21102</td>\n      <td>33959.0</td>\n      <td>81671.0</td>\n    </tr>\n  </tbody>\n</table>\n</div>"
     },
     "metadata": {},
     "execution_count": 13
    }
   ],
   "source": [
    "# make the list into a dataframe\n",
    "station_zip_demo = pd.DataFrame(zip_list, columns=['STATION', 'Latitude', 'Longitude', 'ZIPCODE', 'POPULATION', 'POPULATION_DEN', 'MEDIAN_INCOME'])\n",
    "\n",
    "station_zip_demo.head()"
   ]
  },
  {
   "source": [
    "# Finding tech company zipcode "
   ],
   "cell_type": "markdown",
   "metadata": {}
  },
  {
   "cell_type": "code",
   "execution_count": 15,
   "metadata": {},
   "outputs": [],
   "source": [
    "company = pd.read_excel('company.xlsx')"
   ]
  },
  {
   "cell_type": "code",
   "execution_count": 16,
   "metadata": {
    "tags": []
   },
   "outputs": [
    {
     "output_type": "stream",
     "name": "stdout",
     "text": "Deloitte\nPricewaterhouseCoopers\nABM Industries\nStandard Chartered USA\nOmnicom Group\nPhilip Morris International\nHistoric TW\nBOTTLING GROUP\nMarsh & McLennan Companies\nNBCUniversal\nThe Interpublic Group of Companies\nAmerican International Group\nArconic\nMount Sinai Health System\nKohlberg & Company\nColgate-Palmolive\niQor Holdings\nBunge\nMediterranean Shipping Company\nHyosung\nMacAndrews & Forbes\nMontefiore Health System\nNIOXIN USA\nClairol Color\nCarrols Restaurant Group\nPVH\nHotel Acquisition Company\nWeight Watchers International\nHenry Schein\nRoadhouse Holding\nInfor\nHRG Group\nXylem\nAltice USA\nYoung & Rubicam\nHitachi America\nAssurant\nContinental Grain Company\nWaldorf Astoria New York\nSutherland Global Services\nNature’s Bounty\nKBC Bank\n"
    }
   ],
   "source": [
    "# find latitude and longitude based on compnay name\n",
    "lat_long = []\n",
    "for company in company.Company:\n",
    "    try:\n",
    "        loc = geolocator.geocode(f'{company} NY, USA')\n",
    "        lat_long.append([company, loc.latitude, loc.longitude])\n",
    "    # see companies that have no associated latitude and longitude\n",
    "    except:\n",
    "        print(company)"
   ]
  },
  {
   "cell_type": "code",
   "execution_count": 17,
   "metadata": {},
   "outputs": [],
   "source": [
    "# add additional tech companies \n",
    "company_address = [['Slack', '436 Lafayette St, New York, NY 10003'], ['2U', '55 Prospect St., Brooklyn, NY 11201'], ['Compass', '90 Fifth Avenue, New York, NY 10011'],['Adobe', '1540 Broadway, New York, NY 10036'], ['Square', '375 W Broadway, New York, NY 10012'], ['Twitter', '249 W 17th St, New York, NY 10011'],['Facebook', '770 Broadway, New York, NY 10003'], ['Google', '111 8th Ave, New York, NY 10011'], ['Salesforce', '1095 Avenue of the Americas, New York, NY 10036'], ['Amazon', '450 West 33rd Street, New York, NY 10001'], ['Dashlane', '156 5th Ave, New York, NY 10010'], ['Transferwise', '19 W 24th Street, New York, NY 10010'], ['Sevenrooms', '122 W. 27th Street, New York, NY 10001'], ['seatgeek', '400 Lafayette St, New York, NY 10003, US'], ['greenhouse', '18 W 18th St, New York, NY 10011']]\n",
    "\n",
    "for company, address in company_address:\n",
    "    try:\n",
    "        loc = geolocator.geocode(address)\n",
    "        lat_long.append([company, loc.latitude, loc.longitude])\n",
    "    except:\n",
    "        print(company)"
   ]
  },
  {
   "cell_type": "code",
   "execution_count": 18,
   "metadata": {},
   "outputs": [],
   "source": [
    "#make the list into dataframe\n",
    "company_zip = pd.DataFrame(lat_long, columns=['Company', 'Latitude', 'Longitude'])\n"
   ]
  },
  {
   "cell_type": "code",
   "execution_count": 337,
   "metadata": {},
   "outputs": [
    {
     "output_type": "display_data",
     "data": {
      "application/vnd.plotly.v1+json": {
       "config": {
        "plotlyServerURL": "https://plot.ly"
       },
       "data": [
        {
         "hovertemplate": "Latitude=%{lat}<br>Longitude=%{lon}<extra></extra>",
         "lat": [
          41.32038665,
          41.01494415,
          40.7558452,
          40.72914525,
          40.708156349999996,
          40.7503833,
          40.7625601,
          40.75300505,
          40.77302115,
          43.0941934,
          40.7545433,
          43.14916785,
          42.9305521,
          40.7135788,
          40.7078794,
          42.85981775,
          40.76230085,
          42.1435257,
          40.710322649999995,
          40.7147553,
          40.7612526,
          40.7288797,
          40.7577041,
          40.7434467,
          40.7588263,
          43.059526,
          42.8775471,
          40.7364296,
          43.0649163,
          40.741235950000004,
          42.3650854,
          40.7506498,
          40.645353549999996,
          42.1479836,
          40.766562,
          40.6740635,
          41.3579462,
          40.7712673,
          40.72925325,
          40.7635205,
          40.70703525,
          43.776052,
          43.11876,
          40.64601025,
          41.6611595,
          40.76953315,
          40.78466865,
          40.7635285,
          40.76445335,
          40.90549785,
          40.7065818,
          40.8079488,
          40.73670285,
          40.75801405,
          40.734722,
          40.7608348,
          42.8678447,
          40.7567716,
          40.7251793,
          43.1409853,
          40.7867914,
          40.7293432,
          40.7008283,
          43.05788882608696,
          40.75803195,
          40.7235788,
          40.7413328,
          40.73060415,
          40.7408812,
          40.754683549999996,
          40.75352114285714,
          40.7399209,
          40.742999100000006,
          40.7426776,
          40.7280768,
          40.7390034
         ],
         "legendgroup": "",
         "lon": [
          -73.67869784162318,
          -73.72689337433243,
          -73.97561496589915,
          -73.70263405446019,
          -73.62858135958973,
          -73.97262147463235,
          -73.9725989,
          -73.97757258818191,
          -73.56139335295892,
          -75.2467041,
          -73.98036,
          -75.37577549382657,
          -77.0885437,
          -74.0149012,
          -74.011458,
          -76.99639816266068,
          -73.97125668962013,
          -77.0543408,
          -73.55485096970199,
          -74.01441859133114,
          -73.9735148,
          -73.9934374,
          -73.9775447,
          -73.9722189,
          -73.9745247,
          -76.1521175,
          -78.87487409828174,
          -73.9488635,
          -76.0858675,
          -73.35669116536101,
          -73.4692788,
          -73.9388368,
          -74.09174767890863,
          -74.6490211,
          -73.98362090965932,
          -73.9862307,
          -73.7823212,
          -73.966008,
          -73.99625393609625,
          -73.9959106,
          -73.70171903255334,
          -75.436249,
          -75.2924590757315,
          -73.95735557033811,
          -73.9291306,
          -73.99067563237543,
          -73.90478830758894,
          -73.9728007,
          -73.95694407847097,
          -73.10263393261312,
          -74.0100596,
          -73.96179735775709,
          -73.81879574241711,
          -73.9769564693561,
          -73.9910745,
          -73.9752495,
          -75.8871382,
          -73.9896414,
          -73.5460685,
          -77.7190413,
          -73.9754518,
          -73.9921259,
          -73.9882067,
          -74.3349787826087,
          -73.98483197526832,
          -74.0025799,
          -74.0000779,
          -73.99152049790047,
          -74.0020865,
          -73.9847556191919,
          -73.99891471428572,
          -73.9909787,
          -73.99046185418356,
          -73.9985382,
          -73.9933389,
          -73.9932784
         ],
         "marker": {
          "color": "#636efa"
         },
         "mode": "markers",
         "name": "",
         "showlegend": false,
         "subplot": "mapbox",
         "type": "scattermapbox"
        }
       ],
       "layout": {
        "legend": {
         "tracegroupgap": 0
        },
        "mapbox": {
         "center": {
          "lat": 41.20226290222295,
          "lon": -74.31601584802324
         },
         "domain": {
          "x": [
           0,
           1
          ],
          "y": [
           0,
           1
          ]
         },
         "zoom": 8
        },
        "margin": {
         "t": 60
        },
        "template": {
         "data": {
          "bar": [
           {
            "error_x": {
             "color": "#2a3f5f"
            },
            "error_y": {
             "color": "#2a3f5f"
            },
            "marker": {
             "line": {
              "color": "#E5ECF6",
              "width": 0.5
             }
            },
            "type": "bar"
           }
          ],
          "barpolar": [
           {
            "marker": {
             "line": {
              "color": "#E5ECF6",
              "width": 0.5
             }
            },
            "type": "barpolar"
           }
          ],
          "carpet": [
           {
            "aaxis": {
             "endlinecolor": "#2a3f5f",
             "gridcolor": "white",
             "linecolor": "white",
             "minorgridcolor": "white",
             "startlinecolor": "#2a3f5f"
            },
            "baxis": {
             "endlinecolor": "#2a3f5f",
             "gridcolor": "white",
             "linecolor": "white",
             "minorgridcolor": "white",
             "startlinecolor": "#2a3f5f"
            },
            "type": "carpet"
           }
          ],
          "choropleth": [
           {
            "colorbar": {
             "outlinewidth": 0,
             "ticks": ""
            },
            "type": "choropleth"
           }
          ],
          "contour": [
           {
            "colorbar": {
             "outlinewidth": 0,
             "ticks": ""
            },
            "colorscale": [
             [
              0,
              "#0d0887"
             ],
             [
              0.1111111111111111,
              "#46039f"
             ],
             [
              0.2222222222222222,
              "#7201a8"
             ],
             [
              0.3333333333333333,
              "#9c179e"
             ],
             [
              0.4444444444444444,
              "#bd3786"
             ],
             [
              0.5555555555555556,
              "#d8576b"
             ],
             [
              0.6666666666666666,
              "#ed7953"
             ],
             [
              0.7777777777777778,
              "#fb9f3a"
             ],
             [
              0.8888888888888888,
              "#fdca26"
             ],
             [
              1,
              "#f0f921"
             ]
            ],
            "type": "contour"
           }
          ],
          "contourcarpet": [
           {
            "colorbar": {
             "outlinewidth": 0,
             "ticks": ""
            },
            "type": "contourcarpet"
           }
          ],
          "heatmap": [
           {
            "colorbar": {
             "outlinewidth": 0,
             "ticks": ""
            },
            "colorscale": [
             [
              0,
              "#0d0887"
             ],
             [
              0.1111111111111111,
              "#46039f"
             ],
             [
              0.2222222222222222,
              "#7201a8"
             ],
             [
              0.3333333333333333,
              "#9c179e"
             ],
             [
              0.4444444444444444,
              "#bd3786"
             ],
             [
              0.5555555555555556,
              "#d8576b"
             ],
             [
              0.6666666666666666,
              "#ed7953"
             ],
             [
              0.7777777777777778,
              "#fb9f3a"
             ],
             [
              0.8888888888888888,
              "#fdca26"
             ],
             [
              1,
              "#f0f921"
             ]
            ],
            "type": "heatmap"
           }
          ],
          "heatmapgl": [
           {
            "colorbar": {
             "outlinewidth": 0,
             "ticks": ""
            },
            "colorscale": [
             [
              0,
              "#0d0887"
             ],
             [
              0.1111111111111111,
              "#46039f"
             ],
             [
              0.2222222222222222,
              "#7201a8"
             ],
             [
              0.3333333333333333,
              "#9c179e"
             ],
             [
              0.4444444444444444,
              "#bd3786"
             ],
             [
              0.5555555555555556,
              "#d8576b"
             ],
             [
              0.6666666666666666,
              "#ed7953"
             ],
             [
              0.7777777777777778,
              "#fb9f3a"
             ],
             [
              0.8888888888888888,
              "#fdca26"
             ],
             [
              1,
              "#f0f921"
             ]
            ],
            "type": "heatmapgl"
           }
          ],
          "histogram": [
           {
            "marker": {
             "colorbar": {
              "outlinewidth": 0,
              "ticks": ""
             }
            },
            "type": "histogram"
           }
          ],
          "histogram2d": [
           {
            "colorbar": {
             "outlinewidth": 0,
             "ticks": ""
            },
            "colorscale": [
             [
              0,
              "#0d0887"
             ],
             [
              0.1111111111111111,
              "#46039f"
             ],
             [
              0.2222222222222222,
              "#7201a8"
             ],
             [
              0.3333333333333333,
              "#9c179e"
             ],
             [
              0.4444444444444444,
              "#bd3786"
             ],
             [
              0.5555555555555556,
              "#d8576b"
             ],
             [
              0.6666666666666666,
              "#ed7953"
             ],
             [
              0.7777777777777778,
              "#fb9f3a"
             ],
             [
              0.8888888888888888,
              "#fdca26"
             ],
             [
              1,
              "#f0f921"
             ]
            ],
            "type": "histogram2d"
           }
          ],
          "histogram2dcontour": [
           {
            "colorbar": {
             "outlinewidth": 0,
             "ticks": ""
            },
            "colorscale": [
             [
              0,
              "#0d0887"
             ],
             [
              0.1111111111111111,
              "#46039f"
             ],
             [
              0.2222222222222222,
              "#7201a8"
             ],
             [
              0.3333333333333333,
              "#9c179e"
             ],
             [
              0.4444444444444444,
              "#bd3786"
             ],
             [
              0.5555555555555556,
              "#d8576b"
             ],
             [
              0.6666666666666666,
              "#ed7953"
             ],
             [
              0.7777777777777778,
              "#fb9f3a"
             ],
             [
              0.8888888888888888,
              "#fdca26"
             ],
             [
              1,
              "#f0f921"
             ]
            ],
            "type": "histogram2dcontour"
           }
          ],
          "mesh3d": [
           {
            "colorbar": {
             "outlinewidth": 0,
             "ticks": ""
            },
            "type": "mesh3d"
           }
          ],
          "parcoords": [
           {
            "line": {
             "colorbar": {
              "outlinewidth": 0,
              "ticks": ""
             }
            },
            "type": "parcoords"
           }
          ],
          "pie": [
           {
            "automargin": true,
            "type": "pie"
           }
          ],
          "scatter": [
           {
            "marker": {
             "colorbar": {
              "outlinewidth": 0,
              "ticks": ""
             }
            },
            "type": "scatter"
           }
          ],
          "scatter3d": [
           {
            "line": {
             "colorbar": {
              "outlinewidth": 0,
              "ticks": ""
             }
            },
            "marker": {
             "colorbar": {
              "outlinewidth": 0,
              "ticks": ""
             }
            },
            "type": "scatter3d"
           }
          ],
          "scattercarpet": [
           {
            "marker": {
             "colorbar": {
              "outlinewidth": 0,
              "ticks": ""
             }
            },
            "type": "scattercarpet"
           }
          ],
          "scattergeo": [
           {
            "marker": {
             "colorbar": {
              "outlinewidth": 0,
              "ticks": ""
             }
            },
            "type": "scattergeo"
           }
          ],
          "scattergl": [
           {
            "marker": {
             "colorbar": {
              "outlinewidth": 0,
              "ticks": ""
             }
            },
            "type": "scattergl"
           }
          ],
          "scattermapbox": [
           {
            "marker": {
             "colorbar": {
              "outlinewidth": 0,
              "ticks": ""
             }
            },
            "type": "scattermapbox"
           }
          ],
          "scatterpolar": [
           {
            "marker": {
             "colorbar": {
              "outlinewidth": 0,
              "ticks": ""
             }
            },
            "type": "scatterpolar"
           }
          ],
          "scatterpolargl": [
           {
            "marker": {
             "colorbar": {
              "outlinewidth": 0,
              "ticks": ""
             }
            },
            "type": "scatterpolargl"
           }
          ],
          "scatterternary": [
           {
            "marker": {
             "colorbar": {
              "outlinewidth": 0,
              "ticks": ""
             }
            },
            "type": "scatterternary"
           }
          ],
          "surface": [
           {
            "colorbar": {
             "outlinewidth": 0,
             "ticks": ""
            },
            "colorscale": [
             [
              0,
              "#0d0887"
             ],
             [
              0.1111111111111111,
              "#46039f"
             ],
             [
              0.2222222222222222,
              "#7201a8"
             ],
             [
              0.3333333333333333,
              "#9c179e"
             ],
             [
              0.4444444444444444,
              "#bd3786"
             ],
             [
              0.5555555555555556,
              "#d8576b"
             ],
             [
              0.6666666666666666,
              "#ed7953"
             ],
             [
              0.7777777777777778,
              "#fb9f3a"
             ],
             [
              0.8888888888888888,
              "#fdca26"
             ],
             [
              1,
              "#f0f921"
             ]
            ],
            "type": "surface"
           }
          ],
          "table": [
           {
            "cells": {
             "fill": {
              "color": "#EBF0F8"
             },
             "line": {
              "color": "white"
             }
            },
            "header": {
             "fill": {
              "color": "#C8D4E3"
             },
             "line": {
              "color": "white"
             }
            },
            "type": "table"
           }
          ]
         },
         "layout": {
          "annotationdefaults": {
           "arrowcolor": "#2a3f5f",
           "arrowhead": 0,
           "arrowwidth": 1
          },
          "coloraxis": {
           "colorbar": {
            "outlinewidth": 0,
            "ticks": ""
           }
          },
          "colorscale": {
           "diverging": [
            [
             0,
             "#8e0152"
            ],
            [
             0.1,
             "#c51b7d"
            ],
            [
             0.2,
             "#de77ae"
            ],
            [
             0.3,
             "#f1b6da"
            ],
            [
             0.4,
             "#fde0ef"
            ],
            [
             0.5,
             "#f7f7f7"
            ],
            [
             0.6,
             "#e6f5d0"
            ],
            [
             0.7,
             "#b8e186"
            ],
            [
             0.8,
             "#7fbc41"
            ],
            [
             0.9,
             "#4d9221"
            ],
            [
             1,
             "#276419"
            ]
           ],
           "sequential": [
            [
             0,
             "#0d0887"
            ],
            [
             0.1111111111111111,
             "#46039f"
            ],
            [
             0.2222222222222222,
             "#7201a8"
            ],
            [
             0.3333333333333333,
             "#9c179e"
            ],
            [
             0.4444444444444444,
             "#bd3786"
            ],
            [
             0.5555555555555556,
             "#d8576b"
            ],
            [
             0.6666666666666666,
             "#ed7953"
            ],
            [
             0.7777777777777778,
             "#fb9f3a"
            ],
            [
             0.8888888888888888,
             "#fdca26"
            ],
            [
             1,
             "#f0f921"
            ]
           ],
           "sequentialminus": [
            [
             0,
             "#0d0887"
            ],
            [
             0.1111111111111111,
             "#46039f"
            ],
            [
             0.2222222222222222,
             "#7201a8"
            ],
            [
             0.3333333333333333,
             "#9c179e"
            ],
            [
             0.4444444444444444,
             "#bd3786"
            ],
            [
             0.5555555555555556,
             "#d8576b"
            ],
            [
             0.6666666666666666,
             "#ed7953"
            ],
            [
             0.7777777777777778,
             "#fb9f3a"
            ],
            [
             0.8888888888888888,
             "#fdca26"
            ],
            [
             1,
             "#f0f921"
            ]
           ]
          },
          "colorway": [
           "#636efa",
           "#EF553B",
           "#00cc96",
           "#ab63fa",
           "#FFA15A",
           "#19d3f3",
           "#FF6692",
           "#B6E880",
           "#FF97FF",
           "#FECB52"
          ],
          "font": {
           "color": "#2a3f5f"
          },
          "geo": {
           "bgcolor": "white",
           "lakecolor": "white",
           "landcolor": "#E5ECF6",
           "showlakes": true,
           "showland": true,
           "subunitcolor": "white"
          },
          "hoverlabel": {
           "align": "left"
          },
          "hovermode": "closest",
          "mapbox": {
           "style": "light"
          },
          "paper_bgcolor": "white",
          "plot_bgcolor": "#E5ECF6",
          "polar": {
           "angularaxis": {
            "gridcolor": "white",
            "linecolor": "white",
            "ticks": ""
           },
           "bgcolor": "#E5ECF6",
           "radialaxis": {
            "gridcolor": "white",
            "linecolor": "white",
            "ticks": ""
           }
          },
          "scene": {
           "xaxis": {
            "backgroundcolor": "#E5ECF6",
            "gridcolor": "white",
            "gridwidth": 2,
            "linecolor": "white",
            "showbackground": true,
            "ticks": "",
            "zerolinecolor": "white"
           },
           "yaxis": {
            "backgroundcolor": "#E5ECF6",
            "gridcolor": "white",
            "gridwidth": 2,
            "linecolor": "white",
            "showbackground": true,
            "ticks": "",
            "zerolinecolor": "white"
           },
           "zaxis": {
            "backgroundcolor": "#E5ECF6",
            "gridcolor": "white",
            "gridwidth": 2,
            "linecolor": "white",
            "showbackground": true,
            "ticks": "",
            "zerolinecolor": "white"
           }
          },
          "shapedefaults": {
           "line": {
            "color": "#2a3f5f"
           }
          },
          "ternary": {
           "aaxis": {
            "gridcolor": "white",
            "linecolor": "white",
            "ticks": ""
           },
           "baxis": {
            "gridcolor": "white",
            "linecolor": "white",
            "ticks": ""
           },
           "bgcolor": "#E5ECF6",
           "caxis": {
            "gridcolor": "white",
            "linecolor": "white",
            "ticks": ""
           }
          },
          "title": {
           "x": 0.05
          },
          "xaxis": {
           "automargin": true,
           "gridcolor": "white",
           "linecolor": "white",
           "ticks": "",
           "title": {
            "standoff": 15
           },
           "zerolinecolor": "white",
           "zerolinewidth": 2
          },
          "yaxis": {
           "automargin": true,
           "gridcolor": "white",
           "linecolor": "white",
           "ticks": "",
           "title": {
            "standoff": 15
           },
           "zerolinecolor": "white",
           "zerolinewidth": 2
          }
         }
        }
       }
      }
     },
     "metadata": {}
    }
   ],
   "source": [
    "fig = px.scatter_mapbox(company_zip, 'Latitude', 'Longitude')\n",
    "fig.show()"
   ]
  },
  {
   "source": [
    "# Preprocess MTA data"
   ],
   "cell_type": "markdown",
   "metadata": {}
  },
  {
   "source": [
    "# remove trailing spaces in column names\n",
    "mta.columns = [col.strip() for col in mta.columns]\n",
    "\n",
    "# create a single new column with Date and Time combined\n",
    "mta['DATETIME'] = pd.to_datetime(mta['DATE'] + \" \" + mta['TIME'])\n",
    "\n",
    "# Get rid of the duplicate entry\n",
    "mta.sort_values([\"C/A\", \"UNIT\", \"SCP\", \"STATION\", \"DATETIME\"], inplace=True, ascending=False)\n",
    "mta.drop_duplicates(subset=[\"C/A\", \"UNIT\", \"SCP\", \"STATION\", \"DATETIME\"], inplace=True)\n"
   ],
   "cell_type": "code",
   "metadata": {},
   "execution_count": 219,
   "outputs": []
  },
  {
   "source": [
    "# MTA Data Analysis"
   ],
   "cell_type": "markdown",
   "metadata": {}
  },
  {
   "source": [
    "## Entries / Exits"
   ],
   "cell_type": "markdown",
   "metadata": {}
  },
  {
   "cell_type": "code",
   "execution_count": 220,
   "metadata": {},
   "outputs": [],
   "source": [
    "# group by unique turnstile identifiers\n",
    "# take the minimum entry value \n",
    "entries_by_date = mta.groupby(['C/A', 'UNIT', 'SCP', 'STATION', 'DATETIME'])['ENTRIES', 'EXITS'].min().reset_index()"
   ]
  },
  {
   "cell_type": "code",
   "execution_count": 221,
   "metadata": {},
   "outputs": [],
   "source": [
    "# shift the rows down by one and create a previous entries/exits on the same row\n",
    "entries_by_date[[\"PREV_DATE\", 'PREV_ENTRIES', 'PREV_EXITS']] = (entries_by_date.groupby([\"C/A\", \"UNIT\", \"SCP\", \"STATION\"])[\"DATETIME\", 'ENTRIES', 'EXITS'].apply(lambda x: x.shift(1)))\n"
   ]
  },
  {
   "cell_type": "code",
   "execution_count": 222,
   "metadata": {},
   "outputs": [],
   "source": [
    "# Drop the rows for the earliest date in the data\n",
    "entries_by_date.dropna(subset=[\"PREV_DATE\"], axis=0, inplace=True)"
   ]
  },
  {
   "cell_type": "code",
   "execution_count": 223,
   "metadata": {},
   "outputs": [],
   "source": [
    "entries_by_date['DAILY_ENTRIES'] = entries_by_date['ENTRIES']-entries_by_date['PREV_ENTRIES']\n",
    "entries_by_date['DAILY_EXITS'] = entries_by_date['EXITS'] - entries_by_date['PREV_EXITS']"
   ]
  },
  {
   "cell_type": "code",
   "execution_count": 224,
   "metadata": {},
   "outputs": [],
   "source": [
    "# set negative entry values to positive values \n",
    "entries_by_date['DAILY_ENTRIES'] = entries_by_date['DAILY_ENTRIES'].apply(lambda x: abs(x) if x<0 else x)\n",
    "entries_by_date['DAILY_EXITS'] = entries_by_date['DAILY_EXITS'].apply(lambda x: abs(x) if x<0 else x)"
   ]
  },
  {
   "cell_type": "code",
   "execution_count": 225,
   "metadata": {},
   "outputs": [],
   "source": [
    "# set excessively large entries to NaN\n",
    "entries_by_date.loc[(entries_by_date['DAILY_ENTRIES']>100000) | (entries_by_date['DAILY_ENTRIES']==0)] = np.nan\n",
    "entries_by_date.loc[(entries_by_date['DAILY_EXITS']>100000) | (entries_by_date['DAILY_EXITS']==0)] = np.nan\n"
   ]
  },
  {
   "cell_type": "code",
   "execution_count": 226,
   "metadata": {},
   "outputs": [],
   "source": [
    "# add up daily entries and exits to get total traffic\n",
    "entries_by_date['TOTAL_TRAFFIC'] = entries_by_date['DAILY_ENTRIES'] + entries_by_date['DAILY_EXITS']"
   ]
  },
  {
   "source": [
    "## Group by station / total traffic for september "
   ],
   "cell_type": "markdown",
   "metadata": {}
  },
  {
   "cell_type": "code",
   "execution_count": 227,
   "metadata": {},
   "outputs": [
    {
     "output_type": "execute_result",
     "data": {
      "text/plain": "           STATION  TOTAL_TRAFFIC\n0   34 ST-PENN STA      1271545.0\n1  34 ST-HERALD SQ      1039988.0\n2           125 ST       972648.0\n3            86 ST       950062.0\n4   14 ST-UNION SQ       878973.0\n5  GRD CNTRL-42 ST       872828.0\n6  42 ST-PORT AUTH       852579.0\n7            23 ST       765142.0\n8    FLUSHING-MAIN       751172.0\n9        FULTON ST       704916.0",
      "text/html": "<div>\n<style scoped>\n    .dataframe tbody tr th:only-of-type {\n        vertical-align: middle;\n    }\n\n    .dataframe tbody tr th {\n        vertical-align: top;\n    }\n\n    .dataframe thead th {\n        text-align: right;\n    }\n</style>\n<table border=\"1\" class=\"dataframe\">\n  <thead>\n    <tr style=\"text-align: right;\">\n      <th></th>\n      <th>STATION</th>\n      <th>TOTAL_TRAFFIC</th>\n    </tr>\n  </thead>\n  <tbody>\n    <tr>\n      <th>0</th>\n      <td>34 ST-PENN STA</td>\n      <td>1271545.0</td>\n    </tr>\n    <tr>\n      <th>1</th>\n      <td>34 ST-HERALD SQ</td>\n      <td>1039988.0</td>\n    </tr>\n    <tr>\n      <th>2</th>\n      <td>125 ST</td>\n      <td>972648.0</td>\n    </tr>\n    <tr>\n      <th>3</th>\n      <td>86 ST</td>\n      <td>950062.0</td>\n    </tr>\n    <tr>\n      <th>4</th>\n      <td>14 ST-UNION SQ</td>\n      <td>878973.0</td>\n    </tr>\n    <tr>\n      <th>5</th>\n      <td>GRD CNTRL-42 ST</td>\n      <td>872828.0</td>\n    </tr>\n    <tr>\n      <th>6</th>\n      <td>42 ST-PORT AUTH</td>\n      <td>852579.0</td>\n    </tr>\n    <tr>\n      <th>7</th>\n      <td>23 ST</td>\n      <td>765142.0</td>\n    </tr>\n    <tr>\n      <th>8</th>\n      <td>FLUSHING-MAIN</td>\n      <td>751172.0</td>\n    </tr>\n    <tr>\n      <th>9</th>\n      <td>FULTON ST</td>\n      <td>704916.0</td>\n    </tr>\n  </tbody>\n</table>\n</div>"
     },
     "metadata": {},
     "execution_count": 227
    }
   ],
   "source": [
    "# group by station to get total entries for the month of september for each station\n",
    "station_traffic = entries_by_date.groupby('STATION')['TOTAL_TRAFFIC'].sum().sort_values(ascending=False).reset_index()\n",
    "station_traffic.head(10)"
   ]
  },
  {
   "cell_type": "code",
   "execution_count": 465,
   "metadata": {},
   "outputs": [
    {
     "output_type": "display_data",
     "data": {
      "text/plain": "<Figure size 720x216 with 1 Axes>",
      "image/svg+xml": "<?xml version=\"1.0\" encoding=\"utf-8\" standalone=\"no\"?>\n<!DOCTYPE svg PUBLIC \"-//W3C//DTD SVG 1.1//EN\"\n  \"http://www.w3.org/Graphics/SVG/1.1/DTD/svg11.dtd\">\n<!-- Created with matplotlib (https://matplotlib.org/) -->\n<svg height=\"215.758125pt\" version=\"1.1\" viewBox=\"0 0 669.859375 215.758125\" width=\"669.859375pt\" xmlns=\"http://www.w3.org/2000/svg\" xmlns:xlink=\"http://www.w3.org/1999/xlink\">\n <metadata>\n  <rdf:RDF xmlns:cc=\"http://creativecommons.org/ns#\" xmlns:dc=\"http://purl.org/dc/elements/1.1/\" xmlns:rdf=\"http://www.w3.org/1999/02/22-rdf-syntax-ns#\">\n   <cc:Work>\n    <dc:type rdf:resource=\"http://purl.org/dc/dcmitype/StillImage\"/>\n    <dc:date>2020-09-27T11:37:02.178538</dc:date>\n    <dc:format>image/svg+xml</dc:format>\n    <dc:creator>\n     <cc:Agent>\n      <dc:title>Matplotlib v3.3.1, https://matplotlib.org/</dc:title>\n     </cc:Agent>\n    </dc:creator>\n   </cc:Work>\n  </rdf:RDF>\n </metadata>\n <defs>\n  <style type=\"text/css\">*{stroke-linecap:butt;stroke-linejoin:round;}</style>\n </defs>\n <g id=\"figure_1\">\n  <g id=\"patch_1\">\n   <path d=\"M 0 215.758125 \nL 669.859375 215.758125 \nL 669.859375 -0 \nL 0 -0 \nz\n\" style=\"fill:none;\"/>\n  </g>\n  <g id=\"axes_1\">\n   <g id=\"patch_2\">\n    <path d=\"M 104.659375 191.88 \nL 662.659375 191.88 \nL 662.659375 28.8 \nL 104.659375 28.8 \nz\n\" style=\"fill:#ffffff;\"/>\n   </g>\n   <g id=\"patch_3\">\n    <path clip-path=\"url(#p4e80898a42)\" d=\"M 104.659375 36.212727 \nL 636.087946 36.212727 \nL 636.087946 48.315139 \nL 104.659375 48.315139 \nz\n\" style=\"fill:#1f77b4;\"/>\n   </g>\n   <g id=\"patch_4\">\n    <path clip-path=\"url(#p4e80898a42)\" d=\"M 104.659375 51.340742 \nL 539.311186 51.340742 \nL 539.311186 63.443154 \nL 104.659375 63.443154 \nz\n\" style=\"fill:#1f77b4;\"/>\n   </g>\n   <g id=\"patch_5\">\n    <path clip-path=\"url(#p4e80898a42)\" d=\"M 104.659375 66.468757 \nL 511.167157 66.468757 \nL 511.167157 78.571169 \nL 104.659375 78.571169 \nz\n\" style=\"fill:#1f77b4;\"/>\n   </g>\n   <g id=\"patch_6\">\n    <path clip-path=\"url(#p4e80898a42)\" d=\"M 104.659375 81.596772 \nL 501.727581 81.596772 \nL 501.727581 93.699184 \nL 104.659375 93.699184 \nz\n\" style=\"fill:#1f77b4;\"/>\n   </g>\n   <g id=\"patch_7\">\n    <path clip-path=\"url(#p4e80898a42)\" d=\"M 104.659375 96.724787 \nL 472.016697 96.724787 \nL 472.016697 108.827199 \nL 104.659375 108.827199 \nz\n\" style=\"fill:#1f77b4;\"/>\n   </g>\n   <g id=\"patch_8\">\n    <path clip-path=\"url(#p4e80898a42)\" d=\"M 104.659375 111.852801 \nL 469.44846 111.852801 \nL 469.44846 123.955213 \nL 104.659375 123.955213 \nz\n\" style=\"fill:#1f77b4;\"/>\n   </g>\n   <g id=\"patch_9\">\n    <path clip-path=\"url(#p4e80898a42)\" d=\"M 104.659375 126.980816 \nL 460.985608 126.980816 \nL 460.985608 139.083228 \nL 104.659375 139.083228 \nz\n\" style=\"fill:#1f77b4;\"/>\n   </g>\n   <g id=\"patch_10\">\n    <path clip-path=\"url(#p4e80898a42)\" d=\"M 104.659375 142.108831 \nL 424.442253 142.108831 \nL 424.442253 154.211243 \nL 104.659375 154.211243 \nz\n\" style=\"fill:#1f77b4;\"/>\n   </g>\n   <g id=\"patch_11\">\n    <path clip-path=\"url(#p4e80898a42)\" d=\"M 104.659375 157.236846 \nL 418.603642 157.236846 \nL 418.603642 169.339258 \nL 104.659375 169.339258 \nz\n\" style=\"fill:#1f77b4;\"/>\n   </g>\n   <g id=\"patch_12\">\n    <path clip-path=\"url(#p4e80898a42)\" d=\"M 104.659375 172.364861 \nL 399.271444 172.364861 \nL 399.271444 184.467273 \nL 104.659375 184.467273 \nz\n\" style=\"fill:#1f77b4;\"/>\n   </g>\n   <g id=\"matplotlib.axis_1\">\n    <g id=\"xtick_1\">\n     <g id=\"line2d_1\">\n      <defs>\n       <path d=\"M 0 0 \nL 0 3.5 \n\" id=\"m5b23548b39\" style=\"stroke:#000000;stroke-width:0.8;\"/>\n      </defs>\n      <g>\n       <use style=\"stroke:#000000;stroke-width:0.8;\" x=\"104.659375\" xlink:href=\"#m5b23548b39\" y=\"191.88\"/>\n      </g>\n     </g>\n     <g id=\"text_1\">\n      <!-- 0 -->\n      <g transform=\"translate(101.478125 206.478438)scale(0.1 -0.1)\">\n       <defs>\n        <path d=\"M 31.78125 66.40625 \nQ 24.171875 66.40625 20.328125 58.90625 \nQ 16.5 51.421875 16.5 36.375 \nQ 16.5 21.390625 20.328125 13.890625 \nQ 24.171875 6.390625 31.78125 6.390625 \nQ 39.453125 6.390625 43.28125 13.890625 \nQ 47.125 21.390625 47.125 36.375 \nQ 47.125 51.421875 43.28125 58.90625 \nQ 39.453125 66.40625 31.78125 66.40625 \nz\nM 31.78125 74.21875 \nQ 44.046875 74.21875 50.515625 64.515625 \nQ 56.984375 54.828125 56.984375 36.375 \nQ 56.984375 17.96875 50.515625 8.265625 \nQ 44.046875 -1.421875 31.78125 -1.421875 \nQ 19.53125 -1.421875 13.0625 8.265625 \nQ 6.59375 17.96875 6.59375 36.375 \nQ 6.59375 54.828125 13.0625 64.515625 \nQ 19.53125 74.21875 31.78125 74.21875 \nz\n\" id=\"DejaVuSans-48\"/>\n       </defs>\n       <use xlink:href=\"#DejaVuSans-48\"/>\n      </g>\n     </g>\n    </g>\n    <g id=\"xtick_2\">\n     <g id=\"line2d_2\">\n      <g>\n       <use style=\"stroke:#000000;stroke-width:0.8;\" x=\"188.247226\" xlink:href=\"#m5b23548b39\" y=\"191.88\"/>\n      </g>\n     </g>\n     <g id=\"text_2\">\n      <!-- 200000 -->\n      <g transform=\"translate(169.159726 206.478438)scale(0.1 -0.1)\">\n       <defs>\n        <path d=\"M 19.1875 8.296875 \nL 53.609375 8.296875 \nL 53.609375 0 \nL 7.328125 0 \nL 7.328125 8.296875 \nQ 12.9375 14.109375 22.625 23.890625 \nQ 32.328125 33.6875 34.8125 36.53125 \nQ 39.546875 41.84375 41.421875 45.53125 \nQ 43.3125 49.21875 43.3125 52.78125 \nQ 43.3125 58.59375 39.234375 62.25 \nQ 35.15625 65.921875 28.609375 65.921875 \nQ 23.96875 65.921875 18.8125 64.3125 \nQ 13.671875 62.703125 7.8125 59.421875 \nL 7.8125 69.390625 \nQ 13.765625 71.78125 18.9375 73 \nQ 24.125 74.21875 28.421875 74.21875 \nQ 39.75 74.21875 46.484375 68.546875 \nQ 53.21875 62.890625 53.21875 53.421875 \nQ 53.21875 48.921875 51.53125 44.890625 \nQ 49.859375 40.875 45.40625 35.40625 \nQ 44.1875 33.984375 37.640625 27.21875 \nQ 31.109375 20.453125 19.1875 8.296875 \nz\n\" id=\"DejaVuSans-50\"/>\n       </defs>\n       <use xlink:href=\"#DejaVuSans-50\"/>\n       <use x=\"63.623047\" xlink:href=\"#DejaVuSans-48\"/>\n       <use x=\"127.246094\" xlink:href=\"#DejaVuSans-48\"/>\n       <use x=\"190.869141\" xlink:href=\"#DejaVuSans-48\"/>\n       <use x=\"254.492188\" xlink:href=\"#DejaVuSans-48\"/>\n       <use x=\"318.115234\" xlink:href=\"#DejaVuSans-48\"/>\n      </g>\n     </g>\n    </g>\n    <g id=\"xtick_3\">\n     <g id=\"line2d_3\">\n      <g>\n       <use style=\"stroke:#000000;stroke-width:0.8;\" x=\"271.835077\" xlink:href=\"#m5b23548b39\" y=\"191.88\"/>\n      </g>\n     </g>\n     <g id=\"text_3\">\n      <!-- 400000 -->\n      <g transform=\"translate(252.747577 206.478438)scale(0.1 -0.1)\">\n       <defs>\n        <path d=\"M 37.796875 64.3125 \nL 12.890625 25.390625 \nL 37.796875 25.390625 \nz\nM 35.203125 72.90625 \nL 47.609375 72.90625 \nL 47.609375 25.390625 \nL 58.015625 25.390625 \nL 58.015625 17.1875 \nL 47.609375 17.1875 \nL 47.609375 0 \nL 37.796875 0 \nL 37.796875 17.1875 \nL 4.890625 17.1875 \nL 4.890625 26.703125 \nz\n\" id=\"DejaVuSans-52\"/>\n       </defs>\n       <use xlink:href=\"#DejaVuSans-52\"/>\n       <use x=\"63.623047\" xlink:href=\"#DejaVuSans-48\"/>\n       <use x=\"127.246094\" xlink:href=\"#DejaVuSans-48\"/>\n       <use x=\"190.869141\" xlink:href=\"#DejaVuSans-48\"/>\n       <use x=\"254.492188\" xlink:href=\"#DejaVuSans-48\"/>\n       <use x=\"318.115234\" xlink:href=\"#DejaVuSans-48\"/>\n      </g>\n     </g>\n    </g>\n    <g id=\"xtick_4\">\n     <g id=\"line2d_4\">\n      <g>\n       <use style=\"stroke:#000000;stroke-width:0.8;\" x=\"355.422929\" xlink:href=\"#m5b23548b39\" y=\"191.88\"/>\n      </g>\n     </g>\n     <g id=\"text_4\">\n      <!-- 600000 -->\n      <g transform=\"translate(336.335429 206.478438)scale(0.1 -0.1)\">\n       <defs>\n        <path d=\"M 33.015625 40.375 \nQ 26.375 40.375 22.484375 35.828125 \nQ 18.609375 31.296875 18.609375 23.390625 \nQ 18.609375 15.53125 22.484375 10.953125 \nQ 26.375 6.390625 33.015625 6.390625 \nQ 39.65625 6.390625 43.53125 10.953125 \nQ 47.40625 15.53125 47.40625 23.390625 \nQ 47.40625 31.296875 43.53125 35.828125 \nQ 39.65625 40.375 33.015625 40.375 \nz\nM 52.59375 71.296875 \nL 52.59375 62.3125 \nQ 48.875 64.0625 45.09375 64.984375 \nQ 41.3125 65.921875 37.59375 65.921875 \nQ 27.828125 65.921875 22.671875 59.328125 \nQ 17.53125 52.734375 16.796875 39.40625 \nQ 19.671875 43.65625 24.015625 45.921875 \nQ 28.375 48.1875 33.59375 48.1875 \nQ 44.578125 48.1875 50.953125 41.515625 \nQ 57.328125 34.859375 57.328125 23.390625 \nQ 57.328125 12.15625 50.6875 5.359375 \nQ 44.046875 -1.421875 33.015625 -1.421875 \nQ 20.359375 -1.421875 13.671875 8.265625 \nQ 6.984375 17.96875 6.984375 36.375 \nQ 6.984375 53.65625 15.1875 63.9375 \nQ 23.390625 74.21875 37.203125 74.21875 \nQ 40.921875 74.21875 44.703125 73.484375 \nQ 48.484375 72.75 52.59375 71.296875 \nz\n\" id=\"DejaVuSans-54\"/>\n       </defs>\n       <use xlink:href=\"#DejaVuSans-54\"/>\n       <use x=\"63.623047\" xlink:href=\"#DejaVuSans-48\"/>\n       <use x=\"127.246094\" xlink:href=\"#DejaVuSans-48\"/>\n       <use x=\"190.869141\" xlink:href=\"#DejaVuSans-48\"/>\n       <use x=\"254.492188\" xlink:href=\"#DejaVuSans-48\"/>\n       <use x=\"318.115234\" xlink:href=\"#DejaVuSans-48\"/>\n      </g>\n     </g>\n    </g>\n    <g id=\"xtick_5\">\n     <g id=\"line2d_5\">\n      <g>\n       <use style=\"stroke:#000000;stroke-width:0.8;\" x=\"439.01078\" xlink:href=\"#m5b23548b39\" y=\"191.88\"/>\n      </g>\n     </g>\n     <g id=\"text_5\">\n      <!-- 800000 -->\n      <g transform=\"translate(419.92328 206.478438)scale(0.1 -0.1)\">\n       <defs>\n        <path d=\"M 31.78125 34.625 \nQ 24.75 34.625 20.71875 30.859375 \nQ 16.703125 27.09375 16.703125 20.515625 \nQ 16.703125 13.921875 20.71875 10.15625 \nQ 24.75 6.390625 31.78125 6.390625 \nQ 38.8125 6.390625 42.859375 10.171875 \nQ 46.921875 13.96875 46.921875 20.515625 \nQ 46.921875 27.09375 42.890625 30.859375 \nQ 38.875 34.625 31.78125 34.625 \nz\nM 21.921875 38.8125 \nQ 15.578125 40.375 12.03125 44.71875 \nQ 8.5 49.078125 8.5 55.328125 \nQ 8.5 64.0625 14.71875 69.140625 \nQ 20.953125 74.21875 31.78125 74.21875 \nQ 42.671875 74.21875 48.875 69.140625 \nQ 55.078125 64.0625 55.078125 55.328125 \nQ 55.078125 49.078125 51.53125 44.71875 \nQ 48 40.375 41.703125 38.8125 \nQ 48.828125 37.15625 52.796875 32.3125 \nQ 56.78125 27.484375 56.78125 20.515625 \nQ 56.78125 9.90625 50.3125 4.234375 \nQ 43.84375 -1.421875 31.78125 -1.421875 \nQ 19.734375 -1.421875 13.25 4.234375 \nQ 6.78125 9.90625 6.78125 20.515625 \nQ 6.78125 27.484375 10.78125 32.3125 \nQ 14.796875 37.15625 21.921875 38.8125 \nz\nM 18.3125 54.390625 \nQ 18.3125 48.734375 21.84375 45.5625 \nQ 25.390625 42.390625 31.78125 42.390625 \nQ 38.140625 42.390625 41.71875 45.5625 \nQ 45.3125 48.734375 45.3125 54.390625 \nQ 45.3125 60.0625 41.71875 63.234375 \nQ 38.140625 66.40625 31.78125 66.40625 \nQ 25.390625 66.40625 21.84375 63.234375 \nQ 18.3125 60.0625 18.3125 54.390625 \nz\n\" id=\"DejaVuSans-56\"/>\n       </defs>\n       <use xlink:href=\"#DejaVuSans-56\"/>\n       <use x=\"63.623047\" xlink:href=\"#DejaVuSans-48\"/>\n       <use x=\"127.246094\" xlink:href=\"#DejaVuSans-48\"/>\n       <use x=\"190.869141\" xlink:href=\"#DejaVuSans-48\"/>\n       <use x=\"254.492188\" xlink:href=\"#DejaVuSans-48\"/>\n       <use x=\"318.115234\" xlink:href=\"#DejaVuSans-48\"/>\n      </g>\n     </g>\n    </g>\n    <g id=\"xtick_6\">\n     <g id=\"line2d_6\">\n      <g>\n       <use style=\"stroke:#000000;stroke-width:0.8;\" x=\"522.598631\" xlink:href=\"#m5b23548b39\" y=\"191.88\"/>\n      </g>\n     </g>\n     <g id=\"text_6\">\n      <!-- 1000000 -->\n      <g transform=\"translate(500.329881 206.478438)scale(0.1 -0.1)\">\n       <defs>\n        <path d=\"M 12.40625 8.296875 \nL 28.515625 8.296875 \nL 28.515625 63.921875 \nL 10.984375 60.40625 \nL 10.984375 69.390625 \nL 28.421875 72.90625 \nL 38.28125 72.90625 \nL 38.28125 8.296875 \nL 54.390625 8.296875 \nL 54.390625 0 \nL 12.40625 0 \nz\n\" id=\"DejaVuSans-49\"/>\n       </defs>\n       <use xlink:href=\"#DejaVuSans-49\"/>\n       <use x=\"63.623047\" xlink:href=\"#DejaVuSans-48\"/>\n       <use x=\"127.246094\" xlink:href=\"#DejaVuSans-48\"/>\n       <use x=\"190.869141\" xlink:href=\"#DejaVuSans-48\"/>\n       <use x=\"254.492188\" xlink:href=\"#DejaVuSans-48\"/>\n       <use x=\"318.115234\" xlink:href=\"#DejaVuSans-48\"/>\n       <use x=\"381.738281\" xlink:href=\"#DejaVuSans-48\"/>\n      </g>\n     </g>\n    </g>\n    <g id=\"xtick_7\">\n     <g id=\"line2d_7\">\n      <g>\n       <use style=\"stroke:#000000;stroke-width:0.8;\" x=\"606.186482\" xlink:href=\"#m5b23548b39\" y=\"191.88\"/>\n      </g>\n     </g>\n     <g id=\"text_7\">\n      <!-- 1200000 -->\n      <g transform=\"translate(583.917732 206.478438)scale(0.1 -0.1)\">\n       <use xlink:href=\"#DejaVuSans-49\"/>\n       <use x=\"63.623047\" xlink:href=\"#DejaVuSans-50\"/>\n       <use x=\"127.246094\" xlink:href=\"#DejaVuSans-48\"/>\n       <use x=\"190.869141\" xlink:href=\"#DejaVuSans-48\"/>\n       <use x=\"254.492188\" xlink:href=\"#DejaVuSans-48\"/>\n       <use x=\"318.115234\" xlink:href=\"#DejaVuSans-48\"/>\n       <use x=\"381.738281\" xlink:href=\"#DejaVuSans-48\"/>\n      </g>\n     </g>\n    </g>\n   </g>\n   <g id=\"matplotlib.axis_2\">\n    <g id=\"ytick_1\">\n     <g id=\"line2d_8\">\n      <defs>\n       <path d=\"M 0 0 \nL -3.5 0 \n\" id=\"m8d0bf0283f\" style=\"stroke:#000000;stroke-width:0.8;\"/>\n      </defs>\n      <g>\n       <use style=\"stroke:#000000;stroke-width:0.8;\" x=\"104.659375\" xlink:href=\"#m8d0bf0283f\" y=\"42.263933\"/>\n      </g>\n     </g>\n     <g id=\"text_8\">\n      <!-- 34 ST-PENN STA -->\n      <g transform=\"translate(17.59375 46.063152)scale(0.1 -0.1)\">\n       <defs>\n        <path d=\"M 40.578125 39.3125 \nQ 47.65625 37.796875 51.625 33 \nQ 55.609375 28.21875 55.609375 21.1875 \nQ 55.609375 10.40625 48.1875 4.484375 \nQ 40.765625 -1.421875 27.09375 -1.421875 \nQ 22.515625 -1.421875 17.65625 -0.515625 \nQ 12.796875 0.390625 7.625 2.203125 \nL 7.625 11.71875 \nQ 11.71875 9.328125 16.59375 8.109375 \nQ 21.484375 6.890625 26.8125 6.890625 \nQ 36.078125 6.890625 40.9375 10.546875 \nQ 45.796875 14.203125 45.796875 21.1875 \nQ 45.796875 27.640625 41.28125 31.265625 \nQ 36.765625 34.90625 28.71875 34.90625 \nL 20.21875 34.90625 \nL 20.21875 43.015625 \nL 29.109375 43.015625 \nQ 36.375 43.015625 40.234375 45.921875 \nQ 44.09375 48.828125 44.09375 54.296875 \nQ 44.09375 59.90625 40.109375 62.90625 \nQ 36.140625 65.921875 28.71875 65.921875 \nQ 24.65625 65.921875 20.015625 65.03125 \nQ 15.375 64.15625 9.8125 62.3125 \nL 9.8125 71.09375 \nQ 15.4375 72.65625 20.34375 73.4375 \nQ 25.25 74.21875 29.59375 74.21875 \nQ 40.828125 74.21875 47.359375 69.109375 \nQ 53.90625 64.015625 53.90625 55.328125 \nQ 53.90625 49.265625 50.4375 45.09375 \nQ 46.96875 40.921875 40.578125 39.3125 \nz\n\" id=\"DejaVuSans-51\"/>\n        <path id=\"DejaVuSans-32\"/>\n        <path d=\"M 53.515625 70.515625 \nL 53.515625 60.890625 \nQ 47.90625 63.578125 42.921875 64.890625 \nQ 37.9375 66.21875 33.296875 66.21875 \nQ 25.25 66.21875 20.875 63.09375 \nQ 16.5 59.96875 16.5 54.203125 \nQ 16.5 49.359375 19.40625 46.890625 \nQ 22.3125 44.4375 30.421875 42.921875 \nL 36.375 41.703125 \nQ 47.40625 39.59375 52.65625 34.296875 \nQ 57.90625 29 57.90625 20.125 \nQ 57.90625 9.515625 50.796875 4.046875 \nQ 43.703125 -1.421875 29.984375 -1.421875 \nQ 24.8125 -1.421875 18.96875 -0.25 \nQ 13.140625 0.921875 6.890625 3.21875 \nL 6.890625 13.375 \nQ 12.890625 10.015625 18.65625 8.296875 \nQ 24.421875 6.59375 29.984375 6.59375 \nQ 38.421875 6.59375 43.015625 9.90625 \nQ 47.609375 13.234375 47.609375 19.390625 \nQ 47.609375 24.75 44.3125 27.78125 \nQ 41.015625 30.8125 33.5 32.328125 \nL 27.484375 33.5 \nQ 16.453125 35.6875 11.515625 40.375 \nQ 6.59375 45.0625 6.59375 53.421875 \nQ 6.59375 63.09375 13.40625 68.65625 \nQ 20.21875 74.21875 32.171875 74.21875 \nQ 37.3125 74.21875 42.625 73.28125 \nQ 47.953125 72.359375 53.515625 70.515625 \nz\n\" id=\"DejaVuSans-83\"/>\n        <path d=\"M -0.296875 72.90625 \nL 61.375 72.90625 \nL 61.375 64.59375 \nL 35.5 64.59375 \nL 35.5 0 \nL 25.59375 0 \nL 25.59375 64.59375 \nL -0.296875 64.59375 \nz\n\" id=\"DejaVuSans-84\"/>\n        <path d=\"M 4.890625 31.390625 \nL 31.203125 31.390625 \nL 31.203125 23.390625 \nL 4.890625 23.390625 \nz\n\" id=\"DejaVuSans-45\"/>\n        <path d=\"M 19.671875 64.796875 \nL 19.671875 37.40625 \nL 32.078125 37.40625 \nQ 38.96875 37.40625 42.71875 40.96875 \nQ 46.484375 44.53125 46.484375 51.125 \nQ 46.484375 57.671875 42.71875 61.234375 \nQ 38.96875 64.796875 32.078125 64.796875 \nz\nM 9.8125 72.90625 \nL 32.078125 72.90625 \nQ 44.34375 72.90625 50.609375 67.359375 \nQ 56.890625 61.8125 56.890625 51.125 \nQ 56.890625 40.328125 50.609375 34.8125 \nQ 44.34375 29.296875 32.078125 29.296875 \nL 19.671875 29.296875 \nL 19.671875 0 \nL 9.8125 0 \nz\n\" id=\"DejaVuSans-80\"/>\n        <path d=\"M 9.8125 72.90625 \nL 55.90625 72.90625 \nL 55.90625 64.59375 \nL 19.671875 64.59375 \nL 19.671875 43.015625 \nL 54.390625 43.015625 \nL 54.390625 34.71875 \nL 19.671875 34.71875 \nL 19.671875 8.296875 \nL 56.78125 8.296875 \nL 56.78125 0 \nL 9.8125 0 \nz\n\" id=\"DejaVuSans-69\"/>\n        <path d=\"M 9.8125 72.90625 \nL 23.09375 72.90625 \nL 55.421875 11.921875 \nL 55.421875 72.90625 \nL 64.984375 72.90625 \nL 64.984375 0 \nL 51.703125 0 \nL 19.390625 60.984375 \nL 19.390625 0 \nL 9.8125 0 \nz\n\" id=\"DejaVuSans-78\"/>\n        <path d=\"M 34.1875 63.1875 \nL 20.796875 26.90625 \nL 47.609375 26.90625 \nz\nM 28.609375 72.90625 \nL 39.796875 72.90625 \nL 67.578125 0 \nL 57.328125 0 \nL 50.6875 18.703125 \nL 17.828125 18.703125 \nL 11.1875 0 \nL 0.78125 0 \nz\n\" id=\"DejaVuSans-65\"/>\n       </defs>\n       <use xlink:href=\"#DejaVuSans-51\"/>\n       <use x=\"63.623047\" xlink:href=\"#DejaVuSans-52\"/>\n       <use x=\"127.246094\" xlink:href=\"#DejaVuSans-32\"/>\n       <use x=\"159.033203\" xlink:href=\"#DejaVuSans-83\"/>\n       <use x=\"222.509766\" xlink:href=\"#DejaVuSans-84\"/>\n       <use x=\"274.46875\" xlink:href=\"#DejaVuSans-45\"/>\n       <use x=\"310.552734\" xlink:href=\"#DejaVuSans-80\"/>\n       <use x=\"370.855469\" xlink:href=\"#DejaVuSans-69\"/>\n       <use x=\"434.039062\" xlink:href=\"#DejaVuSans-78\"/>\n       <use x=\"508.84375\" xlink:href=\"#DejaVuSans-78\"/>\n       <use x=\"583.648438\" xlink:href=\"#DejaVuSans-32\"/>\n       <use x=\"615.435547\" xlink:href=\"#DejaVuSans-83\"/>\n       <use x=\"678.912109\" xlink:href=\"#DejaVuSans-84\"/>\n       <use x=\"732.246094\" xlink:href=\"#DejaVuSans-65\"/>\n      </g>\n     </g>\n    </g>\n    <g id=\"ytick_2\">\n     <g id=\"line2d_9\">\n      <g>\n       <use style=\"stroke:#000000;stroke-width:0.8;\" x=\"104.659375\" xlink:href=\"#m8d0bf0283f\" y=\"57.391948\"/>\n      </g>\n     </g>\n     <g id=\"text_9\">\n      <!-- 34 ST-HERALD SQ -->\n      <g transform=\"translate(8.70625 61.191167)scale(0.1 -0.1)\">\n       <defs>\n        <path d=\"M 9.8125 72.90625 \nL 19.671875 72.90625 \nL 19.671875 43.015625 \nL 55.515625 43.015625 \nL 55.515625 72.90625 \nL 65.375 72.90625 \nL 65.375 0 \nL 55.515625 0 \nL 55.515625 34.71875 \nL 19.671875 34.71875 \nL 19.671875 0 \nL 9.8125 0 \nz\n\" id=\"DejaVuSans-72\"/>\n        <path d=\"M 44.390625 34.1875 \nQ 47.5625 33.109375 50.5625 29.59375 \nQ 53.5625 26.078125 56.59375 19.921875 \nL 66.609375 0 \nL 56 0 \nL 46.6875 18.703125 \nQ 43.0625 26.03125 39.671875 28.421875 \nQ 36.28125 30.8125 30.421875 30.8125 \nL 19.671875 30.8125 \nL 19.671875 0 \nL 9.8125 0 \nL 9.8125 72.90625 \nL 32.078125 72.90625 \nQ 44.578125 72.90625 50.734375 67.671875 \nQ 56.890625 62.453125 56.890625 51.90625 \nQ 56.890625 45.015625 53.6875 40.46875 \nQ 50.484375 35.9375 44.390625 34.1875 \nz\nM 19.671875 64.796875 \nL 19.671875 38.921875 \nL 32.078125 38.921875 \nQ 39.203125 38.921875 42.84375 42.21875 \nQ 46.484375 45.515625 46.484375 51.90625 \nQ 46.484375 58.296875 42.84375 61.546875 \nQ 39.203125 64.796875 32.078125 64.796875 \nz\n\" id=\"DejaVuSans-82\"/>\n        <path d=\"M 9.8125 72.90625 \nL 19.671875 72.90625 \nL 19.671875 8.296875 \nL 55.171875 8.296875 \nL 55.171875 0 \nL 9.8125 0 \nz\n\" id=\"DejaVuSans-76\"/>\n        <path d=\"M 19.671875 64.796875 \nL 19.671875 8.109375 \nL 31.59375 8.109375 \nQ 46.6875 8.109375 53.6875 14.9375 \nQ 60.6875 21.78125 60.6875 36.53125 \nQ 60.6875 51.171875 53.6875 57.984375 \nQ 46.6875 64.796875 31.59375 64.796875 \nz\nM 9.8125 72.90625 \nL 30.078125 72.90625 \nQ 51.265625 72.90625 61.171875 64.09375 \nQ 71.09375 55.28125 71.09375 36.53125 \nQ 71.09375 17.671875 61.125 8.828125 \nQ 51.171875 0 30.078125 0 \nL 9.8125 0 \nz\n\" id=\"DejaVuSans-68\"/>\n        <path d=\"M 39.40625 66.21875 \nQ 28.65625 66.21875 22.328125 58.203125 \nQ 16.015625 50.203125 16.015625 36.375 \nQ 16.015625 22.609375 22.328125 14.59375 \nQ 28.65625 6.59375 39.40625 6.59375 \nQ 50.140625 6.59375 56.421875 14.59375 \nQ 62.703125 22.609375 62.703125 36.375 \nQ 62.703125 50.203125 56.421875 58.203125 \nQ 50.140625 66.21875 39.40625 66.21875 \nz\nM 53.21875 1.3125 \nL 66.21875 -12.890625 \nL 54.296875 -12.890625 \nL 43.5 -1.21875 \nQ 41.890625 -1.3125 41.03125 -1.359375 \nQ 40.1875 -1.421875 39.40625 -1.421875 \nQ 24.03125 -1.421875 14.8125 8.859375 \nQ 5.609375 19.140625 5.609375 36.375 \nQ 5.609375 53.65625 14.8125 63.9375 \nQ 24.03125 74.21875 39.40625 74.21875 \nQ 54.734375 74.21875 63.90625 63.9375 \nQ 73.09375 53.65625 73.09375 36.375 \nQ 73.09375 23.6875 67.984375 14.640625 \nQ 62.890625 5.609375 53.21875 1.3125 \nz\n\" id=\"DejaVuSans-81\"/>\n       </defs>\n       <use xlink:href=\"#DejaVuSans-51\"/>\n       <use x=\"63.623047\" xlink:href=\"#DejaVuSans-52\"/>\n       <use x=\"127.246094\" xlink:href=\"#DejaVuSans-32\"/>\n       <use x=\"159.033203\" xlink:href=\"#DejaVuSans-83\"/>\n       <use x=\"222.509766\" xlink:href=\"#DejaVuSans-84\"/>\n       <use x=\"274.46875\" xlink:href=\"#DejaVuSans-45\"/>\n       <use x=\"310.552734\" xlink:href=\"#DejaVuSans-72\"/>\n       <use x=\"385.748047\" xlink:href=\"#DejaVuSans-69\"/>\n       <use x=\"448.931641\" xlink:href=\"#DejaVuSans-82\"/>\n       <use x=\"514.414062\" xlink:href=\"#DejaVuSans-65\"/>\n       <use x=\"582.822266\" xlink:href=\"#DejaVuSans-76\"/>\n       <use x=\"638.535156\" xlink:href=\"#DejaVuSans-68\"/>\n       <use x=\"715.537109\" xlink:href=\"#DejaVuSans-32\"/>\n       <use x=\"747.324219\" xlink:href=\"#DejaVuSans-83\"/>\n       <use x=\"810.800781\" xlink:href=\"#DejaVuSans-81\"/>\n      </g>\n     </g>\n    </g>\n    <g id=\"ytick_3\">\n     <g id=\"line2d_10\">\n      <g>\n       <use style=\"stroke:#000000;stroke-width:0.8;\" x=\"104.659375\" xlink:href=\"#m8d0bf0283f\" y=\"72.519963\"/>\n      </g>\n     </g>\n     <g id=\"text_10\">\n      <!-- 125 ST -->\n      <g transform=\"translate(62.9375 76.319182)scale(0.1 -0.1)\">\n       <defs>\n        <path d=\"M 10.796875 72.90625 \nL 49.515625 72.90625 \nL 49.515625 64.59375 \nL 19.828125 64.59375 \nL 19.828125 46.734375 \nQ 21.96875 47.46875 24.109375 47.828125 \nQ 26.265625 48.1875 28.421875 48.1875 \nQ 40.625 48.1875 47.75 41.5 \nQ 54.890625 34.8125 54.890625 23.390625 \nQ 54.890625 11.625 47.5625 5.09375 \nQ 40.234375 -1.421875 26.90625 -1.421875 \nQ 22.3125 -1.421875 17.546875 -0.640625 \nQ 12.796875 0.140625 7.71875 1.703125 \nL 7.71875 11.625 \nQ 12.109375 9.234375 16.796875 8.0625 \nQ 21.484375 6.890625 26.703125 6.890625 \nQ 35.15625 6.890625 40.078125 11.328125 \nQ 45.015625 15.765625 45.015625 23.390625 \nQ 45.015625 31 40.078125 35.4375 \nQ 35.15625 39.890625 26.703125 39.890625 \nQ 22.75 39.890625 18.8125 39.015625 \nQ 14.890625 38.140625 10.796875 36.28125 \nz\n\" id=\"DejaVuSans-53\"/>\n       </defs>\n       <use xlink:href=\"#DejaVuSans-49\"/>\n       <use x=\"63.623047\" xlink:href=\"#DejaVuSans-50\"/>\n       <use x=\"127.246094\" xlink:href=\"#DejaVuSans-53\"/>\n       <use x=\"190.869141\" xlink:href=\"#DejaVuSans-32\"/>\n       <use x=\"222.65625\" xlink:href=\"#DejaVuSans-83\"/>\n       <use x=\"286.132812\" xlink:href=\"#DejaVuSans-84\"/>\n      </g>\n     </g>\n    </g>\n    <g id=\"ytick_4\">\n     <g id=\"line2d_11\">\n      <g>\n       <use style=\"stroke:#000000;stroke-width:0.8;\" x=\"104.659375\" xlink:href=\"#m8d0bf0283f\" y=\"87.647978\"/>\n      </g>\n     </g>\n     <g id=\"text_11\">\n      <!-- 86 ST -->\n      <g transform=\"translate(69.3 91.447196)scale(0.1 -0.1)\">\n       <use xlink:href=\"#DejaVuSans-56\"/>\n       <use x=\"63.623047\" xlink:href=\"#DejaVuSans-54\"/>\n       <use x=\"127.246094\" xlink:href=\"#DejaVuSans-32\"/>\n       <use x=\"159.033203\" xlink:href=\"#DejaVuSans-83\"/>\n       <use x=\"222.509766\" xlink:href=\"#DejaVuSans-84\"/>\n      </g>\n     </g>\n    </g>\n    <g id=\"ytick_5\">\n     <g id=\"line2d_12\">\n      <g>\n       <use style=\"stroke:#000000;stroke-width:0.8;\" x=\"104.659375\" xlink:href=\"#m8d0bf0283f\" y=\"102.775993\"/>\n      </g>\n     </g>\n     <g id=\"text_12\">\n      <!-- 14 ST-UNION SQ -->\n      <g transform=\"translate(16.103125 106.575211)scale(0.1 -0.1)\">\n       <defs>\n        <path d=\"M 8.6875 72.90625 \nL 18.609375 72.90625 \nL 18.609375 28.609375 \nQ 18.609375 16.890625 22.84375 11.734375 \nQ 27.09375 6.59375 36.625 6.59375 \nQ 46.09375 6.59375 50.34375 11.734375 \nQ 54.59375 16.890625 54.59375 28.609375 \nL 54.59375 72.90625 \nL 64.5 72.90625 \nL 64.5 27.390625 \nQ 64.5 13.140625 57.4375 5.859375 \nQ 50.390625 -1.421875 36.625 -1.421875 \nQ 22.796875 -1.421875 15.734375 5.859375 \nQ 8.6875 13.140625 8.6875 27.390625 \nz\n\" id=\"DejaVuSans-85\"/>\n        <path d=\"M 9.8125 72.90625 \nL 19.671875 72.90625 \nL 19.671875 0 \nL 9.8125 0 \nz\n\" id=\"DejaVuSans-73\"/>\n        <path d=\"M 39.40625 66.21875 \nQ 28.65625 66.21875 22.328125 58.203125 \nQ 16.015625 50.203125 16.015625 36.375 \nQ 16.015625 22.609375 22.328125 14.59375 \nQ 28.65625 6.59375 39.40625 6.59375 \nQ 50.140625 6.59375 56.421875 14.59375 \nQ 62.703125 22.609375 62.703125 36.375 \nQ 62.703125 50.203125 56.421875 58.203125 \nQ 50.140625 66.21875 39.40625 66.21875 \nz\nM 39.40625 74.21875 \nQ 54.734375 74.21875 63.90625 63.9375 \nQ 73.09375 53.65625 73.09375 36.375 \nQ 73.09375 19.140625 63.90625 8.859375 \nQ 54.734375 -1.421875 39.40625 -1.421875 \nQ 24.03125 -1.421875 14.8125 8.828125 \nQ 5.609375 19.09375 5.609375 36.375 \nQ 5.609375 53.65625 14.8125 63.9375 \nQ 24.03125 74.21875 39.40625 74.21875 \nz\n\" id=\"DejaVuSans-79\"/>\n       </defs>\n       <use xlink:href=\"#DejaVuSans-49\"/>\n       <use x=\"63.623047\" xlink:href=\"#DejaVuSans-52\"/>\n       <use x=\"127.246094\" xlink:href=\"#DejaVuSans-32\"/>\n       <use x=\"159.033203\" xlink:href=\"#DejaVuSans-83\"/>\n       <use x=\"222.509766\" xlink:href=\"#DejaVuSans-84\"/>\n       <use x=\"274.46875\" xlink:href=\"#DejaVuSans-45\"/>\n       <use x=\"310.552734\" xlink:href=\"#DejaVuSans-85\"/>\n       <use x=\"383.746094\" xlink:href=\"#DejaVuSans-78\"/>\n       <use x=\"458.550781\" xlink:href=\"#DejaVuSans-73\"/>\n       <use x=\"488.042969\" xlink:href=\"#DejaVuSans-79\"/>\n       <use x=\"566.753906\" xlink:href=\"#DejaVuSans-78\"/>\n       <use x=\"641.558594\" xlink:href=\"#DejaVuSans-32\"/>\n       <use x=\"673.345703\" xlink:href=\"#DejaVuSans-83\"/>\n       <use x=\"736.822266\" xlink:href=\"#DejaVuSans-81\"/>\n      </g>\n     </g>\n    </g>\n    <g id=\"ytick_6\">\n     <g id=\"line2d_13\">\n      <g>\n       <use style=\"stroke:#000000;stroke-width:0.8;\" x=\"104.659375\" xlink:href=\"#m8d0bf0283f\" y=\"117.904007\"/>\n      </g>\n     </g>\n     <g id=\"text_13\">\n      <!-- GRD CNTRL-42 ST -->\n      <g transform=\"translate(7.2 121.703226)scale(0.1 -0.1)\">\n       <defs>\n        <path d=\"M 59.515625 10.40625 \nL 59.515625 29.984375 \nL 43.40625 29.984375 \nL 43.40625 38.09375 \nL 69.28125 38.09375 \nL 69.28125 6.78125 \nQ 63.578125 2.734375 56.6875 0.65625 \nQ 49.8125 -1.421875 42 -1.421875 \nQ 24.90625 -1.421875 15.25 8.5625 \nQ 5.609375 18.5625 5.609375 36.375 \nQ 5.609375 54.25 15.25 64.234375 \nQ 24.90625 74.21875 42 74.21875 \nQ 49.125 74.21875 55.546875 72.453125 \nQ 61.96875 70.703125 67.390625 67.28125 \nL 67.390625 56.78125 \nQ 61.921875 61.421875 55.765625 63.765625 \nQ 49.609375 66.109375 42.828125 66.109375 \nQ 29.4375 66.109375 22.71875 58.640625 \nQ 16.015625 51.171875 16.015625 36.375 \nQ 16.015625 21.625 22.71875 14.15625 \nQ 29.4375 6.6875 42.828125 6.6875 \nQ 48.046875 6.6875 52.140625 7.59375 \nQ 56.25 8.5 59.515625 10.40625 \nz\n\" id=\"DejaVuSans-71\"/>\n        <path d=\"M 64.40625 67.28125 \nL 64.40625 56.890625 \nQ 59.421875 61.53125 53.78125 63.8125 \nQ 48.140625 66.109375 41.796875 66.109375 \nQ 29.296875 66.109375 22.65625 58.46875 \nQ 16.015625 50.828125 16.015625 36.375 \nQ 16.015625 21.96875 22.65625 14.328125 \nQ 29.296875 6.6875 41.796875 6.6875 \nQ 48.140625 6.6875 53.78125 8.984375 \nQ 59.421875 11.28125 64.40625 15.921875 \nL 64.40625 5.609375 \nQ 59.234375 2.09375 53.4375 0.328125 \nQ 47.65625 -1.421875 41.21875 -1.421875 \nQ 24.65625 -1.421875 15.125 8.703125 \nQ 5.609375 18.84375 5.609375 36.375 \nQ 5.609375 53.953125 15.125 64.078125 \nQ 24.65625 74.21875 41.21875 74.21875 \nQ 47.75 74.21875 53.53125 72.484375 \nQ 59.328125 70.75 64.40625 67.28125 \nz\n\" id=\"DejaVuSans-67\"/>\n       </defs>\n       <use xlink:href=\"#DejaVuSans-71\"/>\n       <use x=\"77.490234\" xlink:href=\"#DejaVuSans-82\"/>\n       <use x=\"146.972656\" xlink:href=\"#DejaVuSans-68\"/>\n       <use x=\"223.974609\" xlink:href=\"#DejaVuSans-32\"/>\n       <use x=\"255.761719\" xlink:href=\"#DejaVuSans-67\"/>\n       <use x=\"325.585938\" xlink:href=\"#DejaVuSans-78\"/>\n       <use x=\"400.390625\" xlink:href=\"#DejaVuSans-84\"/>\n       <use x=\"461.474609\" xlink:href=\"#DejaVuSans-82\"/>\n       <use x=\"530.957031\" xlink:href=\"#DejaVuSans-76\"/>\n       <use x=\"584.919922\" xlink:href=\"#DejaVuSans-45\"/>\n       <use x=\"621.003906\" xlink:href=\"#DejaVuSans-52\"/>\n       <use x=\"684.626953\" xlink:href=\"#DejaVuSans-50\"/>\n       <use x=\"748.25\" xlink:href=\"#DejaVuSans-32\"/>\n       <use x=\"780.037109\" xlink:href=\"#DejaVuSans-83\"/>\n       <use x=\"843.513672\" xlink:href=\"#DejaVuSans-84\"/>\n      </g>\n     </g>\n    </g>\n    <g id=\"ytick_7\">\n     <g id=\"line2d_14\">\n      <g>\n       <use style=\"stroke:#000000;stroke-width:0.8;\" x=\"104.659375\" xlink:href=\"#m8d0bf0283f\" y=\"133.032022\"/>\n      </g>\n     </g>\n     <g id=\"text_14\">\n      <!-- 42 ST-PORT AUTH -->\n      <g transform=\"translate(9.40625 136.831241)scale(0.1 -0.1)\">\n       <use xlink:href=\"#DejaVuSans-52\"/>\n       <use x=\"63.623047\" xlink:href=\"#DejaVuSans-50\"/>\n       <use x=\"127.246094\" xlink:href=\"#DejaVuSans-32\"/>\n       <use x=\"159.033203\" xlink:href=\"#DejaVuSans-83\"/>\n       <use x=\"222.509766\" xlink:href=\"#DejaVuSans-84\"/>\n       <use x=\"274.46875\" xlink:href=\"#DejaVuSans-45\"/>\n       <use x=\"310.552734\" xlink:href=\"#DejaVuSans-80\"/>\n       <use x=\"370.855469\" xlink:href=\"#DejaVuSans-79\"/>\n       <use x=\"449.566406\" xlink:href=\"#DejaVuSans-82\"/>\n       <use x=\"511.798828\" xlink:href=\"#DejaVuSans-84\"/>\n       <use x=\"572.882812\" xlink:href=\"#DejaVuSans-32\"/>\n       <use x=\"604.669922\" xlink:href=\"#DejaVuSans-65\"/>\n       <use x=\"673.078125\" xlink:href=\"#DejaVuSans-85\"/>\n       <use x=\"746.271484\" xlink:href=\"#DejaVuSans-84\"/>\n       <use x=\"807.355469\" xlink:href=\"#DejaVuSans-72\"/>\n      </g>\n     </g>\n    </g>\n    <g id=\"ytick_8\">\n     <g id=\"line2d_15\">\n      <g>\n       <use style=\"stroke:#000000;stroke-width:0.8;\" x=\"104.659375\" xlink:href=\"#m8d0bf0283f\" y=\"148.160037\"/>\n      </g>\n     </g>\n     <g id=\"text_15\">\n      <!-- 23 ST -->\n      <g transform=\"translate(69.3 151.959256)scale(0.1 -0.1)\">\n       <use xlink:href=\"#DejaVuSans-50\"/>\n       <use x=\"63.623047\" xlink:href=\"#DejaVuSans-51\"/>\n       <use x=\"127.246094\" xlink:href=\"#DejaVuSans-32\"/>\n       <use x=\"159.033203\" xlink:href=\"#DejaVuSans-83\"/>\n       <use x=\"222.509766\" xlink:href=\"#DejaVuSans-84\"/>\n      </g>\n     </g>\n    </g>\n    <g id=\"ytick_9\">\n     <g id=\"line2d_16\">\n      <g>\n       <use style=\"stroke:#000000;stroke-width:0.8;\" x=\"104.659375\" xlink:href=\"#m8d0bf0283f\" y=\"163.288052\"/>\n      </g>\n     </g>\n     <g id=\"text_16\">\n      <!-- FLUSHING-MAIN -->\n      <g transform=\"translate(17.960938 167.087271)scale(0.1 -0.1)\">\n       <defs>\n        <path d=\"M 9.8125 72.90625 \nL 51.703125 72.90625 \nL 51.703125 64.59375 \nL 19.671875 64.59375 \nL 19.671875 43.109375 \nL 48.578125 43.109375 \nL 48.578125 34.8125 \nL 19.671875 34.8125 \nL 19.671875 0 \nL 9.8125 0 \nz\n\" id=\"DejaVuSans-70\"/>\n        <path d=\"M 9.8125 72.90625 \nL 24.515625 72.90625 \nL 43.109375 23.296875 \nL 61.8125 72.90625 \nL 76.515625 72.90625 \nL 76.515625 0 \nL 66.890625 0 \nL 66.890625 64.015625 \nL 48.09375 14.015625 \nL 38.1875 14.015625 \nL 19.390625 64.015625 \nL 19.390625 0 \nL 9.8125 0 \nz\n\" id=\"DejaVuSans-77\"/>\n       </defs>\n       <use xlink:href=\"#DejaVuSans-70\"/>\n       <use x=\"57.519531\" xlink:href=\"#DejaVuSans-76\"/>\n       <use x=\"108.232422\" xlink:href=\"#DejaVuSans-85\"/>\n       <use x=\"181.425781\" xlink:href=\"#DejaVuSans-83\"/>\n       <use x=\"244.902344\" xlink:href=\"#DejaVuSans-72\"/>\n       <use x=\"320.097656\" xlink:href=\"#DejaVuSans-73\"/>\n       <use x=\"349.589844\" xlink:href=\"#DejaVuSans-78\"/>\n       <use x=\"424.394531\" xlink:href=\"#DejaVuSans-71\"/>\n       <use x=\"501.884766\" xlink:href=\"#DejaVuSans-45\"/>\n       <use x=\"537.96875\" xlink:href=\"#DejaVuSans-77\"/>\n       <use x=\"624.248047\" xlink:href=\"#DejaVuSans-65\"/>\n       <use x=\"692.65625\" xlink:href=\"#DejaVuSans-73\"/>\n       <use x=\"722.148438\" xlink:href=\"#DejaVuSans-78\"/>\n      </g>\n     </g>\n    </g>\n    <g id=\"ytick_10\">\n     <g id=\"line2d_17\">\n      <g>\n       <use style=\"stroke:#000000;stroke-width:0.8;\" x=\"104.659375\" xlink:href=\"#m8d0bf0283f\" y=\"178.416067\"/>\n      </g>\n     </g>\n     <g id=\"text_17\">\n      <!-- FULTON ST -->\n      <g transform=\"translate(43.296875 182.215286)scale(0.1 -0.1)\">\n       <use xlink:href=\"#DejaVuSans-70\"/>\n       <use x=\"57.519531\" xlink:href=\"#DejaVuSans-85\"/>\n       <use x=\"130.712891\" xlink:href=\"#DejaVuSans-76\"/>\n       <use x=\"172.675781\" xlink:href=\"#DejaVuSans-84\"/>\n       <use x=\"233.759766\" xlink:href=\"#DejaVuSans-79\"/>\n       <use x=\"312.470703\" xlink:href=\"#DejaVuSans-78\"/>\n       <use x=\"387.275391\" xlink:href=\"#DejaVuSans-32\"/>\n       <use x=\"419.0625\" xlink:href=\"#DejaVuSans-83\"/>\n       <use x=\"482.539062\" xlink:href=\"#DejaVuSans-84\"/>\n      </g>\n     </g>\n    </g>\n   </g>\n   <g id=\"patch_13\">\n    <path d=\"M 104.659375 191.88 \nL 104.659375 28.8 \n\" style=\"fill:none;stroke:#000000;stroke-linecap:square;stroke-linejoin:miter;stroke-width:0.8;\"/>\n   </g>\n   <g id=\"patch_14\">\n    <path d=\"M 662.659375 191.88 \nL 662.659375 28.8 \n\" style=\"fill:none;stroke:#000000;stroke-linecap:square;stroke-linejoin:miter;stroke-width:0.8;\"/>\n   </g>\n   <g id=\"patch_15\">\n    <path d=\"M 104.659375 191.88 \nL 662.659375 191.88 \n\" style=\"fill:none;stroke:#000000;stroke-linecap:square;stroke-linejoin:miter;stroke-width:0.8;\"/>\n   </g>\n   <g id=\"patch_16\">\n    <path d=\"M 104.659375 28.8 \nL 662.659375 28.8 \n\" style=\"fill:none;stroke:#000000;stroke-linecap:square;stroke-linejoin:miter;stroke-width:0.8;\"/>\n   </g>\n  </g>\n  <g id=\"text_18\">\n   <!-- Top 10 Station by total traffic -->\n   <g transform=\"translate(287.268438 16.318125)scale(0.12 -0.12)\">\n    <defs>\n     <path d=\"M 30.609375 48.390625 \nQ 23.390625 48.390625 19.1875 42.75 \nQ 14.984375 37.109375 14.984375 27.296875 \nQ 14.984375 17.484375 19.15625 11.84375 \nQ 23.34375 6.203125 30.609375 6.203125 \nQ 37.796875 6.203125 41.984375 11.859375 \nQ 46.1875 17.53125 46.1875 27.296875 \nQ 46.1875 37.015625 41.984375 42.703125 \nQ 37.796875 48.390625 30.609375 48.390625 \nz\nM 30.609375 56 \nQ 42.328125 56 49.015625 48.375 \nQ 55.71875 40.765625 55.71875 27.296875 \nQ 55.71875 13.875 49.015625 6.21875 \nQ 42.328125 -1.421875 30.609375 -1.421875 \nQ 18.84375 -1.421875 12.171875 6.21875 \nQ 5.515625 13.875 5.515625 27.296875 \nQ 5.515625 40.765625 12.171875 48.375 \nQ 18.84375 56 30.609375 56 \nz\n\" id=\"DejaVuSans-111\"/>\n     <path d=\"M 18.109375 8.203125 \nL 18.109375 -20.796875 \nL 9.078125 -20.796875 \nL 9.078125 54.6875 \nL 18.109375 54.6875 \nL 18.109375 46.390625 \nQ 20.953125 51.265625 25.265625 53.625 \nQ 29.59375 56 35.59375 56 \nQ 45.5625 56 51.78125 48.09375 \nQ 58.015625 40.1875 58.015625 27.296875 \nQ 58.015625 14.40625 51.78125 6.484375 \nQ 45.5625 -1.421875 35.59375 -1.421875 \nQ 29.59375 -1.421875 25.265625 0.953125 \nQ 20.953125 3.328125 18.109375 8.203125 \nz\nM 48.6875 27.296875 \nQ 48.6875 37.203125 44.609375 42.84375 \nQ 40.53125 48.484375 33.40625 48.484375 \nQ 26.265625 48.484375 22.1875 42.84375 \nQ 18.109375 37.203125 18.109375 27.296875 \nQ 18.109375 17.390625 22.1875 11.75 \nQ 26.265625 6.109375 33.40625 6.109375 \nQ 40.53125 6.109375 44.609375 11.75 \nQ 48.6875 17.390625 48.6875 27.296875 \nz\n\" id=\"DejaVuSans-112\"/>\n     <path d=\"M 18.3125 70.21875 \nL 18.3125 54.6875 \nL 36.8125 54.6875 \nL 36.8125 47.703125 \nL 18.3125 47.703125 \nL 18.3125 18.015625 \nQ 18.3125 11.328125 20.140625 9.421875 \nQ 21.96875 7.515625 27.59375 7.515625 \nL 36.8125 7.515625 \nL 36.8125 0 \nL 27.59375 0 \nQ 17.1875 0 13.234375 3.875 \nQ 9.28125 7.765625 9.28125 18.015625 \nL 9.28125 47.703125 \nL 2.6875 47.703125 \nL 2.6875 54.6875 \nL 9.28125 54.6875 \nL 9.28125 70.21875 \nz\n\" id=\"DejaVuSans-116\"/>\n     <path d=\"M 34.28125 27.484375 \nQ 23.390625 27.484375 19.1875 25 \nQ 14.984375 22.515625 14.984375 16.5 \nQ 14.984375 11.71875 18.140625 8.90625 \nQ 21.296875 6.109375 26.703125 6.109375 \nQ 34.1875 6.109375 38.703125 11.40625 \nQ 43.21875 16.703125 43.21875 25.484375 \nL 43.21875 27.484375 \nz\nM 52.203125 31.203125 \nL 52.203125 0 \nL 43.21875 0 \nL 43.21875 8.296875 \nQ 40.140625 3.328125 35.546875 0.953125 \nQ 30.953125 -1.421875 24.3125 -1.421875 \nQ 15.921875 -1.421875 10.953125 3.296875 \nQ 6 8.015625 6 15.921875 \nQ 6 25.140625 12.171875 29.828125 \nQ 18.359375 34.515625 30.609375 34.515625 \nL 43.21875 34.515625 \nL 43.21875 35.40625 \nQ 43.21875 41.609375 39.140625 45 \nQ 35.0625 48.390625 27.6875 48.390625 \nQ 23 48.390625 18.546875 47.265625 \nQ 14.109375 46.140625 10.015625 43.890625 \nL 10.015625 52.203125 \nQ 14.9375 54.109375 19.578125 55.046875 \nQ 24.21875 56 28.609375 56 \nQ 40.484375 56 46.34375 49.84375 \nQ 52.203125 43.703125 52.203125 31.203125 \nz\n\" id=\"DejaVuSans-97\"/>\n     <path d=\"M 9.421875 54.6875 \nL 18.40625 54.6875 \nL 18.40625 0 \nL 9.421875 0 \nz\nM 9.421875 75.984375 \nL 18.40625 75.984375 \nL 18.40625 64.59375 \nL 9.421875 64.59375 \nz\n\" id=\"DejaVuSans-105\"/>\n     <path d=\"M 54.890625 33.015625 \nL 54.890625 0 \nL 45.90625 0 \nL 45.90625 32.71875 \nQ 45.90625 40.484375 42.875 44.328125 \nQ 39.84375 48.1875 33.796875 48.1875 \nQ 26.515625 48.1875 22.3125 43.546875 \nQ 18.109375 38.921875 18.109375 30.90625 \nL 18.109375 0 \nL 9.078125 0 \nL 9.078125 54.6875 \nL 18.109375 54.6875 \nL 18.109375 46.1875 \nQ 21.34375 51.125 25.703125 53.5625 \nQ 30.078125 56 35.796875 56 \nQ 45.21875 56 50.046875 50.171875 \nQ 54.890625 44.34375 54.890625 33.015625 \nz\n\" id=\"DejaVuSans-110\"/>\n     <path d=\"M 48.6875 27.296875 \nQ 48.6875 37.203125 44.609375 42.84375 \nQ 40.53125 48.484375 33.40625 48.484375 \nQ 26.265625 48.484375 22.1875 42.84375 \nQ 18.109375 37.203125 18.109375 27.296875 \nQ 18.109375 17.390625 22.1875 11.75 \nQ 26.265625 6.109375 33.40625 6.109375 \nQ 40.53125 6.109375 44.609375 11.75 \nQ 48.6875 17.390625 48.6875 27.296875 \nz\nM 18.109375 46.390625 \nQ 20.953125 51.265625 25.265625 53.625 \nQ 29.59375 56 35.59375 56 \nQ 45.5625 56 51.78125 48.09375 \nQ 58.015625 40.1875 58.015625 27.296875 \nQ 58.015625 14.40625 51.78125 6.484375 \nQ 45.5625 -1.421875 35.59375 -1.421875 \nQ 29.59375 -1.421875 25.265625 0.953125 \nQ 20.953125 3.328125 18.109375 8.203125 \nL 18.109375 0 \nL 9.078125 0 \nL 9.078125 75.984375 \nL 18.109375 75.984375 \nz\n\" id=\"DejaVuSans-98\"/>\n     <path d=\"M 32.171875 -5.078125 \nQ 28.375 -14.84375 24.75 -17.8125 \nQ 21.140625 -20.796875 15.09375 -20.796875 \nL 7.90625 -20.796875 \nL 7.90625 -13.28125 \nL 13.1875 -13.28125 \nQ 16.890625 -13.28125 18.9375 -11.515625 \nQ 21 -9.765625 23.484375 -3.21875 \nL 25.09375 0.875 \nL 2.984375 54.6875 \nL 12.5 54.6875 \nL 29.59375 11.921875 \nL 46.6875 54.6875 \nL 56.203125 54.6875 \nz\n\" id=\"DejaVuSans-121\"/>\n     <path d=\"M 9.421875 75.984375 \nL 18.40625 75.984375 \nL 18.40625 0 \nL 9.421875 0 \nz\n\" id=\"DejaVuSans-108\"/>\n     <path d=\"M 41.109375 46.296875 \nQ 39.59375 47.171875 37.8125 47.578125 \nQ 36.03125 48 33.890625 48 \nQ 26.265625 48 22.1875 43.046875 \nQ 18.109375 38.09375 18.109375 28.8125 \nL 18.109375 0 \nL 9.078125 0 \nL 9.078125 54.6875 \nL 18.109375 54.6875 \nL 18.109375 46.1875 \nQ 20.953125 51.171875 25.484375 53.578125 \nQ 30.03125 56 36.53125 56 \nQ 37.453125 56 38.578125 55.875 \nQ 39.703125 55.765625 41.0625 55.515625 \nz\n\" id=\"DejaVuSans-114\"/>\n     <path d=\"M 37.109375 75.984375 \nL 37.109375 68.5 \nL 28.515625 68.5 \nQ 23.6875 68.5 21.796875 66.546875 \nQ 19.921875 64.59375 19.921875 59.515625 \nL 19.921875 54.6875 \nL 34.71875 54.6875 \nL 34.71875 47.703125 \nL 19.921875 47.703125 \nL 19.921875 0 \nL 10.890625 0 \nL 10.890625 47.703125 \nL 2.296875 47.703125 \nL 2.296875 54.6875 \nL 10.890625 54.6875 \nL 10.890625 58.5 \nQ 10.890625 67.625 15.140625 71.796875 \nQ 19.390625 75.984375 28.609375 75.984375 \nz\n\" id=\"DejaVuSans-102\"/>\n     <path d=\"M 48.78125 52.59375 \nL 48.78125 44.1875 \nQ 44.96875 46.296875 41.140625 47.34375 \nQ 37.3125 48.390625 33.40625 48.390625 \nQ 24.65625 48.390625 19.8125 42.84375 \nQ 14.984375 37.3125 14.984375 27.296875 \nQ 14.984375 17.28125 19.8125 11.734375 \nQ 24.65625 6.203125 33.40625 6.203125 \nQ 37.3125 6.203125 41.140625 7.25 \nQ 44.96875 8.296875 48.78125 10.40625 \nL 48.78125 2.09375 \nQ 45.015625 0.34375 40.984375 -0.53125 \nQ 36.96875 -1.421875 32.421875 -1.421875 \nQ 20.0625 -1.421875 12.78125 6.34375 \nQ 5.515625 14.109375 5.515625 27.296875 \nQ 5.515625 40.671875 12.859375 48.328125 \nQ 20.21875 56 33.015625 56 \nQ 37.15625 56 41.109375 55.140625 \nQ 45.0625 54.296875 48.78125 52.59375 \nz\n\" id=\"DejaVuSans-99\"/>\n    </defs>\n    <use xlink:href=\"#DejaVuSans-84\"/>\n    <use x=\"44.083984\" xlink:href=\"#DejaVuSans-111\"/>\n    <use x=\"105.265625\" xlink:href=\"#DejaVuSans-112\"/>\n    <use x=\"168.742188\" xlink:href=\"#DejaVuSans-32\"/>\n    <use x=\"200.529297\" xlink:href=\"#DejaVuSans-49\"/>\n    <use x=\"264.152344\" xlink:href=\"#DejaVuSans-48\"/>\n    <use x=\"327.775391\" xlink:href=\"#DejaVuSans-32\"/>\n    <use x=\"359.5625\" xlink:href=\"#DejaVuSans-83\"/>\n    <use x=\"423.039062\" xlink:href=\"#DejaVuSans-116\"/>\n    <use x=\"462.248047\" xlink:href=\"#DejaVuSans-97\"/>\n    <use x=\"523.527344\" xlink:href=\"#DejaVuSans-116\"/>\n    <use x=\"562.736328\" xlink:href=\"#DejaVuSans-105\"/>\n    <use x=\"590.519531\" xlink:href=\"#DejaVuSans-111\"/>\n    <use x=\"651.701172\" xlink:href=\"#DejaVuSans-110\"/>\n    <use x=\"715.080078\" xlink:href=\"#DejaVuSans-32\"/>\n    <use x=\"746.867188\" xlink:href=\"#DejaVuSans-98\"/>\n    <use x=\"810.34375\" xlink:href=\"#DejaVuSans-121\"/>\n    <use x=\"869.523438\" xlink:href=\"#DejaVuSans-32\"/>\n    <use x=\"901.310547\" xlink:href=\"#DejaVuSans-116\"/>\n    <use x=\"940.519531\" xlink:href=\"#DejaVuSans-111\"/>\n    <use x=\"1001.701172\" xlink:href=\"#DejaVuSans-116\"/>\n    <use x=\"1040.910156\" xlink:href=\"#DejaVuSans-97\"/>\n    <use x=\"1102.189453\" xlink:href=\"#DejaVuSans-108\"/>\n    <use x=\"1129.972656\" xlink:href=\"#DejaVuSans-32\"/>\n    <use x=\"1161.759766\" xlink:href=\"#DejaVuSans-116\"/>\n    <use x=\"1200.96875\" xlink:href=\"#DejaVuSans-114\"/>\n    <use x=\"1242.082031\" xlink:href=\"#DejaVuSans-97\"/>\n    <use x=\"1303.361328\" xlink:href=\"#DejaVuSans-102\"/>\n    <use x=\"1338.566406\" xlink:href=\"#DejaVuSans-102\"/>\n    <use x=\"1373.771484\" xlink:href=\"#DejaVuSans-105\"/>\n    <use x=\"1401.554688\" xlink:href=\"#DejaVuSans-99\"/>\n   </g>\n  </g>\n </g>\n <defs>\n  <clipPath id=\"p4e80898a42\">\n   <rect height=\"163.08\" width=\"558\" x=\"104.659375\" y=\"28.8\"/>\n  </clipPath>\n </defs>\n</svg>\n",
      "image/png": "[encoded data removed]"
     },
     "metadata": {
      "needs_background": "light"
     }
    }
   ],
   "source": [
    "fig, ax = plt.subplots(figsize=(10,3))\n",
    "ax.barh(station_traffic.head(10).STATION, station_traffic.head(10).TOTAL_TRAFFIC)\n",
    "fig.suptitle('Top 10 Station by total traffic')\n",
    "ax.invert_yaxis()\n",
    "ax.xaxis.get_major_formatter().set_scientific(False)\n",
    "\n"
   ]
  },
  {
   "source": [
    "## Stations that are nearby high median income areas / high in women population"
   ],
   "cell_type": "markdown",
   "metadata": {}
  },
  {
   "cell_type": "code",
   "execution_count": 228,
   "metadata": {},
   "outputs": [
    {
     "output_type": "execute_result",
     "data": {
      "text/plain": "           STATION  TOTAL_TRAFFIC  Latitude  Longitude ZIPCODE  POPULATION  \\\n0   34 ST-PENN STA      1271545.0   40.7523   -73.9934   10119          92   \n1  34 ST-HERALD SQ      1039988.0   40.7496   -73.9879   10001       21102   \n2           125 ST       972648.0   40.8043   -73.9374   10035       33969   \n3            86 ST       950062.0   40.7795   -73.9555   10028       45141   \n4   14 ST-UNION SQ       878973.0   40.7358   -73.9906   10003       56024   \n\n   POPULATION_DEN  MEDIAN_INCOME  \n0          5592.0            NaN  \n1         33959.0        81671.0  \n2         24329.0        24533.0  \n3        143683.0       104638.0  \n4         97188.0        92540.0  ",
      "text/html": "<div>\n<style scoped>\n    .dataframe tbody tr th:only-of-type {\n        vertical-align: middle;\n    }\n\n    .dataframe tbody tr th {\n        vertical-align: top;\n    }\n\n    .dataframe thead th {\n        text-align: right;\n    }\n</style>\n<table border=\"1\" class=\"dataframe\">\n  <thead>\n    <tr style=\"text-align: right;\">\n      <th></th>\n      <th>STATION</th>\n      <th>TOTAL_TRAFFIC</th>\n      <th>Latitude</th>\n      <th>Longitude</th>\n      <th>ZIPCODE</th>\n      <th>POPULATION</th>\n      <th>POPULATION_DEN</th>\n      <th>MEDIAN_INCOME</th>\n    </tr>\n  </thead>\n  <tbody>\n    <tr>\n      <th>0</th>\n      <td>34 ST-PENN STA</td>\n      <td>1271545.0</td>\n      <td>40.7523</td>\n      <td>-73.9934</td>\n      <td>10119</td>\n      <td>92</td>\n      <td>5592.0</td>\n      <td>NaN</td>\n    </tr>\n    <tr>\n      <th>1</th>\n      <td>34 ST-HERALD SQ</td>\n      <td>1039988.0</td>\n      <td>40.7496</td>\n      <td>-73.9879</td>\n      <td>10001</td>\n      <td>21102</td>\n      <td>33959.0</td>\n      <td>81671.0</td>\n    </tr>\n    <tr>\n      <th>2</th>\n      <td>125 ST</td>\n      <td>972648.0</td>\n      <td>40.8043</td>\n      <td>-73.9374</td>\n      <td>10035</td>\n      <td>33969</td>\n      <td>24329.0</td>\n      <td>24533.0</td>\n    </tr>\n    <tr>\n      <th>3</th>\n      <td>86 ST</td>\n      <td>950062.0</td>\n      <td>40.7795</td>\n      <td>-73.9555</td>\n      <td>10028</td>\n      <td>45141</td>\n      <td>143683.0</td>\n      <td>104638.0</td>\n    </tr>\n    <tr>\n      <th>4</th>\n      <td>14 ST-UNION SQ</td>\n      <td>878973.0</td>\n      <td>40.7358</td>\n      <td>-73.9906</td>\n      <td>10003</td>\n      <td>56024</td>\n      <td>97188.0</td>\n      <td>92540.0</td>\n    </tr>\n  </tbody>\n</table>\n</div>"
     },
     "metadata": {},
     "execution_count": 228
    }
   ],
   "source": [
    "# add zipcode / demographic data to the station_traffic data\n",
    "station_high_income = pd.merge(station_traffic, station_zip_demo, on='STATION', right_index=False)\n",
    "station_high_income.head()"
   ]
  },
  {
   "cell_type": "code",
   "execution_count": 232,
   "metadata": {},
   "outputs": [],
   "source": [
    "# read in census data with women population\n",
    "population_zip = pd.read_csv('population_by_zip_2010.csv')"
   ]
  },
  {
   "cell_type": "code",
   "execution_count": 233,
   "metadata": {},
   "outputs": [],
   "source": [
    "# find unique station zip code \n",
    "ny_zipcode = station_high_income['ZIPCODE'].unique().tolist()"
   ]
  },
  {
   "cell_type": "code",
   "execution_count": 234,
   "metadata": {},
   "outputs": [],
   "source": [
    "# get rid of any unnecessary zip codes\n",
    "population_zip = population_zip.loc[population_zip['zipcode'].isin(ny_zipcode)]"
   ]
  },
  {
   "cell_type": "code",
   "execution_count": 235,
   "metadata": {},
   "outputs": [],
   "source": [
    "# subset for only female population\n",
    "population_zip = population_zip.loc[population_zip['gender'] == 'female']\n",
    "population_zip['ZIPCODE'] = population_zip['zipcode']"
   ]
  },
  {
   "cell_type": "code",
   "execution_count": 236,
   "metadata": {},
   "outputs": [],
   "source": [
    "population_zip.drop(columns=['minimum_age', 'maximum_age', 'geo_id', 'gender', 'zipcode'], inplace=True)\n",
    "population_zip['ZIPCODE'] = population_zip['ZIPCODE'].astype(str)"
   ]
  },
  {
   "cell_type": "code",
   "execution_count": 237,
   "metadata": {},
   "outputs": [],
   "source": [
    "population_zip = population_zip.sort_values('population', ascending=False).drop_duplicates('ZIPCODE')"
   ]
  },
  {
   "cell_type": "code",
   "execution_count": 238,
   "metadata": {},
   "outputs": [],
   "source": [
    "station_high_income = pd.merge(station_high_income, population_zip, on='ZIPCODE')"
   ]
  },
  {
   "cell_type": "code",
   "execution_count": 239,
   "metadata": {},
   "outputs": [],
   "source": [
    "# zip codes with highest home values in nyc\n",
    "wealthiest_zip = ['10013', '10007', '10012', '10001', '10014', '10010', '10011', '10282', '10018']\n",
    "station_high_income =station_high_income[station_high_income['ZIPCODE'].isin(wealthiest_zip)].sort_values(ascending=False, by='MEDIAN_INCOME')"
   ]
  },
  {
   "cell_type": "code",
   "execution_count": 240,
   "metadata": {},
   "outputs": [
    {
     "output_type": "execute_result",
     "data": {
      "text/plain": "             STATION  TOTAL_TRAFFIC  Latitude  Longitude ZIPCODE  POPULATION  \\\n22        9TH STREET        49212.0   40.7341   -73.9996   10011       50984   \n24              6 AV        37327.0   40.7375   -73.9971   10011       50984   \n19       14TH STREET       137353.0   40.7379   -74.0002   10011       50984   \n20          4AV-9 ST        93878.0   40.7341   -73.9996   10011       50984   \n21   TWENTY THIRD ST        58007.0   40.7413   -73.9893   10011       50984   \n16             23 ST       765142.0   40.7441   -73.9956   10011       50984   \n17             14 ST       493930.0   40.7379   -74.0002   10011       50984   \n18              8 AV       332609.0   40.7399   -74.0027   10011       50984   \n23             18 ST        49079.0   40.7410   -73.9979   10011       50984   \n275   CHRISTOPHER ST       129176.0   40.7330   -74.0069   10014       31959   \n364      FRANKLIN ST        25998.0   40.7189   -74.0066   10013       27700   \n89         PRINCE ST       108103.0   40.7243   -73.9977   10012       24090   \n86    W 4 ST-WASH SQ       352716.0   40.7316   -74.0010   10012       24090   \n90       BLEECKER ST        81318.0   40.7259   -73.9947   10012       24090   \n91        HOUSTON ST        77235.0   40.7286   -74.0053   10012       24090   \n87   B'WAY-LAFAYETTE       212331.0   40.7253   -73.9962   10012       24090   \n88         SPRING ST       131863.0   40.7223   -73.9972   10012       24090   \n2              28 ST       340658.0   40.7472   -73.9934   10001       21102   \n4    THIRTY THIRD ST       149439.0   40.7486   -73.9887   10001       21102   \n3              33 ST       204104.0   40.7464   -73.9818   10001       21102   \n1    34 ST-HERALD SQ      1039988.0   40.7496   -73.9879   10001       21102   \n105        CITY HALL        32518.0   40.7133   -74.0070   10007        6988   \n102       CITY / BUS       121565.0   40.7127   -74.0060   10007        6988   \n104       PARK PLACE        41460.0   40.7132   -74.0093   10007        6988   \n100      CHAMBERS ST       317737.0   40.7149   -74.0080   10007        6988   \n101             1 AV       258451.0   40.7127   -74.0060   10007        6988   \n103            52 ST        86832.0   40.7127   -74.0060   10007        6988   \n40        PATH WTC 2        80916.0   40.7127   -74.0134   10282        4783   \n39      PATH NEW WTC       524075.0   40.7127   -74.0134   10282        4783   \n15    TIMES SQ-42 ST       657024.0   40.7559   -73.9871   10018        5229   \n14   42 ST-PORT AUTH       852579.0   40.7573   -73.9897   10018        5229   \n\n     POPULATION_DEN  MEDIAN_INCOME  population  \n22          77436.0       104238.0       24986  \n24          77436.0       104238.0       24986  \n19          77436.0       104238.0       24986  \n20          77436.0       104238.0       24986  \n21          77436.0       104238.0       24986  \n16          77436.0       104238.0       24986  \n17          77436.0       104238.0       24986  \n18          77436.0       104238.0       24986  \n23          77436.0       104238.0       24986  \n275         56119.0       108483.0       16328  \n364         50154.0        83725.0       13749  \n89          74517.0        86594.0       12250  \n86          74517.0        86594.0       12250  \n90          74517.0        86594.0       12250  \n91          74517.0        86594.0       12250  \n87          74517.0        86594.0       12250  \n88          74517.0        86594.0       12250  \n2           33959.0        81671.0       10918  \n4           33959.0        81671.0       10918  \n3           33959.0        81671.0       10918  \n1           33959.0        81671.0       10918  \n105         42751.0       216037.0        3030  \n102         42751.0       216037.0        3030  \n104         42751.0       216037.0        3030  \n100         42751.0       216037.0        3030  \n101         42751.0       216037.0        3030  \n103         42751.0       216037.0        3030  \n40          54674.0       230952.0        2452  \n39          54674.0       230952.0        2452  \n15          16251.0       104635.0        2434  \n14          16251.0       104635.0        2434  ",
      "text/html": "<div>\n<style scoped>\n    .dataframe tbody tr th:only-of-type {\n        vertical-align: middle;\n    }\n\n    .dataframe tbody tr th {\n        vertical-align: top;\n    }\n\n    .dataframe thead th {\n        text-align: right;\n    }\n</style>\n<table border=\"1\" class=\"dataframe\">\n  <thead>\n    <tr style=\"text-align: right;\">\n      <th></th>\n      <th>STATION</th>\n      <th>TOTAL_TRAFFIC</th>\n      <th>Latitude</th>\n      <th>Longitude</th>\n      <th>ZIPCODE</th>\n      <th>POPULATION</th>\n      <th>POPULATION_DEN</th>\n      <th>MEDIAN_INCOME</th>\n      <th>population</th>\n    </tr>\n  </thead>\n  <tbody>\n    <tr>\n      <th>22</th>\n      <td>9TH STREET</td>\n      <td>49212.0</td>\n      <td>40.7341</td>\n      <td>-73.9996</td>\n      <td>10011</td>\n      <td>50984</td>\n      <td>77436.0</td>\n      <td>104238.0</td>\n      <td>24986</td>\n    </tr>\n    <tr>\n      <th>24</th>\n      <td>6 AV</td>\n      <td>37327.0</td>\n      <td>40.7375</td>\n      <td>-73.9971</td>\n      <td>10011</td>\n      <td>50984</td>\n      <td>77436.0</td>\n      <td>104238.0</td>\n      <td>24986</td>\n    </tr>\n    <tr>\n      <th>19</th>\n      <td>14TH STREET</td>\n      <td>137353.0</td>\n      <td>40.7379</td>\n      <td>-74.0002</td>\n      <td>10011</td>\n      <td>50984</td>\n      <td>77436.0</td>\n      <td>104238.0</td>\n      <td>24986</td>\n    </tr>\n    <tr>\n      <th>20</th>\n      <td>4AV-9 ST</td>\n      <td>93878.0</td>\n      <td>40.7341</td>\n      <td>-73.9996</td>\n      <td>10011</td>\n      <td>50984</td>\n      <td>77436.0</td>\n      <td>104238.0</td>\n      <td>24986</td>\n    </tr>\n    <tr>\n      <th>21</th>\n      <td>TWENTY THIRD ST</td>\n      <td>58007.0</td>\n      <td>40.7413</td>\n      <td>-73.9893</td>\n      <td>10011</td>\n      <td>50984</td>\n      <td>77436.0</td>\n      <td>104238.0</td>\n      <td>24986</td>\n    </tr>\n    <tr>\n      <th>16</th>\n      <td>23 ST</td>\n      <td>765142.0</td>\n      <td>40.7441</td>\n      <td>-73.9956</td>\n      <td>10011</td>\n      <td>50984</td>\n      <td>77436.0</td>\n      <td>104238.0</td>\n      <td>24986</td>\n    </tr>\n    <tr>\n      <th>17</th>\n      <td>14 ST</td>\n      <td>493930.0</td>\n      <td>40.7379</td>\n      <td>-74.0002</td>\n      <td>10011</td>\n      <td>50984</td>\n      <td>77436.0</td>\n      <td>104238.0</td>\n      <td>24986</td>\n    </tr>\n    <tr>\n      <th>18</th>\n      <td>8 AV</td>\n      <td>332609.0</td>\n      <td>40.7399</td>\n      <td>-74.0027</td>\n      <td>10011</td>\n      <td>50984</td>\n      <td>77436.0</td>\n      <td>104238.0</td>\n      <td>24986</td>\n    </tr>\n    <tr>\n      <th>23</th>\n      <td>18 ST</td>\n      <td>49079.0</td>\n      <td>40.7410</td>\n      <td>-73.9979</td>\n      <td>10011</td>\n      <td>50984</td>\n      <td>77436.0</td>\n      <td>104238.0</td>\n      <td>24986</td>\n    </tr>\n    <tr>\n      <th>275</th>\n      <td>CHRISTOPHER ST</td>\n      <td>129176.0</td>\n      <td>40.7330</td>\n      <td>-74.0069</td>\n      <td>10014</td>\n      <td>31959</td>\n      <td>56119.0</td>\n      <td>108483.0</td>\n      <td>16328</td>\n    </tr>\n    <tr>\n      <th>364</th>\n      <td>FRANKLIN ST</td>\n      <td>25998.0</td>\n      <td>40.7189</td>\n      <td>-74.0066</td>\n      <td>10013</td>\n      <td>27700</td>\n      <td>50154.0</td>\n      <td>83725.0</td>\n      <td>13749</td>\n    </tr>\n    <tr>\n      <th>89</th>\n      <td>PRINCE ST</td>\n      <td>108103.0</td>\n      <td>40.7243</td>\n      <td>-73.9977</td>\n      <td>10012</td>\n      <td>24090</td>\n      <td>74517.0</td>\n      <td>86594.0</td>\n      <td>12250</td>\n    </tr>\n    <tr>\n      <th>86</th>\n      <td>W 4 ST-WASH SQ</td>\n      <td>352716.0</td>\n      <td>40.7316</td>\n      <td>-74.0010</td>\n      <td>10012</td>\n      <td>24090</td>\n      <td>74517.0</td>\n      <td>86594.0</td>\n      <td>12250</td>\n    </tr>\n    <tr>\n      <th>90</th>\n      <td>BLEECKER ST</td>\n      <td>81318.0</td>\n      <td>40.7259</td>\n      <td>-73.9947</td>\n      <td>10012</td>\n      <td>24090</td>\n      <td>74517.0</td>\n      <td>86594.0</td>\n      <td>12250</td>\n    </tr>\n    <tr>\n      <th>91</th>\n      <td>HOUSTON ST</td>\n      <td>77235.0</td>\n      <td>40.7286</td>\n      <td>-74.0053</td>\n      <td>10012</td>\n      <td>24090</td>\n      <td>74517.0</td>\n      <td>86594.0</td>\n      <td>12250</td>\n    </tr>\n    <tr>\n      <th>87</th>\n      <td>B'WAY-LAFAYETTE</td>\n      <td>212331.0</td>\n      <td>40.7253</td>\n      <td>-73.9962</td>\n      <td>10012</td>\n      <td>24090</td>\n      <td>74517.0</td>\n      <td>86594.0</td>\n      <td>12250</td>\n    </tr>\n    <tr>\n      <th>88</th>\n      <td>SPRING ST</td>\n      <td>131863.0</td>\n      <td>40.7223</td>\n      <td>-73.9972</td>\n      <td>10012</td>\n      <td>24090</td>\n      <td>74517.0</td>\n      <td>86594.0</td>\n      <td>12250</td>\n    </tr>\n    <tr>\n      <th>2</th>\n      <td>28 ST</td>\n      <td>340658.0</td>\n      <td>40.7472</td>\n      <td>-73.9934</td>\n      <td>10001</td>\n      <td>21102</td>\n      <td>33959.0</td>\n      <td>81671.0</td>\n      <td>10918</td>\n    </tr>\n    <tr>\n      <th>4</th>\n      <td>THIRTY THIRD ST</td>\n      <td>149439.0</td>\n      <td>40.7486</td>\n      <td>-73.9887</td>\n      <td>10001</td>\n      <td>21102</td>\n      <td>33959.0</td>\n      <td>81671.0</td>\n      <td>10918</td>\n    </tr>\n    <tr>\n      <th>3</th>\n      <td>33 ST</td>\n      <td>204104.0</td>\n      <td>40.7464</td>\n      <td>-73.9818</td>\n      <td>10001</td>\n      <td>21102</td>\n      <td>33959.0</td>\n      <td>81671.0</td>\n      <td>10918</td>\n    </tr>\n    <tr>\n      <th>1</th>\n      <td>34 ST-HERALD SQ</td>\n      <td>1039988.0</td>\n      <td>40.7496</td>\n      <td>-73.9879</td>\n      <td>10001</td>\n      <td>21102</td>\n      <td>33959.0</td>\n      <td>81671.0</td>\n      <td>10918</td>\n    </tr>\n    <tr>\n      <th>105</th>\n      <td>CITY HALL</td>\n      <td>32518.0</td>\n      <td>40.7133</td>\n      <td>-74.0070</td>\n      <td>10007</td>\n      <td>6988</td>\n      <td>42751.0</td>\n      <td>216037.0</td>\n      <td>3030</td>\n    </tr>\n    <tr>\n      <th>102</th>\n      <td>CITY / BUS</td>\n      <td>121565.0</td>\n      <td>40.7127</td>\n      <td>-74.0060</td>\n      <td>10007</td>\n      <td>6988</td>\n      <td>42751.0</td>\n      <td>216037.0</td>\n      <td>3030</td>\n    </tr>\n    <tr>\n      <th>104</th>\n      <td>PARK PLACE</td>\n      <td>41460.0</td>\n      <td>40.7132</td>\n      <td>-74.0093</td>\n      <td>10007</td>\n      <td>6988</td>\n      <td>42751.0</td>\n      <td>216037.0</td>\n      <td>3030</td>\n    </tr>\n    <tr>\n      <th>100</th>\n      <td>CHAMBERS ST</td>\n      <td>317737.0</td>\n      <td>40.7149</td>\n      <td>-74.0080</td>\n      <td>10007</td>\n      <td>6988</td>\n      <td>42751.0</td>\n      <td>216037.0</td>\n      <td>3030</td>\n    </tr>\n    <tr>\n      <th>101</th>\n      <td>1 AV</td>\n      <td>258451.0</td>\n      <td>40.7127</td>\n      <td>-74.0060</td>\n      <td>10007</td>\n      <td>6988</td>\n      <td>42751.0</td>\n      <td>216037.0</td>\n      <td>3030</td>\n    </tr>\n    <tr>\n      <th>103</th>\n      <td>52 ST</td>\n      <td>86832.0</td>\n      <td>40.7127</td>\n      <td>-74.0060</td>\n      <td>10007</td>\n      <td>6988</td>\n      <td>42751.0</td>\n      <td>216037.0</td>\n      <td>3030</td>\n    </tr>\n    <tr>\n      <th>40</th>\n      <td>PATH WTC 2</td>\n      <td>80916.0</td>\n      <td>40.7127</td>\n      <td>-74.0134</td>\n      <td>10282</td>\n      <td>4783</td>\n      <td>54674.0</td>\n      <td>230952.0</td>\n      <td>2452</td>\n    </tr>\n    <tr>\n      <th>39</th>\n      <td>PATH NEW WTC</td>\n      <td>524075.0</td>\n      <td>40.7127</td>\n      <td>-74.0134</td>\n      <td>10282</td>\n      <td>4783</td>\n      <td>54674.0</td>\n      <td>230952.0</td>\n      <td>2452</td>\n    </tr>\n    <tr>\n      <th>15</th>\n      <td>TIMES SQ-42 ST</td>\n      <td>657024.0</td>\n      <td>40.7559</td>\n      <td>-73.9871</td>\n      <td>10018</td>\n      <td>5229</td>\n      <td>16251.0</td>\n      <td>104635.0</td>\n      <td>2434</td>\n    </tr>\n    <tr>\n      <th>14</th>\n      <td>42 ST-PORT AUTH</td>\n      <td>852579.0</td>\n      <td>40.7573</td>\n      <td>-73.9897</td>\n      <td>10018</td>\n      <td>5229</td>\n      <td>16251.0</td>\n      <td>104635.0</td>\n      <td>2434</td>\n    </tr>\n  </tbody>\n</table>\n</div>"
     },
     "metadata": {},
     "execution_count": 240
    }
   ],
   "source": [
    "station_high_income.sort_values('population', ascending=False)"
   ]
  },
  {
   "source": [
    "### Recommended Stations based on total traffic / median income / population of women \n",
    "- 14 ST, 23 ST, W 4 ST-WASH SQ, 28 ST, 34 ST-HERALD SQ, CHAMBERS ST\n"
   ],
   "cell_type": "markdown",
   "metadata": {}
  },
  {
   "source": [
    "### Visualizing the stations on a map "
   ],
   "cell_type": "markdown",
   "metadata": {}
  },
  {
   "source": [
    "# 2D map view of all station locations\n",
    "fig = px.scatter_mapbox(station_zip_demo, 'Latitude', 'Longitude', zoom=11)\n",
    "fig.update_traces(marker=dict(size=10))\n",
    "fig.update_layout(mapbox_style=\"stamen-toner\")\n",
    "fig.update_layout(margin={\"r\":0,\"t\":0,\"l\":0,\"b\":0})\n",
    "fig.show()\n"
   ],
   "cell_type": "code",
   "metadata": {},
   "execution_count": 27,
   "outputs": [
    {
     "output_type": "display_data",
     "data": {
      "application/vnd.plotly.v1+json": {
       "config": {
        "plotlyServerURL": "https://plot.ly"
       },
       "data": [
        {
         "hovertemplate": "Latitude=%{lat}<br>Longitude=%{lon}<extra></extra>",
         "lat": [
          40.641362,
          40.7648269,
          40.7646501,
          40.759901,
          40.749567,
          40.747217,
          40.7440859,
          40.7357611,
          40.730328,
          40.724329,
          40.718092,
          40.713282,
          40.710668,
          40.70722,
          40.7186117,
          40.7163433,
          40.7149161,
          40.709426,
          40.7064906,
          40.762862,
          40.6706475,
          40.661774300000005,
          40.655292,
          40.6507967,
          40.644031,
          40.640927,
          40.635082,
          40.62927,
          40.625039,
          40.617618,
          40.6086699,
          40.597473,
          40.595246,
          40.5912161,
          40.57964365,
          40.576312,
          40.6923892,
          40.690635,
          40.677316,
          40.7340749,
          40.8196507,
          40.660397,
          40.655144,
          40.648939,
          40.645069,
          40.6347733,
          40.7736399,
          40.7794939,
          40.6161881,
          40.7398753,
          40.650782,
          40.624842,
          40.620671,
          40.61741,
          40.611815,
          40.6463249,
          40.7616618,
          40.6315301,
          40.6193283,
          40.7838618,
          40.5976945,
          40.5886755,
          40.7374588,
          40.600409,
          40.7127281,
          40.7174046,
          40.7038293,
          40.7145231,
          40.7181616,
          40.7076636,
          40.7062248,
          40.7066877,
          40.6997803,
          40.6859193,
          40.6885422,
          40.6945185,
          40.6755661,
          40.6695618,
          40.6637042,
          40.6512183,
          40.66038974999999,
          40.6532536,
          40.7084064,
          40.7068552,
          40.7002809,
          40.6969959,
          40.6934095,
          40.6895761,
          40.6829301,
          40.6768986,
          40.6654867,
          40.6796142,
          40.6817017,
          40.6833496,
          40.6899088,
          40.6938911,
          40.6817152,
          40.6844387,
          40.7005266,
          40.6979465,
          40.7552496,
          40.7028171,
          40.7043972,
          40.7062234,
          40.7130242,
          40.8677645,
          40.8652769,
          40.8591154,
          40.8517607,
          40.8475742,
          40.8409712,
          40.8308908,
          40.8242108,
          40.817202,
          40.8043494,
          40.8044723,
          40.80414,
          40.7961299,
          40.7943793,
          40.7790162,
          40.7379008,
          40.731643,
          40.7223025,
          40.7118877,
          40.6992975,
          40.6863074,
          40.6706813,
          40.6698674,
          40.6798863,
          40.679347,
          40.6788802,
          40.6785377,
          40.6744049,
          40.6654867,
          40.6740912,
          40.6754182,
          40.6768293,
          40.6793809,
          40.6798468,
          40.6804488,
          40.6080413,
          40.5880338,
          40.5853442,
          40.5832557,
          40.579451000000006,
          40.5910021,
          40.5923764,
          40.5929615,
          40.5952838,
          40.5996428,
          40.6053825,
          40.8357244,
          40.8400335,
          40.8459,
          40.8504099,
          40.856093,
          40.861296,
          40.866978,
          40.873244,
          40.874811,
          40.7605598,
          40.740508,
          40.7478095,
          40.7491009,
          40.7575068,
          40.7566484,
          40.7530794,
          40.7494358,
          40.7420609,
          40.730043,
          40.7267968,
          40.7195942,
          40.718331,
          40.7139415,
          40.7092563,
          40.70546,
          40.707564,
          40.71047,
          40.712646,
          40.7464555,
          40.744065,
          40.733293,
          40.724635,
          40.7617198,
          40.688873,
          40.754222,
          40.725297,
          40.723402,
          40.713715,
          40.701397,
          40.6808135,
          40.680303,
          40.636119,
          40.625322,
          40.6151399,
          40.608944,
          40.5896199,
          40.5810109,
          40.763972,
          40.62958275,
          40.86576205,
          40.78168875,
          40.7181616,
          40.7055418,
          40.7127281,
          40.7329877,
          40.7340749,
          40.7379008,
          40.7017103,
          40.7111153,
          40.704756,
          40.7188732,
          40.7285993,
          40.7410394,
          40.8340678,
          40.8552578,
          40.8644038,
          40.8695689,
          40.8762983,
          40.8789536,
          40.8849733,
          40.8970755,
          40.70504105,
          40.70569125,
          40.7259471,
          40.729795,
          40.7463947,
          40.7571102,
          40.7947868,
          40.8443436,
          40.8484815,
          40.8534266,
          40.8583564,
          40.8797323,
          40.8957527,
          40.7841204,
          40.823712,
          40.8160747,
          40.816519,
          40.8221585,
          40.824126,
          40.8301265,
          40.8373195,
          40.8418946,
          40.8489744,
          40.8588594,
          40.8654299,
          40.8714348,
          40.8700571,
          40.8838215,
          40.8879866,
          40.8933832,
          40.8984462,
          40.9061974,
          40.8104414,
          40.807555,
          40.8051423,
          40.8120839,
          40.8162916,
          40.8208004,
          40.8265891,
          40.8285948,
          40.8316162,
          40.833271249999996,
          40.8342413,
          40.8367792,
          40.8408333,
          40.8439123,
          40.847037,
          40.85413105,
          40.753821,
          40.7424124,
          40.750607,
          40.7526866,
          40.7565586,
          40.7666967,
          40.7704417,
          40.7749872,
          40.7446199,
          40.7438431,
          40.7431184,
          40.7127281,
          40.7456359,
          40.7463474,
          40.7468762,
          40.733988,
          40.7491675,
          40.7524337,
          40.7654301,
          40.6974653,
          40.6905128,
          40.6887102,
          40.6694074,
          40.6614626,
          40.6635137,
          40.6646501,
          40.6589611,
          40.6680739,
          40.6630955,
          40.6570982,
          40.6451265,
          40.6399641,
          40.85452195,
          40.87944245,
          40.6439626,
          40.6364926,
          40.7559,
          40.7017,
          40.7132,
          40.69218,
          40.683666,
          40.577422,
          40.576127,
          40.658733,
          40.646654,
          40.691324,
          40.692435,
          40.836013,
          40.781433,
          40.768296,
          40.757308,
          40.752287,
          40.688484,
          40.683263,
          40.679498,
          40.685951,
          40.668234,
          40.672097,
          40.827905,
          40.746644,
          40.737015,
          40.694568,
          40.689627,
          40.758663,
          40.67358,
          40.670387,
          40.660365,
          40.759145,
          40.754203,
          40.709179,
          40.700486,
          40.702147,
          40.768799,
          40.777891,
          40.784318,
          40.732141,
          40.726676,
          40.741339,
          40.766859,
          40.7359352,
          40.7486,
          40.735657,
          40.735657,
          40.712742,
          40.712742,
          40.77344,
          40.807722,
          40.821,
          40.751776,
          40.768141,
          40.813224,
          40.818375,
          40.840295,
          40.808719,
          40.829495,
          40.742626,
          40.747659,
          40.749865,
          40.753821,
          40.675235,
          40.671987,
          40.668897,
          40.664717,
          40.632836,
          40.8883,
          43.0844,
          43.0844
         ],
         "legendgroup": "",
         "lon": [
          -74.017881,
          -73.9726747,
          -73.9806228,
          -73.984139,
          -73.98795,
          -73.9933621,
          -73.995641,
          -73.9906491,
          -73.9926289,
          -73.997702,
          -73.999892,
          -74.006978,
          -74.0110289,
          -74.013342,
          -73.98823849253276,
          -73.996006,
          -74.0079676,
          -74.0065858,
          -74.0110604,
          -73.981637,
          -73.9591467,
          -73.97108902901994,
          -73.961495,
          -73.9495439,
          -73.964492,
          -73.963891,
          -73.962793,
          -73.961639,
          -73.960803,
          -73.959399,
          -73.957734,
          -73.979137,
          -73.955161,
          -73.9445822,
          -73.96111081059607,
          -73.968501,
          -73.9899564,
          -73.981824,
          -73.98311,
          -73.9996395,
          -73.9016566,
          -73.998091,
          -74.003549,
          -74.010006,
          -74.014034,
          -74.0234269,
          -73.9598468,
          -73.9555295,
          -74.0310127,
          -74.0027381,
          -73.975776,
          -73.996353,
          -73.990414,
          -73.985026,
          -73.981848,
          -73.9943519,
          -73.9838968,
          -73.9954466,
          -73.9989445,
          -73.9799918,
          -73.9867923,
          -73.9837274,
          -73.997068,
          -74.144941,
          -74.0060152,
          -73.9570004,
          -73.9473618,
          -73.9443875,
          -73.9937839,
          -73.9398247,
          -73.9326982,
          -73.9230698,
          -73.9115169,
          -73.915852,
          -73.9042827,
          -73.9271729,
          -73.9029897,
          -73.9020236,
          -73.9004923,
          -73.8990872,
          -73.83028836993908,
          -73.7872591,
          -73.9579142,
          -73.9533503,
          -73.9411682,
          -73.9352775,
          -73.9289536,
          -73.9222019,
          -73.9105344,
          -73.8992908,
          -73.889236,
          -73.8857367,
          -73.8790759,
          -73.873286,
          -73.8726597,
          -73.8516544,
          -73.837694,
          -73.8318863,
          -73.8283178,
          -73.9266436,
          -73.98597944095745,
          -73.9076756,
          -73.903074,
          -73.8959256,
          -73.9514225,
          -73.9210552,
          -73.9277986,
          -73.9341529,
          -73.9379597,
          -73.9396291,
          -73.9394687,
          -73.9413674,
          -73.9446318,
          -73.9479825,
          -73.937411,
          -73.9553299,
          -73.9666179,
          -73.9614554,
          -73.9719996,
          -73.9818557,
          -74.0001587,
          -74.0009941,
          -73.9971855,
          -74.0124412,
          -73.9914349,
          -73.9744304,
          -73.9579734,
          -73.9505172,
          -73.9407616,
          -73.9308408,
          -73.9216651,
          -73.9137481,
          -73.8965126,
          -73.889236,
          -73.8808063,
          -73.871912,
          -73.8653469,
          -73.8589845,
          -73.8515018,
          -73.8437863,
          -73.8159883,
          -73.8136929,
          -73.8204847,
          -73.8273814,
          -73.83531310640372,
          -73.7963277,
          -73.7887383,
          -73.7759368,
          -73.7683817,
          -73.7617236,
          -73.7551326,
          -73.9212797,
          -73.917815,
          -73.910136,
          -73.905227,
          -73.900741,
          -73.897749,
          -73.893509,
          -73.8871379,
          -73.878855,
          -73.9759537,
          -73.98389333333333,
          -73.9457377,
          -73.9372155,
          -73.9201758,
          -73.9140858,
          -73.9062074,
          -73.8977926,
          -73.8812565,
          -73.8616485,
          -73.8532472,
          -73.8448553,
          -73.837324,
          -73.830742,
          -73.8201394,
          -73.810708,
          -73.803326,
          -73.793604,
          -73.783817,
          -73.9454525,
          -73.949724,
          -73.9402955,
          -73.951277,
          -73.8018206,
          -73.96007,
          -73.9845689,
          -73.996204,
          -73.989938,
          -73.990173,
          -73.986751,
          -73.9750886,
          -73.995048,
          -73.978172,
          -73.976127,
          -73.974197,
          -73.973022,
          -73.97425,
          -73.974574,
          -73.97745,
          -74.13373502676174,
          -73.7931829095894,
          -73.97999282935857,
          -73.9937839,
          -74.0090528,
          -74.0060152,
          -74.0069062,
          -73.9996395,
          -74.0001587,
          -74.0131489,
          -74.0122698,
          -74.006889,
          -74.0065862,
          -74.0053077,
          -73.9978652,
          -73.944916,
          -73.9293981,
          -73.9189683,
          -73.9151877,
          -73.9104292,
          -73.904797,
          -73.900691,
          -73.8865797057321,
          -74.0136482462672,
          -73.9963578678543,
          -73.9946797,
          -73.9907804,
          -73.9818293,
          -73.9719555,
          -73.9443458,
          -73.9147452,
          -73.9117776,
          -73.9077258,
          -73.9038946,
          -73.8846699,
          -73.8624521,
          -73.9591868,
          -73.9361014,
          -73.917684,
          -73.90778,
          -73.8967991,
          -73.8929633,
          -73.8918422,
          -73.8877378,
          -73.8735195,
          -73.8683841,
          -73.8554688,
          -73.8673652,
          -73.8671748,
          -73.84588463642925,
          -73.8626982,
          -73.8603882,
          -73.8574009,
          -73.8543357,
          -73.8555114,
          -73.9260537,
          -73.9192429,
          -73.9135096,
          -73.9041639,
          -73.8962205,
          -73.8908065,
          -73.8862747,
          -73.8791931,
          -73.8672666,
          -73.86099325489418,
          -73.8512738,
          -73.8466904,
          -73.8430556,
          -73.836261,
          -73.8322772,
          -73.82217330144337,
          -73.9819629,
          -73.9481683,
          -73.9402599,
          -73.9329357,
          -73.9298155,
          -73.9215824,
          -73.9176868,
          -73.9121176,
          -73.9312304,
          -73.9244296,
          -73.9182509,
          -74.0060152,
          -73.9030518,
          -73.896305,
          -73.8912482,
          -73.8693018,
          -73.8694786,
          -73.8441172,
          -73.8174291,
          -73.9930222,
          -73.9849862,
          -73.9808138,
          -73.9421829,
          -73.9162598,
          -73.9024354,
          -73.894767,
          -73.8992787,
          -73.9506525,
          -73.9508689,
          -73.9502145,
          -73.9489324,
          -73.9483922,
          -73.86026579619062,
          -73.83800069092447,
          -74.0734416,
          -74.0854193,
          -73.9871,
          -74.0129,
          -74.0093,
          -73.985942,
          -73.97881,
          -73.981233,
          -73.975939,
          -73.899232,
          -73.90185,
          -73.867139,
          -73.86001,
          -73.939892,
          -73.972143,
          -73.981736,
          -73.989735,
          -73.993391,
          -73.985001,
          -73.965838,
          -73.904512,
          -73.825798,
          -73.834058,
          -73.835919,
          -73.925651,
          -73.891338,
          -73.877223,
          -73.949046,
          -73.953522,
          -73.981329,
          -73.995959,
          -73.98848,
          -73.979493,
          -73.95326,
          -73.942836,
          -73.820574,
          -73.807969,
          -73.801109,
          -73.958424,
          -73.951787,
          -73.947152,
          -74.063114,
          -74.034757,
          -73.989272,
          -73.921423,
          -74.0273625,
          -73.9887,
          -74.172363,
          -74.172363,
          -74.013382,
          -74.013382,
          -73.982209,
          -73.96411,
          -73.954,
          -73.976848,
          -73.96387,
          -73.929849,
          -73.927351,
          -73.880049,
          -73.907657,
          -73.874474,
          -73.953581,
          -73.883697,
          -73.8627,
          -73.981963,
          -73.971046,
          -73.964375,
          -73.932942,
          -73.92261,
          -73.947642,
          -73.830834,
          -77.6749,
          -77.6749
         ],
         "marker": {
          "color": "#636efa",
          "size": 10
         },
         "mode": "markers",
         "name": "",
         "showlegend": false,
         "subplot": "mapbox",
         "type": "scattermapbox"
        }
       ],
       "layout": {
        "legend": {
         "tracegroupgap": 0
        },
        "mapbox": {
         "center": {
          "lat": 40.74269403328912,
          "lon": -73.95363322161336
         },
         "domain": {
          "x": [
           0,
           1
          ],
          "y": [
           0,
           1
          ]
         },
         "style": "stamen-toner",
         "zoom": 11
        },
        "margin": {
         "b": 0,
         "l": 0,
         "r": 0,
         "t": 0
        },
        "template": {
         "data": {
          "bar": [
           {
            "error_x": {
             "color": "#2a3f5f"
            },
            "error_y": {
             "color": "#2a3f5f"
            },
            "marker": {
             "line": {
              "color": "#E5ECF6",
              "width": 0.5
             }
            },
            "type": "bar"
           }
          ],
          "barpolar": [
           {
            "marker": {
             "line": {
              "color": "#E5ECF6",
              "width": 0.5
             }
            },
            "type": "barpolar"
           }
          ],
          "carpet": [
           {
            "aaxis": {
             "endlinecolor": "#2a3f5f",
             "gridcolor": "white",
             "linecolor": "white",
             "minorgridcolor": "white",
             "startlinecolor": "#2a3f5f"
            },
            "baxis": {
             "endlinecolor": "#2a3f5f",
             "gridcolor": "white",
             "linecolor": "white",
             "minorgridcolor": "white",
             "startlinecolor": "#2a3f5f"
            },
            "type": "carpet"
           }
          ],
          "choropleth": [
           {
            "colorbar": {
             "outlinewidth": 0,
             "ticks": ""
            },
            "type": "choropleth"
           }
          ],
          "contour": [
           {
            "colorbar": {
             "outlinewidth": 0,
             "ticks": ""
            },
            "colorscale": [
             [
              0,
              "#0d0887"
             ],
             [
              0.1111111111111111,
              "#46039f"
             ],
             [
              0.2222222222222222,
              "#7201a8"
             ],
             [
              0.3333333333333333,
              "#9c179e"
             ],
             [
              0.4444444444444444,
              "#bd3786"
             ],
             [
              0.5555555555555556,
              "#d8576b"
             ],
             [
              0.6666666666666666,
              "#ed7953"
             ],
             [
              0.7777777777777778,
              "#fb9f3a"
             ],
             [
              0.8888888888888888,
              "#fdca26"
             ],
             [
              1,
              "#f0f921"
             ]
            ],
            "type": "contour"
           }
          ],
          "contourcarpet": [
           {
            "colorbar": {
             "outlinewidth": 0,
             "ticks": ""
            },
            "type": "contourcarpet"
           }
          ],
          "heatmap": [
           {
            "colorbar": {
             "outlinewidth": 0,
             "ticks": ""
            },
            "colorscale": [
             [
              0,
              "#0d0887"
             ],
             [
              0.1111111111111111,
              "#46039f"
             ],
             [
              0.2222222222222222,
              "#7201a8"
             ],
             [
              0.3333333333333333,
              "#9c179e"
             ],
             [
              0.4444444444444444,
              "#bd3786"
             ],
             [
              0.5555555555555556,
              "#d8576b"
             ],
             [
              0.6666666666666666,
              "#ed7953"
             ],
             [
              0.7777777777777778,
              "#fb9f3a"
             ],
             [
              0.8888888888888888,
              "#fdca26"
             ],
             [
              1,
              "#f0f921"
             ]
            ],
            "type": "heatmap"
           }
          ],
          "heatmapgl": [
           {
            "colorbar": {
             "outlinewidth": 0,
             "ticks": ""
            },
            "colorscale": [
             [
              0,
              "#0d0887"
             ],
             [
              0.1111111111111111,
              "#46039f"
             ],
             [
              0.2222222222222222,
              "#7201a8"
             ],
             [
              0.3333333333333333,
              "#9c179e"
             ],
             [
              0.4444444444444444,
              "#bd3786"
             ],
             [
              0.5555555555555556,
              "#d8576b"
             ],
             [
              0.6666666666666666,
              "#ed7953"
             ],
             [
              0.7777777777777778,
              "#fb9f3a"
             ],
             [
              0.8888888888888888,
              "#fdca26"
             ],
             [
              1,
              "#f0f921"
             ]
            ],
            "type": "heatmapgl"
           }
          ],
          "histogram": [
           {
            "marker": {
             "colorbar": {
              "outlinewidth": 0,
              "ticks": ""
             }
            },
            "type": "histogram"
           }
          ],
          "histogram2d": [
           {
            "colorbar": {
             "outlinewidth": 0,
             "ticks": ""
            },
            "colorscale": [
             [
              0,
              "#0d0887"
             ],
             [
              0.1111111111111111,
              "#46039f"
             ],
             [
              0.2222222222222222,
              "#7201a8"
             ],
             [
              0.3333333333333333,
              "#9c179e"
             ],
             [
              0.4444444444444444,
              "#bd3786"
             ],
             [
              0.5555555555555556,
              "#d8576b"
             ],
             [
              0.6666666666666666,
              "#ed7953"
             ],
             [
              0.7777777777777778,
              "#fb9f3a"
             ],
             [
              0.8888888888888888,
              "#fdca26"
             ],
             [
              1,
              "#f0f921"
             ]
            ],
            "type": "histogram2d"
           }
          ],
          "histogram2dcontour": [
           {
            "colorbar": {
             "outlinewidth": 0,
             "ticks": ""
            },
            "colorscale": [
             [
              0,
              "#0d0887"
             ],
             [
              0.1111111111111111,
              "#46039f"
             ],
             [
              0.2222222222222222,
              "#7201a8"
             ],
             [
              0.3333333333333333,
              "#9c179e"
             ],
             [
              0.4444444444444444,
              "#bd3786"
             ],
             [
              0.5555555555555556,
              "#d8576b"
             ],
             [
              0.6666666666666666,
              "#ed7953"
             ],
             [
              0.7777777777777778,
              "#fb9f3a"
             ],
             [
              0.8888888888888888,
              "#fdca26"
             ],
             [
              1,
              "#f0f921"
             ]
            ],
            "type": "histogram2dcontour"
           }
          ],
          "mesh3d": [
           {
            "colorbar": {
             "outlinewidth": 0,
             "ticks": ""
            },
            "type": "mesh3d"
           }
          ],
          "parcoords": [
           {
            "line": {
             "colorbar": {
              "outlinewidth": 0,
              "ticks": ""
             }
            },
            "type": "parcoords"
           }
          ],
          "pie": [
           {
            "automargin": true,
            "type": "pie"
           }
          ],
          "scatter": [
           {
            "marker": {
             "colorbar": {
              "outlinewidth": 0,
              "ticks": ""
             }
            },
            "type": "scatter"
           }
          ],
          "scatter3d": [
           {
            "line": {
             "colorbar": {
              "outlinewidth": 0,
              "ticks": ""
             }
            },
            "marker": {
             "colorbar": {
              "outlinewidth": 0,
              "ticks": ""
             }
            },
            "type": "scatter3d"
           }
          ],
          "scattercarpet": [
           {
            "marker": {
             "colorbar": {
              "outlinewidth": 0,
              "ticks": ""
             }
            },
            "type": "scattercarpet"
           }
          ],
          "scattergeo": [
           {
            "marker": {
             "colorbar": {
              "outlinewidth": 0,
              "ticks": ""
             }
            },
            "type": "scattergeo"
           }
          ],
          "scattergl": [
           {
            "marker": {
             "colorbar": {
              "outlinewidth": 0,
              "ticks": ""
             }
            },
            "type": "scattergl"
           }
          ],
          "scattermapbox": [
           {
            "marker": {
             "colorbar": {
              "outlinewidth": 0,
              "ticks": ""
             }
            },
            "type": "scattermapbox"
           }
          ],
          "scatterpolar": [
           {
            "marker": {
             "colorbar": {
              "outlinewidth": 0,
              "ticks": ""
             }
            },
            "type": "scatterpolar"
           }
          ],
          "scatterpolargl": [
           {
            "marker": {
             "colorbar": {
              "outlinewidth": 0,
              "ticks": ""
             }
            },
            "type": "scatterpolargl"
           }
          ],
          "scatterternary": [
           {
            "marker": {
             "colorbar": {
              "outlinewidth": 0,
              "ticks": ""
             }
            },
            "type": "scatterternary"
           }
          ],
          "surface": [
           {
            "colorbar": {
             "outlinewidth": 0,
             "ticks": ""
            },
            "colorscale": [
             [
              0,
              "#0d0887"
             ],
             [
              0.1111111111111111,
              "#46039f"
             ],
             [
              0.2222222222222222,
              "#7201a8"
             ],
             [
              0.3333333333333333,
              "#9c179e"
             ],
             [
              0.4444444444444444,
              "#bd3786"
             ],
             [
              0.5555555555555556,
              "#d8576b"
             ],
             [
              0.6666666666666666,
              "#ed7953"
             ],
             [
              0.7777777777777778,
              "#fb9f3a"
             ],
             [
              0.8888888888888888,
              "#fdca26"
             ],
             [
              1,
              "#f0f921"
             ]
            ],
            "type": "surface"
           }
          ],
          "table": [
           {
            "cells": {
             "fill": {
              "color": "#EBF0F8"
             },
             "line": {
              "color": "white"
             }
            },
            "header": {
             "fill": {
              "color": "#C8D4E3"
             },
             "line": {
              "color": "white"
             }
            },
            "type": "table"
           }
          ]
         },
         "layout": {
          "annotationdefaults": {
           "arrowcolor": "#2a3f5f",
           "arrowhead": 0,
           "arrowwidth": 1
          },
          "coloraxis": {
           "colorbar": {
            "outlinewidth": 0,
            "ticks": ""
           }
          },
          "colorscale": {
           "diverging": [
            [
             0,
             "#8e0152"
            ],
            [
             0.1,
             "#c51b7d"
            ],
            [
             0.2,
             "#de77ae"
            ],
            [
             0.3,
             "#f1b6da"
            ],
            [
             0.4,
             "#fde0ef"
            ],
            [
             0.5,
             "#f7f7f7"
            ],
            [
             0.6,
             "#e6f5d0"
            ],
            [
             0.7,
             "#b8e186"
            ],
            [
             0.8,
             "#7fbc41"
            ],
            [
             0.9,
             "#4d9221"
            ],
            [
             1,
             "#276419"
            ]
           ],
           "sequential": [
            [
             0,
             "#0d0887"
            ],
            [
             0.1111111111111111,
             "#46039f"
            ],
            [
             0.2222222222222222,
             "#7201a8"
            ],
            [
             0.3333333333333333,
             "#9c179e"
            ],
            [
             0.4444444444444444,
             "#bd3786"
            ],
            [
             0.5555555555555556,
             "#d8576b"
            ],
            [
             0.6666666666666666,
             "#ed7953"
            ],
            [
             0.7777777777777778,
             "#fb9f3a"
            ],
            [
             0.8888888888888888,
             "#fdca26"
            ],
            [
             1,
             "#f0f921"
            ]
           ],
           "sequentialminus": [
            [
             0,
             "#0d0887"
            ],
            [
             0.1111111111111111,
             "#46039f"
            ],
            [
             0.2222222222222222,
             "#7201a8"
            ],
            [
             0.3333333333333333,
             "#9c179e"
            ],
            [
             0.4444444444444444,
             "#bd3786"
            ],
            [
             0.5555555555555556,
             "#d8576b"
            ],
            [
             0.6666666666666666,
             "#ed7953"
            ],
            [
             0.7777777777777778,
             "#fb9f3a"
            ],
            [
             0.8888888888888888,
             "#fdca26"
            ],
            [
             1,
             "#f0f921"
            ]
           ]
          },
          "colorway": [
           "#636efa",
           "#EF553B",
           "#00cc96",
           "#ab63fa",
           "#FFA15A",
           "#19d3f3",
           "#FF6692",
           "#B6E880",
           "#FF97FF",
           "#FECB52"
          ],
          "font": {
           "color": "#2a3f5f"
          },
          "geo": {
           "bgcolor": "white",
           "lakecolor": "white",
           "landcolor": "#E5ECF6",
           "showlakes": true,
           "showland": true,
           "subunitcolor": "white"
          },
          "hoverlabel": {
           "align": "left"
          },
          "hovermode": "closest",
          "mapbox": {
           "style": "light"
          },
          "paper_bgcolor": "white",
          "plot_bgcolor": "#E5ECF6",
          "polar": {
           "angularaxis": {
            "gridcolor": "white",
            "linecolor": "white",
            "ticks": ""
           },
           "bgcolor": "#E5ECF6",
           "radialaxis": {
            "gridcolor": "white",
            "linecolor": "white",
            "ticks": ""
           }
          },
          "scene": {
           "xaxis": {
            "backgroundcolor": "#E5ECF6",
            "gridcolor": "white",
            "gridwidth": 2,
            "linecolor": "white",
            "showbackground": true,
            "ticks": "",
            "zerolinecolor": "white"
           },
           "yaxis": {
            "backgroundcolor": "#E5ECF6",
            "gridcolor": "white",
            "gridwidth": 2,
            "linecolor": "white",
            "showbackground": true,
            "ticks": "",
            "zerolinecolor": "white"
           },
           "zaxis": {
            "backgroundcolor": "#E5ECF6",
            "gridcolor": "white",
            "gridwidth": 2,
            "linecolor": "white",
            "showbackground": true,
            "ticks": "",
            "zerolinecolor": "white"
           }
          },
          "shapedefaults": {
           "line": {
            "color": "#2a3f5f"
           }
          },
          "ternary": {
           "aaxis": {
            "gridcolor": "white",
            "linecolor": "white",
            "ticks": ""
           },
           "baxis": {
            "gridcolor": "white",
            "linecolor": "white",
            "ticks": ""
           },
           "bgcolor": "#E5ECF6",
           "caxis": {
            "gridcolor": "white",
            "linecolor": "white",
            "ticks": ""
           }
          },
          "title": {
           "x": 0.05
          },
          "xaxis": {
           "automargin": true,
           "gridcolor": "white",
           "linecolor": "white",
           "ticks": "",
           "title": {
            "standoff": 15
           },
           "zerolinecolor": "white",
           "zerolinewidth": 2
          },
          "yaxis": {
           "automargin": true,
           "gridcolor": "white",
           "linecolor": "white",
           "ticks": "",
           "title": {
            "standoff": 15
           },
           "zerolinecolor": "white",
           "zerolinewidth": 2
          }
         }
        }
       }
      }
     },
     "metadata": {}
    }
   ]
  },
  {
   "cell_type": "code",
   "execution_count": 31,
   "metadata": {},
   "outputs": [
    {
     "output_type": "display_data",
     "data": {
      "application/vnd.plotly.v1+json": {
       "config": {
        "plotlyServerURL": "https://plot.ly"
       },
       "data": [
        {
         "hovertemplate": "Latitude=%{lat}<br>Longitude=%{lon}<extra></extra>",
         "lat": [
          41.32038665,
          41.01494415,
          40.7558452,
          40.72914525,
          40.708156349999996,
          40.7503833,
          40.7625601,
          40.75300505,
          40.77302115,
          43.0941934,
          40.7545433,
          43.14916785,
          42.9305521,
          40.7135788,
          40.7078794,
          42.85981775,
          40.76230085,
          42.1435257,
          40.710322649999995,
          40.7147553,
          40.7612526,
          40.7288797,
          40.7577041,
          40.7434467,
          40.7588263,
          43.059526,
          42.8775471,
          40.7364296,
          43.0649163,
          40.741235950000004,
          42.3650854,
          40.7506498,
          40.645353549999996,
          42.1479836,
          40.766562,
          40.6740635,
          41.3579462,
          40.7712673,
          40.72925325,
          40.7635205,
          40.70703525,
          43.776052,
          43.11876,
          40.64601025,
          41.6611595,
          40.76953315,
          40.78466865,
          40.7635285,
          40.76445335,
          40.90549785,
          40.7065818,
          40.8079488,
          40.73670285,
          40.75801405,
          40.734722,
          40.7608348,
          42.8678447,
          40.7567716,
          40.7251793,
          43.1409853,
          40.7867914,
          40.7293432,
          40.7008283,
          43.05788882608696,
          40.75803195,
          40.7235788,
          40.7413328,
          40.73060415,
          40.7408812,
          40.754683549999996,
          40.75352114285714,
          40.7399209,
          40.742999100000006,
          40.7426776,
          40.7280768,
          40.7390034
         ],
         "legendgroup": "",
         "lon": [
          -73.67869784162318,
          -73.72689337433243,
          -73.97561496589915,
          -73.70263405446019,
          -73.62858135958973,
          -73.97262147463235,
          -73.9725989,
          -73.97757258818191,
          -73.56139335295892,
          -75.2467041,
          -73.98036,
          -75.37577549382657,
          -77.0885437,
          -74.0149012,
          -74.011458,
          -76.99639816266068,
          -73.97125668962013,
          -77.0543408,
          -73.55485096970199,
          -74.01441859133114,
          -73.9735148,
          -73.9934374,
          -73.9775447,
          -73.9722189,
          -73.9745247,
          -76.1521175,
          -78.87487409828174,
          -73.9488635,
          -76.0858675,
          -73.35669116536101,
          -73.4692788,
          -73.9388368,
          -74.09174767890863,
          -74.6490211,
          -73.98362090965932,
          -73.9862307,
          -73.7823212,
          -73.966008,
          -73.99625393609625,
          -73.9959106,
          -73.70171903255334,
          -75.436249,
          -75.2924590757315,
          -73.95735557033811,
          -73.9291306,
          -73.99067563237543,
          -73.90478830758894,
          -73.9728007,
          -73.95694407847097,
          -73.10263393261312,
          -74.0100596,
          -73.96179735775709,
          -73.81879574241711,
          -73.9769564693561,
          -73.9910745,
          -73.9752495,
          -75.8871382,
          -73.9896414,
          -73.5460685,
          -77.7190413,
          -73.9754518,
          -73.9921259,
          -73.9882067,
          -74.3349787826087,
          -73.98483197526832,
          -74.0025799,
          -74.0000779,
          -73.99152049790047,
          -74.0020865,
          -73.9847556191919,
          -73.99891471428572,
          -73.9909787,
          -73.99046185418356,
          -73.9985382,
          -73.9933389,
          -73.9932784
         ],
         "marker": {
          "color": "green"
         },
         "mode": "markers",
         "name": "",
         "showlegend": false,
         "subplot": "mapbox",
         "type": "scattermapbox"
        }
       ],
       "layout": {
        "legend": {
         "tracegroupgap": 0
        },
        "mapbox": {
         "center": {
          "lat": 40.77949,
          "lon": -73.95553
         },
         "domain": {
          "x": [
           0,
           1
          ],
          "y": [
           0,
           1
          ]
         },
         "style": "stamen-toner",
         "zoom": 11
        },
        "margin": {
         "b": 0,
         "l": 0,
         "r": 0,
         "t": 0
        },
        "template": {
         "data": {
          "bar": [
           {
            "error_x": {
             "color": "#2a3f5f"
            },
            "error_y": {
             "color": "#2a3f5f"
            },
            "marker": {
             "line": {
              "color": "#E5ECF6",
              "width": 0.5
             }
            },
            "type": "bar"
           }
          ],
          "barpolar": [
           {
            "marker": {
             "line": {
              "color": "#E5ECF6",
              "width": 0.5
             }
            },
            "type": "barpolar"
           }
          ],
          "carpet": [
           {
            "aaxis": {
             "endlinecolor": "#2a3f5f",
             "gridcolor": "white",
             "linecolor": "white",
             "minorgridcolor": "white",
             "startlinecolor": "#2a3f5f"
            },
            "baxis": {
             "endlinecolor": "#2a3f5f",
             "gridcolor": "white",
             "linecolor": "white",
             "minorgridcolor": "white",
             "startlinecolor": "#2a3f5f"
            },
            "type": "carpet"
           }
          ],
          "choropleth": [
           {
            "colorbar": {
             "outlinewidth": 0,
             "ticks": ""
            },
            "type": "choropleth"
           }
          ],
          "contour": [
           {
            "colorbar": {
             "outlinewidth": 0,
             "ticks": ""
            },
            "colorscale": [
             [
              0,
              "#0d0887"
             ],
             [
              0.1111111111111111,
              "#46039f"
             ],
             [
              0.2222222222222222,
              "#7201a8"
             ],
             [
              0.3333333333333333,
              "#9c179e"
             ],
             [
              0.4444444444444444,
              "#bd3786"
             ],
             [
              0.5555555555555556,
              "#d8576b"
             ],
             [
              0.6666666666666666,
              "#ed7953"
             ],
             [
              0.7777777777777778,
              "#fb9f3a"
             ],
             [
              0.8888888888888888,
              "#fdca26"
             ],
             [
              1,
              "#f0f921"
             ]
            ],
            "type": "contour"
           }
          ],
          "contourcarpet": [
           {
            "colorbar": {
             "outlinewidth": 0,
             "ticks": ""
            },
            "type": "contourcarpet"
           }
          ],
          "heatmap": [
           {
            "colorbar": {
             "outlinewidth": 0,
             "ticks": ""
            },
            "colorscale": [
             [
              0,
              "#0d0887"
             ],
             [
              0.1111111111111111,
              "#46039f"
             ],
             [
              0.2222222222222222,
              "#7201a8"
             ],
             [
              0.3333333333333333,
              "#9c179e"
             ],
             [
              0.4444444444444444,
              "#bd3786"
             ],
             [
              0.5555555555555556,
              "#d8576b"
             ],
             [
              0.6666666666666666,
              "#ed7953"
             ],
             [
              0.7777777777777778,
              "#fb9f3a"
             ],
             [
              0.8888888888888888,
              "#fdca26"
             ],
             [
              1,
              "#f0f921"
             ]
            ],
            "type": "heatmap"
           }
          ],
          "heatmapgl": [
           {
            "colorbar": {
             "outlinewidth": 0,
             "ticks": ""
            },
            "colorscale": [
             [
              0,
              "#0d0887"
             ],
             [
              0.1111111111111111,
              "#46039f"
             ],
             [
              0.2222222222222222,
              "#7201a8"
             ],
             [
              0.3333333333333333,
              "#9c179e"
             ],
             [
              0.4444444444444444,
              "#bd3786"
             ],
             [
              0.5555555555555556,
              "#d8576b"
             ],
             [
              0.6666666666666666,
              "#ed7953"
             ],
             [
              0.7777777777777778,
              "#fb9f3a"
             ],
             [
              0.8888888888888888,
              "#fdca26"
             ],
             [
              1,
              "#f0f921"
             ]
            ],
            "type": "heatmapgl"
           }
          ],
          "histogram": [
           {
            "marker": {
             "colorbar": {
              "outlinewidth": 0,
              "ticks": ""
             }
            },
            "type": "histogram"
           }
          ],
          "histogram2d": [
           {
            "colorbar": {
             "outlinewidth": 0,
             "ticks": ""
            },
            "colorscale": [
             [
              0,
              "#0d0887"
             ],
             [
              0.1111111111111111,
              "#46039f"
             ],
             [
              0.2222222222222222,
              "#7201a8"
             ],
             [
              0.3333333333333333,
              "#9c179e"
             ],
             [
              0.4444444444444444,
              "#bd3786"
             ],
             [
              0.5555555555555556,
              "#d8576b"
             ],
             [
              0.6666666666666666,
              "#ed7953"
             ],
             [
              0.7777777777777778,
              "#fb9f3a"
             ],
             [
              0.8888888888888888,
              "#fdca26"
             ],
             [
              1,
              "#f0f921"
             ]
            ],
            "type": "histogram2d"
           }
          ],
          "histogram2dcontour": [
           {
            "colorbar": {
             "outlinewidth": 0,
             "ticks": ""
            },
            "colorscale": [
             [
              0,
              "#0d0887"
             ],
             [
              0.1111111111111111,
              "#46039f"
             ],
             [
              0.2222222222222222,
              "#7201a8"
             ],
             [
              0.3333333333333333,
              "#9c179e"
             ],
             [
              0.4444444444444444,
              "#bd3786"
             ],
             [
              0.5555555555555556,
              "#d8576b"
             ],
             [
              0.6666666666666666,
              "#ed7953"
             ],
             [
              0.7777777777777778,
              "#fb9f3a"
             ],
             [
              0.8888888888888888,
              "#fdca26"
             ],
             [
              1,
              "#f0f921"
             ]
            ],
            "type": "histogram2dcontour"
           }
          ],
          "mesh3d": [
           {
            "colorbar": {
             "outlinewidth": 0,
             "ticks": ""
            },
            "type": "mesh3d"
           }
          ],
          "parcoords": [
           {
            "line": {
             "colorbar": {
              "outlinewidth": 0,
              "ticks": ""
             }
            },
            "type": "parcoords"
           }
          ],
          "pie": [
           {
            "automargin": true,
            "type": "pie"
           }
          ],
          "scatter": [
           {
            "marker": {
             "colorbar": {
              "outlinewidth": 0,
              "ticks": ""
             }
            },
            "type": "scatter"
           }
          ],
          "scatter3d": [
           {
            "line": {
             "colorbar": {
              "outlinewidth": 0,
              "ticks": ""
             }
            },
            "marker": {
             "colorbar": {
              "outlinewidth": 0,
              "ticks": ""
             }
            },
            "type": "scatter3d"
           }
          ],
          "scattercarpet": [
           {
            "marker": {
             "colorbar": {
              "outlinewidth": 0,
              "ticks": ""
             }
            },
            "type": "scattercarpet"
           }
          ],
          "scattergeo": [
           {
            "marker": {
             "colorbar": {
              "outlinewidth": 0,
              "ticks": ""
             }
            },
            "type": "scattergeo"
           }
          ],
          "scattergl": [
           {
            "marker": {
             "colorbar": {
              "outlinewidth": 0,
              "ticks": ""
             }
            },
            "type": "scattergl"
           }
          ],
          "scattermapbox": [
           {
            "marker": {
             "colorbar": {
              "outlinewidth": 0,
              "ticks": ""
             }
            },
            "type": "scattermapbox"
           }
          ],
          "scatterpolar": [
           {
            "marker": {
             "colorbar": {
              "outlinewidth": 0,
              "ticks": ""
             }
            },
            "type": "scatterpolar"
           }
          ],
          "scatterpolargl": [
           {
            "marker": {
             "colorbar": {
              "outlinewidth": 0,
              "ticks": ""
             }
            },
            "type": "scatterpolargl"
           }
          ],
          "scatterternary": [
           {
            "marker": {
             "colorbar": {
              "outlinewidth": 0,
              "ticks": ""
             }
            },
            "type": "scatterternary"
           }
          ],
          "surface": [
           {
            "colorbar": {
             "outlinewidth": 0,
             "ticks": ""
            },
            "colorscale": [
             [
              0,
              "#0d0887"
             ],
             [
              0.1111111111111111,
              "#46039f"
             ],
             [
              0.2222222222222222,
              "#7201a8"
             ],
             [
              0.3333333333333333,
              "#9c179e"
             ],
             [
              0.4444444444444444,
              "#bd3786"
             ],
             [
              0.5555555555555556,
              "#d8576b"
             ],
             [
              0.6666666666666666,
              "#ed7953"
             ],
             [
              0.7777777777777778,
              "#fb9f3a"
             ],
             [
              0.8888888888888888,
              "#fdca26"
             ],
             [
              1,
              "#f0f921"
             ]
            ],
            "type": "surface"
           }
          ],
          "table": [
           {
            "cells": {
             "fill": {
              "color": "#EBF0F8"
             },
             "line": {
              "color": "white"
             }
            },
            "header": {
             "fill": {
              "color": "#C8D4E3"
             },
             "line": {
              "color": "white"
             }
            },
            "type": "table"
           }
          ]
         },
         "layout": {
          "annotationdefaults": {
           "arrowcolor": "#2a3f5f",
           "arrowhead": 0,
           "arrowwidth": 1
          },
          "coloraxis": {
           "colorbar": {
            "outlinewidth": 0,
            "ticks": ""
           }
          },
          "colorscale": {
           "diverging": [
            [
             0,
             "#8e0152"
            ],
            [
             0.1,
             "#c51b7d"
            ],
            [
             0.2,
             "#de77ae"
            ],
            [
             0.3,
             "#f1b6da"
            ],
            [
             0.4,
             "#fde0ef"
            ],
            [
             0.5,
             "#f7f7f7"
            ],
            [
             0.6,
             "#e6f5d0"
            ],
            [
             0.7,
             "#b8e186"
            ],
            [
             0.8,
             "#7fbc41"
            ],
            [
             0.9,
             "#4d9221"
            ],
            [
             1,
             "#276419"
            ]
           ],
           "sequential": [
            [
             0,
             "#0d0887"
            ],
            [
             0.1111111111111111,
             "#46039f"
            ],
            [
             0.2222222222222222,
             "#7201a8"
            ],
            [
             0.3333333333333333,
             "#9c179e"
            ],
            [
             0.4444444444444444,
             "#bd3786"
            ],
            [
             0.5555555555555556,
             "#d8576b"
            ],
            [
             0.6666666666666666,
             "#ed7953"
            ],
            [
             0.7777777777777778,
             "#fb9f3a"
            ],
            [
             0.8888888888888888,
             "#fdca26"
            ],
            [
             1,
             "#f0f921"
            ]
           ],
           "sequentialminus": [
            [
             0,
             "#0d0887"
            ],
            [
             0.1111111111111111,
             "#46039f"
            ],
            [
             0.2222222222222222,
             "#7201a8"
            ],
            [
             0.3333333333333333,
             "#9c179e"
            ],
            [
             0.4444444444444444,
             "#bd3786"
            ],
            [
             0.5555555555555556,
             "#d8576b"
            ],
            [
             0.6666666666666666,
             "#ed7953"
            ],
            [
             0.7777777777777778,
             "#fb9f3a"
            ],
            [
             0.8888888888888888,
             "#fdca26"
            ],
            [
             1,
             "#f0f921"
            ]
           ]
          },
          "colorway": [
           "#636efa",
           "#EF553B",
           "#00cc96",
           "#ab63fa",
           "#FFA15A",
           "#19d3f3",
           "#FF6692",
           "#B6E880",
           "#FF97FF",
           "#FECB52"
          ],
          "font": {
           "color": "#2a3f5f"
          },
          "geo": {
           "bgcolor": "white",
           "lakecolor": "white",
           "landcolor": "#E5ECF6",
           "showlakes": true,
           "showland": true,
           "subunitcolor": "white"
          },
          "hoverlabel": {
           "align": "left"
          },
          "hovermode": "closest",
          "mapbox": {
           "style": "light"
          },
          "paper_bgcolor": "white",
          "plot_bgcolor": "#E5ECF6",
          "polar": {
           "angularaxis": {
            "gridcolor": "white",
            "linecolor": "white",
            "ticks": ""
           },
           "bgcolor": "#E5ECF6",
           "radialaxis": {
            "gridcolor": "white",
            "linecolor": "white",
            "ticks": ""
           }
          },
          "scene": {
           "xaxis": {
            "backgroundcolor": "#E5ECF6",
            "gridcolor": "white",
            "gridwidth": 2,
            "linecolor": "white",
            "showbackground": true,
            "ticks": "",
            "zerolinecolor": "white"
           },
           "yaxis": {
            "backgroundcolor": "#E5ECF6",
            "gridcolor": "white",
            "gridwidth": 2,
            "linecolor": "white",
            "showbackground": true,
            "ticks": "",
            "zerolinecolor": "white"
           },
           "zaxis": {
            "backgroundcolor": "#E5ECF6",
            "gridcolor": "white",
            "gridwidth": 2,
            "linecolor": "white",
            "showbackground": true,
            "ticks": "",
            "zerolinecolor": "white"
           }
          },
          "shapedefaults": {
           "line": {
            "color": "#2a3f5f"
           }
          },
          "ternary": {
           "aaxis": {
            "gridcolor": "white",
            "linecolor": "white",
            "ticks": ""
           },
           "baxis": {
            "gridcolor": "white",
            "linecolor": "white",
            "ticks": ""
           },
           "bgcolor": "#E5ECF6",
           "caxis": {
            "gridcolor": "white",
            "linecolor": "white",
            "ticks": ""
           }
          },
          "title": {
           "x": 0.05
          },
          "xaxis": {
           "automargin": true,
           "gridcolor": "white",
           "linecolor": "white",
           "ticks": "",
           "title": {
            "standoff": 15
           },
           "zerolinecolor": "white",
           "zerolinewidth": 2
          },
          "yaxis": {
           "automargin": true,
           "gridcolor": "white",
           "linecolor": "white",
           "ticks": "",
           "title": {
            "standoff": 15
           },
           "zerolinecolor": "white",
           "zerolinewidth": 2
          }
         }
        }
       }
      }
     },
     "metadata": {}
    }
   ],
   "source": [
    "# visualize location of top tech companies \n",
    "fig = px.scatter_mapbox(company_zip, lat='Latitude', lon='Longitude', zoom=11,center=dict(lat=40.77949,lon=-73.95553))\n",
    "fig.update_traces(marker=dict(color='green'))\n",
    "fig.update_layout(mapbox_style=\"stamen-toner\")\n",
    "fig.update_layout(margin={\"r\":0,\"t\":0,\"l\":0,\"b\":0})\n",
    "fig.show()\n",
    "\n"
   ]
  },
  {
   "cell_type": "code",
   "execution_count": 32,
   "metadata": {},
   "outputs": [],
   "source": [
    "recommended_stations = station_zip_demo.loc[(station_zip_demo['STATION'] == '23 ST') | (station_zip_demo['STATION'] == '14 ST') | (station_zip_demo['STATION'] == '28 ST ') | (station_zip_demo['STATION'] == '34 ST-HERALD SQ') | (station_zip_demo['STATION'] == 'W 4 ST-WASH SQ') | (station_zip_demo['STATION'] == '28 ST') | (station_zip_demo['STATION'] == 'CHAMBERS ST')]"
   ]
  },
  {
   "cell_type": "code",
   "execution_count": 37,
   "metadata": {},
   "outputs": [
    {
     "output_type": "display_data",
     "data": {
      "application/vnd.plotly.v1+json": {
       "config": {
        "plotlyServerURL": "https://plot.ly"
       },
       "data": [
        {
         "hovertemplate": "Latitude=%{lat}<br>Longitude=%{lon}<extra></extra>",
         "lat": [
          41.32038665,
          41.01494415,
          40.7558452,
          40.72914525,
          40.708156349999996,
          40.7503833,
          40.7625601,
          40.75300505,
          40.77302115,
          43.0941934,
          40.7545433,
          43.14916785,
          42.9305521,
          40.7135788,
          40.7078794,
          42.85981775,
          40.76230085,
          42.1435257,
          40.710322649999995,
          40.7147553,
          40.7612526,
          40.7288797,
          40.7577041,
          40.7434467,
          40.7588263,
          43.059526,
          42.8775471,
          40.7364296,
          43.0649163,
          40.741235950000004,
          42.3650854,
          40.7506498,
          40.645353549999996,
          42.1479836,
          40.766562,
          40.6740635,
          41.3579462,
          40.7712673,
          40.72925325,
          40.7635205,
          40.70703525,
          43.776052,
          43.11876,
          40.64601025,
          41.6611595,
          40.76953315,
          40.78466865,
          40.7635285,
          40.76445335,
          40.90549785,
          40.7065818,
          40.8079488,
          40.73670285,
          40.75801405,
          40.734722,
          40.7608348,
          42.8678447,
          40.7567716,
          40.7251793,
          43.1409853,
          40.7867914,
          40.7293432,
          40.7008283,
          43.05788882608696,
          40.75803195,
          40.7235788,
          40.7413328,
          40.73060415,
          40.7408812,
          40.754683549999996,
          40.75352114285714,
          40.7399209,
          40.742999100000006,
          40.7426776,
          40.7280768,
          40.7390034
         ],
         "legendgroup": "",
         "lon": [
          -73.67869784162318,
          -73.72689337433243,
          -73.97561496589915,
          -73.70263405446019,
          -73.62858135958973,
          -73.97262147463235,
          -73.9725989,
          -73.97757258818191,
          -73.56139335295892,
          -75.2467041,
          -73.98036,
          -75.37577549382657,
          -77.0885437,
          -74.0149012,
          -74.011458,
          -76.99639816266068,
          -73.97125668962013,
          -77.0543408,
          -73.55485096970199,
          -74.01441859133114,
          -73.9735148,
          -73.9934374,
          -73.9775447,
          -73.9722189,
          -73.9745247,
          -76.1521175,
          -78.87487409828174,
          -73.9488635,
          -76.0858675,
          -73.35669116536101,
          -73.4692788,
          -73.9388368,
          -74.09174767890863,
          -74.6490211,
          -73.98362090965932,
          -73.9862307,
          -73.7823212,
          -73.966008,
          -73.99625393609625,
          -73.9959106,
          -73.70171903255334,
          -75.436249,
          -75.2924590757315,
          -73.95735557033811,
          -73.9291306,
          -73.99067563237543,
          -73.90478830758894,
          -73.9728007,
          -73.95694407847097,
          -73.10263393261312,
          -74.0100596,
          -73.96179735775709,
          -73.81879574241711,
          -73.9769564693561,
          -73.9910745,
          -73.9752495,
          -75.8871382,
          -73.9896414,
          -73.5460685,
          -77.7190413,
          -73.9754518,
          -73.9921259,
          -73.9882067,
          -74.3349787826087,
          -73.98483197526832,
          -74.0025799,
          -74.0000779,
          -73.99152049790047,
          -74.0020865,
          -73.9847556191919,
          -73.99891471428572,
          -73.9909787,
          -73.99046185418356,
          -73.9985382,
          -73.9933389,
          -73.9932784
         ],
         "marker": {
          "color": "green",
          "size": 11
         },
         "mode": "markers",
         "name": "",
         "showlegend": false,
         "subplot": "mapbox",
         "type": "scattermapbox"
        },
        {
         "hovertemplate": "STATION=34 ST-HERALD SQ<br>Latitude=%{lat}<br>Longitude=%{lon}<extra></extra>",
         "lat": [
          40.749567
         ],
         "legendgroup": "34 ST-HERALD SQ",
         "lon": [
          -73.98795
         ],
         "marker": {
          "color": "#636efa",
          "size": 11
         },
         "mode": "markers",
         "name": "34 ST-HERALD SQ",
         "showlegend": true,
         "subplot": "mapbox",
         "type": "scattermapbox"
        },
        {
         "hovertemplate": "STATION=28 ST<br>Latitude=%{lat}<br>Longitude=%{lon}<extra></extra>",
         "lat": [
          40.747217
         ],
         "legendgroup": "28 ST",
         "lon": [
          -73.9933621
         ],
         "marker": {
          "color": "#EF553B",
          "size": 11
         },
         "mode": "markers",
         "name": "28 ST",
         "showlegend": true,
         "subplot": "mapbox",
         "type": "scattermapbox"
        },
        {
         "hovertemplate": "STATION=23 ST<br>Latitude=%{lat}<br>Longitude=%{lon}<extra></extra>",
         "lat": [
          40.7440859
         ],
         "legendgroup": "23 ST",
         "lon": [
          -73.995641
         ],
         "marker": {
          "color": "#00cc96",
          "size": 11
         },
         "mode": "markers",
         "name": "23 ST",
         "showlegend": true,
         "subplot": "mapbox",
         "type": "scattermapbox"
        },
        {
         "hovertemplate": "STATION=CHAMBERS ST<br>Latitude=%{lat}<br>Longitude=%{lon}<extra></extra>",
         "lat": [
          40.7149161
         ],
         "legendgroup": "CHAMBERS ST",
         "lon": [
          -74.0079676
         ],
         "marker": {
          "color": "#ab63fa",
          "size": 11
         },
         "mode": "markers",
         "name": "CHAMBERS ST",
         "showlegend": true,
         "subplot": "mapbox",
         "type": "scattermapbox"
        },
        {
         "hovertemplate": "STATION=14 ST<br>Latitude=%{lat}<br>Longitude=%{lon}<extra></extra>",
         "lat": [
          40.7379008
         ],
         "legendgroup": "14 ST",
         "lon": [
          -74.0001587
         ],
         "marker": {
          "color": "#FFA15A",
          "size": 11
         },
         "mode": "markers",
         "name": "14 ST",
         "showlegend": true,
         "subplot": "mapbox",
         "type": "scattermapbox"
        },
        {
         "hovertemplate": "STATION=W 4 ST-WASH SQ<br>Latitude=%{lat}<br>Longitude=%{lon}<extra></extra>",
         "lat": [
          40.731643
         ],
         "legendgroup": "W 4 ST-WASH SQ",
         "lon": [
          -74.0009941
         ],
         "marker": {
          "color": "#19d3f3",
          "size": 11
         },
         "mode": "markers",
         "name": "W 4 ST-WASH SQ",
         "showlegend": true,
         "subplot": "mapbox",
         "type": "scattermapbox"
        }
       ],
       "layout": {
        "legend": {
         "tracegroupgap": 0
        },
        "mapbox": {
         "center": {
          "lat": 40.77949,
          "lon": -73.95553
         },
         "domain": {
          "x": [
           0,
           1
          ],
          "y": [
           0,
           1
          ]
         },
         "style": "stamen-toner",
         "zoom": 11
        },
        "margin": {
         "b": 0,
         "l": 0,
         "r": 0,
         "t": 0
        },
        "template": {
         "data": {
          "bar": [
           {
            "error_x": {
             "color": "#2a3f5f"
            },
            "error_y": {
             "color": "#2a3f5f"
            },
            "marker": {
             "line": {
              "color": "#E5ECF6",
              "width": 0.5
             }
            },
            "type": "bar"
           }
          ],
          "barpolar": [
           {
            "marker": {
             "line": {
              "color": "#E5ECF6",
              "width": 0.5
             }
            },
            "type": "barpolar"
           }
          ],
          "carpet": [
           {
            "aaxis": {
             "endlinecolor": "#2a3f5f",
             "gridcolor": "white",
             "linecolor": "white",
             "minorgridcolor": "white",
             "startlinecolor": "#2a3f5f"
            },
            "baxis": {
             "endlinecolor": "#2a3f5f",
             "gridcolor": "white",
             "linecolor": "white",
             "minorgridcolor": "white",
             "startlinecolor": "#2a3f5f"
            },
            "type": "carpet"
           }
          ],
          "choropleth": [
           {
            "colorbar": {
             "outlinewidth": 0,
             "ticks": ""
            },
            "type": "choropleth"
           }
          ],
          "contour": [
           {
            "colorbar": {
             "outlinewidth": 0,
             "ticks": ""
            },
            "colorscale": [
             [
              0,
              "#0d0887"
             ],
             [
              0.1111111111111111,
              "#46039f"
             ],
             [
              0.2222222222222222,
              "#7201a8"
             ],
             [
              0.3333333333333333,
              "#9c179e"
             ],
             [
              0.4444444444444444,
              "#bd3786"
             ],
             [
              0.5555555555555556,
              "#d8576b"
             ],
             [
              0.6666666666666666,
              "#ed7953"
             ],
             [
              0.7777777777777778,
              "#fb9f3a"
             ],
             [
              0.8888888888888888,
              "#fdca26"
             ],
             [
              1,
              "#f0f921"
             ]
            ],
            "type": "contour"
           }
          ],
          "contourcarpet": [
           {
            "colorbar": {
             "outlinewidth": 0,
             "ticks": ""
            },
            "type": "contourcarpet"
           }
          ],
          "heatmap": [
           {
            "colorbar": {
             "outlinewidth": 0,
             "ticks": ""
            },
            "colorscale": [
             [
              0,
              "#0d0887"
             ],
             [
              0.1111111111111111,
              "#46039f"
             ],
             [
              0.2222222222222222,
              "#7201a8"
             ],
             [
              0.3333333333333333,
              "#9c179e"
             ],
             [
              0.4444444444444444,
              "#bd3786"
             ],
             [
              0.5555555555555556,
              "#d8576b"
             ],
             [
              0.6666666666666666,
              "#ed7953"
             ],
             [
              0.7777777777777778,
              "#fb9f3a"
             ],
             [
              0.8888888888888888,
              "#fdca26"
             ],
             [
              1,
              "#f0f921"
             ]
            ],
            "type": "heatmap"
           }
          ],
          "heatmapgl": [
           {
            "colorbar": {
             "outlinewidth": 0,
             "ticks": ""
            },
            "colorscale": [
             [
              0,
              "#0d0887"
             ],
             [
              0.1111111111111111,
              "#46039f"
             ],
             [
              0.2222222222222222,
              "#7201a8"
             ],
             [
              0.3333333333333333,
              "#9c179e"
             ],
             [
              0.4444444444444444,
              "#bd3786"
             ],
             [
              0.5555555555555556,
              "#d8576b"
             ],
             [
              0.6666666666666666,
              "#ed7953"
             ],
             [
              0.7777777777777778,
              "#fb9f3a"
             ],
             [
              0.8888888888888888,
              "#fdca26"
             ],
             [
              1,
              "#f0f921"
             ]
            ],
            "type": "heatmapgl"
           }
          ],
          "histogram": [
           {
            "marker": {
             "colorbar": {
              "outlinewidth": 0,
              "ticks": ""
             }
            },
            "type": "histogram"
           }
          ],
          "histogram2d": [
           {
            "colorbar": {
             "outlinewidth": 0,
             "ticks": ""
            },
            "colorscale": [
             [
              0,
              "#0d0887"
             ],
             [
              0.1111111111111111,
              "#46039f"
             ],
             [
              0.2222222222222222,
              "#7201a8"
             ],
             [
              0.3333333333333333,
              "#9c179e"
             ],
             [
              0.4444444444444444,
              "#bd3786"
             ],
             [
              0.5555555555555556,
              "#d8576b"
             ],
             [
              0.6666666666666666,
              "#ed7953"
             ],
             [
              0.7777777777777778,
              "#fb9f3a"
             ],
             [
              0.8888888888888888,
              "#fdca26"
             ],
             [
              1,
              "#f0f921"
             ]
            ],
            "type": "histogram2d"
           }
          ],
          "histogram2dcontour": [
           {
            "colorbar": {
             "outlinewidth": 0,
             "ticks": ""
            },
            "colorscale": [
             [
              0,
              "#0d0887"
             ],
             [
              0.1111111111111111,
              "#46039f"
             ],
             [
              0.2222222222222222,
              "#7201a8"
             ],
             [
              0.3333333333333333,
              "#9c179e"
             ],
             [
              0.4444444444444444,
              "#bd3786"
             ],
             [
              0.5555555555555556,
              "#d8576b"
             ],
             [
              0.6666666666666666,
              "#ed7953"
             ],
             [
              0.7777777777777778,
              "#fb9f3a"
             ],
             [
              0.8888888888888888,
              "#fdca26"
             ],
             [
              1,
              "#f0f921"
             ]
            ],
            "type": "histogram2dcontour"
           }
          ],
          "mesh3d": [
           {
            "colorbar": {
             "outlinewidth": 0,
             "ticks": ""
            },
            "type": "mesh3d"
           }
          ],
          "parcoords": [
           {
            "line": {
             "colorbar": {
              "outlinewidth": 0,
              "ticks": ""
             }
            },
            "type": "parcoords"
           }
          ],
          "pie": [
           {
            "automargin": true,
            "type": "pie"
           }
          ],
          "scatter": [
           {
            "marker": {
             "colorbar": {
              "outlinewidth": 0,
              "ticks": ""
             }
            },
            "type": "scatter"
           }
          ],
          "scatter3d": [
           {
            "line": {
             "colorbar": {
              "outlinewidth": 0,
              "ticks": ""
             }
            },
            "marker": {
             "colorbar": {
              "outlinewidth": 0,
              "ticks": ""
             }
            },
            "type": "scatter3d"
           }
          ],
          "scattercarpet": [
           {
            "marker": {
             "colorbar": {
              "outlinewidth": 0,
              "ticks": ""
             }
            },
            "type": "scattercarpet"
           }
          ],
          "scattergeo": [
           {
            "marker": {
             "colorbar": {
              "outlinewidth": 0,
              "ticks": ""
             }
            },
            "type": "scattergeo"
           }
          ],
          "scattergl": [
           {
            "marker": {
             "colorbar": {
              "outlinewidth": 0,
              "ticks": ""
             }
            },
            "type": "scattergl"
           }
          ],
          "scattermapbox": [
           {
            "marker": {
             "colorbar": {
              "outlinewidth": 0,
              "ticks": ""
             }
            },
            "type": "scattermapbox"
           }
          ],
          "scatterpolar": [
           {
            "marker": {
             "colorbar": {
              "outlinewidth": 0,
              "ticks": ""
             }
            },
            "type": "scatterpolar"
           }
          ],
          "scatterpolargl": [
           {
            "marker": {
             "colorbar": {
              "outlinewidth": 0,
              "ticks": ""
             }
            },
            "type": "scatterpolargl"
           }
          ],
          "scatterternary": [
           {
            "marker": {
             "colorbar": {
              "outlinewidth": 0,
              "ticks": ""
             }
            },
            "type": "scatterternary"
           }
          ],
          "surface": [
           {
            "colorbar": {
             "outlinewidth": 0,
             "ticks": ""
            },
            "colorscale": [
             [
              0,
              "#0d0887"
             ],
             [
              0.1111111111111111,
              "#46039f"
             ],
             [
              0.2222222222222222,
              "#7201a8"
             ],
             [
              0.3333333333333333,
              "#9c179e"
             ],
             [
              0.4444444444444444,
              "#bd3786"
             ],
             [
              0.5555555555555556,
              "#d8576b"
             ],
             [
              0.6666666666666666,
              "#ed7953"
             ],
             [
              0.7777777777777778,
              "#fb9f3a"
             ],
             [
              0.8888888888888888,
              "#fdca26"
             ],
             [
              1,
              "#f0f921"
             ]
            ],
            "type": "surface"
           }
          ],
          "table": [
           {
            "cells": {
             "fill": {
              "color": "#EBF0F8"
             },
             "line": {
              "color": "white"
             }
            },
            "header": {
             "fill": {
              "color": "#C8D4E3"
             },
             "line": {
              "color": "white"
             }
            },
            "type": "table"
           }
          ]
         },
         "layout": {
          "annotationdefaults": {
           "arrowcolor": "#2a3f5f",
           "arrowhead": 0,
           "arrowwidth": 1
          },
          "coloraxis": {
           "colorbar": {
            "outlinewidth": 0,
            "ticks": ""
           }
          },
          "colorscale": {
           "diverging": [
            [
             0,
             "#8e0152"
            ],
            [
             0.1,
             "#c51b7d"
            ],
            [
             0.2,
             "#de77ae"
            ],
            [
             0.3,
             "#f1b6da"
            ],
            [
             0.4,
             "#fde0ef"
            ],
            [
             0.5,
             "#f7f7f7"
            ],
            [
             0.6,
             "#e6f5d0"
            ],
            [
             0.7,
             "#b8e186"
            ],
            [
             0.8,
             "#7fbc41"
            ],
            [
             0.9,
             "#4d9221"
            ],
            [
             1,
             "#276419"
            ]
           ],
           "sequential": [
            [
             0,
             "#0d0887"
            ],
            [
             0.1111111111111111,
             "#46039f"
            ],
            [
             0.2222222222222222,
             "#7201a8"
            ],
            [
             0.3333333333333333,
             "#9c179e"
            ],
            [
             0.4444444444444444,
             "#bd3786"
            ],
            [
             0.5555555555555556,
             "#d8576b"
            ],
            [
             0.6666666666666666,
             "#ed7953"
            ],
            [
             0.7777777777777778,
             "#fb9f3a"
            ],
            [
             0.8888888888888888,
             "#fdca26"
            ],
            [
             1,
             "#f0f921"
            ]
           ],
           "sequentialminus": [
            [
             0,
             "#0d0887"
            ],
            [
             0.1111111111111111,
             "#46039f"
            ],
            [
             0.2222222222222222,
             "#7201a8"
            ],
            [
             0.3333333333333333,
             "#9c179e"
            ],
            [
             0.4444444444444444,
             "#bd3786"
            ],
            [
             0.5555555555555556,
             "#d8576b"
            ],
            [
             0.6666666666666666,
             "#ed7953"
            ],
            [
             0.7777777777777778,
             "#fb9f3a"
            ],
            [
             0.8888888888888888,
             "#fdca26"
            ],
            [
             1,
             "#f0f921"
            ]
           ]
          },
          "colorway": [
           "#636efa",
           "#EF553B",
           "#00cc96",
           "#ab63fa",
           "#FFA15A",
           "#19d3f3",
           "#FF6692",
           "#B6E880",
           "#FF97FF",
           "#FECB52"
          ],
          "font": {
           "color": "#2a3f5f"
          },
          "geo": {
           "bgcolor": "white",
           "lakecolor": "white",
           "landcolor": "#E5ECF6",
           "showlakes": true,
           "showland": true,
           "subunitcolor": "white"
          },
          "hoverlabel": {
           "align": "left"
          },
          "hovermode": "closest",
          "mapbox": {
           "style": "light"
          },
          "paper_bgcolor": "white",
          "plot_bgcolor": "#E5ECF6",
          "polar": {
           "angularaxis": {
            "gridcolor": "white",
            "linecolor": "white",
            "ticks": ""
           },
           "bgcolor": "#E5ECF6",
           "radialaxis": {
            "gridcolor": "white",
            "linecolor": "white",
            "ticks": ""
           }
          },
          "scene": {
           "xaxis": {
            "backgroundcolor": "#E5ECF6",
            "gridcolor": "white",
            "gridwidth": 2,
            "linecolor": "white",
            "showbackground": true,
            "ticks": "",
            "zerolinecolor": "white"
           },
           "yaxis": {
            "backgroundcolor": "#E5ECF6",
            "gridcolor": "white",
            "gridwidth": 2,
            "linecolor": "white",
            "showbackground": true,
            "ticks": "",
            "zerolinecolor": "white"
           },
           "zaxis": {
            "backgroundcolor": "#E5ECF6",
            "gridcolor": "white",
            "gridwidth": 2,
            "linecolor": "white",
            "showbackground": true,
            "ticks": "",
            "zerolinecolor": "white"
           }
          },
          "shapedefaults": {
           "line": {
            "color": "#2a3f5f"
           }
          },
          "ternary": {
           "aaxis": {
            "gridcolor": "white",
            "linecolor": "white",
            "ticks": ""
           },
           "baxis": {
            "gridcolor": "white",
            "linecolor": "white",
            "ticks": ""
           },
           "bgcolor": "#E5ECF6",
           "caxis": {
            "gridcolor": "white",
            "linecolor": "white",
            "ticks": ""
           }
          },
          "title": {
           "x": 0.05
          },
          "xaxis": {
           "automargin": true,
           "gridcolor": "white",
           "linecolor": "white",
           "ticks": "",
           "title": {
            "standoff": 15
           },
           "zerolinecolor": "white",
           "zerolinewidth": 2
          },
          "yaxis": {
           "automargin": true,
           "gridcolor": "white",
           "linecolor": "white",
           "ticks": "",
           "title": {
            "standoff": 15
           },
           "zerolinecolor": "white",
           "zerolinewidth": 2
          }
         }
        }
       }
      }
     },
     "metadata": {}
    }
   ],
   "source": [
    "# visualize tech companies superimposed on map of tech company locations\n",
    "fig = px.scatter_mapbox(company_zip, lat='Latitude', lon='Longitude', zoom=11,center=dict(lat=40.77949,lon=-73.95553))\n",
    "fig.update_traces(marker=dict(color='green'))\n",
    "\n",
    "# Plot each station of interest onto the map \n",
    "fig.add_trace(px.scatter_mapbox(recommended_stations, lat='Latitude', lon='Longitude',color='STATION').data[0])\n",
    "fig.add_trace(px.scatter_mapbox(recommended_stations, lat='Latitude', lon='Longitude',color='STATION').data[1])\n",
    "fig.add_trace(px.scatter_mapbox(recommended_stations, lat='Latitude', lon='Longitude',color='STATION').data[2])\n",
    "fig.add_trace(px.scatter_mapbox(recommended_stations, lat='Latitude', lon='Longitude',color='STATION').data[3])\n",
    "fig.add_trace(px.scatter_mapbox(recommended_stations, lat='Latitude', lon='Longitude',color='STATION').data[4])\n",
    "fig.add_trace(px.scatter_mapbox(recommended_stations, lat='Latitude', lon='Longitude',color='STATION').data[5])\n",
    "\n",
    "fig.update_traces(marker=dict(size=11))\n",
    "fig.update_layout(mapbox_style=\"stamen-toner\")\n",
    "fig.update_layout(margin={\"r\":0,\"t\":0,\"l\":0,\"b\":0})\n",
    "fig.show()"
   ]
  },
  {
   "cell_type": "code",
   "execution_count": 29,
   "metadata": {},
   "outputs": [
    {
     "output_type": "display_data",
     "data": {
      "application/vnd.plotly.v1+json": {
       "config": {
        "plotlyServerURL": "https://plot.ly"
       },
       "data": [
        {
         "hovertemplate": "Latitude=%{lat}<br>Longitude=%{lon}<extra></extra>",
         "lat": [
          41.32038665,
          41.01494415,
          40.7558452,
          40.72914525,
          40.708156349999996,
          40.7503833,
          40.7625601,
          40.75300505,
          40.77302115,
          43.0941934,
          40.7545433,
          43.14916785,
          42.9305521,
          40.7135788,
          40.7078794,
          42.85981775,
          40.76230085,
          42.1435257,
          40.710322649999995,
          40.7147553,
          40.7612526,
          40.7288797,
          40.7577041,
          40.7434467,
          40.7588263,
          43.059526,
          42.8775471,
          40.7364296,
          43.0649163,
          40.741235950000004,
          42.3650854,
          40.7506498,
          40.645353549999996,
          42.1479836,
          40.766562,
          40.6740635,
          41.3579462,
          40.7712673,
          40.72925325,
          40.7635205,
          40.70703525,
          43.776052,
          43.11876,
          40.64601025,
          41.6611595,
          40.76953315,
          40.78466865,
          40.7635285,
          40.76445335,
          40.90549785,
          40.7065818,
          40.8079488,
          40.73670285,
          40.75801405,
          40.734722,
          40.7608348,
          42.8678447,
          40.7567716,
          40.7251793,
          43.1409853,
          40.7867914,
          40.7293432,
          40.7008283,
          43.05788882608696,
          40.75803195,
          40.7235788,
          40.7413328,
          40.73060415,
          40.7408812,
          40.754683549999996,
          40.75352114285714,
          40.7399209,
          40.742999100000006,
          40.7426776,
          40.7280768,
          40.7390034
         ],
         "legendgroup": "",
         "lon": [
          -73.67869784162318,
          -73.72689337433243,
          -73.97561496589915,
          -73.70263405446019,
          -73.62858135958973,
          -73.97262147463235,
          -73.9725989,
          -73.97757258818191,
          -73.56139335295892,
          -75.2467041,
          -73.98036,
          -75.37577549382657,
          -77.0885437,
          -74.0149012,
          -74.011458,
          -76.99639816266068,
          -73.97125668962013,
          -77.0543408,
          -73.55485096970199,
          -74.01441859133114,
          -73.9735148,
          -73.9934374,
          -73.9775447,
          -73.9722189,
          -73.9745247,
          -76.1521175,
          -78.87487409828174,
          -73.9488635,
          -76.0858675,
          -73.35669116536101,
          -73.4692788,
          -73.9388368,
          -74.09174767890863,
          -74.6490211,
          -73.98362090965932,
          -73.9862307,
          -73.7823212,
          -73.966008,
          -73.99625393609625,
          -73.9959106,
          -73.70171903255334,
          -75.436249,
          -75.2924590757315,
          -73.95735557033811,
          -73.9291306,
          -73.99067563237543,
          -73.90478830758894,
          -73.9728007,
          -73.95694407847097,
          -73.10263393261312,
          -74.0100596,
          -73.96179735775709,
          -73.81879574241711,
          -73.9769564693561,
          -73.9910745,
          -73.9752495,
          -75.8871382,
          -73.9896414,
          -73.5460685,
          -77.7190413,
          -73.9754518,
          -73.9921259,
          -73.9882067,
          -74.3349787826087,
          -73.98483197526832,
          -74.0025799,
          -74.0000779,
          -73.99152049790047,
          -74.0020865,
          -73.9847556191919,
          -73.99891471428572,
          -73.9909787,
          -73.99046185418356,
          -73.9985382,
          -73.9933389,
          -73.9932784
         ],
         "marker": {
          "color": "green"
         },
         "mode": "markers",
         "name": "",
         "showlegend": false,
         "subplot": "mapbox",
         "type": "scattermapbox"
        }
       ],
       "layout": {
        "legend": {
         "tracegroupgap": 0
        },
        "mapbox": {
         "center": {
          "lat": 40.77949,
          "lon": -73.95553
         },
         "domain": {
          "x": [
           0,
           1
          ],
          "y": [
           0,
           1
          ]
         },
         "zoom": 11
        },
        "margin": {
         "t": 60
        },
        "template": {
         "data": {
          "bar": [
           {
            "error_x": {
             "color": "#2a3f5f"
            },
            "error_y": {
             "color": "#2a3f5f"
            },
            "marker": {
             "line": {
              "color": "#E5ECF6",
              "width": 0.5
             }
            },
            "type": "bar"
           }
          ],
          "barpolar": [
           {
            "marker": {
             "line": {
              "color": "#E5ECF6",
              "width": 0.5
             }
            },
            "type": "barpolar"
           }
          ],
          "carpet": [
           {
            "aaxis": {
             "endlinecolor": "#2a3f5f",
             "gridcolor": "white",
             "linecolor": "white",
             "minorgridcolor": "white",
             "startlinecolor": "#2a3f5f"
            },
            "baxis": {
             "endlinecolor": "#2a3f5f",
             "gridcolor": "white",
             "linecolor": "white",
             "minorgridcolor": "white",
             "startlinecolor": "#2a3f5f"
            },
            "type": "carpet"
           }
          ],
          "choropleth": [
           {
            "colorbar": {
             "outlinewidth": 0,
             "ticks": ""
            },
            "type": "choropleth"
           }
          ],
          "contour": [
           {
            "colorbar": {
             "outlinewidth": 0,
             "ticks": ""
            },
            "colorscale": [
             [
              0,
              "#0d0887"
             ],
             [
              0.1111111111111111,
              "#46039f"
             ],
             [
              0.2222222222222222,
              "#7201a8"
             ],
             [
              0.3333333333333333,
              "#9c179e"
             ],
             [
              0.4444444444444444,
              "#bd3786"
             ],
             [
              0.5555555555555556,
              "#d8576b"
             ],
             [
              0.6666666666666666,
              "#ed7953"
             ],
             [
              0.7777777777777778,
              "#fb9f3a"
             ],
             [
              0.8888888888888888,
              "#fdca26"
             ],
             [
              1,
              "#f0f921"
             ]
            ],
            "type": "contour"
           }
          ],
          "contourcarpet": [
           {
            "colorbar": {
             "outlinewidth": 0,
             "ticks": ""
            },
            "type": "contourcarpet"
           }
          ],
          "heatmap": [
           {
            "colorbar": {
             "outlinewidth": 0,
             "ticks": ""
            },
            "colorscale": [
             [
              0,
              "#0d0887"
             ],
             [
              0.1111111111111111,
              "#46039f"
             ],
             [
              0.2222222222222222,
              "#7201a8"
             ],
             [
              0.3333333333333333,
              "#9c179e"
             ],
             [
              0.4444444444444444,
              "#bd3786"
             ],
             [
              0.5555555555555556,
              "#d8576b"
             ],
             [
              0.6666666666666666,
              "#ed7953"
             ],
             [
              0.7777777777777778,
              "#fb9f3a"
             ],
             [
              0.8888888888888888,
              "#fdca26"
             ],
             [
              1,
              "#f0f921"
             ]
            ],
            "type": "heatmap"
           }
          ],
          "heatmapgl": [
           {
            "colorbar": {
             "outlinewidth": 0,
             "ticks": ""
            },
            "colorscale": [
             [
              0,
              "#0d0887"
             ],
             [
              0.1111111111111111,
              "#46039f"
             ],
             [
              0.2222222222222222,
              "#7201a8"
             ],
             [
              0.3333333333333333,
              "#9c179e"
             ],
             [
              0.4444444444444444,
              "#bd3786"
             ],
             [
              0.5555555555555556,
              "#d8576b"
             ],
             [
              0.6666666666666666,
              "#ed7953"
             ],
             [
              0.7777777777777778,
              "#fb9f3a"
             ],
             [
              0.8888888888888888,
              "#fdca26"
             ],
             [
              1,
              "#f0f921"
             ]
            ],
            "type": "heatmapgl"
           }
          ],
          "histogram": [
           {
            "marker": {
             "colorbar": {
              "outlinewidth": 0,
              "ticks": ""
             }
            },
            "type": "histogram"
           }
          ],
          "histogram2d": [
           {
            "colorbar": {
             "outlinewidth": 0,
             "ticks": ""
            },
            "colorscale": [
             [
              0,
              "#0d0887"
             ],
             [
              0.1111111111111111,
              "#46039f"
             ],
             [
              0.2222222222222222,
              "#7201a8"
             ],
             [
              0.3333333333333333,
              "#9c179e"
             ],
             [
              0.4444444444444444,
              "#bd3786"
             ],
             [
              0.5555555555555556,
              "#d8576b"
             ],
             [
              0.6666666666666666,
              "#ed7953"
             ],
             [
              0.7777777777777778,
              "#fb9f3a"
             ],
             [
              0.8888888888888888,
              "#fdca26"
             ],
             [
              1,
              "#f0f921"
             ]
            ],
            "type": "histogram2d"
           }
          ],
          "histogram2dcontour": [
           {
            "colorbar": {
             "outlinewidth": 0,
             "ticks": ""
            },
            "colorscale": [
             [
              0,
              "#0d0887"
             ],
             [
              0.1111111111111111,
              "#46039f"
             ],
             [
              0.2222222222222222,
              "#7201a8"
             ],
             [
              0.3333333333333333,
              "#9c179e"
             ],
             [
              0.4444444444444444,
              "#bd3786"
             ],
             [
              0.5555555555555556,
              "#d8576b"
             ],
             [
              0.6666666666666666,
              "#ed7953"
             ],
             [
              0.7777777777777778,
              "#fb9f3a"
             ],
             [
              0.8888888888888888,
              "#fdca26"
             ],
             [
              1,
              "#f0f921"
             ]
            ],
            "type": "histogram2dcontour"
           }
          ],
          "mesh3d": [
           {
            "colorbar": {
             "outlinewidth": 0,
             "ticks": ""
            },
            "type": "mesh3d"
           }
          ],
          "parcoords": [
           {
            "line": {
             "colorbar": {
              "outlinewidth": 0,
              "ticks": ""
             }
            },
            "type": "parcoords"
           }
          ],
          "pie": [
           {
            "automargin": true,
            "type": "pie"
           }
          ],
          "scatter": [
           {
            "marker": {
             "colorbar": {
              "outlinewidth": 0,
              "ticks": ""
             }
            },
            "type": "scatter"
           }
          ],
          "scatter3d": [
           {
            "line": {
             "colorbar": {
              "outlinewidth": 0,
              "ticks": ""
             }
            },
            "marker": {
             "colorbar": {
              "outlinewidth": 0,
              "ticks": ""
             }
            },
            "type": "scatter3d"
           }
          ],
          "scattercarpet": [
           {
            "marker": {
             "colorbar": {
              "outlinewidth": 0,
              "ticks": ""
             }
            },
            "type": "scattercarpet"
           }
          ],
          "scattergeo": [
           {
            "marker": {
             "colorbar": {
              "outlinewidth": 0,
              "ticks": ""
             }
            },
            "type": "scattergeo"
           }
          ],
          "scattergl": [
           {
            "marker": {
             "colorbar": {
              "outlinewidth": 0,
              "ticks": ""
             }
            },
            "type": "scattergl"
           }
          ],
          "scattermapbox": [
           {
            "marker": {
             "colorbar": {
              "outlinewidth": 0,
              "ticks": ""
             }
            },
            "type": "scattermapbox"
           }
          ],
          "scatterpolar": [
           {
            "marker": {
             "colorbar": {
              "outlinewidth": 0,
              "ticks": ""
             }
            },
            "type": "scatterpolar"
           }
          ],
          "scatterpolargl": [
           {
            "marker": {
             "colorbar": {
              "outlinewidth": 0,
              "ticks": ""
             }
            },
            "type": "scatterpolargl"
           }
          ],
          "scatterternary": [
           {
            "marker": {
             "colorbar": {
              "outlinewidth": 0,
              "ticks": ""
             }
            },
            "type": "scatterternary"
           }
          ],
          "surface": [
           {
            "colorbar": {
             "outlinewidth": 0,
             "ticks": ""
            },
            "colorscale": [
             [
              0,
              "#0d0887"
             ],
             [
              0.1111111111111111,
              "#46039f"
             ],
             [
              0.2222222222222222,
              "#7201a8"
             ],
             [
              0.3333333333333333,
              "#9c179e"
             ],
             [
              0.4444444444444444,
              "#bd3786"
             ],
             [
              0.5555555555555556,
              "#d8576b"
             ],
             [
              0.6666666666666666,
              "#ed7953"
             ],
             [
              0.7777777777777778,
              "#fb9f3a"
             ],
             [
              0.8888888888888888,
              "#fdca26"
             ],
             [
              1,
              "#f0f921"
             ]
            ],
            "type": "surface"
           }
          ],
          "table": [
           {
            "cells": {
             "fill": {
              "color": "#EBF0F8"
             },
             "line": {
              "color": "white"
             }
            },
            "header": {
             "fill": {
              "color": "#C8D4E3"
             },
             "line": {
              "color": "white"
             }
            },
            "type": "table"
           }
          ]
         },
         "layout": {
          "annotationdefaults": {
           "arrowcolor": "#2a3f5f",
           "arrowhead": 0,
           "arrowwidth": 1
          },
          "coloraxis": {
           "colorbar": {
            "outlinewidth": 0,
            "ticks": ""
           }
          },
          "colorscale": {
           "diverging": [
            [
             0,
             "#8e0152"
            ],
            [
             0.1,
             "#c51b7d"
            ],
            [
             0.2,
             "#de77ae"
            ],
            [
             0.3,
             "#f1b6da"
            ],
            [
             0.4,
             "#fde0ef"
            ],
            [
             0.5,
             "#f7f7f7"
            ],
            [
             0.6,
             "#e6f5d0"
            ],
            [
             0.7,
             "#b8e186"
            ],
            [
             0.8,
             "#7fbc41"
            ],
            [
             0.9,
             "#4d9221"
            ],
            [
             1,
             "#276419"
            ]
           ],
           "sequential": [
            [
             0,
             "#0d0887"
            ],
            [
             0.1111111111111111,
             "#46039f"
            ],
            [
             0.2222222222222222,
             "#7201a8"
            ],
            [
             0.3333333333333333,
             "#9c179e"
            ],
            [
             0.4444444444444444,
             "#bd3786"
            ],
            [
             0.5555555555555556,
             "#d8576b"
            ],
            [
             0.6666666666666666,
             "#ed7953"
            ],
            [
             0.7777777777777778,
             "#fb9f3a"
            ],
            [
             0.8888888888888888,
             "#fdca26"
            ],
            [
             1,
             "#f0f921"
            ]
           ],
           "sequentialminus": [
            [
             0,
             "#0d0887"
            ],
            [
             0.1111111111111111,
             "#46039f"
            ],
            [
             0.2222222222222222,
             "#7201a8"
            ],
            [
             0.3333333333333333,
             "#9c179e"
            ],
            [
             0.4444444444444444,
             "#bd3786"
            ],
            [
             0.5555555555555556,
             "#d8576b"
            ],
            [
             0.6666666666666666,
             "#ed7953"
            ],
            [
             0.7777777777777778,
             "#fb9f3a"
            ],
            [
             0.8888888888888888,
             "#fdca26"
            ],
            [
             1,
             "#f0f921"
            ]
           ]
          },
          "colorway": [
           "#636efa",
           "#EF553B",
           "#00cc96",
           "#ab63fa",
           "#FFA15A",
           "#19d3f3",
           "#FF6692",
           "#B6E880",
           "#FF97FF",
           "#FECB52"
          ],
          "font": {
           "color": "#2a3f5f"
          },
          "geo": {
           "bgcolor": "white",
           "lakecolor": "white",
           "landcolor": "#E5ECF6",
           "showlakes": true,
           "showland": true,
           "subunitcolor": "white"
          },
          "hoverlabel": {
           "align": "left"
          },
          "hovermode": "closest",
          "mapbox": {
           "style": "light"
          },
          "paper_bgcolor": "white",
          "plot_bgcolor": "#E5ECF6",
          "polar": {
           "angularaxis": {
            "gridcolor": "white",
            "linecolor": "white",
            "ticks": ""
           },
           "bgcolor": "#E5ECF6",
           "radialaxis": {
            "gridcolor": "white",
            "linecolor": "white",
            "ticks": ""
           }
          },
          "scene": {
           "xaxis": {
            "backgroundcolor": "#E5ECF6",
            "gridcolor": "white",
            "gridwidth": 2,
            "linecolor": "white",
            "showbackground": true,
            "ticks": "",
            "zerolinecolor": "white"
           },
           "yaxis": {
            "backgroundcolor": "#E5ECF6",
            "gridcolor": "white",
            "gridwidth": 2,
            "linecolor": "white",
            "showbackground": true,
            "ticks": "",
            "zerolinecolor": "white"
           },
           "zaxis": {
            "backgroundcolor": "#E5ECF6",
            "gridcolor": "white",
            "gridwidth": 2,
            "linecolor": "white",
            "showbackground": true,
            "ticks": "",
            "zerolinecolor": "white"
           }
          },
          "shapedefaults": {
           "line": {
            "color": "#2a3f5f"
           }
          },
          "ternary": {
           "aaxis": {
            "gridcolor": "white",
            "linecolor": "white",
            "ticks": ""
           },
           "baxis": {
            "gridcolor": "white",
            "linecolor": "white",
            "ticks": ""
           },
           "bgcolor": "#E5ECF6",
           "caxis": {
            "gridcolor": "white",
            "linecolor": "white",
            "ticks": ""
           }
          },
          "title": {
           "x": 0.05
          },
          "xaxis": {
           "automargin": true,
           "gridcolor": "white",
           "linecolor": "white",
           "ticks": "",
           "title": {
            "standoff": 15
           },
           "zerolinecolor": "white",
           "zerolinewidth": 2
          },
          "yaxis": {
           "automargin": true,
           "gridcolor": "white",
           "linecolor": "white",
           "ticks": "",
           "title": {
            "standoff": 15
           },
           "zerolinecolor": "white",
           "zerolinewidth": 2
          }
         }
        }
       }
      }
     },
     "metadata": {}
    }
   ],
   "source": [
    "fig = px.scatter_mapbox(company_zip, lat='Latitude', lon='Longitude', zoom=11,center=dict(lat=40.77949,lon=-73.95553))\n",
    "fig.update_traces(marker=dict(color='green'))"
   ]
  },
  {
   "source": [
    "## Group by day of the week"
   ],
   "cell_type": "markdown",
   "metadata": {}
  },
  {
   "cell_type": "code",
   "execution_count": 20,
   "metadata": {},
   "outputs": [],
   "source": [
    "entries_by_day_of_week = entries_by_date.copy(deep=True)"
   ]
  },
  {
   "cell_type": "code",
   "execution_count": 21,
   "metadata": {},
   "outputs": [],
   "source": [
    "entries_by_day_of_week['DAY_OF_WEEK'] = entries_by_day_of_week.DATETIME.dt.day_name()"
   ]
  },
  {
   "cell_type": "code",
   "execution_count": 22,
   "metadata": {},
   "outputs": [],
   "source": [
    "entries_by_day_of_week = entries_by_day_of_week.groupby(['STATION', 'DAY_OF_WEEK'])['TOTAL_TRAFFIC'].sum().reset_index()"
   ]
  },
  {
   "cell_type": "code",
   "execution_count": 244,
   "metadata": {},
   "outputs": [
    {
     "output_type": "execute_result",
     "data": {
      "text/plain": "Text(0.5, 1.0, 'Traffic flow by day of the week')"
     },
     "metadata": {},
     "execution_count": 244
    },
    {
     "output_type": "display_data",
     "data": {
      "text/plain": "<Figure size 844.375x360 with 1 Axes>",
      "image/svg+xml": "<?xml version=\"1.0\" encoding=\"utf-8\" standalone=\"no\"?>\n<!DOCTYPE svg PUBLIC \"-//W3C//DTD SVG 1.1//EN\"\n  \"http://www.w3.org/Graphics/SVG/1.1/DTD/svg11.dtd\">\n<!-- Created with matplotlib (https://matplotlib.org/) -->\n<svg height=\"372.155312pt\" version=\"1.1\" viewBox=\"0 0 848.831502 372.155312\" width=\"848.831502pt\" xmlns=\"http://www.w3.org/2000/svg\" xmlns:xlink=\"http://www.w3.org/1999/xlink\">\n <metadata>\n  <rdf:RDF xmlns:cc=\"http://creativecommons.org/ns#\" xmlns:dc=\"http://purl.org/dc/elements/1.1/\" xmlns:rdf=\"http://www.w3.org/1999/02/22-rdf-syntax-ns#\">\n   <cc:Work>\n    <dc:type rdf:resource=\"http://purl.org/dc/dcmitype/StillImage\"/>\n    <dc:date>2020-09-28T00:30:18.470596</dc:date>\n    <dc:format>image/svg+xml</dc:format>\n    <dc:creator>\n     <cc:Agent>\n      <dc:title>Matplotlib v3.3.1, https://matplotlib.org/</dc:title>\n     </cc:Agent>\n    </dc:creator>\n   </cc:Work>\n  </rdf:RDF>\n </metadata>\n <defs>\n  <style type=\"text/css\">*{stroke-linecap:butt;stroke-linejoin:round;}</style>\n </defs>\n <g id=\"figure_1\">\n  <g id=\"patch_1\">\n   <path d=\"M 0 372.155312 \nL 848.831502 372.155312 \nL 848.831502 0 \nL 0 0 \nz\n\" style=\"fill:none;\"/>\n  </g>\n  <g id=\"axes_1\">\n   <g id=\"patch_2\">\n    <path d=\"M 67.98875 348.277187 \nL 713.812752 348.277187 \nL 713.812752 26.877187 \nL 67.98875 26.877187 \nz\n\" style=\"fill:#ffffff;\"/>\n   </g>\n   <g id=\"PathCollection_1\">\n    <defs>\n     <path d=\"M 0 3.383948 \nC 0.897434 3.383948 1.758231 3.027394 2.392813 2.392813 \nC 3.027394 1.758231 3.383948 0.897434 3.383948 0 \nC 3.383948 -0.897434 3.027394 -1.758231 2.392813 -2.392813 \nC 1.758231 -3.027394 0.897434 -3.383948 0 -3.383948 \nC -0.897434 -3.383948 -1.758231 -3.027394 -2.392813 -2.392813 \nC -3.027394 -1.758231 -3.383948 -0.897434 -3.383948 0 \nC -3.383948 0.897434 -3.027394 1.758231 -2.392813 2.392813 \nC -1.758231 3.027394 -0.897434 3.383948 0 3.383948 \nz\n\" id=\"m235f42103d\" style=\"stroke:#1f77b4;stroke-width:2.025;\"/>\n    </defs>\n    <g clip-path=\"url(#p845be0184e)\">\n     <use style=\"fill:#1f77b4;stroke:#1f77b4;stroke-width:2.025;\" x=\"114.119036\" xlink:href=\"#m235f42103d\" y=\"290.112582\"/>\n     <use style=\"fill:#1f77b4;stroke:#1f77b4;stroke-width:2.025;\" x=\"206.379608\" xlink:href=\"#m235f42103d\" y=\"270.108166\"/>\n     <use style=\"fill:#1f77b4;stroke:#1f77b4;stroke-width:2.025;\" x=\"298.640179\" xlink:href=\"#m235f42103d\" y=\"269.274417\"/>\n     <use style=\"fill:#1f77b4;stroke:#1f77b4;stroke-width:2.025;\" x=\"390.900751\" xlink:href=\"#m235f42103d\" y=\"266.099113\"/>\n     <use style=\"fill:#1f77b4;stroke:#1f77b4;stroke-width:2.025;\" x=\"483.161323\" xlink:href=\"#m235f42103d\" y=\"259.859919\"/>\n     <use style=\"fill:#1f77b4;stroke:#1f77b4;stroke-width:2.025;\" x=\"575.421894\" xlink:href=\"#m235f42103d\" y=\"290.690078\"/>\n     <use style=\"fill:#1f77b4;stroke:#1f77b4;stroke-width:2.025;\" x=\"667.682466\" xlink:href=\"#m235f42103d\" y=\"298.438934\"/>\n    </g>\n   </g>\n   <g id=\"line2d_1\">\n    <path clip-path=\"url(#p845be0184e)\" d=\"M 114.119036 290.112582 \nL 206.379608 270.108166 \nL 298.640179 269.274417 \nL 390.900751 266.099113 \nL 483.161323 259.859919 \nL 575.421894 290.690078 \nL 667.682466 298.438934 \n\" style=\"fill:none;stroke:#1f77b4;stroke-linecap:square;stroke-width:2.7;\"/>\n   </g>\n   <g id=\"line2d_2\">\n    <path clip-path=\"url(#p845be0184e)\" d=\"M 0 0 \n\" style=\"fill:none;stroke:#1f77b4;stroke-linecap:square;stroke-width:2.7;\"/>\n   </g>\n   <g id=\"line2d_3\">\n    <path clip-path=\"url(#p845be0184e)\" d=\"M 0 0 \n\" style=\"fill:none;stroke:#1f77b4;stroke-linecap:square;stroke-width:2.7;\"/>\n   </g>\n   <g id=\"line2d_4\">\n    <path clip-path=\"url(#p845be0184e)\" d=\"M 0 0 \n\" style=\"fill:none;stroke:#1f77b4;stroke-linecap:square;stroke-width:2.7;\"/>\n   </g>\n   <g id=\"line2d_5\">\n    <path clip-path=\"url(#p845be0184e)\" d=\"M 0 0 \n\" style=\"fill:none;stroke:#1f77b4;stroke-linecap:square;stroke-width:2.7;\"/>\n   </g>\n   <g id=\"line2d_6\">\n    <path clip-path=\"url(#p845be0184e)\" d=\"M 0 0 \n\" style=\"fill:none;stroke:#1f77b4;stroke-linecap:square;stroke-width:2.7;\"/>\n   </g>\n   <g id=\"line2d_7\">\n    <path clip-path=\"url(#p845be0184e)\" d=\"M 0 0 \n\" style=\"fill:none;stroke:#1f77b4;stroke-linecap:square;stroke-width:2.7;\"/>\n   </g>\n   <g id=\"line2d_8\">\n    <path clip-path=\"url(#p845be0184e)\" d=\"M 0 0 \n\" style=\"fill:none;stroke:#1f77b4;stroke-linecap:square;stroke-width:2.7;\"/>\n   </g>\n   <g id=\"matplotlib.axis_1\">\n    <g id=\"xtick_1\">\n     <g id=\"line2d_9\">\n      <defs>\n       <path d=\"M 0 0 \nL 0 3.5 \n\" id=\"medce5e3e01\" style=\"stroke:#000000;stroke-width:0.8;\"/>\n      </defs>\n      <g>\n       <use style=\"stroke:#000000;stroke-width:0.8;\" x=\"114.119036\" xlink:href=\"#medce5e3e01\" y=\"348.277187\"/>\n      </g>\n     </g>\n     <g id=\"text_1\">\n      <!-- Monday -->\n      <g transform=\"translate(94.379192 362.875625)scale(0.1 -0.1)\">\n       <defs>\n        <path d=\"M 9.8125 72.90625 \nL 24.515625 72.90625 \nL 43.109375 23.296875 \nL 61.8125 72.90625 \nL 76.515625 72.90625 \nL 76.515625 0 \nL 66.890625 0 \nL 66.890625 64.015625 \nL 48.09375 14.015625 \nL 38.1875 14.015625 \nL 19.390625 64.015625 \nL 19.390625 0 \nL 9.8125 0 \nz\n\" id=\"DejaVuSans-77\"/>\n        <path d=\"M 30.609375 48.390625 \nQ 23.390625 48.390625 19.1875 42.75 \nQ 14.984375 37.109375 14.984375 27.296875 \nQ 14.984375 17.484375 19.15625 11.84375 \nQ 23.34375 6.203125 30.609375 6.203125 \nQ 37.796875 6.203125 41.984375 11.859375 \nQ 46.1875 17.53125 46.1875 27.296875 \nQ 46.1875 37.015625 41.984375 42.703125 \nQ 37.796875 48.390625 30.609375 48.390625 \nz\nM 30.609375 56 \nQ 42.328125 56 49.015625 48.375 \nQ 55.71875 40.765625 55.71875 27.296875 \nQ 55.71875 13.875 49.015625 6.21875 \nQ 42.328125 -1.421875 30.609375 -1.421875 \nQ 18.84375 -1.421875 12.171875 6.21875 \nQ 5.515625 13.875 5.515625 27.296875 \nQ 5.515625 40.765625 12.171875 48.375 \nQ 18.84375 56 30.609375 56 \nz\n\" id=\"DejaVuSans-111\"/>\n        <path d=\"M 54.890625 33.015625 \nL 54.890625 0 \nL 45.90625 0 \nL 45.90625 32.71875 \nQ 45.90625 40.484375 42.875 44.328125 \nQ 39.84375 48.1875 33.796875 48.1875 \nQ 26.515625 48.1875 22.3125 43.546875 \nQ 18.109375 38.921875 18.109375 30.90625 \nL 18.109375 0 \nL 9.078125 0 \nL 9.078125 54.6875 \nL 18.109375 54.6875 \nL 18.109375 46.1875 \nQ 21.34375 51.125 25.703125 53.5625 \nQ 30.078125 56 35.796875 56 \nQ 45.21875 56 50.046875 50.171875 \nQ 54.890625 44.34375 54.890625 33.015625 \nz\n\" id=\"DejaVuSans-110\"/>\n        <path d=\"M 45.40625 46.390625 \nL 45.40625 75.984375 \nL 54.390625 75.984375 \nL 54.390625 0 \nL 45.40625 0 \nL 45.40625 8.203125 \nQ 42.578125 3.328125 38.25 0.953125 \nQ 33.9375 -1.421875 27.875 -1.421875 \nQ 17.96875 -1.421875 11.734375 6.484375 \nQ 5.515625 14.40625 5.515625 27.296875 \nQ 5.515625 40.1875 11.734375 48.09375 \nQ 17.96875 56 27.875 56 \nQ 33.9375 56 38.25 53.625 \nQ 42.578125 51.265625 45.40625 46.390625 \nz\nM 14.796875 27.296875 \nQ 14.796875 17.390625 18.875 11.75 \nQ 22.953125 6.109375 30.078125 6.109375 \nQ 37.203125 6.109375 41.296875 11.75 \nQ 45.40625 17.390625 45.40625 27.296875 \nQ 45.40625 37.203125 41.296875 42.84375 \nQ 37.203125 48.484375 30.078125 48.484375 \nQ 22.953125 48.484375 18.875 42.84375 \nQ 14.796875 37.203125 14.796875 27.296875 \nz\n\" id=\"DejaVuSans-100\"/>\n        <path d=\"M 34.28125 27.484375 \nQ 23.390625 27.484375 19.1875 25 \nQ 14.984375 22.515625 14.984375 16.5 \nQ 14.984375 11.71875 18.140625 8.90625 \nQ 21.296875 6.109375 26.703125 6.109375 \nQ 34.1875 6.109375 38.703125 11.40625 \nQ 43.21875 16.703125 43.21875 25.484375 \nL 43.21875 27.484375 \nz\nM 52.203125 31.203125 \nL 52.203125 0 \nL 43.21875 0 \nL 43.21875 8.296875 \nQ 40.140625 3.328125 35.546875 0.953125 \nQ 30.953125 -1.421875 24.3125 -1.421875 \nQ 15.921875 -1.421875 10.953125 3.296875 \nQ 6 8.015625 6 15.921875 \nQ 6 25.140625 12.171875 29.828125 \nQ 18.359375 34.515625 30.609375 34.515625 \nL 43.21875 34.515625 \nL 43.21875 35.40625 \nQ 43.21875 41.609375 39.140625 45 \nQ 35.0625 48.390625 27.6875 48.390625 \nQ 23 48.390625 18.546875 47.265625 \nQ 14.109375 46.140625 10.015625 43.890625 \nL 10.015625 52.203125 \nQ 14.9375 54.109375 19.578125 55.046875 \nQ 24.21875 56 28.609375 56 \nQ 40.484375 56 46.34375 49.84375 \nQ 52.203125 43.703125 52.203125 31.203125 \nz\n\" id=\"DejaVuSans-97\"/>\n        <path d=\"M 32.171875 -5.078125 \nQ 28.375 -14.84375 24.75 -17.8125 \nQ 21.140625 -20.796875 15.09375 -20.796875 \nL 7.90625 -20.796875 \nL 7.90625 -13.28125 \nL 13.1875 -13.28125 \nQ 16.890625 -13.28125 18.9375 -11.515625 \nQ 21 -9.765625 23.484375 -3.21875 \nL 25.09375 0.875 \nL 2.984375 54.6875 \nL 12.5 54.6875 \nL 29.59375 11.921875 \nL 46.6875 54.6875 \nL 56.203125 54.6875 \nz\n\" id=\"DejaVuSans-121\"/>\n       </defs>\n       <use xlink:href=\"#DejaVuSans-77\"/>\n       <use x=\"86.279297\" xlink:href=\"#DejaVuSans-111\"/>\n       <use x=\"147.460938\" xlink:href=\"#DejaVuSans-110\"/>\n       <use x=\"210.839844\" xlink:href=\"#DejaVuSans-100\"/>\n       <use x=\"274.316406\" xlink:href=\"#DejaVuSans-97\"/>\n       <use x=\"335.595703\" xlink:href=\"#DejaVuSans-121\"/>\n      </g>\n     </g>\n    </g>\n    <g id=\"xtick_2\">\n     <g id=\"line2d_10\">\n      <g>\n       <use style=\"stroke:#000000;stroke-width:0.8;\" x=\"206.379608\" xlink:href=\"#medce5e3e01\" y=\"348.277187\"/>\n      </g>\n     </g>\n     <g id=\"text_2\">\n      <!-- Tuesday -->\n      <g transform=\"translate(186.034295 362.875625)scale(0.1 -0.1)\">\n       <defs>\n        <path d=\"M -0.296875 72.90625 \nL 61.375 72.90625 \nL 61.375 64.59375 \nL 35.5 64.59375 \nL 35.5 0 \nL 25.59375 0 \nL 25.59375 64.59375 \nL -0.296875 64.59375 \nz\n\" id=\"DejaVuSans-84\"/>\n        <path d=\"M 8.5 21.578125 \nL 8.5 54.6875 \nL 17.484375 54.6875 \nL 17.484375 21.921875 \nQ 17.484375 14.15625 20.5 10.265625 \nQ 23.53125 6.390625 29.59375 6.390625 \nQ 36.859375 6.390625 41.078125 11.03125 \nQ 45.3125 15.671875 45.3125 23.6875 \nL 45.3125 54.6875 \nL 54.296875 54.6875 \nL 54.296875 0 \nL 45.3125 0 \nL 45.3125 8.40625 \nQ 42.046875 3.421875 37.71875 1 \nQ 33.40625 -1.421875 27.6875 -1.421875 \nQ 18.265625 -1.421875 13.375 4.4375 \nQ 8.5 10.296875 8.5 21.578125 \nz\nM 31.109375 56 \nz\n\" id=\"DejaVuSans-117\"/>\n        <path d=\"M 56.203125 29.59375 \nL 56.203125 25.203125 \nL 14.890625 25.203125 \nQ 15.484375 15.921875 20.484375 11.0625 \nQ 25.484375 6.203125 34.421875 6.203125 \nQ 39.59375 6.203125 44.453125 7.46875 \nQ 49.3125 8.734375 54.109375 11.28125 \nL 54.109375 2.78125 \nQ 49.265625 0.734375 44.1875 -0.34375 \nQ 39.109375 -1.421875 33.890625 -1.421875 \nQ 20.796875 -1.421875 13.15625 6.1875 \nQ 5.515625 13.8125 5.515625 26.8125 \nQ 5.515625 40.234375 12.765625 48.109375 \nQ 20.015625 56 32.328125 56 \nQ 43.359375 56 49.78125 48.890625 \nQ 56.203125 41.796875 56.203125 29.59375 \nz\nM 47.21875 32.234375 \nQ 47.125 39.59375 43.09375 43.984375 \nQ 39.0625 48.390625 32.421875 48.390625 \nQ 24.90625 48.390625 20.390625 44.140625 \nQ 15.875 39.890625 15.1875 32.171875 \nz\n\" id=\"DejaVuSans-101\"/>\n        <path d=\"M 44.28125 53.078125 \nL 44.28125 44.578125 \nQ 40.484375 46.53125 36.375 47.5 \nQ 32.28125 48.484375 27.875 48.484375 \nQ 21.1875 48.484375 17.84375 46.4375 \nQ 14.5 44.390625 14.5 40.28125 \nQ 14.5 37.15625 16.890625 35.375 \nQ 19.28125 33.59375 26.515625 31.984375 \nL 29.59375 31.296875 \nQ 39.15625 29.25 43.1875 25.515625 \nQ 47.21875 21.78125 47.21875 15.09375 \nQ 47.21875 7.46875 41.1875 3.015625 \nQ 35.15625 -1.421875 24.609375 -1.421875 \nQ 20.21875 -1.421875 15.453125 -0.5625 \nQ 10.6875 0.296875 5.421875 2 \nL 5.421875 11.28125 \nQ 10.40625 8.6875 15.234375 7.390625 \nQ 20.0625 6.109375 24.8125 6.109375 \nQ 31.15625 6.109375 34.5625 8.28125 \nQ 37.984375 10.453125 37.984375 14.40625 \nQ 37.984375 18.0625 35.515625 20.015625 \nQ 33.0625 21.96875 24.703125 23.78125 \nL 21.578125 24.515625 \nQ 13.234375 26.265625 9.515625 29.90625 \nQ 5.8125 33.546875 5.8125 39.890625 \nQ 5.8125 47.609375 11.28125 51.796875 \nQ 16.75 56 26.8125 56 \nQ 31.78125 56 36.171875 55.265625 \nQ 40.578125 54.546875 44.28125 53.078125 \nz\n\" id=\"DejaVuSans-115\"/>\n       </defs>\n       <use xlink:href=\"#DejaVuSans-84\"/>\n       <use x=\"45.958984\" xlink:href=\"#DejaVuSans-117\"/>\n       <use x=\"109.337891\" xlink:href=\"#DejaVuSans-101\"/>\n       <use x=\"170.861328\" xlink:href=\"#DejaVuSans-115\"/>\n       <use x=\"222.960938\" xlink:href=\"#DejaVuSans-100\"/>\n       <use x=\"286.4375\" xlink:href=\"#DejaVuSans-97\"/>\n       <use x=\"347.716797\" xlink:href=\"#DejaVuSans-121\"/>\n      </g>\n     </g>\n    </g>\n    <g id=\"xtick_3\">\n     <g id=\"line2d_11\">\n      <g>\n       <use style=\"stroke:#000000;stroke-width:0.8;\" x=\"298.640179\" xlink:href=\"#medce5e3e01\" y=\"348.277187\"/>\n      </g>\n     </g>\n     <g id=\"text_3\">\n      <!-- Wednesday -->\n      <g transform=\"translate(269.691742 362.875625)scale(0.1 -0.1)\">\n       <defs>\n        <path d=\"M 3.328125 72.90625 \nL 13.28125 72.90625 \nL 28.609375 11.28125 \nL 43.890625 72.90625 \nL 54.984375 72.90625 \nL 70.3125 11.28125 \nL 85.59375 72.90625 \nL 95.609375 72.90625 \nL 77.296875 0 \nL 64.890625 0 \nL 49.515625 63.28125 \nL 33.984375 0 \nL 21.578125 0 \nz\n\" id=\"DejaVuSans-87\"/>\n       </defs>\n       <use xlink:href=\"#DejaVuSans-87\"/>\n       <use x=\"93.001953\" xlink:href=\"#DejaVuSans-101\"/>\n       <use x=\"154.525391\" xlink:href=\"#DejaVuSans-100\"/>\n       <use x=\"218.001953\" xlink:href=\"#DejaVuSans-110\"/>\n       <use x=\"281.380859\" xlink:href=\"#DejaVuSans-101\"/>\n       <use x=\"342.904297\" xlink:href=\"#DejaVuSans-115\"/>\n       <use x=\"395.003906\" xlink:href=\"#DejaVuSans-100\"/>\n       <use x=\"458.480469\" xlink:href=\"#DejaVuSans-97\"/>\n       <use x=\"519.759766\" xlink:href=\"#DejaVuSans-121\"/>\n      </g>\n     </g>\n    </g>\n    <g id=\"xtick_4\">\n     <g id=\"line2d_12\">\n      <g>\n       <use style=\"stroke:#000000;stroke-width:0.8;\" x=\"390.900751\" xlink:href=\"#medce5e3e01\" y=\"348.277187\"/>\n      </g>\n     </g>\n     <g id=\"text_4\">\n      <!-- Thursday -->\n      <g transform=\"translate(367.651532 362.875625)scale(0.1 -0.1)\">\n       <defs>\n        <path d=\"M 54.890625 33.015625 \nL 54.890625 0 \nL 45.90625 0 \nL 45.90625 32.71875 \nQ 45.90625 40.484375 42.875 44.328125 \nQ 39.84375 48.1875 33.796875 48.1875 \nQ 26.515625 48.1875 22.3125 43.546875 \nQ 18.109375 38.921875 18.109375 30.90625 \nL 18.109375 0 \nL 9.078125 0 \nL 9.078125 75.984375 \nL 18.109375 75.984375 \nL 18.109375 46.1875 \nQ 21.34375 51.125 25.703125 53.5625 \nQ 30.078125 56 35.796875 56 \nQ 45.21875 56 50.046875 50.171875 \nQ 54.890625 44.34375 54.890625 33.015625 \nz\n\" id=\"DejaVuSans-104\"/>\n        <path d=\"M 41.109375 46.296875 \nQ 39.59375 47.171875 37.8125 47.578125 \nQ 36.03125 48 33.890625 48 \nQ 26.265625 48 22.1875 43.046875 \nQ 18.109375 38.09375 18.109375 28.8125 \nL 18.109375 0 \nL 9.078125 0 \nL 9.078125 54.6875 \nL 18.109375 54.6875 \nL 18.109375 46.1875 \nQ 20.953125 51.171875 25.484375 53.578125 \nQ 30.03125 56 36.53125 56 \nQ 37.453125 56 38.578125 55.875 \nQ 39.703125 55.765625 41.0625 55.515625 \nz\n\" id=\"DejaVuSans-114\"/>\n       </defs>\n       <use xlink:href=\"#DejaVuSans-84\"/>\n       <use x=\"61.083984\" xlink:href=\"#DejaVuSans-104\"/>\n       <use x=\"124.462891\" xlink:href=\"#DejaVuSans-117\"/>\n       <use x=\"187.841797\" xlink:href=\"#DejaVuSans-114\"/>\n       <use x=\"228.955078\" xlink:href=\"#DejaVuSans-115\"/>\n       <use x=\"281.054688\" xlink:href=\"#DejaVuSans-100\"/>\n       <use x=\"344.53125\" xlink:href=\"#DejaVuSans-97\"/>\n       <use x=\"405.810547\" xlink:href=\"#DejaVuSans-121\"/>\n      </g>\n     </g>\n    </g>\n    <g id=\"xtick_5\">\n     <g id=\"line2d_13\">\n      <g>\n       <use style=\"stroke:#000000;stroke-width:0.8;\" x=\"483.161323\" xlink:href=\"#medce5e3e01\" y=\"348.277187\"/>\n      </g>\n     </g>\n     <g id=\"text_5\">\n      <!-- Friday -->\n      <g transform=\"translate(468.005854 362.875625)scale(0.1 -0.1)\">\n       <defs>\n        <path d=\"M 9.8125 72.90625 \nL 51.703125 72.90625 \nL 51.703125 64.59375 \nL 19.671875 64.59375 \nL 19.671875 43.109375 \nL 48.578125 43.109375 \nL 48.578125 34.8125 \nL 19.671875 34.8125 \nL 19.671875 0 \nL 9.8125 0 \nz\n\" id=\"DejaVuSans-70\"/>\n        <path d=\"M 9.421875 54.6875 \nL 18.40625 54.6875 \nL 18.40625 0 \nL 9.421875 0 \nz\nM 9.421875 75.984375 \nL 18.40625 75.984375 \nL 18.40625 64.59375 \nL 9.421875 64.59375 \nz\n\" id=\"DejaVuSans-105\"/>\n       </defs>\n       <use xlink:href=\"#DejaVuSans-70\"/>\n       <use x=\"50.269531\" xlink:href=\"#DejaVuSans-114\"/>\n       <use x=\"91.382812\" xlink:href=\"#DejaVuSans-105\"/>\n       <use x=\"119.166016\" xlink:href=\"#DejaVuSans-100\"/>\n       <use x=\"182.642578\" xlink:href=\"#DejaVuSans-97\"/>\n       <use x=\"243.921875\" xlink:href=\"#DejaVuSans-121\"/>\n      </g>\n     </g>\n    </g>\n    <g id=\"xtick_6\">\n     <g id=\"line2d_14\">\n      <g>\n       <use style=\"stroke:#000000;stroke-width:0.8;\" x=\"575.421894\" xlink:href=\"#medce5e3e01\" y=\"348.277187\"/>\n      </g>\n     </g>\n     <g id=\"text_6\">\n      <!-- Saturday -->\n      <g transform=\"translate(552.889082 362.875625)scale(0.1 -0.1)\">\n       <defs>\n        <path d=\"M 53.515625 70.515625 \nL 53.515625 60.890625 \nQ 47.90625 63.578125 42.921875 64.890625 \nQ 37.9375 66.21875 33.296875 66.21875 \nQ 25.25 66.21875 20.875 63.09375 \nQ 16.5 59.96875 16.5 54.203125 \nQ 16.5 49.359375 19.40625 46.890625 \nQ 22.3125 44.4375 30.421875 42.921875 \nL 36.375 41.703125 \nQ 47.40625 39.59375 52.65625 34.296875 \nQ 57.90625 29 57.90625 20.125 \nQ 57.90625 9.515625 50.796875 4.046875 \nQ 43.703125 -1.421875 29.984375 -1.421875 \nQ 24.8125 -1.421875 18.96875 -0.25 \nQ 13.140625 0.921875 6.890625 3.21875 \nL 6.890625 13.375 \nQ 12.890625 10.015625 18.65625 8.296875 \nQ 24.421875 6.59375 29.984375 6.59375 \nQ 38.421875 6.59375 43.015625 9.90625 \nQ 47.609375 13.234375 47.609375 19.390625 \nQ 47.609375 24.75 44.3125 27.78125 \nQ 41.015625 30.8125 33.5 32.328125 \nL 27.484375 33.5 \nQ 16.453125 35.6875 11.515625 40.375 \nQ 6.59375 45.0625 6.59375 53.421875 \nQ 6.59375 63.09375 13.40625 68.65625 \nQ 20.21875 74.21875 32.171875 74.21875 \nQ 37.3125 74.21875 42.625 73.28125 \nQ 47.953125 72.359375 53.515625 70.515625 \nz\n\" id=\"DejaVuSans-83\"/>\n        <path d=\"M 18.3125 70.21875 \nL 18.3125 54.6875 \nL 36.8125 54.6875 \nL 36.8125 47.703125 \nL 18.3125 47.703125 \nL 18.3125 18.015625 \nQ 18.3125 11.328125 20.140625 9.421875 \nQ 21.96875 7.515625 27.59375 7.515625 \nL 36.8125 7.515625 \nL 36.8125 0 \nL 27.59375 0 \nQ 17.1875 0 13.234375 3.875 \nQ 9.28125 7.765625 9.28125 18.015625 \nL 9.28125 47.703125 \nL 2.6875 47.703125 \nL 2.6875 54.6875 \nL 9.28125 54.6875 \nL 9.28125 70.21875 \nz\n\" id=\"DejaVuSans-116\"/>\n       </defs>\n       <use xlink:href=\"#DejaVuSans-83\"/>\n       <use x=\"63.476562\" xlink:href=\"#DejaVuSans-97\"/>\n       <use x=\"124.755859\" xlink:href=\"#DejaVuSans-116\"/>\n       <use x=\"163.964844\" xlink:href=\"#DejaVuSans-117\"/>\n       <use x=\"227.34375\" xlink:href=\"#DejaVuSans-114\"/>\n       <use x=\"266.707031\" xlink:href=\"#DejaVuSans-100\"/>\n       <use x=\"330.183594\" xlink:href=\"#DejaVuSans-97\"/>\n       <use x=\"391.462891\" xlink:href=\"#DejaVuSans-121\"/>\n      </g>\n     </g>\n    </g>\n    <g id=\"xtick_7\">\n     <g id=\"line2d_15\">\n      <g>\n       <use style=\"stroke:#000000;stroke-width:0.8;\" x=\"667.682466\" xlink:href=\"#medce5e3e01\" y=\"348.277187\"/>\n      </g>\n     </g>\n     <g id=\"text_7\">\n      <!-- Sunday -->\n      <g transform=\"translate(648.973091 362.875625)scale(0.1 -0.1)\">\n       <use xlink:href=\"#DejaVuSans-83\"/>\n       <use x=\"63.476562\" xlink:href=\"#DejaVuSans-117\"/>\n       <use x=\"126.855469\" xlink:href=\"#DejaVuSans-110\"/>\n       <use x=\"190.234375\" xlink:href=\"#DejaVuSans-100\"/>\n       <use x=\"253.710938\" xlink:href=\"#DejaVuSans-97\"/>\n       <use x=\"314.990234\" xlink:href=\"#DejaVuSans-121\"/>\n      </g>\n     </g>\n    </g>\n   </g>\n   <g id=\"matplotlib.axis_2\">\n    <g id=\"ytick_1\">\n     <g id=\"line2d_16\">\n      <defs>\n       <path d=\"M 0 0 \nL -3.5 0 \n\" id=\"m250a854b42\" style=\"stroke:#000000;stroke-width:0.8;\"/>\n      </defs>\n      <g>\n       <use style=\"stroke:#000000;stroke-width:0.8;\" x=\"67.98875\" xlink:href=\"#m250a854b42\" y=\"334.225167\"/>\n      </g>\n     </g>\n     <g id=\"text_8\">\n      <!-- 20000 -->\n      <g transform=\"translate(29.17625 338.024386)scale(0.1 -0.1)\">\n       <defs>\n        <path d=\"M 19.1875 8.296875 \nL 53.609375 8.296875 \nL 53.609375 0 \nL 7.328125 0 \nL 7.328125 8.296875 \nQ 12.9375 14.109375 22.625 23.890625 \nQ 32.328125 33.6875 34.8125 36.53125 \nQ 39.546875 41.84375 41.421875 45.53125 \nQ 43.3125 49.21875 43.3125 52.78125 \nQ 43.3125 58.59375 39.234375 62.25 \nQ 35.15625 65.921875 28.609375 65.921875 \nQ 23.96875 65.921875 18.8125 64.3125 \nQ 13.671875 62.703125 7.8125 59.421875 \nL 7.8125 69.390625 \nQ 13.765625 71.78125 18.9375 73 \nQ 24.125 74.21875 28.421875 74.21875 \nQ 39.75 74.21875 46.484375 68.546875 \nQ 53.21875 62.890625 53.21875 53.421875 \nQ 53.21875 48.921875 51.53125 44.890625 \nQ 49.859375 40.875 45.40625 35.40625 \nQ 44.1875 33.984375 37.640625 27.21875 \nQ 31.109375 20.453125 19.1875 8.296875 \nz\n\" id=\"DejaVuSans-50\"/>\n        <path d=\"M 31.78125 66.40625 \nQ 24.171875 66.40625 20.328125 58.90625 \nQ 16.5 51.421875 16.5 36.375 \nQ 16.5 21.390625 20.328125 13.890625 \nQ 24.171875 6.390625 31.78125 6.390625 \nQ 39.453125 6.390625 43.28125 13.890625 \nQ 47.125 21.390625 47.125 36.375 \nQ 47.125 51.421875 43.28125 58.90625 \nQ 39.453125 66.40625 31.78125 66.40625 \nz\nM 31.78125 74.21875 \nQ 44.046875 74.21875 50.515625 64.515625 \nQ 56.984375 54.828125 56.984375 36.375 \nQ 56.984375 17.96875 50.515625 8.265625 \nQ 44.046875 -1.421875 31.78125 -1.421875 \nQ 19.53125 -1.421875 13.0625 8.265625 \nQ 6.59375 17.96875 6.59375 36.375 \nQ 6.59375 54.828125 13.0625 64.515625 \nQ 19.53125 74.21875 31.78125 74.21875 \nz\n\" id=\"DejaVuSans-48\"/>\n       </defs>\n       <use xlink:href=\"#DejaVuSans-50\"/>\n       <use x=\"63.623047\" xlink:href=\"#DejaVuSans-48\"/>\n       <use x=\"127.246094\" xlink:href=\"#DejaVuSans-48\"/>\n       <use x=\"190.869141\" xlink:href=\"#DejaVuSans-48\"/>\n       <use x=\"254.492188\" xlink:href=\"#DejaVuSans-48\"/>\n      </g>\n     </g>\n    </g>\n    <g id=\"ytick_2\">\n     <g id=\"line2d_17\">\n      <g>\n       <use style=\"stroke:#000000;stroke-width:0.8;\" x=\"67.98875\" xlink:href=\"#m250a854b42\" y=\"297.087109\"/>\n      </g>\n     </g>\n     <g id=\"text_9\">\n      <!-- 40000 -->\n      <g transform=\"translate(29.17625 300.886328)scale(0.1 -0.1)\">\n       <defs>\n        <path d=\"M 37.796875 64.3125 \nL 12.890625 25.390625 \nL 37.796875 25.390625 \nz\nM 35.203125 72.90625 \nL 47.609375 72.90625 \nL 47.609375 25.390625 \nL 58.015625 25.390625 \nL 58.015625 17.1875 \nL 47.609375 17.1875 \nL 47.609375 0 \nL 37.796875 0 \nL 37.796875 17.1875 \nL 4.890625 17.1875 \nL 4.890625 26.703125 \nz\n\" id=\"DejaVuSans-52\"/>\n       </defs>\n       <use xlink:href=\"#DejaVuSans-52\"/>\n       <use x=\"63.623047\" xlink:href=\"#DejaVuSans-48\"/>\n       <use x=\"127.246094\" xlink:href=\"#DejaVuSans-48\"/>\n       <use x=\"190.869141\" xlink:href=\"#DejaVuSans-48\"/>\n       <use x=\"254.492188\" xlink:href=\"#DejaVuSans-48\"/>\n      </g>\n     </g>\n    </g>\n    <g id=\"ytick_3\">\n     <g id=\"line2d_18\">\n      <g>\n       <use style=\"stroke:#000000;stroke-width:0.8;\" x=\"67.98875\" xlink:href=\"#m250a854b42\" y=\"259.949051\"/>\n      </g>\n     </g>\n     <g id=\"text_10\">\n      <!-- 60000 -->\n      <g transform=\"translate(29.17625 263.748269)scale(0.1 -0.1)\">\n       <defs>\n        <path d=\"M 33.015625 40.375 \nQ 26.375 40.375 22.484375 35.828125 \nQ 18.609375 31.296875 18.609375 23.390625 \nQ 18.609375 15.53125 22.484375 10.953125 \nQ 26.375 6.390625 33.015625 6.390625 \nQ 39.65625 6.390625 43.53125 10.953125 \nQ 47.40625 15.53125 47.40625 23.390625 \nQ 47.40625 31.296875 43.53125 35.828125 \nQ 39.65625 40.375 33.015625 40.375 \nz\nM 52.59375 71.296875 \nL 52.59375 62.3125 \nQ 48.875 64.0625 45.09375 64.984375 \nQ 41.3125 65.921875 37.59375 65.921875 \nQ 27.828125 65.921875 22.671875 59.328125 \nQ 17.53125 52.734375 16.796875 39.40625 \nQ 19.671875 43.65625 24.015625 45.921875 \nQ 28.375 48.1875 33.59375 48.1875 \nQ 44.578125 48.1875 50.953125 41.515625 \nQ 57.328125 34.859375 57.328125 23.390625 \nQ 57.328125 12.15625 50.6875 5.359375 \nQ 44.046875 -1.421875 33.015625 -1.421875 \nQ 20.359375 -1.421875 13.671875 8.265625 \nQ 6.984375 17.96875 6.984375 36.375 \nQ 6.984375 53.65625 15.1875 63.9375 \nQ 23.390625 74.21875 37.203125 74.21875 \nQ 40.921875 74.21875 44.703125 73.484375 \nQ 48.484375 72.75 52.59375 71.296875 \nz\n\" id=\"DejaVuSans-54\"/>\n       </defs>\n       <use xlink:href=\"#DejaVuSans-54\"/>\n       <use x=\"63.623047\" xlink:href=\"#DejaVuSans-48\"/>\n       <use x=\"127.246094\" xlink:href=\"#DejaVuSans-48\"/>\n       <use x=\"190.869141\" xlink:href=\"#DejaVuSans-48\"/>\n       <use x=\"254.492188\" xlink:href=\"#DejaVuSans-48\"/>\n      </g>\n     </g>\n    </g>\n    <g id=\"ytick_4\">\n     <g id=\"line2d_19\">\n      <g>\n       <use style=\"stroke:#000000;stroke-width:0.8;\" x=\"67.98875\" xlink:href=\"#m250a854b42\" y=\"222.810992\"/>\n      </g>\n     </g>\n     <g id=\"text_11\">\n      <!-- 80000 -->\n      <g transform=\"translate(29.17625 226.610211)scale(0.1 -0.1)\">\n       <defs>\n        <path d=\"M 31.78125 34.625 \nQ 24.75 34.625 20.71875 30.859375 \nQ 16.703125 27.09375 16.703125 20.515625 \nQ 16.703125 13.921875 20.71875 10.15625 \nQ 24.75 6.390625 31.78125 6.390625 \nQ 38.8125 6.390625 42.859375 10.171875 \nQ 46.921875 13.96875 46.921875 20.515625 \nQ 46.921875 27.09375 42.890625 30.859375 \nQ 38.875 34.625 31.78125 34.625 \nz\nM 21.921875 38.8125 \nQ 15.578125 40.375 12.03125 44.71875 \nQ 8.5 49.078125 8.5 55.328125 \nQ 8.5 64.0625 14.71875 69.140625 \nQ 20.953125 74.21875 31.78125 74.21875 \nQ 42.671875 74.21875 48.875 69.140625 \nQ 55.078125 64.0625 55.078125 55.328125 \nQ 55.078125 49.078125 51.53125 44.71875 \nQ 48 40.375 41.703125 38.8125 \nQ 48.828125 37.15625 52.796875 32.3125 \nQ 56.78125 27.484375 56.78125 20.515625 \nQ 56.78125 9.90625 50.3125 4.234375 \nQ 43.84375 -1.421875 31.78125 -1.421875 \nQ 19.734375 -1.421875 13.25 4.234375 \nQ 6.78125 9.90625 6.78125 20.515625 \nQ 6.78125 27.484375 10.78125 32.3125 \nQ 14.796875 37.15625 21.921875 38.8125 \nz\nM 18.3125 54.390625 \nQ 18.3125 48.734375 21.84375 45.5625 \nQ 25.390625 42.390625 31.78125 42.390625 \nQ 38.140625 42.390625 41.71875 45.5625 \nQ 45.3125 48.734375 45.3125 54.390625 \nQ 45.3125 60.0625 41.71875 63.234375 \nQ 38.140625 66.40625 31.78125 66.40625 \nQ 25.390625 66.40625 21.84375 63.234375 \nQ 18.3125 60.0625 18.3125 54.390625 \nz\n\" id=\"DejaVuSans-56\"/>\n       </defs>\n       <use xlink:href=\"#DejaVuSans-56\"/>\n       <use x=\"63.623047\" xlink:href=\"#DejaVuSans-48\"/>\n       <use x=\"127.246094\" xlink:href=\"#DejaVuSans-48\"/>\n       <use x=\"190.869141\" xlink:href=\"#DejaVuSans-48\"/>\n       <use x=\"254.492188\" xlink:href=\"#DejaVuSans-48\"/>\n      </g>\n     </g>\n    </g>\n    <g id=\"ytick_5\">\n     <g id=\"line2d_20\">\n      <g>\n       <use style=\"stroke:#000000;stroke-width:0.8;\" x=\"67.98875\" xlink:href=\"#m250a854b42\" y=\"185.672934\"/>\n      </g>\n     </g>\n     <g id=\"text_12\">\n      <!-- 100000 -->\n      <g transform=\"translate(22.81375 189.472152)scale(0.1 -0.1)\">\n       <defs>\n        <path d=\"M 12.40625 8.296875 \nL 28.515625 8.296875 \nL 28.515625 63.921875 \nL 10.984375 60.40625 \nL 10.984375 69.390625 \nL 28.421875 72.90625 \nL 38.28125 72.90625 \nL 38.28125 8.296875 \nL 54.390625 8.296875 \nL 54.390625 0 \nL 12.40625 0 \nz\n\" id=\"DejaVuSans-49\"/>\n       </defs>\n       <use xlink:href=\"#DejaVuSans-49\"/>\n       <use x=\"63.623047\" xlink:href=\"#DejaVuSans-48\"/>\n       <use x=\"127.246094\" xlink:href=\"#DejaVuSans-48\"/>\n       <use x=\"190.869141\" xlink:href=\"#DejaVuSans-48\"/>\n       <use x=\"254.492188\" xlink:href=\"#DejaVuSans-48\"/>\n       <use x=\"318.115234\" xlink:href=\"#DejaVuSans-48\"/>\n      </g>\n     </g>\n    </g>\n    <g id=\"ytick_6\">\n     <g id=\"line2d_21\">\n      <g>\n       <use style=\"stroke:#000000;stroke-width:0.8;\" x=\"67.98875\" xlink:href=\"#m250a854b42\" y=\"148.534875\"/>\n      </g>\n     </g>\n     <g id=\"text_13\">\n      <!-- 120000 -->\n      <g transform=\"translate(22.81375 152.334094)scale(0.1 -0.1)\">\n       <use xlink:href=\"#DejaVuSans-49\"/>\n       <use x=\"63.623047\" xlink:href=\"#DejaVuSans-50\"/>\n       <use x=\"127.246094\" xlink:href=\"#DejaVuSans-48\"/>\n       <use x=\"190.869141\" xlink:href=\"#DejaVuSans-48\"/>\n       <use x=\"254.492188\" xlink:href=\"#DejaVuSans-48\"/>\n       <use x=\"318.115234\" xlink:href=\"#DejaVuSans-48\"/>\n      </g>\n     </g>\n    </g>\n    <g id=\"ytick_7\">\n     <g id=\"line2d_22\">\n      <g>\n       <use style=\"stroke:#000000;stroke-width:0.8;\" x=\"67.98875\" xlink:href=\"#m250a854b42\" y=\"111.396817\"/>\n      </g>\n     </g>\n     <g id=\"text_14\">\n      <!-- 140000 -->\n      <g transform=\"translate(22.81375 115.196035)scale(0.1 -0.1)\">\n       <use xlink:href=\"#DejaVuSans-49\"/>\n       <use x=\"63.623047\" xlink:href=\"#DejaVuSans-52\"/>\n       <use x=\"127.246094\" xlink:href=\"#DejaVuSans-48\"/>\n       <use x=\"190.869141\" xlink:href=\"#DejaVuSans-48\"/>\n       <use x=\"254.492188\" xlink:href=\"#DejaVuSans-48\"/>\n       <use x=\"318.115234\" xlink:href=\"#DejaVuSans-48\"/>\n      </g>\n     </g>\n    </g>\n    <g id=\"ytick_8\">\n     <g id=\"line2d_23\">\n      <g>\n       <use style=\"stroke:#000000;stroke-width:0.8;\" x=\"67.98875\" xlink:href=\"#m250a854b42\" y=\"74.258758\"/>\n      </g>\n     </g>\n     <g id=\"text_15\">\n      <!-- 160000 -->\n      <g transform=\"translate(22.81375 78.057977)scale(0.1 -0.1)\">\n       <use xlink:href=\"#DejaVuSans-49\"/>\n       <use x=\"63.623047\" xlink:href=\"#DejaVuSans-54\"/>\n       <use x=\"127.246094\" xlink:href=\"#DejaVuSans-48\"/>\n       <use x=\"190.869141\" xlink:href=\"#DejaVuSans-48\"/>\n       <use x=\"254.492188\" xlink:href=\"#DejaVuSans-48\"/>\n       <use x=\"318.115234\" xlink:href=\"#DejaVuSans-48\"/>\n      </g>\n     </g>\n    </g>\n    <g id=\"ytick_9\">\n     <g id=\"line2d_24\">\n      <g>\n       <use style=\"stroke:#000000;stroke-width:0.8;\" x=\"67.98875\" xlink:href=\"#m250a854b42\" y=\"37.1207\"/>\n      </g>\n     </g>\n     <g id=\"text_16\">\n      <!-- 180000 -->\n      <g transform=\"translate(22.81375 40.919918)scale(0.1 -0.1)\">\n       <use xlink:href=\"#DejaVuSans-49\"/>\n       <use x=\"63.623047\" xlink:href=\"#DejaVuSans-56\"/>\n       <use x=\"127.246094\" xlink:href=\"#DejaVuSans-48\"/>\n       <use x=\"190.869141\" xlink:href=\"#DejaVuSans-48\"/>\n       <use x=\"254.492188\" xlink:href=\"#DejaVuSans-48\"/>\n       <use x=\"318.115234\" xlink:href=\"#DejaVuSans-48\"/>\n      </g>\n     </g>\n    </g>\n    <g id=\"text_17\">\n     <!-- Traffic -->\n     <g transform=\"translate(16.318125 205.690625)rotate(-90)scale(0.12 -0.12)\">\n      <defs>\n       <path d=\"M 37.109375 75.984375 \nL 37.109375 68.5 \nL 28.515625 68.5 \nQ 23.6875 68.5 21.796875 66.546875 \nQ 19.921875 64.59375 19.921875 59.515625 \nL 19.921875 54.6875 \nL 34.71875 54.6875 \nL 34.71875 47.703125 \nL 19.921875 47.703125 \nL 19.921875 0 \nL 10.890625 0 \nL 10.890625 47.703125 \nL 2.296875 47.703125 \nL 2.296875 54.6875 \nL 10.890625 54.6875 \nL 10.890625 58.5 \nQ 10.890625 67.625 15.140625 71.796875 \nQ 19.390625 75.984375 28.609375 75.984375 \nz\n\" id=\"DejaVuSans-102\"/>\n       <path d=\"M 48.78125 52.59375 \nL 48.78125 44.1875 \nQ 44.96875 46.296875 41.140625 47.34375 \nQ 37.3125 48.390625 33.40625 48.390625 \nQ 24.65625 48.390625 19.8125 42.84375 \nQ 14.984375 37.3125 14.984375 27.296875 \nQ 14.984375 17.28125 19.8125 11.734375 \nQ 24.65625 6.203125 33.40625 6.203125 \nQ 37.3125 6.203125 41.140625 7.25 \nQ 44.96875 8.296875 48.78125 10.40625 \nL 48.78125 2.09375 \nQ 45.015625 0.34375 40.984375 -0.53125 \nQ 36.96875 -1.421875 32.421875 -1.421875 \nQ 20.0625 -1.421875 12.78125 6.34375 \nQ 5.515625 14.109375 5.515625 27.296875 \nQ 5.515625 40.671875 12.859375 48.328125 \nQ 20.21875 56 33.015625 56 \nQ 37.15625 56 41.109375 55.140625 \nQ 45.0625 54.296875 48.78125 52.59375 \nz\n\" id=\"DejaVuSans-99\"/>\n      </defs>\n      <use xlink:href=\"#DejaVuSans-84\"/>\n      <use x=\"46.333984\" xlink:href=\"#DejaVuSans-114\"/>\n      <use x=\"87.447266\" xlink:href=\"#DejaVuSans-97\"/>\n      <use x=\"148.726562\" xlink:href=\"#DejaVuSans-102\"/>\n      <use x=\"183.931641\" xlink:href=\"#DejaVuSans-102\"/>\n      <use x=\"219.136719\" xlink:href=\"#DejaVuSans-105\"/>\n      <use x=\"246.919922\" xlink:href=\"#DejaVuSans-99\"/>\n     </g>\n    </g>\n   </g>\n   <g id=\"PathCollection_2\">\n    <defs>\n     <path d=\"M 0 3.383948 \nC 0.897434 3.383948 1.758231 3.027394 2.392813 2.392813 \nC 3.027394 1.758231 3.383948 0.897434 3.383948 0 \nC 3.383948 -0.897434 3.027394 -1.758231 2.392813 -2.392813 \nC 1.758231 -3.027394 0.897434 -3.383948 0 -3.383948 \nC -0.897434 -3.383948 -1.758231 -3.027394 -2.392813 -2.392813 \nC -3.027394 -1.758231 -3.383948 -0.897434 -3.383948 0 \nC -3.383948 0.897434 -3.027394 1.758231 -2.392813 2.392813 \nC -1.758231 3.027394 -0.897434 3.383948 0 3.383948 \nz\n\" id=\"md82f559b9f\" style=\"stroke:#ff7f0e;stroke-width:2.025;\"/>\n    </defs>\n    <g clip-path=\"url(#p845be0184e)\">\n     <use style=\"fill:#ff7f0e;stroke:#ff7f0e;stroke-width:2.025;\" x=\"114.119036\" xlink:href=\"#md82f559b9f\" y=\"108.344068\"/>\n     <use style=\"fill:#ff7f0e;stroke:#ff7f0e;stroke-width:2.025;\" x=\"206.379608\" xlink:href=\"#md82f559b9f\" y=\"46.63547\"/>\n     <use style=\"fill:#ff7f0e;stroke:#ff7f0e;stroke-width:2.025;\" x=\"298.640179\" xlink:href=\"#md82f559b9f\" y=\"51.524696\"/>\n     <use style=\"fill:#ff7f0e;stroke:#ff7f0e;stroke-width:2.025;\" x=\"390.900751\" xlink:href=\"#md82f559b9f\" y=\"50.239719\"/>\n     <use style=\"fill:#ff7f0e;stroke:#ff7f0e;stroke-width:2.025;\" x=\"483.161323\" xlink:href=\"#md82f559b9f\" y=\"41.486278\"/>\n     <use style=\"fill:#ff7f0e;stroke:#ff7f0e;stroke-width:2.025;\" x=\"575.421894\" xlink:href=\"#md82f559b9f\" y=\"168.92924\"/>\n     <use style=\"fill:#ff7f0e;stroke:#ff7f0e;stroke-width:2.025;\" x=\"667.682466\" xlink:href=\"#md82f559b9f\" y=\"201.226352\"/>\n    </g>\n   </g>\n   <g id=\"line2d_25\">\n    <path clip-path=\"url(#p845be0184e)\" d=\"M 114.119036 108.344068 \nL 206.379608 46.63547 \nL 298.640179 51.524696 \nL 390.900751 50.239719 \nL 483.161323 41.486278 \nL 575.421894 168.92924 \nL 667.682466 201.226352 \n\" style=\"fill:none;stroke:#ff7f0e;stroke-linecap:square;stroke-width:2.7;\"/>\n   </g>\n   <g id=\"line2d_26\">\n    <path clip-path=\"url(#p845be0184e)\" d=\"M 0 0 \n\" style=\"fill:none;stroke:#ff7f0e;stroke-linecap:square;stroke-width:2.7;\"/>\n   </g>\n   <g id=\"line2d_27\">\n    <path clip-path=\"url(#p845be0184e)\" d=\"M 0 0 \n\" style=\"fill:none;stroke:#ff7f0e;stroke-linecap:square;stroke-width:2.7;\"/>\n   </g>\n   <g id=\"line2d_28\">\n    <path clip-path=\"url(#p845be0184e)\" d=\"M 0 0 \n\" style=\"fill:none;stroke:#ff7f0e;stroke-linecap:square;stroke-width:2.7;\"/>\n   </g>\n   <g id=\"line2d_29\">\n    <path clip-path=\"url(#p845be0184e)\" d=\"M 0 0 \n\" style=\"fill:none;stroke:#ff7f0e;stroke-linecap:square;stroke-width:2.7;\"/>\n   </g>\n   <g id=\"line2d_30\">\n    <path clip-path=\"url(#p845be0184e)\" d=\"M 0 0 \n\" style=\"fill:none;stroke:#ff7f0e;stroke-linecap:square;stroke-width:2.7;\"/>\n   </g>\n   <g id=\"line2d_31\">\n    <path clip-path=\"url(#p845be0184e)\" d=\"M 0 0 \n\" style=\"fill:none;stroke:#ff7f0e;stroke-linecap:square;stroke-width:2.7;\"/>\n   </g>\n   <g id=\"line2d_32\">\n    <path clip-path=\"url(#p845be0184e)\" d=\"M 0 0 \n\" style=\"fill:none;stroke:#ff7f0e;stroke-linecap:square;stroke-width:2.7;\"/>\n   </g>\n   <g id=\"patch_3\">\n    <path d=\"M 67.98875 348.277187 \nL 67.98875 26.877188 \n\" style=\"fill:none;stroke:#000000;stroke-linecap:square;stroke-linejoin:miter;stroke-width:0.8;\"/>\n   </g>\n   <g id=\"patch_4\">\n    <path d=\"M 67.98875 348.277187 \nL 713.812752 348.277187 \n\" style=\"fill:none;stroke:#000000;stroke-linecap:square;stroke-linejoin:miter;stroke-width:0.8;\"/>\n   </g>\n   <g id=\"PathCollection_3\">\n    <defs>\n     <path d=\"M 0 3.383948 \nC 0.897434 3.383948 1.758231 3.027394 2.392813 2.392813 \nC 3.027394 1.758231 3.383948 0.897434 3.383948 0 \nC 3.383948 -0.897434 3.027394 -1.758231 2.392813 -2.392813 \nC 1.758231 -3.027394 0.897434 -3.383948 0 -3.383948 \nC -0.897434 -3.383948 -1.758231 -3.027394 -2.392813 -2.392813 \nC -3.027394 -1.758231 -3.383948 -0.897434 -3.383948 0 \nC -3.383948 0.897434 -3.027394 1.758231 -2.392813 2.392813 \nC -1.758231 3.027394 -0.897434 3.383948 0 3.383948 \nz\n\" id=\"m0d98e49ced\" style=\"stroke:#2ca02c;stroke-width:2.025;\"/>\n    </defs>\n    <g clip-path=\"url(#p845be0184e)\">\n     <use style=\"fill:#2ca02c;stroke:#2ca02c;stroke-width:2.025;\" x=\"114.119036\" xlink:href=\"#m0d98e49ced\" y=\"285.117513\"/>\n     <use style=\"fill:#2ca02c;stroke:#2ca02c;stroke-width:2.025;\" x=\"206.379608\" xlink:href=\"#m0d98e49ced\" y=\"258.097718\"/>\n     <use style=\"fill:#2ca02c;stroke:#2ca02c;stroke-width:2.025;\" x=\"298.640179\" xlink:href=\"#m0d98e49ced\" y=\"255.817442\"/>\n     <use style=\"fill:#2ca02c;stroke:#2ca02c;stroke-width:2.025;\" x=\"390.900751\" xlink:href=\"#m0d98e49ced\" y=\"255.009689\"/>\n     <use style=\"fill:#2ca02c;stroke:#2ca02c;stroke-width:2.025;\" x=\"483.161323\" xlink:href=\"#m0d98e49ced\" y=\"257.507223\"/>\n     <use style=\"fill:#2ca02c;stroke:#2ca02c;stroke-width:2.025;\" x=\"575.421894\" xlink:href=\"#m0d98e49ced\" y=\"321.756064\"/>\n     <use style=\"fill:#2ca02c;stroke:#2ca02c;stroke-width:2.025;\" x=\"667.682466\" xlink:href=\"#m0d98e49ced\" y=\"333.668097\"/>\n    </g>\n   </g>\n   <g id=\"line2d_33\">\n    <path clip-path=\"url(#p845be0184e)\" d=\"M 114.119036 285.117513 \nL 206.379608 258.097718 \nL 298.640179 255.817442 \nL 390.900751 255.009689 \nL 483.161323 257.507223 \nL 575.421894 321.756064 \nL 667.682466 333.668097 \n\" style=\"fill:none;stroke:#2ca02c;stroke-linecap:square;stroke-width:2.7;\"/>\n   </g>\n   <g id=\"line2d_34\">\n    <path clip-path=\"url(#p845be0184e)\" d=\"M 0 0 \n\" style=\"fill:none;stroke:#2ca02c;stroke-linecap:square;stroke-width:2.7;\"/>\n   </g>\n   <g id=\"line2d_35\">\n    <path clip-path=\"url(#p845be0184e)\" d=\"M 0 0 \n\" style=\"fill:none;stroke:#2ca02c;stroke-linecap:square;stroke-width:2.7;\"/>\n   </g>\n   <g id=\"line2d_36\">\n    <path clip-path=\"url(#p845be0184e)\" d=\"M 0 0 \n\" style=\"fill:none;stroke:#2ca02c;stroke-linecap:square;stroke-width:2.7;\"/>\n   </g>\n   <g id=\"line2d_37\">\n    <path clip-path=\"url(#p845be0184e)\" d=\"M 0 0 \n\" style=\"fill:none;stroke:#2ca02c;stroke-linecap:square;stroke-width:2.7;\"/>\n   </g>\n   <g id=\"line2d_38\">\n    <path clip-path=\"url(#p845be0184e)\" d=\"M 0 0 \n\" style=\"fill:none;stroke:#2ca02c;stroke-linecap:square;stroke-width:2.7;\"/>\n   </g>\n   <g id=\"line2d_39\">\n    <path clip-path=\"url(#p845be0184e)\" d=\"M 0 0 \n\" style=\"fill:none;stroke:#2ca02c;stroke-linecap:square;stroke-width:2.7;\"/>\n   </g>\n   <g id=\"line2d_40\">\n    <path clip-path=\"url(#p845be0184e)\" d=\"M 0 0 \n\" style=\"fill:none;stroke:#2ca02c;stroke-linecap:square;stroke-width:2.7;\"/>\n   </g>\n   <g id=\"text_18\">\n    <!-- Traffic flow by day of the week -->\n    <g transform=\"translate(253.344188 20.877187)scale(0.18 -0.18)\">\n     <defs>\n      <path id=\"DejaVuSans-32\"/>\n      <path d=\"M 9.421875 75.984375 \nL 18.40625 75.984375 \nL 18.40625 0 \nL 9.421875 0 \nz\n\" id=\"DejaVuSans-108\"/>\n      <path d=\"M 4.203125 54.6875 \nL 13.1875 54.6875 \nL 24.421875 12.015625 \nL 35.59375 54.6875 \nL 46.1875 54.6875 \nL 57.421875 12.015625 \nL 68.609375 54.6875 \nL 77.59375 54.6875 \nL 63.28125 0 \nL 52.6875 0 \nL 40.921875 44.828125 \nL 29.109375 0 \nL 18.5 0 \nz\n\" id=\"DejaVuSans-119\"/>\n      <path d=\"M 48.6875 27.296875 \nQ 48.6875 37.203125 44.609375 42.84375 \nQ 40.53125 48.484375 33.40625 48.484375 \nQ 26.265625 48.484375 22.1875 42.84375 \nQ 18.109375 37.203125 18.109375 27.296875 \nQ 18.109375 17.390625 22.1875 11.75 \nQ 26.265625 6.109375 33.40625 6.109375 \nQ 40.53125 6.109375 44.609375 11.75 \nQ 48.6875 17.390625 48.6875 27.296875 \nz\nM 18.109375 46.390625 \nQ 20.953125 51.265625 25.265625 53.625 \nQ 29.59375 56 35.59375 56 \nQ 45.5625 56 51.78125 48.09375 \nQ 58.015625 40.1875 58.015625 27.296875 \nQ 58.015625 14.40625 51.78125 6.484375 \nQ 45.5625 -1.421875 35.59375 -1.421875 \nQ 29.59375 -1.421875 25.265625 0.953125 \nQ 20.953125 3.328125 18.109375 8.203125 \nL 18.109375 0 \nL 9.078125 0 \nL 9.078125 75.984375 \nL 18.109375 75.984375 \nz\n\" id=\"DejaVuSans-98\"/>\n      <path d=\"M 9.078125 75.984375 \nL 18.109375 75.984375 \nL 18.109375 31.109375 \nL 44.921875 54.6875 \nL 56.390625 54.6875 \nL 27.390625 29.109375 \nL 57.625 0 \nL 45.90625 0 \nL 18.109375 26.703125 \nL 18.109375 0 \nL 9.078125 0 \nz\n\" id=\"DejaVuSans-107\"/>\n     </defs>\n     <use xlink:href=\"#DejaVuSans-84\"/>\n     <use x=\"46.333984\" xlink:href=\"#DejaVuSans-114\"/>\n     <use x=\"87.447266\" xlink:href=\"#DejaVuSans-97\"/>\n     <use x=\"148.726562\" xlink:href=\"#DejaVuSans-102\"/>\n     <use x=\"183.931641\" xlink:href=\"#DejaVuSans-102\"/>\n     <use x=\"219.136719\" xlink:href=\"#DejaVuSans-105\"/>\n     <use x=\"246.919922\" xlink:href=\"#DejaVuSans-99\"/>\n     <use x=\"301.900391\" xlink:href=\"#DejaVuSans-32\"/>\n     <use x=\"333.6875\" xlink:href=\"#DejaVuSans-102\"/>\n     <use x=\"368.892578\" xlink:href=\"#DejaVuSans-108\"/>\n     <use x=\"396.675781\" xlink:href=\"#DejaVuSans-111\"/>\n     <use x=\"457.857422\" xlink:href=\"#DejaVuSans-119\"/>\n     <use x=\"539.644531\" xlink:href=\"#DejaVuSans-32\"/>\n     <use x=\"571.431641\" xlink:href=\"#DejaVuSans-98\"/>\n     <use x=\"634.908203\" xlink:href=\"#DejaVuSans-121\"/>\n     <use x=\"694.087891\" xlink:href=\"#DejaVuSans-32\"/>\n     <use x=\"725.875\" xlink:href=\"#DejaVuSans-100\"/>\n     <use x=\"789.351562\" xlink:href=\"#DejaVuSans-97\"/>\n     <use x=\"850.630859\" xlink:href=\"#DejaVuSans-121\"/>\n     <use x=\"909.810547\" xlink:href=\"#DejaVuSans-32\"/>\n     <use x=\"941.597656\" xlink:href=\"#DejaVuSans-111\"/>\n     <use x=\"1002.779297\" xlink:href=\"#DejaVuSans-102\"/>\n     <use x=\"1037.984375\" xlink:href=\"#DejaVuSans-32\"/>\n     <use x=\"1069.771484\" xlink:href=\"#DejaVuSans-116\"/>\n     <use x=\"1108.980469\" xlink:href=\"#DejaVuSans-104\"/>\n     <use x=\"1172.359375\" xlink:href=\"#DejaVuSans-101\"/>\n     <use x=\"1233.882812\" xlink:href=\"#DejaVuSans-32\"/>\n     <use x=\"1265.669922\" xlink:href=\"#DejaVuSans-119\"/>\n     <use x=\"1347.457031\" xlink:href=\"#DejaVuSans-101\"/>\n     <use x=\"1408.980469\" xlink:href=\"#DejaVuSans-101\"/>\n     <use x=\"1470.503906\" xlink:href=\"#DejaVuSans-107\"/>\n    </g>\n   </g>\n   <g id=\"PathCollection_4\">\n    <defs>\n     <path d=\"M 0 3.383948 \nC 0.897434 3.383948 1.758231 3.027394 2.392813 2.392813 \nC 3.027394 1.758231 3.383948 0.897434 3.383948 0 \nC 3.383948 -0.897434 3.027394 -1.758231 2.392813 -2.392813 \nC 1.758231 -3.027394 0.897434 -3.383948 0 -3.383948 \nC -0.897434 -3.383948 -1.758231 -3.027394 -2.392813 -2.392813 \nC -3.027394 -1.758231 -3.383948 -0.897434 -3.383948 0 \nC -3.383948 0.897434 -3.027394 1.758231 -2.392813 2.392813 \nC -1.758231 3.027394 -0.897434 3.383948 0 3.383948 \nz\n\" id=\"m83632b2d46\" style=\"stroke:#d62728;stroke-width:2.025;\"/>\n    </defs>\n    <g clip-path=\"url(#p845be0184e)\">\n     <use style=\"fill:#d62728;stroke:#d62728;stroke-width:2.025;\" x=\"114.119036\" xlink:href=\"#m83632b2d46\" y=\"285.843562\"/>\n     <use style=\"fill:#d62728;stroke:#d62728;stroke-width:2.025;\" x=\"206.379608\" xlink:href=\"#m83632b2d46\" y=\"277.593342\"/>\n     <use style=\"fill:#d62728;stroke:#d62728;stroke-width:2.025;\" x=\"298.640179\" xlink:href=\"#m83632b2d46\" y=\"278.198692\"/>\n     <use style=\"fill:#d62728;stroke:#d62728;stroke-width:2.025;\" x=\"390.900751\" xlink:href=\"#m83632b2d46\" y=\"248.657224\"/>\n     <use style=\"fill:#d62728;stroke:#d62728;stroke-width:2.025;\" x=\"483.161323\" xlink:href=\"#m83632b2d46\" y=\"277.058554\"/>\n     <use style=\"fill:#d62728;stroke:#d62728;stroke-width:2.025;\" x=\"575.421894\" xlink:href=\"#m83632b2d46\" y=\"317.106379\"/>\n     <use style=\"fill:#d62728;stroke:#d62728;stroke-width:2.025;\" x=\"667.682466\" xlink:href=\"#m83632b2d46\" y=\"325.078064\"/>\n    </g>\n   </g>\n   <g id=\"line2d_41\">\n    <path clip-path=\"url(#p845be0184e)\" d=\"M 114.119036 285.843562 \nL 206.379608 277.593342 \nL 298.640179 278.198692 \nL 390.900751 248.657224 \nL 483.161323 277.058554 \nL 575.421894 317.106379 \nL 667.682466 325.078064 \n\" style=\"fill:none;stroke:#d62728;stroke-linecap:square;stroke-width:2.7;\"/>\n   </g>\n   <g id=\"line2d_42\">\n    <path clip-path=\"url(#p845be0184e)\" d=\"M 0 0 \n\" style=\"fill:none;stroke:#d62728;stroke-linecap:square;stroke-width:2.7;\"/>\n   </g>\n   <g id=\"line2d_43\">\n    <path clip-path=\"url(#p845be0184e)\" d=\"M 0 0 \n\" style=\"fill:none;stroke:#d62728;stroke-linecap:square;stroke-width:2.7;\"/>\n   </g>\n   <g id=\"line2d_44\">\n    <path clip-path=\"url(#p845be0184e)\" d=\"M 0 0 \n\" style=\"fill:none;stroke:#d62728;stroke-linecap:square;stroke-width:2.7;\"/>\n   </g>\n   <g id=\"line2d_45\">\n    <path clip-path=\"url(#p845be0184e)\" d=\"M 0 0 \n\" style=\"fill:none;stroke:#d62728;stroke-linecap:square;stroke-width:2.7;\"/>\n   </g>\n   <g id=\"line2d_46\">\n    <path clip-path=\"url(#p845be0184e)\" d=\"M 0 0 \n\" style=\"fill:none;stroke:#d62728;stroke-linecap:square;stroke-width:2.7;\"/>\n   </g>\n   <g id=\"line2d_47\">\n    <path clip-path=\"url(#p845be0184e)\" d=\"M 0 0 \n\" style=\"fill:none;stroke:#d62728;stroke-linecap:square;stroke-width:2.7;\"/>\n   </g>\n   <g id=\"line2d_48\">\n    <path clip-path=\"url(#p845be0184e)\" d=\"M 0 0 \n\" style=\"fill:none;stroke:#d62728;stroke-linecap:square;stroke-width:2.7;\"/>\n   </g>\n   <g id=\"PathCollection_5\">\n    <defs>\n     <path d=\"M 0 3.383948 \nC 0.897434 3.383948 1.758231 3.027394 2.392813 2.392813 \nC 3.027394 1.758231 3.383948 0.897434 3.383948 0 \nC 3.383948 -0.897434 3.027394 -1.758231 2.392813 -2.392813 \nC 1.758231 -3.027394 0.897434 -3.383948 0 -3.383948 \nC -0.897434 -3.383948 -1.758231 -3.027394 -2.392813 -2.392813 \nC -3.027394 -1.758231 -3.383948 -0.897434 -3.383948 0 \nC -3.383948 0.897434 -3.027394 1.758231 -2.392813 2.392813 \nC -1.758231 3.027394 -0.897434 3.383948 0 3.383948 \nz\n\" id=\"m2c4152c341\" style=\"stroke:#9467bd;stroke-width:2.025;\"/>\n    </defs>\n    <g clip-path=\"url(#p845be0184e)\">\n     <use style=\"fill:#9467bd;stroke:#9467bd;stroke-width:2.025;\" x=\"114.119036\" xlink:href=\"#m2c4152c341\" y=\"177.860943\"/>\n     <use style=\"fill:#9467bd;stroke:#9467bd;stroke-width:2.025;\" x=\"206.379608\" xlink:href=\"#m2c4152c341\" y=\"134.015751\"/>\n     <use style=\"fill:#9467bd;stroke:#9467bd;stroke-width:2.025;\" x=\"298.640179\" xlink:href=\"#m2c4152c341\" y=\"120.441791\"/>\n     <use style=\"fill:#9467bd;stroke:#9467bd;stroke-width:2.025;\" x=\"390.900751\" xlink:href=\"#m2c4152c341\" y=\"120.766749\"/>\n     <use style=\"fill:#9467bd;stroke:#9467bd;stroke-width:2.025;\" x=\"483.161323\" xlink:href=\"#m2c4152c341\" y=\"120.042557\"/>\n     <use style=\"fill:#9467bd;stroke:#9467bd;stroke-width:2.025;\" x=\"575.421894\" xlink:href=\"#m2c4152c341\" y=\"240.262166\"/>\n     <use style=\"fill:#9467bd;stroke:#9467bd;stroke-width:2.025;\" x=\"667.682466\" xlink:href=\"#m2c4152c341\" y=\"265.358209\"/>\n    </g>\n   </g>\n   <g id=\"line2d_49\">\n    <path clip-path=\"url(#p845be0184e)\" d=\"M 114.119036 177.860943 \nL 206.379608 134.015751 \nL 298.640179 120.441791 \nL 390.900751 120.766749 \nL 483.161323 120.042557 \nL 575.421894 240.262166 \nL 667.682466 265.358209 \n\" style=\"fill:none;stroke:#9467bd;stroke-linecap:square;stroke-width:2.7;\"/>\n   </g>\n   <g id=\"line2d_50\">\n    <path clip-path=\"url(#p845be0184e)\" d=\"M 0 0 \n\" style=\"fill:none;stroke:#9467bd;stroke-linecap:square;stroke-width:2.7;\"/>\n   </g>\n   <g id=\"line2d_51\">\n    <path clip-path=\"url(#p845be0184e)\" d=\"M 0 0 \n\" style=\"fill:none;stroke:#9467bd;stroke-linecap:square;stroke-width:2.7;\"/>\n   </g>\n   <g id=\"line2d_52\">\n    <path clip-path=\"url(#p845be0184e)\" d=\"M 0 0 \n\" style=\"fill:none;stroke:#9467bd;stroke-linecap:square;stroke-width:2.7;\"/>\n   </g>\n   <g id=\"line2d_53\">\n    <path clip-path=\"url(#p845be0184e)\" d=\"M 0 0 \n\" style=\"fill:none;stroke:#9467bd;stroke-linecap:square;stroke-width:2.7;\"/>\n   </g>\n   <g id=\"line2d_54\">\n    <path clip-path=\"url(#p845be0184e)\" d=\"M 0 0 \n\" style=\"fill:none;stroke:#9467bd;stroke-linecap:square;stroke-width:2.7;\"/>\n   </g>\n   <g id=\"line2d_55\">\n    <path clip-path=\"url(#p845be0184e)\" d=\"M 0 0 \n\" style=\"fill:none;stroke:#9467bd;stroke-linecap:square;stroke-width:2.7;\"/>\n   </g>\n   <g id=\"line2d_56\">\n    <path clip-path=\"url(#p845be0184e)\" d=\"M 0 0 \n\" style=\"fill:none;stroke:#9467bd;stroke-linecap:square;stroke-width:2.7;\"/>\n   </g>\n   <g id=\"PathCollection_6\">\n    <defs>\n     <path d=\"M 0 3.383948 \nC 0.897434 3.383948 1.758231 3.027394 2.392813 2.392813 \nC 3.027394 1.758231 3.383948 0.897434 3.383948 0 \nC 3.383948 -0.897434 3.027394 -1.758231 2.392813 -2.392813 \nC 1.758231 -3.027394 0.897434 -3.383948 0 -3.383948 \nC -0.897434 -3.383948 -1.758231 -3.027394 -2.392813 -2.392813 \nC -3.027394 -1.758231 -3.383948 -0.897434 -3.383948 0 \nC -3.383948 0.897434 -3.027394 1.758231 -2.392813 2.392813 \nC -1.758231 3.027394 -0.897434 3.383948 0 3.383948 \nz\n\" id=\"m3031d712bb\" style=\"stroke:#8c564b;stroke-width:2.025;\"/>\n    </defs>\n    <g clip-path=\"url(#p845be0184e)\">\n     <use style=\"fill:#8c564b;stroke:#8c564b;stroke-width:2.025;\" x=\"114.119036\" xlink:href=\"#m3031d712bb\" y=\"250.502985\"/>\n     <use style=\"fill:#8c564b;stroke:#8c564b;stroke-width:2.025;\" x=\"206.379608\" xlink:href=\"#m3031d712bb\" y=\"225.197112\"/>\n     <use style=\"fill:#8c564b;stroke:#8c564b;stroke-width:2.025;\" x=\"298.640179\" xlink:href=\"#m3031d712bb\" y=\"221.617003\"/>\n     <use style=\"fill:#8c564b;stroke:#8c564b;stroke-width:2.025;\" x=\"390.900751\" xlink:href=\"#m3031d712bb\" y=\"219.000627\"/>\n     <use style=\"fill:#8c564b;stroke:#8c564b;stroke-width:2.025;\" x=\"483.161323\" xlink:href=\"#m3031d712bb\" y=\"214.937724\"/>\n     <use style=\"fill:#8c564b;stroke:#8c564b;stroke-width:2.025;\" x=\"575.421894\" xlink:href=\"#m3031d712bb\" y=\"268.54094\"/>\n     <use style=\"fill:#8c564b;stroke:#8c564b;stroke-width:2.025;\" x=\"667.682466\" xlink:href=\"#m3031d712bb\" y=\"282.566128\"/>\n    </g>\n   </g>\n   <g id=\"line2d_57\">\n    <path clip-path=\"url(#p845be0184e)\" d=\"M 114.119036 250.502985 \nL 206.379608 225.197112 \nL 298.640179 221.617003 \nL 390.900751 219.000627 \nL 483.161323 214.937724 \nL 575.421894 268.54094 \nL 667.682466 282.566128 \n\" style=\"fill:none;stroke:#8c564b;stroke-linecap:square;stroke-width:2.7;\"/>\n   </g>\n   <g id=\"line2d_58\">\n    <path clip-path=\"url(#p845be0184e)\" d=\"M 0 0 \n\" style=\"fill:none;stroke:#8c564b;stroke-linecap:square;stroke-width:2.7;\"/>\n   </g>\n   <g id=\"line2d_59\">\n    <path clip-path=\"url(#p845be0184e)\" d=\"M 0 0 \n\" style=\"fill:none;stroke:#8c564b;stroke-linecap:square;stroke-width:2.7;\"/>\n   </g>\n   <g id=\"line2d_60\">\n    <path clip-path=\"url(#p845be0184e)\" d=\"M 0 0 \n\" style=\"fill:none;stroke:#8c564b;stroke-linecap:square;stroke-width:2.7;\"/>\n   </g>\n   <g id=\"line2d_61\">\n    <path clip-path=\"url(#p845be0184e)\" d=\"M 0 0 \n\" style=\"fill:none;stroke:#8c564b;stroke-linecap:square;stroke-width:2.7;\"/>\n   </g>\n   <g id=\"line2d_62\">\n    <path clip-path=\"url(#p845be0184e)\" d=\"M 0 0 \n\" style=\"fill:none;stroke:#8c564b;stroke-linecap:square;stroke-width:2.7;\"/>\n   </g>\n   <g id=\"line2d_63\">\n    <path clip-path=\"url(#p845be0184e)\" d=\"M 0 0 \n\" style=\"fill:none;stroke:#8c564b;stroke-linecap:square;stroke-width:2.7;\"/>\n   </g>\n   <g id=\"line2d_64\">\n    <path clip-path=\"url(#p845be0184e)\" d=\"M 0 0 \n\" style=\"fill:none;stroke:#8c564b;stroke-linecap:square;stroke-width:2.7;\"/>\n   </g>\n  </g>\n  <g id=\"legend_1\">\n   <g id=\"text_19\">\n    <!-- STATION -->\n    <g transform=\"translate(760.276033 144.802656)scale(0.1 -0.1)\">\n     <defs>\n      <path d=\"M 34.1875 63.1875 \nL 20.796875 26.90625 \nL 47.609375 26.90625 \nz\nM 28.609375 72.90625 \nL 39.796875 72.90625 \nL 67.578125 0 \nL 57.328125 0 \nL 50.6875 18.703125 \nL 17.828125 18.703125 \nL 11.1875 0 \nL 0.78125 0 \nz\n\" id=\"DejaVuSans-65\"/>\n      <path d=\"M 9.8125 72.90625 \nL 19.671875 72.90625 \nL 19.671875 0 \nL 9.8125 0 \nz\n\" id=\"DejaVuSans-73\"/>\n      <path d=\"M 39.40625 66.21875 \nQ 28.65625 66.21875 22.328125 58.203125 \nQ 16.015625 50.203125 16.015625 36.375 \nQ 16.015625 22.609375 22.328125 14.59375 \nQ 28.65625 6.59375 39.40625 6.59375 \nQ 50.140625 6.59375 56.421875 14.59375 \nQ 62.703125 22.609375 62.703125 36.375 \nQ 62.703125 50.203125 56.421875 58.203125 \nQ 50.140625 66.21875 39.40625 66.21875 \nz\nM 39.40625 74.21875 \nQ 54.734375 74.21875 63.90625 63.9375 \nQ 73.09375 53.65625 73.09375 36.375 \nQ 73.09375 19.140625 63.90625 8.859375 \nQ 54.734375 -1.421875 39.40625 -1.421875 \nQ 24.03125 -1.421875 14.8125 8.828125 \nQ 5.609375 19.09375 5.609375 36.375 \nQ 5.609375 53.65625 14.8125 63.9375 \nQ 24.03125 74.21875 39.40625 74.21875 \nz\n\" id=\"DejaVuSans-79\"/>\n      <path d=\"M 9.8125 72.90625 \nL 23.09375 72.90625 \nL 55.421875 11.921875 \nL 55.421875 72.90625 \nL 64.984375 72.90625 \nL 64.984375 0 \nL 51.703125 0 \nL 19.390625 60.984375 \nL 19.390625 0 \nL 9.8125 0 \nz\n\" id=\"DejaVuSans-78\"/>\n     </defs>\n     <use xlink:href=\"#DejaVuSans-83\"/>\n     <use x=\"63.476562\" xlink:href=\"#DejaVuSans-84\"/>\n     <use x=\"116.810547\" xlink:href=\"#DejaVuSans-65\"/>\n     <use x=\"177.46875\" xlink:href=\"#DejaVuSans-84\"/>\n     <use x=\"238.552734\" xlink:href=\"#DejaVuSans-73\"/>\n     <use x=\"268.044922\" xlink:href=\"#DejaVuSans-79\"/>\n     <use x=\"346.755859\" xlink:href=\"#DejaVuSans-78\"/>\n    </g>\n   </g>\n   <g id=\"PathCollection_7\">\n    <g>\n     <use style=\"fill:#1f77b4;stroke:#1f77b4;stroke-width:2.025;\" x=\"732.878377\" xlink:href=\"#m235f42103d\" y=\"156.855781\"/>\n    </g>\n   </g>\n   <g id=\"text_20\">\n    <!-- W 4 ST-WASH SQ -->\n    <g transform=\"translate(750.878377 159.480781)scale(0.1 -0.1)\">\n     <defs>\n      <path d=\"M 4.890625 31.390625 \nL 31.203125 31.390625 \nL 31.203125 23.390625 \nL 4.890625 23.390625 \nz\n\" id=\"DejaVuSans-45\"/>\n      <path d=\"M 9.8125 72.90625 \nL 19.671875 72.90625 \nL 19.671875 43.015625 \nL 55.515625 43.015625 \nL 55.515625 72.90625 \nL 65.375 72.90625 \nL 65.375 0 \nL 55.515625 0 \nL 55.515625 34.71875 \nL 19.671875 34.71875 \nL 19.671875 0 \nL 9.8125 0 \nz\n\" id=\"DejaVuSans-72\"/>\n      <path d=\"M 39.40625 66.21875 \nQ 28.65625 66.21875 22.328125 58.203125 \nQ 16.015625 50.203125 16.015625 36.375 \nQ 16.015625 22.609375 22.328125 14.59375 \nQ 28.65625 6.59375 39.40625 6.59375 \nQ 50.140625 6.59375 56.421875 14.59375 \nQ 62.703125 22.609375 62.703125 36.375 \nQ 62.703125 50.203125 56.421875 58.203125 \nQ 50.140625 66.21875 39.40625 66.21875 \nz\nM 53.21875 1.3125 \nL 66.21875 -12.890625 \nL 54.296875 -12.890625 \nL 43.5 -1.21875 \nQ 41.890625 -1.3125 41.03125 -1.359375 \nQ 40.1875 -1.421875 39.40625 -1.421875 \nQ 24.03125 -1.421875 14.8125 8.859375 \nQ 5.609375 19.140625 5.609375 36.375 \nQ 5.609375 53.65625 14.8125 63.9375 \nQ 24.03125 74.21875 39.40625 74.21875 \nQ 54.734375 74.21875 63.90625 63.9375 \nQ 73.09375 53.65625 73.09375 36.375 \nQ 73.09375 23.6875 67.984375 14.640625 \nQ 62.890625 5.609375 53.21875 1.3125 \nz\n\" id=\"DejaVuSans-81\"/>\n     </defs>\n     <use xlink:href=\"#DejaVuSans-87\"/>\n     <use x=\"98.876953\" xlink:href=\"#DejaVuSans-32\"/>\n     <use x=\"130.664062\" xlink:href=\"#DejaVuSans-52\"/>\n     <use x=\"194.287109\" xlink:href=\"#DejaVuSans-32\"/>\n     <use x=\"226.074219\" xlink:href=\"#DejaVuSans-83\"/>\n     <use x=\"289.550781\" xlink:href=\"#DejaVuSans-84\"/>\n     <use x=\"341.509766\" xlink:href=\"#DejaVuSans-45\"/>\n     <use x=\"373.59375\" xlink:href=\"#DejaVuSans-87\"/>\n     <use x=\"466.970703\" xlink:href=\"#DejaVuSans-65\"/>\n     <use x=\"535.378906\" xlink:href=\"#DejaVuSans-83\"/>\n     <use x=\"598.855469\" xlink:href=\"#DejaVuSans-72\"/>\n     <use x=\"674.050781\" xlink:href=\"#DejaVuSans-32\"/>\n     <use x=\"705.837891\" xlink:href=\"#DejaVuSans-83\"/>\n     <use x=\"769.314453\" xlink:href=\"#DejaVuSans-81\"/>\n    </g>\n   </g>\n   <g id=\"PathCollection_8\">\n    <g>\n     <use style=\"fill:#ff7f0e;stroke:#ff7f0e;stroke-width:2.025;\" x=\"732.878377\" xlink:href=\"#md82f559b9f\" y=\"171.533906\"/>\n    </g>\n   </g>\n   <g id=\"text_21\">\n    <!-- 34 ST-HERALD SQ -->\n    <g transform=\"translate(750.878377 174.158906)scale(0.1 -0.1)\">\n     <defs>\n      <path d=\"M 40.578125 39.3125 \nQ 47.65625 37.796875 51.625 33 \nQ 55.609375 28.21875 55.609375 21.1875 \nQ 55.609375 10.40625 48.1875 4.484375 \nQ 40.765625 -1.421875 27.09375 -1.421875 \nQ 22.515625 -1.421875 17.65625 -0.515625 \nQ 12.796875 0.390625 7.625 2.203125 \nL 7.625 11.71875 \nQ 11.71875 9.328125 16.59375 8.109375 \nQ 21.484375 6.890625 26.8125 6.890625 \nQ 36.078125 6.890625 40.9375 10.546875 \nQ 45.796875 14.203125 45.796875 21.1875 \nQ 45.796875 27.640625 41.28125 31.265625 \nQ 36.765625 34.90625 28.71875 34.90625 \nL 20.21875 34.90625 \nL 20.21875 43.015625 \nL 29.109375 43.015625 \nQ 36.375 43.015625 40.234375 45.921875 \nQ 44.09375 48.828125 44.09375 54.296875 \nQ 44.09375 59.90625 40.109375 62.90625 \nQ 36.140625 65.921875 28.71875 65.921875 \nQ 24.65625 65.921875 20.015625 65.03125 \nQ 15.375 64.15625 9.8125 62.3125 \nL 9.8125 71.09375 \nQ 15.4375 72.65625 20.34375 73.4375 \nQ 25.25 74.21875 29.59375 74.21875 \nQ 40.828125 74.21875 47.359375 69.109375 \nQ 53.90625 64.015625 53.90625 55.328125 \nQ 53.90625 49.265625 50.4375 45.09375 \nQ 46.96875 40.921875 40.578125 39.3125 \nz\n\" id=\"DejaVuSans-51\"/>\n      <path d=\"M 9.8125 72.90625 \nL 55.90625 72.90625 \nL 55.90625 64.59375 \nL 19.671875 64.59375 \nL 19.671875 43.015625 \nL 54.390625 43.015625 \nL 54.390625 34.71875 \nL 19.671875 34.71875 \nL 19.671875 8.296875 \nL 56.78125 8.296875 \nL 56.78125 0 \nL 9.8125 0 \nz\n\" id=\"DejaVuSans-69\"/>\n      <path d=\"M 44.390625 34.1875 \nQ 47.5625 33.109375 50.5625 29.59375 \nQ 53.5625 26.078125 56.59375 19.921875 \nL 66.609375 0 \nL 56 0 \nL 46.6875 18.703125 \nQ 43.0625 26.03125 39.671875 28.421875 \nQ 36.28125 30.8125 30.421875 30.8125 \nL 19.671875 30.8125 \nL 19.671875 0 \nL 9.8125 0 \nL 9.8125 72.90625 \nL 32.078125 72.90625 \nQ 44.578125 72.90625 50.734375 67.671875 \nQ 56.890625 62.453125 56.890625 51.90625 \nQ 56.890625 45.015625 53.6875 40.46875 \nQ 50.484375 35.9375 44.390625 34.1875 \nz\nM 19.671875 64.796875 \nL 19.671875 38.921875 \nL 32.078125 38.921875 \nQ 39.203125 38.921875 42.84375 42.21875 \nQ 46.484375 45.515625 46.484375 51.90625 \nQ 46.484375 58.296875 42.84375 61.546875 \nQ 39.203125 64.796875 32.078125 64.796875 \nz\n\" id=\"DejaVuSans-82\"/>\n      <path d=\"M 9.8125 72.90625 \nL 19.671875 72.90625 \nL 19.671875 8.296875 \nL 55.171875 8.296875 \nL 55.171875 0 \nL 9.8125 0 \nz\n\" id=\"DejaVuSans-76\"/>\n      <path d=\"M 19.671875 64.796875 \nL 19.671875 8.109375 \nL 31.59375 8.109375 \nQ 46.6875 8.109375 53.6875 14.9375 \nQ 60.6875 21.78125 60.6875 36.53125 \nQ 60.6875 51.171875 53.6875 57.984375 \nQ 46.6875 64.796875 31.59375 64.796875 \nz\nM 9.8125 72.90625 \nL 30.078125 72.90625 \nQ 51.265625 72.90625 61.171875 64.09375 \nQ 71.09375 55.28125 71.09375 36.53125 \nQ 71.09375 17.671875 61.125 8.828125 \nQ 51.171875 0 30.078125 0 \nL 9.8125 0 \nz\n\" id=\"DejaVuSans-68\"/>\n     </defs>\n     <use xlink:href=\"#DejaVuSans-51\"/>\n     <use x=\"63.623047\" xlink:href=\"#DejaVuSans-52\"/>\n     <use x=\"127.246094\" xlink:href=\"#DejaVuSans-32\"/>\n     <use x=\"159.033203\" xlink:href=\"#DejaVuSans-83\"/>\n     <use x=\"222.509766\" xlink:href=\"#DejaVuSans-84\"/>\n     <use x=\"274.46875\" xlink:href=\"#DejaVuSans-45\"/>\n     <use x=\"310.552734\" xlink:href=\"#DejaVuSans-72\"/>\n     <use x=\"385.748047\" xlink:href=\"#DejaVuSans-69\"/>\n     <use x=\"448.931641\" xlink:href=\"#DejaVuSans-82\"/>\n     <use x=\"514.414062\" xlink:href=\"#DejaVuSans-65\"/>\n     <use x=\"582.822266\" xlink:href=\"#DejaVuSans-76\"/>\n     <use x=\"638.535156\" xlink:href=\"#DejaVuSans-68\"/>\n     <use x=\"715.537109\" xlink:href=\"#DejaVuSans-32\"/>\n     <use x=\"747.324219\" xlink:href=\"#DejaVuSans-83\"/>\n     <use x=\"810.800781\" xlink:href=\"#DejaVuSans-81\"/>\n    </g>\n   </g>\n   <g id=\"PathCollection_9\">\n    <g>\n     <use style=\"fill:#2ca02c;stroke:#2ca02c;stroke-width:2.025;\" x=\"732.878377\" xlink:href=\"#m0d98e49ced\" y=\"186.212031\"/>\n    </g>\n   </g>\n   <g id=\"text_22\">\n    <!-- 28 ST -->\n    <g transform=\"translate(750.878377 188.837031)scale(0.1 -0.1)\">\n     <use xlink:href=\"#DejaVuSans-50\"/>\n     <use x=\"63.623047\" xlink:href=\"#DejaVuSans-56\"/>\n     <use x=\"127.246094\" xlink:href=\"#DejaVuSans-32\"/>\n     <use x=\"159.033203\" xlink:href=\"#DejaVuSans-83\"/>\n     <use x=\"222.509766\" xlink:href=\"#DejaVuSans-84\"/>\n    </g>\n   </g>\n   <g id=\"PathCollection_10\">\n    <g>\n     <use style=\"fill:#d62728;stroke:#d62728;stroke-width:2.025;\" x=\"732.878377\" xlink:href=\"#m83632b2d46\" y=\"200.890156\"/>\n    </g>\n   </g>\n   <g id=\"text_23\">\n    <!-- CHAMBERS ST -->\n    <g transform=\"translate(750.878377 203.515156)scale(0.1 -0.1)\">\n     <defs>\n      <path d=\"M 64.40625 67.28125 \nL 64.40625 56.890625 \nQ 59.421875 61.53125 53.78125 63.8125 \nQ 48.140625 66.109375 41.796875 66.109375 \nQ 29.296875 66.109375 22.65625 58.46875 \nQ 16.015625 50.828125 16.015625 36.375 \nQ 16.015625 21.96875 22.65625 14.328125 \nQ 29.296875 6.6875 41.796875 6.6875 \nQ 48.140625 6.6875 53.78125 8.984375 \nQ 59.421875 11.28125 64.40625 15.921875 \nL 64.40625 5.609375 \nQ 59.234375 2.09375 53.4375 0.328125 \nQ 47.65625 -1.421875 41.21875 -1.421875 \nQ 24.65625 -1.421875 15.125 8.703125 \nQ 5.609375 18.84375 5.609375 36.375 \nQ 5.609375 53.953125 15.125 64.078125 \nQ 24.65625 74.21875 41.21875 74.21875 \nQ 47.75 74.21875 53.53125 72.484375 \nQ 59.328125 70.75 64.40625 67.28125 \nz\n\" id=\"DejaVuSans-67\"/>\n      <path d=\"M 19.671875 34.8125 \nL 19.671875 8.109375 \nL 35.5 8.109375 \nQ 43.453125 8.109375 47.28125 11.40625 \nQ 51.125 14.703125 51.125 21.484375 \nQ 51.125 28.328125 47.28125 31.5625 \nQ 43.453125 34.8125 35.5 34.8125 \nz\nM 19.671875 64.796875 \nL 19.671875 42.828125 \nL 34.28125 42.828125 \nQ 41.5 42.828125 45.03125 45.53125 \nQ 48.578125 48.25 48.578125 53.8125 \nQ 48.578125 59.328125 45.03125 62.0625 \nQ 41.5 64.796875 34.28125 64.796875 \nz\nM 9.8125 72.90625 \nL 35.015625 72.90625 \nQ 46.296875 72.90625 52.390625 68.21875 \nQ 58.5 63.53125 58.5 54.890625 \nQ 58.5 48.1875 55.375 44.234375 \nQ 52.25 40.28125 46.1875 39.3125 \nQ 53.46875 37.75 57.5 32.78125 \nQ 61.53125 27.828125 61.53125 20.40625 \nQ 61.53125 10.640625 54.890625 5.3125 \nQ 48.25 0 35.984375 0 \nL 9.8125 0 \nz\n\" id=\"DejaVuSans-66\"/>\n     </defs>\n     <use xlink:href=\"#DejaVuSans-67\"/>\n     <use x=\"69.824219\" xlink:href=\"#DejaVuSans-72\"/>\n     <use x=\"145.019531\" xlink:href=\"#DejaVuSans-65\"/>\n     <use x=\"213.427734\" xlink:href=\"#DejaVuSans-77\"/>\n     <use x=\"299.707031\" xlink:href=\"#DejaVuSans-66\"/>\n     <use x=\"368.310547\" xlink:href=\"#DejaVuSans-69\"/>\n     <use x=\"431.494141\" xlink:href=\"#DejaVuSans-82\"/>\n     <use x=\"500.976562\" xlink:href=\"#DejaVuSans-83\"/>\n     <use x=\"564.453125\" xlink:href=\"#DejaVuSans-32\"/>\n     <use x=\"596.240234\" xlink:href=\"#DejaVuSans-83\"/>\n     <use x=\"659.716797\" xlink:href=\"#DejaVuSans-84\"/>\n    </g>\n   </g>\n   <g id=\"PathCollection_11\">\n    <g>\n     <use style=\"fill:#9467bd;stroke:#9467bd;stroke-width:2.025;\" x=\"732.878377\" xlink:href=\"#m2c4152c341\" y=\"215.568281\"/>\n    </g>\n   </g>\n   <g id=\"text_24\">\n    <!-- 23 ST -->\n    <g transform=\"translate(750.878377 218.193281)scale(0.1 -0.1)\">\n     <use xlink:href=\"#DejaVuSans-50\"/>\n     <use x=\"63.623047\" xlink:href=\"#DejaVuSans-51\"/>\n     <use x=\"127.246094\" xlink:href=\"#DejaVuSans-32\"/>\n     <use x=\"159.033203\" xlink:href=\"#DejaVuSans-83\"/>\n     <use x=\"222.509766\" xlink:href=\"#DejaVuSans-84\"/>\n    </g>\n   </g>\n   <g id=\"PathCollection_12\">\n    <g>\n     <use style=\"fill:#8c564b;stroke:#8c564b;stroke-width:2.025;\" x=\"732.878377\" xlink:href=\"#m3031d712bb\" y=\"230.246406\"/>\n    </g>\n   </g>\n   <g id=\"text_25\">\n    <!-- 14 ST -->\n    <g transform=\"translate(750.878377 232.871406)scale(0.1 -0.1)\">\n     <use xlink:href=\"#DejaVuSans-49\"/>\n     <use x=\"63.623047\" xlink:href=\"#DejaVuSans-52\"/>\n     <use x=\"127.246094\" xlink:href=\"#DejaVuSans-32\"/>\n     <use x=\"159.033203\" xlink:href=\"#DejaVuSans-83\"/>\n     <use x=\"222.509766\" xlink:href=\"#DejaVuSans-84\"/>\n    </g>\n   </g>\n  </g>\n </g>\n <defs>\n  <clipPath id=\"p845be0184e\">\n   <rect height=\"321.4\" width=\"645.824002\" x=\"67.98875\" y=\"26.877187\"/>\n  </clipPath>\n </defs>\n</svg>\n",
      "image/png": "[encoded data removed]"
     },
     "metadata": {
      "needs_background": "light"
     }
    }
   ],
   "source": [
    "order = ['Monday', 'Tuesday', 'Wednesday', 'Thursday', 'Friday', 'Saturday', 'Sunday']\n",
    "sns.catplot('DAY_OF_WEEK', 'TOTAL_TRAFFIC', kind='point',hue='STATION',order=order, hue_order=['W 4 ST-WASH SQ', '34 ST-HERALD SQ','28 ST', 'CHAMBERS ST', '23 ST', '14 ST'], aspect=2, data=entries_by_day_of_week)\n",
    "plt.xlabel('')\n",
    "plt.ylabel('Traffic', size=12)\n",
    "plt.title('Traffic flow by day of the week', size=18)\n"
   ]
  },
  {
   "cell_type": "code",
   "execution_count": 33,
   "metadata": {},
   "outputs": [],
   "source": [
    "entries_weekday = entries_by_day_of_week.loc[entries_by_day_of_week['DAY_OF_WEEK'].isin(['Monday', 'Tuesday', 'Wednesday', 'Thursday', 'Friday'])]"
   ]
  },
  {
   "cell_type": "code",
   "execution_count": 36,
   "metadata": {},
   "outputs": [
    {
     "output_type": "execute_result",
     "data": {
      "text/plain": "STATION\n34 ST-PENN STA     1033680.0\n34 ST-HERALD SQ     839347.0\n86 ST               779054.0\n125 ST              767465.0\nGRD CNTRL-42 ST     741495.0\n42 ST-PORT AUTH     696475.0\n14 ST-UNION SQ      692462.0\n23 ST               637453.0\nFLUSHING-MAIN       599926.0\nFULTON ST           584623.0\nName: TOTAL_TRAFFIC, dtype: float64"
     },
     "metadata": {},
     "execution_count": 36
    }
   ],
   "source": [
    "entries_weekday.groupby(['STATION']).TOTAL_TRAFFIC.sum().sort_values(ascending=False).head(10)"
   ]
  },
  {
   "cell_type": "code",
   "execution_count": 37,
   "metadata": {},
   "outputs": [],
   "source": [
    "entries_weekend = entries_by_day_of_week.loc[entries_by_day_of_week['DAY_OF_WEEK'].isin(['Saturday', 'Sunday'])]"
   ]
  },
  {
   "cell_type": "code",
   "execution_count": 38,
   "metadata": {},
   "outputs": [
    {
     "output_type": "execute_result",
     "data": {
      "text/plain": "STATION\n34 ST-PENN STA     237865.0\n125 ST             205183.0\n34 ST-HERALD SQ    200641.0\n14 ST-UNION SQ     186511.0\n86 ST              171008.0\nPATH NEW WTC       170308.0\n42 ST-PORT AUTH    156104.0\nFLUSHING-MAIN      151246.0\nJKSN HT-ROOSVLT    134000.0\nGRD CNTRL-42 ST    131333.0\nName: TOTAL_TRAFFIC, dtype: float64"
     },
     "metadata": {},
     "execution_count": 38
    }
   ],
   "source": [
    "entries_weekend.groupby('STATION').TOTAL_TRAFFIC.sum().sort_values(ascending=False).head(10)"
   ]
  },
  {
   "source": [
    "## Group by time (4 hours)"
   ],
   "cell_type": "markdown",
   "metadata": {}
  },
  {
   "cell_type": "code",
   "execution_count": 24,
   "metadata": {},
   "outputs": [],
   "source": [
    "entries_by_time = entries_by_date.copy(deep=True)"
   ]
  },
  {
   "cell_type": "code",
   "execution_count": 25,
   "metadata": {},
   "outputs": [],
   "source": [
    "entries_by_time = entries_by_time.groupby('STATION').resample('4H', on='DATETIME').sum().reset_index()"
   ]
  },
  {
   "cell_type": "code",
   "execution_count": 26,
   "metadata": {},
   "outputs": [],
   "source": [
    "entries_by_time['TIME'] = entries_by_time['DATETIME'].dt.time"
   ]
  },
  {
   "cell_type": "code",
   "execution_count": 27,
   "metadata": {},
   "outputs": [],
   "source": [
    "#rename time labels for clarification\n",
    "entries_by_time.loc[entries_by_time['TIME'] == datetime.time(0, 0), 'label'] = '8pm-12am'\n",
    "entries_by_time.loc[entries_by_time['TIME'] == datetime.time(4, 0), 'label'] = '12am-4am'\n",
    "entries_by_time.loc[entries_by_time['TIME'] == datetime.time(8, 0), 'label'] = '4am-8am'\n",
    "entries_by_time.loc[entries_by_time['TIME'] == datetime.time(12, 0), 'label'] = '8am-12pm'\n",
    "entries_by_time.loc[entries_by_time['TIME'] == datetime.time(16, 0), 'label'] = '12pm-4pm'\n",
    "entries_by_time.loc[entries_by_time['TIME'] == datetime.time(20, 0), 'label'] = '4pm-8pm'"
   ]
  },
  {
   "cell_type": "code",
   "execution_count": 28,
   "metadata": {},
   "outputs": [],
   "source": [
    "entries_by_time = entries_by_time.groupby(['STATION', 'label'])['TOTAL_TRAFFIC'].sum().reset_index().sort_values(by='TOTAL_TRAFFIC', ascending=False)"
   ]
  },
  {
   "cell_type": "code",
   "execution_count": 242,
   "metadata": {},
   "outputs": [],
   "source": [
    "top_stations = entries_by_time.loc[(entries_by_time['STATION'] == '23 ST') | (entries_by_time['STATION'] == '14 ST') | (entries_by_time['STATION'] == '28 ST ') | (entries_by_time['STATION'] == '34 ST-HERALD SQ') | (entries_by_time['STATION'] == 'W 4 ST-WASH SQ') | (entries_by_time['STATION'] == '28 ST') | (entries_by_time['STATION'] == 'CHAMBERS ST')]"
   ]
  },
  {
   "cell_type": "code",
   "execution_count": 245,
   "metadata": {},
   "outputs": [
    {
     "output_type": "execute_result",
     "data": {
      "text/plain": "Text(0.5, 1.0, 'Traffic by time of day')"
     },
     "metadata": {},
     "execution_count": 245
    },
    {
     "output_type": "display_data",
     "data": {
      "text/plain": "<Figure size 844.375x360 with 1 Axes>",
      "image/svg+xml": "<?xml version=\"1.0\" encoding=\"utf-8\" standalone=\"no\"?>\n<!DOCTYPE svg PUBLIC \"-//W3C//DTD SVG 1.1//EN\"\n  \"http://www.w3.org/Graphics/SVG/1.1/DTD/svg11.dtd\">\n<!-- Created with matplotlib (https://matplotlib.org/) -->\n<svg height=\"372.155312pt\" version=\"1.1\" viewBox=\"0 0 847.863689 372.155312\" width=\"847.863689pt\" xmlns=\"http://www.w3.org/2000/svg\" xmlns:xlink=\"http://www.w3.org/1999/xlink\">\n <metadata>\n  <rdf:RDF xmlns:cc=\"http://creativecommons.org/ns#\" xmlns:dc=\"http://purl.org/dc/elements/1.1/\" xmlns:rdf=\"http://www.w3.org/1999/02/22-rdf-syntax-ns#\">\n   <cc:Work>\n    <dc:type rdf:resource=\"http://purl.org/dc/dcmitype/StillImage\"/>\n    <dc:date>2020-09-28T00:30:27.284573</dc:date>\n    <dc:format>image/svg+xml</dc:format>\n    <dc:creator>\n     <cc:Agent>\n      <dc:title>Matplotlib v3.3.1, https://matplotlib.org/</dc:title>\n     </cc:Agent>\n    </dc:creator>\n   </cc:Work>\n  </rdf:RDF>\n </metadata>\n <defs>\n  <style type=\"text/css\">*{stroke-linecap:butt;stroke-linejoin:round;}</style>\n </defs>\n <g id=\"figure_1\">\n  <g id=\"patch_1\">\n   <path d=\"M 0 372.155312 \nL 847.863689 372.155312 \nL 847.863689 0 \nL 0 0 \nz\n\" style=\"fill:none;\"/>\n  </g>\n  <g id=\"axes_1\">\n   <g id=\"patch_2\">\n    <path d=\"M 67.020938 348.277187 \nL 712.844939 348.277187 \nL 712.844939 26.877187 \nL 67.020938 26.877187 \nz\n\" style=\"fill:#ffffff;\"/>\n   </g>\n   <g id=\"PathCollection_1\">\n    <defs>\n     <path d=\"M 0 3.383948 \nC 0.897434 3.383948 1.758231 3.027394 2.392813 2.392813 \nC 3.027394 1.758231 3.383948 0.897434 3.383948 0 \nC 3.383948 -0.897434 3.027394 -1.758231 2.392813 -2.392813 \nC 1.758231 -3.027394 0.897434 -3.383948 0 -3.383948 \nC -0.897434 -3.383948 -1.758231 -3.027394 -2.392813 -2.392813 \nC -3.027394 -1.758231 -3.383948 -0.897434 -3.383948 0 \nC -3.383948 0.897434 -3.027394 1.758231 -2.392813 2.392813 \nC -1.758231 3.027394 -0.897434 3.383948 0 3.383948 \nz\n\" id=\"m5c90215cf5\" style=\"stroke:#1f77b4;stroke-width:2.025;\"/>\n    </defs>\n    <g clip-path=\"url(#peb12cce7cd)\">\n     <use style=\"fill:#1f77b4;stroke:#1f77b4;stroke-width:2.025;\" x=\"120.839604\" xlink:href=\"#m5c90215cf5\" y=\"333.42057\"/>\n     <use style=\"fill:#1f77b4;stroke:#1f77b4;stroke-width:2.025;\" x=\"228.476938\" xlink:href=\"#m5c90215cf5\" y=\"293.781018\"/>\n     <use style=\"fill:#1f77b4;stroke:#1f77b4;stroke-width:2.025;\" x=\"336.114272\" xlink:href=\"#m5c90215cf5\" y=\"280.903619\"/>\n     <use style=\"fill:#1f77b4;stroke:#1f77b4;stroke-width:2.025;\" x=\"443.751605\" xlink:href=\"#m5c90215cf5\" y=\"244.465521\"/>\n     <use style=\"fill:#1f77b4;stroke:#1f77b4;stroke-width:2.025;\" x=\"551.388939\" xlink:href=\"#m5c90215cf5\" y=\"251.516136\"/>\n     <use style=\"fill:#1f77b4;stroke:#1f77b4;stroke-width:2.025;\" x=\"659.026272\" xlink:href=\"#m5c90215cf5\" y=\"298.038986\"/>\n    </g>\n   </g>\n   <g id=\"line2d_1\">\n    <path clip-path=\"url(#peb12cce7cd)\" d=\"M 120.839604 333.42057 \nL 228.476938 293.781018 \nL 336.114272 280.903619 \nL 443.751605 244.465521 \nL 551.388939 251.516136 \nL 659.026272 298.038986 \n\" style=\"fill:none;stroke:#1f77b4;stroke-linecap:square;stroke-width:2.7;\"/>\n   </g>\n   <g id=\"line2d_2\">\n    <path clip-path=\"url(#peb12cce7cd)\" d=\"M 0 0 \n\" style=\"fill:none;stroke:#1f77b4;stroke-linecap:square;stroke-width:2.7;\"/>\n   </g>\n   <g id=\"line2d_3\">\n    <path clip-path=\"url(#peb12cce7cd)\" d=\"M 0 0 \n\" style=\"fill:none;stroke:#1f77b4;stroke-linecap:square;stroke-width:2.7;\"/>\n   </g>\n   <g id=\"line2d_4\">\n    <path clip-path=\"url(#peb12cce7cd)\" d=\"M 0 0 \n\" style=\"fill:none;stroke:#1f77b4;stroke-linecap:square;stroke-width:2.7;\"/>\n   </g>\n   <g id=\"line2d_5\">\n    <path clip-path=\"url(#peb12cce7cd)\" d=\"M 0 0 \n\" style=\"fill:none;stroke:#1f77b4;stroke-linecap:square;stroke-width:2.7;\"/>\n   </g>\n   <g id=\"line2d_6\">\n    <path clip-path=\"url(#peb12cce7cd)\" d=\"M 0 0 \n\" style=\"fill:none;stroke:#1f77b4;stroke-linecap:square;stroke-width:2.7;\"/>\n   </g>\n   <g id=\"line2d_7\">\n    <path clip-path=\"url(#peb12cce7cd)\" d=\"M 0 0 \n\" style=\"fill:none;stroke:#1f77b4;stroke-linecap:square;stroke-width:2.7;\"/>\n   </g>\n   <g id=\"matplotlib.axis_1\">\n    <g id=\"xtick_1\">\n     <g id=\"line2d_8\">\n      <defs>\n       <path d=\"M 0 0 \nL 0 3.5 \n\" id=\"m8a6dca2766\" style=\"stroke:#000000;stroke-width:0.8;\"/>\n      </defs>\n      <g>\n       <use style=\"stroke:#000000;stroke-width:0.8;\" x=\"120.839604\" xlink:href=\"#m8a6dca2766\" y=\"348.277187\"/>\n      </g>\n     </g>\n     <g id=\"text_1\">\n      <!-- 12am-4am -->\n      <g transform=\"translate(93.623198 362.875625)scale(0.1 -0.1)\">\n       <defs>\n        <path d=\"M 12.40625 8.296875 \nL 28.515625 8.296875 \nL 28.515625 63.921875 \nL 10.984375 60.40625 \nL 10.984375 69.390625 \nL 28.421875 72.90625 \nL 38.28125 72.90625 \nL 38.28125 8.296875 \nL 54.390625 8.296875 \nL 54.390625 0 \nL 12.40625 0 \nz\n\" id=\"DejaVuSans-49\"/>\n        <path d=\"M 19.1875 8.296875 \nL 53.609375 8.296875 \nL 53.609375 0 \nL 7.328125 0 \nL 7.328125 8.296875 \nQ 12.9375 14.109375 22.625 23.890625 \nQ 32.328125 33.6875 34.8125 36.53125 \nQ 39.546875 41.84375 41.421875 45.53125 \nQ 43.3125 49.21875 43.3125 52.78125 \nQ 43.3125 58.59375 39.234375 62.25 \nQ 35.15625 65.921875 28.609375 65.921875 \nQ 23.96875 65.921875 18.8125 64.3125 \nQ 13.671875 62.703125 7.8125 59.421875 \nL 7.8125 69.390625 \nQ 13.765625 71.78125 18.9375 73 \nQ 24.125 74.21875 28.421875 74.21875 \nQ 39.75 74.21875 46.484375 68.546875 \nQ 53.21875 62.890625 53.21875 53.421875 \nQ 53.21875 48.921875 51.53125 44.890625 \nQ 49.859375 40.875 45.40625 35.40625 \nQ 44.1875 33.984375 37.640625 27.21875 \nQ 31.109375 20.453125 19.1875 8.296875 \nz\n\" id=\"DejaVuSans-50\"/>\n        <path d=\"M 34.28125 27.484375 \nQ 23.390625 27.484375 19.1875 25 \nQ 14.984375 22.515625 14.984375 16.5 \nQ 14.984375 11.71875 18.140625 8.90625 \nQ 21.296875 6.109375 26.703125 6.109375 \nQ 34.1875 6.109375 38.703125 11.40625 \nQ 43.21875 16.703125 43.21875 25.484375 \nL 43.21875 27.484375 \nz\nM 52.203125 31.203125 \nL 52.203125 0 \nL 43.21875 0 \nL 43.21875 8.296875 \nQ 40.140625 3.328125 35.546875 0.953125 \nQ 30.953125 -1.421875 24.3125 -1.421875 \nQ 15.921875 -1.421875 10.953125 3.296875 \nQ 6 8.015625 6 15.921875 \nQ 6 25.140625 12.171875 29.828125 \nQ 18.359375 34.515625 30.609375 34.515625 \nL 43.21875 34.515625 \nL 43.21875 35.40625 \nQ 43.21875 41.609375 39.140625 45 \nQ 35.0625 48.390625 27.6875 48.390625 \nQ 23 48.390625 18.546875 47.265625 \nQ 14.109375 46.140625 10.015625 43.890625 \nL 10.015625 52.203125 \nQ 14.9375 54.109375 19.578125 55.046875 \nQ 24.21875 56 28.609375 56 \nQ 40.484375 56 46.34375 49.84375 \nQ 52.203125 43.703125 52.203125 31.203125 \nz\n\" id=\"DejaVuSans-97\"/>\n        <path d=\"M 52 44.1875 \nQ 55.375 50.25 60.0625 53.125 \nQ 64.75 56 71.09375 56 \nQ 79.640625 56 84.28125 50.015625 \nQ 88.921875 44.046875 88.921875 33.015625 \nL 88.921875 0 \nL 79.890625 0 \nL 79.890625 32.71875 \nQ 79.890625 40.578125 77.09375 44.375 \nQ 74.3125 48.1875 68.609375 48.1875 \nQ 61.625 48.1875 57.5625 43.546875 \nQ 53.515625 38.921875 53.515625 30.90625 \nL 53.515625 0 \nL 44.484375 0 \nL 44.484375 32.71875 \nQ 44.484375 40.625 41.703125 44.40625 \nQ 38.921875 48.1875 33.109375 48.1875 \nQ 26.21875 48.1875 22.15625 43.53125 \nQ 18.109375 38.875 18.109375 30.90625 \nL 18.109375 0 \nL 9.078125 0 \nL 9.078125 54.6875 \nL 18.109375 54.6875 \nL 18.109375 46.1875 \nQ 21.1875 51.21875 25.484375 53.609375 \nQ 29.78125 56 35.6875 56 \nQ 41.65625 56 45.828125 52.96875 \nQ 50 49.953125 52 44.1875 \nz\n\" id=\"DejaVuSans-109\"/>\n        <path d=\"M 4.890625 31.390625 \nL 31.203125 31.390625 \nL 31.203125 23.390625 \nL 4.890625 23.390625 \nz\n\" id=\"DejaVuSans-45\"/>\n        <path d=\"M 37.796875 64.3125 \nL 12.890625 25.390625 \nL 37.796875 25.390625 \nz\nM 35.203125 72.90625 \nL 47.609375 72.90625 \nL 47.609375 25.390625 \nL 58.015625 25.390625 \nL 58.015625 17.1875 \nL 47.609375 17.1875 \nL 47.609375 0 \nL 37.796875 0 \nL 37.796875 17.1875 \nL 4.890625 17.1875 \nL 4.890625 26.703125 \nz\n\" id=\"DejaVuSans-52\"/>\n       </defs>\n       <use xlink:href=\"#DejaVuSans-49\"/>\n       <use x=\"63.623047\" xlink:href=\"#DejaVuSans-50\"/>\n       <use x=\"127.246094\" xlink:href=\"#DejaVuSans-97\"/>\n       <use x=\"188.525391\" xlink:href=\"#DejaVuSans-109\"/>\n       <use x=\"285.9375\" xlink:href=\"#DejaVuSans-45\"/>\n       <use x=\"322.021484\" xlink:href=\"#DejaVuSans-52\"/>\n       <use x=\"385.644531\" xlink:href=\"#DejaVuSans-97\"/>\n       <use x=\"446.923828\" xlink:href=\"#DejaVuSans-109\"/>\n      </g>\n     </g>\n    </g>\n    <g id=\"xtick_2\">\n     <g id=\"line2d_9\">\n      <g>\n       <use style=\"stroke:#000000;stroke-width:0.8;\" x=\"228.476938\" xlink:href=\"#m8a6dca2766\" y=\"348.277187\"/>\n      </g>\n     </g>\n     <g id=\"text_2\">\n      <!-- 4am-8am -->\n      <g transform=\"translate(204.441782 362.875625)scale(0.1 -0.1)\">\n       <defs>\n        <path d=\"M 31.78125 34.625 \nQ 24.75 34.625 20.71875 30.859375 \nQ 16.703125 27.09375 16.703125 20.515625 \nQ 16.703125 13.921875 20.71875 10.15625 \nQ 24.75 6.390625 31.78125 6.390625 \nQ 38.8125 6.390625 42.859375 10.171875 \nQ 46.921875 13.96875 46.921875 20.515625 \nQ 46.921875 27.09375 42.890625 30.859375 \nQ 38.875 34.625 31.78125 34.625 \nz\nM 21.921875 38.8125 \nQ 15.578125 40.375 12.03125 44.71875 \nQ 8.5 49.078125 8.5 55.328125 \nQ 8.5 64.0625 14.71875 69.140625 \nQ 20.953125 74.21875 31.78125 74.21875 \nQ 42.671875 74.21875 48.875 69.140625 \nQ 55.078125 64.0625 55.078125 55.328125 \nQ 55.078125 49.078125 51.53125 44.71875 \nQ 48 40.375 41.703125 38.8125 \nQ 48.828125 37.15625 52.796875 32.3125 \nQ 56.78125 27.484375 56.78125 20.515625 \nQ 56.78125 9.90625 50.3125 4.234375 \nQ 43.84375 -1.421875 31.78125 -1.421875 \nQ 19.734375 -1.421875 13.25 4.234375 \nQ 6.78125 9.90625 6.78125 20.515625 \nQ 6.78125 27.484375 10.78125 32.3125 \nQ 14.796875 37.15625 21.921875 38.8125 \nz\nM 18.3125 54.390625 \nQ 18.3125 48.734375 21.84375 45.5625 \nQ 25.390625 42.390625 31.78125 42.390625 \nQ 38.140625 42.390625 41.71875 45.5625 \nQ 45.3125 48.734375 45.3125 54.390625 \nQ 45.3125 60.0625 41.71875 63.234375 \nQ 38.140625 66.40625 31.78125 66.40625 \nQ 25.390625 66.40625 21.84375 63.234375 \nQ 18.3125 60.0625 18.3125 54.390625 \nz\n\" id=\"DejaVuSans-56\"/>\n       </defs>\n       <use xlink:href=\"#DejaVuSans-52\"/>\n       <use x=\"63.623047\" xlink:href=\"#DejaVuSans-97\"/>\n       <use x=\"124.902344\" xlink:href=\"#DejaVuSans-109\"/>\n       <use x=\"222.314453\" xlink:href=\"#DejaVuSans-45\"/>\n       <use x=\"258.398438\" xlink:href=\"#DejaVuSans-56\"/>\n       <use x=\"322.021484\" xlink:href=\"#DejaVuSans-97\"/>\n       <use x=\"383.300781\" xlink:href=\"#DejaVuSans-109\"/>\n      </g>\n     </g>\n    </g>\n    <g id=\"xtick_3\">\n     <g id=\"line2d_10\">\n      <g>\n       <use style=\"stroke:#000000;stroke-width:0.8;\" x=\"336.114272\" xlink:href=\"#m8a6dca2766\" y=\"348.277187\"/>\n      </g>\n     </g>\n     <g id=\"text_3\">\n      <!-- 8am-12pm -->\n      <g transform=\"translate(308.787709 362.875625)scale(0.1 -0.1)\">\n       <defs>\n        <path d=\"M 18.109375 8.203125 \nL 18.109375 -20.796875 \nL 9.078125 -20.796875 \nL 9.078125 54.6875 \nL 18.109375 54.6875 \nL 18.109375 46.390625 \nQ 20.953125 51.265625 25.265625 53.625 \nQ 29.59375 56 35.59375 56 \nQ 45.5625 56 51.78125 48.09375 \nQ 58.015625 40.1875 58.015625 27.296875 \nQ 58.015625 14.40625 51.78125 6.484375 \nQ 45.5625 -1.421875 35.59375 -1.421875 \nQ 29.59375 -1.421875 25.265625 0.953125 \nQ 20.953125 3.328125 18.109375 8.203125 \nz\nM 48.6875 27.296875 \nQ 48.6875 37.203125 44.609375 42.84375 \nQ 40.53125 48.484375 33.40625 48.484375 \nQ 26.265625 48.484375 22.1875 42.84375 \nQ 18.109375 37.203125 18.109375 27.296875 \nQ 18.109375 17.390625 22.1875 11.75 \nQ 26.265625 6.109375 33.40625 6.109375 \nQ 40.53125 6.109375 44.609375 11.75 \nQ 48.6875 17.390625 48.6875 27.296875 \nz\n\" id=\"DejaVuSans-112\"/>\n       </defs>\n       <use xlink:href=\"#DejaVuSans-56\"/>\n       <use x=\"63.623047\" xlink:href=\"#DejaVuSans-97\"/>\n       <use x=\"124.902344\" xlink:href=\"#DejaVuSans-109\"/>\n       <use x=\"222.314453\" xlink:href=\"#DejaVuSans-45\"/>\n       <use x=\"258.398438\" xlink:href=\"#DejaVuSans-49\"/>\n       <use x=\"322.021484\" xlink:href=\"#DejaVuSans-50\"/>\n       <use x=\"385.644531\" xlink:href=\"#DejaVuSans-112\"/>\n       <use x=\"449.121094\" xlink:href=\"#DejaVuSans-109\"/>\n      </g>\n     </g>\n    </g>\n    <g id=\"xtick_4\">\n     <g id=\"line2d_11\">\n      <g>\n       <use style=\"stroke:#000000;stroke-width:0.8;\" x=\"443.751605\" xlink:href=\"#m8a6dca2766\" y=\"348.277187\"/>\n      </g>\n     </g>\n     <g id=\"text_4\">\n      <!-- 12pm-4pm -->\n      <g transform=\"translate(416.314886 362.875625)scale(0.1 -0.1)\">\n       <use xlink:href=\"#DejaVuSans-49\"/>\n       <use x=\"63.623047\" xlink:href=\"#DejaVuSans-50\"/>\n       <use x=\"127.246094\" xlink:href=\"#DejaVuSans-112\"/>\n       <use x=\"190.722656\" xlink:href=\"#DejaVuSans-109\"/>\n       <use x=\"288.134766\" xlink:href=\"#DejaVuSans-45\"/>\n       <use x=\"324.21875\" xlink:href=\"#DejaVuSans-52\"/>\n       <use x=\"387.841797\" xlink:href=\"#DejaVuSans-112\"/>\n       <use x=\"451.318359\" xlink:href=\"#DejaVuSans-109\"/>\n      </g>\n     </g>\n    </g>\n    <g id=\"xtick_5\">\n     <g id=\"line2d_12\">\n      <g>\n       <use style=\"stroke:#000000;stroke-width:0.8;\" x=\"551.388939\" xlink:href=\"#m8a6dca2766\" y=\"348.277187\"/>\n      </g>\n     </g>\n     <g id=\"text_5\">\n      <!-- 4pm-8pm -->\n      <g transform=\"translate(527.13347 362.875625)scale(0.1 -0.1)\">\n       <use xlink:href=\"#DejaVuSans-52\"/>\n       <use x=\"63.623047\" xlink:href=\"#DejaVuSans-112\"/>\n       <use x=\"127.099609\" xlink:href=\"#DejaVuSans-109\"/>\n       <use x=\"224.511719\" xlink:href=\"#DejaVuSans-45\"/>\n       <use x=\"260.595703\" xlink:href=\"#DejaVuSans-56\"/>\n       <use x=\"324.21875\" xlink:href=\"#DejaVuSans-112\"/>\n       <use x=\"387.695312\" xlink:href=\"#DejaVuSans-109\"/>\n      </g>\n     </g>\n    </g>\n    <g id=\"xtick_6\">\n     <g id=\"line2d_13\">\n      <g>\n       <use style=\"stroke:#000000;stroke-width:0.8;\" x=\"659.026272\" xlink:href=\"#m8a6dca2766\" y=\"348.277187\"/>\n      </g>\n     </g>\n     <g id=\"text_6\">\n      <!-- 8pm-12am -->\n      <g transform=\"translate(631.69971 362.875625)scale(0.1 -0.1)\">\n       <use xlink:href=\"#DejaVuSans-56\"/>\n       <use x=\"63.623047\" xlink:href=\"#DejaVuSans-112\"/>\n       <use x=\"127.099609\" xlink:href=\"#DejaVuSans-109\"/>\n       <use x=\"224.511719\" xlink:href=\"#DejaVuSans-45\"/>\n       <use x=\"260.595703\" xlink:href=\"#DejaVuSans-49\"/>\n       <use x=\"324.21875\" xlink:href=\"#DejaVuSans-50\"/>\n       <use x=\"387.841797\" xlink:href=\"#DejaVuSans-97\"/>\n       <use x=\"449.121094\" xlink:href=\"#DejaVuSans-109\"/>\n      </g>\n     </g>\n    </g>\n   </g>\n   <g id=\"matplotlib.axis_2\">\n    <g id=\"ytick_1\">\n     <g id=\"line2d_14\">\n      <defs>\n       <path d=\"M 0 0 \nL -3.5 0 \n\" id=\"m5e8d814564\" style=\"stroke:#000000;stroke-width:0.8;\"/>\n      </defs>\n      <g>\n       <use style=\"stroke:#000000;stroke-width:0.8;\" x=\"67.020938\" xlink:href=\"#m5e8d814564\" y=\"334.388251\"/>\n      </g>\n     </g>\n     <g id=\"text_7\">\n      <!-- 0 -->\n      <g transform=\"translate(53.658438 338.18747)scale(0.1 -0.1)\">\n       <defs>\n        <path d=\"M 31.78125 66.40625 \nQ 24.171875 66.40625 20.328125 58.90625 \nQ 16.5 51.421875 16.5 36.375 \nQ 16.5 21.390625 20.328125 13.890625 \nQ 24.171875 6.390625 31.78125 6.390625 \nQ 39.453125 6.390625 43.28125 13.890625 \nQ 47.125 21.390625 47.125 36.375 \nQ 47.125 51.421875 43.28125 58.90625 \nQ 39.453125 66.40625 31.78125 66.40625 \nz\nM 31.78125 74.21875 \nQ 44.046875 74.21875 50.515625 64.515625 \nQ 56.984375 54.828125 56.984375 36.375 \nQ 56.984375 17.96875 50.515625 8.265625 \nQ 44.046875 -1.421875 31.78125 -1.421875 \nQ 19.53125 -1.421875 13.0625 8.265625 \nQ 6.59375 17.96875 6.59375 36.375 \nQ 6.59375 54.828125 13.0625 64.515625 \nQ 19.53125 74.21875 31.78125 74.21875 \nz\n\" id=\"DejaVuSans-48\"/>\n       </defs>\n       <use xlink:href=\"#DejaVuSans-48\"/>\n      </g>\n     </g>\n    </g>\n    <g id=\"ytick_2\">\n     <g id=\"line2d_15\">\n      <g>\n       <use style=\"stroke:#000000;stroke-width:0.8;\" x=\"67.020938\" xlink:href=\"#m5e8d814564\" y=\"291.265221\"/>\n      </g>\n     </g>\n     <g id=\"text_8\">\n      <!-- 50000 -->\n      <g transform=\"translate(28.208438 295.064439)scale(0.1 -0.1)\">\n       <defs>\n        <path d=\"M 10.796875 72.90625 \nL 49.515625 72.90625 \nL 49.515625 64.59375 \nL 19.828125 64.59375 \nL 19.828125 46.734375 \nQ 21.96875 47.46875 24.109375 47.828125 \nQ 26.265625 48.1875 28.421875 48.1875 \nQ 40.625 48.1875 47.75 41.5 \nQ 54.890625 34.8125 54.890625 23.390625 \nQ 54.890625 11.625 47.5625 5.09375 \nQ 40.234375 -1.421875 26.90625 -1.421875 \nQ 22.3125 -1.421875 17.546875 -0.640625 \nQ 12.796875 0.140625 7.71875 1.703125 \nL 7.71875 11.625 \nQ 12.109375 9.234375 16.796875 8.0625 \nQ 21.484375 6.890625 26.703125 6.890625 \nQ 35.15625 6.890625 40.078125 11.328125 \nQ 45.015625 15.765625 45.015625 23.390625 \nQ 45.015625 31 40.078125 35.4375 \nQ 35.15625 39.890625 26.703125 39.890625 \nQ 22.75 39.890625 18.8125 39.015625 \nQ 14.890625 38.140625 10.796875 36.28125 \nz\n\" id=\"DejaVuSans-53\"/>\n       </defs>\n       <use xlink:href=\"#DejaVuSans-53\"/>\n       <use x=\"63.623047\" xlink:href=\"#DejaVuSans-48\"/>\n       <use x=\"127.246094\" xlink:href=\"#DejaVuSans-48\"/>\n       <use x=\"190.869141\" xlink:href=\"#DejaVuSans-48\"/>\n       <use x=\"254.492188\" xlink:href=\"#DejaVuSans-48\"/>\n      </g>\n     </g>\n    </g>\n    <g id=\"ytick_3\">\n     <g id=\"line2d_16\">\n      <g>\n       <use style=\"stroke:#000000;stroke-width:0.8;\" x=\"67.020938\" xlink:href=\"#m5e8d814564\" y=\"248.14219\"/>\n      </g>\n     </g>\n     <g id=\"text_9\">\n      <!-- 100000 -->\n      <g transform=\"translate(21.845937 251.941409)scale(0.1 -0.1)\">\n       <use xlink:href=\"#DejaVuSans-49\"/>\n       <use x=\"63.623047\" xlink:href=\"#DejaVuSans-48\"/>\n       <use x=\"127.246094\" xlink:href=\"#DejaVuSans-48\"/>\n       <use x=\"190.869141\" xlink:href=\"#DejaVuSans-48\"/>\n       <use x=\"254.492188\" xlink:href=\"#DejaVuSans-48\"/>\n       <use x=\"318.115234\" xlink:href=\"#DejaVuSans-48\"/>\n      </g>\n     </g>\n    </g>\n    <g id=\"ytick_4\">\n     <g id=\"line2d_17\">\n      <g>\n       <use style=\"stroke:#000000;stroke-width:0.8;\" x=\"67.020938\" xlink:href=\"#m5e8d814564\" y=\"205.01916\"/>\n      </g>\n     </g>\n     <g id=\"text_10\">\n      <!-- 150000 -->\n      <g transform=\"translate(21.845937 208.818378)scale(0.1 -0.1)\">\n       <use xlink:href=\"#DejaVuSans-49\"/>\n       <use x=\"63.623047\" xlink:href=\"#DejaVuSans-53\"/>\n       <use x=\"127.246094\" xlink:href=\"#DejaVuSans-48\"/>\n       <use x=\"190.869141\" xlink:href=\"#DejaVuSans-48\"/>\n       <use x=\"254.492188\" xlink:href=\"#DejaVuSans-48\"/>\n       <use x=\"318.115234\" xlink:href=\"#DejaVuSans-48\"/>\n      </g>\n     </g>\n    </g>\n    <g id=\"ytick_5\">\n     <g id=\"line2d_18\">\n      <g>\n       <use style=\"stroke:#000000;stroke-width:0.8;\" x=\"67.020938\" xlink:href=\"#m5e8d814564\" y=\"161.896129\"/>\n      </g>\n     </g>\n     <g id=\"text_11\">\n      <!-- 200000 -->\n      <g transform=\"translate(21.845937 165.695348)scale(0.1 -0.1)\">\n       <use xlink:href=\"#DejaVuSans-50\"/>\n       <use x=\"63.623047\" xlink:href=\"#DejaVuSans-48\"/>\n       <use x=\"127.246094\" xlink:href=\"#DejaVuSans-48\"/>\n       <use x=\"190.869141\" xlink:href=\"#DejaVuSans-48\"/>\n       <use x=\"254.492188\" xlink:href=\"#DejaVuSans-48\"/>\n       <use x=\"318.115234\" xlink:href=\"#DejaVuSans-48\"/>\n      </g>\n     </g>\n    </g>\n    <g id=\"ytick_6\">\n     <g id=\"line2d_19\">\n      <g>\n       <use style=\"stroke:#000000;stroke-width:0.8;\" x=\"67.020938\" xlink:href=\"#m5e8d814564\" y=\"118.773099\"/>\n      </g>\n     </g>\n     <g id=\"text_12\">\n      <!-- 250000 -->\n      <g transform=\"translate(21.845937 122.572317)scale(0.1 -0.1)\">\n       <use xlink:href=\"#DejaVuSans-50\"/>\n       <use x=\"63.623047\" xlink:href=\"#DejaVuSans-53\"/>\n       <use x=\"127.246094\" xlink:href=\"#DejaVuSans-48\"/>\n       <use x=\"190.869141\" xlink:href=\"#DejaVuSans-48\"/>\n       <use x=\"254.492188\" xlink:href=\"#DejaVuSans-48\"/>\n       <use x=\"318.115234\" xlink:href=\"#DejaVuSans-48\"/>\n      </g>\n     </g>\n    </g>\n    <g id=\"ytick_7\">\n     <g id=\"line2d_20\">\n      <g>\n       <use style=\"stroke:#000000;stroke-width:0.8;\" x=\"67.020938\" xlink:href=\"#m5e8d814564\" y=\"75.650068\"/>\n      </g>\n     </g>\n     <g id=\"text_13\">\n      <!-- 300000 -->\n      <g transform=\"translate(21.845937 79.449287)scale(0.1 -0.1)\">\n       <defs>\n        <path d=\"M 40.578125 39.3125 \nQ 47.65625 37.796875 51.625 33 \nQ 55.609375 28.21875 55.609375 21.1875 \nQ 55.609375 10.40625 48.1875 4.484375 \nQ 40.765625 -1.421875 27.09375 -1.421875 \nQ 22.515625 -1.421875 17.65625 -0.515625 \nQ 12.796875 0.390625 7.625 2.203125 \nL 7.625 11.71875 \nQ 11.71875 9.328125 16.59375 8.109375 \nQ 21.484375 6.890625 26.8125 6.890625 \nQ 36.078125 6.890625 40.9375 10.546875 \nQ 45.796875 14.203125 45.796875 21.1875 \nQ 45.796875 27.640625 41.28125 31.265625 \nQ 36.765625 34.90625 28.71875 34.90625 \nL 20.21875 34.90625 \nL 20.21875 43.015625 \nL 29.109375 43.015625 \nQ 36.375 43.015625 40.234375 45.921875 \nQ 44.09375 48.828125 44.09375 54.296875 \nQ 44.09375 59.90625 40.109375 62.90625 \nQ 36.140625 65.921875 28.71875 65.921875 \nQ 24.65625 65.921875 20.015625 65.03125 \nQ 15.375 64.15625 9.8125 62.3125 \nL 9.8125 71.09375 \nQ 15.4375 72.65625 20.34375 73.4375 \nQ 25.25 74.21875 29.59375 74.21875 \nQ 40.828125 74.21875 47.359375 69.109375 \nQ 53.90625 64.015625 53.90625 55.328125 \nQ 53.90625 49.265625 50.4375 45.09375 \nQ 46.96875 40.921875 40.578125 39.3125 \nz\n\" id=\"DejaVuSans-51\"/>\n       </defs>\n       <use xlink:href=\"#DejaVuSans-51\"/>\n       <use x=\"63.623047\" xlink:href=\"#DejaVuSans-48\"/>\n       <use x=\"127.246094\" xlink:href=\"#DejaVuSans-48\"/>\n       <use x=\"190.869141\" xlink:href=\"#DejaVuSans-48\"/>\n       <use x=\"254.492188\" xlink:href=\"#DejaVuSans-48\"/>\n       <use x=\"318.115234\" xlink:href=\"#DejaVuSans-48\"/>\n      </g>\n     </g>\n    </g>\n    <g id=\"ytick_8\">\n     <g id=\"line2d_21\">\n      <g>\n       <use style=\"stroke:#000000;stroke-width:0.8;\" x=\"67.020938\" xlink:href=\"#m5e8d814564\" y=\"32.527038\"/>\n      </g>\n     </g>\n     <g id=\"text_14\">\n      <!-- 350000 -->\n      <g transform=\"translate(21.845937 36.326256)scale(0.1 -0.1)\">\n       <use xlink:href=\"#DejaVuSans-51\"/>\n       <use x=\"63.623047\" xlink:href=\"#DejaVuSans-53\"/>\n       <use x=\"127.246094\" xlink:href=\"#DejaVuSans-48\"/>\n       <use x=\"190.869141\" xlink:href=\"#DejaVuSans-48\"/>\n       <use x=\"254.492188\" xlink:href=\"#DejaVuSans-48\"/>\n       <use x=\"318.115234\" xlink:href=\"#DejaVuSans-48\"/>\n      </g>\n     </g>\n    </g>\n    <g id=\"text_15\">\n     <!-- Traffic -->\n     <g transform=\"translate(15.558281 204.181172)rotate(-90)scale(0.11 -0.11)\">\n      <defs>\n       <path d=\"M -0.296875 72.90625 \nL 61.375 72.90625 \nL 61.375 64.59375 \nL 35.5 64.59375 \nL 35.5 0 \nL 25.59375 0 \nL 25.59375 64.59375 \nL -0.296875 64.59375 \nz\n\" id=\"DejaVuSans-84\"/>\n       <path d=\"M 41.109375 46.296875 \nQ 39.59375 47.171875 37.8125 47.578125 \nQ 36.03125 48 33.890625 48 \nQ 26.265625 48 22.1875 43.046875 \nQ 18.109375 38.09375 18.109375 28.8125 \nL 18.109375 0 \nL 9.078125 0 \nL 9.078125 54.6875 \nL 18.109375 54.6875 \nL 18.109375 46.1875 \nQ 20.953125 51.171875 25.484375 53.578125 \nQ 30.03125 56 36.53125 56 \nQ 37.453125 56 38.578125 55.875 \nQ 39.703125 55.765625 41.0625 55.515625 \nz\n\" id=\"DejaVuSans-114\"/>\n       <path d=\"M 37.109375 75.984375 \nL 37.109375 68.5 \nL 28.515625 68.5 \nQ 23.6875 68.5 21.796875 66.546875 \nQ 19.921875 64.59375 19.921875 59.515625 \nL 19.921875 54.6875 \nL 34.71875 54.6875 \nL 34.71875 47.703125 \nL 19.921875 47.703125 \nL 19.921875 0 \nL 10.890625 0 \nL 10.890625 47.703125 \nL 2.296875 47.703125 \nL 2.296875 54.6875 \nL 10.890625 54.6875 \nL 10.890625 58.5 \nQ 10.890625 67.625 15.140625 71.796875 \nQ 19.390625 75.984375 28.609375 75.984375 \nz\n\" id=\"DejaVuSans-102\"/>\n       <path d=\"M 9.421875 54.6875 \nL 18.40625 54.6875 \nL 18.40625 0 \nL 9.421875 0 \nz\nM 9.421875 75.984375 \nL 18.40625 75.984375 \nL 18.40625 64.59375 \nL 9.421875 64.59375 \nz\n\" id=\"DejaVuSans-105\"/>\n       <path d=\"M 48.78125 52.59375 \nL 48.78125 44.1875 \nQ 44.96875 46.296875 41.140625 47.34375 \nQ 37.3125 48.390625 33.40625 48.390625 \nQ 24.65625 48.390625 19.8125 42.84375 \nQ 14.984375 37.3125 14.984375 27.296875 \nQ 14.984375 17.28125 19.8125 11.734375 \nQ 24.65625 6.203125 33.40625 6.203125 \nQ 37.3125 6.203125 41.140625 7.25 \nQ 44.96875 8.296875 48.78125 10.40625 \nL 48.78125 2.09375 \nQ 45.015625 0.34375 40.984375 -0.53125 \nQ 36.96875 -1.421875 32.421875 -1.421875 \nQ 20.0625 -1.421875 12.78125 6.34375 \nQ 5.515625 14.109375 5.515625 27.296875 \nQ 5.515625 40.671875 12.859375 48.328125 \nQ 20.21875 56 33.015625 56 \nQ 37.15625 56 41.109375 55.140625 \nQ 45.0625 54.296875 48.78125 52.59375 \nz\n\" id=\"DejaVuSans-99\"/>\n      </defs>\n      <use xlink:href=\"#DejaVuSans-84\"/>\n      <use x=\"46.333984\" xlink:href=\"#DejaVuSans-114\"/>\n      <use x=\"87.447266\" xlink:href=\"#DejaVuSans-97\"/>\n      <use x=\"148.726562\" xlink:href=\"#DejaVuSans-102\"/>\n      <use x=\"183.931641\" xlink:href=\"#DejaVuSans-102\"/>\n      <use x=\"219.136719\" xlink:href=\"#DejaVuSans-105\"/>\n      <use x=\"246.919922\" xlink:href=\"#DejaVuSans-99\"/>\n     </g>\n    </g>\n   </g>\n   <g id=\"PathCollection_2\">\n    <defs>\n     <path d=\"M 0 3.383948 \nC 0.897434 3.383948 1.758231 3.027394 2.392813 2.392813 \nC 3.027394 1.758231 3.383948 0.897434 3.383948 0 \nC 3.383948 -0.897434 3.027394 -1.758231 2.392813 -2.392813 \nC 1.758231 -3.027394 0.897434 -3.383948 0 -3.383948 \nC -0.897434 -3.383948 -1.758231 -3.027394 -2.392813 -2.392813 \nC -3.027394 -1.758231 -3.383948 -0.897434 -3.383948 0 \nC -3.383948 0.897434 -3.027394 1.758231 -2.392813 2.392813 \nC -1.758231 3.027394 -0.897434 3.383948 0 3.383948 \nz\n\" id=\"m2a071b6db1\" style=\"stroke:#ff7f0e;stroke-width:2.025;\"/>\n    </defs>\n    <g clip-path=\"url(#peb12cce7cd)\">\n     <use style=\"fill:#ff7f0e;stroke:#ff7f0e;stroke-width:2.025;\" x=\"120.839604\" xlink:href=\"#m2a071b6db1\" y=\"327.257427\"/>\n     <use style=\"fill:#ff7f0e;stroke:#ff7f0e;stroke-width:2.025;\" x=\"228.476938\" xlink:href=\"#m2a071b6db1\" y=\"245.24691\"/>\n     <use style=\"fill:#ff7f0e;stroke:#ff7f0e;stroke-width:2.025;\" x=\"336.114272\" xlink:href=\"#m2a071b6db1\" y=\"143.716322\"/>\n     <use style=\"fill:#ff7f0e;stroke:#ff7f0e;stroke-width:2.025;\" x=\"443.751605\" xlink:href=\"#m2a071b6db1\" y=\"92.892381\"/>\n     <use style=\"fill:#ff7f0e;stroke:#ff7f0e;stroke-width:2.025;\" x=\"551.388939\" xlink:href=\"#m2a071b6db1\" y=\"41.486278\"/>\n     <use style=\"fill:#ff7f0e;stroke:#ff7f0e;stroke-width:2.025;\" x=\"659.026272\" xlink:href=\"#m2a071b6db1\" y=\"258.781504\"/>\n    </g>\n   </g>\n   <g id=\"line2d_22\">\n    <path clip-path=\"url(#peb12cce7cd)\" d=\"M 120.839604 327.257427 \nL 228.476938 245.24691 \nL 336.114272 143.716322 \nL 443.751605 92.892381 \nL 551.388939 41.486278 \nL 659.026272 258.781504 \n\" style=\"fill:none;stroke:#ff7f0e;stroke-linecap:square;stroke-width:2.7;\"/>\n   </g>\n   <g id=\"line2d_23\">\n    <path clip-path=\"url(#peb12cce7cd)\" d=\"M 0 0 \n\" style=\"fill:none;stroke:#ff7f0e;stroke-linecap:square;stroke-width:2.7;\"/>\n   </g>\n   <g id=\"line2d_24\">\n    <path clip-path=\"url(#peb12cce7cd)\" d=\"M 0 0 \n\" style=\"fill:none;stroke:#ff7f0e;stroke-linecap:square;stroke-width:2.7;\"/>\n   </g>\n   <g id=\"line2d_25\">\n    <path clip-path=\"url(#peb12cce7cd)\" d=\"M 0 0 \n\" style=\"fill:none;stroke:#ff7f0e;stroke-linecap:square;stroke-width:2.7;\"/>\n   </g>\n   <g id=\"line2d_26\">\n    <path clip-path=\"url(#peb12cce7cd)\" d=\"M 0 0 \n\" style=\"fill:none;stroke:#ff7f0e;stroke-linecap:square;stroke-width:2.7;\"/>\n   </g>\n   <g id=\"line2d_27\">\n    <path clip-path=\"url(#peb12cce7cd)\" d=\"M 0 0 \n\" style=\"fill:none;stroke:#ff7f0e;stroke-linecap:square;stroke-width:2.7;\"/>\n   </g>\n   <g id=\"line2d_28\">\n    <path clip-path=\"url(#peb12cce7cd)\" d=\"M 0 0 \n\" style=\"fill:none;stroke:#ff7f0e;stroke-linecap:square;stroke-width:2.7;\"/>\n   </g>\n   <g id=\"patch_3\">\n    <path d=\"M 67.020938 348.277187 \nL 67.020938 26.877187 \n\" style=\"fill:none;stroke:#000000;stroke-linecap:square;stroke-linejoin:miter;stroke-width:0.8;\"/>\n   </g>\n   <g id=\"patch_4\">\n    <path d=\"M 67.020938 348.277187 \nL 712.844939 348.277187 \n\" style=\"fill:none;stroke:#000000;stroke-linecap:square;stroke-linejoin:miter;stroke-width:0.8;\"/>\n   </g>\n   <g id=\"PathCollection_3\">\n    <defs>\n     <path d=\"M 0 3.383948 \nC 0.897434 3.383948 1.758231 3.027394 2.392813 2.392813 \nC 3.027394 1.758231 3.383948 0.897434 3.383948 0 \nC 3.383948 -0.897434 3.027394 -1.758231 2.392813 -2.392813 \nC 1.758231 -3.027394 0.897434 -3.383948 0 -3.383948 \nC -0.897434 -3.383948 -1.758231 -3.027394 -2.392813 -2.392813 \nC -3.027394 -1.758231 -3.383948 -0.897434 -3.383948 0 \nC -3.383948 0.897434 -3.027394 1.758231 -2.392813 2.392813 \nC -1.758231 3.027394 -0.897434 3.383948 0 3.383948 \nz\n\" id=\"mb5da1ffadb\" style=\"stroke:#2ca02c;stroke-width:2.025;\"/>\n    </defs>\n    <g clip-path=\"url(#peb12cce7cd)\">\n     <use style=\"fill:#2ca02c;stroke:#2ca02c;stroke-width:2.025;\" x=\"120.839604\" xlink:href=\"#mb5da1ffadb\" y=\"333.668097\"/>\n     <use style=\"fill:#2ca02c;stroke:#2ca02c;stroke-width:2.025;\" x=\"228.476938\" xlink:href=\"#mb5da1ffadb\" y=\"280.694903\"/>\n     <use style=\"fill:#2ca02c;stroke:#2ca02c;stroke-width:2.025;\" x=\"336.114272\" xlink:href=\"#mb5da1ffadb\" y=\"269.451004\"/>\n     <use style=\"fill:#2ca02c;stroke:#2ca02c;stroke-width:2.025;\" x=\"443.751605\" xlink:href=\"#mb5da1ffadb\" y=\"246.667383\"/>\n     <use style=\"fill:#2ca02c;stroke:#2ca02c;stroke-width:2.025;\" x=\"551.388939\" xlink:href=\"#mb5da1ffadb\" y=\"268.311694\"/>\n     <use style=\"fill:#2ca02c;stroke:#2ca02c;stroke-width:2.025;\" x=\"659.026272\" xlink:href=\"#mb5da1ffadb\" y=\"313.73232\"/>\n    </g>\n   </g>\n   <g id=\"line2d_29\">\n    <path clip-path=\"url(#peb12cce7cd)\" d=\"M 120.839604 333.668097 \nL 228.476938 280.694903 \nL 336.114272 269.451004 \nL 443.751605 246.667383 \nL 551.388939 268.311694 \nL 659.026272 313.73232 \n\" style=\"fill:none;stroke:#2ca02c;stroke-linecap:square;stroke-width:2.7;\"/>\n   </g>\n   <g id=\"line2d_30\">\n    <path clip-path=\"url(#peb12cce7cd)\" d=\"M 0 0 \n\" style=\"fill:none;stroke:#2ca02c;stroke-linecap:square;stroke-width:2.7;\"/>\n   </g>\n   <g id=\"line2d_31\">\n    <path clip-path=\"url(#peb12cce7cd)\" d=\"M 0 0 \n\" style=\"fill:none;stroke:#2ca02c;stroke-linecap:square;stroke-width:2.7;\"/>\n   </g>\n   <g id=\"line2d_32\">\n    <path clip-path=\"url(#peb12cce7cd)\" d=\"M 0 0 \n\" style=\"fill:none;stroke:#2ca02c;stroke-linecap:square;stroke-width:2.7;\"/>\n   </g>\n   <g id=\"line2d_33\">\n    <path clip-path=\"url(#peb12cce7cd)\" d=\"M 0 0 \n\" style=\"fill:none;stroke:#2ca02c;stroke-linecap:square;stroke-width:2.7;\"/>\n   </g>\n   <g id=\"line2d_34\">\n    <path clip-path=\"url(#peb12cce7cd)\" d=\"M 0 0 \n\" style=\"fill:none;stroke:#2ca02c;stroke-linecap:square;stroke-width:2.7;\"/>\n   </g>\n   <g id=\"line2d_35\">\n    <path clip-path=\"url(#peb12cce7cd)\" d=\"M 0 0 \n\" style=\"fill:none;stroke:#2ca02c;stroke-linecap:square;stroke-width:2.7;\"/>\n   </g>\n   <g id=\"text_16\">\n    <!-- Traffic by time of day -->\n    <g transform=\"translate(294.717157 20.877187)scale(0.18 -0.18)\">\n     <defs>\n      <path id=\"DejaVuSans-32\"/>\n      <path d=\"M 48.6875 27.296875 \nQ 48.6875 37.203125 44.609375 42.84375 \nQ 40.53125 48.484375 33.40625 48.484375 \nQ 26.265625 48.484375 22.1875 42.84375 \nQ 18.109375 37.203125 18.109375 27.296875 \nQ 18.109375 17.390625 22.1875 11.75 \nQ 26.265625 6.109375 33.40625 6.109375 \nQ 40.53125 6.109375 44.609375 11.75 \nQ 48.6875 17.390625 48.6875 27.296875 \nz\nM 18.109375 46.390625 \nQ 20.953125 51.265625 25.265625 53.625 \nQ 29.59375 56 35.59375 56 \nQ 45.5625 56 51.78125 48.09375 \nQ 58.015625 40.1875 58.015625 27.296875 \nQ 58.015625 14.40625 51.78125 6.484375 \nQ 45.5625 -1.421875 35.59375 -1.421875 \nQ 29.59375 -1.421875 25.265625 0.953125 \nQ 20.953125 3.328125 18.109375 8.203125 \nL 18.109375 0 \nL 9.078125 0 \nL 9.078125 75.984375 \nL 18.109375 75.984375 \nz\n\" id=\"DejaVuSans-98\"/>\n      <path d=\"M 32.171875 -5.078125 \nQ 28.375 -14.84375 24.75 -17.8125 \nQ 21.140625 -20.796875 15.09375 -20.796875 \nL 7.90625 -20.796875 \nL 7.90625 -13.28125 \nL 13.1875 -13.28125 \nQ 16.890625 -13.28125 18.9375 -11.515625 \nQ 21 -9.765625 23.484375 -3.21875 \nL 25.09375 0.875 \nL 2.984375 54.6875 \nL 12.5 54.6875 \nL 29.59375 11.921875 \nL 46.6875 54.6875 \nL 56.203125 54.6875 \nz\n\" id=\"DejaVuSans-121\"/>\n      <path d=\"M 18.3125 70.21875 \nL 18.3125 54.6875 \nL 36.8125 54.6875 \nL 36.8125 47.703125 \nL 18.3125 47.703125 \nL 18.3125 18.015625 \nQ 18.3125 11.328125 20.140625 9.421875 \nQ 21.96875 7.515625 27.59375 7.515625 \nL 36.8125 7.515625 \nL 36.8125 0 \nL 27.59375 0 \nQ 17.1875 0 13.234375 3.875 \nQ 9.28125 7.765625 9.28125 18.015625 \nL 9.28125 47.703125 \nL 2.6875 47.703125 \nL 2.6875 54.6875 \nL 9.28125 54.6875 \nL 9.28125 70.21875 \nz\n\" id=\"DejaVuSans-116\"/>\n      <path d=\"M 56.203125 29.59375 \nL 56.203125 25.203125 \nL 14.890625 25.203125 \nQ 15.484375 15.921875 20.484375 11.0625 \nQ 25.484375 6.203125 34.421875 6.203125 \nQ 39.59375 6.203125 44.453125 7.46875 \nQ 49.3125 8.734375 54.109375 11.28125 \nL 54.109375 2.78125 \nQ 49.265625 0.734375 44.1875 -0.34375 \nQ 39.109375 -1.421875 33.890625 -1.421875 \nQ 20.796875 -1.421875 13.15625 6.1875 \nQ 5.515625 13.8125 5.515625 26.8125 \nQ 5.515625 40.234375 12.765625 48.109375 \nQ 20.015625 56 32.328125 56 \nQ 43.359375 56 49.78125 48.890625 \nQ 56.203125 41.796875 56.203125 29.59375 \nz\nM 47.21875 32.234375 \nQ 47.125 39.59375 43.09375 43.984375 \nQ 39.0625 48.390625 32.421875 48.390625 \nQ 24.90625 48.390625 20.390625 44.140625 \nQ 15.875 39.890625 15.1875 32.171875 \nz\n\" id=\"DejaVuSans-101\"/>\n      <path d=\"M 30.609375 48.390625 \nQ 23.390625 48.390625 19.1875 42.75 \nQ 14.984375 37.109375 14.984375 27.296875 \nQ 14.984375 17.484375 19.15625 11.84375 \nQ 23.34375 6.203125 30.609375 6.203125 \nQ 37.796875 6.203125 41.984375 11.859375 \nQ 46.1875 17.53125 46.1875 27.296875 \nQ 46.1875 37.015625 41.984375 42.703125 \nQ 37.796875 48.390625 30.609375 48.390625 \nz\nM 30.609375 56 \nQ 42.328125 56 49.015625 48.375 \nQ 55.71875 40.765625 55.71875 27.296875 \nQ 55.71875 13.875 49.015625 6.21875 \nQ 42.328125 -1.421875 30.609375 -1.421875 \nQ 18.84375 -1.421875 12.171875 6.21875 \nQ 5.515625 13.875 5.515625 27.296875 \nQ 5.515625 40.765625 12.171875 48.375 \nQ 18.84375 56 30.609375 56 \nz\n\" id=\"DejaVuSans-111\"/>\n      <path d=\"M 45.40625 46.390625 \nL 45.40625 75.984375 \nL 54.390625 75.984375 \nL 54.390625 0 \nL 45.40625 0 \nL 45.40625 8.203125 \nQ 42.578125 3.328125 38.25 0.953125 \nQ 33.9375 -1.421875 27.875 -1.421875 \nQ 17.96875 -1.421875 11.734375 6.484375 \nQ 5.515625 14.40625 5.515625 27.296875 \nQ 5.515625 40.1875 11.734375 48.09375 \nQ 17.96875 56 27.875 56 \nQ 33.9375 56 38.25 53.625 \nQ 42.578125 51.265625 45.40625 46.390625 \nz\nM 14.796875 27.296875 \nQ 14.796875 17.390625 18.875 11.75 \nQ 22.953125 6.109375 30.078125 6.109375 \nQ 37.203125 6.109375 41.296875 11.75 \nQ 45.40625 17.390625 45.40625 27.296875 \nQ 45.40625 37.203125 41.296875 42.84375 \nQ 37.203125 48.484375 30.078125 48.484375 \nQ 22.953125 48.484375 18.875 42.84375 \nQ 14.796875 37.203125 14.796875 27.296875 \nz\n\" id=\"DejaVuSans-100\"/>\n     </defs>\n     <use xlink:href=\"#DejaVuSans-84\"/>\n     <use x=\"46.333984\" xlink:href=\"#DejaVuSans-114\"/>\n     <use x=\"87.447266\" xlink:href=\"#DejaVuSans-97\"/>\n     <use x=\"148.726562\" xlink:href=\"#DejaVuSans-102\"/>\n     <use x=\"183.931641\" xlink:href=\"#DejaVuSans-102\"/>\n     <use x=\"219.136719\" xlink:href=\"#DejaVuSans-105\"/>\n     <use x=\"246.919922\" xlink:href=\"#DejaVuSans-99\"/>\n     <use x=\"301.900391\" xlink:href=\"#DejaVuSans-32\"/>\n     <use x=\"333.6875\" xlink:href=\"#DejaVuSans-98\"/>\n     <use x=\"397.164062\" xlink:href=\"#DejaVuSans-121\"/>\n     <use x=\"456.34375\" xlink:href=\"#DejaVuSans-32\"/>\n     <use x=\"488.130859\" xlink:href=\"#DejaVuSans-116\"/>\n     <use x=\"527.339844\" xlink:href=\"#DejaVuSans-105\"/>\n     <use x=\"555.123047\" xlink:href=\"#DejaVuSans-109\"/>\n     <use x=\"652.535156\" xlink:href=\"#DejaVuSans-101\"/>\n     <use x=\"714.058594\" xlink:href=\"#DejaVuSans-32\"/>\n     <use x=\"745.845703\" xlink:href=\"#DejaVuSans-111\"/>\n     <use x=\"807.027344\" xlink:href=\"#DejaVuSans-102\"/>\n     <use x=\"842.232422\" xlink:href=\"#DejaVuSans-32\"/>\n     <use x=\"874.019531\" xlink:href=\"#DejaVuSans-100\"/>\n     <use x=\"937.496094\" xlink:href=\"#DejaVuSans-97\"/>\n     <use x=\"998.775391\" xlink:href=\"#DejaVuSans-121\"/>\n    </g>\n   </g>\n   <g id=\"PathCollection_4\">\n    <defs>\n     <path d=\"M 0 3.383948 \nC 0.897434 3.383948 1.758231 3.027394 2.392813 2.392813 \nC 3.027394 1.758231 3.383948 0.897434 3.383948 0 \nC 3.383948 -0.897434 3.027394 -1.758231 2.392813 -2.392813 \nC 1.758231 -3.027394 0.897434 -3.383948 0 -3.383948 \nC -0.897434 -3.383948 -1.758231 -3.027394 -2.392813 -2.392813 \nC -3.027394 -1.758231 -3.383948 -0.897434 -3.383948 0 \nC -3.383948 0.897434 -3.027394 1.758231 -2.392813 2.392813 \nC -1.758231 3.027394 -0.897434 3.383948 0 3.383948 \nz\n\" id=\"m02a433003a\" style=\"stroke:#d62728;stroke-width:2.025;\"/>\n    </defs>\n    <g clip-path=\"url(#peb12cce7cd)\">\n     <use style=\"fill:#d62728;stroke:#d62728;stroke-width:2.025;\" x=\"120.839604\" xlink:href=\"#m02a433003a\" y=\"318.793238\"/>\n     <use style=\"fill:#d62728;stroke:#d62728;stroke-width:2.025;\" x=\"228.476938\" xlink:href=\"#m02a433003a\" y=\"305.332816\"/>\n     <use style=\"fill:#d62728;stroke:#d62728;stroke-width:2.025;\" x=\"336.114272\" xlink:href=\"#m02a433003a\" y=\"275.760766\"/>\n     <use style=\"fill:#d62728;stroke:#d62728;stroke-width:2.025;\" x=\"443.751605\" xlink:href=\"#m02a433003a\" y=\"261.927761\"/>\n     <use style=\"fill:#d62728;stroke:#d62728;stroke-width:2.025;\" x=\"551.388939\" xlink:href=\"#m02a433003a\" y=\"262.038156\"/>\n     <use style=\"fill:#d62728;stroke:#d62728;stroke-width:2.025;\" x=\"659.026272\" xlink:href=\"#m02a433003a\" y=\"308.441124\"/>\n    </g>\n   </g>\n   <g id=\"line2d_36\">\n    <path clip-path=\"url(#peb12cce7cd)\" d=\"M 120.839604 318.793238 \nL 228.476938 305.332816 \nL 336.114272 275.760766 \nL 443.751605 261.927761 \nL 551.388939 262.038156 \nL 659.026272 308.441124 \n\" style=\"fill:none;stroke:#d62728;stroke-linecap:square;stroke-width:2.7;\"/>\n   </g>\n   <g id=\"line2d_37\">\n    <path clip-path=\"url(#peb12cce7cd)\" d=\"M 0 0 \n\" style=\"fill:none;stroke:#d62728;stroke-linecap:square;stroke-width:2.7;\"/>\n   </g>\n   <g id=\"line2d_38\">\n    <path clip-path=\"url(#peb12cce7cd)\" d=\"M 0 0 \n\" style=\"fill:none;stroke:#d62728;stroke-linecap:square;stroke-width:2.7;\"/>\n   </g>\n   <g id=\"line2d_39\">\n    <path clip-path=\"url(#peb12cce7cd)\" d=\"M 0 0 \n\" style=\"fill:none;stroke:#d62728;stroke-linecap:square;stroke-width:2.7;\"/>\n   </g>\n   <g id=\"line2d_40\">\n    <path clip-path=\"url(#peb12cce7cd)\" d=\"M 0 0 \n\" style=\"fill:none;stroke:#d62728;stroke-linecap:square;stroke-width:2.7;\"/>\n   </g>\n   <g id=\"line2d_41\">\n    <path clip-path=\"url(#peb12cce7cd)\" d=\"M 0 0 \n\" style=\"fill:none;stroke:#d62728;stroke-linecap:square;stroke-width:2.7;\"/>\n   </g>\n   <g id=\"line2d_42\">\n    <path clip-path=\"url(#peb12cce7cd)\" d=\"M 0 0 \n\" style=\"fill:none;stroke:#d62728;stroke-linecap:square;stroke-width:2.7;\"/>\n   </g>\n   <g id=\"PathCollection_5\">\n    <defs>\n     <path d=\"M 0 3.383948 \nC 0.897434 3.383948 1.758231 3.027394 2.392813 2.392813 \nC 3.027394 1.758231 3.383948 0.897434 3.383948 0 \nC 3.383948 -0.897434 3.027394 -1.758231 2.392813 -2.392813 \nC 1.758231 -3.027394 0.897434 -3.383948 0 -3.383948 \nC -0.897434 -3.383948 -1.758231 -3.027394 -2.392813 -2.392813 \nC -3.027394 -1.758231 -3.383948 -0.897434 -3.383948 0 \nC -3.383948 0.897434 -3.027394 1.758231 -2.392813 2.392813 \nC -1.758231 3.027394 -0.897434 3.383948 0 3.383948 \nz\n\" id=\"m9c6bd7cfed\" style=\"stroke:#9467bd;stroke-width:2.025;\"/>\n    </defs>\n    <g clip-path=\"url(#peb12cce7cd)\">\n     <use style=\"fill:#9467bd;stroke:#9467bd;stroke-width:2.025;\" x=\"120.839604\" xlink:href=\"#m9c6bd7cfed\" y=\"331.452435\"/>\n     <use style=\"fill:#9467bd;stroke:#9467bd;stroke-width:2.025;\" x=\"228.476938\" xlink:href=\"#m9c6bd7cfed\" y=\"251.738651\"/>\n     <use style=\"fill:#9467bd;stroke:#9467bd;stroke-width:2.025;\" x=\"336.114272\" xlink:href=\"#m9c6bd7cfed\" y=\"193.061143\"/>\n     <use style=\"fill:#9467bd;stroke:#9467bd;stroke-width:2.025;\" x=\"443.751605\" xlink:href=\"#m9c6bd7cfed\" y=\"136.381094\"/>\n     <use style=\"fill:#9467bd;stroke:#9467bd;stroke-width:2.025;\" x=\"551.388939\" xlink:href=\"#m9c6bd7cfed\" y=\"153.372431\"/>\n     <use style=\"fill:#9467bd;stroke:#9467bd;stroke-width:2.025;\" x=\"659.026272\" xlink:href=\"#m9c6bd7cfed\" y=\"280.418916\"/>\n    </g>\n   </g>\n   <g id=\"line2d_43\">\n    <path clip-path=\"url(#peb12cce7cd)\" d=\"M 120.839604 331.452435 \nL 228.476938 251.738651 \nL 336.114272 193.061143 \nL 443.751605 136.381094 \nL 551.388939 153.372431 \nL 659.026272 280.418916 \n\" style=\"fill:none;stroke:#9467bd;stroke-linecap:square;stroke-width:2.7;\"/>\n   </g>\n   <g id=\"line2d_44\">\n    <path clip-path=\"url(#peb12cce7cd)\" d=\"M 0 0 \n\" style=\"fill:none;stroke:#9467bd;stroke-linecap:square;stroke-width:2.7;\"/>\n   </g>\n   <g id=\"line2d_45\">\n    <path clip-path=\"url(#peb12cce7cd)\" d=\"M 0 0 \n\" style=\"fill:none;stroke:#9467bd;stroke-linecap:square;stroke-width:2.7;\"/>\n   </g>\n   <g id=\"line2d_46\">\n    <path clip-path=\"url(#peb12cce7cd)\" d=\"M 0 0 \n\" style=\"fill:none;stroke:#9467bd;stroke-linecap:square;stroke-width:2.7;\"/>\n   </g>\n   <g id=\"line2d_47\">\n    <path clip-path=\"url(#peb12cce7cd)\" d=\"M 0 0 \n\" style=\"fill:none;stroke:#9467bd;stroke-linecap:square;stroke-width:2.7;\"/>\n   </g>\n   <g id=\"line2d_48\">\n    <path clip-path=\"url(#peb12cce7cd)\" d=\"M 0 0 \n\" style=\"fill:none;stroke:#9467bd;stroke-linecap:square;stroke-width:2.7;\"/>\n   </g>\n   <g id=\"line2d_49\">\n    <path clip-path=\"url(#peb12cce7cd)\" d=\"M 0 0 \n\" style=\"fill:none;stroke:#9467bd;stroke-linecap:square;stroke-width:2.7;\"/>\n   </g>\n   <g id=\"PathCollection_6\">\n    <defs>\n     <path d=\"M 0 3.383948 \nC 0.897434 3.383948 1.758231 3.027394 2.392813 2.392813 \nC 3.027394 1.758231 3.383948 0.897434 3.383948 0 \nC 3.383948 -0.897434 3.027394 -1.758231 2.392813 -2.392813 \nC 1.758231 -3.027394 0.897434 -3.383948 0 -3.383948 \nC -0.897434 -3.383948 -1.758231 -3.027394 -2.392813 -2.392813 \nC -3.027394 -1.758231 -3.383948 -0.897434 -3.383948 0 \nC -3.383948 0.897434 -3.027394 1.758231 -2.392813 2.392813 \nC -1.758231 3.027394 -0.897434 3.383948 0 3.383948 \nz\n\" id=\"mb0605a1f80\" style=\"stroke:#8c564b;stroke-width:2.025;\"/>\n    </defs>\n    <g clip-path=\"url(#peb12cce7cd)\">\n     <use style=\"fill:#8c564b;stroke:#8c564b;stroke-width:2.025;\" x=\"120.839604\" xlink:href=\"#mb0605a1f80\" y=\"330.284664\"/>\n     <use style=\"fill:#8c564b;stroke:#8c564b;stroke-width:2.025;\" x=\"228.476938\" xlink:href=\"#mb0605a1f80\" y=\"283.114968\"/>\n     <use style=\"fill:#8c564b;stroke:#8c564b;stroke-width:2.025;\" x=\"336.114272\" xlink:href=\"#mb0605a1f80\" y=\"251.281547\"/>\n     <use style=\"fill:#8c564b;stroke:#8c564b;stroke-width:2.025;\" x=\"443.751605\" xlink:href=\"#mb0605a1f80\" y=\"208.841585\"/>\n     <use style=\"fill:#8c564b;stroke:#8c564b;stroke-width:2.025;\" x=\"551.388939\" xlink:href=\"#mb0605a1f80\" y=\"216.241497\"/>\n     <use style=\"fill:#8c564b;stroke:#8c564b;stroke-width:2.025;\" x=\"659.026272\" xlink:href=\"#mb0605a1f80\" y=\"290.570077\"/>\n    </g>\n   </g>\n   <g id=\"line2d_50\">\n    <path clip-path=\"url(#peb12cce7cd)\" d=\"M 120.839604 330.284664 \nL 228.476938 283.114968 \nL 336.114272 251.281547 \nL 443.751605 208.841585 \nL 551.388939 216.241497 \nL 659.026272 290.570077 \n\" style=\"fill:none;stroke:#8c564b;stroke-linecap:square;stroke-width:2.7;\"/>\n   </g>\n   <g id=\"line2d_51\">\n    <path clip-path=\"url(#peb12cce7cd)\" d=\"M 0 0 \n\" style=\"fill:none;stroke:#8c564b;stroke-linecap:square;stroke-width:2.7;\"/>\n   </g>\n   <g id=\"line2d_52\">\n    <path clip-path=\"url(#peb12cce7cd)\" d=\"M 0 0 \n\" style=\"fill:none;stroke:#8c564b;stroke-linecap:square;stroke-width:2.7;\"/>\n   </g>\n   <g id=\"line2d_53\">\n    <path clip-path=\"url(#peb12cce7cd)\" d=\"M 0 0 \n\" style=\"fill:none;stroke:#8c564b;stroke-linecap:square;stroke-width:2.7;\"/>\n   </g>\n   <g id=\"line2d_54\">\n    <path clip-path=\"url(#peb12cce7cd)\" d=\"M 0 0 \n\" style=\"fill:none;stroke:#8c564b;stroke-linecap:square;stroke-width:2.7;\"/>\n   </g>\n   <g id=\"line2d_55\">\n    <path clip-path=\"url(#peb12cce7cd)\" d=\"M 0 0 \n\" style=\"fill:none;stroke:#8c564b;stroke-linecap:square;stroke-width:2.7;\"/>\n   </g>\n   <g id=\"line2d_56\">\n    <path clip-path=\"url(#peb12cce7cd)\" d=\"M 0 0 \n\" style=\"fill:none;stroke:#8c564b;stroke-linecap:square;stroke-width:2.7;\"/>\n   </g>\n  </g>\n  <g id=\"legend_1\">\n   <g id=\"text_17\">\n    <!-- STATION -->\n    <g transform=\"translate(759.30822 144.802656)scale(0.1 -0.1)\">\n     <defs>\n      <path d=\"M 53.515625 70.515625 \nL 53.515625 60.890625 \nQ 47.90625 63.578125 42.921875 64.890625 \nQ 37.9375 66.21875 33.296875 66.21875 \nQ 25.25 66.21875 20.875 63.09375 \nQ 16.5 59.96875 16.5 54.203125 \nQ 16.5 49.359375 19.40625 46.890625 \nQ 22.3125 44.4375 30.421875 42.921875 \nL 36.375 41.703125 \nQ 47.40625 39.59375 52.65625 34.296875 \nQ 57.90625 29 57.90625 20.125 \nQ 57.90625 9.515625 50.796875 4.046875 \nQ 43.703125 -1.421875 29.984375 -1.421875 \nQ 24.8125 -1.421875 18.96875 -0.25 \nQ 13.140625 0.921875 6.890625 3.21875 \nL 6.890625 13.375 \nQ 12.890625 10.015625 18.65625 8.296875 \nQ 24.421875 6.59375 29.984375 6.59375 \nQ 38.421875 6.59375 43.015625 9.90625 \nQ 47.609375 13.234375 47.609375 19.390625 \nQ 47.609375 24.75 44.3125 27.78125 \nQ 41.015625 30.8125 33.5 32.328125 \nL 27.484375 33.5 \nQ 16.453125 35.6875 11.515625 40.375 \nQ 6.59375 45.0625 6.59375 53.421875 \nQ 6.59375 63.09375 13.40625 68.65625 \nQ 20.21875 74.21875 32.171875 74.21875 \nQ 37.3125 74.21875 42.625 73.28125 \nQ 47.953125 72.359375 53.515625 70.515625 \nz\n\" id=\"DejaVuSans-83\"/>\n      <path d=\"M 34.1875 63.1875 \nL 20.796875 26.90625 \nL 47.609375 26.90625 \nz\nM 28.609375 72.90625 \nL 39.796875 72.90625 \nL 67.578125 0 \nL 57.328125 0 \nL 50.6875 18.703125 \nL 17.828125 18.703125 \nL 11.1875 0 \nL 0.78125 0 \nz\n\" id=\"DejaVuSans-65\"/>\n      <path d=\"M 9.8125 72.90625 \nL 19.671875 72.90625 \nL 19.671875 0 \nL 9.8125 0 \nz\n\" id=\"DejaVuSans-73\"/>\n      <path d=\"M 39.40625 66.21875 \nQ 28.65625 66.21875 22.328125 58.203125 \nQ 16.015625 50.203125 16.015625 36.375 \nQ 16.015625 22.609375 22.328125 14.59375 \nQ 28.65625 6.59375 39.40625 6.59375 \nQ 50.140625 6.59375 56.421875 14.59375 \nQ 62.703125 22.609375 62.703125 36.375 \nQ 62.703125 50.203125 56.421875 58.203125 \nQ 50.140625 66.21875 39.40625 66.21875 \nz\nM 39.40625 74.21875 \nQ 54.734375 74.21875 63.90625 63.9375 \nQ 73.09375 53.65625 73.09375 36.375 \nQ 73.09375 19.140625 63.90625 8.859375 \nQ 54.734375 -1.421875 39.40625 -1.421875 \nQ 24.03125 -1.421875 14.8125 8.828125 \nQ 5.609375 19.09375 5.609375 36.375 \nQ 5.609375 53.65625 14.8125 63.9375 \nQ 24.03125 74.21875 39.40625 74.21875 \nz\n\" id=\"DejaVuSans-79\"/>\n      <path d=\"M 9.8125 72.90625 \nL 23.09375 72.90625 \nL 55.421875 11.921875 \nL 55.421875 72.90625 \nL 64.984375 72.90625 \nL 64.984375 0 \nL 51.703125 0 \nL 19.390625 60.984375 \nL 19.390625 0 \nL 9.8125 0 \nz\n\" id=\"DejaVuSans-78\"/>\n     </defs>\n     <use xlink:href=\"#DejaVuSans-83\"/>\n     <use x=\"63.476562\" xlink:href=\"#DejaVuSans-84\"/>\n     <use x=\"116.810547\" xlink:href=\"#DejaVuSans-65\"/>\n     <use x=\"177.46875\" xlink:href=\"#DejaVuSans-84\"/>\n     <use x=\"238.552734\" xlink:href=\"#DejaVuSans-73\"/>\n     <use x=\"268.044922\" xlink:href=\"#DejaVuSans-79\"/>\n     <use x=\"346.755859\" xlink:href=\"#DejaVuSans-78\"/>\n    </g>\n   </g>\n   <g id=\"PathCollection_7\">\n    <g>\n     <use style=\"fill:#1f77b4;stroke:#1f77b4;stroke-width:2.025;\" x=\"731.910564\" xlink:href=\"#m5c90215cf5\" y=\"156.855781\"/>\n    </g>\n   </g>\n   <g id=\"text_18\">\n    <!-- W 4 ST-WASH SQ -->\n    <g transform=\"translate(749.910564 159.480781)scale(0.1 -0.1)\">\n     <defs>\n      <path d=\"M 3.328125 72.90625 \nL 13.28125 72.90625 \nL 28.609375 11.28125 \nL 43.890625 72.90625 \nL 54.984375 72.90625 \nL 70.3125 11.28125 \nL 85.59375 72.90625 \nL 95.609375 72.90625 \nL 77.296875 0 \nL 64.890625 0 \nL 49.515625 63.28125 \nL 33.984375 0 \nL 21.578125 0 \nz\n\" id=\"DejaVuSans-87\"/>\n      <path d=\"M 9.8125 72.90625 \nL 19.671875 72.90625 \nL 19.671875 43.015625 \nL 55.515625 43.015625 \nL 55.515625 72.90625 \nL 65.375 72.90625 \nL 65.375 0 \nL 55.515625 0 \nL 55.515625 34.71875 \nL 19.671875 34.71875 \nL 19.671875 0 \nL 9.8125 0 \nz\n\" id=\"DejaVuSans-72\"/>\n      <path d=\"M 39.40625 66.21875 \nQ 28.65625 66.21875 22.328125 58.203125 \nQ 16.015625 50.203125 16.015625 36.375 \nQ 16.015625 22.609375 22.328125 14.59375 \nQ 28.65625 6.59375 39.40625 6.59375 \nQ 50.140625 6.59375 56.421875 14.59375 \nQ 62.703125 22.609375 62.703125 36.375 \nQ 62.703125 50.203125 56.421875 58.203125 \nQ 50.140625 66.21875 39.40625 66.21875 \nz\nM 53.21875 1.3125 \nL 66.21875 -12.890625 \nL 54.296875 -12.890625 \nL 43.5 -1.21875 \nQ 41.890625 -1.3125 41.03125 -1.359375 \nQ 40.1875 -1.421875 39.40625 -1.421875 \nQ 24.03125 -1.421875 14.8125 8.859375 \nQ 5.609375 19.140625 5.609375 36.375 \nQ 5.609375 53.65625 14.8125 63.9375 \nQ 24.03125 74.21875 39.40625 74.21875 \nQ 54.734375 74.21875 63.90625 63.9375 \nQ 73.09375 53.65625 73.09375 36.375 \nQ 73.09375 23.6875 67.984375 14.640625 \nQ 62.890625 5.609375 53.21875 1.3125 \nz\n\" id=\"DejaVuSans-81\"/>\n     </defs>\n     <use xlink:href=\"#DejaVuSans-87\"/>\n     <use x=\"98.876953\" xlink:href=\"#DejaVuSans-32\"/>\n     <use x=\"130.664062\" xlink:href=\"#DejaVuSans-52\"/>\n     <use x=\"194.287109\" xlink:href=\"#DejaVuSans-32\"/>\n     <use x=\"226.074219\" xlink:href=\"#DejaVuSans-83\"/>\n     <use x=\"289.550781\" xlink:href=\"#DejaVuSans-84\"/>\n     <use x=\"341.509766\" xlink:href=\"#DejaVuSans-45\"/>\n     <use x=\"373.59375\" xlink:href=\"#DejaVuSans-87\"/>\n     <use x=\"466.970703\" xlink:href=\"#DejaVuSans-65\"/>\n     <use x=\"535.378906\" xlink:href=\"#DejaVuSans-83\"/>\n     <use x=\"598.855469\" xlink:href=\"#DejaVuSans-72\"/>\n     <use x=\"674.050781\" xlink:href=\"#DejaVuSans-32\"/>\n     <use x=\"705.837891\" xlink:href=\"#DejaVuSans-83\"/>\n     <use x=\"769.314453\" xlink:href=\"#DejaVuSans-81\"/>\n    </g>\n   </g>\n   <g id=\"PathCollection_8\">\n    <g>\n     <use style=\"fill:#ff7f0e;stroke:#ff7f0e;stroke-width:2.025;\" x=\"731.910564\" xlink:href=\"#m2a071b6db1\" y=\"171.533906\"/>\n    </g>\n   </g>\n   <g id=\"text_19\">\n    <!-- 34 ST-HERALD SQ -->\n    <g transform=\"translate(749.910564 174.158906)scale(0.1 -0.1)\">\n     <defs>\n      <path d=\"M 9.8125 72.90625 \nL 55.90625 72.90625 \nL 55.90625 64.59375 \nL 19.671875 64.59375 \nL 19.671875 43.015625 \nL 54.390625 43.015625 \nL 54.390625 34.71875 \nL 19.671875 34.71875 \nL 19.671875 8.296875 \nL 56.78125 8.296875 \nL 56.78125 0 \nL 9.8125 0 \nz\n\" id=\"DejaVuSans-69\"/>\n      <path d=\"M 44.390625 34.1875 \nQ 47.5625 33.109375 50.5625 29.59375 \nQ 53.5625 26.078125 56.59375 19.921875 \nL 66.609375 0 \nL 56 0 \nL 46.6875 18.703125 \nQ 43.0625 26.03125 39.671875 28.421875 \nQ 36.28125 30.8125 30.421875 30.8125 \nL 19.671875 30.8125 \nL 19.671875 0 \nL 9.8125 0 \nL 9.8125 72.90625 \nL 32.078125 72.90625 \nQ 44.578125 72.90625 50.734375 67.671875 \nQ 56.890625 62.453125 56.890625 51.90625 \nQ 56.890625 45.015625 53.6875 40.46875 \nQ 50.484375 35.9375 44.390625 34.1875 \nz\nM 19.671875 64.796875 \nL 19.671875 38.921875 \nL 32.078125 38.921875 \nQ 39.203125 38.921875 42.84375 42.21875 \nQ 46.484375 45.515625 46.484375 51.90625 \nQ 46.484375 58.296875 42.84375 61.546875 \nQ 39.203125 64.796875 32.078125 64.796875 \nz\n\" id=\"DejaVuSans-82\"/>\n      <path d=\"M 9.8125 72.90625 \nL 19.671875 72.90625 \nL 19.671875 8.296875 \nL 55.171875 8.296875 \nL 55.171875 0 \nL 9.8125 0 \nz\n\" id=\"DejaVuSans-76\"/>\n      <path d=\"M 19.671875 64.796875 \nL 19.671875 8.109375 \nL 31.59375 8.109375 \nQ 46.6875 8.109375 53.6875 14.9375 \nQ 60.6875 21.78125 60.6875 36.53125 \nQ 60.6875 51.171875 53.6875 57.984375 \nQ 46.6875 64.796875 31.59375 64.796875 \nz\nM 9.8125 72.90625 \nL 30.078125 72.90625 \nQ 51.265625 72.90625 61.171875 64.09375 \nQ 71.09375 55.28125 71.09375 36.53125 \nQ 71.09375 17.671875 61.125 8.828125 \nQ 51.171875 0 30.078125 0 \nL 9.8125 0 \nz\n\" id=\"DejaVuSans-68\"/>\n     </defs>\n     <use xlink:href=\"#DejaVuSans-51\"/>\n     <use x=\"63.623047\" xlink:href=\"#DejaVuSans-52\"/>\n     <use x=\"127.246094\" xlink:href=\"#DejaVuSans-32\"/>\n     <use x=\"159.033203\" xlink:href=\"#DejaVuSans-83\"/>\n     <use x=\"222.509766\" xlink:href=\"#DejaVuSans-84\"/>\n     <use x=\"274.46875\" xlink:href=\"#DejaVuSans-45\"/>\n     <use x=\"310.552734\" xlink:href=\"#DejaVuSans-72\"/>\n     <use x=\"385.748047\" xlink:href=\"#DejaVuSans-69\"/>\n     <use x=\"448.931641\" xlink:href=\"#DejaVuSans-82\"/>\n     <use x=\"514.414062\" xlink:href=\"#DejaVuSans-65\"/>\n     <use x=\"582.822266\" xlink:href=\"#DejaVuSans-76\"/>\n     <use x=\"638.535156\" xlink:href=\"#DejaVuSans-68\"/>\n     <use x=\"715.537109\" xlink:href=\"#DejaVuSans-32\"/>\n     <use x=\"747.324219\" xlink:href=\"#DejaVuSans-83\"/>\n     <use x=\"810.800781\" xlink:href=\"#DejaVuSans-81\"/>\n    </g>\n   </g>\n   <g id=\"PathCollection_9\">\n    <g>\n     <use style=\"fill:#2ca02c;stroke:#2ca02c;stroke-width:2.025;\" x=\"731.910564\" xlink:href=\"#mb5da1ffadb\" y=\"186.212031\"/>\n    </g>\n   </g>\n   <g id=\"text_20\">\n    <!-- 28 ST -->\n    <g transform=\"translate(749.910564 188.837031)scale(0.1 -0.1)\">\n     <use xlink:href=\"#DejaVuSans-50\"/>\n     <use x=\"63.623047\" xlink:href=\"#DejaVuSans-56\"/>\n     <use x=\"127.246094\" xlink:href=\"#DejaVuSans-32\"/>\n     <use x=\"159.033203\" xlink:href=\"#DejaVuSans-83\"/>\n     <use x=\"222.509766\" xlink:href=\"#DejaVuSans-84\"/>\n    </g>\n   </g>\n   <g id=\"PathCollection_10\">\n    <g>\n     <use style=\"fill:#d62728;stroke:#d62728;stroke-width:2.025;\" x=\"731.910564\" xlink:href=\"#m02a433003a\" y=\"200.890156\"/>\n    </g>\n   </g>\n   <g id=\"text_21\">\n    <!-- CHAMBERS ST -->\n    <g transform=\"translate(749.910564 203.515156)scale(0.1 -0.1)\">\n     <defs>\n      <path d=\"M 64.40625 67.28125 \nL 64.40625 56.890625 \nQ 59.421875 61.53125 53.78125 63.8125 \nQ 48.140625 66.109375 41.796875 66.109375 \nQ 29.296875 66.109375 22.65625 58.46875 \nQ 16.015625 50.828125 16.015625 36.375 \nQ 16.015625 21.96875 22.65625 14.328125 \nQ 29.296875 6.6875 41.796875 6.6875 \nQ 48.140625 6.6875 53.78125 8.984375 \nQ 59.421875 11.28125 64.40625 15.921875 \nL 64.40625 5.609375 \nQ 59.234375 2.09375 53.4375 0.328125 \nQ 47.65625 -1.421875 41.21875 -1.421875 \nQ 24.65625 -1.421875 15.125 8.703125 \nQ 5.609375 18.84375 5.609375 36.375 \nQ 5.609375 53.953125 15.125 64.078125 \nQ 24.65625 74.21875 41.21875 74.21875 \nQ 47.75 74.21875 53.53125 72.484375 \nQ 59.328125 70.75 64.40625 67.28125 \nz\n\" id=\"DejaVuSans-67\"/>\n      <path d=\"M 9.8125 72.90625 \nL 24.515625 72.90625 \nL 43.109375 23.296875 \nL 61.8125 72.90625 \nL 76.515625 72.90625 \nL 76.515625 0 \nL 66.890625 0 \nL 66.890625 64.015625 \nL 48.09375 14.015625 \nL 38.1875 14.015625 \nL 19.390625 64.015625 \nL 19.390625 0 \nL 9.8125 0 \nz\n\" id=\"DejaVuSans-77\"/>\n      <path d=\"M 19.671875 34.8125 \nL 19.671875 8.109375 \nL 35.5 8.109375 \nQ 43.453125 8.109375 47.28125 11.40625 \nQ 51.125 14.703125 51.125 21.484375 \nQ 51.125 28.328125 47.28125 31.5625 \nQ 43.453125 34.8125 35.5 34.8125 \nz\nM 19.671875 64.796875 \nL 19.671875 42.828125 \nL 34.28125 42.828125 \nQ 41.5 42.828125 45.03125 45.53125 \nQ 48.578125 48.25 48.578125 53.8125 \nQ 48.578125 59.328125 45.03125 62.0625 \nQ 41.5 64.796875 34.28125 64.796875 \nz\nM 9.8125 72.90625 \nL 35.015625 72.90625 \nQ 46.296875 72.90625 52.390625 68.21875 \nQ 58.5 63.53125 58.5 54.890625 \nQ 58.5 48.1875 55.375 44.234375 \nQ 52.25 40.28125 46.1875 39.3125 \nQ 53.46875 37.75 57.5 32.78125 \nQ 61.53125 27.828125 61.53125 20.40625 \nQ 61.53125 10.640625 54.890625 5.3125 \nQ 48.25 0 35.984375 0 \nL 9.8125 0 \nz\n\" id=\"DejaVuSans-66\"/>\n     </defs>\n     <use xlink:href=\"#DejaVuSans-67\"/>\n     <use x=\"69.824219\" xlink:href=\"#DejaVuSans-72\"/>\n     <use x=\"145.019531\" xlink:href=\"#DejaVuSans-65\"/>\n     <use x=\"213.427734\" xlink:href=\"#DejaVuSans-77\"/>\n     <use x=\"299.707031\" xlink:href=\"#DejaVuSans-66\"/>\n     <use x=\"368.310547\" xlink:href=\"#DejaVuSans-69\"/>\n     <use x=\"431.494141\" xlink:href=\"#DejaVuSans-82\"/>\n     <use x=\"500.976562\" xlink:href=\"#DejaVuSans-83\"/>\n     <use x=\"564.453125\" xlink:href=\"#DejaVuSans-32\"/>\n     <use x=\"596.240234\" xlink:href=\"#DejaVuSans-83\"/>\n     <use x=\"659.716797\" xlink:href=\"#DejaVuSans-84\"/>\n    </g>\n   </g>\n   <g id=\"PathCollection_11\">\n    <g>\n     <use style=\"fill:#9467bd;stroke:#9467bd;stroke-width:2.025;\" x=\"731.910564\" xlink:href=\"#m9c6bd7cfed\" y=\"215.568281\"/>\n    </g>\n   </g>\n   <g id=\"text_22\">\n    <!-- 23 ST -->\n    <g transform=\"translate(749.910564 218.193281)scale(0.1 -0.1)\">\n     <use xlink:href=\"#DejaVuSans-50\"/>\n     <use x=\"63.623047\" xlink:href=\"#DejaVuSans-51\"/>\n     <use x=\"127.246094\" xlink:href=\"#DejaVuSans-32\"/>\n     <use x=\"159.033203\" xlink:href=\"#DejaVuSans-83\"/>\n     <use x=\"222.509766\" xlink:href=\"#DejaVuSans-84\"/>\n    </g>\n   </g>\n   <g id=\"PathCollection_12\">\n    <g>\n     <use style=\"fill:#8c564b;stroke:#8c564b;stroke-width:2.025;\" x=\"731.910564\" xlink:href=\"#mb0605a1f80\" y=\"230.246406\"/>\n    </g>\n   </g>\n   <g id=\"text_23\">\n    <!-- 14 ST -->\n    <g transform=\"translate(749.910564 232.871406)scale(0.1 -0.1)\">\n     <use xlink:href=\"#DejaVuSans-49\"/>\n     <use x=\"63.623047\" xlink:href=\"#DejaVuSans-52\"/>\n     <use x=\"127.246094\" xlink:href=\"#DejaVuSans-32\"/>\n     <use x=\"159.033203\" xlink:href=\"#DejaVuSans-83\"/>\n     <use x=\"222.509766\" xlink:href=\"#DejaVuSans-84\"/>\n    </g>\n   </g>\n  </g>\n </g>\n <defs>\n  <clipPath id=\"peb12cce7cd\">\n   <rect height=\"321.4\" width=\"645.824002\" x=\"67.020938\" y=\"26.877187\"/>\n  </clipPath>\n </defs>\n</svg>\n",
      "image/png": "[encoded data removed]"
     },
     "metadata": {
      "needs_background": "light"
     }
    }
   ],
   "source": [
    "order = ['12am-4am', '4am-8am', '8am-12pm', '12pm-4pm', '4pm-8pm', '8pm-12am']\n",
    "sns.catplot('label', 'TOTAL_TRAFFIC', kind='point', hue='STATION', aspect =2, order=order, hue_order=['W 4 ST-WASH SQ', '34 ST-HERALD SQ','28 ST', 'CHAMBERS ST', '23 ST', '14 ST'], data=top_stations)\n",
    "plt.xlabel('')\n",
    "plt.ylabel('Traffic', size=11)\n",
    "plt.title('Traffic by time of day', size=18)\n",
    "\n",
    "\n"
   ]
  },
  {
   "source": [
    "## Day of the week"
   ],
   "cell_type": "markdown",
   "metadata": {}
  },
  {
   "cell_type": "code",
   "execution_count": 232,
   "metadata": {},
   "outputs": [],
   "source": [
    "entries_by_date['DAY_OF_WEEK'] = entries_by_date['DATETIME'].dt.day_name()"
   ]
  },
  {
   "cell_type": "code",
   "execution_count": 233,
   "metadata": {},
   "outputs": [],
   "source": [
    "entries_by_day_of_week = entries_by_date.groupby(['STATION', 'DAY_OF_WEEK'])['TOTAL_TRAFFIC'].sum().reset_index()"
   ]
  },
  {
   "cell_type": "code",
   "execution_count": 234,
   "metadata": {},
   "outputs": [],
   "source": [
    "entries_weekday = entries_by_day_of_week.loc[entries_by_day_of_week['DAY_OF_WEEK'].isin(['Monday', 'Tuseday', 'Wednesday', 'Thursday', 'Friday'])]"
   ]
  },
  {
   "cell_type": "code",
   "execution_count": 237,
   "metadata": {},
   "outputs": [],
   "source": [
    "entries_weekend = entries_by_day_of_week.loc[entries_by_day_of_week['DAY_OF_WEEK'].isin(['Saturday', 'Sunday'])]"
   ]
  }
 ]
}