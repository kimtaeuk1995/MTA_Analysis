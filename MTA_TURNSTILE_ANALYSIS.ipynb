{
 "metadata": {
  "language_info": {
   "codemirror_mode": {
    "name": "ipython",
    "version": 3
   },
   "file_extension": ".py",
   "mimetype": "text/x-python",
   "name": "python",
   "nbconvert_exporter": "python",
   "pygments_lexer": "ipython3",
   "version": "3.7.6-final"
  },
  "orig_nbformat": 2,
  "kernelspec": {
   "name": "Python 3.7.6 64-bit ('base': conda)",
   "display_name": "Python 3.7.6 64-bit ('base': conda)",
   "metadata": {
    "interpreter": {
     "hash": "c59ab9589ab9721951ace112490e4bf0ea865c3f59dd6195158da930da3c1de9"
    }
   }
  }
 },
 "nbformat": 4,
 "nbformat_minor": 2,
 "cells": [
  {
   "cell_type": "code",
   "execution_count": 84,
   "metadata": {},
   "outputs": [],
   "source": [
    "import pandas as pd\n",
    "from dateutil.parser import parse\n",
    "import dateutil.parser\n",
    "import datetime\n",
    "import numpy as np\n",
    "from uszipcode import Zipcode\n",
    "from uszipcode import SearchEngine\n",
    "from geopy.geocoders import Nominatim\n",
    "import matplotlib.pyplot as plt\n",
    "%matplotlib inline\n",
    "\n",
    "import seaborn as sns"
   ]
  },
  {
   "cell_type": "code",
   "execution_count": 2,
   "metadata": {},
   "outputs": [],
   "source": [
    "pd.set_option('display.max_columns', 500)\n",
    "pd.set_option('display.max_rows', 500)\n",
    "pd.set_option('display.precision',4)"
   ]
  },
  {
   "source": [
    "# Goals / Methodology\n",
    "\n",
    "__Goal:__\n",
    "Our primary goal in this presentation is to maximize the number of signatures obtained at subway station entrances/exits via street marketing teams, focusing on those individuals who will attend the gala and contribute to WTWY’s cause.\n",
    "\n",
    "__Methodology:__\n",
    "To do so, we will look at MTA subway data as well as NYC Census data such as median household income to determine, not just the busiest stations, but the stations with the most value-added individuals considering our prompt above. Furthermore, we will look at the number of tech companies near stations to determine best allotment of street marketing team placement to properly capture our target group\n",
    "\n"
   ],
   "cell_type": "markdown",
   "metadata": {}
  },
  {
   "source": [
    "# Importing Data"
   ],
   "cell_type": "markdown",
   "metadata": {}
  },
  {
   "cell_type": "code",
   "execution_count": 18,
   "metadata": {},
   "outputs": [],
   "source": [
    "# helper function to read in data for appropriate dates\n",
    "week_nums = [200905, 200912, 200919]\n",
    "\n",
    "def get_data(week_nums):\n",
    "    url = 'http://web.mta.info/developers/data/nyct/turnstile/turnstile_{}.txt'\n",
    "    df = []\n",
    "    for week_num in week_nums:\n",
    "        file_url = url.format(week_num)\n",
    "        df.append(pd.read_csv(file_url))\n",
    "    return pd.concat(df)"
   ]
  },
  {
   "cell_type": "code",
   "execution_count": 308,
   "metadata": {},
   "outputs": [],
   "source": [
    "# read in data\n",
    "mta = get_data(week_nums)"
   ]
  },
  {
   "cell_type": "code",
   "execution_count": 310,
   "metadata": {},
   "outputs": [
    {
     "output_type": "execute_result",
     "data": {
      "text/plain": "(628297, 11)"
     },
     "metadata": {},
     "execution_count": 310
    }
   ],
   "source": [
    "mta.shape"
   ]
  },
  {
   "source": [
    "# Finding zipcode and demographic data for stations"
   ],
   "cell_type": "markdown",
   "metadata": {}
  },
  {
   "cell_type": "code",
   "execution_count": 20,
   "metadata": {},
   "outputs": [],
   "source": [
    "# subset for only unique station names\n",
    "unique_station = mta.drop_duplicates(subset=['STATION']).reset_index()"
   ]
  },
  {
   "cell_type": "code",
   "execution_count": 23,
   "metadata": {
    "tags": []
   },
   "outputs": [
    {
     "output_type": "stream",
     "name": "stdout",
     "text": "TIMES SQ-42 ST\nWHITEHALL S-FRY\nPARK PLACE\nJAY ST-METROTEC\nATL AV-BARCLAY\nCONEY IS-STILLW\nW 8 ST-AQUARIUM\nNEW LOTS\nCANARSIE-ROCKAW\n75 ST-ELDERTS\n85 ST-FOREST PK\n163 ST-AMSTERDM\n81 ST-MUSEUM\n59 ST COLUMBUS\n42 ST-PORT AUTH\n34 ST-PENN STA\nHOYT-SCHER\nCLINTON-WASH AV\nBROADWAY JCT\nOZONE PK LEFFRT\nAQUEDUCT N.COND\nAQUEDUCT RACETR\n161/YANKEE STAD\nJKSN HT-ROOSVLT\nGRAND-NEWTOWN\nMYRTLE-WILLOUGH\nBEDFORD-NOSTRAN\n47-50 STS ROCK\nSMITH-9 ST\n4 AV-9 ST\n15 ST-PROSPECT\nROOSEVELT ISLND\n21 ST-QNSBRIDGE\nJAMAICA VAN WK\nSUTPHIN-ARCHER\nJAMAICA CENTER\n72 ST-2 AVE\n86 ST-2 AVE\n96 ST-2 AVE\nNEWARK HW BMEBE\nJOURNAL SQUARE\nPAVONIA/NEWPORT\nTWENTY THIRD ST\nTHIRTY ST\nLACKAWANNA\nTHIRTY THIRD ST\nNEWARK BM BW\nNEWARK C\nNEWARK HM HE\nPATH WTC 2\nPATH NEW WTC\n66 ST-LINCOLN\n116 ST-COLUMBIA\n137 ST CITY COL\nGRD CNTRL-42 ST\n68ST-HUNTER CO\n138/GRAND CONC\n149/GRAND CONC\nWEST FARMS SQ\nE 143/ST MARY'S\nMORISN AV/SNDVW\nVERNON-JACKSON\n82 ST-JACKSON H\n103 ST-CORONA\n34 ST-HUDSON YD\nGRAND ARMY PLAZ\nEASTN PKWY-MUSM\nCROWN HTS-UTICA\nSUTTER AV-RUTLD\nFLATBUSH AV-B.C\nEASTCHSTER/DYRE\nRIT-MANHATTAN\nRIT-ROOSEVELT\n"
    }
   ],
   "source": [
    "geolocator = Nominatim(user_agent=\"test_app\")\n",
    "\n",
    "# find unique latitude and longitude for each station\n",
    "lat_long = []\n",
    "for station in unique_station.STATION:\n",
    "    try:\n",
    "        loc = geolocator.geocode(f'{station} Station NYC')\n",
    "        lat_long.append([station, (loc.latitude, loc.longitude)])\n",
    "    # if cannot identify station name print the specific station\n",
    "    except:\n",
    "        print(station)\n",
    "\n"
   ]
  },
  {
   "cell_type": "code",
   "execution_count": 24,
   "metadata": {},
   "outputs": [],
   "source": [
    "# add in latitude and longitude for missing stations\n",
    "missing = [['TIMES SQ-42 ST', (40.7559, -73.9871)],['WHITEHALL S-FRY', (40.7017, -74.0129)], ['PARK PLACE', (40.7132, -74.0093)], ['JAY ST-METROTEC', (40.69218,-73.985942)], ['ATL AV-BARCLAY', (40.683666,-73.97881)], ['CONEY IS-STILLW', (40.577422,-73.981233)], ['W 8 ST-AQUARIUM', (40.576127,-73.975939)], ['NEW LOTS', (40.658733,-73.899232)], ['CANARSIE-ROCKAW', (40.646654,-73.90185)], ['75 ST-ELDERTS', (40.691324,-73.867139)], ['85 ST-FOREST PK', (40.692435,-73.86001)], ['163 ST-AMSTERDM', (40.836013,-73.939892)], ['81 ST-MUSEUM', (40.781433,-73.972143)], ['59 ST COLUMBUS', (40.768296,-73.981736)], ['42 ST-PORT AUTH', (40.757308,-73.989735)], ['34 ST-PENN STA', (40.752287,-73.993391)], ['HOYT-SCHER', (40.688484,-73.985001)], ['CLINTON-WASH AV', (40.683263,-73.965838)], ['BROADWAY JCT', (40.679498,-73.904512)], ['OZONE PK LEFFRT', (40.685951,-73.825798)], ['AQUEDUCT N.COND', (40.668234,-73.834058)], ['AQUEDUCT RACETR', (40.672097,-73.835919)], ['161/YANKEE STAD', (40.827905,-73.925651)], ['JKSN HT-ROOSVLT', (40.746644,-73.891338)], ['GRAND-NEWTOWN', (40.737015,-73.877223)], ['MYRTLE-WILLOUGH', (40.694568,-73.949046)], ['BEDFORD-NOSTRAN', (40.689627,-73.953522)], ['47-50 STS ROCK', (40.758663,-73.981329)], ['SMITH-9 ST', (40.67358,-73.995959)], ['4 AV-9 ST', (40.670387, -73.98848)], ['15 ST-PROSPECT', (40.660365,-73.979493)], ['ROOSEVELT ISLND', (40.759145,-73.95326)], ['21 ST-QNSBRIDGE', (40.754203,-73.942836)], ['JAMAICA VAN WK', (40.709179,-73.820574)], ['SUTPHIN-ARCHER', (40.700486,-73.807969)], ['JAMAICA CENTER', (40.702147,-73.801109)], ['72 ST-2 AVE', (40.768799,-73.958424)], ['86 ST-2 AVE', (40.777891,-73.951787)], ['96 ST-2 AVE', (40.784318,-73.947152)], ['JOURNAL SQUARE', (40.732141, -74.063114)], ['PAVONIA/NEWPORT', (40.726676, -74.034757)], ['TWENTY THIRD ST', (40.741339, -73.989272)], ['THIRTY ST', (40.766859, -73.921423)], ['LACKAWANNA', (40.7359352, -74.0273625)], ['THIRTY THIRD ST', (40.7486, -73.9887)], ['NEWARK BM BW', (40.735657, -74.172363)], ['NEWARK HW BMEBE', (40.735657, -74.172363)], ['PATH WTC 2', (40.712742, -74.013382)], ['PATH NEW WTC', (40.712742, -74.013382)], ['66 ST-LINCOLN', (40.77344,-73.982209)], ['116 ST-COLUMBIA', (40.807722,-73.96411)], ['137 ST CITY COL', (40.821, -73.954)], ['GRD CNTRL-42 ST', (40.751776,-73.976848)], ['68ST-HUNTER CO', (40.768141,-73.96387)], ['138/GRAND CONC', (40.813224,-73.929849)], ['149/GRAND CONC', (40.818375,-73.927351)], ['WEST FARMS SQ', (40.840295,-73.880049)], [\"E 143/ST MARY'S\", (40.808719,-73.907657)], ['MORISN AV/SNDVW', (40.829495, -73.874474)], ['VERNON-JACKSON', (40.742626,-73.953581)], ['82 ST-JACKSON H', (40.747659,-73.883697)], ['103 ST-CORONA', (40.749865,-73.8627)], ['34 ST-HUDSON YD', (40.753821,-73.981963)], ['GRAND ARMY PLAZ', (40.675235,-73.971046)], ['EASTN PKWY-MUSM', (40.671987,-73.964375)], ['CROWN HTS-UTICA', (40.668897,-73.932942)], ['SUTTER AV-RUTLD', (40.664717,-73.92261)], ['FLATBUSH AV-B.C', (40.632836,-73.947642)], ['EASTCHSTER/DYRE', (40.8883,-73.830834)], ['RIT-MANHATTAN', (43.0844, -77.6749)], ['RIT-ROOSEVELT', (43.0844, -77.6749)]]"
   ]
  },
  {
   "cell_type": "code",
   "execution_count": 25,
   "metadata": {},
   "outputs": [],
   "source": [
    "station_lat_long = lat_long + missing"
   ]
  },
  {
   "cell_type": "code",
   "execution_count": 26,
   "metadata": {},
   "outputs": [],
   "source": [
    "# search latitude and longitude to get zipcode, population, population density, median household income\n",
    "search = SearchEngine(simple_zipcode=True)\n",
    "zip_list = []\n",
    "for i in range(len(station_lat_long)):\n",
    "    try:\n",
    "        zipcode = search.by_coordinates(station_lat_long[i][1][0], station_lat_long[i][1][1], returns=1)\n",
    "        zip_list.append([station_lat_long[i][0], station_lat_long[i][1][0], station_lat_long[i][1][1], zipcode[0].zipcode, zipcode[0].population, zipcode[0].population_density, zipcode[0].median_household_income])\n",
    "    # see if there is no match \n",
    "    except:\n",
    "        print(station_lat_long[i][0])\n",
    "\n"
   ]
  },
  {
   "cell_type": "code",
   "execution_count": 27,
   "metadata": {},
   "outputs": [
    {
     "output_type": "execute_result",
     "data": {
      "text/plain": "           STATION  Latitude  Longitude ZIPCODE  POPULATION  POPULATION_DEN  \\\n0            59 ST   40.6414   -74.0179   11220       99598         55603.0   \n1       5 AV/59 ST   40.7648   -73.9727   10153           0             NaN   \n2       57 ST-7 AV   40.7647   -73.9806   10103           3           314.0   \n3            49 ST   40.7599   -73.9841   10020           0             NaN   \n4  34 ST-HERALD SQ   40.7496   -73.9879   10001       21102         33959.0   \n\n   MEDIAN_INCOME  \n0        37580.0  \n1            NaN  \n2            NaN  \n3            NaN  \n4        81671.0  ",
      "text/html": "<div>\n<style scoped>\n    .dataframe tbody tr th:only-of-type {\n        vertical-align: middle;\n    }\n\n    .dataframe tbody tr th {\n        vertical-align: top;\n    }\n\n    .dataframe thead th {\n        text-align: right;\n    }\n</style>\n<table border=\"1\" class=\"dataframe\">\n  <thead>\n    <tr style=\"text-align: right;\">\n      <th></th>\n      <th>STATION</th>\n      <th>Latitude</th>\n      <th>Longitude</th>\n      <th>ZIPCODE</th>\n      <th>POPULATION</th>\n      <th>POPULATION_DEN</th>\n      <th>MEDIAN_INCOME</th>\n    </tr>\n  </thead>\n  <tbody>\n    <tr>\n      <th>0</th>\n      <td>59 ST</td>\n      <td>40.6414</td>\n      <td>-74.0179</td>\n      <td>11220</td>\n      <td>99598</td>\n      <td>55603.0</td>\n      <td>37580.0</td>\n    </tr>\n    <tr>\n      <th>1</th>\n      <td>5 AV/59 ST</td>\n      <td>40.7648</td>\n      <td>-73.9727</td>\n      <td>10153</td>\n      <td>0</td>\n      <td>NaN</td>\n      <td>NaN</td>\n    </tr>\n    <tr>\n      <th>2</th>\n      <td>57 ST-7 AV</td>\n      <td>40.7647</td>\n      <td>-73.9806</td>\n      <td>10103</td>\n      <td>3</td>\n      <td>314.0</td>\n      <td>NaN</td>\n    </tr>\n    <tr>\n      <th>3</th>\n      <td>49 ST</td>\n      <td>40.7599</td>\n      <td>-73.9841</td>\n      <td>10020</td>\n      <td>0</td>\n      <td>NaN</td>\n      <td>NaN</td>\n    </tr>\n    <tr>\n      <th>4</th>\n      <td>34 ST-HERALD SQ</td>\n      <td>40.7496</td>\n      <td>-73.9879</td>\n      <td>10001</td>\n      <td>21102</td>\n      <td>33959.0</td>\n      <td>81671.0</td>\n    </tr>\n  </tbody>\n</table>\n</div>"
     },
     "metadata": {},
     "execution_count": 27
    }
   ],
   "source": [
    "# make the list into a dataframe\n",
    "station_zip_demo = pd.DataFrame(zip_list, columns=['STATION', 'Latitude', 'Longitude', 'ZIPCODE', 'POPULATION', 'POPULATION_DEN', 'MEDIAN_INCOME'])\n",
    "\n",
    "station_zip_demo.head()"
   ]
  },
  {
   "source": [
    "# Finding tech company zipcode "
   ],
   "cell_type": "markdown",
   "metadata": {}
  },
  {
   "cell_type": "code",
   "execution_count": 28,
   "metadata": {},
   "outputs": [],
   "source": [
    "company = pd.read_excel('company.xlsx')"
   ]
  },
  {
   "cell_type": "code",
   "execution_count": 29,
   "metadata": {
    "tags": []
   },
   "outputs": [
    {
     "output_type": "stream",
     "name": "stdout",
     "text": "Deloitte\nPricewaterhouseCoopers\nABM Industries\nStandard Chartered USA\nOmnicom Group\nPhilip Morris International\nHistoric TW\nBOTTLING GROUP\nMarsh & McLennan Companies\nNBCUniversal\nThe Interpublic Group of Companies\nAmerican International Group\nArconic\nMount Sinai Health System\nKohlberg & Company\nColgate-Palmolive\niQor Holdings\nBunge\nMediterranean Shipping Company\nHyosung\nMacAndrews & Forbes\nMontefiore Health System\nNIOXIN USA\nClairol Color\nCarrols Restaurant Group\nPVH\nHotel Acquisition Company\nWeight Watchers International\nHenry Schein\nRoadhouse Holding\nInfor\nHRG Group\nXylem\nAltice USA\nYoung & Rubicam\nHitachi America\nAssurant\nContinental Grain Company\nWaldorf Astoria New York\nSutherland Global Services\nNature’s Bounty\nKBC Bank\n"
    }
   ],
   "source": [
    "# find latitude and longitude based on compnay name\n",
    "lat_long = []\n",
    "for company in company.Company:\n",
    "    try:\n",
    "        loc = geolocator.geocode(f'{company} NY, USA')\n",
    "        lat_long.append([company, loc.latitude, loc.longitude])\n",
    "    # see companies that have no associated latitude and longitude\n",
    "    except:\n",
    "        print(company)"
   ]
  },
  {
   "cell_type": "code",
   "execution_count": 30,
   "metadata": {},
   "outputs": [],
   "source": [
    "# add additional tech companies \n",
    "company_address = [['Slack', '436 Lafayette St, New York, NY 10003'], ['2U', '55 Prospect St., Brooklyn, NY 11201'], ['Compass', '90 Fifth Avenue, New York, NY 10011'],['Adobe', '1540 Broadway, New York, NY 10036'], ['Square', '375 W Broadway, New York, NY 10012'], ['Twitter', '249 W 17th St, New York, NY 10011'],['Facebook', '770 Broadway, New York, NY 10003'], ['Google', '111 8th Ave, New York, NY 10011'], ['Salesforce', '1095 Avenue of the Americas, New York, NY 10036'], ['Amazon', '450 West 33rd Street, New York, NY 10001'], ['Dashlane', '156 5th Ave, New York, NY 10010'], ['Transferwise', '19 W 24th Street, New York, NY 10010'], ['Sevenrooms', '122 W. 27th Street, New York, NY 10001'], ['seatgeek', '400 Lafayette St, New York, NY 10003, US'], ['greenhouse', '18 W 18th St, New York, NY 10011']]\n",
    "\n",
    "for company, address in company_address:\n",
    "    try:\n",
    "        loc = geolocator.geocode(address)\n",
    "        lat_long.append([company, loc.latitude, loc.longitude])\n",
    "    except:\n",
    "        print(company)"
   ]
  },
  {
   "cell_type": "code",
   "execution_count": 31,
   "metadata": {},
   "outputs": [],
   "source": [
    "#make the list into dataframe\n",
    "company_zip = pd.DataFrame(lat_long, columns=['Company', 'Latitude', 'Longitude'])\n"
   ]
  },
  {
   "source": [
    "## Mapping tech companies on a map"
   ],
   "cell_type": "markdown",
   "metadata": {}
  },
  {
   "cell_type": "code",
   "execution_count": 363,
   "metadata": {},
   "outputs": [],
   "source": [
    "import plotly.express as px\n",
    "import plotly.graph_objects as go\n"
   ]
  },
  {
   "cell_type": "code",
   "execution_count": 372,
   "metadata": {},
   "outputs": [
    {
     "output_type": "display_data",
     "data": {
      "application/vnd.plotly.v1+json": {
       "config": {
        "plotlyServerURL": "https://plot.ly"
       },
       "data": [
        {
         "hovertemplate": "Latitude=%{lat}<br>Longitude=%{lon}<extra></extra>",
         "lat": [
          41.32038665,
          41.01494415,
          40.7558452,
          40.72914525,
          40.708156349999996,
          40.7503833,
          40.7625601,
          40.75300505,
          40.77302115,
          43.0941934,
          40.7545433,
          43.14916785,
          42.9305521,
          40.7135788,
          40.7078794,
          42.85981775,
          40.76230085,
          42.1435257,
          40.710322649999995,
          40.7147553,
          40.7612526,
          40.7288797,
          40.7577041,
          40.7434467,
          40.7588263,
          43.059526,
          42.8775471,
          40.7364296,
          43.0649163,
          40.741235950000004,
          42.3650854,
          40.7506498,
          40.645353549999996,
          42.1479836,
          40.766562,
          40.6740635,
          41.3579462,
          40.7712673,
          40.72925325,
          40.7635205,
          40.70703525,
          43.776052,
          43.11876,
          40.64601025,
          41.6611595,
          40.76953315,
          40.78466865,
          40.7635285,
          40.76445335,
          40.90549785,
          40.7065818,
          40.8079488,
          40.73670285,
          40.75801405,
          40.734722,
          40.7608348,
          42.8678447,
          40.7567716,
          40.7251793,
          43.1409853,
          40.7867914,
          40.7293432,
          40.7008283,
          43.05788882608696,
          40.75803195,
          40.7235788,
          40.7413328,
          40.73060415,
          40.7408812,
          40.754683549999996,
          40.75352114285714,
          40.7399209,
          40.742999100000006,
          40.7426776,
          40.7280768,
          40.7390034
         ],
         "legendgroup": "",
         "lon": [
          -73.67869784162318,
          -73.72689337433243,
          -73.97561496589915,
          -73.70263405446019,
          -73.62858135958973,
          -73.97262147463235,
          -73.9725989,
          -73.97757258818191,
          -73.56139335295892,
          -75.2467041,
          -73.98036,
          -75.37577549382657,
          -77.0885437,
          -74.0149012,
          -74.011458,
          -76.99639816266068,
          -73.97125668962013,
          -77.0543408,
          -73.55485096970199,
          -74.01441859133114,
          -73.9735148,
          -73.9934374,
          -73.9775447,
          -73.9722189,
          -73.9745247,
          -76.1521175,
          -78.87487409828174,
          -73.9488635,
          -76.0858675,
          -73.35669116536101,
          -73.4692788,
          -73.9388368,
          -74.09174767890863,
          -74.6490211,
          -73.98362090965932,
          -73.9862307,
          -73.7823212,
          -73.966008,
          -73.99625393609625,
          -73.9959106,
          -73.70171903255334,
          -75.436249,
          -75.2924590757315,
          -73.95735557033811,
          -73.9291306,
          -73.99067563237543,
          -73.90478830758894,
          -73.9728007,
          -73.95694407847097,
          -73.10263393261312,
          -74.0100596,
          -73.96179735775709,
          -73.81879574241711,
          -73.9769564693561,
          -73.9910745,
          -73.9752495,
          -75.8871382,
          -73.9896414,
          -73.5460685,
          -77.7190413,
          -73.9754518,
          -73.9921259,
          -73.9882067,
          -74.3349787826087,
          -73.98483197526832,
          -74.0025799,
          -74.0000779,
          -73.99152049790047,
          -74.0020865,
          -73.9847556191919,
          -73.99891471428572,
          -73.9909787,
          -73.99046185418356,
          -73.9985382,
          -73.9933389,
          -73.9932784
         ],
         "marker": {
          "color": "#636efa"
         },
         "mode": "markers",
         "name": "",
         "showlegend": false,
         "subplot": "mapbox",
         "type": "scattermapbox"
        }
       ],
       "layout": {
        "hovermode": "closest",
        "legend": {
         "tracegroupgap": 0
        },
        "mapbox": {
         "bearing": 0,
         "center": {
          "lat": 40.75,
          "lon": -73.97
         },
         "domain": {
          "x": [
           0,
           1
          ],
          "y": [
           0,
           1
          ]
         },
         "pitch": 0,
         "style": "open-street-map",
         "zoom": 11
        },
        "margin": {
         "t": 60
        },
        "template": {
         "data": {
          "bar": [
           {
            "error_x": {
             "color": "#2a3f5f"
            },
            "error_y": {
             "color": "#2a3f5f"
            },
            "marker": {
             "line": {
              "color": "#E5ECF6",
              "width": 0.5
             }
            },
            "type": "bar"
           }
          ],
          "barpolar": [
           {
            "marker": {
             "line": {
              "color": "#E5ECF6",
              "width": 0.5
             }
            },
            "type": "barpolar"
           }
          ],
          "carpet": [
           {
            "aaxis": {
             "endlinecolor": "#2a3f5f",
             "gridcolor": "white",
             "linecolor": "white",
             "minorgridcolor": "white",
             "startlinecolor": "#2a3f5f"
            },
            "baxis": {
             "endlinecolor": "#2a3f5f",
             "gridcolor": "white",
             "linecolor": "white",
             "minorgridcolor": "white",
             "startlinecolor": "#2a3f5f"
            },
            "type": "carpet"
           }
          ],
          "choropleth": [
           {
            "colorbar": {
             "outlinewidth": 0,
             "ticks": ""
            },
            "type": "choropleth"
           }
          ],
          "contour": [
           {
            "colorbar": {
             "outlinewidth": 0,
             "ticks": ""
            },
            "colorscale": [
             [
              0,
              "#0d0887"
             ],
             [
              0.1111111111111111,
              "#46039f"
             ],
             [
              0.2222222222222222,
              "#7201a8"
             ],
             [
              0.3333333333333333,
              "#9c179e"
             ],
             [
              0.4444444444444444,
              "#bd3786"
             ],
             [
              0.5555555555555556,
              "#d8576b"
             ],
             [
              0.6666666666666666,
              "#ed7953"
             ],
             [
              0.7777777777777778,
              "#fb9f3a"
             ],
             [
              0.8888888888888888,
              "#fdca26"
             ],
             [
              1,
              "#f0f921"
             ]
            ],
            "type": "contour"
           }
          ],
          "contourcarpet": [
           {
            "colorbar": {
             "outlinewidth": 0,
             "ticks": ""
            },
            "type": "contourcarpet"
           }
          ],
          "heatmap": [
           {
            "colorbar": {
             "outlinewidth": 0,
             "ticks": ""
            },
            "colorscale": [
             [
              0,
              "#0d0887"
             ],
             [
              0.1111111111111111,
              "#46039f"
             ],
             [
              0.2222222222222222,
              "#7201a8"
             ],
             [
              0.3333333333333333,
              "#9c179e"
             ],
             [
              0.4444444444444444,
              "#bd3786"
             ],
             [
              0.5555555555555556,
              "#d8576b"
             ],
             [
              0.6666666666666666,
              "#ed7953"
             ],
             [
              0.7777777777777778,
              "#fb9f3a"
             ],
             [
              0.8888888888888888,
              "#fdca26"
             ],
             [
              1,
              "#f0f921"
             ]
            ],
            "type": "heatmap"
           }
          ],
          "heatmapgl": [
           {
            "colorbar": {
             "outlinewidth": 0,
             "ticks": ""
            },
            "colorscale": [
             [
              0,
              "#0d0887"
             ],
             [
              0.1111111111111111,
              "#46039f"
             ],
             [
              0.2222222222222222,
              "#7201a8"
             ],
             [
              0.3333333333333333,
              "#9c179e"
             ],
             [
              0.4444444444444444,
              "#bd3786"
             ],
             [
              0.5555555555555556,
              "#d8576b"
             ],
             [
              0.6666666666666666,
              "#ed7953"
             ],
             [
              0.7777777777777778,
              "#fb9f3a"
             ],
             [
              0.8888888888888888,
              "#fdca26"
             ],
             [
              1,
              "#f0f921"
             ]
            ],
            "type": "heatmapgl"
           }
          ],
          "histogram": [
           {
            "marker": {
             "colorbar": {
              "outlinewidth": 0,
              "ticks": ""
             }
            },
            "type": "histogram"
           }
          ],
          "histogram2d": [
           {
            "colorbar": {
             "outlinewidth": 0,
             "ticks": ""
            },
            "colorscale": [
             [
              0,
              "#0d0887"
             ],
             [
              0.1111111111111111,
              "#46039f"
             ],
             [
              0.2222222222222222,
              "#7201a8"
             ],
             [
              0.3333333333333333,
              "#9c179e"
             ],
             [
              0.4444444444444444,
              "#bd3786"
             ],
             [
              0.5555555555555556,
              "#d8576b"
             ],
             [
              0.6666666666666666,
              "#ed7953"
             ],
             [
              0.7777777777777778,
              "#fb9f3a"
             ],
             [
              0.8888888888888888,
              "#fdca26"
             ],
             [
              1,
              "#f0f921"
             ]
            ],
            "type": "histogram2d"
           }
          ],
          "histogram2dcontour": [
           {
            "colorbar": {
             "outlinewidth": 0,
             "ticks": ""
            },
            "colorscale": [
             [
              0,
              "#0d0887"
             ],
             [
              0.1111111111111111,
              "#46039f"
             ],
             [
              0.2222222222222222,
              "#7201a8"
             ],
             [
              0.3333333333333333,
              "#9c179e"
             ],
             [
              0.4444444444444444,
              "#bd3786"
             ],
             [
              0.5555555555555556,
              "#d8576b"
             ],
             [
              0.6666666666666666,
              "#ed7953"
             ],
             [
              0.7777777777777778,
              "#fb9f3a"
             ],
             [
              0.8888888888888888,
              "#fdca26"
             ],
             [
              1,
              "#f0f921"
             ]
            ],
            "type": "histogram2dcontour"
           }
          ],
          "mesh3d": [
           {
            "colorbar": {
             "outlinewidth": 0,
             "ticks": ""
            },
            "type": "mesh3d"
           }
          ],
          "parcoords": [
           {
            "line": {
             "colorbar": {
              "outlinewidth": 0,
              "ticks": ""
             }
            },
            "type": "parcoords"
           }
          ],
          "pie": [
           {
            "automargin": true,
            "type": "pie"
           }
          ],
          "scatter": [
           {
            "marker": {
             "colorbar": {
              "outlinewidth": 0,
              "ticks": ""
             }
            },
            "type": "scatter"
           }
          ],
          "scatter3d": [
           {
            "line": {
             "colorbar": {
              "outlinewidth": 0,
              "ticks": ""
             }
            },
            "marker": {
             "colorbar": {
              "outlinewidth": 0,
              "ticks": ""
             }
            },
            "type": "scatter3d"
           }
          ],
          "scattercarpet": [
           {
            "marker": {
             "colorbar": {
              "outlinewidth": 0,
              "ticks": ""
             }
            },
            "type": "scattercarpet"
           }
          ],
          "scattergeo": [
           {
            "marker": {
             "colorbar": {
              "outlinewidth": 0,
              "ticks": ""
             }
            },
            "type": "scattergeo"
           }
          ],
          "scattergl": [
           {
            "marker": {
             "colorbar": {
              "outlinewidth": 0,
              "ticks": ""
             }
            },
            "type": "scattergl"
           }
          ],
          "scattermapbox": [
           {
            "marker": {
             "colorbar": {
              "outlinewidth": 0,
              "ticks": ""
             }
            },
            "type": "scattermapbox"
           }
          ],
          "scatterpolar": [
           {
            "marker": {
             "colorbar": {
              "outlinewidth": 0,
              "ticks": ""
             }
            },
            "type": "scatterpolar"
           }
          ],
          "scatterpolargl": [
           {
            "marker": {
             "colorbar": {
              "outlinewidth": 0,
              "ticks": ""
             }
            },
            "type": "scatterpolargl"
           }
          ],
          "scatterternary": [
           {
            "marker": {
             "colorbar": {
              "outlinewidth": 0,
              "ticks": ""
             }
            },
            "type": "scatterternary"
           }
          ],
          "surface": [
           {
            "colorbar": {
             "outlinewidth": 0,
             "ticks": ""
            },
            "colorscale": [
             [
              0,
              "#0d0887"
             ],
             [
              0.1111111111111111,
              "#46039f"
             ],
             [
              0.2222222222222222,
              "#7201a8"
             ],
             [
              0.3333333333333333,
              "#9c179e"
             ],
             [
              0.4444444444444444,
              "#bd3786"
             ],
             [
              0.5555555555555556,
              "#d8576b"
             ],
             [
              0.6666666666666666,
              "#ed7953"
             ],
             [
              0.7777777777777778,
              "#fb9f3a"
             ],
             [
              0.8888888888888888,
              "#fdca26"
             ],
             [
              1,
              "#f0f921"
             ]
            ],
            "type": "surface"
           }
          ],
          "table": [
           {
            "cells": {
             "fill": {
              "color": "#EBF0F8"
             },
             "line": {
              "color": "white"
             }
            },
            "header": {
             "fill": {
              "color": "#C8D4E3"
             },
             "line": {
              "color": "white"
             }
            },
            "type": "table"
           }
          ]
         },
         "layout": {
          "annotationdefaults": {
           "arrowcolor": "#2a3f5f",
           "arrowhead": 0,
           "arrowwidth": 1
          },
          "coloraxis": {
           "colorbar": {
            "outlinewidth": 0,
            "ticks": ""
           }
          },
          "colorscale": {
           "diverging": [
            [
             0,
             "#8e0152"
            ],
            [
             0.1,
             "#c51b7d"
            ],
            [
             0.2,
             "#de77ae"
            ],
            [
             0.3,
             "#f1b6da"
            ],
            [
             0.4,
             "#fde0ef"
            ],
            [
             0.5,
             "#f7f7f7"
            ],
            [
             0.6,
             "#e6f5d0"
            ],
            [
             0.7,
             "#b8e186"
            ],
            [
             0.8,
             "#7fbc41"
            ],
            [
             0.9,
             "#4d9221"
            ],
            [
             1,
             "#276419"
            ]
           ],
           "sequential": [
            [
             0,
             "#0d0887"
            ],
            [
             0.1111111111111111,
             "#46039f"
            ],
            [
             0.2222222222222222,
             "#7201a8"
            ],
            [
             0.3333333333333333,
             "#9c179e"
            ],
            [
             0.4444444444444444,
             "#bd3786"
            ],
            [
             0.5555555555555556,
             "#d8576b"
            ],
            [
             0.6666666666666666,
             "#ed7953"
            ],
            [
             0.7777777777777778,
             "#fb9f3a"
            ],
            [
             0.8888888888888888,
             "#fdca26"
            ],
            [
             1,
             "#f0f921"
            ]
           ],
           "sequentialminus": [
            [
             0,
             "#0d0887"
            ],
            [
             0.1111111111111111,
             "#46039f"
            ],
            [
             0.2222222222222222,
             "#7201a8"
            ],
            [
             0.3333333333333333,
             "#9c179e"
            ],
            [
             0.4444444444444444,
             "#bd3786"
            ],
            [
             0.5555555555555556,
             "#d8576b"
            ],
            [
             0.6666666666666666,
             "#ed7953"
            ],
            [
             0.7777777777777778,
             "#fb9f3a"
            ],
            [
             0.8888888888888888,
             "#fdca26"
            ],
            [
             1,
             "#f0f921"
            ]
           ]
          },
          "colorway": [
           "#636efa",
           "#EF553B",
           "#00cc96",
           "#ab63fa",
           "#FFA15A",
           "#19d3f3",
           "#FF6692",
           "#B6E880",
           "#FF97FF",
           "#FECB52"
          ],
          "font": {
           "color": "#2a3f5f"
          },
          "geo": {
           "bgcolor": "white",
           "lakecolor": "white",
           "landcolor": "#E5ECF6",
           "showlakes": true,
           "showland": true,
           "subunitcolor": "white"
          },
          "hoverlabel": {
           "align": "left"
          },
          "hovermode": "closest",
          "mapbox": {
           "style": "light"
          },
          "paper_bgcolor": "white",
          "plot_bgcolor": "#E5ECF6",
          "polar": {
           "angularaxis": {
            "gridcolor": "white",
            "linecolor": "white",
            "ticks": ""
           },
           "bgcolor": "#E5ECF6",
           "radialaxis": {
            "gridcolor": "white",
            "linecolor": "white",
            "ticks": ""
           }
          },
          "scene": {
           "xaxis": {
            "backgroundcolor": "#E5ECF6",
            "gridcolor": "white",
            "gridwidth": 2,
            "linecolor": "white",
            "showbackground": true,
            "ticks": "",
            "zerolinecolor": "white"
           },
           "yaxis": {
            "backgroundcolor": "#E5ECF6",
            "gridcolor": "white",
            "gridwidth": 2,
            "linecolor": "white",
            "showbackground": true,
            "ticks": "",
            "zerolinecolor": "white"
           },
           "zaxis": {
            "backgroundcolor": "#E5ECF6",
            "gridcolor": "white",
            "gridwidth": 2,
            "linecolor": "white",
            "showbackground": true,
            "ticks": "",
            "zerolinecolor": "white"
           }
          },
          "shapedefaults": {
           "line": {
            "color": "#2a3f5f"
           }
          },
          "ternary": {
           "aaxis": {
            "gridcolor": "white",
            "linecolor": "white",
            "ticks": ""
           },
           "baxis": {
            "gridcolor": "white",
            "linecolor": "white",
            "ticks": ""
           },
           "bgcolor": "#E5ECF6",
           "caxis": {
            "gridcolor": "white",
            "linecolor": "white",
            "ticks": ""
           }
          },
          "title": {
           "x": 0.05
          },
          "xaxis": {
           "automargin": true,
           "gridcolor": "white",
           "linecolor": "white",
           "ticks": "",
           "title": {
            "standoff": 15
           },
           "zerolinecolor": "white",
           "zerolinewidth": 2
          },
          "yaxis": {
           "automargin": true,
           "gridcolor": "white",
           "linecolor": "white",
           "ticks": "",
           "title": {
            "standoff": 15
           },
           "zerolinecolor": "white",
           "zerolinewidth": 2
          }
         }
        }
       }
      }
     },
     "metadata": {}
    }
   ],
   "source": [
    "fig = px.scatter_mapbox(company_zip, 'Latitude', 'Longitude', mapbox_style='open-street-map')\n",
    "fig.update_layout(\n",
    "    hovermode='closest',\n",
    "    mapbox=dict(\n",
    "        bearing=0,\n",
    "        center=go.layout.mapbox.Center(\n",
    "            lat=40.75,\n",
    "            lon=-73.97\n",
    "        ),\n",
    "        pitch=0,\n",
    "        zoom=11\n",
    "    )\n",
    ")\n",
    "fig.show()"
   ]
  },
  {
   "cell_type": "code",
   "execution_count": 337,
   "metadata": {},
   "outputs": [
    {
     "output_type": "display_data",
     "data": {
      "application/vnd.plotly.v1+json": {
       "config": {
        "plotlyServerURL": "https://plot.ly"
       },
       "data": [
        {
         "hovertemplate": "Latitude=%{lat}<br>Longitude=%{lon}<extra></extra>",
         "lat": [
          41.32038665,
          41.01494415,
          40.7558452,
          40.72914525,
          40.708156349999996,
          40.7503833,
          40.7625601,
          40.75300505,
          40.77302115,
          43.0941934,
          40.7545433,
          43.14916785,
          42.9305521,
          40.7135788,
          40.7078794,
          42.85981775,
          40.76230085,
          42.1435257,
          40.710322649999995,
          40.7147553,
          40.7612526,
          40.7288797,
          40.7577041,
          40.7434467,
          40.7588263,
          43.059526,
          42.8775471,
          40.7364296,
          43.0649163,
          40.741235950000004,
          42.3650854,
          40.7506498,
          40.645353549999996,
          42.1479836,
          40.766562,
          40.6740635,
          41.3579462,
          40.7712673,
          40.72925325,
          40.7635205,
          40.70703525,
          43.776052,
          43.11876,
          40.64601025,
          41.6611595,
          40.76953315,
          40.78466865,
          40.7635285,
          40.76445335,
          40.90549785,
          40.7065818,
          40.8079488,
          40.73670285,
          40.75801405,
          40.734722,
          40.7608348,
          42.8678447,
          40.7567716,
          40.7251793,
          43.1409853,
          40.7867914,
          40.7293432,
          40.7008283,
          43.05788882608696,
          40.75803195,
          40.7235788,
          40.7413328,
          40.73060415,
          40.7408812,
          40.754683549999996,
          40.75352114285714,
          40.7399209,
          40.742999100000006,
          40.7426776,
          40.7280768,
          40.7390034
         ],
         "legendgroup": "",
         "lon": [
          -73.67869784162318,
          -73.72689337433243,
          -73.97561496589915,
          -73.70263405446019,
          -73.62858135958973,
          -73.97262147463235,
          -73.9725989,
          -73.97757258818191,
          -73.56139335295892,
          -75.2467041,
          -73.98036,
          -75.37577549382657,
          -77.0885437,
          -74.0149012,
          -74.011458,
          -76.99639816266068,
          -73.97125668962013,
          -77.0543408,
          -73.55485096970199,
          -74.01441859133114,
          -73.9735148,
          -73.9934374,
          -73.9775447,
          -73.9722189,
          -73.9745247,
          -76.1521175,
          -78.87487409828174,
          -73.9488635,
          -76.0858675,
          -73.35669116536101,
          -73.4692788,
          -73.9388368,
          -74.09174767890863,
          -74.6490211,
          -73.98362090965932,
          -73.9862307,
          -73.7823212,
          -73.966008,
          -73.99625393609625,
          -73.9959106,
          -73.70171903255334,
          -75.436249,
          -75.2924590757315,
          -73.95735557033811,
          -73.9291306,
          -73.99067563237543,
          -73.90478830758894,
          -73.9728007,
          -73.95694407847097,
          -73.10263393261312,
          -74.0100596,
          -73.96179735775709,
          -73.81879574241711,
          -73.9769564693561,
          -73.9910745,
          -73.9752495,
          -75.8871382,
          -73.9896414,
          -73.5460685,
          -77.7190413,
          -73.9754518,
          -73.9921259,
          -73.9882067,
          -74.3349787826087,
          -73.98483197526832,
          -74.0025799,
          -74.0000779,
          -73.99152049790047,
          -74.0020865,
          -73.9847556191919,
          -73.99891471428572,
          -73.9909787,
          -73.99046185418356,
          -73.9985382,
          -73.9933389,
          -73.9932784
         ],
         "marker": {
          "color": "#636efa"
         },
         "mode": "markers",
         "name": "",
         "showlegend": false,
         "subplot": "mapbox",
         "type": "scattermapbox"
        }
       ],
       "layout": {
        "legend": {
         "tracegroupgap": 0
        },
        "mapbox": {
         "center": {
          "lat": 41.20226290222295,
          "lon": -74.31601584802324
         },
         "domain": {
          "x": [
           0,
           1
          ],
          "y": [
           0,
           1
          ]
         },
         "zoom": 8
        },
        "margin": {
         "t": 60
        },
        "template": {
         "data": {
          "bar": [
           {
            "error_x": {
             "color": "#2a3f5f"
            },
            "error_y": {
             "color": "#2a3f5f"
            },
            "marker": {
             "line": {
              "color": "#E5ECF6",
              "width": 0.5
             }
            },
            "type": "bar"
           }
          ],
          "barpolar": [
           {
            "marker": {
             "line": {
              "color": "#E5ECF6",
              "width": 0.5
             }
            },
            "type": "barpolar"
           }
          ],
          "carpet": [
           {
            "aaxis": {
             "endlinecolor": "#2a3f5f",
             "gridcolor": "white",
             "linecolor": "white",
             "minorgridcolor": "white",
             "startlinecolor": "#2a3f5f"
            },
            "baxis": {
             "endlinecolor": "#2a3f5f",
             "gridcolor": "white",
             "linecolor": "white",
             "minorgridcolor": "white",
             "startlinecolor": "#2a3f5f"
            },
            "type": "carpet"
           }
          ],
          "choropleth": [
           {
            "colorbar": {
             "outlinewidth": 0,
             "ticks": ""
            },
            "type": "choropleth"
           }
          ],
          "contour": [
           {
            "colorbar": {
             "outlinewidth": 0,
             "ticks": ""
            },
            "colorscale": [
             [
              0,
              "#0d0887"
             ],
             [
              0.1111111111111111,
              "#46039f"
             ],
             [
              0.2222222222222222,
              "#7201a8"
             ],
             [
              0.3333333333333333,
              "#9c179e"
             ],
             [
              0.4444444444444444,
              "#bd3786"
             ],
             [
              0.5555555555555556,
              "#d8576b"
             ],
             [
              0.6666666666666666,
              "#ed7953"
             ],
             [
              0.7777777777777778,
              "#fb9f3a"
             ],
             [
              0.8888888888888888,
              "#fdca26"
             ],
             [
              1,
              "#f0f921"
             ]
            ],
            "type": "contour"
           }
          ],
          "contourcarpet": [
           {
            "colorbar": {
             "outlinewidth": 0,
             "ticks": ""
            },
            "type": "contourcarpet"
           }
          ],
          "heatmap": [
           {
            "colorbar": {
             "outlinewidth": 0,
             "ticks": ""
            },
            "colorscale": [
             [
              0,
              "#0d0887"
             ],
             [
              0.1111111111111111,
              "#46039f"
             ],
             [
              0.2222222222222222,
              "#7201a8"
             ],
             [
              0.3333333333333333,
              "#9c179e"
             ],
             [
              0.4444444444444444,
              "#bd3786"
             ],
             [
              0.5555555555555556,
              "#d8576b"
             ],
             [
              0.6666666666666666,
              "#ed7953"
             ],
             [
              0.7777777777777778,
              "#fb9f3a"
             ],
             [
              0.8888888888888888,
              "#fdca26"
             ],
             [
              1,
              "#f0f921"
             ]
            ],
            "type": "heatmap"
           }
          ],
          "heatmapgl": [
           {
            "colorbar": {
             "outlinewidth": 0,
             "ticks": ""
            },
            "colorscale": [
             [
              0,
              "#0d0887"
             ],
             [
              0.1111111111111111,
              "#46039f"
             ],
             [
              0.2222222222222222,
              "#7201a8"
             ],
             [
              0.3333333333333333,
              "#9c179e"
             ],
             [
              0.4444444444444444,
              "#bd3786"
             ],
             [
              0.5555555555555556,
              "#d8576b"
             ],
             [
              0.6666666666666666,
              "#ed7953"
             ],
             [
              0.7777777777777778,
              "#fb9f3a"
             ],
             [
              0.8888888888888888,
              "#fdca26"
             ],
             [
              1,
              "#f0f921"
             ]
            ],
            "type": "heatmapgl"
           }
          ],
          "histogram": [
           {
            "marker": {
             "colorbar": {
              "outlinewidth": 0,
              "ticks": ""
             }
            },
            "type": "histogram"
           }
          ],
          "histogram2d": [
           {
            "colorbar": {
             "outlinewidth": 0,
             "ticks": ""
            },
            "colorscale": [
             [
              0,
              "#0d0887"
             ],
             [
              0.1111111111111111,
              "#46039f"
             ],
             [
              0.2222222222222222,
              "#7201a8"
             ],
             [
              0.3333333333333333,
              "#9c179e"
             ],
             [
              0.4444444444444444,
              "#bd3786"
             ],
             [
              0.5555555555555556,
              "#d8576b"
             ],
             [
              0.6666666666666666,
              "#ed7953"
             ],
             [
              0.7777777777777778,
              "#fb9f3a"
             ],
             [
              0.8888888888888888,
              "#fdca26"
             ],
             [
              1,
              "#f0f921"
             ]
            ],
            "type": "histogram2d"
           }
          ],
          "histogram2dcontour": [
           {
            "colorbar": {
             "outlinewidth": 0,
             "ticks": ""
            },
            "colorscale": [
             [
              0,
              "#0d0887"
             ],
             [
              0.1111111111111111,
              "#46039f"
             ],
             [
              0.2222222222222222,
              "#7201a8"
             ],
             [
              0.3333333333333333,
              "#9c179e"
             ],
             [
              0.4444444444444444,
              "#bd3786"
             ],
             [
              0.5555555555555556,
              "#d8576b"
             ],
             [
              0.6666666666666666,
              "#ed7953"
             ],
             [
              0.7777777777777778,
              "#fb9f3a"
             ],
             [
              0.8888888888888888,
              "#fdca26"
             ],
             [
              1,
              "#f0f921"
             ]
            ],
            "type": "histogram2dcontour"
           }
          ],
          "mesh3d": [
           {
            "colorbar": {
             "outlinewidth": 0,
             "ticks": ""
            },
            "type": "mesh3d"
           }
          ],
          "parcoords": [
           {
            "line": {
             "colorbar": {
              "outlinewidth": 0,
              "ticks": ""
             }
            },
            "type": "parcoords"
           }
          ],
          "pie": [
           {
            "automargin": true,
            "type": "pie"
           }
          ],
          "scatter": [
           {
            "marker": {
             "colorbar": {
              "outlinewidth": 0,
              "ticks": ""
             }
            },
            "type": "scatter"
           }
          ],
          "scatter3d": [
           {
            "line": {
             "colorbar": {
              "outlinewidth": 0,
              "ticks": ""
             }
            },
            "marker": {
             "colorbar": {
              "outlinewidth": 0,
              "ticks": ""
             }
            },
            "type": "scatter3d"
           }
          ],
          "scattercarpet": [
           {
            "marker": {
             "colorbar": {
              "outlinewidth": 0,
              "ticks": ""
             }
            },
            "type": "scattercarpet"
           }
          ],
          "scattergeo": [
           {
            "marker": {
             "colorbar": {
              "outlinewidth": 0,
              "ticks": ""
             }
            },
            "type": "scattergeo"
           }
          ],
          "scattergl": [
           {
            "marker": {
             "colorbar": {
              "outlinewidth": 0,
              "ticks": ""
             }
            },
            "type": "scattergl"
           }
          ],
          "scattermapbox": [
           {
            "marker": {
             "colorbar": {
              "outlinewidth": 0,
              "ticks": ""
             }
            },
            "type": "scattermapbox"
           }
          ],
          "scatterpolar": [
           {
            "marker": {
             "colorbar": {
              "outlinewidth": 0,
              "ticks": ""
             }
            },
            "type": "scatterpolar"
           }
          ],
          "scatterpolargl": [
           {
            "marker": {
             "colorbar": {
              "outlinewidth": 0,
              "ticks": ""
             }
            },
            "type": "scatterpolargl"
           }
          ],
          "scatterternary": [
           {
            "marker": {
             "colorbar": {
              "outlinewidth": 0,
              "ticks": ""
             }
            },
            "type": "scatterternary"
           }
          ],
          "surface": [
           {
            "colorbar": {
             "outlinewidth": 0,
             "ticks": ""
            },
            "colorscale": [
             [
              0,
              "#0d0887"
             ],
             [
              0.1111111111111111,
              "#46039f"
             ],
             [
              0.2222222222222222,
              "#7201a8"
             ],
             [
              0.3333333333333333,
              "#9c179e"
             ],
             [
              0.4444444444444444,
              "#bd3786"
             ],
             [
              0.5555555555555556,
              "#d8576b"
             ],
             [
              0.6666666666666666,
              "#ed7953"
             ],
             [
              0.7777777777777778,
              "#fb9f3a"
             ],
             [
              0.8888888888888888,
              "#fdca26"
             ],
             [
              1,
              "#f0f921"
             ]
            ],
            "type": "surface"
           }
          ],
          "table": [
           {
            "cells": {
             "fill": {
              "color": "#EBF0F8"
             },
             "line": {
              "color": "white"
             }
            },
            "header": {
             "fill": {
              "color": "#C8D4E3"
             },
             "line": {
              "color": "white"
             }
            },
            "type": "table"
           }
          ]
         },
         "layout": {
          "annotationdefaults": {
           "arrowcolor": "#2a3f5f",
           "arrowhead": 0,
           "arrowwidth": 1
          },
          "coloraxis": {
           "colorbar": {
            "outlinewidth": 0,
            "ticks": ""
           }
          },
          "colorscale": {
           "diverging": [
            [
             0,
             "#8e0152"
            ],
            [
             0.1,
             "#c51b7d"
            ],
            [
             0.2,
             "#de77ae"
            ],
            [
             0.3,
             "#f1b6da"
            ],
            [
             0.4,
             "#fde0ef"
            ],
            [
             0.5,
             "#f7f7f7"
            ],
            [
             0.6,
             "#e6f5d0"
            ],
            [
             0.7,
             "#b8e186"
            ],
            [
             0.8,
             "#7fbc41"
            ],
            [
             0.9,
             "#4d9221"
            ],
            [
             1,
             "#276419"
            ]
           ],
           "sequential": [
            [
             0,
             "#0d0887"
            ],
            [
             0.1111111111111111,
             "#46039f"
            ],
            [
             0.2222222222222222,
             "#7201a8"
            ],
            [
             0.3333333333333333,
             "#9c179e"
            ],
            [
             0.4444444444444444,
             "#bd3786"
            ],
            [
             0.5555555555555556,
             "#d8576b"
            ],
            [
             0.6666666666666666,
             "#ed7953"
            ],
            [
             0.7777777777777778,
             "#fb9f3a"
            ],
            [
             0.8888888888888888,
             "#fdca26"
            ],
            [
             1,
             "#f0f921"
            ]
           ],
           "sequentialminus": [
            [
             0,
             "#0d0887"
            ],
            [
             0.1111111111111111,
             "#46039f"
            ],
            [
             0.2222222222222222,
             "#7201a8"
            ],
            [
             0.3333333333333333,
             "#9c179e"
            ],
            [
             0.4444444444444444,
             "#bd3786"
            ],
            [
             0.5555555555555556,
             "#d8576b"
            ],
            [
             0.6666666666666666,
             "#ed7953"
            ],
            [
             0.7777777777777778,
             "#fb9f3a"
            ],
            [
             0.8888888888888888,
             "#fdca26"
            ],
            [
             1,
             "#f0f921"
            ]
           ]
          },
          "colorway": [
           "#636efa",
           "#EF553B",
           "#00cc96",
           "#ab63fa",
           "#FFA15A",
           "#19d3f3",
           "#FF6692",
           "#B6E880",
           "#FF97FF",
           "#FECB52"
          ],
          "font": {
           "color": "#2a3f5f"
          },
          "geo": {
           "bgcolor": "white",
           "lakecolor": "white",
           "landcolor": "#E5ECF6",
           "showlakes": true,
           "showland": true,
           "subunitcolor": "white"
          },
          "hoverlabel": {
           "align": "left"
          },
          "hovermode": "closest",
          "mapbox": {
           "style": "light"
          },
          "paper_bgcolor": "white",
          "plot_bgcolor": "#E5ECF6",
          "polar": {
           "angularaxis": {
            "gridcolor": "white",
            "linecolor": "white",
            "ticks": ""
           },
           "bgcolor": "#E5ECF6",
           "radialaxis": {
            "gridcolor": "white",
            "linecolor": "white",
            "ticks": ""
           }
          },
          "scene": {
           "xaxis": {
            "backgroundcolor": "#E5ECF6",
            "gridcolor": "white",
            "gridwidth": 2,
            "linecolor": "white",
            "showbackground": true,
            "ticks": "",
            "zerolinecolor": "white"
           },
           "yaxis": {
            "backgroundcolor": "#E5ECF6",
            "gridcolor": "white",
            "gridwidth": 2,
            "linecolor": "white",
            "showbackground": true,
            "ticks": "",
            "zerolinecolor": "white"
           },
           "zaxis": {
            "backgroundcolor": "#E5ECF6",
            "gridcolor": "white",
            "gridwidth": 2,
            "linecolor": "white",
            "showbackground": true,
            "ticks": "",
            "zerolinecolor": "white"
           }
          },
          "shapedefaults": {
           "line": {
            "color": "#2a3f5f"
           }
          },
          "ternary": {
           "aaxis": {
            "gridcolor": "white",
            "linecolor": "white",
            "ticks": ""
           },
           "baxis": {
            "gridcolor": "white",
            "linecolor": "white",
            "ticks": ""
           },
           "bgcolor": "#E5ECF6",
           "caxis": {
            "gridcolor": "white",
            "linecolor": "white",
            "ticks": ""
           }
          },
          "title": {
           "x": 0.05
          },
          "xaxis": {
           "automargin": true,
           "gridcolor": "white",
           "linecolor": "white",
           "ticks": "",
           "title": {
            "standoff": 15
           },
           "zerolinecolor": "white",
           "zerolinewidth": 2
          },
          "yaxis": {
           "automargin": true,
           "gridcolor": "white",
           "linecolor": "white",
           "ticks": "",
           "title": {
            "standoff": 15
           },
           "zerolinecolor": "white",
           "zerolinewidth": 2
          }
         }
        }
       }
      }
     },
     "metadata": {}
    }
   ],
   "source": [
    "fig = px.scatter_mapbox(company_zip, 'Latitude', 'Longitude')\n",
    "fig.show()"
   ]
  },
  {
   "source": [
    "## Stations that are nearby high median income areas"
   ],
   "cell_type": "markdown",
   "metadata": {}
  },
  {
   "cell_type": "code",
   "execution_count": 379,
   "metadata": {},
   "outputs": [
    {
     "output_type": "execute_result",
     "data": {
      "text/plain": "           STATION  TOTAL_TRAFFIC  Latitude  Longitude ZIPCODE  POPULATION  \\\n0   34 ST-PENN STA      1195662.0   40.7523   -73.9934   10119          92   \n1  34 ST-HERALD SQ       991485.0   40.7496   -73.9879   10001       21102   \n2           125 ST       924473.0   40.8043   -73.9374   10035       33969   \n3            86 ST       892940.0   40.7795   -73.9555   10028       45141   \n4   14 ST-UNION SQ       833793.0   40.7358   -73.9906   10003       56024   \n\n   POPULATION_DEN  MEDIAN_INCOME  \n0          5592.0            NaN  \n1         33959.0        81671.0  \n2         24329.0        24533.0  \n3        143683.0       104638.0  \n4         97188.0        92540.0  ",
      "text/html": "<div>\n<style scoped>\n    .dataframe tbody tr th:only-of-type {\n        vertical-align: middle;\n    }\n\n    .dataframe tbody tr th {\n        vertical-align: top;\n    }\n\n    .dataframe thead th {\n        text-align: right;\n    }\n</style>\n<table border=\"1\" class=\"dataframe\">\n  <thead>\n    <tr style=\"text-align: right;\">\n      <th></th>\n      <th>STATION</th>\n      <th>TOTAL_TRAFFIC</th>\n      <th>Latitude</th>\n      <th>Longitude</th>\n      <th>ZIPCODE</th>\n      <th>POPULATION</th>\n      <th>POPULATION_DEN</th>\n      <th>MEDIAN_INCOME</th>\n    </tr>\n  </thead>\n  <tbody>\n    <tr>\n      <th>0</th>\n      <td>34 ST-PENN STA</td>\n      <td>1195662.0</td>\n      <td>40.7523</td>\n      <td>-73.9934</td>\n      <td>10119</td>\n      <td>92</td>\n      <td>5592.0</td>\n      <td>NaN</td>\n    </tr>\n    <tr>\n      <th>1</th>\n      <td>34 ST-HERALD SQ</td>\n      <td>991485.0</td>\n      <td>40.7496</td>\n      <td>-73.9879</td>\n      <td>10001</td>\n      <td>21102</td>\n      <td>33959.0</td>\n      <td>81671.0</td>\n    </tr>\n    <tr>\n      <th>2</th>\n      <td>125 ST</td>\n      <td>924473.0</td>\n      <td>40.8043</td>\n      <td>-73.9374</td>\n      <td>10035</td>\n      <td>33969</td>\n      <td>24329.0</td>\n      <td>24533.0</td>\n    </tr>\n    <tr>\n      <th>3</th>\n      <td>86 ST</td>\n      <td>892940.0</td>\n      <td>40.7795</td>\n      <td>-73.9555</td>\n      <td>10028</td>\n      <td>45141</td>\n      <td>143683.0</td>\n      <td>104638.0</td>\n    </tr>\n    <tr>\n      <th>4</th>\n      <td>14 ST-UNION SQ</td>\n      <td>833793.0</td>\n      <td>40.7358</td>\n      <td>-73.9906</td>\n      <td>10003</td>\n      <td>56024</td>\n      <td>97188.0</td>\n      <td>92540.0</td>\n    </tr>\n  </tbody>\n</table>\n</div>"
     },
     "metadata": {},
     "execution_count": 379
    }
   ],
   "source": [
    "# add zipcode / demographic data to the station_traffic data\n",
    "station_high_income = pd.merge(station_traffic, station_zip_demo, on='STATION', right_index=False)\n",
    "station_high_income.head()"
   ]
  },
  {
   "cell_type": "code",
   "execution_count": 381,
   "metadata": {},
   "outputs": [],
   "source": [
    "wealthiest_zip = ['10013', '10007', '10012', '10001', '10014', '10010', '10011', '10282', '10018']\n",
    "station_high_income =station_high_income[station_high_income['ZIPCODE'].isin(wealthiest_zip)].sort_values(ascending=False, by='MEDIAN_INCOME')"
   ]
  },
  {
   "cell_type": "code",
   "execution_count": 392,
   "metadata": {},
   "outputs": [
    {
     "output_type": "error",
     "ename": "ValueError",
     "evalue": "\n    Invalid value of type 'pandas.core.frame.DataFrame' received for the 'below' property of scattermapbox\n        Received value:              STATION  TOTAL_TRAFFIC  Latitude  Longitude ZIPCODE  POPULATION  \\\n215       PATH WTC 2        76671.0   40.7127   -74.0134   10282        4783   \n21      PATH NEW WTC       433834.0   40.7127   -74.0134   10282        4783   \n306       PARK PLACE        40609.0   40.7132   -74.0093   10007        6988   \n201            52 ST        82732.0   40.7127   -74.0060   10007        6988   \n332        CITY HALL        31491.0   40.7133   -74.0070   10007        6988   \n36       CHAMBERS ST       310541.0   40.7149   -74.0080   10007        6988   \n54              1 AV       247361.0   40.7127   -74.0060   10007        6988   \n138       CITY / BUS       116693.0   40.7127   -74.0060   10007        6988   \n64    CHRISTOPHER ST       210782.0   40.7330   -74.0069   10014       31959   \n11    TIMES SQ-42 ST       624200.0   40.7559   -73.9871   10018        5229   \n5    42 ST-PORT AUTH       811438.0   40.7573   -73.9897   10018        5229   \n123      14TH STREET       134288.0   40.7379   -74.0002   10011       50984   \n245  TWENTY THIRD ST        62663.0   40.7413   -73.9893   10011       50984   \n182         4AV-9 ST        89710.0   40.7341   -73.9996   10011       50984   \n330             6 AV        32442.0   40.7375   -73.9971   10011       50984   \n282            18 ST        46959.0   40.7410   -73.9979   10011       50984   \n46              8 AV       272407.0   40.7399   -74.0027   10011       50984   \n20             14 ST       438130.0   40.7379   -74.0002   10011       50984   \n7              23 ST       724791.0   40.7441   -73.9956   10011       50984   \n278       9TH STREET        48728.0   40.7341   -73.9996   10011       50984   \n129        SPRING ST       124876.0   40.7223   -73.9972   10012       24090   \n70   B'WAY-LAFAYETTE       200571.0   40.7253   -73.9962   10012       24090   \n153        PRINCE ST       103090.0   40.7243   -73.9977   10012       24090   \n29    W 4 ST-WASH SQ       335765.0   40.7316   -74.0010   10012       24090   \n211      BLEECKER ST        77511.0   40.7259   -73.9947   10012       24090   \n223       HOUSTON ST        73479.0   40.7286   -74.0053   10012       24090   \n346      FRANKLIN ST        26012.0   40.7189   -74.0066   10013       27700   \n110  THIRTY THIRD ST       142342.0   40.7486   -73.9887   10001       21102   \n79             33 ST       191673.0   40.7464   -73.9818   10001       21102   \n33             28 ST       323254.0   40.7472   -73.9934   10001       21102   \n1    34 ST-HERALD SQ       991485.0   40.7496   -73.9879   10001       21102   \n\n     POPULATION_DEN  MEDIAN_INCOME  \n215         54674.0       230952.0  \n21          54674.0       230952.0  \n306         42751.0       216037.0  \n201         42751.0       216037.0  \n332         42751.0       216037.0  \n36          42751.0       216037.0  \n54          42751.0       216037.0  \n138         42751.0       216037.0  \n64          56119.0       108483.0  \n11          16251.0       104635.0  \n5           16251.0       104635.0  \n123         77436.0       104238.0  \n245         77436.0       104238.0  \n182         77436.0       104238.0  \n330         77436.0       104238.0  \n282         77436.0       104238.0  \n46          77436.0       104238.0  \n20          77436.0       104238.0  \n7           77436.0       104238.0  \n278         77436.0       104238.0  \n129         74517.0        86594.0  \n70          74517.0        86594.0  \n153         74517.0        86594.0  \n29          74517.0        86594.0  \n211         74517.0        86594.0  \n223         74517.0        86594.0  \n346         50154.0        83725.0  \n110         33959.0        81671.0  \n79          33959.0        81671.0  \n33          33959.0        81671.0  \n1           33959.0        81671.0  \n\n    The 'below' property is a string and must be specified as:\n      - A string\n      - A number that will be converted to a string",
     "traceback": [
      "\u001b[0;31m---------------------------------------------------------------------------\u001b[0m",
      "\u001b[0;31mValueError\u001b[0m                                Traceback (most recent call last)",
      "\u001b[0;32m<ipython-input-392-3f1553a0af73>\u001b[0m in \u001b[0;36m<module>\u001b[0;34m\u001b[0m\n\u001b[1;32m      1\u001b[0m \u001b[0mfig\u001b[0m \u001b[0;34m=\u001b[0m \u001b[0mpx\u001b[0m\u001b[0;34m.\u001b[0m\u001b[0mscatter_mapbox\u001b[0m\u001b[0;34m(\u001b[0m\u001b[0mcompany_zip\u001b[0m\u001b[0;34m,\u001b[0m \u001b[0;34m'Latitude'\u001b[0m\u001b[0;34m,\u001b[0m \u001b[0;34m'Longitude'\u001b[0m\u001b[0;34m,\u001b[0m \u001b[0mmapbox_style\u001b[0m\u001b[0;34m=\u001b[0m\u001b[0;34m'carto-positron'\u001b[0m\u001b[0;34m)\u001b[0m\u001b[0;34m\u001b[0m\u001b[0;34m\u001b[0m\u001b[0m\n\u001b[0;32m----> 2\u001b[0;31m \u001b[0mfig\u001b[0m\u001b[0;34m.\u001b[0m\u001b[0madd_scattermapbox\u001b[0m\u001b[0;34m(\u001b[0m\u001b[0mstation_high_income\u001b[0m\u001b[0;34m,\u001b[0m \u001b[0;34m'Latitude'\u001b[0m\u001b[0;34m,\u001b[0m \u001b[0;34m'Longitude'\u001b[0m\u001b[0;34m,\u001b[0m \u001b[0mmapbox_style\u001b[0m\u001b[0;34m=\u001b[0m\u001b[0;34m'carto-positron'\u001b[0m\u001b[0;34m,\u001b[0m \u001b[0mcolor\u001b[0m\u001b[0;34m=\u001b[0m\u001b[0;34m'STATION'\u001b[0m\u001b[0;34m)\u001b[0m\u001b[0;34m\u001b[0m\u001b[0;34m\u001b[0m\u001b[0m\n\u001b[0m\u001b[1;32m      3\u001b[0m fig.update_layout(\n\u001b[1;32m      4\u001b[0m     \u001b[0mhovermode\u001b[0m\u001b[0;34m=\u001b[0m\u001b[0;34m'closest'\u001b[0m\u001b[0;34m,\u001b[0m\u001b[0;34m\u001b[0m\u001b[0;34m\u001b[0m\u001b[0m\n\u001b[1;32m      5\u001b[0m     mapbox=dict(\n",
      "\u001b[0;32m~/opt/anaconda3/lib/python3.7/site-packages/plotly/graph_objs/_figure.py\u001b[0m in \u001b[0;36madd_scattermapbox\u001b[0;34m(self, below, connectgaps, customdata, customdatasrc, fill, fillcolor, hoverinfo, hoverinfosrc, hoverlabel, hovertemplate, hovertemplatesrc, hovertext, hovertextsrc, ids, idssrc, lat, latsrc, legendgroup, line, lon, lonsrc, marker, meta, metasrc, mode, name, opacity, selected, selectedpoints, showlegend, stream, subplot, text, textfont, textposition, textsrc, texttemplate, texttemplatesrc, uid, uirevision, unselected, visible, row, col, **kwargs)\u001b[0m\n\u001b[1;32m  12675\u001b[0m             \u001b[0munselected\u001b[0m\u001b[0;34m=\u001b[0m\u001b[0munselected\u001b[0m\u001b[0;34m,\u001b[0m\u001b[0;34m\u001b[0m\u001b[0;34m\u001b[0m\u001b[0m\n\u001b[1;32m  12676\u001b[0m             \u001b[0mvisible\u001b[0m\u001b[0;34m=\u001b[0m\u001b[0mvisible\u001b[0m\u001b[0;34m,\u001b[0m\u001b[0;34m\u001b[0m\u001b[0;34m\u001b[0m\u001b[0m\n\u001b[0;32m> 12677\u001b[0;31m             \u001b[0;34m**\u001b[0m\u001b[0mkwargs\u001b[0m\u001b[0;34m\u001b[0m\u001b[0;34m\u001b[0m\u001b[0m\n\u001b[0m\u001b[1;32m  12678\u001b[0m         )\n\u001b[1;32m  12679\u001b[0m         \u001b[0;32mreturn\u001b[0m \u001b[0mself\u001b[0m\u001b[0;34m.\u001b[0m\u001b[0madd_trace\u001b[0m\u001b[0;34m(\u001b[0m\u001b[0mnew_trace\u001b[0m\u001b[0;34m,\u001b[0m \u001b[0mrow\u001b[0m\u001b[0;34m=\u001b[0m\u001b[0mrow\u001b[0m\u001b[0;34m,\u001b[0m \u001b[0mcol\u001b[0m\u001b[0;34m=\u001b[0m\u001b[0mcol\u001b[0m\u001b[0;34m)\u001b[0m\u001b[0;34m\u001b[0m\u001b[0;34m\u001b[0m\u001b[0m\n",
      "\u001b[0;32m~/opt/anaconda3/lib/python3.7/site-packages/plotly/graph_objs/_scattermapbox.py\u001b[0m in \u001b[0;36m__init__\u001b[0;34m(self, arg, below, connectgaps, customdata, customdatasrc, fill, fillcolor, hoverinfo, hoverinfosrc, hoverlabel, hovertemplate, hovertemplatesrc, hovertext, hovertextsrc, ids, idssrc, lat, latsrc, legendgroup, line, lon, lonsrc, marker, meta, metasrc, mode, name, opacity, selected, selectedpoints, showlegend, stream, subplot, text, textfont, textposition, textsrc, texttemplate, texttemplatesrc, uid, uirevision, unselected, visible, **kwargs)\u001b[0m\n\u001b[1;32m   1832\u001b[0m         \u001b[0m_v\u001b[0m \u001b[0;34m=\u001b[0m \u001b[0mbelow\u001b[0m \u001b[0;32mif\u001b[0m \u001b[0mbelow\u001b[0m \u001b[0;32mis\u001b[0m \u001b[0;32mnot\u001b[0m \u001b[0;32mNone\u001b[0m \u001b[0;32melse\u001b[0m \u001b[0m_v\u001b[0m\u001b[0;34m\u001b[0m\u001b[0;34m\u001b[0m\u001b[0m\n\u001b[1;32m   1833\u001b[0m         \u001b[0;32mif\u001b[0m \u001b[0m_v\u001b[0m \u001b[0;32mis\u001b[0m \u001b[0;32mnot\u001b[0m \u001b[0;32mNone\u001b[0m\u001b[0;34m:\u001b[0m\u001b[0;34m\u001b[0m\u001b[0;34m\u001b[0m\u001b[0m\n\u001b[0;32m-> 1834\u001b[0;31m             \u001b[0mself\u001b[0m\u001b[0;34m[\u001b[0m\u001b[0;34m\"below\"\u001b[0m\u001b[0;34m]\u001b[0m \u001b[0;34m=\u001b[0m \u001b[0m_v\u001b[0m\u001b[0;34m\u001b[0m\u001b[0;34m\u001b[0m\u001b[0m\n\u001b[0m\u001b[1;32m   1835\u001b[0m         \u001b[0m_v\u001b[0m \u001b[0;34m=\u001b[0m \u001b[0marg\u001b[0m\u001b[0;34m.\u001b[0m\u001b[0mpop\u001b[0m\u001b[0;34m(\u001b[0m\u001b[0;34m\"connectgaps\"\u001b[0m\u001b[0;34m,\u001b[0m \u001b[0;32mNone\u001b[0m\u001b[0;34m)\u001b[0m\u001b[0;34m\u001b[0m\u001b[0;34m\u001b[0m\u001b[0m\n\u001b[1;32m   1836\u001b[0m         \u001b[0m_v\u001b[0m \u001b[0;34m=\u001b[0m \u001b[0mconnectgaps\u001b[0m \u001b[0;32mif\u001b[0m \u001b[0mconnectgaps\u001b[0m \u001b[0;32mis\u001b[0m \u001b[0;32mnot\u001b[0m \u001b[0;32mNone\u001b[0m \u001b[0;32melse\u001b[0m \u001b[0m_v\u001b[0m\u001b[0;34m\u001b[0m\u001b[0;34m\u001b[0m\u001b[0m\n",
      "\u001b[0;32m~/opt/anaconda3/lib/python3.7/site-packages/plotly/basedatatypes.py\u001b[0m in \u001b[0;36m__setitem__\u001b[0;34m(self, prop, value)\u001b[0m\n\u001b[1;32m   4017\u001b[0m                 \u001b[0;31m# ### Handle simple property ###\u001b[0m\u001b[0;34m\u001b[0m\u001b[0;34m\u001b[0m\u001b[0;34m\u001b[0m\u001b[0m\n\u001b[1;32m   4018\u001b[0m                 \u001b[0;32melse\u001b[0m\u001b[0;34m:\u001b[0m\u001b[0;34m\u001b[0m\u001b[0;34m\u001b[0m\u001b[0m\n\u001b[0;32m-> 4019\u001b[0;31m                     \u001b[0mself\u001b[0m\u001b[0;34m.\u001b[0m\u001b[0m_set_prop\u001b[0m\u001b[0;34m(\u001b[0m\u001b[0mprop\u001b[0m\u001b[0;34m,\u001b[0m \u001b[0mvalue\u001b[0m\u001b[0;34m)\u001b[0m\u001b[0;34m\u001b[0m\u001b[0;34m\u001b[0m\u001b[0m\n\u001b[0m\u001b[1;32m   4020\u001b[0m             \u001b[0;32melse\u001b[0m\u001b[0;34m:\u001b[0m\u001b[0;34m\u001b[0m\u001b[0;34m\u001b[0m\u001b[0m\n\u001b[1;32m   4021\u001b[0m                 \u001b[0;31m# Make sure properties dict is initialized\u001b[0m\u001b[0;34m\u001b[0m\u001b[0;34m\u001b[0m\u001b[0;34m\u001b[0m\u001b[0m\n",
      "\u001b[0;32m~/opt/anaconda3/lib/python3.7/site-packages/plotly/basedatatypes.py\u001b[0m in \u001b[0;36m_set_prop\u001b[0;34m(self, prop, val)\u001b[0m\n\u001b[1;32m   4335\u001b[0m                 \u001b[0;32mreturn\u001b[0m\u001b[0;34m\u001b[0m\u001b[0;34m\u001b[0m\u001b[0m\n\u001b[1;32m   4336\u001b[0m             \u001b[0;32melse\u001b[0m\u001b[0;34m:\u001b[0m\u001b[0;34m\u001b[0m\u001b[0;34m\u001b[0m\u001b[0m\n\u001b[0;32m-> 4337\u001b[0;31m                 \u001b[0;32mraise\u001b[0m \u001b[0merr\u001b[0m\u001b[0;34m\u001b[0m\u001b[0;34m\u001b[0m\u001b[0m\n\u001b[0m\u001b[1;32m   4338\u001b[0m \u001b[0;34m\u001b[0m\u001b[0m\n\u001b[1;32m   4339\u001b[0m         \u001b[0;31m# val is None\u001b[0m\u001b[0;34m\u001b[0m\u001b[0;34m\u001b[0m\u001b[0;34m\u001b[0m\u001b[0m\n",
      "\u001b[0;32m~/opt/anaconda3/lib/python3.7/site-packages/plotly/basedatatypes.py\u001b[0m in \u001b[0;36m_set_prop\u001b[0;34m(self, prop, val)\u001b[0m\n\u001b[1;32m   4330\u001b[0m \u001b[0;34m\u001b[0m\u001b[0m\n\u001b[1;32m   4331\u001b[0m         \u001b[0;32mtry\u001b[0m\u001b[0;34m:\u001b[0m\u001b[0;34m\u001b[0m\u001b[0;34m\u001b[0m\u001b[0m\n\u001b[0;32m-> 4332\u001b[0;31m             \u001b[0mval\u001b[0m \u001b[0;34m=\u001b[0m \u001b[0mvalidator\u001b[0m\u001b[0;34m.\u001b[0m\u001b[0mvalidate_coerce\u001b[0m\u001b[0;34m(\u001b[0m\u001b[0mval\u001b[0m\u001b[0;34m)\u001b[0m\u001b[0;34m\u001b[0m\u001b[0;34m\u001b[0m\u001b[0m\n\u001b[0m\u001b[1;32m   4333\u001b[0m         \u001b[0;32mexcept\u001b[0m \u001b[0mValueError\u001b[0m \u001b[0;32mas\u001b[0m \u001b[0merr\u001b[0m\u001b[0;34m:\u001b[0m\u001b[0;34m\u001b[0m\u001b[0;34m\u001b[0m\u001b[0m\n\u001b[1;32m   4334\u001b[0m             \u001b[0;32mif\u001b[0m \u001b[0mself\u001b[0m\u001b[0;34m.\u001b[0m\u001b[0m_skip_invalid\u001b[0m\u001b[0;34m:\u001b[0m\u001b[0;34m\u001b[0m\u001b[0;34m\u001b[0m\u001b[0m\n",
      "\u001b[0;32m~/opt/anaconda3/lib/python3.7/site-packages/_plotly_utils/basevalidators.py\u001b[0m in \u001b[0;36mvalidate_coerce\u001b[0;34m(self, v)\u001b[0m\n\u001b[1;32m   1080\u001b[0m                     \u001b[0mv\u001b[0m \u001b[0;34m=\u001b[0m \u001b[0mstr\u001b[0m\u001b[0;34m(\u001b[0m\u001b[0mv\u001b[0m\u001b[0;34m)\u001b[0m\u001b[0;34m\u001b[0m\u001b[0;34m\u001b[0m\u001b[0m\n\u001b[1;32m   1081\u001b[0m                 \u001b[0;32melse\u001b[0m\u001b[0;34m:\u001b[0m\u001b[0;34m\u001b[0m\u001b[0;34m\u001b[0m\u001b[0m\n\u001b[0;32m-> 1082\u001b[0;31m                     \u001b[0mself\u001b[0m\u001b[0;34m.\u001b[0m\u001b[0mraise_invalid_val\u001b[0m\u001b[0;34m(\u001b[0m\u001b[0mv\u001b[0m\u001b[0;34m)\u001b[0m\u001b[0;34m\u001b[0m\u001b[0;34m\u001b[0m\u001b[0m\n\u001b[0m\u001b[1;32m   1083\u001b[0m \u001b[0;34m\u001b[0m\u001b[0m\n\u001b[1;32m   1084\u001b[0m             \u001b[0;32mif\u001b[0m \u001b[0mself\u001b[0m\u001b[0;34m.\u001b[0m\u001b[0mno_blank\u001b[0m \u001b[0;32mand\u001b[0m \u001b[0mlen\u001b[0m\u001b[0;34m(\u001b[0m\u001b[0mv\u001b[0m\u001b[0;34m)\u001b[0m \u001b[0;34m==\u001b[0m \u001b[0;36m0\u001b[0m\u001b[0;34m:\u001b[0m\u001b[0;34m\u001b[0m\u001b[0;34m\u001b[0m\u001b[0m\n",
      "\u001b[0;32m~/opt/anaconda3/lib/python3.7/site-packages/_plotly_utils/basevalidators.py\u001b[0m in \u001b[0;36mraise_invalid_val\u001b[0;34m(self, v, inds)\u001b[0m\n\u001b[1;32m    283\u001b[0m                 \u001b[0mtyp\u001b[0m\u001b[0;34m=\u001b[0m\u001b[0mtype_str\u001b[0m\u001b[0;34m(\u001b[0m\u001b[0mv\u001b[0m\u001b[0;34m)\u001b[0m\u001b[0;34m,\u001b[0m\u001b[0;34m\u001b[0m\u001b[0;34m\u001b[0m\u001b[0m\n\u001b[1;32m    284\u001b[0m                 \u001b[0mv\u001b[0m\u001b[0;34m=\u001b[0m\u001b[0mrepr\u001b[0m\u001b[0;34m(\u001b[0m\u001b[0mv\u001b[0m\u001b[0;34m)\u001b[0m\u001b[0;34m,\u001b[0m\u001b[0;34m\u001b[0m\u001b[0;34m\u001b[0m\u001b[0m\n\u001b[0;32m--> 285\u001b[0;31m                 \u001b[0mvalid_clr_desc\u001b[0m\u001b[0;34m=\u001b[0m\u001b[0mself\u001b[0m\u001b[0;34m.\u001b[0m\u001b[0mdescription\u001b[0m\u001b[0;34m(\u001b[0m\u001b[0;34m)\u001b[0m\u001b[0;34m,\u001b[0m\u001b[0;34m\u001b[0m\u001b[0;34m\u001b[0m\u001b[0m\n\u001b[0m\u001b[1;32m    286\u001b[0m             )\n\u001b[1;32m    287\u001b[0m         )\n",
      "\u001b[0;31mValueError\u001b[0m: \n    Invalid value of type 'pandas.core.frame.DataFrame' received for the 'below' property of scattermapbox\n        Received value:              STATION  TOTAL_TRAFFIC  Latitude  Longitude ZIPCODE  POPULATION  \\\n215       PATH WTC 2        76671.0   40.7127   -74.0134   10282        4783   \n21      PATH NEW WTC       433834.0   40.7127   -74.0134   10282        4783   \n306       PARK PLACE        40609.0   40.7132   -74.0093   10007        6988   \n201            52 ST        82732.0   40.7127   -74.0060   10007        6988   \n332        CITY HALL        31491.0   40.7133   -74.0070   10007        6988   \n36       CHAMBERS ST       310541.0   40.7149   -74.0080   10007        6988   \n54              1 AV       247361.0   40.7127   -74.0060   10007        6988   \n138       CITY / BUS       116693.0   40.7127   -74.0060   10007        6988   \n64    CHRISTOPHER ST       210782.0   40.7330   -74.0069   10014       31959   \n11    TIMES SQ-42 ST       624200.0   40.7559   -73.9871   10018        5229   \n5    42 ST-PORT AUTH       811438.0   40.7573   -73.9897   10018        5229   \n123      14TH STREET       134288.0   40.7379   -74.0002   10011       50984   \n245  TWENTY THIRD ST        62663.0   40.7413   -73.9893   10011       50984   \n182         4AV-9 ST        89710.0   40.7341   -73.9996   10011       50984   \n330             6 AV        32442.0   40.7375   -73.9971   10011       50984   \n282            18 ST        46959.0   40.7410   -73.9979   10011       50984   \n46              8 AV       272407.0   40.7399   -74.0027   10011       50984   \n20             14 ST       438130.0   40.7379   -74.0002   10011       50984   \n7              23 ST       724791.0   40.7441   -73.9956   10011       50984   \n278       9TH STREET        48728.0   40.7341   -73.9996   10011       50984   \n129        SPRING ST       124876.0   40.7223   -73.9972   10012       24090   \n70   B'WAY-LAFAYETTE       200571.0   40.7253   -73.9962   10012       24090   \n153        PRINCE ST       103090.0   40.7243   -73.9977   10012       24090   \n29    W 4 ST-WASH SQ       335765.0   40.7316   -74.0010   10012       24090   \n211      BLEECKER ST        77511.0   40.7259   -73.9947   10012       24090   \n223       HOUSTON ST        73479.0   40.7286   -74.0053   10012       24090   \n346      FRANKLIN ST        26012.0   40.7189   -74.0066   10013       27700   \n110  THIRTY THIRD ST       142342.0   40.7486   -73.9887   10001       21102   \n79             33 ST       191673.0   40.7464   -73.9818   10001       21102   \n33             28 ST       323254.0   40.7472   -73.9934   10001       21102   \n1    34 ST-HERALD SQ       991485.0   40.7496   -73.9879   10001       21102   \n\n     POPULATION_DEN  MEDIAN_INCOME  \n215         54674.0       230952.0  \n21          54674.0       230952.0  \n306         42751.0       216037.0  \n201         42751.0       216037.0  \n332         42751.0       216037.0  \n36          42751.0       216037.0  \n54          42751.0       216037.0  \n138         42751.0       216037.0  \n64          56119.0       108483.0  \n11          16251.0       104635.0  \n5           16251.0       104635.0  \n123         77436.0       104238.0  \n245         77436.0       104238.0  \n182         77436.0       104238.0  \n330         77436.0       104238.0  \n282         77436.0       104238.0  \n46          77436.0       104238.0  \n20          77436.0       104238.0  \n7           77436.0       104238.0  \n278         77436.0       104238.0  \n129         74517.0        86594.0  \n70          74517.0        86594.0  \n153         74517.0        86594.0  \n29          74517.0        86594.0  \n211         74517.0        86594.0  \n223         74517.0        86594.0  \n346         50154.0        83725.0  \n110         33959.0        81671.0  \n79          33959.0        81671.0  \n33          33959.0        81671.0  \n1           33959.0        81671.0  \n\n    The 'below' property is a string and must be specified as:\n      - A string\n      - A number that will be converted to a string"
     ]
    }
   ],
   "source": [
    "fig = px.scatter_mapbox(company_zip, 'Latitude', 'Longitude', mapbox_style='carto-positron')\n",
    "fig.add_scattermapbox(station_high_income, 'Latitude', 'Longitude', mapbox_style='carto-positron', color='STATION')\n",
    "fig.update_layout(\n",
    "    hovermode='closest',\n",
    "    mapbox=dict(\n",
    "        bearing=0,\n",
    "        center=go.layout.mapbox.Center(\n",
    "            lat=40.75,\n",
    "            lon=-73.97\n",
    "        ),\n",
    "        pitch=0,\n",
    "        zoom=11\n",
    "    )\n",
    ")\n",
    "\n",
    "fig.show()"
   ]
  },
  {
   "source": [
    "# Preprocess MTA data"
   ],
   "cell_type": "markdown",
   "metadata": {}
  },
  {
   "source": [
    "# remove trailing spaces in column names\n",
    "mta.columns = [col.strip() for col in mta.columns]\n",
    "\n",
    "# create a single new column with Date and Time combined\n",
    "mta['DATETIME'] = pd.to_datetime(mta['DATE'] + \" \" + mta['TIME'])\n",
    "\n",
    "# Get rid of the duplicate entry\n",
    "mta.sort_values([\"C/A\", \"UNIT\", \"SCP\", \"STATION\", \"DATETIME\"], inplace=True, ascending=False)\n",
    "mta.drop_duplicates(subset=[\"C/A\", \"UNIT\", \"SCP\", \"STATION\", \"DATETIME\"], inplace=True)\n"
   ],
   "cell_type": "code",
   "metadata": {},
   "execution_count": 580,
   "outputs": []
  },
  {
   "source": [
    "# MTA Data Analysis"
   ],
   "cell_type": "markdown",
   "metadata": {}
  },
  {
   "source": [
    "## Entries / Exits"
   ],
   "cell_type": "markdown",
   "metadata": {}
  },
  {
   "cell_type": "code",
   "execution_count": 581,
   "metadata": {},
   "outputs": [],
   "source": [
    "# group by unique turnstile identifiers\n",
    "# take the minimum entry value \n",
    "entries_by_date = mta.groupby(['C/A', 'UNIT', 'SCP', 'STATION', 'DATETIME'])['ENTRIES', 'EXITS'].min().reset_index()"
   ]
  },
  {
   "cell_type": "code",
   "execution_count": 582,
   "metadata": {},
   "outputs": [],
   "source": [
    "# shift the rows down by one and create a previous entries/exits on the same row\n",
    "entries_by_date[[\"PREV_DATE\", 'PREV_ENTRIES', 'PREV_EXITS']] = (entries_by_date.groupby([\"C/A\", \"UNIT\", \"SCP\", \"STATION\"])[\"DATETIME\", 'ENTRIES', 'EXITS'].apply(lambda x: x.shift(1)))\n"
   ]
  },
  {
   "cell_type": "code",
   "execution_count": 583,
   "metadata": {},
   "outputs": [],
   "source": [
    "# Drop the rows for the earliest date in the data\n",
    "entries_by_date.dropna(subset=[\"PREV_DATE\"], axis=0, inplace=True)"
   ]
  },
  {
   "cell_type": "code",
   "execution_count": 584,
   "metadata": {},
   "outputs": [],
   "source": [
    "entries_by_date['DAILY_ENTRIES'] = entries_by_date['ENTRIES']-entries_by_date['PREV_ENTRIES']\n",
    "entries_by_date['DAILY_EXITS'] = entries_by_date['EXITS'] - entries_by_date['PREV_EXITS']"
   ]
  },
  {
   "cell_type": "code",
   "execution_count": 585,
   "metadata": {},
   "outputs": [],
   "source": [
    "# set negative entry values to positive values \n",
    "entries_by_date['DAILY_ENTRIES'] = entries_by_date['DAILY_ENTRIES'].apply(lambda x: abs(x) if x<0 else x)\n",
    "entries_by_date['DAILY_EXITS'] = entries_by_date['DAILY_EXITS'].apply(lambda x: abs(x) if x<0 else x)"
   ]
  },
  {
   "cell_type": "code",
   "execution_count": 586,
   "metadata": {},
   "outputs": [],
   "source": [
    "# set excessively large entries to NaN\n",
    "entries_by_date.loc[(entries_by_date['DAILY_ENTRIES']>100000) | (entries_by_date['DAILY_ENTRIES']==0)] = np.nan\n",
    "entries_by_date.loc[(entries_by_date['DAILY_EXITS']>100000) | (entries_by_date['DAILY_EXITS']==0)] = np.nan\n"
   ]
  },
  {
   "cell_type": "code",
   "execution_count": 587,
   "metadata": {},
   "outputs": [],
   "source": [
    "# add up daily entries and exits to get total traffic\n",
    "entries_by_date['TOTAL_TRAFFIC'] = entries_by_date['DAILY_ENTRIES'] + entries_by_date['DAILY_EXITS']"
   ]
  },
  {
   "source": [
    "## Group by station / total traffic for september "
   ],
   "cell_type": "markdown",
   "metadata": {}
  },
  {
   "cell_type": "code",
   "execution_count": 588,
   "metadata": {},
   "outputs": [
    {
     "output_type": "execute_result",
     "data": {
      "text/plain": "           STATION  TOTAL_TRAFFIC\n0   34 ST-PENN STA      1271545.0\n1  34 ST-HERALD SQ      1039988.0\n2           125 ST       972648.0\n3            86 ST       950062.0\n4   14 ST-UNION SQ       878973.0\n5  GRD CNTRL-42 ST       872828.0\n6  42 ST-PORT AUTH       852579.0\n7            23 ST       765142.0\n8    FLUSHING-MAIN       751172.0\n9        FULTON ST       704916.0",
      "text/html": "<div>\n<style scoped>\n    .dataframe tbody tr th:only-of-type {\n        vertical-align: middle;\n    }\n\n    .dataframe tbody tr th {\n        vertical-align: top;\n    }\n\n    .dataframe thead th {\n        text-align: right;\n    }\n</style>\n<table border=\"1\" class=\"dataframe\">\n  <thead>\n    <tr style=\"text-align: right;\">\n      <th></th>\n      <th>STATION</th>\n      <th>TOTAL_TRAFFIC</th>\n    </tr>\n  </thead>\n  <tbody>\n    <tr>\n      <th>0</th>\n      <td>34 ST-PENN STA</td>\n      <td>1271545.0</td>\n    </tr>\n    <tr>\n      <th>1</th>\n      <td>34 ST-HERALD SQ</td>\n      <td>1039988.0</td>\n    </tr>\n    <tr>\n      <th>2</th>\n      <td>125 ST</td>\n      <td>972648.0</td>\n    </tr>\n    <tr>\n      <th>3</th>\n      <td>86 ST</td>\n      <td>950062.0</td>\n    </tr>\n    <tr>\n      <th>4</th>\n      <td>14 ST-UNION SQ</td>\n      <td>878973.0</td>\n    </tr>\n    <tr>\n      <th>5</th>\n      <td>GRD CNTRL-42 ST</td>\n      <td>872828.0</td>\n    </tr>\n    <tr>\n      <th>6</th>\n      <td>42 ST-PORT AUTH</td>\n      <td>852579.0</td>\n    </tr>\n    <tr>\n      <th>7</th>\n      <td>23 ST</td>\n      <td>765142.0</td>\n    </tr>\n    <tr>\n      <th>8</th>\n      <td>FLUSHING-MAIN</td>\n      <td>751172.0</td>\n    </tr>\n    <tr>\n      <th>9</th>\n      <td>FULTON ST</td>\n      <td>704916.0</td>\n    </tr>\n  </tbody>\n</table>\n</div>"
     },
     "metadata": {},
     "execution_count": 588
    }
   ],
   "source": [
    "# group by station to get total entries for the month of september for each station\n",
    "station_traffic = entries_by_date.groupby('STATION')['TOTAL_TRAFFIC'].sum().sort_values(ascending=False).reset_index()\n",
    "station_traffic.head(10)"
   ]
  },
  {
   "cell_type": "code",
   "execution_count": 465,
   "metadata": {},
   "outputs": [
    {
     "output_type": "display_data",
     "data": {
      "text/plain": "<Figure size 720x216 with 1 Axes>",
      "image/svg+xml": "<?xml version=\"1.0\" encoding=\"utf-8\" standalone=\"no\"?>\n<!DOCTYPE svg PUBLIC \"-//W3C//DTD SVG 1.1//EN\"\n  \"http://www.w3.org/Graphics/SVG/1.1/DTD/svg11.dtd\">\n<!-- Created with matplotlib (https://matplotlib.org/) -->\n<svg height=\"215.758125pt\" version=\"1.1\" viewBox=\"0 0 669.859375 215.758125\" width=\"669.859375pt\" xmlns=\"http://www.w3.org/2000/svg\" xmlns:xlink=\"http://www.w3.org/1999/xlink\">\n <metadata>\n  <rdf:RDF xmlns:cc=\"http://creativecommons.org/ns#\" xmlns:dc=\"http://purl.org/dc/elements/1.1/\" xmlns:rdf=\"http://www.w3.org/1999/02/22-rdf-syntax-ns#\">\n   <cc:Work>\n    <dc:type rdf:resource=\"http://purl.org/dc/dcmitype/StillImage\"/>\n    <dc:date>2020-09-27T11:37:02.178538</dc:date>\n    <dc:format>image/svg+xml</dc:format>\n    <dc:creator>\n     <cc:Agent>\n      <dc:title>Matplotlib v3.3.1, https://matplotlib.org/</dc:title>\n     </cc:Agent>\n    </dc:creator>\n   </cc:Work>\n  </rdf:RDF>\n </metadata>\n <defs>\n  <style type=\"text/css\">*{stroke-linecap:butt;stroke-linejoin:round;}</style>\n </defs>\n <g id=\"figure_1\">\n  <g id=\"patch_1\">\n   <path d=\"M 0 215.758125 \nL 669.859375 215.758125 \nL 669.859375 -0 \nL 0 -0 \nz\n\" style=\"fill:none;\"/>\n  </g>\n  <g id=\"axes_1\">\n   <g id=\"patch_2\">\n    <path d=\"M 104.659375 191.88 \nL 662.659375 191.88 \nL 662.659375 28.8 \nL 104.659375 28.8 \nz\n\" style=\"fill:#ffffff;\"/>\n   </g>\n   <g id=\"patch_3\">\n    <path clip-path=\"url(#p4e80898a42)\" d=\"M 104.659375 36.212727 \nL 636.087946 36.212727 \nL 636.087946 48.315139 \nL 104.659375 48.315139 \nz\n\" style=\"fill:#1f77b4;\"/>\n   </g>\n   <g id=\"patch_4\">\n    <path clip-path=\"url(#p4e80898a42)\" d=\"M 104.659375 51.340742 \nL 539.311186 51.340742 \nL 539.311186 63.443154 \nL 104.659375 63.443154 \nz\n\" style=\"fill:#1f77b4;\"/>\n   </g>\n   <g id=\"patch_5\">\n    <path clip-path=\"url(#p4e80898a42)\" d=\"M 104.659375 66.468757 \nL 511.167157 66.468757 \nL 511.167157 78.571169 \nL 104.659375 78.571169 \nz\n\" style=\"fill:#1f77b4;\"/>\n   </g>\n   <g id=\"patch_6\">\n    <path clip-path=\"url(#p4e80898a42)\" d=\"M 104.659375 81.596772 \nL 501.727581 81.596772 \nL 501.727581 93.699184 \nL 104.659375 93.699184 \nz\n\" style=\"fill:#1f77b4;\"/>\n   </g>\n   <g id=\"patch_7\">\n    <path clip-path=\"url(#p4e80898a42)\" d=\"M 104.659375 96.724787 \nL 472.016697 96.724787 \nL 472.016697 108.827199 \nL 104.659375 108.827199 \nz\n\" style=\"fill:#1f77b4;\"/>\n   </g>\n   <g id=\"patch_8\">\n    <path clip-path=\"url(#p4e80898a42)\" d=\"M 104.659375 111.852801 \nL 469.44846 111.852801 \nL 469.44846 123.955213 \nL 104.659375 123.955213 \nz\n\" style=\"fill:#1f77b4;\"/>\n   </g>\n   <g id=\"patch_9\">\n    <path clip-path=\"url(#p4e80898a42)\" d=\"M 104.659375 126.980816 \nL 460.985608 126.980816 \nL 460.985608 139.083228 \nL 104.659375 139.083228 \nz\n\" style=\"fill:#1f77b4;\"/>\n   </g>\n   <g id=\"patch_10\">\n    <path clip-path=\"url(#p4e80898a42)\" d=\"M 104.659375 142.108831 \nL 424.442253 142.108831 \nL 424.442253 154.211243 \nL 104.659375 154.211243 \nz\n\" style=\"fill:#1f77b4;\"/>\n   </g>\n   <g id=\"patch_11\">\n    <path clip-path=\"url(#p4e80898a42)\" d=\"M 104.659375 157.236846 \nL 418.603642 157.236846 \nL 418.603642 169.339258 \nL 104.659375 169.339258 \nz\n\" style=\"fill:#1f77b4;\"/>\n   </g>\n   <g id=\"patch_12\">\n    <path clip-path=\"url(#p4e80898a42)\" d=\"M 104.659375 172.364861 \nL 399.271444 172.364861 \nL 399.271444 184.467273 \nL 104.659375 184.467273 \nz\n\" style=\"fill:#1f77b4;\"/>\n   </g>\n   <g id=\"matplotlib.axis_1\">\n    <g id=\"xtick_1\">\n     <g id=\"line2d_1\">\n      <defs>\n       <path d=\"M 0 0 \nL 0 3.5 \n\" id=\"m5b23548b39\" style=\"stroke:#000000;stroke-width:0.8;\"/>\n      </defs>\n      <g>\n       <use style=\"stroke:#000000;stroke-width:0.8;\" x=\"104.659375\" xlink:href=\"#m5b23548b39\" y=\"191.88\"/>\n      </g>\n     </g>\n     <g id=\"text_1\">\n      <!-- 0 -->\n      <g transform=\"translate(101.478125 206.478438)scale(0.1 -0.1)\">\n       <defs>\n        <path d=\"M 31.78125 66.40625 \nQ 24.171875 66.40625 20.328125 58.90625 \nQ 16.5 51.421875 16.5 36.375 \nQ 16.5 21.390625 20.328125 13.890625 \nQ 24.171875 6.390625 31.78125 6.390625 \nQ 39.453125 6.390625 43.28125 13.890625 \nQ 47.125 21.390625 47.125 36.375 \nQ 47.125 51.421875 43.28125 58.90625 \nQ 39.453125 66.40625 31.78125 66.40625 \nz\nM 31.78125 74.21875 \nQ 44.046875 74.21875 50.515625 64.515625 \nQ 56.984375 54.828125 56.984375 36.375 \nQ 56.984375 17.96875 50.515625 8.265625 \nQ 44.046875 -1.421875 31.78125 -1.421875 \nQ 19.53125 -1.421875 13.0625 8.265625 \nQ 6.59375 17.96875 6.59375 36.375 \nQ 6.59375 54.828125 13.0625 64.515625 \nQ 19.53125 74.21875 31.78125 74.21875 \nz\n\" id=\"DejaVuSans-48\"/>\n       </defs>\n       <use xlink:href=\"#DejaVuSans-48\"/>\n      </g>\n     </g>\n    </g>\n    <g id=\"xtick_2\">\n     <g id=\"line2d_2\">\n      <g>\n       <use style=\"stroke:#000000;stroke-width:0.8;\" x=\"188.247226\" xlink:href=\"#m5b23548b39\" y=\"191.88\"/>\n      </g>\n     </g>\n     <g id=\"text_2\">\n      <!-- 200000 -->\n      <g transform=\"translate(169.159726 206.478438)scale(0.1 -0.1)\">\n       <defs>\n        <path d=\"M 19.1875 8.296875 \nL 53.609375 8.296875 \nL 53.609375 0 \nL 7.328125 0 \nL 7.328125 8.296875 \nQ 12.9375 14.109375 22.625 23.890625 \nQ 32.328125 33.6875 34.8125 36.53125 \nQ 39.546875 41.84375 41.421875 45.53125 \nQ 43.3125 49.21875 43.3125 52.78125 \nQ 43.3125 58.59375 39.234375 62.25 \nQ 35.15625 65.921875 28.609375 65.921875 \nQ 23.96875 65.921875 18.8125 64.3125 \nQ 13.671875 62.703125 7.8125 59.421875 \nL 7.8125 69.390625 \nQ 13.765625 71.78125 18.9375 73 \nQ 24.125 74.21875 28.421875 74.21875 \nQ 39.75 74.21875 46.484375 68.546875 \nQ 53.21875 62.890625 53.21875 53.421875 \nQ 53.21875 48.921875 51.53125 44.890625 \nQ 49.859375 40.875 45.40625 35.40625 \nQ 44.1875 33.984375 37.640625 27.21875 \nQ 31.109375 20.453125 19.1875 8.296875 \nz\n\" id=\"DejaVuSans-50\"/>\n       </defs>\n       <use xlink:href=\"#DejaVuSans-50\"/>\n       <use x=\"63.623047\" xlink:href=\"#DejaVuSans-48\"/>\n       <use x=\"127.246094\" xlink:href=\"#DejaVuSans-48\"/>\n       <use x=\"190.869141\" xlink:href=\"#DejaVuSans-48\"/>\n       <use x=\"254.492188\" xlink:href=\"#DejaVuSans-48\"/>\n       <use x=\"318.115234\" xlink:href=\"#DejaVuSans-48\"/>\n      </g>\n     </g>\n    </g>\n    <g id=\"xtick_3\">\n     <g id=\"line2d_3\">\n      <g>\n       <use style=\"stroke:#000000;stroke-width:0.8;\" x=\"271.835077\" xlink:href=\"#m5b23548b39\" y=\"191.88\"/>\n      </g>\n     </g>\n     <g id=\"text_3\">\n      <!-- 400000 -->\n      <g transform=\"translate(252.747577 206.478438)scale(0.1 -0.1)\">\n       <defs>\n        <path d=\"M 37.796875 64.3125 \nL 12.890625 25.390625 \nL 37.796875 25.390625 \nz\nM 35.203125 72.90625 \nL 47.609375 72.90625 \nL 47.609375 25.390625 \nL 58.015625 25.390625 \nL 58.015625 17.1875 \nL 47.609375 17.1875 \nL 47.609375 0 \nL 37.796875 0 \nL 37.796875 17.1875 \nL 4.890625 17.1875 \nL 4.890625 26.703125 \nz\n\" id=\"DejaVuSans-52\"/>\n       </defs>\n       <use xlink:href=\"#DejaVuSans-52\"/>\n       <use x=\"63.623047\" xlink:href=\"#DejaVuSans-48\"/>\n       <use x=\"127.246094\" xlink:href=\"#DejaVuSans-48\"/>\n       <use x=\"190.869141\" xlink:href=\"#DejaVuSans-48\"/>\n       <use x=\"254.492188\" xlink:href=\"#DejaVuSans-48\"/>\n       <use x=\"318.115234\" xlink:href=\"#DejaVuSans-48\"/>\n      </g>\n     </g>\n    </g>\n    <g id=\"xtick_4\">\n     <g id=\"line2d_4\">\n      <g>\n       <use style=\"stroke:#000000;stroke-width:0.8;\" x=\"355.422929\" xlink:href=\"#m5b23548b39\" y=\"191.88\"/>\n      </g>\n     </g>\n     <g id=\"text_4\">\n      <!-- 600000 -->\n      <g transform=\"translate(336.335429 206.478438)scale(0.1 -0.1)\">\n       <defs>\n        <path d=\"M 33.015625 40.375 \nQ 26.375 40.375 22.484375 35.828125 \nQ 18.609375 31.296875 18.609375 23.390625 \nQ 18.609375 15.53125 22.484375 10.953125 \nQ 26.375 6.390625 33.015625 6.390625 \nQ 39.65625 6.390625 43.53125 10.953125 \nQ 47.40625 15.53125 47.40625 23.390625 \nQ 47.40625 31.296875 43.53125 35.828125 \nQ 39.65625 40.375 33.015625 40.375 \nz\nM 52.59375 71.296875 \nL 52.59375 62.3125 \nQ 48.875 64.0625 45.09375 64.984375 \nQ 41.3125 65.921875 37.59375 65.921875 \nQ 27.828125 65.921875 22.671875 59.328125 \nQ 17.53125 52.734375 16.796875 39.40625 \nQ 19.671875 43.65625 24.015625 45.921875 \nQ 28.375 48.1875 33.59375 48.1875 \nQ 44.578125 48.1875 50.953125 41.515625 \nQ 57.328125 34.859375 57.328125 23.390625 \nQ 57.328125 12.15625 50.6875 5.359375 \nQ 44.046875 -1.421875 33.015625 -1.421875 \nQ 20.359375 -1.421875 13.671875 8.265625 \nQ 6.984375 17.96875 6.984375 36.375 \nQ 6.984375 53.65625 15.1875 63.9375 \nQ 23.390625 74.21875 37.203125 74.21875 \nQ 40.921875 74.21875 44.703125 73.484375 \nQ 48.484375 72.75 52.59375 71.296875 \nz\n\" id=\"DejaVuSans-54\"/>\n       </defs>\n       <use xlink:href=\"#DejaVuSans-54\"/>\n       <use x=\"63.623047\" xlink:href=\"#DejaVuSans-48\"/>\n       <use x=\"127.246094\" xlink:href=\"#DejaVuSans-48\"/>\n       <use x=\"190.869141\" xlink:href=\"#DejaVuSans-48\"/>\n       <use x=\"254.492188\" xlink:href=\"#DejaVuSans-48\"/>\n       <use x=\"318.115234\" xlink:href=\"#DejaVuSans-48\"/>\n      </g>\n     </g>\n    </g>\n    <g id=\"xtick_5\">\n     <g id=\"line2d_5\">\n      <g>\n       <use style=\"stroke:#000000;stroke-width:0.8;\" x=\"439.01078\" xlink:href=\"#m5b23548b39\" y=\"191.88\"/>\n      </g>\n     </g>\n     <g id=\"text_5\">\n      <!-- 800000 -->\n      <g transform=\"translate(419.92328 206.478438)scale(0.1 -0.1)\">\n       <defs>\n        <path d=\"M 31.78125 34.625 \nQ 24.75 34.625 20.71875 30.859375 \nQ 16.703125 27.09375 16.703125 20.515625 \nQ 16.703125 13.921875 20.71875 10.15625 \nQ 24.75 6.390625 31.78125 6.390625 \nQ 38.8125 6.390625 42.859375 10.171875 \nQ 46.921875 13.96875 46.921875 20.515625 \nQ 46.921875 27.09375 42.890625 30.859375 \nQ 38.875 34.625 31.78125 34.625 \nz\nM 21.921875 38.8125 \nQ 15.578125 40.375 12.03125 44.71875 \nQ 8.5 49.078125 8.5 55.328125 \nQ 8.5 64.0625 14.71875 69.140625 \nQ 20.953125 74.21875 31.78125 74.21875 \nQ 42.671875 74.21875 48.875 69.140625 \nQ 55.078125 64.0625 55.078125 55.328125 \nQ 55.078125 49.078125 51.53125 44.71875 \nQ 48 40.375 41.703125 38.8125 \nQ 48.828125 37.15625 52.796875 32.3125 \nQ 56.78125 27.484375 56.78125 20.515625 \nQ 56.78125 9.90625 50.3125 4.234375 \nQ 43.84375 -1.421875 31.78125 -1.421875 \nQ 19.734375 -1.421875 13.25 4.234375 \nQ 6.78125 9.90625 6.78125 20.515625 \nQ 6.78125 27.484375 10.78125 32.3125 \nQ 14.796875 37.15625 21.921875 38.8125 \nz\nM 18.3125 54.390625 \nQ 18.3125 48.734375 21.84375 45.5625 \nQ 25.390625 42.390625 31.78125 42.390625 \nQ 38.140625 42.390625 41.71875 45.5625 \nQ 45.3125 48.734375 45.3125 54.390625 \nQ 45.3125 60.0625 41.71875 63.234375 \nQ 38.140625 66.40625 31.78125 66.40625 \nQ 25.390625 66.40625 21.84375 63.234375 \nQ 18.3125 60.0625 18.3125 54.390625 \nz\n\" id=\"DejaVuSans-56\"/>\n       </defs>\n       <use xlink:href=\"#DejaVuSans-56\"/>\n       <use x=\"63.623047\" xlink:href=\"#DejaVuSans-48\"/>\n       <use x=\"127.246094\" xlink:href=\"#DejaVuSans-48\"/>\n       <use x=\"190.869141\" xlink:href=\"#DejaVuSans-48\"/>\n       <use x=\"254.492188\" xlink:href=\"#DejaVuSans-48\"/>\n       <use x=\"318.115234\" xlink:href=\"#DejaVuSans-48\"/>\n      </g>\n     </g>\n    </g>\n    <g id=\"xtick_6\">\n     <g id=\"line2d_6\">\n      <g>\n       <use style=\"stroke:#000000;stroke-width:0.8;\" x=\"522.598631\" xlink:href=\"#m5b23548b39\" y=\"191.88\"/>\n      </g>\n     </g>\n     <g id=\"text_6\">\n      <!-- 1000000 -->\n      <g transform=\"translate(500.329881 206.478438)scale(0.1 -0.1)\">\n       <defs>\n        <path d=\"M 12.40625 8.296875 \nL 28.515625 8.296875 \nL 28.515625 63.921875 \nL 10.984375 60.40625 \nL 10.984375 69.390625 \nL 28.421875 72.90625 \nL 38.28125 72.90625 \nL 38.28125 8.296875 \nL 54.390625 8.296875 \nL 54.390625 0 \nL 12.40625 0 \nz\n\" id=\"DejaVuSans-49\"/>\n       </defs>\n       <use xlink:href=\"#DejaVuSans-49\"/>\n       <use x=\"63.623047\" xlink:href=\"#DejaVuSans-48\"/>\n       <use x=\"127.246094\" xlink:href=\"#DejaVuSans-48\"/>\n       <use x=\"190.869141\" xlink:href=\"#DejaVuSans-48\"/>\n       <use x=\"254.492188\" xlink:href=\"#DejaVuSans-48\"/>\n       <use x=\"318.115234\" xlink:href=\"#DejaVuSans-48\"/>\n       <use x=\"381.738281\" xlink:href=\"#DejaVuSans-48\"/>\n      </g>\n     </g>\n    </g>\n    <g id=\"xtick_7\">\n     <g id=\"line2d_7\">\n      <g>\n       <use style=\"stroke:#000000;stroke-width:0.8;\" x=\"606.186482\" xlink:href=\"#m5b23548b39\" y=\"191.88\"/>\n      </g>\n     </g>\n     <g id=\"text_7\">\n      <!-- 1200000 -->\n      <g transform=\"translate(583.917732 206.478438)scale(0.1 -0.1)\">\n       <use xlink:href=\"#DejaVuSans-49\"/>\n       <use x=\"63.623047\" xlink:href=\"#DejaVuSans-50\"/>\n       <use x=\"127.246094\" xlink:href=\"#DejaVuSans-48\"/>\n       <use x=\"190.869141\" xlink:href=\"#DejaVuSans-48\"/>\n       <use x=\"254.492188\" xlink:href=\"#DejaVuSans-48\"/>\n       <use x=\"318.115234\" xlink:href=\"#DejaVuSans-48\"/>\n       <use x=\"381.738281\" xlink:href=\"#DejaVuSans-48\"/>\n      </g>\n     </g>\n    </g>\n   </g>\n   <g id=\"matplotlib.axis_2\">\n    <g id=\"ytick_1\">\n     <g id=\"line2d_8\">\n      <defs>\n       <path d=\"M 0 0 \nL -3.5 0 \n\" id=\"m8d0bf0283f\" style=\"stroke:#000000;stroke-width:0.8;\"/>\n      </defs>\n      <g>\n       <use style=\"stroke:#000000;stroke-width:0.8;\" x=\"104.659375\" xlink:href=\"#m8d0bf0283f\" y=\"42.263933\"/>\n      </g>\n     </g>\n     <g id=\"text_8\">\n      <!-- 34 ST-PENN STA -->\n      <g transform=\"translate(17.59375 46.063152)scale(0.1 -0.1)\">\n       <defs>\n        <path d=\"M 40.578125 39.3125 \nQ 47.65625 37.796875 51.625 33 \nQ 55.609375 28.21875 55.609375 21.1875 \nQ 55.609375 10.40625 48.1875 4.484375 \nQ 40.765625 -1.421875 27.09375 -1.421875 \nQ 22.515625 -1.421875 17.65625 -0.515625 \nQ 12.796875 0.390625 7.625 2.203125 \nL 7.625 11.71875 \nQ 11.71875 9.328125 16.59375 8.109375 \nQ 21.484375 6.890625 26.8125 6.890625 \nQ 36.078125 6.890625 40.9375 10.546875 \nQ 45.796875 14.203125 45.796875 21.1875 \nQ 45.796875 27.640625 41.28125 31.265625 \nQ 36.765625 34.90625 28.71875 34.90625 \nL 20.21875 34.90625 \nL 20.21875 43.015625 \nL 29.109375 43.015625 \nQ 36.375 43.015625 40.234375 45.921875 \nQ 44.09375 48.828125 44.09375 54.296875 \nQ 44.09375 59.90625 40.109375 62.90625 \nQ 36.140625 65.921875 28.71875 65.921875 \nQ 24.65625 65.921875 20.015625 65.03125 \nQ 15.375 64.15625 9.8125 62.3125 \nL 9.8125 71.09375 \nQ 15.4375 72.65625 20.34375 73.4375 \nQ 25.25 74.21875 29.59375 74.21875 \nQ 40.828125 74.21875 47.359375 69.109375 \nQ 53.90625 64.015625 53.90625 55.328125 \nQ 53.90625 49.265625 50.4375 45.09375 \nQ 46.96875 40.921875 40.578125 39.3125 \nz\n\" id=\"DejaVuSans-51\"/>\n        <path id=\"DejaVuSans-32\"/>\n        <path d=\"M 53.515625 70.515625 \nL 53.515625 60.890625 \nQ 47.90625 63.578125 42.921875 64.890625 \nQ 37.9375 66.21875 33.296875 66.21875 \nQ 25.25 66.21875 20.875 63.09375 \nQ 16.5 59.96875 16.5 54.203125 \nQ 16.5 49.359375 19.40625 46.890625 \nQ 22.3125 44.4375 30.421875 42.921875 \nL 36.375 41.703125 \nQ 47.40625 39.59375 52.65625 34.296875 \nQ 57.90625 29 57.90625 20.125 \nQ 57.90625 9.515625 50.796875 4.046875 \nQ 43.703125 -1.421875 29.984375 -1.421875 \nQ 24.8125 -1.421875 18.96875 -0.25 \nQ 13.140625 0.921875 6.890625 3.21875 \nL 6.890625 13.375 \nQ 12.890625 10.015625 18.65625 8.296875 \nQ 24.421875 6.59375 29.984375 6.59375 \nQ 38.421875 6.59375 43.015625 9.90625 \nQ 47.609375 13.234375 47.609375 19.390625 \nQ 47.609375 24.75 44.3125 27.78125 \nQ 41.015625 30.8125 33.5 32.328125 \nL 27.484375 33.5 \nQ 16.453125 35.6875 11.515625 40.375 \nQ 6.59375 45.0625 6.59375 53.421875 \nQ 6.59375 63.09375 13.40625 68.65625 \nQ 20.21875 74.21875 32.171875 74.21875 \nQ 37.3125 74.21875 42.625 73.28125 \nQ 47.953125 72.359375 53.515625 70.515625 \nz\n\" id=\"DejaVuSans-83\"/>\n        <path d=\"M -0.296875 72.90625 \nL 61.375 72.90625 \nL 61.375 64.59375 \nL 35.5 64.59375 \nL 35.5 0 \nL 25.59375 0 \nL 25.59375 64.59375 \nL -0.296875 64.59375 \nz\n\" id=\"DejaVuSans-84\"/>\n        <path d=\"M 4.890625 31.390625 \nL 31.203125 31.390625 \nL 31.203125 23.390625 \nL 4.890625 23.390625 \nz\n\" id=\"DejaVuSans-45\"/>\n        <path d=\"M 19.671875 64.796875 \nL 19.671875 37.40625 \nL 32.078125 37.40625 \nQ 38.96875 37.40625 42.71875 40.96875 \nQ 46.484375 44.53125 46.484375 51.125 \nQ 46.484375 57.671875 42.71875 61.234375 \nQ 38.96875 64.796875 32.078125 64.796875 \nz\nM 9.8125 72.90625 \nL 32.078125 72.90625 \nQ 44.34375 72.90625 50.609375 67.359375 \nQ 56.890625 61.8125 56.890625 51.125 \nQ 56.890625 40.328125 50.609375 34.8125 \nQ 44.34375 29.296875 32.078125 29.296875 \nL 19.671875 29.296875 \nL 19.671875 0 \nL 9.8125 0 \nz\n\" id=\"DejaVuSans-80\"/>\n        <path d=\"M 9.8125 72.90625 \nL 55.90625 72.90625 \nL 55.90625 64.59375 \nL 19.671875 64.59375 \nL 19.671875 43.015625 \nL 54.390625 43.015625 \nL 54.390625 34.71875 \nL 19.671875 34.71875 \nL 19.671875 8.296875 \nL 56.78125 8.296875 \nL 56.78125 0 \nL 9.8125 0 \nz\n\" id=\"DejaVuSans-69\"/>\n        <path d=\"M 9.8125 72.90625 \nL 23.09375 72.90625 \nL 55.421875 11.921875 \nL 55.421875 72.90625 \nL 64.984375 72.90625 \nL 64.984375 0 \nL 51.703125 0 \nL 19.390625 60.984375 \nL 19.390625 0 \nL 9.8125 0 \nz\n\" id=\"DejaVuSans-78\"/>\n        <path d=\"M 34.1875 63.1875 \nL 20.796875 26.90625 \nL 47.609375 26.90625 \nz\nM 28.609375 72.90625 \nL 39.796875 72.90625 \nL 67.578125 0 \nL 57.328125 0 \nL 50.6875 18.703125 \nL 17.828125 18.703125 \nL 11.1875 0 \nL 0.78125 0 \nz\n\" id=\"DejaVuSans-65\"/>\n       </defs>\n       <use xlink:href=\"#DejaVuSans-51\"/>\n       <use x=\"63.623047\" xlink:href=\"#DejaVuSans-52\"/>\n       <use x=\"127.246094\" xlink:href=\"#DejaVuSans-32\"/>\n       <use x=\"159.033203\" xlink:href=\"#DejaVuSans-83\"/>\n       <use x=\"222.509766\" xlink:href=\"#DejaVuSans-84\"/>\n       <use x=\"274.46875\" xlink:href=\"#DejaVuSans-45\"/>\n       <use x=\"310.552734\" xlink:href=\"#DejaVuSans-80\"/>\n       <use x=\"370.855469\" xlink:href=\"#DejaVuSans-69\"/>\n       <use x=\"434.039062\" xlink:href=\"#DejaVuSans-78\"/>\n       <use x=\"508.84375\" xlink:href=\"#DejaVuSans-78\"/>\n       <use x=\"583.648438\" xlink:href=\"#DejaVuSans-32\"/>\n       <use x=\"615.435547\" xlink:href=\"#DejaVuSans-83\"/>\n       <use x=\"678.912109\" xlink:href=\"#DejaVuSans-84\"/>\n       <use x=\"732.246094\" xlink:href=\"#DejaVuSans-65\"/>\n      </g>\n     </g>\n    </g>\n    <g id=\"ytick_2\">\n     <g id=\"line2d_9\">\n      <g>\n       <use style=\"stroke:#000000;stroke-width:0.8;\" x=\"104.659375\" xlink:href=\"#m8d0bf0283f\" y=\"57.391948\"/>\n      </g>\n     </g>\n     <g id=\"text_9\">\n      <!-- 34 ST-HERALD SQ -->\n      <g transform=\"translate(8.70625 61.191167)scale(0.1 -0.1)\">\n       <defs>\n        <path d=\"M 9.8125 72.90625 \nL 19.671875 72.90625 \nL 19.671875 43.015625 \nL 55.515625 43.015625 \nL 55.515625 72.90625 \nL 65.375 72.90625 \nL 65.375 0 \nL 55.515625 0 \nL 55.515625 34.71875 \nL 19.671875 34.71875 \nL 19.671875 0 \nL 9.8125 0 \nz\n\" id=\"DejaVuSans-72\"/>\n        <path d=\"M 44.390625 34.1875 \nQ 47.5625 33.109375 50.5625 29.59375 \nQ 53.5625 26.078125 56.59375 19.921875 \nL 66.609375 0 \nL 56 0 \nL 46.6875 18.703125 \nQ 43.0625 26.03125 39.671875 28.421875 \nQ 36.28125 30.8125 30.421875 30.8125 \nL 19.671875 30.8125 \nL 19.671875 0 \nL 9.8125 0 \nL 9.8125 72.90625 \nL 32.078125 72.90625 \nQ 44.578125 72.90625 50.734375 67.671875 \nQ 56.890625 62.453125 56.890625 51.90625 \nQ 56.890625 45.015625 53.6875 40.46875 \nQ 50.484375 35.9375 44.390625 34.1875 \nz\nM 19.671875 64.796875 \nL 19.671875 38.921875 \nL 32.078125 38.921875 \nQ 39.203125 38.921875 42.84375 42.21875 \nQ 46.484375 45.515625 46.484375 51.90625 \nQ 46.484375 58.296875 42.84375 61.546875 \nQ 39.203125 64.796875 32.078125 64.796875 \nz\n\" id=\"DejaVuSans-82\"/>\n        <path d=\"M 9.8125 72.90625 \nL 19.671875 72.90625 \nL 19.671875 8.296875 \nL 55.171875 8.296875 \nL 55.171875 0 \nL 9.8125 0 \nz\n\" id=\"DejaVuSans-76\"/>\n        <path d=\"M 19.671875 64.796875 \nL 19.671875 8.109375 \nL 31.59375 8.109375 \nQ 46.6875 8.109375 53.6875 14.9375 \nQ 60.6875 21.78125 60.6875 36.53125 \nQ 60.6875 51.171875 53.6875 57.984375 \nQ 46.6875 64.796875 31.59375 64.796875 \nz\nM 9.8125 72.90625 \nL 30.078125 72.90625 \nQ 51.265625 72.90625 61.171875 64.09375 \nQ 71.09375 55.28125 71.09375 36.53125 \nQ 71.09375 17.671875 61.125 8.828125 \nQ 51.171875 0 30.078125 0 \nL 9.8125 0 \nz\n\" id=\"DejaVuSans-68\"/>\n        <path d=\"M 39.40625 66.21875 \nQ 28.65625 66.21875 22.328125 58.203125 \nQ 16.015625 50.203125 16.015625 36.375 \nQ 16.015625 22.609375 22.328125 14.59375 \nQ 28.65625 6.59375 39.40625 6.59375 \nQ 50.140625 6.59375 56.421875 14.59375 \nQ 62.703125 22.609375 62.703125 36.375 \nQ 62.703125 50.203125 56.421875 58.203125 \nQ 50.140625 66.21875 39.40625 66.21875 \nz\nM 53.21875 1.3125 \nL 66.21875 -12.890625 \nL 54.296875 -12.890625 \nL 43.5 -1.21875 \nQ 41.890625 -1.3125 41.03125 -1.359375 \nQ 40.1875 -1.421875 39.40625 -1.421875 \nQ 24.03125 -1.421875 14.8125 8.859375 \nQ 5.609375 19.140625 5.609375 36.375 \nQ 5.609375 53.65625 14.8125 63.9375 \nQ 24.03125 74.21875 39.40625 74.21875 \nQ 54.734375 74.21875 63.90625 63.9375 \nQ 73.09375 53.65625 73.09375 36.375 \nQ 73.09375 23.6875 67.984375 14.640625 \nQ 62.890625 5.609375 53.21875 1.3125 \nz\n\" id=\"DejaVuSans-81\"/>\n       </defs>\n       <use xlink:href=\"#DejaVuSans-51\"/>\n       <use x=\"63.623047\" xlink:href=\"#DejaVuSans-52\"/>\n       <use x=\"127.246094\" xlink:href=\"#DejaVuSans-32\"/>\n       <use x=\"159.033203\" xlink:href=\"#DejaVuSans-83\"/>\n       <use x=\"222.509766\" xlink:href=\"#DejaVuSans-84\"/>\n       <use x=\"274.46875\" xlink:href=\"#DejaVuSans-45\"/>\n       <use x=\"310.552734\" xlink:href=\"#DejaVuSans-72\"/>\n       <use x=\"385.748047\" xlink:href=\"#DejaVuSans-69\"/>\n       <use x=\"448.931641\" xlink:href=\"#DejaVuSans-82\"/>\n       <use x=\"514.414062\" xlink:href=\"#DejaVuSans-65\"/>\n       <use x=\"582.822266\" xlink:href=\"#DejaVuSans-76\"/>\n       <use x=\"638.535156\" xlink:href=\"#DejaVuSans-68\"/>\n       <use x=\"715.537109\" xlink:href=\"#DejaVuSans-32\"/>\n       <use x=\"747.324219\" xlink:href=\"#DejaVuSans-83\"/>\n       <use x=\"810.800781\" xlink:href=\"#DejaVuSans-81\"/>\n      </g>\n     </g>\n    </g>\n    <g id=\"ytick_3\">\n     <g id=\"line2d_10\">\n      <g>\n       <use style=\"stroke:#000000;stroke-width:0.8;\" x=\"104.659375\" xlink:href=\"#m8d0bf0283f\" y=\"72.519963\"/>\n      </g>\n     </g>\n     <g id=\"text_10\">\n      <!-- 125 ST -->\n      <g transform=\"translate(62.9375 76.319182)scale(0.1 -0.1)\">\n       <defs>\n        <path d=\"M 10.796875 72.90625 \nL 49.515625 72.90625 \nL 49.515625 64.59375 \nL 19.828125 64.59375 \nL 19.828125 46.734375 \nQ 21.96875 47.46875 24.109375 47.828125 \nQ 26.265625 48.1875 28.421875 48.1875 \nQ 40.625 48.1875 47.75 41.5 \nQ 54.890625 34.8125 54.890625 23.390625 \nQ 54.890625 11.625 47.5625 5.09375 \nQ 40.234375 -1.421875 26.90625 -1.421875 \nQ 22.3125 -1.421875 17.546875 -0.640625 \nQ 12.796875 0.140625 7.71875 1.703125 \nL 7.71875 11.625 \nQ 12.109375 9.234375 16.796875 8.0625 \nQ 21.484375 6.890625 26.703125 6.890625 \nQ 35.15625 6.890625 40.078125 11.328125 \nQ 45.015625 15.765625 45.015625 23.390625 \nQ 45.015625 31 40.078125 35.4375 \nQ 35.15625 39.890625 26.703125 39.890625 \nQ 22.75 39.890625 18.8125 39.015625 \nQ 14.890625 38.140625 10.796875 36.28125 \nz\n\" id=\"DejaVuSans-53\"/>\n       </defs>\n       <use xlink:href=\"#DejaVuSans-49\"/>\n       <use x=\"63.623047\" xlink:href=\"#DejaVuSans-50\"/>\n       <use x=\"127.246094\" xlink:href=\"#DejaVuSans-53\"/>\n       <use x=\"190.869141\" xlink:href=\"#DejaVuSans-32\"/>\n       <use x=\"222.65625\" xlink:href=\"#DejaVuSans-83\"/>\n       <use x=\"286.132812\" xlink:href=\"#DejaVuSans-84\"/>\n      </g>\n     </g>\n    </g>\n    <g id=\"ytick_4\">\n     <g id=\"line2d_11\">\n      <g>\n       <use style=\"stroke:#000000;stroke-width:0.8;\" x=\"104.659375\" xlink:href=\"#m8d0bf0283f\" y=\"87.647978\"/>\n      </g>\n     </g>\n     <g id=\"text_11\">\n      <!-- 86 ST -->\n      <g transform=\"translate(69.3 91.447196)scale(0.1 -0.1)\">\n       <use xlink:href=\"#DejaVuSans-56\"/>\n       <use x=\"63.623047\" xlink:href=\"#DejaVuSans-54\"/>\n       <use x=\"127.246094\" xlink:href=\"#DejaVuSans-32\"/>\n       <use x=\"159.033203\" xlink:href=\"#DejaVuSans-83\"/>\n       <use x=\"222.509766\" xlink:href=\"#DejaVuSans-84\"/>\n      </g>\n     </g>\n    </g>\n    <g id=\"ytick_5\">\n     <g id=\"line2d_12\">\n      <g>\n       <use style=\"stroke:#000000;stroke-width:0.8;\" x=\"104.659375\" xlink:href=\"#m8d0bf0283f\" y=\"102.775993\"/>\n      </g>\n     </g>\n     <g id=\"text_12\">\n      <!-- 14 ST-UNION SQ -->\n      <g transform=\"translate(16.103125 106.575211)scale(0.1 -0.1)\">\n       <defs>\n        <path d=\"M 8.6875 72.90625 \nL 18.609375 72.90625 \nL 18.609375 28.609375 \nQ 18.609375 16.890625 22.84375 11.734375 \nQ 27.09375 6.59375 36.625 6.59375 \nQ 46.09375 6.59375 50.34375 11.734375 \nQ 54.59375 16.890625 54.59375 28.609375 \nL 54.59375 72.90625 \nL 64.5 72.90625 \nL 64.5 27.390625 \nQ 64.5 13.140625 57.4375 5.859375 \nQ 50.390625 -1.421875 36.625 -1.421875 \nQ 22.796875 -1.421875 15.734375 5.859375 \nQ 8.6875 13.140625 8.6875 27.390625 \nz\n\" id=\"DejaVuSans-85\"/>\n        <path d=\"M 9.8125 72.90625 \nL 19.671875 72.90625 \nL 19.671875 0 \nL 9.8125 0 \nz\n\" id=\"DejaVuSans-73\"/>\n        <path d=\"M 39.40625 66.21875 \nQ 28.65625 66.21875 22.328125 58.203125 \nQ 16.015625 50.203125 16.015625 36.375 \nQ 16.015625 22.609375 22.328125 14.59375 \nQ 28.65625 6.59375 39.40625 6.59375 \nQ 50.140625 6.59375 56.421875 14.59375 \nQ 62.703125 22.609375 62.703125 36.375 \nQ 62.703125 50.203125 56.421875 58.203125 \nQ 50.140625 66.21875 39.40625 66.21875 \nz\nM 39.40625 74.21875 \nQ 54.734375 74.21875 63.90625 63.9375 \nQ 73.09375 53.65625 73.09375 36.375 \nQ 73.09375 19.140625 63.90625 8.859375 \nQ 54.734375 -1.421875 39.40625 -1.421875 \nQ 24.03125 -1.421875 14.8125 8.828125 \nQ 5.609375 19.09375 5.609375 36.375 \nQ 5.609375 53.65625 14.8125 63.9375 \nQ 24.03125 74.21875 39.40625 74.21875 \nz\n\" id=\"DejaVuSans-79\"/>\n       </defs>\n       <use xlink:href=\"#DejaVuSans-49\"/>\n       <use x=\"63.623047\" xlink:href=\"#DejaVuSans-52\"/>\n       <use x=\"127.246094\" xlink:href=\"#DejaVuSans-32\"/>\n       <use x=\"159.033203\" xlink:href=\"#DejaVuSans-83\"/>\n       <use x=\"222.509766\" xlink:href=\"#DejaVuSans-84\"/>\n       <use x=\"274.46875\" xlink:href=\"#DejaVuSans-45\"/>\n       <use x=\"310.552734\" xlink:href=\"#DejaVuSans-85\"/>\n       <use x=\"383.746094\" xlink:href=\"#DejaVuSans-78\"/>\n       <use x=\"458.550781\" xlink:href=\"#DejaVuSans-73\"/>\n       <use x=\"488.042969\" xlink:href=\"#DejaVuSans-79\"/>\n       <use x=\"566.753906\" xlink:href=\"#DejaVuSans-78\"/>\n       <use x=\"641.558594\" xlink:href=\"#DejaVuSans-32\"/>\n       <use x=\"673.345703\" xlink:href=\"#DejaVuSans-83\"/>\n       <use x=\"736.822266\" xlink:href=\"#DejaVuSans-81\"/>\n      </g>\n     </g>\n    </g>\n    <g id=\"ytick_6\">\n     <g id=\"line2d_13\">\n      <g>\n       <use style=\"stroke:#000000;stroke-width:0.8;\" x=\"104.659375\" xlink:href=\"#m8d0bf0283f\" y=\"117.904007\"/>\n      </g>\n     </g>\n     <g id=\"text_13\">\n      <!-- GRD CNTRL-42 ST -->\n      <g transform=\"translate(7.2 121.703226)scale(0.1 -0.1)\">\n       <defs>\n        <path d=\"M 59.515625 10.40625 \nL 59.515625 29.984375 \nL 43.40625 29.984375 \nL 43.40625 38.09375 \nL 69.28125 38.09375 \nL 69.28125 6.78125 \nQ 63.578125 2.734375 56.6875 0.65625 \nQ 49.8125 -1.421875 42 -1.421875 \nQ 24.90625 -1.421875 15.25 8.5625 \nQ 5.609375 18.5625 5.609375 36.375 \nQ 5.609375 54.25 15.25 64.234375 \nQ 24.90625 74.21875 42 74.21875 \nQ 49.125 74.21875 55.546875 72.453125 \nQ 61.96875 70.703125 67.390625 67.28125 \nL 67.390625 56.78125 \nQ 61.921875 61.421875 55.765625 63.765625 \nQ 49.609375 66.109375 42.828125 66.109375 \nQ 29.4375 66.109375 22.71875 58.640625 \nQ 16.015625 51.171875 16.015625 36.375 \nQ 16.015625 21.625 22.71875 14.15625 \nQ 29.4375 6.6875 42.828125 6.6875 \nQ 48.046875 6.6875 52.140625 7.59375 \nQ 56.25 8.5 59.515625 10.40625 \nz\n\" id=\"DejaVuSans-71\"/>\n        <path d=\"M 64.40625 67.28125 \nL 64.40625 56.890625 \nQ 59.421875 61.53125 53.78125 63.8125 \nQ 48.140625 66.109375 41.796875 66.109375 \nQ 29.296875 66.109375 22.65625 58.46875 \nQ 16.015625 50.828125 16.015625 36.375 \nQ 16.015625 21.96875 22.65625 14.328125 \nQ 29.296875 6.6875 41.796875 6.6875 \nQ 48.140625 6.6875 53.78125 8.984375 \nQ 59.421875 11.28125 64.40625 15.921875 \nL 64.40625 5.609375 \nQ 59.234375 2.09375 53.4375 0.328125 \nQ 47.65625 -1.421875 41.21875 -1.421875 \nQ 24.65625 -1.421875 15.125 8.703125 \nQ 5.609375 18.84375 5.609375 36.375 \nQ 5.609375 53.953125 15.125 64.078125 \nQ 24.65625 74.21875 41.21875 74.21875 \nQ 47.75 74.21875 53.53125 72.484375 \nQ 59.328125 70.75 64.40625 67.28125 \nz\n\" id=\"DejaVuSans-67\"/>\n       </defs>\n       <use xlink:href=\"#DejaVuSans-71\"/>\n       <use x=\"77.490234\" xlink:href=\"#DejaVuSans-82\"/>\n       <use x=\"146.972656\" xlink:href=\"#DejaVuSans-68\"/>\n       <use x=\"223.974609\" xlink:href=\"#DejaVuSans-32\"/>\n       <use x=\"255.761719\" xlink:href=\"#DejaVuSans-67\"/>\n       <use x=\"325.585938\" xlink:href=\"#DejaVuSans-78\"/>\n       <use x=\"400.390625\" xlink:href=\"#DejaVuSans-84\"/>\n       <use x=\"461.474609\" xlink:href=\"#DejaVuSans-82\"/>\n       <use x=\"530.957031\" xlink:href=\"#DejaVuSans-76\"/>\n       <use x=\"584.919922\" xlink:href=\"#DejaVuSans-45\"/>\n       <use x=\"621.003906\" xlink:href=\"#DejaVuSans-52\"/>\n       <use x=\"684.626953\" xlink:href=\"#DejaVuSans-50\"/>\n       <use x=\"748.25\" xlink:href=\"#DejaVuSans-32\"/>\n       <use x=\"780.037109\" xlink:href=\"#DejaVuSans-83\"/>\n       <use x=\"843.513672\" xlink:href=\"#DejaVuSans-84\"/>\n      </g>\n     </g>\n    </g>\n    <g id=\"ytick_7\">\n     <g id=\"line2d_14\">\n      <g>\n       <use style=\"stroke:#000000;stroke-width:0.8;\" x=\"104.659375\" xlink:href=\"#m8d0bf0283f\" y=\"133.032022\"/>\n      </g>\n     </g>\n     <g id=\"text_14\">\n      <!-- 42 ST-PORT AUTH -->\n      <g transform=\"translate(9.40625 136.831241)scale(0.1 -0.1)\">\n       <use xlink:href=\"#DejaVuSans-52\"/>\n       <use x=\"63.623047\" xlink:href=\"#DejaVuSans-50\"/>\n       <use x=\"127.246094\" xlink:href=\"#DejaVuSans-32\"/>\n       <use x=\"159.033203\" xlink:href=\"#DejaVuSans-83\"/>\n       <use x=\"222.509766\" xlink:href=\"#DejaVuSans-84\"/>\n       <use x=\"274.46875\" xlink:href=\"#DejaVuSans-45\"/>\n       <use x=\"310.552734\" xlink:href=\"#DejaVuSans-80\"/>\n       <use x=\"370.855469\" xlink:href=\"#DejaVuSans-79\"/>\n       <use x=\"449.566406\" xlink:href=\"#DejaVuSans-82\"/>\n       <use x=\"511.798828\" xlink:href=\"#DejaVuSans-84\"/>\n       <use x=\"572.882812\" xlink:href=\"#DejaVuSans-32\"/>\n       <use x=\"604.669922\" xlink:href=\"#DejaVuSans-65\"/>\n       <use x=\"673.078125\" xlink:href=\"#DejaVuSans-85\"/>\n       <use x=\"746.271484\" xlink:href=\"#DejaVuSans-84\"/>\n       <use x=\"807.355469\" xlink:href=\"#DejaVuSans-72\"/>\n      </g>\n     </g>\n    </g>\n    <g id=\"ytick_8\">\n     <g id=\"line2d_15\">\n      <g>\n       <use style=\"stroke:#000000;stroke-width:0.8;\" x=\"104.659375\" xlink:href=\"#m8d0bf0283f\" y=\"148.160037\"/>\n      </g>\n     </g>\n     <g id=\"text_15\">\n      <!-- 23 ST -->\n      <g transform=\"translate(69.3 151.959256)scale(0.1 -0.1)\">\n       <use xlink:href=\"#DejaVuSans-50\"/>\n       <use x=\"63.623047\" xlink:href=\"#DejaVuSans-51\"/>\n       <use x=\"127.246094\" xlink:href=\"#DejaVuSans-32\"/>\n       <use x=\"159.033203\" xlink:href=\"#DejaVuSans-83\"/>\n       <use x=\"222.509766\" xlink:href=\"#DejaVuSans-84\"/>\n      </g>\n     </g>\n    </g>\n    <g id=\"ytick_9\">\n     <g id=\"line2d_16\">\n      <g>\n       <use style=\"stroke:#000000;stroke-width:0.8;\" x=\"104.659375\" xlink:href=\"#m8d0bf0283f\" y=\"163.288052\"/>\n      </g>\n     </g>\n     <g id=\"text_16\">\n      <!-- FLUSHING-MAIN -->\n      <g transform=\"translate(17.960938 167.087271)scale(0.1 -0.1)\">\n       <defs>\n        <path d=\"M 9.8125 72.90625 \nL 51.703125 72.90625 \nL 51.703125 64.59375 \nL 19.671875 64.59375 \nL 19.671875 43.109375 \nL 48.578125 43.109375 \nL 48.578125 34.8125 \nL 19.671875 34.8125 \nL 19.671875 0 \nL 9.8125 0 \nz\n\" id=\"DejaVuSans-70\"/>\n        <path d=\"M 9.8125 72.90625 \nL 24.515625 72.90625 \nL 43.109375 23.296875 \nL 61.8125 72.90625 \nL 76.515625 72.90625 \nL 76.515625 0 \nL 66.890625 0 \nL 66.890625 64.015625 \nL 48.09375 14.015625 \nL 38.1875 14.015625 \nL 19.390625 64.015625 \nL 19.390625 0 \nL 9.8125 0 \nz\n\" id=\"DejaVuSans-77\"/>\n       </defs>\n       <use xlink:href=\"#DejaVuSans-70\"/>\n       <use x=\"57.519531\" xlink:href=\"#DejaVuSans-76\"/>\n       <use x=\"108.232422\" xlink:href=\"#DejaVuSans-85\"/>\n       <use x=\"181.425781\" xlink:href=\"#DejaVuSans-83\"/>\n       <use x=\"244.902344\" xlink:href=\"#DejaVuSans-72\"/>\n       <use x=\"320.097656\" xlink:href=\"#DejaVuSans-73\"/>\n       <use x=\"349.589844\" xlink:href=\"#DejaVuSans-78\"/>\n       <use x=\"424.394531\" xlink:href=\"#DejaVuSans-71\"/>\n       <use x=\"501.884766\" xlink:href=\"#DejaVuSans-45\"/>\n       <use x=\"537.96875\" xlink:href=\"#DejaVuSans-77\"/>\n       <use x=\"624.248047\" xlink:href=\"#DejaVuSans-65\"/>\n       <use x=\"692.65625\" xlink:href=\"#DejaVuSans-73\"/>\n       <use x=\"722.148438\" xlink:href=\"#DejaVuSans-78\"/>\n      </g>\n     </g>\n    </g>\n    <g id=\"ytick_10\">\n     <g id=\"line2d_17\">\n      <g>\n       <use style=\"stroke:#000000;stroke-width:0.8;\" x=\"104.659375\" xlink:href=\"#m8d0bf0283f\" y=\"178.416067\"/>\n      </g>\n     </g>\n     <g id=\"text_17\">\n      <!-- FULTON ST -->\n      <g transform=\"translate(43.296875 182.215286)scale(0.1 -0.1)\">\n       <use xlink:href=\"#DejaVuSans-70\"/>\n       <use x=\"57.519531\" xlink:href=\"#DejaVuSans-85\"/>\n       <use x=\"130.712891\" xlink:href=\"#DejaVuSans-76\"/>\n       <use x=\"172.675781\" xlink:href=\"#DejaVuSans-84\"/>\n       <use x=\"233.759766\" xlink:href=\"#DejaVuSans-79\"/>\n       <use x=\"312.470703\" xlink:href=\"#DejaVuSans-78\"/>\n       <use x=\"387.275391\" xlink:href=\"#DejaVuSans-32\"/>\n       <use x=\"419.0625\" xlink:href=\"#DejaVuSans-83\"/>\n       <use x=\"482.539062\" xlink:href=\"#DejaVuSans-84\"/>\n      </g>\n     </g>\n    </g>\n   </g>\n   <g id=\"patch_13\">\n    <path d=\"M 104.659375 191.88 \nL 104.659375 28.8 \n\" style=\"fill:none;stroke:#000000;stroke-linecap:square;stroke-linejoin:miter;stroke-width:0.8;\"/>\n   </g>\n   <g id=\"patch_14\">\n    <path d=\"M 662.659375 191.88 \nL 662.659375 28.8 \n\" style=\"fill:none;stroke:#000000;stroke-linecap:square;stroke-linejoin:miter;stroke-width:0.8;\"/>\n   </g>\n   <g id=\"patch_15\">\n    <path d=\"M 104.659375 191.88 \nL 662.659375 191.88 \n\" style=\"fill:none;stroke:#000000;stroke-linecap:square;stroke-linejoin:miter;stroke-width:0.8;\"/>\n   </g>\n   <g id=\"patch_16\">\n    <path d=\"M 104.659375 28.8 \nL 662.659375 28.8 \n\" style=\"fill:none;stroke:#000000;stroke-linecap:square;stroke-linejoin:miter;stroke-width:0.8;\"/>\n   </g>\n  </g>\n  <g id=\"text_18\">\n   <!-- Top 10 Station by total traffic -->\n   <g transform=\"translate(287.268438 16.318125)scale(0.12 -0.12)\">\n    <defs>\n     <path d=\"M 30.609375 48.390625 \nQ 23.390625 48.390625 19.1875 42.75 \nQ 14.984375 37.109375 14.984375 27.296875 \nQ 14.984375 17.484375 19.15625 11.84375 \nQ 23.34375 6.203125 30.609375 6.203125 \nQ 37.796875 6.203125 41.984375 11.859375 \nQ 46.1875 17.53125 46.1875 27.296875 \nQ 46.1875 37.015625 41.984375 42.703125 \nQ 37.796875 48.390625 30.609375 48.390625 \nz\nM 30.609375 56 \nQ 42.328125 56 49.015625 48.375 \nQ 55.71875 40.765625 55.71875 27.296875 \nQ 55.71875 13.875 49.015625 6.21875 \nQ 42.328125 -1.421875 30.609375 -1.421875 \nQ 18.84375 -1.421875 12.171875 6.21875 \nQ 5.515625 13.875 5.515625 27.296875 \nQ 5.515625 40.765625 12.171875 48.375 \nQ 18.84375 56 30.609375 56 \nz\n\" id=\"DejaVuSans-111\"/>\n     <path d=\"M 18.109375 8.203125 \nL 18.109375 -20.796875 \nL 9.078125 -20.796875 \nL 9.078125 54.6875 \nL 18.109375 54.6875 \nL 18.109375 46.390625 \nQ 20.953125 51.265625 25.265625 53.625 \nQ 29.59375 56 35.59375 56 \nQ 45.5625 56 51.78125 48.09375 \nQ 58.015625 40.1875 58.015625 27.296875 \nQ 58.015625 14.40625 51.78125 6.484375 \nQ 45.5625 -1.421875 35.59375 -1.421875 \nQ 29.59375 -1.421875 25.265625 0.953125 \nQ 20.953125 3.328125 18.109375 8.203125 \nz\nM 48.6875 27.296875 \nQ 48.6875 37.203125 44.609375 42.84375 \nQ 40.53125 48.484375 33.40625 48.484375 \nQ 26.265625 48.484375 22.1875 42.84375 \nQ 18.109375 37.203125 18.109375 27.296875 \nQ 18.109375 17.390625 22.1875 11.75 \nQ 26.265625 6.109375 33.40625 6.109375 \nQ 40.53125 6.109375 44.609375 11.75 \nQ 48.6875 17.390625 48.6875 27.296875 \nz\n\" id=\"DejaVuSans-112\"/>\n     <path d=\"M 18.3125 70.21875 \nL 18.3125 54.6875 \nL 36.8125 54.6875 \nL 36.8125 47.703125 \nL 18.3125 47.703125 \nL 18.3125 18.015625 \nQ 18.3125 11.328125 20.140625 9.421875 \nQ 21.96875 7.515625 27.59375 7.515625 \nL 36.8125 7.515625 \nL 36.8125 0 \nL 27.59375 0 \nQ 17.1875 0 13.234375 3.875 \nQ 9.28125 7.765625 9.28125 18.015625 \nL 9.28125 47.703125 \nL 2.6875 47.703125 \nL 2.6875 54.6875 \nL 9.28125 54.6875 \nL 9.28125 70.21875 \nz\n\" id=\"DejaVuSans-116\"/>\n     <path d=\"M 34.28125 27.484375 \nQ 23.390625 27.484375 19.1875 25 \nQ 14.984375 22.515625 14.984375 16.5 \nQ 14.984375 11.71875 18.140625 8.90625 \nQ 21.296875 6.109375 26.703125 6.109375 \nQ 34.1875 6.109375 38.703125 11.40625 \nQ 43.21875 16.703125 43.21875 25.484375 \nL 43.21875 27.484375 \nz\nM 52.203125 31.203125 \nL 52.203125 0 \nL 43.21875 0 \nL 43.21875 8.296875 \nQ 40.140625 3.328125 35.546875 0.953125 \nQ 30.953125 -1.421875 24.3125 -1.421875 \nQ 15.921875 -1.421875 10.953125 3.296875 \nQ 6 8.015625 6 15.921875 \nQ 6 25.140625 12.171875 29.828125 \nQ 18.359375 34.515625 30.609375 34.515625 \nL 43.21875 34.515625 \nL 43.21875 35.40625 \nQ 43.21875 41.609375 39.140625 45 \nQ 35.0625 48.390625 27.6875 48.390625 \nQ 23 48.390625 18.546875 47.265625 \nQ 14.109375 46.140625 10.015625 43.890625 \nL 10.015625 52.203125 \nQ 14.9375 54.109375 19.578125 55.046875 \nQ 24.21875 56 28.609375 56 \nQ 40.484375 56 46.34375 49.84375 \nQ 52.203125 43.703125 52.203125 31.203125 \nz\n\" id=\"DejaVuSans-97\"/>\n     <path d=\"M 9.421875 54.6875 \nL 18.40625 54.6875 \nL 18.40625 0 \nL 9.421875 0 \nz\nM 9.421875 75.984375 \nL 18.40625 75.984375 \nL 18.40625 64.59375 \nL 9.421875 64.59375 \nz\n\" id=\"DejaVuSans-105\"/>\n     <path d=\"M 54.890625 33.015625 \nL 54.890625 0 \nL 45.90625 0 \nL 45.90625 32.71875 \nQ 45.90625 40.484375 42.875 44.328125 \nQ 39.84375 48.1875 33.796875 48.1875 \nQ 26.515625 48.1875 22.3125 43.546875 \nQ 18.109375 38.921875 18.109375 30.90625 \nL 18.109375 0 \nL 9.078125 0 \nL 9.078125 54.6875 \nL 18.109375 54.6875 \nL 18.109375 46.1875 \nQ 21.34375 51.125 25.703125 53.5625 \nQ 30.078125 56 35.796875 56 \nQ 45.21875 56 50.046875 50.171875 \nQ 54.890625 44.34375 54.890625 33.015625 \nz\n\" id=\"DejaVuSans-110\"/>\n     <path d=\"M 48.6875 27.296875 \nQ 48.6875 37.203125 44.609375 42.84375 \nQ 40.53125 48.484375 33.40625 48.484375 \nQ 26.265625 48.484375 22.1875 42.84375 \nQ 18.109375 37.203125 18.109375 27.296875 \nQ 18.109375 17.390625 22.1875 11.75 \nQ 26.265625 6.109375 33.40625 6.109375 \nQ 40.53125 6.109375 44.609375 11.75 \nQ 48.6875 17.390625 48.6875 27.296875 \nz\nM 18.109375 46.390625 \nQ 20.953125 51.265625 25.265625 53.625 \nQ 29.59375 56 35.59375 56 \nQ 45.5625 56 51.78125 48.09375 \nQ 58.015625 40.1875 58.015625 27.296875 \nQ 58.015625 14.40625 51.78125 6.484375 \nQ 45.5625 -1.421875 35.59375 -1.421875 \nQ 29.59375 -1.421875 25.265625 0.953125 \nQ 20.953125 3.328125 18.109375 8.203125 \nL 18.109375 0 \nL 9.078125 0 \nL 9.078125 75.984375 \nL 18.109375 75.984375 \nz\n\" id=\"DejaVuSans-98\"/>\n     <path d=\"M 32.171875 -5.078125 \nQ 28.375 -14.84375 24.75 -17.8125 \nQ 21.140625 -20.796875 15.09375 -20.796875 \nL 7.90625 -20.796875 \nL 7.90625 -13.28125 \nL 13.1875 -13.28125 \nQ 16.890625 -13.28125 18.9375 -11.515625 \nQ 21 -9.765625 23.484375 -3.21875 \nL 25.09375 0.875 \nL 2.984375 54.6875 \nL 12.5 54.6875 \nL 29.59375 11.921875 \nL 46.6875 54.6875 \nL 56.203125 54.6875 \nz\n\" id=\"DejaVuSans-121\"/>\n     <path d=\"M 9.421875 75.984375 \nL 18.40625 75.984375 \nL 18.40625 0 \nL 9.421875 0 \nz\n\" id=\"DejaVuSans-108\"/>\n     <path d=\"M 41.109375 46.296875 \nQ 39.59375 47.171875 37.8125 47.578125 \nQ 36.03125 48 33.890625 48 \nQ 26.265625 48 22.1875 43.046875 \nQ 18.109375 38.09375 18.109375 28.8125 \nL 18.109375 0 \nL 9.078125 0 \nL 9.078125 54.6875 \nL 18.109375 54.6875 \nL 18.109375 46.1875 \nQ 20.953125 51.171875 25.484375 53.578125 \nQ 30.03125 56 36.53125 56 \nQ 37.453125 56 38.578125 55.875 \nQ 39.703125 55.765625 41.0625 55.515625 \nz\n\" id=\"DejaVuSans-114\"/>\n     <path d=\"M 37.109375 75.984375 \nL 37.109375 68.5 \nL 28.515625 68.5 \nQ 23.6875 68.5 21.796875 66.546875 \nQ 19.921875 64.59375 19.921875 59.515625 \nL 19.921875 54.6875 \nL 34.71875 54.6875 \nL 34.71875 47.703125 \nL 19.921875 47.703125 \nL 19.921875 0 \nL 10.890625 0 \nL 10.890625 47.703125 \nL 2.296875 47.703125 \nL 2.296875 54.6875 \nL 10.890625 54.6875 \nL 10.890625 58.5 \nQ 10.890625 67.625 15.140625 71.796875 \nQ 19.390625 75.984375 28.609375 75.984375 \nz\n\" id=\"DejaVuSans-102\"/>\n     <path d=\"M 48.78125 52.59375 \nL 48.78125 44.1875 \nQ 44.96875 46.296875 41.140625 47.34375 \nQ 37.3125 48.390625 33.40625 48.390625 \nQ 24.65625 48.390625 19.8125 42.84375 \nQ 14.984375 37.3125 14.984375 27.296875 \nQ 14.984375 17.28125 19.8125 11.734375 \nQ 24.65625 6.203125 33.40625 6.203125 \nQ 37.3125 6.203125 41.140625 7.25 \nQ 44.96875 8.296875 48.78125 10.40625 \nL 48.78125 2.09375 \nQ 45.015625 0.34375 40.984375 -0.53125 \nQ 36.96875 -1.421875 32.421875 -1.421875 \nQ 20.0625 -1.421875 12.78125 6.34375 \nQ 5.515625 14.109375 5.515625 27.296875 \nQ 5.515625 40.671875 12.859375 48.328125 \nQ 20.21875 56 33.015625 56 \nQ 37.15625 56 41.109375 55.140625 \nQ 45.0625 54.296875 48.78125 52.59375 \nz\n\" id=\"DejaVuSans-99\"/>\n    </defs>\n    <use xlink:href=\"#DejaVuSans-84\"/>\n    <use x=\"44.083984\" xlink:href=\"#DejaVuSans-111\"/>\n    <use x=\"105.265625\" xlink:href=\"#DejaVuSans-112\"/>\n    <use x=\"168.742188\" xlink:href=\"#DejaVuSans-32\"/>\n    <use x=\"200.529297\" xlink:href=\"#DejaVuSans-49\"/>\n    <use x=\"264.152344\" xlink:href=\"#DejaVuSans-48\"/>\n    <use x=\"327.775391\" xlink:href=\"#DejaVuSans-32\"/>\n    <use x=\"359.5625\" xlink:href=\"#DejaVuSans-83\"/>\n    <use x=\"423.039062\" xlink:href=\"#DejaVuSans-116\"/>\n    <use x=\"462.248047\" xlink:href=\"#DejaVuSans-97\"/>\n    <use x=\"523.527344\" xlink:href=\"#DejaVuSans-116\"/>\n    <use x=\"562.736328\" xlink:href=\"#DejaVuSans-105\"/>\n    <use x=\"590.519531\" xlink:href=\"#DejaVuSans-111\"/>\n    <use x=\"651.701172\" xlink:href=\"#DejaVuSans-110\"/>\n    <use x=\"715.080078\" xlink:href=\"#DejaVuSans-32\"/>\n    <use x=\"746.867188\" xlink:href=\"#DejaVuSans-98\"/>\n    <use x=\"810.34375\" xlink:href=\"#DejaVuSans-121\"/>\n    <use x=\"869.523438\" xlink:href=\"#DejaVuSans-32\"/>\n    <use x=\"901.310547\" xlink:href=\"#DejaVuSans-116\"/>\n    <use x=\"940.519531\" xlink:href=\"#DejaVuSans-111\"/>\n    <use x=\"1001.701172\" xlink:href=\"#DejaVuSans-116\"/>\n    <use x=\"1040.910156\" xlink:href=\"#DejaVuSans-97\"/>\n    <use x=\"1102.189453\" xlink:href=\"#DejaVuSans-108\"/>\n    <use x=\"1129.972656\" xlink:href=\"#DejaVuSans-32\"/>\n    <use x=\"1161.759766\" xlink:href=\"#DejaVuSans-116\"/>\n    <use x=\"1200.96875\" xlink:href=\"#DejaVuSans-114\"/>\n    <use x=\"1242.082031\" xlink:href=\"#DejaVuSans-97\"/>\n    <use x=\"1303.361328\" xlink:href=\"#DejaVuSans-102\"/>\n    <use x=\"1338.566406\" xlink:href=\"#DejaVuSans-102\"/>\n    <use x=\"1373.771484\" xlink:href=\"#DejaVuSans-105\"/>\n    <use x=\"1401.554688\" xlink:href=\"#DejaVuSans-99\"/>\n   </g>\n  </g>\n </g>\n <defs>\n  <clipPath id=\"p4e80898a42\">\n   <rect height=\"163.08\" width=\"558\" x=\"104.659375\" y=\"28.8\"/>\n  </clipPath>\n </defs>\n</svg>\n",
      "image/png": "[encoded data removed]"
     },
     "metadata": {
      "needs_background": "light"
     }
    }
   ],
   "source": [
    "fig, ax = plt.subplots(figsize=(10,3))\n",
    "ax.barh(station_traffic.head(10).STATION, station_traffic.head(10).TOTAL_TRAFFIC)\n",
    "fig.suptitle('Top 10 Station by total traffic')\n",
    "ax.invert_yaxis()\n",
    "ax.xaxis.get_major_formatter().set_scientific(False)\n",
    "\n"
   ]
  },
  {
   "source": [
    "## Group by day of the week"
   ],
   "cell_type": "markdown",
   "metadata": {}
  },
  {
   "cell_type": "code",
   "execution_count": 589,
   "metadata": {},
   "outputs": [],
   "source": [
    "entries_by_day_of_week = entries_by_date.copy(deep=True)"
   ]
  },
  {
   "cell_type": "code",
   "execution_count": 590,
   "metadata": {},
   "outputs": [],
   "source": [
    "entries_by_day_of_week['DAY_OF_WEEK'] = entries_by_day_of_week.DATETIME.dt.day_name()"
   ]
  },
  {
   "cell_type": "code",
   "execution_count": 591,
   "metadata": {},
   "outputs": [],
   "source": [
    "entries_by_day_of_week = entries_by_day_of_week.groupby(['STATION', 'DAY_OF_WEEK'])['TOTAL_TRAFFIC'].sum().reset_index()"
   ]
  },
  {
   "cell_type": "code",
   "execution_count": 602,
   "metadata": {},
   "outputs": [
    {
     "output_type": "execute_result",
     "data": {
      "text/plain": "Text(0.5, 1.0, 'Traffic flow by day of the week')"
     },
     "metadata": {},
     "execution_count": 602
    },
    {
     "output_type": "display_data",
     "data": {
      "text/plain": "<Figure size 845.875x360 with 1 Axes>",
      "image/svg+xml": "<?xml version=\"1.0\" encoding=\"utf-8\" standalone=\"no\"?>\n<!DOCTYPE svg PUBLIC \"-//W3C//DTD SVG 1.1//EN\"\n  \"http://www.w3.org/Graphics/SVG/1.1/DTD/svg11.dtd\">\n<!-- Created with matplotlib (https://matplotlib.org/) -->\n<svg height=\"372.155312pt\" version=\"1.1\" viewBox=\"0 0 850.214731 372.155312\" width=\"850.214731pt\" xmlns=\"http://www.w3.org/2000/svg\" xmlns:xlink=\"http://www.w3.org/1999/xlink\">\n <metadata>\n  <rdf:RDF xmlns:cc=\"http://creativecommons.org/ns#\" xmlns:dc=\"http://purl.org/dc/elements/1.1/\" xmlns:rdf=\"http://www.w3.org/1999/02/22-rdf-syntax-ns#\">\n   <cc:Work>\n    <dc:type rdf:resource=\"http://purl.org/dc/dcmitype/StillImage\"/>\n    <dc:date>2020-09-27T14:58:20.421056</dc:date>\n    <dc:format>image/svg+xml</dc:format>\n    <dc:creator>\n     <cc:Agent>\n      <dc:title>Matplotlib v3.3.1, https://matplotlib.org/</dc:title>\n     </cc:Agent>\n    </dc:creator>\n   </cc:Work>\n  </rdf:RDF>\n </metadata>\n <defs>\n  <style type=\"text/css\">*{stroke-linecap:butt;stroke-linejoin:round;}</style>\n </defs>\n <g id=\"figure_1\">\n  <g id=\"patch_1\">\n   <path d=\"M 0 372.155312 \nL 850.214731 372.155312 \nL 850.214731 0 \nL 0 0 \nz\n\" style=\"fill:none;\"/>\n  </g>\n  <g id=\"axes_1\">\n   <g id=\"patch_2\">\n    <path d=\"M 67.98875 348.277187 \nL 713.680981 348.277187 \nL 713.680981 26.877187 \nL 67.98875 26.877187 \nz\n\" style=\"fill:#ffffff;\"/>\n   </g>\n   <g id=\"PathCollection_1\">\n    <defs>\n     <path d=\"M 0 3.383948 \nC 0.897434 3.383948 1.758231 3.027394 2.392813 2.392813 \nC 3.027394 1.758231 3.383948 0.897434 3.383948 0 \nC 3.383948 -0.897434 3.027394 -1.758231 2.392813 -2.392813 \nC 1.758231 -3.027394 0.897434 -3.383948 0 -3.383948 \nC -0.897434 -3.383948 -1.758231 -3.027394 -2.392813 -2.392813 \nC -3.027394 -1.758231 -3.383948 -0.897434 -3.383948 0 \nC -3.383948 0.897434 -3.027394 1.758231 -2.392813 2.392813 \nC -1.758231 3.027394 -0.897434 3.383948 0 3.383948 \nz\n\" id=\"m8bf9389891\" style=\"stroke:#1f77b4;stroke-width:2.025;\"/>\n    </defs>\n    <g clip-path=\"url(#pef68701e53)\">\n     <use style=\"fill:#1f77b4;stroke:#1f77b4;stroke-width:2.025;\" x=\"114.109624\" xlink:href=\"#m8bf9389891\" y=\"114.535995\"/>\n     <use style=\"fill:#1f77b4;stroke:#1f77b4;stroke-width:2.025;\" x=\"206.351371\" xlink:href=\"#m8bf9389891\" y=\"54.464144\"/>\n     <use style=\"fill:#1f77b4;stroke:#1f77b4;stroke-width:2.025;\" x=\"298.593118\" xlink:href=\"#m8bf9389891\" y=\"53.402117\"/>\n     <use style=\"fill:#1f77b4;stroke:#1f77b4;stroke-width:2.025;\" x=\"390.834865\" xlink:href=\"#m8bf9389891\" y=\"49.933057\"/>\n     <use style=\"fill:#1f77b4;stroke:#1f77b4;stroke-width:2.025;\" x=\"483.076613\" xlink:href=\"#m8bf9389891\" y=\"41.486278\"/>\n     <use style=\"fill:#1f77b4;stroke:#1f77b4;stroke-width:2.025;\" x=\"575.31836\" xlink:href=\"#m8bf9389891\" y=\"199.479389\"/>\n     <use style=\"fill:#1f77b4;stroke:#1f77b4;stroke-width:2.025;\" x=\"667.560107\" xlink:href=\"#m8bf9389891\" y=\"225.40614\"/>\n    </g>\n   </g>\n   <g id=\"line2d_1\">\n    <path clip-path=\"url(#pef68701e53)\" d=\"M 114.109624 114.535995 \nL 206.351371 54.464144 \nL 298.593118 53.402117 \nL 390.834865 49.933057 \nL 483.076613 41.486278 \nL 575.31836 199.479389 \nL 667.560107 225.40614 \n\" style=\"fill:none;stroke:#1f77b4;stroke-linecap:square;stroke-width:2.7;\"/>\n   </g>\n   <g id=\"line2d_2\">\n    <path clip-path=\"url(#pef68701e53)\" d=\"M 0 0 \n\" style=\"fill:none;stroke:#1f77b4;stroke-linecap:square;stroke-width:2.7;\"/>\n   </g>\n   <g id=\"line2d_3\">\n    <path clip-path=\"url(#pef68701e53)\" d=\"M 0 0 \n\" style=\"fill:none;stroke:#1f77b4;stroke-linecap:square;stroke-width:2.7;\"/>\n   </g>\n   <g id=\"line2d_4\">\n    <path clip-path=\"url(#pef68701e53)\" d=\"M 0 0 \n\" style=\"fill:none;stroke:#1f77b4;stroke-linecap:square;stroke-width:2.7;\"/>\n   </g>\n   <g id=\"line2d_5\">\n    <path clip-path=\"url(#pef68701e53)\" d=\"M 0 0 \n\" style=\"fill:none;stroke:#1f77b4;stroke-linecap:square;stroke-width:2.7;\"/>\n   </g>\n   <g id=\"line2d_6\">\n    <path clip-path=\"url(#pef68701e53)\" d=\"M 0 0 \n\" style=\"fill:none;stroke:#1f77b4;stroke-linecap:square;stroke-width:2.7;\"/>\n   </g>\n   <g id=\"line2d_7\">\n    <path clip-path=\"url(#pef68701e53)\" d=\"M 0 0 \n\" style=\"fill:none;stroke:#1f77b4;stroke-linecap:square;stroke-width:2.7;\"/>\n   </g>\n   <g id=\"line2d_8\">\n    <path clip-path=\"url(#pef68701e53)\" d=\"M 0 0 \n\" style=\"fill:none;stroke:#1f77b4;stroke-linecap:square;stroke-width:2.7;\"/>\n   </g>\n   <g id=\"matplotlib.axis_1\">\n    <g id=\"xtick_1\">\n     <g id=\"line2d_9\">\n      <defs>\n       <path d=\"M 0 0 \nL 0 3.5 \n\" id=\"m9c66105b4b\" style=\"stroke:#000000;stroke-width:0.8;\"/>\n      </defs>\n      <g>\n       <use style=\"stroke:#000000;stroke-width:0.8;\" x=\"114.109624\" xlink:href=\"#m9c66105b4b\" y=\"348.277187\"/>\n      </g>\n     </g>\n     <g id=\"text_1\">\n      <!-- Monday -->\n      <g transform=\"translate(94.36978 362.875625)scale(0.1 -0.1)\">\n       <defs>\n        <path d=\"M 9.8125 72.90625 \nL 24.515625 72.90625 \nL 43.109375 23.296875 \nL 61.8125 72.90625 \nL 76.515625 72.90625 \nL 76.515625 0 \nL 66.890625 0 \nL 66.890625 64.015625 \nL 48.09375 14.015625 \nL 38.1875 14.015625 \nL 19.390625 64.015625 \nL 19.390625 0 \nL 9.8125 0 \nz\n\" id=\"DejaVuSans-77\"/>\n        <path d=\"M 30.609375 48.390625 \nQ 23.390625 48.390625 19.1875 42.75 \nQ 14.984375 37.109375 14.984375 27.296875 \nQ 14.984375 17.484375 19.15625 11.84375 \nQ 23.34375 6.203125 30.609375 6.203125 \nQ 37.796875 6.203125 41.984375 11.859375 \nQ 46.1875 17.53125 46.1875 27.296875 \nQ 46.1875 37.015625 41.984375 42.703125 \nQ 37.796875 48.390625 30.609375 48.390625 \nz\nM 30.609375 56 \nQ 42.328125 56 49.015625 48.375 \nQ 55.71875 40.765625 55.71875 27.296875 \nQ 55.71875 13.875 49.015625 6.21875 \nQ 42.328125 -1.421875 30.609375 -1.421875 \nQ 18.84375 -1.421875 12.171875 6.21875 \nQ 5.515625 13.875 5.515625 27.296875 \nQ 5.515625 40.765625 12.171875 48.375 \nQ 18.84375 56 30.609375 56 \nz\n\" id=\"DejaVuSans-111\"/>\n        <path d=\"M 54.890625 33.015625 \nL 54.890625 0 \nL 45.90625 0 \nL 45.90625 32.71875 \nQ 45.90625 40.484375 42.875 44.328125 \nQ 39.84375 48.1875 33.796875 48.1875 \nQ 26.515625 48.1875 22.3125 43.546875 \nQ 18.109375 38.921875 18.109375 30.90625 \nL 18.109375 0 \nL 9.078125 0 \nL 9.078125 54.6875 \nL 18.109375 54.6875 \nL 18.109375 46.1875 \nQ 21.34375 51.125 25.703125 53.5625 \nQ 30.078125 56 35.796875 56 \nQ 45.21875 56 50.046875 50.171875 \nQ 54.890625 44.34375 54.890625 33.015625 \nz\n\" id=\"DejaVuSans-110\"/>\n        <path d=\"M 45.40625 46.390625 \nL 45.40625 75.984375 \nL 54.390625 75.984375 \nL 54.390625 0 \nL 45.40625 0 \nL 45.40625 8.203125 \nQ 42.578125 3.328125 38.25 0.953125 \nQ 33.9375 -1.421875 27.875 -1.421875 \nQ 17.96875 -1.421875 11.734375 6.484375 \nQ 5.515625 14.40625 5.515625 27.296875 \nQ 5.515625 40.1875 11.734375 48.09375 \nQ 17.96875 56 27.875 56 \nQ 33.9375 56 38.25 53.625 \nQ 42.578125 51.265625 45.40625 46.390625 \nz\nM 14.796875 27.296875 \nQ 14.796875 17.390625 18.875 11.75 \nQ 22.953125 6.109375 30.078125 6.109375 \nQ 37.203125 6.109375 41.296875 11.75 \nQ 45.40625 17.390625 45.40625 27.296875 \nQ 45.40625 37.203125 41.296875 42.84375 \nQ 37.203125 48.484375 30.078125 48.484375 \nQ 22.953125 48.484375 18.875 42.84375 \nQ 14.796875 37.203125 14.796875 27.296875 \nz\n\" id=\"DejaVuSans-100\"/>\n        <path d=\"M 34.28125 27.484375 \nQ 23.390625 27.484375 19.1875 25 \nQ 14.984375 22.515625 14.984375 16.5 \nQ 14.984375 11.71875 18.140625 8.90625 \nQ 21.296875 6.109375 26.703125 6.109375 \nQ 34.1875 6.109375 38.703125 11.40625 \nQ 43.21875 16.703125 43.21875 25.484375 \nL 43.21875 27.484375 \nz\nM 52.203125 31.203125 \nL 52.203125 0 \nL 43.21875 0 \nL 43.21875 8.296875 \nQ 40.140625 3.328125 35.546875 0.953125 \nQ 30.953125 -1.421875 24.3125 -1.421875 \nQ 15.921875 -1.421875 10.953125 3.296875 \nQ 6 8.015625 6 15.921875 \nQ 6 25.140625 12.171875 29.828125 \nQ 18.359375 34.515625 30.609375 34.515625 \nL 43.21875 34.515625 \nL 43.21875 35.40625 \nQ 43.21875 41.609375 39.140625 45 \nQ 35.0625 48.390625 27.6875 48.390625 \nQ 23 48.390625 18.546875 47.265625 \nQ 14.109375 46.140625 10.015625 43.890625 \nL 10.015625 52.203125 \nQ 14.9375 54.109375 19.578125 55.046875 \nQ 24.21875 56 28.609375 56 \nQ 40.484375 56 46.34375 49.84375 \nQ 52.203125 43.703125 52.203125 31.203125 \nz\n\" id=\"DejaVuSans-97\"/>\n        <path d=\"M 32.171875 -5.078125 \nQ 28.375 -14.84375 24.75 -17.8125 \nQ 21.140625 -20.796875 15.09375 -20.796875 \nL 7.90625 -20.796875 \nL 7.90625 -13.28125 \nL 13.1875 -13.28125 \nQ 16.890625 -13.28125 18.9375 -11.515625 \nQ 21 -9.765625 23.484375 -3.21875 \nL 25.09375 0.875 \nL 2.984375 54.6875 \nL 12.5 54.6875 \nL 29.59375 11.921875 \nL 46.6875 54.6875 \nL 56.203125 54.6875 \nz\n\" id=\"DejaVuSans-121\"/>\n       </defs>\n       <use xlink:href=\"#DejaVuSans-77\"/>\n       <use x=\"86.279297\" xlink:href=\"#DejaVuSans-111\"/>\n       <use x=\"147.460938\" xlink:href=\"#DejaVuSans-110\"/>\n       <use x=\"210.839844\" xlink:href=\"#DejaVuSans-100\"/>\n       <use x=\"274.316406\" xlink:href=\"#DejaVuSans-97\"/>\n       <use x=\"335.595703\" xlink:href=\"#DejaVuSans-121\"/>\n      </g>\n     </g>\n    </g>\n    <g id=\"xtick_2\">\n     <g id=\"line2d_10\">\n      <g>\n       <use style=\"stroke:#000000;stroke-width:0.8;\" x=\"206.351371\" xlink:href=\"#m9c66105b4b\" y=\"348.277187\"/>\n      </g>\n     </g>\n     <g id=\"text_2\">\n      <!-- Tuesday -->\n      <g transform=\"translate(186.006058 362.875625)scale(0.1 -0.1)\">\n       <defs>\n        <path d=\"M -0.296875 72.90625 \nL 61.375 72.90625 \nL 61.375 64.59375 \nL 35.5 64.59375 \nL 35.5 0 \nL 25.59375 0 \nL 25.59375 64.59375 \nL -0.296875 64.59375 \nz\n\" id=\"DejaVuSans-84\"/>\n        <path d=\"M 8.5 21.578125 \nL 8.5 54.6875 \nL 17.484375 54.6875 \nL 17.484375 21.921875 \nQ 17.484375 14.15625 20.5 10.265625 \nQ 23.53125 6.390625 29.59375 6.390625 \nQ 36.859375 6.390625 41.078125 11.03125 \nQ 45.3125 15.671875 45.3125 23.6875 \nL 45.3125 54.6875 \nL 54.296875 54.6875 \nL 54.296875 0 \nL 45.3125 0 \nL 45.3125 8.40625 \nQ 42.046875 3.421875 37.71875 1 \nQ 33.40625 -1.421875 27.6875 -1.421875 \nQ 18.265625 -1.421875 13.375 4.4375 \nQ 8.5 10.296875 8.5 21.578125 \nz\nM 31.109375 56 \nz\n\" id=\"DejaVuSans-117\"/>\n        <path d=\"M 56.203125 29.59375 \nL 56.203125 25.203125 \nL 14.890625 25.203125 \nQ 15.484375 15.921875 20.484375 11.0625 \nQ 25.484375 6.203125 34.421875 6.203125 \nQ 39.59375 6.203125 44.453125 7.46875 \nQ 49.3125 8.734375 54.109375 11.28125 \nL 54.109375 2.78125 \nQ 49.265625 0.734375 44.1875 -0.34375 \nQ 39.109375 -1.421875 33.890625 -1.421875 \nQ 20.796875 -1.421875 13.15625 6.1875 \nQ 5.515625 13.8125 5.515625 26.8125 \nQ 5.515625 40.234375 12.765625 48.109375 \nQ 20.015625 56 32.328125 56 \nQ 43.359375 56 49.78125 48.890625 \nQ 56.203125 41.796875 56.203125 29.59375 \nz\nM 47.21875 32.234375 \nQ 47.125 39.59375 43.09375 43.984375 \nQ 39.0625 48.390625 32.421875 48.390625 \nQ 24.90625 48.390625 20.390625 44.140625 \nQ 15.875 39.890625 15.1875 32.171875 \nz\n\" id=\"DejaVuSans-101\"/>\n        <path d=\"M 44.28125 53.078125 \nL 44.28125 44.578125 \nQ 40.484375 46.53125 36.375 47.5 \nQ 32.28125 48.484375 27.875 48.484375 \nQ 21.1875 48.484375 17.84375 46.4375 \nQ 14.5 44.390625 14.5 40.28125 \nQ 14.5 37.15625 16.890625 35.375 \nQ 19.28125 33.59375 26.515625 31.984375 \nL 29.59375 31.296875 \nQ 39.15625 29.25 43.1875 25.515625 \nQ 47.21875 21.78125 47.21875 15.09375 \nQ 47.21875 7.46875 41.1875 3.015625 \nQ 35.15625 -1.421875 24.609375 -1.421875 \nQ 20.21875 -1.421875 15.453125 -0.5625 \nQ 10.6875 0.296875 5.421875 2 \nL 5.421875 11.28125 \nQ 10.40625 8.6875 15.234375 7.390625 \nQ 20.0625 6.109375 24.8125 6.109375 \nQ 31.15625 6.109375 34.5625 8.28125 \nQ 37.984375 10.453125 37.984375 14.40625 \nQ 37.984375 18.0625 35.515625 20.015625 \nQ 33.0625 21.96875 24.703125 23.78125 \nL 21.578125 24.515625 \nQ 13.234375 26.265625 9.515625 29.90625 \nQ 5.8125 33.546875 5.8125 39.890625 \nQ 5.8125 47.609375 11.28125 51.796875 \nQ 16.75 56 26.8125 56 \nQ 31.78125 56 36.171875 55.265625 \nQ 40.578125 54.546875 44.28125 53.078125 \nz\n\" id=\"DejaVuSans-115\"/>\n       </defs>\n       <use xlink:href=\"#DejaVuSans-84\"/>\n       <use x=\"45.958984\" xlink:href=\"#DejaVuSans-117\"/>\n       <use x=\"109.337891\" xlink:href=\"#DejaVuSans-101\"/>\n       <use x=\"170.861328\" xlink:href=\"#DejaVuSans-115\"/>\n       <use x=\"222.960938\" xlink:href=\"#DejaVuSans-100\"/>\n       <use x=\"286.4375\" xlink:href=\"#DejaVuSans-97\"/>\n       <use x=\"347.716797\" xlink:href=\"#DejaVuSans-121\"/>\n      </g>\n     </g>\n    </g>\n    <g id=\"xtick_3\">\n     <g id=\"line2d_11\">\n      <g>\n       <use style=\"stroke:#000000;stroke-width:0.8;\" x=\"298.593118\" xlink:href=\"#m9c66105b4b\" y=\"348.277187\"/>\n      </g>\n     </g>\n     <g id=\"text_3\">\n      <!-- Wednesday -->\n      <g transform=\"translate(269.644681 362.875625)scale(0.1 -0.1)\">\n       <defs>\n        <path d=\"M 3.328125 72.90625 \nL 13.28125 72.90625 \nL 28.609375 11.28125 \nL 43.890625 72.90625 \nL 54.984375 72.90625 \nL 70.3125 11.28125 \nL 85.59375 72.90625 \nL 95.609375 72.90625 \nL 77.296875 0 \nL 64.890625 0 \nL 49.515625 63.28125 \nL 33.984375 0 \nL 21.578125 0 \nz\n\" id=\"DejaVuSans-87\"/>\n       </defs>\n       <use xlink:href=\"#DejaVuSans-87\"/>\n       <use x=\"93.001953\" xlink:href=\"#DejaVuSans-101\"/>\n       <use x=\"154.525391\" xlink:href=\"#DejaVuSans-100\"/>\n       <use x=\"218.001953\" xlink:href=\"#DejaVuSans-110\"/>\n       <use x=\"281.380859\" xlink:href=\"#DejaVuSans-101\"/>\n       <use x=\"342.904297\" xlink:href=\"#DejaVuSans-115\"/>\n       <use x=\"395.003906\" xlink:href=\"#DejaVuSans-100\"/>\n       <use x=\"458.480469\" xlink:href=\"#DejaVuSans-97\"/>\n       <use x=\"519.759766\" xlink:href=\"#DejaVuSans-121\"/>\n      </g>\n     </g>\n    </g>\n    <g id=\"xtick_4\">\n     <g id=\"line2d_12\">\n      <g>\n       <use style=\"stroke:#000000;stroke-width:0.8;\" x=\"390.834865\" xlink:href=\"#m9c66105b4b\" y=\"348.277187\"/>\n      </g>\n     </g>\n     <g id=\"text_4\">\n      <!-- Thursday -->\n      <g transform=\"translate(367.585647 362.875625)scale(0.1 -0.1)\">\n       <defs>\n        <path d=\"M 54.890625 33.015625 \nL 54.890625 0 \nL 45.90625 0 \nL 45.90625 32.71875 \nQ 45.90625 40.484375 42.875 44.328125 \nQ 39.84375 48.1875 33.796875 48.1875 \nQ 26.515625 48.1875 22.3125 43.546875 \nQ 18.109375 38.921875 18.109375 30.90625 \nL 18.109375 0 \nL 9.078125 0 \nL 9.078125 75.984375 \nL 18.109375 75.984375 \nL 18.109375 46.1875 \nQ 21.34375 51.125 25.703125 53.5625 \nQ 30.078125 56 35.796875 56 \nQ 45.21875 56 50.046875 50.171875 \nQ 54.890625 44.34375 54.890625 33.015625 \nz\n\" id=\"DejaVuSans-104\"/>\n        <path d=\"M 41.109375 46.296875 \nQ 39.59375 47.171875 37.8125 47.578125 \nQ 36.03125 48 33.890625 48 \nQ 26.265625 48 22.1875 43.046875 \nQ 18.109375 38.09375 18.109375 28.8125 \nL 18.109375 0 \nL 9.078125 0 \nL 9.078125 54.6875 \nL 18.109375 54.6875 \nL 18.109375 46.1875 \nQ 20.953125 51.171875 25.484375 53.578125 \nQ 30.03125 56 36.53125 56 \nQ 37.453125 56 38.578125 55.875 \nQ 39.703125 55.765625 41.0625 55.515625 \nz\n\" id=\"DejaVuSans-114\"/>\n       </defs>\n       <use xlink:href=\"#DejaVuSans-84\"/>\n       <use x=\"61.083984\" xlink:href=\"#DejaVuSans-104\"/>\n       <use x=\"124.462891\" xlink:href=\"#DejaVuSans-117\"/>\n       <use x=\"187.841797\" xlink:href=\"#DejaVuSans-114\"/>\n       <use x=\"228.955078\" xlink:href=\"#DejaVuSans-115\"/>\n       <use x=\"281.054688\" xlink:href=\"#DejaVuSans-100\"/>\n       <use x=\"344.53125\" xlink:href=\"#DejaVuSans-97\"/>\n       <use x=\"405.810547\" xlink:href=\"#DejaVuSans-121\"/>\n      </g>\n     </g>\n    </g>\n    <g id=\"xtick_5\">\n     <g id=\"line2d_13\">\n      <g>\n       <use style=\"stroke:#000000;stroke-width:0.8;\" x=\"483.076613\" xlink:href=\"#m9c66105b4b\" y=\"348.277187\"/>\n      </g>\n     </g>\n     <g id=\"text_5\">\n      <!-- Friday -->\n      <g transform=\"translate(467.921144 362.875625)scale(0.1 -0.1)\">\n       <defs>\n        <path d=\"M 9.8125 72.90625 \nL 51.703125 72.90625 \nL 51.703125 64.59375 \nL 19.671875 64.59375 \nL 19.671875 43.109375 \nL 48.578125 43.109375 \nL 48.578125 34.8125 \nL 19.671875 34.8125 \nL 19.671875 0 \nL 9.8125 0 \nz\n\" id=\"DejaVuSans-70\"/>\n        <path d=\"M 9.421875 54.6875 \nL 18.40625 54.6875 \nL 18.40625 0 \nL 9.421875 0 \nz\nM 9.421875 75.984375 \nL 18.40625 75.984375 \nL 18.40625 64.59375 \nL 9.421875 64.59375 \nz\n\" id=\"DejaVuSans-105\"/>\n       </defs>\n       <use xlink:href=\"#DejaVuSans-70\"/>\n       <use x=\"50.269531\" xlink:href=\"#DejaVuSans-114\"/>\n       <use x=\"91.382812\" xlink:href=\"#DejaVuSans-105\"/>\n       <use x=\"119.166016\" xlink:href=\"#DejaVuSans-100\"/>\n       <use x=\"182.642578\" xlink:href=\"#DejaVuSans-97\"/>\n       <use x=\"243.921875\" xlink:href=\"#DejaVuSans-121\"/>\n      </g>\n     </g>\n    </g>\n    <g id=\"xtick_6\">\n     <g id=\"line2d_14\">\n      <g>\n       <use style=\"stroke:#000000;stroke-width:0.8;\" x=\"575.31836\" xlink:href=\"#m9c66105b4b\" y=\"348.277187\"/>\n      </g>\n     </g>\n     <g id=\"text_6\">\n      <!-- Saturday -->\n      <g transform=\"translate(552.785547 362.875625)scale(0.1 -0.1)\">\n       <defs>\n        <path d=\"M 53.515625 70.515625 \nL 53.515625 60.890625 \nQ 47.90625 63.578125 42.921875 64.890625 \nQ 37.9375 66.21875 33.296875 66.21875 \nQ 25.25 66.21875 20.875 63.09375 \nQ 16.5 59.96875 16.5 54.203125 \nQ 16.5 49.359375 19.40625 46.890625 \nQ 22.3125 44.4375 30.421875 42.921875 \nL 36.375 41.703125 \nQ 47.40625 39.59375 52.65625 34.296875 \nQ 57.90625 29 57.90625 20.125 \nQ 57.90625 9.515625 50.796875 4.046875 \nQ 43.703125 -1.421875 29.984375 -1.421875 \nQ 24.8125 -1.421875 18.96875 -0.25 \nQ 13.140625 0.921875 6.890625 3.21875 \nL 6.890625 13.375 \nQ 12.890625 10.015625 18.65625 8.296875 \nQ 24.421875 6.59375 29.984375 6.59375 \nQ 38.421875 6.59375 43.015625 9.90625 \nQ 47.609375 13.234375 47.609375 19.390625 \nQ 47.609375 24.75 44.3125 27.78125 \nQ 41.015625 30.8125 33.5 32.328125 \nL 27.484375 33.5 \nQ 16.453125 35.6875 11.515625 40.375 \nQ 6.59375 45.0625 6.59375 53.421875 \nQ 6.59375 63.09375 13.40625 68.65625 \nQ 20.21875 74.21875 32.171875 74.21875 \nQ 37.3125 74.21875 42.625 73.28125 \nQ 47.953125 72.359375 53.515625 70.515625 \nz\n\" id=\"DejaVuSans-83\"/>\n        <path d=\"M 18.3125 70.21875 \nL 18.3125 54.6875 \nL 36.8125 54.6875 \nL 36.8125 47.703125 \nL 18.3125 47.703125 \nL 18.3125 18.015625 \nQ 18.3125 11.328125 20.140625 9.421875 \nQ 21.96875 7.515625 27.59375 7.515625 \nL 36.8125 7.515625 \nL 36.8125 0 \nL 27.59375 0 \nQ 17.1875 0 13.234375 3.875 \nQ 9.28125 7.765625 9.28125 18.015625 \nL 9.28125 47.703125 \nL 2.6875 47.703125 \nL 2.6875 54.6875 \nL 9.28125 54.6875 \nL 9.28125 70.21875 \nz\n\" id=\"DejaVuSans-116\"/>\n       </defs>\n       <use xlink:href=\"#DejaVuSans-83\"/>\n       <use x=\"63.476562\" xlink:href=\"#DejaVuSans-97\"/>\n       <use x=\"124.755859\" xlink:href=\"#DejaVuSans-116\"/>\n       <use x=\"163.964844\" xlink:href=\"#DejaVuSans-117\"/>\n       <use x=\"227.34375\" xlink:href=\"#DejaVuSans-114\"/>\n       <use x=\"266.707031\" xlink:href=\"#DejaVuSans-100\"/>\n       <use x=\"330.183594\" xlink:href=\"#DejaVuSans-97\"/>\n       <use x=\"391.462891\" xlink:href=\"#DejaVuSans-121\"/>\n      </g>\n     </g>\n    </g>\n    <g id=\"xtick_7\">\n     <g id=\"line2d_15\">\n      <g>\n       <use style=\"stroke:#000000;stroke-width:0.8;\" x=\"667.560107\" xlink:href=\"#m9c66105b4b\" y=\"348.277187\"/>\n      </g>\n     </g>\n     <g id=\"text_7\">\n      <!-- Sunday -->\n      <g transform=\"translate(648.850732 362.875625)scale(0.1 -0.1)\">\n       <use xlink:href=\"#DejaVuSans-83\"/>\n       <use x=\"63.476562\" xlink:href=\"#DejaVuSans-117\"/>\n       <use x=\"126.855469\" xlink:href=\"#DejaVuSans-110\"/>\n       <use x=\"190.234375\" xlink:href=\"#DejaVuSans-100\"/>\n       <use x=\"253.710938\" xlink:href=\"#DejaVuSans-97\"/>\n       <use x=\"314.990234\" xlink:href=\"#DejaVuSans-121\"/>\n      </g>\n     </g>\n    </g>\n   </g>\n   <g id=\"matplotlib.axis_2\">\n    <g id=\"ytick_1\">\n     <g id=\"line2d_16\">\n      <defs>\n       <path d=\"M 0 0 \nL -3.5 0 \n\" id=\"m6235f2ee51\" style=\"stroke:#000000;stroke-width:0.8;\"/>\n      </defs>\n      <g>\n       <use style=\"stroke:#000000;stroke-width:0.8;\" x=\"67.98875\" xlink:href=\"#m6235f2ee51\" y=\"329.951855\"/>\n      </g>\n     </g>\n     <g id=\"text_8\">\n      <!-- 50000 -->\n      <g transform=\"translate(29.17625 333.751074)scale(0.1 -0.1)\">\n       <defs>\n        <path d=\"M 10.796875 72.90625 \nL 49.515625 72.90625 \nL 49.515625 64.59375 \nL 19.828125 64.59375 \nL 19.828125 46.734375 \nQ 21.96875 47.46875 24.109375 47.828125 \nQ 26.265625 48.1875 28.421875 48.1875 \nQ 40.625 48.1875 47.75 41.5 \nQ 54.890625 34.8125 54.890625 23.390625 \nQ 54.890625 11.625 47.5625 5.09375 \nQ 40.234375 -1.421875 26.90625 -1.421875 \nQ 22.3125 -1.421875 17.546875 -0.640625 \nQ 12.796875 0.140625 7.71875 1.703125 \nL 7.71875 11.625 \nQ 12.109375 9.234375 16.796875 8.0625 \nQ 21.484375 6.890625 26.703125 6.890625 \nQ 35.15625 6.890625 40.078125 11.328125 \nQ 45.015625 15.765625 45.015625 23.390625 \nQ 45.015625 31 40.078125 35.4375 \nQ 35.15625 39.890625 26.703125 39.890625 \nQ 22.75 39.890625 18.8125 39.015625 \nQ 14.890625 38.140625 10.796875 36.28125 \nz\n\" id=\"DejaVuSans-53\"/>\n        <path d=\"M 31.78125 66.40625 \nQ 24.171875 66.40625 20.328125 58.90625 \nQ 16.5 51.421875 16.5 36.375 \nQ 16.5 21.390625 20.328125 13.890625 \nQ 24.171875 6.390625 31.78125 6.390625 \nQ 39.453125 6.390625 43.28125 13.890625 \nQ 47.125 21.390625 47.125 36.375 \nQ 47.125 51.421875 43.28125 58.90625 \nQ 39.453125 66.40625 31.78125 66.40625 \nz\nM 31.78125 74.21875 \nQ 44.046875 74.21875 50.515625 64.515625 \nQ 56.984375 54.828125 56.984375 36.375 \nQ 56.984375 17.96875 50.515625 8.265625 \nQ 44.046875 -1.421875 31.78125 -1.421875 \nQ 19.53125 -1.421875 13.0625 8.265625 \nQ 6.59375 17.96875 6.59375 36.375 \nQ 6.59375 54.828125 13.0625 64.515625 \nQ 19.53125 74.21875 31.78125 74.21875 \nz\n\" id=\"DejaVuSans-48\"/>\n       </defs>\n       <use xlink:href=\"#DejaVuSans-53\"/>\n       <use x=\"63.623047\" xlink:href=\"#DejaVuSans-48\"/>\n       <use x=\"127.246094\" xlink:href=\"#DejaVuSans-48\"/>\n       <use x=\"190.869141\" xlink:href=\"#DejaVuSans-48\"/>\n       <use x=\"254.492188\" xlink:href=\"#DejaVuSans-48\"/>\n      </g>\n     </g>\n    </g>\n    <g id=\"ytick_2\">\n     <g id=\"line2d_17\">\n      <g>\n       <use style=\"stroke:#000000;stroke-width:0.8;\" x=\"67.98875\" xlink:href=\"#m6235f2ee51\" y=\"287.334406\"/>\n      </g>\n     </g>\n     <g id=\"text_9\">\n      <!-- 75000 -->\n      <g transform=\"translate(29.17625 291.133625)scale(0.1 -0.1)\">\n       <defs>\n        <path d=\"M 8.203125 72.90625 \nL 55.078125 72.90625 \nL 55.078125 68.703125 \nL 28.609375 0 \nL 18.3125 0 \nL 43.21875 64.59375 \nL 8.203125 64.59375 \nz\n\" id=\"DejaVuSans-55\"/>\n       </defs>\n       <use xlink:href=\"#DejaVuSans-55\"/>\n       <use x=\"63.623047\" xlink:href=\"#DejaVuSans-53\"/>\n       <use x=\"127.246094\" xlink:href=\"#DejaVuSans-48\"/>\n       <use x=\"190.869141\" xlink:href=\"#DejaVuSans-48\"/>\n       <use x=\"254.492188\" xlink:href=\"#DejaVuSans-48\"/>\n      </g>\n     </g>\n    </g>\n    <g id=\"ytick_3\">\n     <g id=\"line2d_18\">\n      <g>\n       <use style=\"stroke:#000000;stroke-width:0.8;\" x=\"67.98875\" xlink:href=\"#m6235f2ee51\" y=\"244.716958\"/>\n      </g>\n     </g>\n     <g id=\"text_10\">\n      <!-- 100000 -->\n      <g transform=\"translate(22.81375 248.516177)scale(0.1 -0.1)\">\n       <defs>\n        <path d=\"M 12.40625 8.296875 \nL 28.515625 8.296875 \nL 28.515625 63.921875 \nL 10.984375 60.40625 \nL 10.984375 69.390625 \nL 28.421875 72.90625 \nL 38.28125 72.90625 \nL 38.28125 8.296875 \nL 54.390625 8.296875 \nL 54.390625 0 \nL 12.40625 0 \nz\n\" id=\"DejaVuSans-49\"/>\n       </defs>\n       <use xlink:href=\"#DejaVuSans-49\"/>\n       <use x=\"63.623047\" xlink:href=\"#DejaVuSans-48\"/>\n       <use x=\"127.246094\" xlink:href=\"#DejaVuSans-48\"/>\n       <use x=\"190.869141\" xlink:href=\"#DejaVuSans-48\"/>\n       <use x=\"254.492188\" xlink:href=\"#DejaVuSans-48\"/>\n       <use x=\"318.115234\" xlink:href=\"#DejaVuSans-48\"/>\n      </g>\n     </g>\n    </g>\n    <g id=\"ytick_4\">\n     <g id=\"line2d_19\">\n      <g>\n       <use style=\"stroke:#000000;stroke-width:0.8;\" x=\"67.98875\" xlink:href=\"#m6235f2ee51\" y=\"202.099509\"/>\n      </g>\n     </g>\n     <g id=\"text_11\">\n      <!-- 125000 -->\n      <g transform=\"translate(22.81375 205.898728)scale(0.1 -0.1)\">\n       <defs>\n        <path d=\"M 19.1875 8.296875 \nL 53.609375 8.296875 \nL 53.609375 0 \nL 7.328125 0 \nL 7.328125 8.296875 \nQ 12.9375 14.109375 22.625 23.890625 \nQ 32.328125 33.6875 34.8125 36.53125 \nQ 39.546875 41.84375 41.421875 45.53125 \nQ 43.3125 49.21875 43.3125 52.78125 \nQ 43.3125 58.59375 39.234375 62.25 \nQ 35.15625 65.921875 28.609375 65.921875 \nQ 23.96875 65.921875 18.8125 64.3125 \nQ 13.671875 62.703125 7.8125 59.421875 \nL 7.8125 69.390625 \nQ 13.765625 71.78125 18.9375 73 \nQ 24.125 74.21875 28.421875 74.21875 \nQ 39.75 74.21875 46.484375 68.546875 \nQ 53.21875 62.890625 53.21875 53.421875 \nQ 53.21875 48.921875 51.53125 44.890625 \nQ 49.859375 40.875 45.40625 35.40625 \nQ 44.1875 33.984375 37.640625 27.21875 \nQ 31.109375 20.453125 19.1875 8.296875 \nz\n\" id=\"DejaVuSans-50\"/>\n       </defs>\n       <use xlink:href=\"#DejaVuSans-49\"/>\n       <use x=\"63.623047\" xlink:href=\"#DejaVuSans-50\"/>\n       <use x=\"127.246094\" xlink:href=\"#DejaVuSans-53\"/>\n       <use x=\"190.869141\" xlink:href=\"#DejaVuSans-48\"/>\n       <use x=\"254.492188\" xlink:href=\"#DejaVuSans-48\"/>\n       <use x=\"318.115234\" xlink:href=\"#DejaVuSans-48\"/>\n      </g>\n     </g>\n    </g>\n    <g id=\"ytick_5\">\n     <g id=\"line2d_20\">\n      <g>\n       <use style=\"stroke:#000000;stroke-width:0.8;\" x=\"67.98875\" xlink:href=\"#m6235f2ee51\" y=\"159.482061\"/>\n      </g>\n     </g>\n     <g id=\"text_12\">\n      <!-- 150000 -->\n      <g transform=\"translate(22.81375 163.281279)scale(0.1 -0.1)\">\n       <use xlink:href=\"#DejaVuSans-49\"/>\n       <use x=\"63.623047\" xlink:href=\"#DejaVuSans-53\"/>\n       <use x=\"127.246094\" xlink:href=\"#DejaVuSans-48\"/>\n       <use x=\"190.869141\" xlink:href=\"#DejaVuSans-48\"/>\n       <use x=\"254.492188\" xlink:href=\"#DejaVuSans-48\"/>\n       <use x=\"318.115234\" xlink:href=\"#DejaVuSans-48\"/>\n      </g>\n     </g>\n    </g>\n    <g id=\"ytick_6\">\n     <g id=\"line2d_21\">\n      <g>\n       <use style=\"stroke:#000000;stroke-width:0.8;\" x=\"67.98875\" xlink:href=\"#m6235f2ee51\" y=\"116.864612\"/>\n      </g>\n     </g>\n     <g id=\"text_13\">\n      <!-- 175000 -->\n      <g transform=\"translate(22.81375 120.663831)scale(0.1 -0.1)\">\n       <use xlink:href=\"#DejaVuSans-49\"/>\n       <use x=\"63.623047\" xlink:href=\"#DejaVuSans-55\"/>\n       <use x=\"127.246094\" xlink:href=\"#DejaVuSans-53\"/>\n       <use x=\"190.869141\" xlink:href=\"#DejaVuSans-48\"/>\n       <use x=\"254.492188\" xlink:href=\"#DejaVuSans-48\"/>\n       <use x=\"318.115234\" xlink:href=\"#DejaVuSans-48\"/>\n      </g>\n     </g>\n    </g>\n    <g id=\"ytick_7\">\n     <g id=\"line2d_22\">\n      <g>\n       <use style=\"stroke:#000000;stroke-width:0.8;\" x=\"67.98875\" xlink:href=\"#m6235f2ee51\" y=\"74.247163\"/>\n      </g>\n     </g>\n     <g id=\"text_14\">\n      <!-- 200000 -->\n      <g transform=\"translate(22.81375 78.046382)scale(0.1 -0.1)\">\n       <use xlink:href=\"#DejaVuSans-50\"/>\n       <use x=\"63.623047\" xlink:href=\"#DejaVuSans-48\"/>\n       <use x=\"127.246094\" xlink:href=\"#DejaVuSans-48\"/>\n       <use x=\"190.869141\" xlink:href=\"#DejaVuSans-48\"/>\n       <use x=\"254.492188\" xlink:href=\"#DejaVuSans-48\"/>\n       <use x=\"318.115234\" xlink:href=\"#DejaVuSans-48\"/>\n      </g>\n     </g>\n    </g>\n    <g id=\"ytick_8\">\n     <g id=\"line2d_23\">\n      <g>\n       <use style=\"stroke:#000000;stroke-width:0.8;\" x=\"67.98875\" xlink:href=\"#m6235f2ee51\" y=\"31.629715\"/>\n      </g>\n     </g>\n     <g id=\"text_15\">\n      <!-- 225000 -->\n      <g transform=\"translate(22.81375 35.428934)scale(0.1 -0.1)\">\n       <use xlink:href=\"#DejaVuSans-50\"/>\n       <use x=\"63.623047\" xlink:href=\"#DejaVuSans-50\"/>\n       <use x=\"127.246094\" xlink:href=\"#DejaVuSans-53\"/>\n       <use x=\"190.869141\" xlink:href=\"#DejaVuSans-48\"/>\n       <use x=\"254.492188\" xlink:href=\"#DejaVuSans-48\"/>\n       <use x=\"318.115234\" xlink:href=\"#DejaVuSans-48\"/>\n      </g>\n     </g>\n    </g>\n    <g id=\"text_16\">\n     <!-- Traffic -->\n     <g transform=\"translate(16.318125 205.690625)rotate(-90)scale(0.12 -0.12)\">\n      <defs>\n       <path d=\"M 37.109375 75.984375 \nL 37.109375 68.5 \nL 28.515625 68.5 \nQ 23.6875 68.5 21.796875 66.546875 \nQ 19.921875 64.59375 19.921875 59.515625 \nL 19.921875 54.6875 \nL 34.71875 54.6875 \nL 34.71875 47.703125 \nL 19.921875 47.703125 \nL 19.921875 0 \nL 10.890625 0 \nL 10.890625 47.703125 \nL 2.296875 47.703125 \nL 2.296875 54.6875 \nL 10.890625 54.6875 \nL 10.890625 58.5 \nQ 10.890625 67.625 15.140625 71.796875 \nQ 19.390625 75.984375 28.609375 75.984375 \nz\n\" id=\"DejaVuSans-102\"/>\n       <path d=\"M 48.78125 52.59375 \nL 48.78125 44.1875 \nQ 44.96875 46.296875 41.140625 47.34375 \nQ 37.3125 48.390625 33.40625 48.390625 \nQ 24.65625 48.390625 19.8125 42.84375 \nQ 14.984375 37.3125 14.984375 27.296875 \nQ 14.984375 17.28125 19.8125 11.734375 \nQ 24.65625 6.203125 33.40625 6.203125 \nQ 37.3125 6.203125 41.140625 7.25 \nQ 44.96875 8.296875 48.78125 10.40625 \nL 48.78125 2.09375 \nQ 45.015625 0.34375 40.984375 -0.53125 \nQ 36.96875 -1.421875 32.421875 -1.421875 \nQ 20.0625 -1.421875 12.78125 6.34375 \nQ 5.515625 14.109375 5.515625 27.296875 \nQ 5.515625 40.671875 12.859375 48.328125 \nQ 20.21875 56 33.015625 56 \nQ 37.15625 56 41.109375 55.140625 \nQ 45.0625 54.296875 48.78125 52.59375 \nz\n\" id=\"DejaVuSans-99\"/>\n      </defs>\n      <use xlink:href=\"#DejaVuSans-84\"/>\n      <use x=\"46.333984\" xlink:href=\"#DejaVuSans-114\"/>\n      <use x=\"87.447266\" xlink:href=\"#DejaVuSans-97\"/>\n      <use x=\"148.726562\" xlink:href=\"#DejaVuSans-102\"/>\n      <use x=\"183.931641\" xlink:href=\"#DejaVuSans-102\"/>\n      <use x=\"219.136719\" xlink:href=\"#DejaVuSans-105\"/>\n      <use x=\"246.919922\" xlink:href=\"#DejaVuSans-99\"/>\n     </g>\n    </g>\n   </g>\n   <g id=\"PathCollection_2\">\n    <defs>\n     <path d=\"M 0 3.383948 \nC 0.897434 3.383948 1.758231 3.027394 2.392813 2.392813 \nC 3.027394 1.758231 3.383948 0.897434 3.383948 0 \nC 3.383948 -0.897434 3.027394 -1.758231 2.392813 -2.392813 \nC 1.758231 -3.027394 0.897434 -3.383948 0 -3.383948 \nC -0.897434 -3.383948 -1.758231 -3.027394 -2.392813 -2.392813 \nC -3.027394 -1.758231 -3.383948 -0.897434 -3.383948 0 \nC -3.383948 0.897434 -3.027394 1.758231 -2.392813 2.392813 \nC -1.758231 3.027394 -0.897434 3.383948 0 3.383948 \nz\n\" id=\"mc24aeaff3f\" style=\"stroke:#ff7f0e;stroke-width:2.025;\"/>\n    </defs>\n    <g clip-path=\"url(#pef68701e53)\">\n     <use style=\"fill:#ff7f0e;stroke:#ff7f0e;stroke-width:2.025;\" x=\"114.109624\" xlink:href=\"#mc24aeaff3f\" y=\"173.726517\"/>\n     <use style=\"fill:#ff7f0e;stroke:#ff7f0e;stroke-width:2.025;\" x=\"206.351371\" xlink:href=\"#mc24aeaff3f\" y=\"117.075995\"/>\n     <use style=\"fill:#ff7f0e;stroke:#ff7f0e;stroke-width:2.025;\" x=\"298.593118\" xlink:href=\"#mc24aeaff3f\" y=\"121.564464\"/>\n     <use style=\"fill:#ff7f0e;stroke:#ff7f0e;stroke-width:2.025;\" x=\"390.834865\" xlink:href=\"#mc24aeaff3f\" y=\"120.384813\"/>\n     <use style=\"fill:#ff7f0e;stroke:#ff7f0e;stroke-width:2.025;\" x=\"483.076613\" xlink:href=\"#mc24aeaff3f\" y=\"112.348867\"/>\n     <use style=\"fill:#ff7f0e;stroke:#ff7f0e;stroke-width:2.025;\" x=\"575.31836\" xlink:href=\"#mc24aeaff3f\" y=\"229.345697\"/>\n     <use style=\"fill:#ff7f0e;stroke:#ff7f0e;stroke-width:2.025;\" x=\"667.560107\" xlink:href=\"#mc24aeaff3f\" y=\"258.995508\"/>\n    </g>\n   </g>\n   <g id=\"line2d_24\">\n    <path clip-path=\"url(#pef68701e53)\" d=\"M 114.109624 173.726517 \nL 206.351371 117.075995 \nL 298.593118 121.564464 \nL 390.834865 120.384813 \nL 483.076613 112.348867 \nL 575.31836 229.345697 \nL 667.560107 258.995508 \n\" style=\"fill:none;stroke:#ff7f0e;stroke-linecap:square;stroke-width:2.7;\"/>\n   </g>\n   <g id=\"line2d_25\">\n    <path clip-path=\"url(#pef68701e53)\" d=\"M 0 0 \n\" style=\"fill:none;stroke:#ff7f0e;stroke-linecap:square;stroke-width:2.7;\"/>\n   </g>\n   <g id=\"line2d_26\">\n    <path clip-path=\"url(#pef68701e53)\" d=\"M 0 0 \n\" style=\"fill:none;stroke:#ff7f0e;stroke-linecap:square;stroke-width:2.7;\"/>\n   </g>\n   <g id=\"line2d_27\">\n    <path clip-path=\"url(#pef68701e53)\" d=\"M 0 0 \n\" style=\"fill:none;stroke:#ff7f0e;stroke-linecap:square;stroke-width:2.7;\"/>\n   </g>\n   <g id=\"line2d_28\">\n    <path clip-path=\"url(#pef68701e53)\" d=\"M 0 0 \n\" style=\"fill:none;stroke:#ff7f0e;stroke-linecap:square;stroke-width:2.7;\"/>\n   </g>\n   <g id=\"line2d_29\">\n    <path clip-path=\"url(#pef68701e53)\" d=\"M 0 0 \n\" style=\"fill:none;stroke:#ff7f0e;stroke-linecap:square;stroke-width:2.7;\"/>\n   </g>\n   <g id=\"line2d_30\">\n    <path clip-path=\"url(#pef68701e53)\" d=\"M 0 0 \n\" style=\"fill:none;stroke:#ff7f0e;stroke-linecap:square;stroke-width:2.7;\"/>\n   </g>\n   <g id=\"line2d_31\">\n    <path clip-path=\"url(#pef68701e53)\" d=\"M 0 0 \n\" style=\"fill:none;stroke:#ff7f0e;stroke-linecap:square;stroke-width:2.7;\"/>\n   </g>\n   <g id=\"patch_3\">\n    <path d=\"M 67.98875 348.277187 \nL 67.98875 26.877187 \n\" style=\"fill:none;stroke:#000000;stroke-linecap:square;stroke-linejoin:miter;stroke-width:0.8;\"/>\n   </g>\n   <g id=\"patch_4\">\n    <path d=\"M 67.98875 348.277187 \nL 713.680981 348.277187 \n\" style=\"fill:none;stroke:#000000;stroke-linecap:square;stroke-linejoin:miter;stroke-width:0.8;\"/>\n   </g>\n   <g id=\"PathCollection_3\">\n    <defs>\n     <path d=\"M 0 3.383948 \nC 0.897434 3.383948 1.758231 3.027394 2.392813 2.392813 \nC 3.027394 1.758231 3.383948 0.897434 3.383948 0 \nC 3.383948 -0.897434 3.027394 -1.758231 2.392813 -2.392813 \nC 1.758231 -3.027394 0.897434 -3.383948 0 -3.383948 \nC -0.897434 -3.383948 -1.758231 -3.027394 -2.392813 -2.392813 \nC -3.027394 -1.758231 -3.383948 -0.897434 -3.383948 0 \nC -3.383948 0.897434 -3.027394 1.758231 -2.392813 2.392813 \nC -1.758231 3.027394 -0.897434 3.383948 0 3.383948 \nz\n\" id=\"mbd8692c109\" style=\"stroke:#2ca02c;stroke-width:2.025;\"/>\n    </defs>\n    <g clip-path=\"url(#pef68701e53)\">\n     <use style=\"fill:#2ca02c;stroke:#2ca02c;stroke-width:2.025;\" x=\"114.109624\" xlink:href=\"#mbd8692c109\" y=\"192.053724\"/>\n     <use style=\"fill:#2ca02c;stroke:#2ca02c;stroke-width:2.025;\" x=\"206.351371\" xlink:href=\"#mbd8692c109\" y=\"143.611323\"/>\n     <use style=\"fill:#2ca02c;stroke:#2ca02c;stroke-width:2.025;\" x=\"298.593118\" xlink:href=\"#mbd8692c109\" y=\"140.21386\"/>\n     <use style=\"fill:#2ca02c;stroke:#2ca02c;stroke-width:2.025;\" x=\"390.834865\" xlink:href=\"#mbd8692c109\" y=\"137.880128\"/>\n     <use style=\"fill:#2ca02c;stroke:#2ca02c;stroke-width:2.025;\" x=\"483.076613\" xlink:href=\"#mbd8692c109\" y=\"134.122974\"/>\n     <use style=\"fill:#2ca02c;stroke:#2ca02c;stroke-width:2.025;\" x=\"575.31836\" xlink:href=\"#mbd8692c109\" y=\"258.008488\"/>\n     <use style=\"fill:#2ca02c;stroke:#2ca02c;stroke-width:2.025;\" x=\"667.560107\" xlink:href=\"#mbd8692c109\" y=\"280.848031\"/>\n    </g>\n   </g>\n   <g id=\"line2d_32\">\n    <path clip-path=\"url(#pef68701e53)\" d=\"M 114.109624 192.053724 \nL 206.351371 143.611323 \nL 298.593118 140.21386 \nL 390.834865 137.880128 \nL 483.076613 134.122974 \nL 575.31836 258.008488 \nL 667.560107 280.848031 \n\" style=\"fill:none;stroke:#2ca02c;stroke-linecap:square;stroke-width:2.7;\"/>\n   </g>\n   <g id=\"line2d_33\">\n    <path clip-path=\"url(#pef68701e53)\" d=\"M 0 0 \n\" style=\"fill:none;stroke:#2ca02c;stroke-linecap:square;stroke-width:2.7;\"/>\n   </g>\n   <g id=\"line2d_34\">\n    <path clip-path=\"url(#pef68701e53)\" d=\"M 0 0 \n\" style=\"fill:none;stroke:#2ca02c;stroke-linecap:square;stroke-width:2.7;\"/>\n   </g>\n   <g id=\"line2d_35\">\n    <path clip-path=\"url(#pef68701e53)\" d=\"M 0 0 \n\" style=\"fill:none;stroke:#2ca02c;stroke-linecap:square;stroke-width:2.7;\"/>\n   </g>\n   <g id=\"line2d_36\">\n    <path clip-path=\"url(#pef68701e53)\" d=\"M 0 0 \n\" style=\"fill:none;stroke:#2ca02c;stroke-linecap:square;stroke-width:2.7;\"/>\n   </g>\n   <g id=\"line2d_37\">\n    <path clip-path=\"url(#pef68701e53)\" d=\"M 0 0 \n\" style=\"fill:none;stroke:#2ca02c;stroke-linecap:square;stroke-width:2.7;\"/>\n   </g>\n   <g id=\"line2d_38\">\n    <path clip-path=\"url(#pef68701e53)\" d=\"M 0 0 \n\" style=\"fill:none;stroke:#2ca02c;stroke-linecap:square;stroke-width:2.7;\"/>\n   </g>\n   <g id=\"line2d_39\">\n    <path clip-path=\"url(#pef68701e53)\" d=\"M 0 0 \n\" style=\"fill:none;stroke:#2ca02c;stroke-linecap:square;stroke-width:2.7;\"/>\n   </g>\n   <g id=\"text_17\">\n    <!-- Traffic flow by day of the week -->\n    <g transform=\"translate(253.278303 20.877187)scale(0.18 -0.18)\">\n     <defs>\n      <path id=\"DejaVuSans-32\"/>\n      <path d=\"M 9.421875 75.984375 \nL 18.40625 75.984375 \nL 18.40625 0 \nL 9.421875 0 \nz\n\" id=\"DejaVuSans-108\"/>\n      <path d=\"M 4.203125 54.6875 \nL 13.1875 54.6875 \nL 24.421875 12.015625 \nL 35.59375 54.6875 \nL 46.1875 54.6875 \nL 57.421875 12.015625 \nL 68.609375 54.6875 \nL 77.59375 54.6875 \nL 63.28125 0 \nL 52.6875 0 \nL 40.921875 44.828125 \nL 29.109375 0 \nL 18.5 0 \nz\n\" id=\"DejaVuSans-119\"/>\n      <path d=\"M 48.6875 27.296875 \nQ 48.6875 37.203125 44.609375 42.84375 \nQ 40.53125 48.484375 33.40625 48.484375 \nQ 26.265625 48.484375 22.1875 42.84375 \nQ 18.109375 37.203125 18.109375 27.296875 \nQ 18.109375 17.390625 22.1875 11.75 \nQ 26.265625 6.109375 33.40625 6.109375 \nQ 40.53125 6.109375 44.609375 11.75 \nQ 48.6875 17.390625 48.6875 27.296875 \nz\nM 18.109375 46.390625 \nQ 20.953125 51.265625 25.265625 53.625 \nQ 29.59375 56 35.59375 56 \nQ 45.5625 56 51.78125 48.09375 \nQ 58.015625 40.1875 58.015625 27.296875 \nQ 58.015625 14.40625 51.78125 6.484375 \nQ 45.5625 -1.421875 35.59375 -1.421875 \nQ 29.59375 -1.421875 25.265625 0.953125 \nQ 20.953125 3.328125 18.109375 8.203125 \nL 18.109375 0 \nL 9.078125 0 \nL 9.078125 75.984375 \nL 18.109375 75.984375 \nz\n\" id=\"DejaVuSans-98\"/>\n      <path d=\"M 9.078125 75.984375 \nL 18.109375 75.984375 \nL 18.109375 31.109375 \nL 44.921875 54.6875 \nL 56.390625 54.6875 \nL 27.390625 29.109375 \nL 57.625 0 \nL 45.90625 0 \nL 18.109375 26.703125 \nL 18.109375 0 \nL 9.078125 0 \nz\n\" id=\"DejaVuSans-107\"/>\n     </defs>\n     <use xlink:href=\"#DejaVuSans-84\"/>\n     <use x=\"46.333984\" xlink:href=\"#DejaVuSans-114\"/>\n     <use x=\"87.447266\" xlink:href=\"#DejaVuSans-97\"/>\n     <use x=\"148.726562\" xlink:href=\"#DejaVuSans-102\"/>\n     <use x=\"183.931641\" xlink:href=\"#DejaVuSans-102\"/>\n     <use x=\"219.136719\" xlink:href=\"#DejaVuSans-105\"/>\n     <use x=\"246.919922\" xlink:href=\"#DejaVuSans-99\"/>\n     <use x=\"301.900391\" xlink:href=\"#DejaVuSans-32\"/>\n     <use x=\"333.6875\" xlink:href=\"#DejaVuSans-102\"/>\n     <use x=\"368.892578\" xlink:href=\"#DejaVuSans-108\"/>\n     <use x=\"396.675781\" xlink:href=\"#DejaVuSans-111\"/>\n     <use x=\"457.857422\" xlink:href=\"#DejaVuSans-119\"/>\n     <use x=\"539.644531\" xlink:href=\"#DejaVuSans-32\"/>\n     <use x=\"571.431641\" xlink:href=\"#DejaVuSans-98\"/>\n     <use x=\"634.908203\" xlink:href=\"#DejaVuSans-121\"/>\n     <use x=\"694.087891\" xlink:href=\"#DejaVuSans-32\"/>\n     <use x=\"725.875\" xlink:href=\"#DejaVuSans-100\"/>\n     <use x=\"789.351562\" xlink:href=\"#DejaVuSans-97\"/>\n     <use x=\"850.630859\" xlink:href=\"#DejaVuSans-121\"/>\n     <use x=\"909.810547\" xlink:href=\"#DejaVuSans-32\"/>\n     <use x=\"941.597656\" xlink:href=\"#DejaVuSans-111\"/>\n     <use x=\"1002.779297\" xlink:href=\"#DejaVuSans-102\"/>\n     <use x=\"1037.984375\" xlink:href=\"#DejaVuSans-32\"/>\n     <use x=\"1069.771484\" xlink:href=\"#DejaVuSans-116\"/>\n     <use x=\"1108.980469\" xlink:href=\"#DejaVuSans-104\"/>\n     <use x=\"1172.359375\" xlink:href=\"#DejaVuSans-101\"/>\n     <use x=\"1233.882812\" xlink:href=\"#DejaVuSans-32\"/>\n     <use x=\"1265.669922\" xlink:href=\"#DejaVuSans-119\"/>\n     <use x=\"1347.457031\" xlink:href=\"#DejaVuSans-101\"/>\n     <use x=\"1408.980469\" xlink:href=\"#DejaVuSans-101\"/>\n     <use x=\"1470.503906\" xlink:href=\"#DejaVuSans-107\"/>\n    </g>\n   </g>\n   <g id=\"PathCollection_4\">\n    <defs>\n     <path d=\"M 0 3.383948 \nC 0.897434 3.383948 1.758231 3.027394 2.392813 2.392813 \nC 3.027394 1.758231 3.383948 0.897434 3.383948 0 \nC 3.383948 -0.897434 3.027394 -1.758231 2.392813 -2.392813 \nC 1.758231 -3.027394 0.897434 -3.383948 0 -3.383948 \nC -0.897434 -3.383948 -1.758231 -3.027394 -2.392813 -2.392813 \nC -3.027394 -1.758231 -3.383948 -0.897434 -3.383948 0 \nC -3.383948 0.897434 -3.027394 1.758231 -2.392813 2.392813 \nC -1.758231 3.027394 -0.897434 3.383948 0 3.383948 \nz\n\" id=\"m62237ed08d\" style=\"stroke:#d62728;stroke-width:2.025;\"/>\n    </defs>\n    <g clip-path=\"url(#pef68701e53)\">\n     <use style=\"fill:#d62728;stroke:#d62728;stroke-width:2.025;\" x=\"114.109624\" xlink:href=\"#m62237ed08d\" y=\"215.179657\"/>\n     <use style=\"fill:#d62728;stroke:#d62728;stroke-width:2.025;\" x=\"206.351371\" xlink:href=\"#m62237ed08d\" y=\"174.057228\"/>\n     <use style=\"fill:#d62728;stroke:#d62728;stroke-width:2.025;\" x=\"298.593118\" xlink:href=\"#m62237ed08d\" y=\"170.010275\"/>\n     <use style=\"fill:#d62728;stroke:#d62728;stroke-width:2.025;\" x=\"390.834865\" xlink:href=\"#m62237ed08d\" y=\"168.975524\"/>\n     <use style=\"fill:#d62728;stroke:#d62728;stroke-width:2.025;\" x=\"483.076613\" xlink:href=\"#m62237ed08d\" y=\"160.431577\"/>\n     <use style=\"fill:#d62728;stroke:#d62728;stroke-width:2.025;\" x=\"575.31836\" xlink:href=\"#m62237ed08d\" y=\"271.305132\"/>\n     <use style=\"fill:#d62728;stroke:#d62728;stroke-width:2.025;\" x=\"667.560107\" xlink:href=\"#m62237ed08d\" y=\"292.958205\"/>\n    </g>\n   </g>\n   <g id=\"line2d_40\">\n    <path clip-path=\"url(#pef68701e53)\" d=\"M 114.109624 215.179657 \nL 206.351371 174.057228 \nL 298.593118 170.010275 \nL 390.834865 168.975524 \nL 483.076613 160.431577 \nL 575.31836 271.305132 \nL 667.560107 292.958205 \n\" style=\"fill:none;stroke:#d62728;stroke-linecap:square;stroke-width:2.7;\"/>\n   </g>\n   <g id=\"line2d_41\">\n    <path clip-path=\"url(#pef68701e53)\" d=\"M 0 0 \n\" style=\"fill:none;stroke:#d62728;stroke-linecap:square;stroke-width:2.7;\"/>\n   </g>\n   <g id=\"line2d_42\">\n    <path clip-path=\"url(#pef68701e53)\" d=\"M 0 0 \n\" style=\"fill:none;stroke:#d62728;stroke-linecap:square;stroke-width:2.7;\"/>\n   </g>\n   <g id=\"line2d_43\">\n    <path clip-path=\"url(#pef68701e53)\" d=\"M 0 0 \n\" style=\"fill:none;stroke:#d62728;stroke-linecap:square;stroke-width:2.7;\"/>\n   </g>\n   <g id=\"line2d_44\">\n    <path clip-path=\"url(#pef68701e53)\" d=\"M 0 0 \n\" style=\"fill:none;stroke:#d62728;stroke-linecap:square;stroke-width:2.7;\"/>\n   </g>\n   <g id=\"line2d_45\">\n    <path clip-path=\"url(#pef68701e53)\" d=\"M 0 0 \n\" style=\"fill:none;stroke:#d62728;stroke-linecap:square;stroke-width:2.7;\"/>\n   </g>\n   <g id=\"line2d_46\">\n    <path clip-path=\"url(#pef68701e53)\" d=\"M 0 0 \n\" style=\"fill:none;stroke:#d62728;stroke-linecap:square;stroke-width:2.7;\"/>\n   </g>\n   <g id=\"line2d_47\">\n    <path clip-path=\"url(#pef68701e53)\" d=\"M 0 0 \n\" style=\"fill:none;stroke:#d62728;stroke-linecap:square;stroke-width:2.7;\"/>\n   </g>\n   <g id=\"PathCollection_5\">\n    <defs>\n     <path d=\"M 0 3.383948 \nC 0.897434 3.383948 1.758231 3.027394 2.392813 2.392813 \nC 3.027394 1.758231 3.383948 0.897434 3.383948 0 \nC 3.383948 -0.897434 3.027394 -1.758231 2.392813 -2.392813 \nC 1.758231 -3.027394 0.897434 -3.383948 0 -3.383948 \nC -0.897434 -3.383948 -1.758231 -3.027394 -2.392813 -2.392813 \nC -3.027394 -1.758231 -3.383948 -0.897434 -3.383948 0 \nC -3.383948 0.897434 -3.027394 1.758231 -2.392813 2.392813 \nC -1.758231 3.027394 -0.897434 3.383948 0 3.383948 \nz\n\" id=\"m40a9c67061\" style=\"stroke:#9467bd;stroke-width:2.025;\"/>\n    </defs>\n    <g clip-path=\"url(#pef68701e53)\">\n     <use style=\"fill:#9467bd;stroke:#9467bd;stroke-width:2.025;\" x=\"114.109624\" xlink:href=\"#m40a9c67061\" y=\"214.536985\"/>\n     <use style=\"fill:#9467bd;stroke:#9467bd;stroke-width:2.025;\" x=\"206.351371\" xlink:href=\"#m40a9c67061\" y=\"180.412342\"/>\n     <use style=\"fill:#9467bd;stroke:#9467bd;stroke-width:2.025;\" x=\"298.593118\" xlink:href=\"#m40a9c67061\" y=\"166.846356\"/>\n     <use style=\"fill:#9467bd;stroke:#9467bd;stroke-width:2.025;\" x=\"390.834865\" xlink:href=\"#m40a9c67061\" y=\"179.565107\"/>\n     <use style=\"fill:#9467bd;stroke:#9467bd;stroke-width:2.025;\" x=\"483.076613\" xlink:href=\"#m40a9c67061\" y=\"154.134423\"/>\n     <use style=\"fill:#9467bd;stroke:#9467bd;stroke-width:2.025;\" x=\"575.31836\" xlink:href=\"#m40a9c67061\" y=\"235.467267\"/>\n     <use style=\"fill:#9467bd;stroke:#9467bd;stroke-width:2.025;\" x=\"667.560107\" xlink:href=\"#m40a9c67061\" y=\"276.961319\"/>\n    </g>\n   </g>\n   <g id=\"line2d_48\">\n    <path clip-path=\"url(#pef68701e53)\" d=\"M 114.109624 214.536985 \nL 206.351371 180.412342 \nL 298.593118 166.846356 \nL 390.834865 179.565107 \nL 483.076613 154.134423 \nL 575.31836 235.467267 \nL 667.560107 276.961319 \n\" style=\"fill:none;stroke:#9467bd;stroke-linecap:square;stroke-width:2.7;\"/>\n   </g>\n   <g id=\"line2d_49\">\n    <path clip-path=\"url(#pef68701e53)\" d=\"M 0 0 \n\" style=\"fill:none;stroke:#9467bd;stroke-linecap:square;stroke-width:2.7;\"/>\n   </g>\n   <g id=\"line2d_50\">\n    <path clip-path=\"url(#pef68701e53)\" d=\"M 0 0 \n\" style=\"fill:none;stroke:#9467bd;stroke-linecap:square;stroke-width:2.7;\"/>\n   </g>\n   <g id=\"line2d_51\">\n    <path clip-path=\"url(#pef68701e53)\" d=\"M 0 0 \n\" style=\"fill:none;stroke:#9467bd;stroke-linecap:square;stroke-width:2.7;\"/>\n   </g>\n   <g id=\"line2d_52\">\n    <path clip-path=\"url(#pef68701e53)\" d=\"M 0 0 \n\" style=\"fill:none;stroke:#9467bd;stroke-linecap:square;stroke-width:2.7;\"/>\n   </g>\n   <g id=\"line2d_53\">\n    <path clip-path=\"url(#pef68701e53)\" d=\"M 0 0 \n\" style=\"fill:none;stroke:#9467bd;stroke-linecap:square;stroke-width:2.7;\"/>\n   </g>\n   <g id=\"line2d_54\">\n    <path clip-path=\"url(#pef68701e53)\" d=\"M 0 0 \n\" style=\"fill:none;stroke:#9467bd;stroke-linecap:square;stroke-width:2.7;\"/>\n   </g>\n   <g id=\"line2d_55\">\n    <path clip-path=\"url(#pef68701e53)\" d=\"M 0 0 \n\" style=\"fill:none;stroke:#9467bd;stroke-linecap:square;stroke-width:2.7;\"/>\n   </g>\n   <g id=\"PathCollection_6\">\n    <defs>\n     <path d=\"M 0 3.383948 \nC 0.897434 3.383948 1.758231 3.027394 2.392813 2.392813 \nC 3.027394 1.758231 3.383948 0.897434 3.383948 0 \nC 3.383948 -0.897434 3.027394 -1.758231 2.392813 -2.392813 \nC 1.758231 -3.027394 0.897434 -3.383948 0 -3.383948 \nC -0.897434 -3.383948 -1.758231 -3.027394 -2.392813 -2.392813 \nC -3.027394 -1.758231 -3.383948 -0.897434 -3.383948 0 \nC -3.383948 0.897434 -3.027394 1.758231 -2.392813 2.392813 \nC -1.758231 3.027394 -0.897434 3.383948 0 3.383948 \nz\n\" id=\"ma544b8be5b\" style=\"stroke:#8c564b;stroke-width:2.025;\"/>\n    </defs>\n    <g clip-path=\"url(#pef68701e53)\">\n     <use style=\"fill:#8c564b;stroke:#8c564b;stroke-width:2.025;\" x=\"114.109624\" xlink:href=\"#ma544b8be5b\" y=\"212.627724\"/>\n     <use style=\"fill:#8c564b;stroke:#8c564b;stroke-width:2.025;\" x=\"206.351371\" xlink:href=\"#ma544b8be5b\" y=\"152.412678\"/>\n     <use style=\"fill:#8c564b;stroke:#8c564b;stroke-width:2.025;\" x=\"298.593118\" xlink:href=\"#ma544b8be5b\" y=\"146.238262\"/>\n     <use style=\"fill:#8c564b;stroke:#8c564b;stroke-width:2.025;\" x=\"390.834865\" xlink:href=\"#ma544b8be5b\" y=\"145.820611\"/>\n     <use style=\"fill:#8c564b;stroke:#8c564b;stroke-width:2.025;\" x=\"483.076613\" xlink:href=\"#ma544b8be5b\" y=\"154.809484\"/>\n     <use style=\"fill:#8c564b;stroke:#8c564b;stroke-width:2.025;\" x=\"575.31836\" xlink:href=\"#ma544b8be5b\" y=\"293.201977\"/>\n     <use style=\"fill:#8c564b;stroke:#8c564b;stroke-width:2.025;\" x=\"667.560107\" xlink:href=\"#ma544b8be5b\" y=\"313.288433\"/>\n    </g>\n   </g>\n   <g id=\"line2d_56\">\n    <path clip-path=\"url(#pef68701e53)\" d=\"M 114.109624 212.627724 \nL 206.351371 152.412678 \nL 298.593118 146.238262 \nL 390.834865 145.820611 \nL 483.076613 154.809484 \nL 575.31836 293.201977 \nL 667.560107 313.288433 \n\" style=\"fill:none;stroke:#8c564b;stroke-linecap:square;stroke-width:2.7;\"/>\n   </g>\n   <g id=\"line2d_57\">\n    <path clip-path=\"url(#pef68701e53)\" d=\"M 0 0 \n\" style=\"fill:none;stroke:#8c564b;stroke-linecap:square;stroke-width:2.7;\"/>\n   </g>\n   <g id=\"line2d_58\">\n    <path clip-path=\"url(#pef68701e53)\" d=\"M 0 0 \n\" style=\"fill:none;stroke:#8c564b;stroke-linecap:square;stroke-width:2.7;\"/>\n   </g>\n   <g id=\"line2d_59\">\n    <path clip-path=\"url(#pef68701e53)\" d=\"M 0 0 \n\" style=\"fill:none;stroke:#8c564b;stroke-linecap:square;stroke-width:2.7;\"/>\n   </g>\n   <g id=\"line2d_60\">\n    <path clip-path=\"url(#pef68701e53)\" d=\"M 0 0 \n\" style=\"fill:none;stroke:#8c564b;stroke-linecap:square;stroke-width:2.7;\"/>\n   </g>\n   <g id=\"line2d_61\">\n    <path clip-path=\"url(#pef68701e53)\" d=\"M 0 0 \n\" style=\"fill:none;stroke:#8c564b;stroke-linecap:square;stroke-width:2.7;\"/>\n   </g>\n   <g id=\"line2d_62\">\n    <path clip-path=\"url(#pef68701e53)\" d=\"M 0 0 \n\" style=\"fill:none;stroke:#8c564b;stroke-linecap:square;stroke-width:2.7;\"/>\n   </g>\n   <g id=\"line2d_63\">\n    <path clip-path=\"url(#pef68701e53)\" d=\"M 0 0 \n\" style=\"fill:none;stroke:#8c564b;stroke-linecap:square;stroke-width:2.7;\"/>\n   </g>\n   <g id=\"PathCollection_7\">\n    <defs>\n     <path d=\"M 0 3.383948 \nC 0.897434 3.383948 1.758231 3.027394 2.392813 2.392813 \nC 3.027394 1.758231 3.383948 0.897434 3.383948 0 \nC 3.383948 -0.897434 3.027394 -1.758231 2.392813 -2.392813 \nC 1.758231 -3.027394 0.897434 -3.383948 0 -3.383948 \nC -0.897434 -3.383948 -1.758231 -3.027394 -2.392813 -2.392813 \nC -3.027394 -1.758231 -3.383948 -0.897434 -3.383948 0 \nC -3.383948 0.897434 -3.027394 1.758231 -2.392813 2.392813 \nC -1.758231 3.027394 -0.897434 3.383948 0 3.383948 \nz\n\" id=\"mc5fb959519\" style=\"stroke:#e377c2;stroke-width:2.025;\"/>\n    </defs>\n    <g clip-path=\"url(#pef68701e53)\">\n     <use style=\"fill:#e377c2;stroke:#e377c2;stroke-width:2.025;\" x=\"114.109624\" xlink:href=\"#mc5fb959519\" y=\"237.545294\"/>\n     <use style=\"fill:#e377c2;stroke:#e377c2;stroke-width:2.025;\" x=\"206.351371\" xlink:href=\"#mc5fb959519\" y=\"197.293966\"/>\n     <use style=\"fill:#e377c2;stroke:#e377c2;stroke-width:2.025;\" x=\"298.593118\" xlink:href=\"#mc5fb959519\" y=\"184.832624\"/>\n     <use style=\"fill:#e377c2;stroke:#e377c2;stroke-width:2.025;\" x=\"390.834865\" xlink:href=\"#mc5fb959519\" y=\"185.130946\"/>\n     <use style=\"fill:#e377c2;stroke:#e377c2;stroke-width:2.025;\" x=\"483.076613\" xlink:href=\"#mc5fb959519\" y=\"184.466114\"/>\n     <use style=\"fill:#e377c2;stroke:#e377c2;stroke-width:2.025;\" x=\"575.31836\" xlink:href=\"#mc5fb959519\" y=\"294.831668\"/>\n     <use style=\"fill:#e377c2;stroke:#e377c2;stroke-width:2.025;\" x=\"667.560107\" xlink:href=\"#mc5fb959519\" y=\"317.870661\"/>\n    </g>\n   </g>\n   <g id=\"line2d_64\">\n    <path clip-path=\"url(#pef68701e53)\" d=\"M 114.109624 237.545294 \nL 206.351371 197.293966 \nL 298.593118 184.832624 \nL 390.834865 185.130946 \nL 483.076613 184.466114 \nL 575.31836 294.831668 \nL 667.560107 317.870661 \n\" style=\"fill:none;stroke:#e377c2;stroke-linecap:square;stroke-width:2.7;\"/>\n   </g>\n   <g id=\"line2d_65\">\n    <path clip-path=\"url(#pef68701e53)\" d=\"M 0 0 \n\" style=\"fill:none;stroke:#e377c2;stroke-linecap:square;stroke-width:2.7;\"/>\n   </g>\n   <g id=\"line2d_66\">\n    <path clip-path=\"url(#pef68701e53)\" d=\"M 0 0 \n\" style=\"fill:none;stroke:#e377c2;stroke-linecap:square;stroke-width:2.7;\"/>\n   </g>\n   <g id=\"line2d_67\">\n    <path clip-path=\"url(#pef68701e53)\" d=\"M 0 0 \n\" style=\"fill:none;stroke:#e377c2;stroke-linecap:square;stroke-width:2.7;\"/>\n   </g>\n   <g id=\"line2d_68\">\n    <path clip-path=\"url(#pef68701e53)\" d=\"M 0 0 \n\" style=\"fill:none;stroke:#e377c2;stroke-linecap:square;stroke-width:2.7;\"/>\n   </g>\n   <g id=\"line2d_69\">\n    <path clip-path=\"url(#pef68701e53)\" d=\"M 0 0 \n\" style=\"fill:none;stroke:#e377c2;stroke-linecap:square;stroke-width:2.7;\"/>\n   </g>\n   <g id=\"line2d_70\">\n    <path clip-path=\"url(#pef68701e53)\" d=\"M 0 0 \n\" style=\"fill:none;stroke:#e377c2;stroke-linecap:square;stroke-width:2.7;\"/>\n   </g>\n   <g id=\"line2d_71\">\n    <path clip-path=\"url(#pef68701e53)\" d=\"M 0 0 \n\" style=\"fill:none;stroke:#e377c2;stroke-linecap:square;stroke-width:2.7;\"/>\n   </g>\n   <g id=\"PathCollection_8\">\n    <defs>\n     <path d=\"M 0 3.383948 \nC 0.897434 3.383948 1.758231 3.027394 2.392813 2.392813 \nC 3.027394 1.758231 3.383948 0.897434 3.383948 0 \nC 3.383948 -0.897434 3.027394 -1.758231 2.392813 -2.392813 \nC 1.758231 -3.027394 0.897434 -3.383948 0 -3.383948 \nC -0.897434 -3.383948 -1.758231 -3.027394 -2.392813 -2.392813 \nC -3.027394 -1.758231 -3.383948 -0.897434 -3.383948 0 \nC -3.383948 0.897434 -3.027394 1.758231 -2.392813 2.392813 \nC -1.758231 3.027394 -0.897434 3.383948 0 3.383948 \nz\n\" id=\"mb5c11a1494\" style=\"stroke:#7f7f7f;stroke-width:2.025;\"/>\n    </defs>\n    <g clip-path=\"url(#pef68701e53)\">\n     <use style=\"fill:#7f7f7f;stroke:#7f7f7f;stroke-width:2.025;\" x=\"114.109624\" xlink:href=\"#mb5c11a1494\" y=\"304.233077\"/>\n     <use style=\"fill:#7f7f7f;stroke:#7f7f7f;stroke-width:2.025;\" x=\"206.351371\" xlink:href=\"#mb5c11a1494\" y=\"281.001454\"/>\n     <use style=\"fill:#7f7f7f;stroke:#7f7f7f;stroke-width:2.025;\" x=\"298.593118\" xlink:href=\"#mb5c11a1494\" y=\"277.714796\"/>\n     <use style=\"fill:#7f7f7f;stroke:#7f7f7f;stroke-width:2.025;\" x=\"390.834865\" xlink:href=\"#mb5c11a1494\" y=\"275.312877\"/>\n     <use style=\"fill:#7f7f7f;stroke:#7f7f7f;stroke-width:2.025;\" x=\"483.076613\" xlink:href=\"#mb5c11a1494\" y=\"271.582997\"/>\n     <use style=\"fill:#7f7f7f;stroke:#7f7f7f;stroke-width:2.025;\" x=\"575.31836\" xlink:href=\"#mb5c11a1494\" y=\"320.792513\"/>\n     <use style=\"fill:#7f7f7f;stroke:#7f7f7f;stroke-width:2.025;\" x=\"667.560107\" xlink:href=\"#mb5c11a1494\" y=\"333.668097\"/>\n    </g>\n   </g>\n   <g id=\"line2d_72\">\n    <path clip-path=\"url(#pef68701e53)\" d=\"M 114.109624 304.233077 \nL 206.351371 281.001454 \nL 298.593118 277.714796 \nL 390.834865 275.312877 \nL 483.076613 271.582997 \nL 575.31836 320.792513 \nL 667.560107 333.668097 \n\" style=\"fill:none;stroke:#7f7f7f;stroke-linecap:square;stroke-width:2.7;\"/>\n   </g>\n   <g id=\"line2d_73\">\n    <path clip-path=\"url(#pef68701e53)\" d=\"M 0 0 \n\" style=\"fill:none;stroke:#7f7f7f;stroke-linecap:square;stroke-width:2.7;\"/>\n   </g>\n   <g id=\"line2d_74\">\n    <path clip-path=\"url(#pef68701e53)\" d=\"M 0 0 \n\" style=\"fill:none;stroke:#7f7f7f;stroke-linecap:square;stroke-width:2.7;\"/>\n   </g>\n   <g id=\"line2d_75\">\n    <path clip-path=\"url(#pef68701e53)\" d=\"M 0 0 \n\" style=\"fill:none;stroke:#7f7f7f;stroke-linecap:square;stroke-width:2.7;\"/>\n   </g>\n   <g id=\"line2d_76\">\n    <path clip-path=\"url(#pef68701e53)\" d=\"M 0 0 \n\" style=\"fill:none;stroke:#7f7f7f;stroke-linecap:square;stroke-width:2.7;\"/>\n   </g>\n   <g id=\"line2d_77\">\n    <path clip-path=\"url(#pef68701e53)\" d=\"M 0 0 \n\" style=\"fill:none;stroke:#7f7f7f;stroke-linecap:square;stroke-width:2.7;\"/>\n   </g>\n   <g id=\"line2d_78\">\n    <path clip-path=\"url(#pef68701e53)\" d=\"M 0 0 \n\" style=\"fill:none;stroke:#7f7f7f;stroke-linecap:square;stroke-width:2.7;\"/>\n   </g>\n   <g id=\"line2d_79\">\n    <path clip-path=\"url(#pef68701e53)\" d=\"M 0 0 \n\" style=\"fill:none;stroke:#7f7f7f;stroke-linecap:square;stroke-width:2.7;\"/>\n   </g>\n  </g>\n  <g id=\"legend_1\">\n   <g id=\"text_18\">\n    <!-- STATION -->\n    <g transform=\"translate(760.906137 130.124531)scale(0.1 -0.1)\">\n     <defs>\n      <path d=\"M 34.1875 63.1875 \nL 20.796875 26.90625 \nL 47.609375 26.90625 \nz\nM 28.609375 72.90625 \nL 39.796875 72.90625 \nL 67.578125 0 \nL 57.328125 0 \nL 50.6875 18.703125 \nL 17.828125 18.703125 \nL 11.1875 0 \nL 0.78125 0 \nz\n\" id=\"DejaVuSans-65\"/>\n      <path d=\"M 9.8125 72.90625 \nL 19.671875 72.90625 \nL 19.671875 0 \nL 9.8125 0 \nz\n\" id=\"DejaVuSans-73\"/>\n      <path d=\"M 39.40625 66.21875 \nQ 28.65625 66.21875 22.328125 58.203125 \nQ 16.015625 50.203125 16.015625 36.375 \nQ 16.015625 22.609375 22.328125 14.59375 \nQ 28.65625 6.59375 39.40625 6.59375 \nQ 50.140625 6.59375 56.421875 14.59375 \nQ 62.703125 22.609375 62.703125 36.375 \nQ 62.703125 50.203125 56.421875 58.203125 \nQ 50.140625 66.21875 39.40625 66.21875 \nz\nM 39.40625 74.21875 \nQ 54.734375 74.21875 63.90625 63.9375 \nQ 73.09375 53.65625 73.09375 36.375 \nQ 73.09375 19.140625 63.90625 8.859375 \nQ 54.734375 -1.421875 39.40625 -1.421875 \nQ 24.03125 -1.421875 14.8125 8.828125 \nQ 5.609375 19.09375 5.609375 36.375 \nQ 5.609375 53.65625 14.8125 63.9375 \nQ 24.03125 74.21875 39.40625 74.21875 \nz\n\" id=\"DejaVuSans-79\"/>\n      <path d=\"M 9.8125 72.90625 \nL 23.09375 72.90625 \nL 55.421875 11.921875 \nL 55.421875 72.90625 \nL 64.984375 72.90625 \nL 64.984375 0 \nL 51.703125 0 \nL 19.390625 60.984375 \nL 19.390625 0 \nL 9.8125 0 \nz\n\" id=\"DejaVuSans-78\"/>\n     </defs>\n     <use xlink:href=\"#DejaVuSans-83\"/>\n     <use x=\"63.476562\" xlink:href=\"#DejaVuSans-84\"/>\n     <use x=\"116.810547\" xlink:href=\"#DejaVuSans-65\"/>\n     <use x=\"177.46875\" xlink:href=\"#DejaVuSans-84\"/>\n     <use x=\"238.552734\" xlink:href=\"#DejaVuSans-73\"/>\n     <use x=\"268.044922\" xlink:href=\"#DejaVuSans-79\"/>\n     <use x=\"346.755859\" xlink:href=\"#DejaVuSans-78\"/>\n    </g>\n   </g>\n   <g id=\"PathCollection_9\">\n    <g>\n     <use style=\"fill:#1f77b4;stroke:#1f77b4;stroke-width:2.025;\" x=\"732.755356\" xlink:href=\"#m8bf9389891\" y=\"142.177656\"/>\n    </g>\n   </g>\n   <g id=\"text_19\">\n    <!-- 34 ST-PENN STA -->\n    <g transform=\"translate(750.755356 144.802656)scale(0.1 -0.1)\">\n     <defs>\n      <path d=\"M 40.578125 39.3125 \nQ 47.65625 37.796875 51.625 33 \nQ 55.609375 28.21875 55.609375 21.1875 \nQ 55.609375 10.40625 48.1875 4.484375 \nQ 40.765625 -1.421875 27.09375 -1.421875 \nQ 22.515625 -1.421875 17.65625 -0.515625 \nQ 12.796875 0.390625 7.625 2.203125 \nL 7.625 11.71875 \nQ 11.71875 9.328125 16.59375 8.109375 \nQ 21.484375 6.890625 26.8125 6.890625 \nQ 36.078125 6.890625 40.9375 10.546875 \nQ 45.796875 14.203125 45.796875 21.1875 \nQ 45.796875 27.640625 41.28125 31.265625 \nQ 36.765625 34.90625 28.71875 34.90625 \nL 20.21875 34.90625 \nL 20.21875 43.015625 \nL 29.109375 43.015625 \nQ 36.375 43.015625 40.234375 45.921875 \nQ 44.09375 48.828125 44.09375 54.296875 \nQ 44.09375 59.90625 40.109375 62.90625 \nQ 36.140625 65.921875 28.71875 65.921875 \nQ 24.65625 65.921875 20.015625 65.03125 \nQ 15.375 64.15625 9.8125 62.3125 \nL 9.8125 71.09375 \nQ 15.4375 72.65625 20.34375 73.4375 \nQ 25.25 74.21875 29.59375 74.21875 \nQ 40.828125 74.21875 47.359375 69.109375 \nQ 53.90625 64.015625 53.90625 55.328125 \nQ 53.90625 49.265625 50.4375 45.09375 \nQ 46.96875 40.921875 40.578125 39.3125 \nz\n\" id=\"DejaVuSans-51\"/>\n      <path d=\"M 37.796875 64.3125 \nL 12.890625 25.390625 \nL 37.796875 25.390625 \nz\nM 35.203125 72.90625 \nL 47.609375 72.90625 \nL 47.609375 25.390625 \nL 58.015625 25.390625 \nL 58.015625 17.1875 \nL 47.609375 17.1875 \nL 47.609375 0 \nL 37.796875 0 \nL 37.796875 17.1875 \nL 4.890625 17.1875 \nL 4.890625 26.703125 \nz\n\" id=\"DejaVuSans-52\"/>\n      <path d=\"M 4.890625 31.390625 \nL 31.203125 31.390625 \nL 31.203125 23.390625 \nL 4.890625 23.390625 \nz\n\" id=\"DejaVuSans-45\"/>\n      <path d=\"M 19.671875 64.796875 \nL 19.671875 37.40625 \nL 32.078125 37.40625 \nQ 38.96875 37.40625 42.71875 40.96875 \nQ 46.484375 44.53125 46.484375 51.125 \nQ 46.484375 57.671875 42.71875 61.234375 \nQ 38.96875 64.796875 32.078125 64.796875 \nz\nM 9.8125 72.90625 \nL 32.078125 72.90625 \nQ 44.34375 72.90625 50.609375 67.359375 \nQ 56.890625 61.8125 56.890625 51.125 \nQ 56.890625 40.328125 50.609375 34.8125 \nQ 44.34375 29.296875 32.078125 29.296875 \nL 19.671875 29.296875 \nL 19.671875 0 \nL 9.8125 0 \nz\n\" id=\"DejaVuSans-80\"/>\n      <path d=\"M 9.8125 72.90625 \nL 55.90625 72.90625 \nL 55.90625 64.59375 \nL 19.671875 64.59375 \nL 19.671875 43.015625 \nL 54.390625 43.015625 \nL 54.390625 34.71875 \nL 19.671875 34.71875 \nL 19.671875 8.296875 \nL 56.78125 8.296875 \nL 56.78125 0 \nL 9.8125 0 \nz\n\" id=\"DejaVuSans-69\"/>\n     </defs>\n     <use xlink:href=\"#DejaVuSans-51\"/>\n     <use x=\"63.623047\" xlink:href=\"#DejaVuSans-52\"/>\n     <use x=\"127.246094\" xlink:href=\"#DejaVuSans-32\"/>\n     <use x=\"159.033203\" xlink:href=\"#DejaVuSans-83\"/>\n     <use x=\"222.509766\" xlink:href=\"#DejaVuSans-84\"/>\n     <use x=\"274.46875\" xlink:href=\"#DejaVuSans-45\"/>\n     <use x=\"310.552734\" xlink:href=\"#DejaVuSans-80\"/>\n     <use x=\"370.855469\" xlink:href=\"#DejaVuSans-69\"/>\n     <use x=\"434.039062\" xlink:href=\"#DejaVuSans-78\"/>\n     <use x=\"508.84375\" xlink:href=\"#DejaVuSans-78\"/>\n     <use x=\"583.648438\" xlink:href=\"#DejaVuSans-32\"/>\n     <use x=\"615.435547\" xlink:href=\"#DejaVuSans-83\"/>\n     <use x=\"678.912109\" xlink:href=\"#DejaVuSans-84\"/>\n     <use x=\"732.246094\" xlink:href=\"#DejaVuSans-65\"/>\n    </g>\n   </g>\n   <g id=\"PathCollection_10\">\n    <g>\n     <use style=\"fill:#ff7f0e;stroke:#ff7f0e;stroke-width:2.025;\" x=\"732.755356\" xlink:href=\"#mc24aeaff3f\" y=\"156.855781\"/>\n    </g>\n   </g>\n   <g id=\"text_20\">\n    <!-- 34 ST-HERALD SQ -->\n    <g transform=\"translate(750.755356 159.480781)scale(0.1 -0.1)\">\n     <defs>\n      <path d=\"M 9.8125 72.90625 \nL 19.671875 72.90625 \nL 19.671875 43.015625 \nL 55.515625 43.015625 \nL 55.515625 72.90625 \nL 65.375 72.90625 \nL 65.375 0 \nL 55.515625 0 \nL 55.515625 34.71875 \nL 19.671875 34.71875 \nL 19.671875 0 \nL 9.8125 0 \nz\n\" id=\"DejaVuSans-72\"/>\n      <path d=\"M 44.390625 34.1875 \nQ 47.5625 33.109375 50.5625 29.59375 \nQ 53.5625 26.078125 56.59375 19.921875 \nL 66.609375 0 \nL 56 0 \nL 46.6875 18.703125 \nQ 43.0625 26.03125 39.671875 28.421875 \nQ 36.28125 30.8125 30.421875 30.8125 \nL 19.671875 30.8125 \nL 19.671875 0 \nL 9.8125 0 \nL 9.8125 72.90625 \nL 32.078125 72.90625 \nQ 44.578125 72.90625 50.734375 67.671875 \nQ 56.890625 62.453125 56.890625 51.90625 \nQ 56.890625 45.015625 53.6875 40.46875 \nQ 50.484375 35.9375 44.390625 34.1875 \nz\nM 19.671875 64.796875 \nL 19.671875 38.921875 \nL 32.078125 38.921875 \nQ 39.203125 38.921875 42.84375 42.21875 \nQ 46.484375 45.515625 46.484375 51.90625 \nQ 46.484375 58.296875 42.84375 61.546875 \nQ 39.203125 64.796875 32.078125 64.796875 \nz\n\" id=\"DejaVuSans-82\"/>\n      <path d=\"M 9.8125 72.90625 \nL 19.671875 72.90625 \nL 19.671875 8.296875 \nL 55.171875 8.296875 \nL 55.171875 0 \nL 9.8125 0 \nz\n\" id=\"DejaVuSans-76\"/>\n      <path d=\"M 19.671875 64.796875 \nL 19.671875 8.109375 \nL 31.59375 8.109375 \nQ 46.6875 8.109375 53.6875 14.9375 \nQ 60.6875 21.78125 60.6875 36.53125 \nQ 60.6875 51.171875 53.6875 57.984375 \nQ 46.6875 64.796875 31.59375 64.796875 \nz\nM 9.8125 72.90625 \nL 30.078125 72.90625 \nQ 51.265625 72.90625 61.171875 64.09375 \nQ 71.09375 55.28125 71.09375 36.53125 \nQ 71.09375 17.671875 61.125 8.828125 \nQ 51.171875 0 30.078125 0 \nL 9.8125 0 \nz\n\" id=\"DejaVuSans-68\"/>\n      <path d=\"M 39.40625 66.21875 \nQ 28.65625 66.21875 22.328125 58.203125 \nQ 16.015625 50.203125 16.015625 36.375 \nQ 16.015625 22.609375 22.328125 14.59375 \nQ 28.65625 6.59375 39.40625 6.59375 \nQ 50.140625 6.59375 56.421875 14.59375 \nQ 62.703125 22.609375 62.703125 36.375 \nQ 62.703125 50.203125 56.421875 58.203125 \nQ 50.140625 66.21875 39.40625 66.21875 \nz\nM 53.21875 1.3125 \nL 66.21875 -12.890625 \nL 54.296875 -12.890625 \nL 43.5 -1.21875 \nQ 41.890625 -1.3125 41.03125 -1.359375 \nQ 40.1875 -1.421875 39.40625 -1.421875 \nQ 24.03125 -1.421875 14.8125 8.859375 \nQ 5.609375 19.140625 5.609375 36.375 \nQ 5.609375 53.65625 14.8125 63.9375 \nQ 24.03125 74.21875 39.40625 74.21875 \nQ 54.734375 74.21875 63.90625 63.9375 \nQ 73.09375 53.65625 73.09375 36.375 \nQ 73.09375 23.6875 67.984375 14.640625 \nQ 62.890625 5.609375 53.21875 1.3125 \nz\n\" id=\"DejaVuSans-81\"/>\n     </defs>\n     <use xlink:href=\"#DejaVuSans-51\"/>\n     <use x=\"63.623047\" xlink:href=\"#DejaVuSans-52\"/>\n     <use x=\"127.246094\" xlink:href=\"#DejaVuSans-32\"/>\n     <use x=\"159.033203\" xlink:href=\"#DejaVuSans-83\"/>\n     <use x=\"222.509766\" xlink:href=\"#DejaVuSans-84\"/>\n     <use x=\"274.46875\" xlink:href=\"#DejaVuSans-45\"/>\n     <use x=\"310.552734\" xlink:href=\"#DejaVuSans-72\"/>\n     <use x=\"385.748047\" xlink:href=\"#DejaVuSans-69\"/>\n     <use x=\"448.931641\" xlink:href=\"#DejaVuSans-82\"/>\n     <use x=\"514.414062\" xlink:href=\"#DejaVuSans-65\"/>\n     <use x=\"582.822266\" xlink:href=\"#DejaVuSans-76\"/>\n     <use x=\"638.535156\" xlink:href=\"#DejaVuSans-68\"/>\n     <use x=\"715.537109\" xlink:href=\"#DejaVuSans-32\"/>\n     <use x=\"747.324219\" xlink:href=\"#DejaVuSans-83\"/>\n     <use x=\"810.800781\" xlink:href=\"#DejaVuSans-81\"/>\n    </g>\n   </g>\n   <g id=\"PathCollection_11\">\n    <g>\n     <use style=\"fill:#2ca02c;stroke:#2ca02c;stroke-width:2.025;\" x=\"732.755356\" xlink:href=\"#mbd8692c109\" y=\"171.533906\"/>\n    </g>\n   </g>\n   <g id=\"text_21\">\n    <!-- 86 ST -->\n    <g transform=\"translate(750.755356 174.158906)scale(0.1 -0.1)\">\n     <defs>\n      <path d=\"M 31.78125 34.625 \nQ 24.75 34.625 20.71875 30.859375 \nQ 16.703125 27.09375 16.703125 20.515625 \nQ 16.703125 13.921875 20.71875 10.15625 \nQ 24.75 6.390625 31.78125 6.390625 \nQ 38.8125 6.390625 42.859375 10.171875 \nQ 46.921875 13.96875 46.921875 20.515625 \nQ 46.921875 27.09375 42.890625 30.859375 \nQ 38.875 34.625 31.78125 34.625 \nz\nM 21.921875 38.8125 \nQ 15.578125 40.375 12.03125 44.71875 \nQ 8.5 49.078125 8.5 55.328125 \nQ 8.5 64.0625 14.71875 69.140625 \nQ 20.953125 74.21875 31.78125 74.21875 \nQ 42.671875 74.21875 48.875 69.140625 \nQ 55.078125 64.0625 55.078125 55.328125 \nQ 55.078125 49.078125 51.53125 44.71875 \nQ 48 40.375 41.703125 38.8125 \nQ 48.828125 37.15625 52.796875 32.3125 \nQ 56.78125 27.484375 56.78125 20.515625 \nQ 56.78125 9.90625 50.3125 4.234375 \nQ 43.84375 -1.421875 31.78125 -1.421875 \nQ 19.734375 -1.421875 13.25 4.234375 \nQ 6.78125 9.90625 6.78125 20.515625 \nQ 6.78125 27.484375 10.78125 32.3125 \nQ 14.796875 37.15625 21.921875 38.8125 \nz\nM 18.3125 54.390625 \nQ 18.3125 48.734375 21.84375 45.5625 \nQ 25.390625 42.390625 31.78125 42.390625 \nQ 38.140625 42.390625 41.71875 45.5625 \nQ 45.3125 48.734375 45.3125 54.390625 \nQ 45.3125 60.0625 41.71875 63.234375 \nQ 38.140625 66.40625 31.78125 66.40625 \nQ 25.390625 66.40625 21.84375 63.234375 \nQ 18.3125 60.0625 18.3125 54.390625 \nz\n\" id=\"DejaVuSans-56\"/>\n      <path d=\"M 33.015625 40.375 \nQ 26.375 40.375 22.484375 35.828125 \nQ 18.609375 31.296875 18.609375 23.390625 \nQ 18.609375 15.53125 22.484375 10.953125 \nQ 26.375 6.390625 33.015625 6.390625 \nQ 39.65625 6.390625 43.53125 10.953125 \nQ 47.40625 15.53125 47.40625 23.390625 \nQ 47.40625 31.296875 43.53125 35.828125 \nQ 39.65625 40.375 33.015625 40.375 \nz\nM 52.59375 71.296875 \nL 52.59375 62.3125 \nQ 48.875 64.0625 45.09375 64.984375 \nQ 41.3125 65.921875 37.59375 65.921875 \nQ 27.828125 65.921875 22.671875 59.328125 \nQ 17.53125 52.734375 16.796875 39.40625 \nQ 19.671875 43.65625 24.015625 45.921875 \nQ 28.375 48.1875 33.59375 48.1875 \nQ 44.578125 48.1875 50.953125 41.515625 \nQ 57.328125 34.859375 57.328125 23.390625 \nQ 57.328125 12.15625 50.6875 5.359375 \nQ 44.046875 -1.421875 33.015625 -1.421875 \nQ 20.359375 -1.421875 13.671875 8.265625 \nQ 6.984375 17.96875 6.984375 36.375 \nQ 6.984375 53.65625 15.1875 63.9375 \nQ 23.390625 74.21875 37.203125 74.21875 \nQ 40.921875 74.21875 44.703125 73.484375 \nQ 48.484375 72.75 52.59375 71.296875 \nz\n\" id=\"DejaVuSans-54\"/>\n     </defs>\n     <use xlink:href=\"#DejaVuSans-56\"/>\n     <use x=\"63.623047\" xlink:href=\"#DejaVuSans-54\"/>\n     <use x=\"127.246094\" xlink:href=\"#DejaVuSans-32\"/>\n     <use x=\"159.033203\" xlink:href=\"#DejaVuSans-83\"/>\n     <use x=\"222.509766\" xlink:href=\"#DejaVuSans-84\"/>\n    </g>\n   </g>\n   <g id=\"PathCollection_12\">\n    <g>\n     <use style=\"fill:#d62728;stroke:#d62728;stroke-width:2.025;\" x=\"732.755356\" xlink:href=\"#m62237ed08d\" y=\"186.212031\"/>\n    </g>\n   </g>\n   <g id=\"text_22\">\n    <!-- 42 ST-PORT AUTH -->\n    <g transform=\"translate(750.755356 188.837031)scale(0.1 -0.1)\">\n     <defs>\n      <path d=\"M 8.6875 72.90625 \nL 18.609375 72.90625 \nL 18.609375 28.609375 \nQ 18.609375 16.890625 22.84375 11.734375 \nQ 27.09375 6.59375 36.625 6.59375 \nQ 46.09375 6.59375 50.34375 11.734375 \nQ 54.59375 16.890625 54.59375 28.609375 \nL 54.59375 72.90625 \nL 64.5 72.90625 \nL 64.5 27.390625 \nQ 64.5 13.140625 57.4375 5.859375 \nQ 50.390625 -1.421875 36.625 -1.421875 \nQ 22.796875 -1.421875 15.734375 5.859375 \nQ 8.6875 13.140625 8.6875 27.390625 \nz\n\" id=\"DejaVuSans-85\"/>\n     </defs>\n     <use xlink:href=\"#DejaVuSans-52\"/>\n     <use x=\"63.623047\" xlink:href=\"#DejaVuSans-50\"/>\n     <use x=\"127.246094\" xlink:href=\"#DejaVuSans-32\"/>\n     <use x=\"159.033203\" xlink:href=\"#DejaVuSans-83\"/>\n     <use x=\"222.509766\" xlink:href=\"#DejaVuSans-84\"/>\n     <use x=\"274.46875\" xlink:href=\"#DejaVuSans-45\"/>\n     <use x=\"310.552734\" xlink:href=\"#DejaVuSans-80\"/>\n     <use x=\"370.855469\" xlink:href=\"#DejaVuSans-79\"/>\n     <use x=\"449.566406\" xlink:href=\"#DejaVuSans-82\"/>\n     <use x=\"511.798828\" xlink:href=\"#DejaVuSans-84\"/>\n     <use x=\"572.882812\" xlink:href=\"#DejaVuSans-32\"/>\n     <use x=\"604.669922\" xlink:href=\"#DejaVuSans-65\"/>\n     <use x=\"673.078125\" xlink:href=\"#DejaVuSans-85\"/>\n     <use x=\"746.271484\" xlink:href=\"#DejaVuSans-84\"/>\n     <use x=\"807.355469\" xlink:href=\"#DejaVuSans-72\"/>\n    </g>\n   </g>\n   <g id=\"PathCollection_13\">\n    <g>\n     <use style=\"fill:#9467bd;stroke:#9467bd;stroke-width:2.025;\" x=\"732.755356\" xlink:href=\"#m40a9c67061\" y=\"200.890156\"/>\n    </g>\n   </g>\n   <g id=\"text_23\">\n    <!-- 14 ST-UNION SQ -->\n    <g transform=\"translate(750.755356 203.515156)scale(0.1 -0.1)\">\n     <use xlink:href=\"#DejaVuSans-49\"/>\n     <use x=\"63.623047\" xlink:href=\"#DejaVuSans-52\"/>\n     <use x=\"127.246094\" xlink:href=\"#DejaVuSans-32\"/>\n     <use x=\"159.033203\" xlink:href=\"#DejaVuSans-83\"/>\n     <use x=\"222.509766\" xlink:href=\"#DejaVuSans-84\"/>\n     <use x=\"274.46875\" xlink:href=\"#DejaVuSans-45\"/>\n     <use x=\"310.552734\" xlink:href=\"#DejaVuSans-85\"/>\n     <use x=\"383.746094\" xlink:href=\"#DejaVuSans-78\"/>\n     <use x=\"458.550781\" xlink:href=\"#DejaVuSans-73\"/>\n     <use x=\"488.042969\" xlink:href=\"#DejaVuSans-79\"/>\n     <use x=\"566.753906\" xlink:href=\"#DejaVuSans-78\"/>\n     <use x=\"641.558594\" xlink:href=\"#DejaVuSans-32\"/>\n     <use x=\"673.345703\" xlink:href=\"#DejaVuSans-83\"/>\n     <use x=\"736.822266\" xlink:href=\"#DejaVuSans-81\"/>\n    </g>\n   </g>\n   <g id=\"PathCollection_14\">\n    <g>\n     <use style=\"fill:#8c564b;stroke:#8c564b;stroke-width:2.025;\" x=\"732.755356\" xlink:href=\"#ma544b8be5b\" y=\"215.568281\"/>\n    </g>\n   </g>\n   <g id=\"text_24\">\n    <!-- GRD CNTRL-42 ST -->\n    <g transform=\"translate(750.755356 218.193281)scale(0.1 -0.1)\">\n     <defs>\n      <path d=\"M 59.515625 10.40625 \nL 59.515625 29.984375 \nL 43.40625 29.984375 \nL 43.40625 38.09375 \nL 69.28125 38.09375 \nL 69.28125 6.78125 \nQ 63.578125 2.734375 56.6875 0.65625 \nQ 49.8125 -1.421875 42 -1.421875 \nQ 24.90625 -1.421875 15.25 8.5625 \nQ 5.609375 18.5625 5.609375 36.375 \nQ 5.609375 54.25 15.25 64.234375 \nQ 24.90625 74.21875 42 74.21875 \nQ 49.125 74.21875 55.546875 72.453125 \nQ 61.96875 70.703125 67.390625 67.28125 \nL 67.390625 56.78125 \nQ 61.921875 61.421875 55.765625 63.765625 \nQ 49.609375 66.109375 42.828125 66.109375 \nQ 29.4375 66.109375 22.71875 58.640625 \nQ 16.015625 51.171875 16.015625 36.375 \nQ 16.015625 21.625 22.71875 14.15625 \nQ 29.4375 6.6875 42.828125 6.6875 \nQ 48.046875 6.6875 52.140625 7.59375 \nQ 56.25 8.5 59.515625 10.40625 \nz\n\" id=\"DejaVuSans-71\"/>\n      <path d=\"M 64.40625 67.28125 \nL 64.40625 56.890625 \nQ 59.421875 61.53125 53.78125 63.8125 \nQ 48.140625 66.109375 41.796875 66.109375 \nQ 29.296875 66.109375 22.65625 58.46875 \nQ 16.015625 50.828125 16.015625 36.375 \nQ 16.015625 21.96875 22.65625 14.328125 \nQ 29.296875 6.6875 41.796875 6.6875 \nQ 48.140625 6.6875 53.78125 8.984375 \nQ 59.421875 11.28125 64.40625 15.921875 \nL 64.40625 5.609375 \nQ 59.234375 2.09375 53.4375 0.328125 \nQ 47.65625 -1.421875 41.21875 -1.421875 \nQ 24.65625 -1.421875 15.125 8.703125 \nQ 5.609375 18.84375 5.609375 36.375 \nQ 5.609375 53.953125 15.125 64.078125 \nQ 24.65625 74.21875 41.21875 74.21875 \nQ 47.75 74.21875 53.53125 72.484375 \nQ 59.328125 70.75 64.40625 67.28125 \nz\n\" id=\"DejaVuSans-67\"/>\n     </defs>\n     <use xlink:href=\"#DejaVuSans-71\"/>\n     <use x=\"77.490234\" xlink:href=\"#DejaVuSans-82\"/>\n     <use x=\"146.972656\" xlink:href=\"#DejaVuSans-68\"/>\n     <use x=\"223.974609\" xlink:href=\"#DejaVuSans-32\"/>\n     <use x=\"255.761719\" xlink:href=\"#DejaVuSans-67\"/>\n     <use x=\"325.585938\" xlink:href=\"#DejaVuSans-78\"/>\n     <use x=\"400.390625\" xlink:href=\"#DejaVuSans-84\"/>\n     <use x=\"461.474609\" xlink:href=\"#DejaVuSans-82\"/>\n     <use x=\"530.957031\" xlink:href=\"#DejaVuSans-76\"/>\n     <use x=\"584.919922\" xlink:href=\"#DejaVuSans-45\"/>\n     <use x=\"621.003906\" xlink:href=\"#DejaVuSans-52\"/>\n     <use x=\"684.626953\" xlink:href=\"#DejaVuSans-50\"/>\n     <use x=\"748.25\" xlink:href=\"#DejaVuSans-32\"/>\n     <use x=\"780.037109\" xlink:href=\"#DejaVuSans-83\"/>\n     <use x=\"843.513672\" xlink:href=\"#DejaVuSans-84\"/>\n    </g>\n   </g>\n   <g id=\"PathCollection_15\">\n    <g>\n     <use style=\"fill:#e377c2;stroke:#e377c2;stroke-width:2.025;\" x=\"732.755356\" xlink:href=\"#mc5fb959519\" y=\"230.246406\"/>\n    </g>\n   </g>\n   <g id=\"text_25\">\n    <!-- 23 ST -->\n    <g transform=\"translate(750.755356 232.871406)scale(0.1 -0.1)\">\n     <use xlink:href=\"#DejaVuSans-50\"/>\n     <use x=\"63.623047\" xlink:href=\"#DejaVuSans-51\"/>\n     <use x=\"127.246094\" xlink:href=\"#DejaVuSans-32\"/>\n     <use x=\"159.033203\" xlink:href=\"#DejaVuSans-83\"/>\n     <use x=\"222.509766\" xlink:href=\"#DejaVuSans-84\"/>\n    </g>\n   </g>\n   <g id=\"PathCollection_16\">\n    <g>\n     <use style=\"fill:#7f7f7f;stroke:#7f7f7f;stroke-width:2.025;\" x=\"732.755356\" xlink:href=\"#mb5c11a1494\" y=\"244.924531\"/>\n    </g>\n   </g>\n   <g id=\"text_26\">\n    <!-- 14 ST -->\n    <g transform=\"translate(750.755356 247.549531)scale(0.1 -0.1)\">\n     <use xlink:href=\"#DejaVuSans-49\"/>\n     <use x=\"63.623047\" xlink:href=\"#DejaVuSans-52\"/>\n     <use x=\"127.246094\" xlink:href=\"#DejaVuSans-32\"/>\n     <use x=\"159.033203\" xlink:href=\"#DejaVuSans-83\"/>\n     <use x=\"222.509766\" xlink:href=\"#DejaVuSans-84\"/>\n    </g>\n   </g>\n  </g>\n </g>\n <defs>\n  <clipPath id=\"pef68701e53\">\n   <rect height=\"321.4\" width=\"645.692231\" x=\"67.98875\" y=\"26.877187\"/>\n  </clipPath>\n </defs>\n</svg>\n",
      "image/png": "[encoded data removed]"
     },
     "metadata": {
      "needs_background": "light"
     }
    }
   ],
   "source": [
    "order = ['Monday', 'Tuesday', 'Wednesday', 'Thursday', 'Friday', 'Saturday', 'Sunday']\n",
    "sns.catplot('DAY_OF_WEEK', 'TOTAL_TRAFFIC', kind='point',hue='STATION',order=order, hue_order=['34 ST-PENN STA', '34 ST-HERALD SQ', '86 ST','42 ST-PORT AUTH', '14 ST-UNION SQ', 'GRD CNTRL-42 ST', '23 ST', '14 ST'], aspect=2, data=entries_by_day_of_week)\n",
    "plt.xlabel('')\n",
    "plt.ylabel('Traffic', size=12)\n",
    "plt.title('Traffic flow by day of the week', size=18)\n"
   ]
  },
  {
   "cell_type": "code",
   "execution_count": 509,
   "metadata": {},
   "outputs": [],
   "source": [
    "entries_weekday = entries_by_day_of_week.loc[entries_by_day_of_week['DAY_OF_WEEK'].isin(['Monday', 'Tuesday', 'Wednesday', 'Thursday', 'Friday'])]"
   ]
  },
  {
   "cell_type": "code",
   "execution_count": 514,
   "metadata": {},
   "outputs": [],
   "source": [
    "entries_weekend = entries_by_day_of_week.loc[entries_by_day_of_week['DAY_OF_WEEK'].isin(['Saturday', 'Sunday'])]"
   ]
  },
  {
   "cell_type": "code",
   "execution_count": 516,
   "metadata": {},
   "outputs": [
    {
     "output_type": "execute_result",
     "data": {
      "text/plain": "STATION\n34 ST-PENN STA     237865.0\n125 ST             205183.0\n34 ST-HERALD SQ    200641.0\n14 ST-UNION SQ     186511.0\n86 ST              171008.0\nPATH NEW WTC       170308.0\n42 ST-PORT AUTH    156104.0\nFLUSHING-MAIN      151246.0\nJKSN HT-ROOSVLT    134000.0\nGRD CNTRL-42 ST    131333.0\nTIMES SQ-42 ST     130181.0\n23 ST              127689.0\n59 ST              120649.0\nFULTON ST          120293.0\nCANAL ST           117812.0\n96 ST              117227.0\n59 ST COLUMBUS     107736.0\n145 ST             106010.0\n14 ST              103193.0\nATL AV-BARCLAY     102006.0\nCHURCH AV           93937.0\n72 ST               90814.0\nJAMAICA CENTER      83657.0\nW 4 ST-WASH SQ      82717.0\nJUNCTION BLVD       82014.0\nBEDFORD AV          77936.0\nGRAND ST            76432.0\n116 ST              73511.0\n8 AV                72347.0\n181 ST              72130.0\n103 ST-CORONA       71996.0\nCROWN HTS-UTICA     68386.0\nKINGS HWY           65880.0\n82 ST-JACKSON H     64693.0\nNOSTRAND AV         63124.0\n103 ST              62690.0\nDELANCEY/ESSEX      61236.0\nCONEY IS-STILLW     60670.0\nDEKALB AV           59590.0\nSUTPHIN-ARCHER      57704.0\nJOURNAL SQUARE      57530.0\nMYRTLE-WYCKOFF      57193.0\n50 ST               56955.0\nCHAMBERS ST         54145.0\n1 AV                53664.0\n61 ST WOODSIDE      53402.0\n167 ST              53300.0\nJAY ST-METROTEC     52508.0\nFRANKLIN AV         52200.0\n77 ST               52103.0\nWOODHAVEN BLVD      51625.0\nFORDHAM RD          50826.0\n161/YANKEE STAD     49296.0\n90 ST-ELMHURST      48489.0\nLEXINGTON AV/63     48397.0\n111 ST              47139.0\n28 ST               47015.0\n3 AV-149 ST         46036.0\nBROADWAY JCT        45753.0\n47-50 STS ROCK      45715.0\n42 ST-BRYANT PK     45601.0\n7 AV                45312.0\nKEW GARDENS         44938.0\nBROADWAY            44402.0\nKINGSBRIDGE RD      44014.0\nBAY PKWY            43890.0\n168 ST              42915.0\nBRIGHTON BEACH      42834.0\nFOREST HILLS 71     42804.0\n170 ST              42236.0\n57 ST-7 AV          41387.0\nUTICA AV            41042.0\nASTORIA DITMARS     40615.0\n86 ST-2 AVE         39834.0\nB'WAY-LAFAYETTE     39010.0\nGROVE STREET        38613.0\n72 ST-2 AVE         38463.0\n36 ST               38311.0\nBOROUGH HALL        38288.0\nPARKCHESTER         37872.0\nPRINCE ST           36910.0\nSUTTER AV-RUTLD     36006.0\n135 ST              35472.0\n137 ST CITY COL     35303.0\nCHRISTOPHER ST      34616.0\nGRAND-NEWTOWN       34439.0\nROCKAWAY AV         34300.0\n53 ST               34214.0\nCATHEDRAL PKWY      33932.0\n2 AV                33818.0\nMETROPOLITAN AV     33751.0\n96 ST-2 AVE         33405.0\n46 ST BLISS ST      33192.0\nSHEEPSHEAD BAY      33076.0\n149/GRAND CONC      32890.0\nWHITEHALL S-FRY     32850.0\nVERNON-JACKSON      32839.0\n79 ST               32468.0\nGUN HILL RD         31932.0\n157 ST              31638.0\nJAMAICA 179 ST      31586.0\nHALSEY ST           31554.0\n34 ST-HUDSON YD     31541.0\n30 AV               31515.0\nPROSPECT PARK       31495.0\nDYCKMAN ST          30624.0\nTHIRTY THIRD ST     30287.0\nSTEINWAY ST         30212.0\nNEWKIRK PLAZA       29720.0\n8 ST-NYU            29620.0\nBEDFORD PK BLVD     29097.0\nFT HAMILTON PKY     28814.0\nWALL ST             28691.0\nAVENUE U            28565.0\nMARCY AV            28422.0\nCITY / BUS          28146.0\n110 ST              27918.0\nHOYT-SCHER          27457.0\nCORTLANDT ST        27323.0\nPELHAM PKWY         27278.0\n18 AV               26616.0\nMYRTLE AV           26444.0\nHUNTS POINT AV      26248.0\n66 ST-LINCOLN       26247.0\n5 AV/59 ST          26079.0\nFLUSHING AV         25987.0\nEAST BROADWAY       25945.0\nPROSPECT AV         25926.0\n68ST-HUNTER CO      25896.0\nCOURT SQ            25797.0\nFLATBUSH AV-B.C     25539.0\n175 ST              25030.0\n57 ST               25025.0\nNORWOOD 205 ST      24854.0\n21 ST-QNSBRIDGE     24635.0\n49 ST               24632.0\nBERGEN ST           24365.0\nSOUTH FERRY         24021.0\n63 DR-REGO PARK     23818.0\nEXCHANGE PLACE      23706.0\nPAVONIA/NEWPORT     23687.0\n45 ST               23645.0\nCENTRAL PK N110     23510.0\nTREMONT AV          23390.0\nNASSAU AV           23350.0\nE 180 ST            23273.0\nLEXINGTON AV/53     23121.0\n40 ST LOWERY ST     23024.0\nEUCLID AV           22991.0\nHIGH ST             22792.0\nBOWLING GREEN       22688.0\n3 AV 138 ST         22484.0\nELDER AV            22326.0\nROOSEVELT ISLND     21662.0\nGREENPOINT AV       21526.0\nPARKSIDE AV         21515.0\nQUEENSBORO PLZ      21355.0\nNEWARK BM BW        21293.0\nWESTCHESTER SQ      21154.0\n169 ST              21075.0\n69 ST               20969.0\nBROOK AV            20838.0\n4AV-9 ST            20658.0\n174 ST              20573.0\nMORISN AV/SNDVW     20424.0\nASTORIA BLVD        20030.0\nNEVINS ST           19934.0\nMORGAN AV           19912.0\nCASTLE HILL AV      19836.0\nWAKEFIELD/241       19745.0\nOZONE PK LEFFRT     19718.0\nBURNSIDE AV         19474.0\nSPRING ST           19388.0\nVAN SICLEN AV       19293.0\nINWOOD-207 ST       19290.0\nGRAHAM AV           19159.0\nYORK ST             19139.0\n9 AV                18980.0\nLORIMER ST          18929.0\nPARSONS BLVD        18918.0\nNEW LOTS AV         18802.0\n20 AV               18335.0\nQUEENS PLAZA        18317.0\n14TH STREET         18258.0\nBEDFORD-NOSTRAN     18228.0\nWEST FARMS SQ       17891.0\nWORLD TRADE CTR     17714.0\nELMHURST AV         17458.0\nBLEECKER ST         17451.0\nMONTROSE AV         17419.0\nGRANT AV            17356.0\nBAY RIDGE AV        17263.0\nCLINTON-WASH AV     17250.0\nHOYT ST             17107.0\n46 ST               17049.0\n52 ST               17039.0\n207 ST              17026.0\nV.CORTLANDT PK      16890.0\n81 ST-MUSEUM        16749.0\nFAR ROCKAWAY        16729.0\n51 ST               16620.0\nE 149 ST            16618.0\n36 AV               16566.0\nCRESCENT ST         16536.0\nMETS-WILLETS PT     16529.0\n33 ST               16476.0\nUNION ST            16386.0\n74 ST-BROADWAY      16315.0\nPATH WTC 2          16267.0\nROCKAWAY BLVD       16203.0\n183 ST              16142.0\nSIMPSON ST          16106.0\nSARATOGA AV         16041.0\nKINGSTON-THROOP     16016.0\n155 ST              16015.0\nCORTELYOU RD        15296.0\n176 ST              15291.0\nCARROLL ST          15266.0\nMOSHOLU PKWY        14953.0\n3 AV                14808.0\nRALPH AV            14740.0\nSMITH-9 ST          14714.0\nMT EDEN AV          14648.0\nGATES AV            14514.0\n5 AVE               14288.0\n174-175 STS         14230.0\nFRESH POND RD       14178.0\nWILSON AV           14143.0\nJEFFERSON ST        13767.0\nST LAWRENCE AV      13748.0\n163 ST-AMSTERDM     13735.0\nAVENUE J            13617.0\nNORTHERN BLVD       13573.0\n231 ST              13496.0\n9TH STREET          13209.0\nMYRTLE-WILLOUGH     12999.0\nKOSCIUSZKO ST       12984.0\nCLASSON AV          12722.0\nBROOKLYN BRIDGE     12721.0\nWOODLAWN            12693.0\nNEW UTRECHT AV      12554.0\nPELHAM BAY PARK     12327.0\nHOUSTON ST          12296.0\nAVENUE M            12002.0\nRECTOR ST           11909.0\nOCEAN PKWY          11782.0\nFREEMAN ST          11703.0\n182-183 STS         11681.0\nCLARK ST            11651.0\nALLERTON AV         11620.0\nWTC-CORTLANDT       11570.0\n116 ST-COLUMBIA     11565.0\nBEACH 67 ST         11510.0\n25 ST               11314.0\nKINGSTON AV         11272.0\nPENNSYLVANIA AV     11260.0\nCLEVELAND ST        11145.0\n67 AV               11080.0\nJAMAICA VAN WK      11064.0\nBAY RIDGE-95 ST     11041.0\nHARRISON            10919.0\nEASTN PKWY-MUSM     10863.0\nBEVERLEY ROAD       10759.0\nKNICKERBOCKER       10750.0\nGRAND ARMY PLAZ     10701.0\n15 ST-PROSPECT      10687.0\nEASTCHSTER/DYRE     10651.0\n71 ST               10648.0\nTWENTY THIRD ST     10616.0\nNORWOOD AV          10433.0\n4 AV-9 ST           10431.0\nSUTPHIN BLVD        10186.0\nASTOR PL             9960.0\n233 ST               9930.0\nRIT-ROOSEVELT        9927.0\nVAN SICLEN AVE       9859.0\nMARBLE HILL-225      9758.0\nHARLEM 148 ST        9747.0\nTHIRTY ST            9693.0\n225 ST               9660.0\nRIT-MANHATTAN        9440.0\nLONGWOOD AV          9427.0\nLAFAYETTE AV         9353.0\n85 ST-FOREST PK      9157.0\nJUNIUS ST            9038.0\nINTERVALE AV         8995.0\n18 ST                8965.0\n6 AV                 8787.0\nFOREST AVE           8752.0\n75 ST-ELDERTS        8701.0\nCYPRESS AV           8595.0\nJACKSON AV           8533.0\n80 ST                8510.0\nAVENUE H             8413.0\nNEWKIRK AV           8375.0\nW 8 ST-AQUARIUM      8347.0\nLACKAWANNA           8207.0\nALABAMA AV           8092.0\nSTERLING ST          8019.0\nBOWERY               8009.0\nCENTRAL AV           7992.0\nBRIARWOOD            7946.0\n219 ST               7945.0\nPARK PLACE           7839.0\n104 ST               7832.0\n25 AV                7719.0\nSHEPHERD AV          7649.0\nCHAUNCEY ST          7451.0\nBURKE AV             7424.0\nHEWES ST             7417.0\n5 AV/53 ST           7308.0\n65 ST                7234.0\nBEACH 60 ST          7113.0\nNECK RD              7065.0\nBUSHWICK AV          6995.0\n33 ST-RAWSON ST      6875.0\nSENECA AVE           6864.0\nWHITLOCK AV          6817.0\nNEREID AV            6655.0\nZEREGA AV            6497.0\nHOWARD BCH JFK       6414.0\nBEACH 25 ST          6397.0\n238 ST               6293.0\n39 AV                6265.0\nBEACH 90 ST          6196.0\nCITY HALL            6182.0\nLIBERTY AV           6075.0\nBUHRE AV             5986.0\nCANARSIE-ROCKAW      5856.0\n191 ST               5724.0\nROCKAWAY PARK B      5694.0\n121 ST               5642.0\n138/GRAND CONC       5641.0\nPRESIDENT ST         5618.0\nWINTHROP ST          5603.0\n190 ST               5310.0\nBRONX PARK EAST      5307.0\n21 ST                4955.0\nNEW LOTS             4929.0\nSUTTER AV            4778.0\nBOTANIC GARDEN       4762.0\n88 ST                4708.0\nHUNTERS PT AV        4599.0\n55 ST                4438.0\nBEVERLY RD           4418.0\nBAYCHESTER AV        4417.0\nBAY 50 ST            4091.0\nFRANKLIN ST          4047.0\nBEACH 36 ST          3921.0\nCYPRESS HILLS        3871.0\nNEWARK C             3750.0\nMORRIS PARK          3720.0\nBROAD ST             3484.0\n75 AV                3413.0\n215 ST               3250.0\nBEACH 44 ST          3240.0\nEAST 105 ST          3191.0\nBEACH 98 ST          3135.0\nCOURT SQ-23 ST       3082.0\nBEACH 105 ST         3053.0\nLIVONIA AV           3033.0\nE 143/ST MARY'S      2854.0\nMIDDLETOWN RD        2827.0\nAQUEDUCT N.COND      2531.0\nNEWARK HW BMEBE      2505.0\nAQUEDUCT RACETR      1706.0\nATLANTIC AV          1276.0\nBROAD CHANNEL         560.0\nAVENUE X              198.0\nAVENUE P              144.0\nDITMAS AV             100.0\nAVENUE N               59.0\nNEPTUNE AV             35.0\nAVENUE I               31.0\nName: TOTAL_TRAFFIC, dtype: float64"
     },
     "metadata": {},
     "execution_count": 516
    }
   ],
   "source": [
    "entries_weekend.groupby('STATION').TOTAL_TRAFFIC.sum().sort_values(ascending=False)"
   ]
  },
  {
   "source": [
    "## Group by time (4 hours)"
   ],
   "cell_type": "markdown",
   "metadata": {}
  },
  {
   "cell_type": "code",
   "execution_count": 593,
   "metadata": {},
   "outputs": [],
   "source": [
    "entries_by_time = entries_by_date.copy(deep=True)"
   ]
  },
  {
   "cell_type": "code",
   "execution_count": 594,
   "metadata": {},
   "outputs": [],
   "source": [
    "entries_by_time = entries_by_time.groupby('STATION').resample('4H', on='DATETIME').sum().reset_index()"
   ]
  },
  {
   "cell_type": "code",
   "execution_count": 595,
   "metadata": {},
   "outputs": [],
   "source": [
    "entries_by_time['TIME'] = entries_by_time['DATETIME'].dt.time"
   ]
  },
  {
   "cell_type": "code",
   "execution_count": 596,
   "metadata": {},
   "outputs": [],
   "source": [
    "#rename time labels for clarification\n",
    "entries_by_time.loc[entries_by_time['TIME'] == datetime.time(0, 0), 'label'] = '8pm-12am'\n",
    "entries_by_time.loc[entries_by_time['TIME'] == datetime.time(4, 0), 'label'] = '12am-4am'\n",
    "entries_by_time.loc[entries_by_time['TIME'] == datetime.time(8, 0), 'label'] = '4am-8am'\n",
    "entries_by_time.loc[entries_by_time['TIME'] == datetime.time(12, 0), 'label'] = '8am-12pm'\n",
    "entries_by_time.loc[entries_by_time['TIME'] == datetime.time(16, 0), 'label'] = '12pm-4pm'\n",
    "entries_by_time.loc[entries_by_time['TIME'] == datetime.time(20, 0), 'label'] = '4pm-8pm'"
   ]
  },
  {
   "cell_type": "code",
   "execution_count": 597,
   "metadata": {},
   "outputs": [],
   "source": [
    "entries_by_time = entries_by_time.groupby(['STATION', 'label'])['TOTAL_TRAFFIC'].sum().reset_index().sort_values(by='TOTAL_TRAFFIC', ascending=False)"
   ]
  },
  {
   "source": [
    "## subset for our target stations"
   ],
   "cell_type": "markdown",
   "metadata": {}
  },
  {
   "cell_type": "code",
   "execution_count": 598,
   "metadata": {},
   "outputs": [],
   "source": [
    "top_stations = entries_by_time.loc[(entries_by_time['STATION'] == '23 ST') | (entries_by_time['STATION'] == '14 ST') | (entries_by_time['STATION'] == '86 ST') | (entries_by_time['STATION'] == '14 ST-UNION SQ') | (entries_by_time['STATION'] == '34 ST-HERALD SQ') | (entries_by_time['STATION'] == '34 ST-PENN STA') | (entries_by_time['STATION'] == '42 ST-PORT AUTH') | (entries_by_time['STATION'] == 'GRD CNTRL-42 ST')]"
   ]
  },
  {
   "cell_type": "code",
   "execution_count": 600,
   "metadata": {},
   "outputs": [
    {
     "output_type": "display_data",
     "data": {
      "text/plain": "<Figure size 845.875x360 with 1 Axes>",
      "image/svg+xml": "<?xml version=\"1.0\" encoding=\"utf-8\" standalone=\"no\"?>\n<!DOCTYPE svg PUBLIC \"-//W3C//DTD SVG 1.1//EN\"\n  \"http://www.w3.org/Graphics/SVG/1.1/DTD/svg11.dtd\">\n<!-- Created with matplotlib (https://matplotlib.org/) -->\n<svg height=\"372.155312pt\" version=\"1.1\" viewBox=\"0 0 849.246918 372.155312\" width=\"849.246918pt\" xmlns=\"http://www.w3.org/2000/svg\" xmlns:xlink=\"http://www.w3.org/1999/xlink\">\n <metadata>\n  <rdf:RDF xmlns:cc=\"http://creativecommons.org/ns#\" xmlns:dc=\"http://purl.org/dc/elements/1.1/\" xmlns:rdf=\"http://www.w3.org/1999/02/22-rdf-syntax-ns#\">\n   <cc:Work>\n    <dc:type rdf:resource=\"http://purl.org/dc/dcmitype/StillImage\"/>\n    <dc:date>2020-09-27T12:13:32.141327</dc:date>\n    <dc:format>image/svg+xml</dc:format>\n    <dc:creator>\n     <cc:Agent>\n      <dc:title>Matplotlib v3.3.1, https://matplotlib.org/</dc:title>\n     </cc:Agent>\n    </dc:creator>\n   </cc:Work>\n  </rdf:RDF>\n </metadata>\n <defs>\n  <style type=\"text/css\">*{stroke-linecap:butt;stroke-linejoin:round;}</style>\n </defs>\n <g id=\"figure_1\">\n  <g id=\"patch_1\">\n   <path d=\"M 0 372.155312 \nL 849.246918 372.155312 \nL 849.246918 0 \nL 0 0 \nz\n\" style=\"fill:none;\"/>\n  </g>\n  <g id=\"axes_1\">\n   <g id=\"patch_2\">\n    <path d=\"M 67.020938 348.277187 \nL 712.713168 348.277187 \nL 712.713168 26.877187 \nL 67.020938 26.877187 \nz\n\" style=\"fill:#ffffff;\"/>\n   </g>\n   <g id=\"PathCollection_1\">\n    <defs>\n     <path d=\"M 0 3.383948 \nC 0.897434 3.383948 1.758231 3.027394 2.392813 2.392813 \nC 3.027394 1.758231 3.383948 0.897434 3.383948 0 \nC 3.383948 -0.897434 3.027394 -1.758231 2.392813 -2.392813 \nC 1.758231 -3.027394 0.897434 -3.383948 0 -3.383948 \nC -0.897434 -3.383948 -1.758231 -3.027394 -2.392813 -2.392813 \nC -3.027394 -1.758231 -3.383948 -0.897434 -3.383948 0 \nC -3.383948 0.897434 -3.027394 1.758231 -2.392813 2.392813 \nC -1.758231 3.027394 -0.897434 3.383948 0 3.383948 \nz\n\" id=\"mdac1f3d408\" style=\"stroke:#1f77b4;stroke-width:2.025;\"/>\n    </defs>\n    <g clip-path=\"url(#p01845c1c33)\">\n     <use style=\"fill:#1f77b4;stroke:#1f77b4;stroke-width:2.025;\" x=\"120.828623\" xlink:href=\"#mdac1f3d408\" y=\"332.002676\"/>\n     <use style=\"fill:#1f77b4;stroke:#1f77b4;stroke-width:2.025;\" x=\"228.443995\" xlink:href=\"#mdac1f3d408\" y=\"256.026295\"/>\n     <use style=\"fill:#1f77b4;stroke:#1f77b4;stroke-width:2.025;\" x=\"336.059367\" xlink:href=\"#mdac1f3d408\" y=\"200.0999\"/>\n     <use style=\"fill:#1f77b4;stroke:#1f77b4;stroke-width:2.025;\" x=\"443.674739\" xlink:href=\"#mdac1f3d408\" y=\"146.077311\"/>\n     <use style=\"fill:#1f77b4;stroke:#1f77b4;stroke-width:2.025;\" x=\"551.290111\" xlink:href=\"#mdac1f3d408\" y=\"162.272004\"/>\n     <use style=\"fill:#1f77b4;stroke:#1f77b4;stroke-width:2.025;\" x=\"658.905482\" xlink:href=\"#mdac1f3d408\" y=\"283.361878\"/>\n    </g>\n   </g>\n   <g id=\"line2d_1\">\n    <path clip-path=\"url(#p01845c1c33)\" d=\"M 120.828623 332.002676 \nL 228.443995 256.026295 \nL 336.059367 200.0999 \nL 443.674739 146.077311 \nL 551.290111 162.272004 \nL 658.905482 283.361878 \n\" style=\"fill:none;stroke:#1f77b4;stroke-linecap:square;stroke-width:2.7;\"/>\n   </g>\n   <g id=\"line2d_2\">\n    <path clip-path=\"url(#p01845c1c33)\" d=\"M 0 0 \n\" style=\"fill:none;stroke:#1f77b4;stroke-linecap:square;stroke-width:2.7;\"/>\n   </g>\n   <g id=\"line2d_3\">\n    <path clip-path=\"url(#p01845c1c33)\" d=\"M 0 0 \n\" style=\"fill:none;stroke:#1f77b4;stroke-linecap:square;stroke-width:2.7;\"/>\n   </g>\n   <g id=\"line2d_4\">\n    <path clip-path=\"url(#p01845c1c33)\" d=\"M 0 0 \n\" style=\"fill:none;stroke:#1f77b4;stroke-linecap:square;stroke-width:2.7;\"/>\n   </g>\n   <g id=\"line2d_5\">\n    <path clip-path=\"url(#p01845c1c33)\" d=\"M 0 0 \n\" style=\"fill:none;stroke:#1f77b4;stroke-linecap:square;stroke-width:2.7;\"/>\n   </g>\n   <g id=\"line2d_6\">\n    <path clip-path=\"url(#p01845c1c33)\" d=\"M 0 0 \n\" style=\"fill:none;stroke:#1f77b4;stroke-linecap:square;stroke-width:2.7;\"/>\n   </g>\n   <g id=\"line2d_7\">\n    <path clip-path=\"url(#p01845c1c33)\" d=\"M 0 0 \n\" style=\"fill:none;stroke:#1f77b4;stroke-linecap:square;stroke-width:2.7;\"/>\n   </g>\n   <g id=\"matplotlib.axis_1\">\n    <g id=\"xtick_1\">\n     <g id=\"line2d_8\">\n      <defs>\n       <path d=\"M 0 0 \nL 0 3.5 \n\" id=\"m0d2fffd54c\" style=\"stroke:#000000;stroke-width:0.8;\"/>\n      </defs>\n      <g>\n       <use style=\"stroke:#000000;stroke-width:0.8;\" x=\"120.828623\" xlink:href=\"#m0d2fffd54c\" y=\"348.277187\"/>\n      </g>\n     </g>\n     <g id=\"text_1\">\n      <!-- 12am-4am -->\n      <g transform=\"translate(93.612217 362.875625)scale(0.1 -0.1)\">\n       <defs>\n        <path d=\"M 12.40625 8.296875 \nL 28.515625 8.296875 \nL 28.515625 63.921875 \nL 10.984375 60.40625 \nL 10.984375 69.390625 \nL 28.421875 72.90625 \nL 38.28125 72.90625 \nL 38.28125 8.296875 \nL 54.390625 8.296875 \nL 54.390625 0 \nL 12.40625 0 \nz\n\" id=\"DejaVuSans-49\"/>\n        <path d=\"M 19.1875 8.296875 \nL 53.609375 8.296875 \nL 53.609375 0 \nL 7.328125 0 \nL 7.328125 8.296875 \nQ 12.9375 14.109375 22.625 23.890625 \nQ 32.328125 33.6875 34.8125 36.53125 \nQ 39.546875 41.84375 41.421875 45.53125 \nQ 43.3125 49.21875 43.3125 52.78125 \nQ 43.3125 58.59375 39.234375 62.25 \nQ 35.15625 65.921875 28.609375 65.921875 \nQ 23.96875 65.921875 18.8125 64.3125 \nQ 13.671875 62.703125 7.8125 59.421875 \nL 7.8125 69.390625 \nQ 13.765625 71.78125 18.9375 73 \nQ 24.125 74.21875 28.421875 74.21875 \nQ 39.75 74.21875 46.484375 68.546875 \nQ 53.21875 62.890625 53.21875 53.421875 \nQ 53.21875 48.921875 51.53125 44.890625 \nQ 49.859375 40.875 45.40625 35.40625 \nQ 44.1875 33.984375 37.640625 27.21875 \nQ 31.109375 20.453125 19.1875 8.296875 \nz\n\" id=\"DejaVuSans-50\"/>\n        <path d=\"M 34.28125 27.484375 \nQ 23.390625 27.484375 19.1875 25 \nQ 14.984375 22.515625 14.984375 16.5 \nQ 14.984375 11.71875 18.140625 8.90625 \nQ 21.296875 6.109375 26.703125 6.109375 \nQ 34.1875 6.109375 38.703125 11.40625 \nQ 43.21875 16.703125 43.21875 25.484375 \nL 43.21875 27.484375 \nz\nM 52.203125 31.203125 \nL 52.203125 0 \nL 43.21875 0 \nL 43.21875 8.296875 \nQ 40.140625 3.328125 35.546875 0.953125 \nQ 30.953125 -1.421875 24.3125 -1.421875 \nQ 15.921875 -1.421875 10.953125 3.296875 \nQ 6 8.015625 6 15.921875 \nQ 6 25.140625 12.171875 29.828125 \nQ 18.359375 34.515625 30.609375 34.515625 \nL 43.21875 34.515625 \nL 43.21875 35.40625 \nQ 43.21875 41.609375 39.140625 45 \nQ 35.0625 48.390625 27.6875 48.390625 \nQ 23 48.390625 18.546875 47.265625 \nQ 14.109375 46.140625 10.015625 43.890625 \nL 10.015625 52.203125 \nQ 14.9375 54.109375 19.578125 55.046875 \nQ 24.21875 56 28.609375 56 \nQ 40.484375 56 46.34375 49.84375 \nQ 52.203125 43.703125 52.203125 31.203125 \nz\n\" id=\"DejaVuSans-97\"/>\n        <path d=\"M 52 44.1875 \nQ 55.375 50.25 60.0625 53.125 \nQ 64.75 56 71.09375 56 \nQ 79.640625 56 84.28125 50.015625 \nQ 88.921875 44.046875 88.921875 33.015625 \nL 88.921875 0 \nL 79.890625 0 \nL 79.890625 32.71875 \nQ 79.890625 40.578125 77.09375 44.375 \nQ 74.3125 48.1875 68.609375 48.1875 \nQ 61.625 48.1875 57.5625 43.546875 \nQ 53.515625 38.921875 53.515625 30.90625 \nL 53.515625 0 \nL 44.484375 0 \nL 44.484375 32.71875 \nQ 44.484375 40.625 41.703125 44.40625 \nQ 38.921875 48.1875 33.109375 48.1875 \nQ 26.21875 48.1875 22.15625 43.53125 \nQ 18.109375 38.875 18.109375 30.90625 \nL 18.109375 0 \nL 9.078125 0 \nL 9.078125 54.6875 \nL 18.109375 54.6875 \nL 18.109375 46.1875 \nQ 21.1875 51.21875 25.484375 53.609375 \nQ 29.78125 56 35.6875 56 \nQ 41.65625 56 45.828125 52.96875 \nQ 50 49.953125 52 44.1875 \nz\n\" id=\"DejaVuSans-109\"/>\n        <path d=\"M 4.890625 31.390625 \nL 31.203125 31.390625 \nL 31.203125 23.390625 \nL 4.890625 23.390625 \nz\n\" id=\"DejaVuSans-45\"/>\n        <path d=\"M 37.796875 64.3125 \nL 12.890625 25.390625 \nL 37.796875 25.390625 \nz\nM 35.203125 72.90625 \nL 47.609375 72.90625 \nL 47.609375 25.390625 \nL 58.015625 25.390625 \nL 58.015625 17.1875 \nL 47.609375 17.1875 \nL 47.609375 0 \nL 37.796875 0 \nL 37.796875 17.1875 \nL 4.890625 17.1875 \nL 4.890625 26.703125 \nz\n\" id=\"DejaVuSans-52\"/>\n       </defs>\n       <use xlink:href=\"#DejaVuSans-49\"/>\n       <use x=\"63.623047\" xlink:href=\"#DejaVuSans-50\"/>\n       <use x=\"127.246094\" xlink:href=\"#DejaVuSans-97\"/>\n       <use x=\"188.525391\" xlink:href=\"#DejaVuSans-109\"/>\n       <use x=\"285.9375\" xlink:href=\"#DejaVuSans-45\"/>\n       <use x=\"322.021484\" xlink:href=\"#DejaVuSans-52\"/>\n       <use x=\"385.644531\" xlink:href=\"#DejaVuSans-97\"/>\n       <use x=\"446.923828\" xlink:href=\"#DejaVuSans-109\"/>\n      </g>\n     </g>\n    </g>\n    <g id=\"xtick_2\">\n     <g id=\"line2d_9\">\n      <g>\n       <use style=\"stroke:#000000;stroke-width:0.8;\" x=\"228.443995\" xlink:href=\"#m0d2fffd54c\" y=\"348.277187\"/>\n      </g>\n     </g>\n     <g id=\"text_2\">\n      <!-- 4am-8am -->\n      <g transform=\"translate(204.408839 362.875625)scale(0.1 -0.1)\">\n       <defs>\n        <path d=\"M 31.78125 34.625 \nQ 24.75 34.625 20.71875 30.859375 \nQ 16.703125 27.09375 16.703125 20.515625 \nQ 16.703125 13.921875 20.71875 10.15625 \nQ 24.75 6.390625 31.78125 6.390625 \nQ 38.8125 6.390625 42.859375 10.171875 \nQ 46.921875 13.96875 46.921875 20.515625 \nQ 46.921875 27.09375 42.890625 30.859375 \nQ 38.875 34.625 31.78125 34.625 \nz\nM 21.921875 38.8125 \nQ 15.578125 40.375 12.03125 44.71875 \nQ 8.5 49.078125 8.5 55.328125 \nQ 8.5 64.0625 14.71875 69.140625 \nQ 20.953125 74.21875 31.78125 74.21875 \nQ 42.671875 74.21875 48.875 69.140625 \nQ 55.078125 64.0625 55.078125 55.328125 \nQ 55.078125 49.078125 51.53125 44.71875 \nQ 48 40.375 41.703125 38.8125 \nQ 48.828125 37.15625 52.796875 32.3125 \nQ 56.78125 27.484375 56.78125 20.515625 \nQ 56.78125 9.90625 50.3125 4.234375 \nQ 43.84375 -1.421875 31.78125 -1.421875 \nQ 19.734375 -1.421875 13.25 4.234375 \nQ 6.78125 9.90625 6.78125 20.515625 \nQ 6.78125 27.484375 10.78125 32.3125 \nQ 14.796875 37.15625 21.921875 38.8125 \nz\nM 18.3125 54.390625 \nQ 18.3125 48.734375 21.84375 45.5625 \nQ 25.390625 42.390625 31.78125 42.390625 \nQ 38.140625 42.390625 41.71875 45.5625 \nQ 45.3125 48.734375 45.3125 54.390625 \nQ 45.3125 60.0625 41.71875 63.234375 \nQ 38.140625 66.40625 31.78125 66.40625 \nQ 25.390625 66.40625 21.84375 63.234375 \nQ 18.3125 60.0625 18.3125 54.390625 \nz\n\" id=\"DejaVuSans-56\"/>\n       </defs>\n       <use xlink:href=\"#DejaVuSans-52\"/>\n       <use x=\"63.623047\" xlink:href=\"#DejaVuSans-97\"/>\n       <use x=\"124.902344\" xlink:href=\"#DejaVuSans-109\"/>\n       <use x=\"222.314453\" xlink:href=\"#DejaVuSans-45\"/>\n       <use x=\"258.398438\" xlink:href=\"#DejaVuSans-56\"/>\n       <use x=\"322.021484\" xlink:href=\"#DejaVuSans-97\"/>\n       <use x=\"383.300781\" xlink:href=\"#DejaVuSans-109\"/>\n      </g>\n     </g>\n    </g>\n    <g id=\"xtick_3\">\n     <g id=\"line2d_10\">\n      <g>\n       <use style=\"stroke:#000000;stroke-width:0.8;\" x=\"336.059367\" xlink:href=\"#m0d2fffd54c\" y=\"348.277187\"/>\n      </g>\n     </g>\n     <g id=\"text_3\">\n      <!-- 8am-12pm -->\n      <g transform=\"translate(308.732805 362.875625)scale(0.1 -0.1)\">\n       <defs>\n        <path d=\"M 18.109375 8.203125 \nL 18.109375 -20.796875 \nL 9.078125 -20.796875 \nL 9.078125 54.6875 \nL 18.109375 54.6875 \nL 18.109375 46.390625 \nQ 20.953125 51.265625 25.265625 53.625 \nQ 29.59375 56 35.59375 56 \nQ 45.5625 56 51.78125 48.09375 \nQ 58.015625 40.1875 58.015625 27.296875 \nQ 58.015625 14.40625 51.78125 6.484375 \nQ 45.5625 -1.421875 35.59375 -1.421875 \nQ 29.59375 -1.421875 25.265625 0.953125 \nQ 20.953125 3.328125 18.109375 8.203125 \nz\nM 48.6875 27.296875 \nQ 48.6875 37.203125 44.609375 42.84375 \nQ 40.53125 48.484375 33.40625 48.484375 \nQ 26.265625 48.484375 22.1875 42.84375 \nQ 18.109375 37.203125 18.109375 27.296875 \nQ 18.109375 17.390625 22.1875 11.75 \nQ 26.265625 6.109375 33.40625 6.109375 \nQ 40.53125 6.109375 44.609375 11.75 \nQ 48.6875 17.390625 48.6875 27.296875 \nz\n\" id=\"DejaVuSans-112\"/>\n       </defs>\n       <use xlink:href=\"#DejaVuSans-56\"/>\n       <use x=\"63.623047\" xlink:href=\"#DejaVuSans-97\"/>\n       <use x=\"124.902344\" xlink:href=\"#DejaVuSans-109\"/>\n       <use x=\"222.314453\" xlink:href=\"#DejaVuSans-45\"/>\n       <use x=\"258.398438\" xlink:href=\"#DejaVuSans-49\"/>\n       <use x=\"322.021484\" xlink:href=\"#DejaVuSans-50\"/>\n       <use x=\"385.644531\" xlink:href=\"#DejaVuSans-112\"/>\n       <use x=\"449.121094\" xlink:href=\"#DejaVuSans-109\"/>\n      </g>\n     </g>\n    </g>\n    <g id=\"xtick_4\">\n     <g id=\"line2d_11\">\n      <g>\n       <use style=\"stroke:#000000;stroke-width:0.8;\" x=\"443.674739\" xlink:href=\"#m0d2fffd54c\" y=\"348.277187\"/>\n      </g>\n     </g>\n     <g id=\"text_4\">\n      <!-- 12pm-4pm -->\n      <g transform=\"translate(416.23802 362.875625)scale(0.1 -0.1)\">\n       <use xlink:href=\"#DejaVuSans-49\"/>\n       <use x=\"63.623047\" xlink:href=\"#DejaVuSans-50\"/>\n       <use x=\"127.246094\" xlink:href=\"#DejaVuSans-112\"/>\n       <use x=\"190.722656\" xlink:href=\"#DejaVuSans-109\"/>\n       <use x=\"288.134766\" xlink:href=\"#DejaVuSans-45\"/>\n       <use x=\"324.21875\" xlink:href=\"#DejaVuSans-52\"/>\n       <use x=\"387.841797\" xlink:href=\"#DejaVuSans-112\"/>\n       <use x=\"451.318359\" xlink:href=\"#DejaVuSans-109\"/>\n      </g>\n     </g>\n    </g>\n    <g id=\"xtick_5\">\n     <g id=\"line2d_12\">\n      <g>\n       <use style=\"stroke:#000000;stroke-width:0.8;\" x=\"551.290111\" xlink:href=\"#m0d2fffd54c\" y=\"348.277187\"/>\n      </g>\n     </g>\n     <g id=\"text_5\">\n      <!-- 4pm-8pm -->\n      <g transform=\"translate(527.034642 362.875625)scale(0.1 -0.1)\">\n       <use xlink:href=\"#DejaVuSans-52\"/>\n       <use x=\"63.623047\" xlink:href=\"#DejaVuSans-112\"/>\n       <use x=\"127.099609\" xlink:href=\"#DejaVuSans-109\"/>\n       <use x=\"224.511719\" xlink:href=\"#DejaVuSans-45\"/>\n       <use x=\"260.595703\" xlink:href=\"#DejaVuSans-56\"/>\n       <use x=\"324.21875\" xlink:href=\"#DejaVuSans-112\"/>\n       <use x=\"387.695312\" xlink:href=\"#DejaVuSans-109\"/>\n      </g>\n     </g>\n    </g>\n    <g id=\"xtick_6\">\n     <g id=\"line2d_13\">\n      <g>\n       <use style=\"stroke:#000000;stroke-width:0.8;\" x=\"658.905482\" xlink:href=\"#m0d2fffd54c\" y=\"348.277187\"/>\n      </g>\n     </g>\n     <g id=\"text_6\">\n      <!-- 8pm-12am -->\n      <g transform=\"translate(631.57892 362.875625)scale(0.1 -0.1)\">\n       <use xlink:href=\"#DejaVuSans-56\"/>\n       <use x=\"63.623047\" xlink:href=\"#DejaVuSans-112\"/>\n       <use x=\"127.099609\" xlink:href=\"#DejaVuSans-109\"/>\n       <use x=\"224.511719\" xlink:href=\"#DejaVuSans-45\"/>\n       <use x=\"260.595703\" xlink:href=\"#DejaVuSans-49\"/>\n       <use x=\"324.21875\" xlink:href=\"#DejaVuSans-50\"/>\n       <use x=\"387.841797\" xlink:href=\"#DejaVuSans-97\"/>\n       <use x=\"449.121094\" xlink:href=\"#DejaVuSans-109\"/>\n      </g>\n     </g>\n    </g>\n   </g>\n   <g id=\"matplotlib.axis_2\">\n    <g id=\"ytick_1\">\n     <g id=\"line2d_14\">\n      <defs>\n       <path d=\"M 0 0 \nL -3.5 0 \n\" id=\"mcc555e4866\" style=\"stroke:#000000;stroke-width:0.8;\"/>\n      </defs>\n      <g>\n       <use style=\"stroke:#000000;stroke-width:0.8;\" x=\"67.020938\" xlink:href=\"#mcc555e4866\" y=\"334.800846\"/>\n      </g>\n     </g>\n     <g id=\"text_7\">\n      <!-- 0 -->\n      <g transform=\"translate(53.658438 338.600064)scale(0.1 -0.1)\">\n       <defs>\n        <path d=\"M 31.78125 66.40625 \nQ 24.171875 66.40625 20.328125 58.90625 \nQ 16.5 51.421875 16.5 36.375 \nQ 16.5 21.390625 20.328125 13.890625 \nQ 24.171875 6.390625 31.78125 6.390625 \nQ 39.453125 6.390625 43.28125 13.890625 \nQ 47.125 21.390625 47.125 36.375 \nQ 47.125 51.421875 43.28125 58.90625 \nQ 39.453125 66.40625 31.78125 66.40625 \nz\nM 31.78125 74.21875 \nQ 44.046875 74.21875 50.515625 64.515625 \nQ 56.984375 54.828125 56.984375 36.375 \nQ 56.984375 17.96875 50.515625 8.265625 \nQ 44.046875 -1.421875 31.78125 -1.421875 \nQ 19.53125 -1.421875 13.0625 8.265625 \nQ 6.59375 17.96875 6.59375 36.375 \nQ 6.59375 54.828125 13.0625 64.515625 \nQ 19.53125 74.21875 31.78125 74.21875 \nz\n\" id=\"DejaVuSans-48\"/>\n       </defs>\n       <use xlink:href=\"#DejaVuSans-48\"/>\n      </g>\n     </g>\n    </g>\n    <g id=\"ytick_2\">\n     <g id=\"line2d_15\">\n      <g>\n       <use style=\"stroke:#000000;stroke-width:0.8;\" x=\"67.020938\" xlink:href=\"#mcc555e4866\" y=\"293.699651\"/>\n      </g>\n     </g>\n     <g id=\"text_8\">\n      <!-- 50000 -->\n      <g transform=\"translate(28.208438 297.498869)scale(0.1 -0.1)\">\n       <defs>\n        <path d=\"M 10.796875 72.90625 \nL 49.515625 72.90625 \nL 49.515625 64.59375 \nL 19.828125 64.59375 \nL 19.828125 46.734375 \nQ 21.96875 47.46875 24.109375 47.828125 \nQ 26.265625 48.1875 28.421875 48.1875 \nQ 40.625 48.1875 47.75 41.5 \nQ 54.890625 34.8125 54.890625 23.390625 \nQ 54.890625 11.625 47.5625 5.09375 \nQ 40.234375 -1.421875 26.90625 -1.421875 \nQ 22.3125 -1.421875 17.546875 -0.640625 \nQ 12.796875 0.140625 7.71875 1.703125 \nL 7.71875 11.625 \nQ 12.109375 9.234375 16.796875 8.0625 \nQ 21.484375 6.890625 26.703125 6.890625 \nQ 35.15625 6.890625 40.078125 11.328125 \nQ 45.015625 15.765625 45.015625 23.390625 \nQ 45.015625 31 40.078125 35.4375 \nQ 35.15625 39.890625 26.703125 39.890625 \nQ 22.75 39.890625 18.8125 39.015625 \nQ 14.890625 38.140625 10.796875 36.28125 \nz\n\" id=\"DejaVuSans-53\"/>\n       </defs>\n       <use xlink:href=\"#DejaVuSans-53\"/>\n       <use x=\"63.623047\" xlink:href=\"#DejaVuSans-48\"/>\n       <use x=\"127.246094\" xlink:href=\"#DejaVuSans-48\"/>\n       <use x=\"190.869141\" xlink:href=\"#DejaVuSans-48\"/>\n       <use x=\"254.492188\" xlink:href=\"#DejaVuSans-48\"/>\n      </g>\n     </g>\n    </g>\n    <g id=\"ytick_3\">\n     <g id=\"line2d_16\">\n      <g>\n       <use style=\"stroke:#000000;stroke-width:0.8;\" x=\"67.020938\" xlink:href=\"#mcc555e4866\" y=\"252.598456\"/>\n      </g>\n     </g>\n     <g id=\"text_9\">\n      <!-- 100000 -->\n      <g transform=\"translate(21.845937 256.397675)scale(0.1 -0.1)\">\n       <use xlink:href=\"#DejaVuSans-49\"/>\n       <use x=\"63.623047\" xlink:href=\"#DejaVuSans-48\"/>\n       <use x=\"127.246094\" xlink:href=\"#DejaVuSans-48\"/>\n       <use x=\"190.869141\" xlink:href=\"#DejaVuSans-48\"/>\n       <use x=\"254.492188\" xlink:href=\"#DejaVuSans-48\"/>\n       <use x=\"318.115234\" xlink:href=\"#DejaVuSans-48\"/>\n      </g>\n     </g>\n    </g>\n    <g id=\"ytick_4\">\n     <g id=\"line2d_17\">\n      <g>\n       <use style=\"stroke:#000000;stroke-width:0.8;\" x=\"67.020938\" xlink:href=\"#mcc555e4866\" y=\"211.497261\"/>\n      </g>\n     </g>\n     <g id=\"text_10\">\n      <!-- 150000 -->\n      <g transform=\"translate(21.845937 215.29648)scale(0.1 -0.1)\">\n       <use xlink:href=\"#DejaVuSans-49\"/>\n       <use x=\"63.623047\" xlink:href=\"#DejaVuSans-53\"/>\n       <use x=\"127.246094\" xlink:href=\"#DejaVuSans-48\"/>\n       <use x=\"190.869141\" xlink:href=\"#DejaVuSans-48\"/>\n       <use x=\"254.492188\" xlink:href=\"#DejaVuSans-48\"/>\n       <use x=\"318.115234\" xlink:href=\"#DejaVuSans-48\"/>\n      </g>\n     </g>\n    </g>\n    <g id=\"ytick_5\">\n     <g id=\"line2d_18\">\n      <g>\n       <use style=\"stroke:#000000;stroke-width:0.8;\" x=\"67.020938\" xlink:href=\"#mcc555e4866\" y=\"170.396066\"/>\n      </g>\n     </g>\n     <g id=\"text_11\">\n      <!-- 200000 -->\n      <g transform=\"translate(21.845937 174.195285)scale(0.1 -0.1)\">\n       <use xlink:href=\"#DejaVuSans-50\"/>\n       <use x=\"63.623047\" xlink:href=\"#DejaVuSans-48\"/>\n       <use x=\"127.246094\" xlink:href=\"#DejaVuSans-48\"/>\n       <use x=\"190.869141\" xlink:href=\"#DejaVuSans-48\"/>\n       <use x=\"254.492188\" xlink:href=\"#DejaVuSans-48\"/>\n       <use x=\"318.115234\" xlink:href=\"#DejaVuSans-48\"/>\n      </g>\n     </g>\n    </g>\n    <g id=\"ytick_6\">\n     <g id=\"line2d_19\">\n      <g>\n       <use style=\"stroke:#000000;stroke-width:0.8;\" x=\"67.020938\" xlink:href=\"#mcc555e4866\" y=\"129.294871\"/>\n      </g>\n     </g>\n     <g id=\"text_12\">\n      <!-- 250000 -->\n      <g transform=\"translate(21.845937 133.09409)scale(0.1 -0.1)\">\n       <use xlink:href=\"#DejaVuSans-50\"/>\n       <use x=\"63.623047\" xlink:href=\"#DejaVuSans-53\"/>\n       <use x=\"127.246094\" xlink:href=\"#DejaVuSans-48\"/>\n       <use x=\"190.869141\" xlink:href=\"#DejaVuSans-48\"/>\n       <use x=\"254.492188\" xlink:href=\"#DejaVuSans-48\"/>\n       <use x=\"318.115234\" xlink:href=\"#DejaVuSans-48\"/>\n      </g>\n     </g>\n    </g>\n    <g id=\"ytick_7\">\n     <g id=\"line2d_20\">\n      <g>\n       <use style=\"stroke:#000000;stroke-width:0.8;\" x=\"67.020938\" xlink:href=\"#mcc555e4866\" y=\"88.193676\"/>\n      </g>\n     </g>\n     <g id=\"text_13\">\n      <!-- 300000 -->\n      <g transform=\"translate(21.845937 91.992895)scale(0.1 -0.1)\">\n       <defs>\n        <path d=\"M 40.578125 39.3125 \nQ 47.65625 37.796875 51.625 33 \nQ 55.609375 28.21875 55.609375 21.1875 \nQ 55.609375 10.40625 48.1875 4.484375 \nQ 40.765625 -1.421875 27.09375 -1.421875 \nQ 22.515625 -1.421875 17.65625 -0.515625 \nQ 12.796875 0.390625 7.625 2.203125 \nL 7.625 11.71875 \nQ 11.71875 9.328125 16.59375 8.109375 \nQ 21.484375 6.890625 26.8125 6.890625 \nQ 36.078125 6.890625 40.9375 10.546875 \nQ 45.796875 14.203125 45.796875 21.1875 \nQ 45.796875 27.640625 41.28125 31.265625 \nQ 36.765625 34.90625 28.71875 34.90625 \nL 20.21875 34.90625 \nL 20.21875 43.015625 \nL 29.109375 43.015625 \nQ 36.375 43.015625 40.234375 45.921875 \nQ 44.09375 48.828125 44.09375 54.296875 \nQ 44.09375 59.90625 40.109375 62.90625 \nQ 36.140625 65.921875 28.71875 65.921875 \nQ 24.65625 65.921875 20.015625 65.03125 \nQ 15.375 64.15625 9.8125 62.3125 \nL 9.8125 71.09375 \nQ 15.4375 72.65625 20.34375 73.4375 \nQ 25.25 74.21875 29.59375 74.21875 \nQ 40.828125 74.21875 47.359375 69.109375 \nQ 53.90625 64.015625 53.90625 55.328125 \nQ 53.90625 49.265625 50.4375 45.09375 \nQ 46.96875 40.921875 40.578125 39.3125 \nz\n\" id=\"DejaVuSans-51\"/>\n       </defs>\n       <use xlink:href=\"#DejaVuSans-51\"/>\n       <use x=\"63.623047\" xlink:href=\"#DejaVuSans-48\"/>\n       <use x=\"127.246094\" xlink:href=\"#DejaVuSans-48\"/>\n       <use x=\"190.869141\" xlink:href=\"#DejaVuSans-48\"/>\n       <use x=\"254.492188\" xlink:href=\"#DejaVuSans-48\"/>\n       <use x=\"318.115234\" xlink:href=\"#DejaVuSans-48\"/>\n      </g>\n     </g>\n    </g>\n    <g id=\"ytick_8\">\n     <g id=\"line2d_21\">\n      <g>\n       <use style=\"stroke:#000000;stroke-width:0.8;\" x=\"67.020938\" xlink:href=\"#mcc555e4866\" y=\"47.092481\"/>\n      </g>\n     </g>\n     <g id=\"text_14\">\n      <!-- 350000 -->\n      <g transform=\"translate(21.845937 50.8917)scale(0.1 -0.1)\">\n       <use xlink:href=\"#DejaVuSans-51\"/>\n       <use x=\"63.623047\" xlink:href=\"#DejaVuSans-53\"/>\n       <use x=\"127.246094\" xlink:href=\"#DejaVuSans-48\"/>\n       <use x=\"190.869141\" xlink:href=\"#DejaVuSans-48\"/>\n       <use x=\"254.492188\" xlink:href=\"#DejaVuSans-48\"/>\n       <use x=\"318.115234\" xlink:href=\"#DejaVuSans-48\"/>\n      </g>\n     </g>\n    </g>\n    <g id=\"text_15\">\n     <!-- Traffic -->\n     <g transform=\"translate(15.558281 204.181172)rotate(-90)scale(0.11 -0.11)\">\n      <defs>\n       <path d=\"M -0.296875 72.90625 \nL 61.375 72.90625 \nL 61.375 64.59375 \nL 35.5 64.59375 \nL 35.5 0 \nL 25.59375 0 \nL 25.59375 64.59375 \nL -0.296875 64.59375 \nz\n\" id=\"DejaVuSans-84\"/>\n       <path d=\"M 41.109375 46.296875 \nQ 39.59375 47.171875 37.8125 47.578125 \nQ 36.03125 48 33.890625 48 \nQ 26.265625 48 22.1875 43.046875 \nQ 18.109375 38.09375 18.109375 28.8125 \nL 18.109375 0 \nL 9.078125 0 \nL 9.078125 54.6875 \nL 18.109375 54.6875 \nL 18.109375 46.1875 \nQ 20.953125 51.171875 25.484375 53.578125 \nQ 30.03125 56 36.53125 56 \nQ 37.453125 56 38.578125 55.875 \nQ 39.703125 55.765625 41.0625 55.515625 \nz\n\" id=\"DejaVuSans-114\"/>\n       <path d=\"M 37.109375 75.984375 \nL 37.109375 68.5 \nL 28.515625 68.5 \nQ 23.6875 68.5 21.796875 66.546875 \nQ 19.921875 64.59375 19.921875 59.515625 \nL 19.921875 54.6875 \nL 34.71875 54.6875 \nL 34.71875 47.703125 \nL 19.921875 47.703125 \nL 19.921875 0 \nL 10.890625 0 \nL 10.890625 47.703125 \nL 2.296875 47.703125 \nL 2.296875 54.6875 \nL 10.890625 54.6875 \nL 10.890625 58.5 \nQ 10.890625 67.625 15.140625 71.796875 \nQ 19.390625 75.984375 28.609375 75.984375 \nz\n\" id=\"DejaVuSans-102\"/>\n       <path d=\"M 9.421875 54.6875 \nL 18.40625 54.6875 \nL 18.40625 0 \nL 9.421875 0 \nz\nM 9.421875 75.984375 \nL 18.40625 75.984375 \nL 18.40625 64.59375 \nL 9.421875 64.59375 \nz\n\" id=\"DejaVuSans-105\"/>\n       <path d=\"M 48.78125 52.59375 \nL 48.78125 44.1875 \nQ 44.96875 46.296875 41.140625 47.34375 \nQ 37.3125 48.390625 33.40625 48.390625 \nQ 24.65625 48.390625 19.8125 42.84375 \nQ 14.984375 37.3125 14.984375 27.296875 \nQ 14.984375 17.28125 19.8125 11.734375 \nQ 24.65625 6.203125 33.40625 6.203125 \nQ 37.3125 6.203125 41.140625 7.25 \nQ 44.96875 8.296875 48.78125 10.40625 \nL 48.78125 2.09375 \nQ 45.015625 0.34375 40.984375 -0.53125 \nQ 36.96875 -1.421875 32.421875 -1.421875 \nQ 20.0625 -1.421875 12.78125 6.34375 \nQ 5.515625 14.109375 5.515625 27.296875 \nQ 5.515625 40.671875 12.859375 48.328125 \nQ 20.21875 56 33.015625 56 \nQ 37.15625 56 41.109375 55.140625 \nQ 45.0625 54.296875 48.78125 52.59375 \nz\n\" id=\"DejaVuSans-99\"/>\n      </defs>\n      <use xlink:href=\"#DejaVuSans-84\"/>\n      <use x=\"46.333984\" xlink:href=\"#DejaVuSans-114\"/>\n      <use x=\"87.447266\" xlink:href=\"#DejaVuSans-97\"/>\n      <use x=\"148.726562\" xlink:href=\"#DejaVuSans-102\"/>\n      <use x=\"183.931641\" xlink:href=\"#DejaVuSans-102\"/>\n      <use x=\"219.136719\" xlink:href=\"#DejaVuSans-105\"/>\n      <use x=\"246.919922\" xlink:href=\"#DejaVuSans-99\"/>\n     </g>\n    </g>\n   </g>\n   <g id=\"PathCollection_2\">\n    <defs>\n     <path d=\"M 0 3.383948 \nC 0.897434 3.383948 1.758231 3.027394 2.392813 2.392813 \nC 3.027394 1.758231 3.383948 0.897434 3.383948 0 \nC 3.383948 -0.897434 3.027394 -1.758231 2.392813 -2.392813 \nC 1.758231 -3.027394 0.897434 -3.383948 0 -3.383948 \nC -0.897434 -3.383948 -1.758231 -3.027394 -2.392813 -2.392813 \nC -3.027394 -1.758231 -3.383948 -0.897434 -3.383948 0 \nC -3.383948 0.897434 -3.027394 1.758231 -2.392813 2.392813 \nC -1.758231 3.027394 -0.897434 3.383948 0 3.383948 \nz\n\" id=\"m63d8d3267d\" style=\"stroke:#ff7f0e;stroke-width:2.025;\"/>\n    </defs>\n    <g clip-path=\"url(#p01845c1c33)\">\n     <use style=\"fill:#ff7f0e;stroke:#ff7f0e;stroke-width:2.025;\" x=\"120.828623\" xlink:href=\"#m63d8d3267d\" y=\"328.004352\"/>\n     <use style=\"fill:#ff7f0e;stroke:#ff7f0e;stroke-width:2.025;\" x=\"228.443995\" xlink:href=\"#m63d8d3267d\" y=\"249.838922\"/>\n     <use style=\"fill:#ff7f0e;stroke:#ff7f0e;stroke-width:2.025;\" x=\"336.059367\" xlink:href=\"#m63d8d3267d\" y=\"153.068624\"/>\n     <use style=\"fill:#ff7f0e;stroke:#ff7f0e;stroke-width:2.025;\" x=\"443.674739\" xlink:href=\"#m63d8d3267d\" y=\"104.627578\"/>\n     <use style=\"fill:#ff7f0e;stroke:#ff7f0e;stroke-width:2.025;\" x=\"551.290111\" xlink:href=\"#m63d8d3267d\" y=\"55.631666\"/>\n     <use style=\"fill:#ff7f0e;stroke:#ff7f0e;stroke-width:2.025;\" x=\"658.905482\" xlink:href=\"#m63d8d3267d\" y=\"262.738943\"/>\n    </g>\n   </g>\n   <g id=\"line2d_22\">\n    <path clip-path=\"url(#p01845c1c33)\" d=\"M 120.828623 328.004352 \nL 228.443995 249.838922 \nL 336.059367 153.068624 \nL 443.674739 104.627578 \nL 551.290111 55.631666 \nL 658.905482 262.738943 \n\" style=\"fill:none;stroke:#ff7f0e;stroke-linecap:square;stroke-width:2.7;\"/>\n   </g>\n   <g id=\"line2d_23\">\n    <path clip-path=\"url(#p01845c1c33)\" d=\"M 0 0 \n\" style=\"fill:none;stroke:#ff7f0e;stroke-linecap:square;stroke-width:2.7;\"/>\n   </g>\n   <g id=\"line2d_24\">\n    <path clip-path=\"url(#p01845c1c33)\" d=\"M 0 0 \n\" style=\"fill:none;stroke:#ff7f0e;stroke-linecap:square;stroke-width:2.7;\"/>\n   </g>\n   <g id=\"line2d_25\">\n    <path clip-path=\"url(#p01845c1c33)\" d=\"M 0 0 \n\" style=\"fill:none;stroke:#ff7f0e;stroke-linecap:square;stroke-width:2.7;\"/>\n   </g>\n   <g id=\"line2d_26\">\n    <path clip-path=\"url(#p01845c1c33)\" d=\"M 0 0 \n\" style=\"fill:none;stroke:#ff7f0e;stroke-linecap:square;stroke-width:2.7;\"/>\n   </g>\n   <g id=\"line2d_27\">\n    <path clip-path=\"url(#p01845c1c33)\" d=\"M 0 0 \n\" style=\"fill:none;stroke:#ff7f0e;stroke-linecap:square;stroke-width:2.7;\"/>\n   </g>\n   <g id=\"line2d_28\">\n    <path clip-path=\"url(#p01845c1c33)\" d=\"M 0 0 \n\" style=\"fill:none;stroke:#ff7f0e;stroke-linecap:square;stroke-width:2.7;\"/>\n   </g>\n   <g id=\"patch_3\">\n    <path d=\"M 67.020938 348.277187 \nL 67.020938 26.877187 \n\" style=\"fill:none;stroke:#000000;stroke-linecap:square;stroke-linejoin:miter;stroke-width:0.8;\"/>\n   </g>\n   <g id=\"patch_4\">\n    <path d=\"M 67.020938 348.277187 \nL 712.713168 348.277187 \n\" style=\"fill:none;stroke:#000000;stroke-linecap:square;stroke-linejoin:miter;stroke-width:0.8;\"/>\n   </g>\n   <g id=\"PathCollection_3\">\n    <defs>\n     <path d=\"M 0 3.383948 \nC 0.897434 3.383948 1.758231 3.027394 2.392813 2.392813 \nC 3.027394 1.758231 3.383948 0.897434 3.383948 0 \nC 3.383948 -0.897434 3.027394 -1.758231 2.392813 -2.392813 \nC 1.758231 -3.027394 0.897434 -3.383948 0 -3.383948 \nC -0.897434 -3.383948 -1.758231 -3.027394 -2.392813 -2.392813 \nC -3.027394 -1.758231 -3.383948 -0.897434 -3.383948 0 \nC -3.383948 0.897434 -3.027394 1.758231 -2.392813 2.392813 \nC -1.758231 3.027394 -0.897434 3.383948 0 3.383948 \nz\n\" id=\"m9c06045962\" style=\"stroke:#2ca02c;stroke-width:2.025;\"/>\n    </defs>\n    <g clip-path=\"url(#p01845c1c33)\">\n     <use style=\"fill:#2ca02c;stroke:#2ca02c;stroke-width:2.025;\" x=\"120.828623\" xlink:href=\"#m9c06045962\" y=\"321.150317\"/>\n     <use style=\"fill:#2ca02c;stroke:#2ca02c;stroke-width:2.025;\" x=\"228.443995\" xlink:href=\"#m9c06045962\" y=\"149.688462\"/>\n     <use style=\"fill:#2ca02c;stroke:#2ca02c;stroke-width:2.025;\" x=\"336.059367\" xlink:href=\"#m9c06045962\" y=\"125.617958\"/>\n     <use style=\"fill:#2ca02c;stroke:#2ca02c;stroke-width:2.025;\" x=\"443.674739\" xlink:href=\"#m9c06045962\" y=\"41.486278\"/>\n     <use style=\"fill:#2ca02c;stroke:#2ca02c;stroke-width:2.025;\" x=\"551.290111\" xlink:href=\"#m9c06045962\" y=\"70.146964\"/>\n     <use style=\"fill:#2ca02c;stroke:#2ca02c;stroke-width:2.025;\" x=\"658.905482\" xlink:href=\"#m9c06045962\" y=\"255.474717\"/>\n    </g>\n   </g>\n   <g id=\"line2d_29\">\n    <path clip-path=\"url(#p01845c1c33)\" d=\"M 120.828623 321.150317 \nL 228.443995 149.688462 \nL 336.059367 125.617958 \nL 443.674739 41.486278 \nL 551.290111 70.146964 \nL 658.905482 255.474717 \n\" style=\"fill:none;stroke:#2ca02c;stroke-linecap:square;stroke-width:2.7;\"/>\n   </g>\n   <g id=\"line2d_30\">\n    <path clip-path=\"url(#p01845c1c33)\" d=\"M 0 0 \n\" style=\"fill:none;stroke:#2ca02c;stroke-linecap:square;stroke-width:2.7;\"/>\n   </g>\n   <g id=\"line2d_31\">\n    <path clip-path=\"url(#p01845c1c33)\" d=\"M 0 0 \n\" style=\"fill:none;stroke:#2ca02c;stroke-linecap:square;stroke-width:2.7;\"/>\n   </g>\n   <g id=\"line2d_32\">\n    <path clip-path=\"url(#p01845c1c33)\" d=\"M 0 0 \n\" style=\"fill:none;stroke:#2ca02c;stroke-linecap:square;stroke-width:2.7;\"/>\n   </g>\n   <g id=\"line2d_33\">\n    <path clip-path=\"url(#p01845c1c33)\" d=\"M 0 0 \n\" style=\"fill:none;stroke:#2ca02c;stroke-linecap:square;stroke-width:2.7;\"/>\n   </g>\n   <g id=\"line2d_34\">\n    <path clip-path=\"url(#p01845c1c33)\" d=\"M 0 0 \n\" style=\"fill:none;stroke:#2ca02c;stroke-linecap:square;stroke-width:2.7;\"/>\n   </g>\n   <g id=\"line2d_35\">\n    <path clip-path=\"url(#p01845c1c33)\" d=\"M 0 0 \n\" style=\"fill:none;stroke:#2ca02c;stroke-linecap:square;stroke-width:2.7;\"/>\n   </g>\n   <g id=\"text_16\">\n    <!-- Traffic by time of day -->\n    <g transform=\"translate(294.651272 20.877187)scale(0.18 -0.18)\">\n     <defs>\n      <path id=\"DejaVuSans-32\"/>\n      <path d=\"M 48.6875 27.296875 \nQ 48.6875 37.203125 44.609375 42.84375 \nQ 40.53125 48.484375 33.40625 48.484375 \nQ 26.265625 48.484375 22.1875 42.84375 \nQ 18.109375 37.203125 18.109375 27.296875 \nQ 18.109375 17.390625 22.1875 11.75 \nQ 26.265625 6.109375 33.40625 6.109375 \nQ 40.53125 6.109375 44.609375 11.75 \nQ 48.6875 17.390625 48.6875 27.296875 \nz\nM 18.109375 46.390625 \nQ 20.953125 51.265625 25.265625 53.625 \nQ 29.59375 56 35.59375 56 \nQ 45.5625 56 51.78125 48.09375 \nQ 58.015625 40.1875 58.015625 27.296875 \nQ 58.015625 14.40625 51.78125 6.484375 \nQ 45.5625 -1.421875 35.59375 -1.421875 \nQ 29.59375 -1.421875 25.265625 0.953125 \nQ 20.953125 3.328125 18.109375 8.203125 \nL 18.109375 0 \nL 9.078125 0 \nL 9.078125 75.984375 \nL 18.109375 75.984375 \nz\n\" id=\"DejaVuSans-98\"/>\n      <path d=\"M 32.171875 -5.078125 \nQ 28.375 -14.84375 24.75 -17.8125 \nQ 21.140625 -20.796875 15.09375 -20.796875 \nL 7.90625 -20.796875 \nL 7.90625 -13.28125 \nL 13.1875 -13.28125 \nQ 16.890625 -13.28125 18.9375 -11.515625 \nQ 21 -9.765625 23.484375 -3.21875 \nL 25.09375 0.875 \nL 2.984375 54.6875 \nL 12.5 54.6875 \nL 29.59375 11.921875 \nL 46.6875 54.6875 \nL 56.203125 54.6875 \nz\n\" id=\"DejaVuSans-121\"/>\n      <path d=\"M 18.3125 70.21875 \nL 18.3125 54.6875 \nL 36.8125 54.6875 \nL 36.8125 47.703125 \nL 18.3125 47.703125 \nL 18.3125 18.015625 \nQ 18.3125 11.328125 20.140625 9.421875 \nQ 21.96875 7.515625 27.59375 7.515625 \nL 36.8125 7.515625 \nL 36.8125 0 \nL 27.59375 0 \nQ 17.1875 0 13.234375 3.875 \nQ 9.28125 7.765625 9.28125 18.015625 \nL 9.28125 47.703125 \nL 2.6875 47.703125 \nL 2.6875 54.6875 \nL 9.28125 54.6875 \nL 9.28125 70.21875 \nz\n\" id=\"DejaVuSans-116\"/>\n      <path d=\"M 56.203125 29.59375 \nL 56.203125 25.203125 \nL 14.890625 25.203125 \nQ 15.484375 15.921875 20.484375 11.0625 \nQ 25.484375 6.203125 34.421875 6.203125 \nQ 39.59375 6.203125 44.453125 7.46875 \nQ 49.3125 8.734375 54.109375 11.28125 \nL 54.109375 2.78125 \nQ 49.265625 0.734375 44.1875 -0.34375 \nQ 39.109375 -1.421875 33.890625 -1.421875 \nQ 20.796875 -1.421875 13.15625 6.1875 \nQ 5.515625 13.8125 5.515625 26.8125 \nQ 5.515625 40.234375 12.765625 48.109375 \nQ 20.015625 56 32.328125 56 \nQ 43.359375 56 49.78125 48.890625 \nQ 56.203125 41.796875 56.203125 29.59375 \nz\nM 47.21875 32.234375 \nQ 47.125 39.59375 43.09375 43.984375 \nQ 39.0625 48.390625 32.421875 48.390625 \nQ 24.90625 48.390625 20.390625 44.140625 \nQ 15.875 39.890625 15.1875 32.171875 \nz\n\" id=\"DejaVuSans-101\"/>\n      <path d=\"M 30.609375 48.390625 \nQ 23.390625 48.390625 19.1875 42.75 \nQ 14.984375 37.109375 14.984375 27.296875 \nQ 14.984375 17.484375 19.15625 11.84375 \nQ 23.34375 6.203125 30.609375 6.203125 \nQ 37.796875 6.203125 41.984375 11.859375 \nQ 46.1875 17.53125 46.1875 27.296875 \nQ 46.1875 37.015625 41.984375 42.703125 \nQ 37.796875 48.390625 30.609375 48.390625 \nz\nM 30.609375 56 \nQ 42.328125 56 49.015625 48.375 \nQ 55.71875 40.765625 55.71875 27.296875 \nQ 55.71875 13.875 49.015625 6.21875 \nQ 42.328125 -1.421875 30.609375 -1.421875 \nQ 18.84375 -1.421875 12.171875 6.21875 \nQ 5.515625 13.875 5.515625 27.296875 \nQ 5.515625 40.765625 12.171875 48.375 \nQ 18.84375 56 30.609375 56 \nz\n\" id=\"DejaVuSans-111\"/>\n      <path d=\"M 45.40625 46.390625 \nL 45.40625 75.984375 \nL 54.390625 75.984375 \nL 54.390625 0 \nL 45.40625 0 \nL 45.40625 8.203125 \nQ 42.578125 3.328125 38.25 0.953125 \nQ 33.9375 -1.421875 27.875 -1.421875 \nQ 17.96875 -1.421875 11.734375 6.484375 \nQ 5.515625 14.40625 5.515625 27.296875 \nQ 5.515625 40.1875 11.734375 48.09375 \nQ 17.96875 56 27.875 56 \nQ 33.9375 56 38.25 53.625 \nQ 42.578125 51.265625 45.40625 46.390625 \nz\nM 14.796875 27.296875 \nQ 14.796875 17.390625 18.875 11.75 \nQ 22.953125 6.109375 30.078125 6.109375 \nQ 37.203125 6.109375 41.296875 11.75 \nQ 45.40625 17.390625 45.40625 27.296875 \nQ 45.40625 37.203125 41.296875 42.84375 \nQ 37.203125 48.484375 30.078125 48.484375 \nQ 22.953125 48.484375 18.875 42.84375 \nQ 14.796875 37.203125 14.796875 27.296875 \nz\n\" id=\"DejaVuSans-100\"/>\n     </defs>\n     <use xlink:href=\"#DejaVuSans-84\"/>\n     <use x=\"46.333984\" xlink:href=\"#DejaVuSans-114\"/>\n     <use x=\"87.447266\" xlink:href=\"#DejaVuSans-97\"/>\n     <use x=\"148.726562\" xlink:href=\"#DejaVuSans-102\"/>\n     <use x=\"183.931641\" xlink:href=\"#DejaVuSans-102\"/>\n     <use x=\"219.136719\" xlink:href=\"#DejaVuSans-105\"/>\n     <use x=\"246.919922\" xlink:href=\"#DejaVuSans-99\"/>\n     <use x=\"301.900391\" xlink:href=\"#DejaVuSans-32\"/>\n     <use x=\"333.6875\" xlink:href=\"#DejaVuSans-98\"/>\n     <use x=\"397.164062\" xlink:href=\"#DejaVuSans-121\"/>\n     <use x=\"456.34375\" xlink:href=\"#DejaVuSans-32\"/>\n     <use x=\"488.130859\" xlink:href=\"#DejaVuSans-116\"/>\n     <use x=\"527.339844\" xlink:href=\"#DejaVuSans-105\"/>\n     <use x=\"555.123047\" xlink:href=\"#DejaVuSans-109\"/>\n     <use x=\"652.535156\" xlink:href=\"#DejaVuSans-101\"/>\n     <use x=\"714.058594\" xlink:href=\"#DejaVuSans-32\"/>\n     <use x=\"745.845703\" xlink:href=\"#DejaVuSans-111\"/>\n     <use x=\"807.027344\" xlink:href=\"#DejaVuSans-102\"/>\n     <use x=\"842.232422\" xlink:href=\"#DejaVuSans-32\"/>\n     <use x=\"874.019531\" xlink:href=\"#DejaVuSans-100\"/>\n     <use x=\"937.496094\" xlink:href=\"#DejaVuSans-97\"/>\n     <use x=\"998.775391\" xlink:href=\"#DejaVuSans-121\"/>\n    </g>\n   </g>\n   <g id=\"PathCollection_4\">\n    <defs>\n     <path d=\"M 0 3.383948 \nC 0.897434 3.383948 1.758231 3.027394 2.392813 2.392813 \nC 3.027394 1.758231 3.383948 0.897434 3.383948 0 \nC 3.383948 -0.897434 3.027394 -1.758231 2.392813 -2.392813 \nC 1.758231 -3.027394 0.897434 -3.383948 0 -3.383948 \nC -0.897434 -3.383948 -1.758231 -3.027394 -2.392813 -2.392813 \nC -3.027394 -1.758231 -3.383948 -0.897434 -3.383948 0 \nC -3.383948 0.897434 -3.027394 1.758231 -2.392813 2.392813 \nC -1.758231 3.027394 -0.897434 3.383948 0 3.383948 \nz\n\" id=\"m53943e786d\" style=\"stroke:#d62728;stroke-width:2.025;\"/>\n    </defs>\n    <g clip-path=\"url(#p01845c1c33)\">\n     <use style=\"fill:#d62728;stroke:#d62728;stroke-width:2.025;\" x=\"120.828623\" xlink:href=\"#m53943e786d\" y=\"327.898311\"/>\n     <use style=\"fill:#d62728;stroke:#d62728;stroke-width:2.025;\" x=\"228.443995\" xlink:href=\"#m53943e786d\" y=\"199.123335\"/>\n     <use style=\"fill:#d62728;stroke:#d62728;stroke-width:2.025;\" x=\"336.059367\" xlink:href=\"#m53943e786d\" y=\"194.083507\"/>\n     <use style=\"fill:#d62728;stroke:#d62728;stroke-width:2.025;\" x=\"443.674739\" xlink:href=\"#m53943e786d\" y=\"168.092755\"/>\n     <use style=\"fill:#d62728;stroke:#d62728;stroke-width:2.025;\" x=\"551.290111\" xlink:href=\"#m53943e786d\" y=\"150.069881\"/>\n     <use style=\"fill:#d62728;stroke:#d62728;stroke-width:2.025;\" x=\"658.905482\" xlink:href=\"#m53943e786d\" y=\"268.696972\"/>\n    </g>\n   </g>\n   <g id=\"line2d_36\">\n    <path clip-path=\"url(#p01845c1c33)\" d=\"M 120.828623 327.898311 \nL 228.443995 199.123335 \nL 336.059367 194.083507 \nL 443.674739 168.092755 \nL 551.290111 150.069881 \nL 658.905482 268.696972 \n\" style=\"fill:none;stroke:#d62728;stroke-linecap:square;stroke-width:2.7;\"/>\n   </g>\n   <g id=\"line2d_37\">\n    <path clip-path=\"url(#p01845c1c33)\" d=\"M 0 0 \n\" style=\"fill:none;stroke:#d62728;stroke-linecap:square;stroke-width:2.7;\"/>\n   </g>\n   <g id=\"line2d_38\">\n    <path clip-path=\"url(#p01845c1c33)\" d=\"M 0 0 \n\" style=\"fill:none;stroke:#d62728;stroke-linecap:square;stroke-width:2.7;\"/>\n   </g>\n   <g id=\"line2d_39\">\n    <path clip-path=\"url(#p01845c1c33)\" d=\"M 0 0 \n\" style=\"fill:none;stroke:#d62728;stroke-linecap:square;stroke-width:2.7;\"/>\n   </g>\n   <g id=\"line2d_40\">\n    <path clip-path=\"url(#p01845c1c33)\" d=\"M 0 0 \n\" style=\"fill:none;stroke:#d62728;stroke-linecap:square;stroke-width:2.7;\"/>\n   </g>\n   <g id=\"line2d_41\">\n    <path clip-path=\"url(#p01845c1c33)\" d=\"M 0 0 \n\" style=\"fill:none;stroke:#d62728;stroke-linecap:square;stroke-width:2.7;\"/>\n   </g>\n   <g id=\"line2d_42\">\n    <path clip-path=\"url(#p01845c1c33)\" d=\"M 0 0 \n\" style=\"fill:none;stroke:#d62728;stroke-linecap:square;stroke-width:2.7;\"/>\n   </g>\n   <g id=\"PathCollection_5\">\n    <defs>\n     <path d=\"M 0 3.383948 \nC 0.897434 3.383948 1.758231 3.027394 2.392813 2.392813 \nC 3.027394 1.758231 3.383948 0.897434 3.383948 0 \nC 3.383948 -0.897434 3.027394 -1.758231 2.392813 -2.392813 \nC 1.758231 -3.027394 0.897434 -3.383948 0 -3.383948 \nC -0.897434 -3.383948 -1.758231 -3.027394 -2.392813 -2.392813 \nC -3.027394 -1.758231 -3.383948 -0.897434 -3.383948 0 \nC -3.383948 0.897434 -3.027394 1.758231 -2.392813 2.392813 \nC -1.758231 3.027394 -0.897434 3.383948 0 3.383948 \nz\n\" id=\"m0443f41984\" style=\"stroke:#9467bd;stroke-width:2.025;\"/>\n    </defs>\n    <g clip-path=\"url(#p01845c1c33)\">\n     <use style=\"fill:#9467bd;stroke:#9467bd;stroke-width:2.025;\" x=\"120.828623\" xlink:href=\"#m0443f41984\" y=\"333.668097\"/>\n     <use style=\"fill:#9467bd;stroke:#9467bd;stroke-width:2.025;\" x=\"228.443995\" xlink:href=\"#m0443f41984\" y=\"228.603578\"/>\n     <use style=\"fill:#9467bd;stroke:#9467bd;stroke-width:2.025;\" x=\"336.059367\" xlink:href=\"#m0443f41984\" y=\"185.642143\"/>\n     <use style=\"fill:#9467bd;stroke:#9467bd;stroke-width:2.025;\" x=\"443.674739\" xlink:href=\"#m0443f41984\" y=\"99.249076\"/>\n     <use style=\"fill:#9467bd;stroke:#9467bd;stroke-width:2.025;\" x=\"551.290111\" xlink:href=\"#m0443f41984\" y=\"156.761978\"/>\n     <use style=\"fill:#9467bd;stroke:#9467bd;stroke-width:2.025;\" x=\"658.905482\" xlink:href=\"#m0443f41984\" y=\"282.343391\"/>\n    </g>\n   </g>\n   <g id=\"line2d_43\">\n    <path clip-path=\"url(#p01845c1c33)\" d=\"M 120.828623 333.668097 \nL 228.443995 228.603578 \nL 336.059367 185.642143 \nL 443.674739 99.249076 \nL 551.290111 156.761978 \nL 658.905482 282.343391 \n\" style=\"fill:none;stroke:#9467bd;stroke-linecap:square;stroke-width:2.7;\"/>\n   </g>\n   <g id=\"line2d_44\">\n    <path clip-path=\"url(#p01845c1c33)\" d=\"M 0 0 \n\" style=\"fill:none;stroke:#9467bd;stroke-linecap:square;stroke-width:2.7;\"/>\n   </g>\n   <g id=\"line2d_45\">\n    <path clip-path=\"url(#p01845c1c33)\" d=\"M 0 0 \n\" style=\"fill:none;stroke:#9467bd;stroke-linecap:square;stroke-width:2.7;\"/>\n   </g>\n   <g id=\"line2d_46\">\n    <path clip-path=\"url(#p01845c1c33)\" d=\"M 0 0 \n\" style=\"fill:none;stroke:#9467bd;stroke-linecap:square;stroke-width:2.7;\"/>\n   </g>\n   <g id=\"line2d_47\">\n    <path clip-path=\"url(#p01845c1c33)\" d=\"M 0 0 \n\" style=\"fill:none;stroke:#9467bd;stroke-linecap:square;stroke-width:2.7;\"/>\n   </g>\n   <g id=\"line2d_48\">\n    <path clip-path=\"url(#p01845c1c33)\" d=\"M 0 0 \n\" style=\"fill:none;stroke:#9467bd;stroke-linecap:square;stroke-width:2.7;\"/>\n   </g>\n   <g id=\"line2d_49\">\n    <path clip-path=\"url(#p01845c1c33)\" d=\"M 0 0 \n\" style=\"fill:none;stroke:#9467bd;stroke-linecap:square;stroke-width:2.7;\"/>\n   </g>\n   <g id=\"PathCollection_6\">\n    <defs>\n     <path d=\"M 0 3.383948 \nC 0.897434 3.383948 1.758231 3.027394 2.392813 2.392813 \nC 3.027394 1.758231 3.383948 0.897434 3.383948 0 \nC 3.383948 -0.897434 3.027394 -1.758231 2.392813 -2.392813 \nC 1.758231 -3.027394 0.897434 -3.383948 0 -3.383948 \nC -0.897434 -3.383948 -1.758231 -3.027394 -2.392813 -2.392813 \nC -3.027394 -1.758231 -3.383948 -0.897434 -3.383948 0 \nC -3.383948 0.897434 -3.027394 1.758231 -2.392813 2.392813 \nC -1.758231 3.027394 -0.897434 3.383948 0 3.383948 \nz\n\" id=\"m750fdb1a88\" style=\"stroke:#8c564b;stroke-width:2.025;\"/>\n    </defs>\n    <g clip-path=\"url(#p01845c1c33)\">\n     <use style=\"fill:#8c564b;stroke:#8c564b;stroke-width:2.025;\" x=\"120.828623\" xlink:href=\"#m750fdb1a88\" y=\"330.889656\"/>\n     <use style=\"fill:#8c564b;stroke:#8c564b;stroke-width:2.025;\" x=\"228.443995\" xlink:href=\"#m750fdb1a88\" y=\"285.931525\"/>\n     <use style=\"fill:#8c564b;stroke:#8c564b;stroke-width:2.025;\" x=\"336.059367\" xlink:href=\"#m750fdb1a88\" y=\"255.590623\"/>\n     <use style=\"fill:#8c564b;stroke:#8c564b;stroke-width:2.025;\" x=\"443.674739\" xlink:href=\"#m750fdb1a88\" y=\"215.140471\"/>\n     <use style=\"fill:#8c564b;stroke:#8c564b;stroke-width:2.025;\" x=\"551.290111\" xlink:href=\"#m750fdb1a88\" y=\"222.193436\"/>\n     <use style=\"fill:#8c564b;stroke:#8c564b;stroke-width:2.025;\" x=\"658.905482\" xlink:href=\"#m750fdb1a88\" y=\"293.037099\"/>\n    </g>\n   </g>\n   <g id=\"line2d_50\">\n    <path clip-path=\"url(#p01845c1c33)\" d=\"M 120.828623 330.889656 \nL 228.443995 285.931525 \nL 336.059367 255.590623 \nL 443.674739 215.140471 \nL 551.290111 222.193436 \nL 658.905482 293.037099 \n\" style=\"fill:none;stroke:#8c564b;stroke-linecap:square;stroke-width:2.7;\"/>\n   </g>\n   <g id=\"line2d_51\">\n    <path clip-path=\"url(#p01845c1c33)\" d=\"M 0 0 \n\" style=\"fill:none;stroke:#8c564b;stroke-linecap:square;stroke-width:2.7;\"/>\n   </g>\n   <g id=\"line2d_52\">\n    <path clip-path=\"url(#p01845c1c33)\" d=\"M 0 0 \n\" style=\"fill:none;stroke:#8c564b;stroke-linecap:square;stroke-width:2.7;\"/>\n   </g>\n   <g id=\"line2d_53\">\n    <path clip-path=\"url(#p01845c1c33)\" d=\"M 0 0 \n\" style=\"fill:none;stroke:#8c564b;stroke-linecap:square;stroke-width:2.7;\"/>\n   </g>\n   <g id=\"line2d_54\">\n    <path clip-path=\"url(#p01845c1c33)\" d=\"M 0 0 \n\" style=\"fill:none;stroke:#8c564b;stroke-linecap:square;stroke-width:2.7;\"/>\n   </g>\n   <g id=\"line2d_55\">\n    <path clip-path=\"url(#p01845c1c33)\" d=\"M 0 0 \n\" style=\"fill:none;stroke:#8c564b;stroke-linecap:square;stroke-width:2.7;\"/>\n   </g>\n   <g id=\"line2d_56\">\n    <path clip-path=\"url(#p01845c1c33)\" d=\"M 0 0 \n\" style=\"fill:none;stroke:#8c564b;stroke-linecap:square;stroke-width:2.7;\"/>\n   </g>\n   <g id=\"PathCollection_7\">\n    <defs>\n     <path d=\"M 0 3.383948 \nC 0.897434 3.383948 1.758231 3.027394 2.392813 2.392813 \nC 3.027394 1.758231 3.383948 0.897434 3.383948 0 \nC 3.383948 -0.897434 3.027394 -1.758231 2.392813 -2.392813 \nC 1.758231 -3.027394 0.897434 -3.383948 0 -3.383948 \nC -0.897434 -3.383948 -1.758231 -3.027394 -2.392813 -2.392813 \nC -3.027394 -1.758231 -3.383948 -0.897434 -3.383948 0 \nC -3.383948 0.897434 -3.027394 1.758231 -2.392813 2.392813 \nC -1.758231 3.027394 -0.897434 3.383948 0 3.383948 \nz\n\" id=\"me29e1eb2e1\" style=\"stroke:#e377c2;stroke-width:2.025;\"/>\n    </defs>\n    <g clip-path=\"url(#p01845c1c33)\">\n     <use style=\"fill:#e377c2;stroke:#e377c2;stroke-width:2.025;\" x=\"120.828623\" xlink:href=\"#me29e1eb2e1\" y=\"330.13997\"/>\n     <use style=\"fill:#e377c2;stroke:#e377c2;stroke-width:2.025;\" x=\"228.443995\" xlink:href=\"#me29e1eb2e1\" y=\"207.576207\"/>\n     <use style=\"fill:#e377c2;stroke:#e377c2;stroke-width:2.025;\" x=\"336.059367\" xlink:href=\"#me29e1eb2e1\" y=\"173.71211\"/>\n     <use style=\"fill:#e377c2;stroke:#e377c2;stroke-width:2.025;\" x=\"443.674739\" xlink:href=\"#me29e1eb2e1\" y=\"136.988193\"/>\n     <use style=\"fill:#e377c2;stroke:#e377c2;stroke-width:2.025;\" x=\"551.290111\" xlink:href=\"#me29e1eb2e1\" y=\"161.620961\"/>\n     <use style=\"fill:#e377c2;stroke:#e377c2;stroke-width:2.025;\" x=\"658.905482\" xlink:href=\"#me29e1eb2e1\" y=\"281.282158\"/>\n    </g>\n   </g>\n   <g id=\"line2d_57\">\n    <path clip-path=\"url(#p01845c1c33)\" d=\"M 120.828623 330.13997 \nL 228.443995 207.576207 \nL 336.059367 173.71211 \nL 443.674739 136.988193 \nL 551.290111 161.620961 \nL 658.905482 281.282158 \n\" style=\"fill:none;stroke:#e377c2;stroke-linecap:square;stroke-width:2.7;\"/>\n   </g>\n   <g id=\"line2d_58\">\n    <path clip-path=\"url(#p01845c1c33)\" d=\"M 0 0 \n\" style=\"fill:none;stroke:#e377c2;stroke-linecap:square;stroke-width:2.7;\"/>\n   </g>\n   <g id=\"line2d_59\">\n    <path clip-path=\"url(#p01845c1c33)\" d=\"M 0 0 \n\" style=\"fill:none;stroke:#e377c2;stroke-linecap:square;stroke-width:2.7;\"/>\n   </g>\n   <g id=\"line2d_60\">\n    <path clip-path=\"url(#p01845c1c33)\" d=\"M 0 0 \n\" style=\"fill:none;stroke:#e377c2;stroke-linecap:square;stroke-width:2.7;\"/>\n   </g>\n   <g id=\"line2d_61\">\n    <path clip-path=\"url(#p01845c1c33)\" d=\"M 0 0 \n\" style=\"fill:none;stroke:#e377c2;stroke-linecap:square;stroke-width:2.7;\"/>\n   </g>\n   <g id=\"line2d_62\">\n    <path clip-path=\"url(#p01845c1c33)\" d=\"M 0 0 \n\" style=\"fill:none;stroke:#e377c2;stroke-linecap:square;stroke-width:2.7;\"/>\n   </g>\n   <g id=\"line2d_63\">\n    <path clip-path=\"url(#p01845c1c33)\" d=\"M 0 0 \n\" style=\"fill:none;stroke:#e377c2;stroke-linecap:square;stroke-width:2.7;\"/>\n   </g>\n   <g id=\"PathCollection_8\">\n    <defs>\n     <path d=\"M 0 3.383948 \nC 0.897434 3.383948 1.758231 3.027394 2.392813 2.392813 \nC 3.027394 1.758231 3.383948 0.897434 3.383948 0 \nC 3.383948 -0.897434 3.027394 -1.758231 2.392813 -2.392813 \nC 1.758231 -3.027394 0.897434 -3.383948 0 -3.383948 \nC -0.897434 -3.383948 -1.758231 -3.027394 -2.392813 -2.392813 \nC -3.027394 -1.758231 -3.383948 -0.897434 -3.383948 0 \nC -3.383948 0.897434 -3.027394 1.758231 -2.392813 2.392813 \nC -1.758231 3.027394 -0.897434 3.383948 0 3.383948 \nz\n\" id=\"m59eb7f0ad7\" style=\"stroke:#7f7f7f;stroke-width:2.025;\"/>\n    </defs>\n    <g clip-path=\"url(#p01845c1c33)\">\n     <use style=\"fill:#7f7f7f;stroke:#7f7f7f;stroke-width:2.025;\" x=\"120.828623\" xlink:href=\"#m59eb7f0ad7\" y=\"328.881451\"/>\n     <use style=\"fill:#7f7f7f;stroke:#7f7f7f;stroke-width:2.025;\" x=\"228.443995\" xlink:href=\"#m59eb7f0ad7\" y=\"221.452792\"/>\n     <use style=\"fill:#7f7f7f;stroke:#7f7f7f;stroke-width:2.025;\" x=\"336.059367\" xlink:href=\"#m59eb7f0ad7\" y=\"161.977719\"/>\n     <use style=\"fill:#7f7f7f;stroke:#7f7f7f;stroke-width:2.025;\" x=\"443.674739\" xlink:href=\"#m59eb7f0ad7\" y=\"125.557128\"/>\n     <use style=\"fill:#7f7f7f;stroke:#7f7f7f;stroke-width:2.025;\" x=\"551.290111\" xlink:href=\"#m59eb7f0ad7\" y=\"116.228801\"/>\n     <use style=\"fill:#7f7f7f;stroke:#7f7f7f;stroke-width:2.025;\" x=\"658.905482\" xlink:href=\"#m59eb7f0ad7\" y=\"273.733512\"/>\n    </g>\n   </g>\n   <g id=\"line2d_64\">\n    <path clip-path=\"url(#p01845c1c33)\" d=\"M 120.828623 328.881451 \nL 228.443995 221.452792 \nL 336.059367 161.977719 \nL 443.674739 125.557128 \nL 551.290111 116.228801 \nL 658.905482 273.733512 \n\" style=\"fill:none;stroke:#7f7f7f;stroke-linecap:square;stroke-width:2.7;\"/>\n   </g>\n   <g id=\"line2d_65\">\n    <path clip-path=\"url(#p01845c1c33)\" d=\"M 0 0 \n\" style=\"fill:none;stroke:#7f7f7f;stroke-linecap:square;stroke-width:2.7;\"/>\n   </g>\n   <g id=\"line2d_66\">\n    <path clip-path=\"url(#p01845c1c33)\" d=\"M 0 0 \n\" style=\"fill:none;stroke:#7f7f7f;stroke-linecap:square;stroke-width:2.7;\"/>\n   </g>\n   <g id=\"line2d_67\">\n    <path clip-path=\"url(#p01845c1c33)\" d=\"M 0 0 \n\" style=\"fill:none;stroke:#7f7f7f;stroke-linecap:square;stroke-width:2.7;\"/>\n   </g>\n   <g id=\"line2d_68\">\n    <path clip-path=\"url(#p01845c1c33)\" d=\"M 0 0 \n\" style=\"fill:none;stroke:#7f7f7f;stroke-linecap:square;stroke-width:2.7;\"/>\n   </g>\n   <g id=\"line2d_69\">\n    <path clip-path=\"url(#p01845c1c33)\" d=\"M 0 0 \n\" style=\"fill:none;stroke:#7f7f7f;stroke-linecap:square;stroke-width:2.7;\"/>\n   </g>\n   <g id=\"line2d_70\">\n    <path clip-path=\"url(#p01845c1c33)\" d=\"M 0 0 \n\" style=\"fill:none;stroke:#7f7f7f;stroke-linecap:square;stroke-width:2.7;\"/>\n   </g>\n  </g>\n  <g id=\"legend_1\">\n   <g id=\"text_17\">\n    <!-- STATION -->\n    <g transform=\"translate(759.938325 130.124531)scale(0.1 -0.1)\">\n     <defs>\n      <path d=\"M 53.515625 70.515625 \nL 53.515625 60.890625 \nQ 47.90625 63.578125 42.921875 64.890625 \nQ 37.9375 66.21875 33.296875 66.21875 \nQ 25.25 66.21875 20.875 63.09375 \nQ 16.5 59.96875 16.5 54.203125 \nQ 16.5 49.359375 19.40625 46.890625 \nQ 22.3125 44.4375 30.421875 42.921875 \nL 36.375 41.703125 \nQ 47.40625 39.59375 52.65625 34.296875 \nQ 57.90625 29 57.90625 20.125 \nQ 57.90625 9.515625 50.796875 4.046875 \nQ 43.703125 -1.421875 29.984375 -1.421875 \nQ 24.8125 -1.421875 18.96875 -0.25 \nQ 13.140625 0.921875 6.890625 3.21875 \nL 6.890625 13.375 \nQ 12.890625 10.015625 18.65625 8.296875 \nQ 24.421875 6.59375 29.984375 6.59375 \nQ 38.421875 6.59375 43.015625 9.90625 \nQ 47.609375 13.234375 47.609375 19.390625 \nQ 47.609375 24.75 44.3125 27.78125 \nQ 41.015625 30.8125 33.5 32.328125 \nL 27.484375 33.5 \nQ 16.453125 35.6875 11.515625 40.375 \nQ 6.59375 45.0625 6.59375 53.421875 \nQ 6.59375 63.09375 13.40625 68.65625 \nQ 20.21875 74.21875 32.171875 74.21875 \nQ 37.3125 74.21875 42.625 73.28125 \nQ 47.953125 72.359375 53.515625 70.515625 \nz\n\" id=\"DejaVuSans-83\"/>\n      <path d=\"M 34.1875 63.1875 \nL 20.796875 26.90625 \nL 47.609375 26.90625 \nz\nM 28.609375 72.90625 \nL 39.796875 72.90625 \nL 67.578125 0 \nL 57.328125 0 \nL 50.6875 18.703125 \nL 17.828125 18.703125 \nL 11.1875 0 \nL 0.78125 0 \nz\n\" id=\"DejaVuSans-65\"/>\n      <path d=\"M 9.8125 72.90625 \nL 19.671875 72.90625 \nL 19.671875 0 \nL 9.8125 0 \nz\n\" id=\"DejaVuSans-73\"/>\n      <path d=\"M 39.40625 66.21875 \nQ 28.65625 66.21875 22.328125 58.203125 \nQ 16.015625 50.203125 16.015625 36.375 \nQ 16.015625 22.609375 22.328125 14.59375 \nQ 28.65625 6.59375 39.40625 6.59375 \nQ 50.140625 6.59375 56.421875 14.59375 \nQ 62.703125 22.609375 62.703125 36.375 \nQ 62.703125 50.203125 56.421875 58.203125 \nQ 50.140625 66.21875 39.40625 66.21875 \nz\nM 39.40625 74.21875 \nQ 54.734375 74.21875 63.90625 63.9375 \nQ 73.09375 53.65625 73.09375 36.375 \nQ 73.09375 19.140625 63.90625 8.859375 \nQ 54.734375 -1.421875 39.40625 -1.421875 \nQ 24.03125 -1.421875 14.8125 8.828125 \nQ 5.609375 19.09375 5.609375 36.375 \nQ 5.609375 53.65625 14.8125 63.9375 \nQ 24.03125 74.21875 39.40625 74.21875 \nz\n\" id=\"DejaVuSans-79\"/>\n      <path d=\"M 9.8125 72.90625 \nL 23.09375 72.90625 \nL 55.421875 11.921875 \nL 55.421875 72.90625 \nL 64.984375 72.90625 \nL 64.984375 0 \nL 51.703125 0 \nL 19.390625 60.984375 \nL 19.390625 0 \nL 9.8125 0 \nz\n\" id=\"DejaVuSans-78\"/>\n     </defs>\n     <use xlink:href=\"#DejaVuSans-83\"/>\n     <use x=\"63.476562\" xlink:href=\"#DejaVuSans-84\"/>\n     <use x=\"116.810547\" xlink:href=\"#DejaVuSans-65\"/>\n     <use x=\"177.46875\" xlink:href=\"#DejaVuSans-84\"/>\n     <use x=\"238.552734\" xlink:href=\"#DejaVuSans-73\"/>\n     <use x=\"268.044922\" xlink:href=\"#DejaVuSans-79\"/>\n     <use x=\"346.755859\" xlink:href=\"#DejaVuSans-78\"/>\n    </g>\n   </g>\n   <g id=\"PathCollection_9\">\n    <g>\n     <use style=\"fill:#1f77b4;stroke:#1f77b4;stroke-width:2.025;\" x=\"731.787543\" xlink:href=\"#mdac1f3d408\" y=\"142.177656\"/>\n    </g>\n   </g>\n   <g id=\"text_18\">\n    <!-- 23 ST -->\n    <g transform=\"translate(749.787543 144.802656)scale(0.1 -0.1)\">\n     <use xlink:href=\"#DejaVuSans-50\"/>\n     <use x=\"63.623047\" xlink:href=\"#DejaVuSans-51\"/>\n     <use x=\"127.246094\" xlink:href=\"#DejaVuSans-32\"/>\n     <use x=\"159.033203\" xlink:href=\"#DejaVuSans-83\"/>\n     <use x=\"222.509766\" xlink:href=\"#DejaVuSans-84\"/>\n    </g>\n   </g>\n   <g id=\"PathCollection_10\">\n    <g>\n     <use style=\"fill:#ff7f0e;stroke:#ff7f0e;stroke-width:2.025;\" x=\"731.787543\" xlink:href=\"#m63d8d3267d\" y=\"156.855781\"/>\n    </g>\n   </g>\n   <g id=\"text_19\">\n    <!-- 34 ST-HERALD SQ -->\n    <g transform=\"translate(749.787543 159.480781)scale(0.1 -0.1)\">\n     <defs>\n      <path d=\"M 9.8125 72.90625 \nL 19.671875 72.90625 \nL 19.671875 43.015625 \nL 55.515625 43.015625 \nL 55.515625 72.90625 \nL 65.375 72.90625 \nL 65.375 0 \nL 55.515625 0 \nL 55.515625 34.71875 \nL 19.671875 34.71875 \nL 19.671875 0 \nL 9.8125 0 \nz\n\" id=\"DejaVuSans-72\"/>\n      <path d=\"M 9.8125 72.90625 \nL 55.90625 72.90625 \nL 55.90625 64.59375 \nL 19.671875 64.59375 \nL 19.671875 43.015625 \nL 54.390625 43.015625 \nL 54.390625 34.71875 \nL 19.671875 34.71875 \nL 19.671875 8.296875 \nL 56.78125 8.296875 \nL 56.78125 0 \nL 9.8125 0 \nz\n\" id=\"DejaVuSans-69\"/>\n      <path d=\"M 44.390625 34.1875 \nQ 47.5625 33.109375 50.5625 29.59375 \nQ 53.5625 26.078125 56.59375 19.921875 \nL 66.609375 0 \nL 56 0 \nL 46.6875 18.703125 \nQ 43.0625 26.03125 39.671875 28.421875 \nQ 36.28125 30.8125 30.421875 30.8125 \nL 19.671875 30.8125 \nL 19.671875 0 \nL 9.8125 0 \nL 9.8125 72.90625 \nL 32.078125 72.90625 \nQ 44.578125 72.90625 50.734375 67.671875 \nQ 56.890625 62.453125 56.890625 51.90625 \nQ 56.890625 45.015625 53.6875 40.46875 \nQ 50.484375 35.9375 44.390625 34.1875 \nz\nM 19.671875 64.796875 \nL 19.671875 38.921875 \nL 32.078125 38.921875 \nQ 39.203125 38.921875 42.84375 42.21875 \nQ 46.484375 45.515625 46.484375 51.90625 \nQ 46.484375 58.296875 42.84375 61.546875 \nQ 39.203125 64.796875 32.078125 64.796875 \nz\n\" id=\"DejaVuSans-82\"/>\n      <path d=\"M 9.8125 72.90625 \nL 19.671875 72.90625 \nL 19.671875 8.296875 \nL 55.171875 8.296875 \nL 55.171875 0 \nL 9.8125 0 \nz\n\" id=\"DejaVuSans-76\"/>\n      <path d=\"M 19.671875 64.796875 \nL 19.671875 8.109375 \nL 31.59375 8.109375 \nQ 46.6875 8.109375 53.6875 14.9375 \nQ 60.6875 21.78125 60.6875 36.53125 \nQ 60.6875 51.171875 53.6875 57.984375 \nQ 46.6875 64.796875 31.59375 64.796875 \nz\nM 9.8125 72.90625 \nL 30.078125 72.90625 \nQ 51.265625 72.90625 61.171875 64.09375 \nQ 71.09375 55.28125 71.09375 36.53125 \nQ 71.09375 17.671875 61.125 8.828125 \nQ 51.171875 0 30.078125 0 \nL 9.8125 0 \nz\n\" id=\"DejaVuSans-68\"/>\n      <path d=\"M 39.40625 66.21875 \nQ 28.65625 66.21875 22.328125 58.203125 \nQ 16.015625 50.203125 16.015625 36.375 \nQ 16.015625 22.609375 22.328125 14.59375 \nQ 28.65625 6.59375 39.40625 6.59375 \nQ 50.140625 6.59375 56.421875 14.59375 \nQ 62.703125 22.609375 62.703125 36.375 \nQ 62.703125 50.203125 56.421875 58.203125 \nQ 50.140625 66.21875 39.40625 66.21875 \nz\nM 53.21875 1.3125 \nL 66.21875 -12.890625 \nL 54.296875 -12.890625 \nL 43.5 -1.21875 \nQ 41.890625 -1.3125 41.03125 -1.359375 \nQ 40.1875 -1.421875 39.40625 -1.421875 \nQ 24.03125 -1.421875 14.8125 8.859375 \nQ 5.609375 19.140625 5.609375 36.375 \nQ 5.609375 53.65625 14.8125 63.9375 \nQ 24.03125 74.21875 39.40625 74.21875 \nQ 54.734375 74.21875 63.90625 63.9375 \nQ 73.09375 53.65625 73.09375 36.375 \nQ 73.09375 23.6875 67.984375 14.640625 \nQ 62.890625 5.609375 53.21875 1.3125 \nz\n\" id=\"DejaVuSans-81\"/>\n     </defs>\n     <use xlink:href=\"#DejaVuSans-51\"/>\n     <use x=\"63.623047\" xlink:href=\"#DejaVuSans-52\"/>\n     <use x=\"127.246094\" xlink:href=\"#DejaVuSans-32\"/>\n     <use x=\"159.033203\" xlink:href=\"#DejaVuSans-83\"/>\n     <use x=\"222.509766\" xlink:href=\"#DejaVuSans-84\"/>\n     <use x=\"274.46875\" xlink:href=\"#DejaVuSans-45\"/>\n     <use x=\"310.552734\" xlink:href=\"#DejaVuSans-72\"/>\n     <use x=\"385.748047\" xlink:href=\"#DejaVuSans-69\"/>\n     <use x=\"448.931641\" xlink:href=\"#DejaVuSans-82\"/>\n     <use x=\"514.414062\" xlink:href=\"#DejaVuSans-65\"/>\n     <use x=\"582.822266\" xlink:href=\"#DejaVuSans-76\"/>\n     <use x=\"638.535156\" xlink:href=\"#DejaVuSans-68\"/>\n     <use x=\"715.537109\" xlink:href=\"#DejaVuSans-32\"/>\n     <use x=\"747.324219\" xlink:href=\"#DejaVuSans-83\"/>\n     <use x=\"810.800781\" xlink:href=\"#DejaVuSans-81\"/>\n    </g>\n   </g>\n   <g id=\"PathCollection_11\">\n    <g>\n     <use style=\"fill:#2ca02c;stroke:#2ca02c;stroke-width:2.025;\" x=\"731.787543\" xlink:href=\"#m9c06045962\" y=\"171.533906\"/>\n    </g>\n   </g>\n   <g id=\"text_20\">\n    <!-- 34 ST-PENN STA -->\n    <g transform=\"translate(749.787543 174.158906)scale(0.1 -0.1)\">\n     <defs>\n      <path d=\"M 19.671875 64.796875 \nL 19.671875 37.40625 \nL 32.078125 37.40625 \nQ 38.96875 37.40625 42.71875 40.96875 \nQ 46.484375 44.53125 46.484375 51.125 \nQ 46.484375 57.671875 42.71875 61.234375 \nQ 38.96875 64.796875 32.078125 64.796875 \nz\nM 9.8125 72.90625 \nL 32.078125 72.90625 \nQ 44.34375 72.90625 50.609375 67.359375 \nQ 56.890625 61.8125 56.890625 51.125 \nQ 56.890625 40.328125 50.609375 34.8125 \nQ 44.34375 29.296875 32.078125 29.296875 \nL 19.671875 29.296875 \nL 19.671875 0 \nL 9.8125 0 \nz\n\" id=\"DejaVuSans-80\"/>\n     </defs>\n     <use xlink:href=\"#DejaVuSans-51\"/>\n     <use x=\"63.623047\" xlink:href=\"#DejaVuSans-52\"/>\n     <use x=\"127.246094\" xlink:href=\"#DejaVuSans-32\"/>\n     <use x=\"159.033203\" xlink:href=\"#DejaVuSans-83\"/>\n     <use x=\"222.509766\" xlink:href=\"#DejaVuSans-84\"/>\n     <use x=\"274.46875\" xlink:href=\"#DejaVuSans-45\"/>\n     <use x=\"310.552734\" xlink:href=\"#DejaVuSans-80\"/>\n     <use x=\"370.855469\" xlink:href=\"#DejaVuSans-69\"/>\n     <use x=\"434.039062\" xlink:href=\"#DejaVuSans-78\"/>\n     <use x=\"508.84375\" xlink:href=\"#DejaVuSans-78\"/>\n     <use x=\"583.648438\" xlink:href=\"#DejaVuSans-32\"/>\n     <use x=\"615.435547\" xlink:href=\"#DejaVuSans-83\"/>\n     <use x=\"678.912109\" xlink:href=\"#DejaVuSans-84\"/>\n     <use x=\"732.246094\" xlink:href=\"#DejaVuSans-65\"/>\n    </g>\n   </g>\n   <g id=\"PathCollection_12\">\n    <g>\n     <use style=\"fill:#d62728;stroke:#d62728;stroke-width:2.025;\" x=\"731.787543\" xlink:href=\"#m53943e786d\" y=\"186.212031\"/>\n    </g>\n   </g>\n   <g id=\"text_21\">\n    <!-- 42 ST-PORT AUTH -->\n    <g transform=\"translate(749.787543 188.837031)scale(0.1 -0.1)\">\n     <defs>\n      <path d=\"M 8.6875 72.90625 \nL 18.609375 72.90625 \nL 18.609375 28.609375 \nQ 18.609375 16.890625 22.84375 11.734375 \nQ 27.09375 6.59375 36.625 6.59375 \nQ 46.09375 6.59375 50.34375 11.734375 \nQ 54.59375 16.890625 54.59375 28.609375 \nL 54.59375 72.90625 \nL 64.5 72.90625 \nL 64.5 27.390625 \nQ 64.5 13.140625 57.4375 5.859375 \nQ 50.390625 -1.421875 36.625 -1.421875 \nQ 22.796875 -1.421875 15.734375 5.859375 \nQ 8.6875 13.140625 8.6875 27.390625 \nz\n\" id=\"DejaVuSans-85\"/>\n     </defs>\n     <use xlink:href=\"#DejaVuSans-52\"/>\n     <use x=\"63.623047\" xlink:href=\"#DejaVuSans-50\"/>\n     <use x=\"127.246094\" xlink:href=\"#DejaVuSans-32\"/>\n     <use x=\"159.033203\" xlink:href=\"#DejaVuSans-83\"/>\n     <use x=\"222.509766\" xlink:href=\"#DejaVuSans-84\"/>\n     <use x=\"274.46875\" xlink:href=\"#DejaVuSans-45\"/>\n     <use x=\"310.552734\" xlink:href=\"#DejaVuSans-80\"/>\n     <use x=\"370.855469\" xlink:href=\"#DejaVuSans-79\"/>\n     <use x=\"449.566406\" xlink:href=\"#DejaVuSans-82\"/>\n     <use x=\"511.798828\" xlink:href=\"#DejaVuSans-84\"/>\n     <use x=\"572.882812\" xlink:href=\"#DejaVuSans-32\"/>\n     <use x=\"604.669922\" xlink:href=\"#DejaVuSans-65\"/>\n     <use x=\"673.078125\" xlink:href=\"#DejaVuSans-85\"/>\n     <use x=\"746.271484\" xlink:href=\"#DejaVuSans-84\"/>\n     <use x=\"807.355469\" xlink:href=\"#DejaVuSans-72\"/>\n    </g>\n   </g>\n   <g id=\"PathCollection_13\">\n    <g>\n     <use style=\"fill:#9467bd;stroke:#9467bd;stroke-width:2.025;\" x=\"731.787543\" xlink:href=\"#m0443f41984\" y=\"200.890156\"/>\n    </g>\n   </g>\n   <g id=\"text_22\">\n    <!-- 14 ST-UNION SQ -->\n    <g transform=\"translate(749.787543 203.515156)scale(0.1 -0.1)\">\n     <use xlink:href=\"#DejaVuSans-49\"/>\n     <use x=\"63.623047\" xlink:href=\"#DejaVuSans-52\"/>\n     <use x=\"127.246094\" xlink:href=\"#DejaVuSans-32\"/>\n     <use x=\"159.033203\" xlink:href=\"#DejaVuSans-83\"/>\n     <use x=\"222.509766\" xlink:href=\"#DejaVuSans-84\"/>\n     <use x=\"274.46875\" xlink:href=\"#DejaVuSans-45\"/>\n     <use x=\"310.552734\" xlink:href=\"#DejaVuSans-85\"/>\n     <use x=\"383.746094\" xlink:href=\"#DejaVuSans-78\"/>\n     <use x=\"458.550781\" xlink:href=\"#DejaVuSans-73\"/>\n     <use x=\"488.042969\" xlink:href=\"#DejaVuSans-79\"/>\n     <use x=\"566.753906\" xlink:href=\"#DejaVuSans-78\"/>\n     <use x=\"641.558594\" xlink:href=\"#DejaVuSans-32\"/>\n     <use x=\"673.345703\" xlink:href=\"#DejaVuSans-83\"/>\n     <use x=\"736.822266\" xlink:href=\"#DejaVuSans-81\"/>\n    </g>\n   </g>\n   <g id=\"PathCollection_14\">\n    <g>\n     <use style=\"fill:#8c564b;stroke:#8c564b;stroke-width:2.025;\" x=\"731.787543\" xlink:href=\"#m750fdb1a88\" y=\"215.568281\"/>\n    </g>\n   </g>\n   <g id=\"text_23\">\n    <!-- 14 ST -->\n    <g transform=\"translate(749.787543 218.193281)scale(0.1 -0.1)\">\n     <use xlink:href=\"#DejaVuSans-49\"/>\n     <use x=\"63.623047\" xlink:href=\"#DejaVuSans-52\"/>\n     <use x=\"127.246094\" xlink:href=\"#DejaVuSans-32\"/>\n     <use x=\"159.033203\" xlink:href=\"#DejaVuSans-83\"/>\n     <use x=\"222.509766\" xlink:href=\"#DejaVuSans-84\"/>\n    </g>\n   </g>\n   <g id=\"PathCollection_15\">\n    <g>\n     <use style=\"fill:#e377c2;stroke:#e377c2;stroke-width:2.025;\" x=\"731.787543\" xlink:href=\"#me29e1eb2e1\" y=\"230.246406\"/>\n    </g>\n   </g>\n   <g id=\"text_24\">\n    <!-- GRD CNTRL-42 ST -->\n    <g transform=\"translate(749.787543 232.871406)scale(0.1 -0.1)\">\n     <defs>\n      <path d=\"M 59.515625 10.40625 \nL 59.515625 29.984375 \nL 43.40625 29.984375 \nL 43.40625 38.09375 \nL 69.28125 38.09375 \nL 69.28125 6.78125 \nQ 63.578125 2.734375 56.6875 0.65625 \nQ 49.8125 -1.421875 42 -1.421875 \nQ 24.90625 -1.421875 15.25 8.5625 \nQ 5.609375 18.5625 5.609375 36.375 \nQ 5.609375 54.25 15.25 64.234375 \nQ 24.90625 74.21875 42 74.21875 \nQ 49.125 74.21875 55.546875 72.453125 \nQ 61.96875 70.703125 67.390625 67.28125 \nL 67.390625 56.78125 \nQ 61.921875 61.421875 55.765625 63.765625 \nQ 49.609375 66.109375 42.828125 66.109375 \nQ 29.4375 66.109375 22.71875 58.640625 \nQ 16.015625 51.171875 16.015625 36.375 \nQ 16.015625 21.625 22.71875 14.15625 \nQ 29.4375 6.6875 42.828125 6.6875 \nQ 48.046875 6.6875 52.140625 7.59375 \nQ 56.25 8.5 59.515625 10.40625 \nz\n\" id=\"DejaVuSans-71\"/>\n      <path d=\"M 64.40625 67.28125 \nL 64.40625 56.890625 \nQ 59.421875 61.53125 53.78125 63.8125 \nQ 48.140625 66.109375 41.796875 66.109375 \nQ 29.296875 66.109375 22.65625 58.46875 \nQ 16.015625 50.828125 16.015625 36.375 \nQ 16.015625 21.96875 22.65625 14.328125 \nQ 29.296875 6.6875 41.796875 6.6875 \nQ 48.140625 6.6875 53.78125 8.984375 \nQ 59.421875 11.28125 64.40625 15.921875 \nL 64.40625 5.609375 \nQ 59.234375 2.09375 53.4375 0.328125 \nQ 47.65625 -1.421875 41.21875 -1.421875 \nQ 24.65625 -1.421875 15.125 8.703125 \nQ 5.609375 18.84375 5.609375 36.375 \nQ 5.609375 53.953125 15.125 64.078125 \nQ 24.65625 74.21875 41.21875 74.21875 \nQ 47.75 74.21875 53.53125 72.484375 \nQ 59.328125 70.75 64.40625 67.28125 \nz\n\" id=\"DejaVuSans-67\"/>\n     </defs>\n     <use xlink:href=\"#DejaVuSans-71\"/>\n     <use x=\"77.490234\" xlink:href=\"#DejaVuSans-82\"/>\n     <use x=\"146.972656\" xlink:href=\"#DejaVuSans-68\"/>\n     <use x=\"223.974609\" xlink:href=\"#DejaVuSans-32\"/>\n     <use x=\"255.761719\" xlink:href=\"#DejaVuSans-67\"/>\n     <use x=\"325.585938\" xlink:href=\"#DejaVuSans-78\"/>\n     <use x=\"400.390625\" xlink:href=\"#DejaVuSans-84\"/>\n     <use x=\"461.474609\" xlink:href=\"#DejaVuSans-82\"/>\n     <use x=\"530.957031\" xlink:href=\"#DejaVuSans-76\"/>\n     <use x=\"584.919922\" xlink:href=\"#DejaVuSans-45\"/>\n     <use x=\"621.003906\" xlink:href=\"#DejaVuSans-52\"/>\n     <use x=\"684.626953\" xlink:href=\"#DejaVuSans-50\"/>\n     <use x=\"748.25\" xlink:href=\"#DejaVuSans-32\"/>\n     <use x=\"780.037109\" xlink:href=\"#DejaVuSans-83\"/>\n     <use x=\"843.513672\" xlink:href=\"#DejaVuSans-84\"/>\n    </g>\n   </g>\n   <g id=\"PathCollection_16\">\n    <g>\n     <use style=\"fill:#7f7f7f;stroke:#7f7f7f;stroke-width:2.025;\" x=\"731.787543\" xlink:href=\"#m59eb7f0ad7\" y=\"244.924531\"/>\n    </g>\n   </g>\n   <g id=\"text_25\">\n    <!-- 86 ST -->\n    <g transform=\"translate(749.787543 247.549531)scale(0.1 -0.1)\">\n     <defs>\n      <path d=\"M 33.015625 40.375 \nQ 26.375 40.375 22.484375 35.828125 \nQ 18.609375 31.296875 18.609375 23.390625 \nQ 18.609375 15.53125 22.484375 10.953125 \nQ 26.375 6.390625 33.015625 6.390625 \nQ 39.65625 6.390625 43.53125 10.953125 \nQ 47.40625 15.53125 47.40625 23.390625 \nQ 47.40625 31.296875 43.53125 35.828125 \nQ 39.65625 40.375 33.015625 40.375 \nz\nM 52.59375 71.296875 \nL 52.59375 62.3125 \nQ 48.875 64.0625 45.09375 64.984375 \nQ 41.3125 65.921875 37.59375 65.921875 \nQ 27.828125 65.921875 22.671875 59.328125 \nQ 17.53125 52.734375 16.796875 39.40625 \nQ 19.671875 43.65625 24.015625 45.921875 \nQ 28.375 48.1875 33.59375 48.1875 \nQ 44.578125 48.1875 50.953125 41.515625 \nQ 57.328125 34.859375 57.328125 23.390625 \nQ 57.328125 12.15625 50.6875 5.359375 \nQ 44.046875 -1.421875 33.015625 -1.421875 \nQ 20.359375 -1.421875 13.671875 8.265625 \nQ 6.984375 17.96875 6.984375 36.375 \nQ 6.984375 53.65625 15.1875 63.9375 \nQ 23.390625 74.21875 37.203125 74.21875 \nQ 40.921875 74.21875 44.703125 73.484375 \nQ 48.484375 72.75 52.59375 71.296875 \nz\n\" id=\"DejaVuSans-54\"/>\n     </defs>\n     <use xlink:href=\"#DejaVuSans-56\"/>\n     <use x=\"63.623047\" xlink:href=\"#DejaVuSans-54\"/>\n     <use x=\"127.246094\" xlink:href=\"#DejaVuSans-32\"/>\n     <use x=\"159.033203\" xlink:href=\"#DejaVuSans-83\"/>\n     <use x=\"222.509766\" xlink:href=\"#DejaVuSans-84\"/>\n    </g>\n   </g>\n  </g>\n </g>\n <defs>\n  <clipPath id=\"p01845c1c33\">\n   <rect height=\"321.4\" width=\"645.692231\" x=\"67.020938\" y=\"26.877187\"/>\n  </clipPath>\n </defs>\n</svg>\n",
      "image/png": "[encoded data removed]"
     },
     "metadata": {
      "needs_background": "light"
     }
    }
   ],
   "source": [
    "order = ['12am-4am', '4am-8am', '8am-12pm', '12pm-4pm', '4pm-8pm', '8pm-12am']\n",
    "sns.catplot('label', 'TOTAL_TRAFFIC', kind='point', hue='STATION', aspect =2, order=order, hue_order=['23 ST', '34 ST-HERALD SQ', '34 ST-PENN STA', '42 ST-PORT AUTH', '14 ST-UNION SQ', '14 ST', 'GRD CNTRL-42 ST', '86 ST'], data=top_stations)\n",
    "plt.xlabel('')\n",
    "plt.ylabel('Traffic', size=11)\n",
    "plt.title('Traffic by time of day', size=18)\n",
    "\n",
    "\n"
   ]
  },
  {
   "source": [
    "## Day of the week"
   ],
   "cell_type": "markdown",
   "metadata": {}
  },
  {
   "cell_type": "code",
   "execution_count": 232,
   "metadata": {},
   "outputs": [],
   "source": [
    "entries_by_date['DAY_OF_WEEK'] = entries_by_date['DATETIME'].dt.day_name()"
   ]
  },
  {
   "cell_type": "code",
   "execution_count": 233,
   "metadata": {},
   "outputs": [],
   "source": [
    "entries_by_day_of_week = entries_by_date.groupby(['STATION', 'DAY_OF_WEEK'])['TOTAL_TRAFFIC'].sum().reset_index()"
   ]
  },
  {
   "cell_type": "code",
   "execution_count": 234,
   "metadata": {},
   "outputs": [],
   "source": [
    "entries_weekday = entries_by_day_of_week.loc[entries_by_day_of_week['DAY_OF_WEEK'].isin(['Monday', 'Tuseday', 'Wednesday', 'Thursday', 'Friday'])]"
   ]
  },
  {
   "cell_type": "code",
   "execution_count": 235,
   "metadata": {},
   "outputs": [
    {
     "output_type": "execute_result",
     "data": {
      "text/plain": "STATION\n34 ST-PENN STA     820487.0\n34 ST-HERALD SQ    672636.0\n86 ST              623053.0\n125 ST             620591.0\nGRD CNTRL-42 ST    566312.0\n14 ST-UNION SQ     558302.0\n42 ST-PORT AUTH    557031.0\n23 ST              513694.0\nFLUSHING-MAIN      478393.0\nFULTON ST          470324.0\n59 ST              443590.0\n96 ST              430400.0\nTIMES SQ-42 ST     419451.0\nJKSN HT-ROOSVLT    413632.0\nCANAL ST           350002.0\n59 ST COLUMBUS     334759.0\nJAMAICA CENTER     327891.0\nCHURCH AV          302312.0\nATL AV-BARCLAY     301009.0\n47-50 STS ROCK     296848.0\n145 ST             294095.0\n72 ST              293850.0\n14 ST              292737.0\nPATH NEW WTC       284014.0\nKINGS HWY          269713.0\nJUNCTION BLVD      252187.0\n77 ST              247215.0\n28 ST              241131.0\n116 ST             236869.0\n181 ST             235432.0\nCROWN HTS-UTICA    232651.0\nJOURNAL SQUARE     220507.0\n103 ST             220311.0\nW 4 ST-WASH SQ     218374.0\n103 ST-CORONA      217718.0\n72 ST-2 AVE        217716.0\nSUTPHIN-ARCHER     216715.0\nGRAND ST           216092.0\nCHAMBERS ST        215205.0\nKEW GARDENS        209890.0\nWOODHAVEN BLVD     198904.0\nJAY ST-METROTEC    195563.0\n42 ST-BRYANT PK    194335.0\nDEKALB AV          191205.0\nLEXINGTON AV/53    188302.0\n82 ST-JACKSON H    183220.0\n168 ST             181759.0\n7 AV               181156.0\n50 ST              180887.0\n8 AV               179048.0\nBEDFORD AV         177150.0\n167 ST             169319.0\nNOSTRAND AV        169279.0\n3 AV-149 ST        169021.0\nDELANCEY/ESSEX     167070.0\nFOREST HILLS 71    166389.0\nMYRTLE-WYCKOFF     165222.0\n1 AV               164571.0\nBOROUGH HALL       161794.0\nFORDHAM RD         158606.0\nPARKCHESTER        155014.0\n68ST-HUNTER CO     149213.0\n33 ST              148730.0\nWALL ST            148634.0\n111 ST             148273.0\nCONEY IS-STILLW    146687.0\n90 ST-ELMHURST     145326.0\nKINGSBRIDGE RD     145102.0\nFLATBUSH AV-B.C    143092.0\nJAMAICA 179 ST     141349.0\n61 ST WOODSIDE     140152.0\n86 ST-2 AVE        139941.0\nBAY PKWY           139791.0\nB'WAY-LAFAYETTE    139731.0\n36 ST              136873.0\n161/YANKEE STAD    136852.0\nBOWLING GREEN      134999.0\nLEXINGTON AV/63    133731.0\n170 ST             129961.0\nGRAND-NEWTOWN      129722.0\nBROADWAY           128801.0\nWORLD TRADE CTR    127211.0\nSHEEPSHEAD BAY     125528.0\nUTICA AV           125070.0\n96 ST-2 AVE        124298.0\n57 ST-7 AV         121398.0\n135 ST             120875.0\nASTORIA DITMARS    120344.0\nFRANKLIN AV        118702.0\nBRIGHTON BEACH     112696.0\nCATHEDRAL PKWY     111812.0\nGROVE STREET       110272.0\n5 AV/53 ST         109712.0\nGUN HILL RD        109310.0\n46 ST BLISS ST     109260.0\nMARCY AV           107765.0\n79 ST              107474.0\n18 AV              107359.0\n34 ST-HUDSON YD    106994.0\nSTEINWAY ST        106114.0\n14TH STREET        105766.0\n53 ST              104411.0\nHUNTS POINT AV     104106.0\nFT HAMILTON PKY    103148.0\nTHIRTY THIRD ST    102651.0\nFLUSHING AV        102395.0\n149/GRAND CONC     102201.0\n137 ST CITY COL    101527.0\n30 AV              101211.0\nVERNON-JACKSON      99228.0\nHALSEY ST           99149.0\nBEDFORD PK BLVD     98333.0\nCOURT SQ            96894.0\n66 ST-LINCOLN       96632.0\n2 AV                96167.0\n110 ST              96141.0\nAVENUE U            94912.0\n63 DR-REGO PARK     94369.0\nBROADWAY JCT        93658.0\nNEWKIRK PLAZA       93649.0\nMETROPOLITAN AV     93169.0\n157 ST              91127.0\nSPRING ST           90767.0\nWHITEHALL S-FRY     89321.0\nDYCKMAN ST          88931.0\nPELHAM PKWY         87926.0\nROCKAWAY AV         87064.0\nPROSPECT AV         86798.0\nBERGEN ST           85553.0\nHOYT-SCHER          85246.0\n5 AV/59 ST          84519.0\nNORWOOD 205 ST      84269.0\nMYRTLE AV           83892.0\nTREMONT AV          83836.0\n51 ST               83019.0\nEAST BROADWAY       80339.0\n21 ST-QNSBRIDGE     80284.0\n175 ST              80182.0\n49 ST               80002.0\nASTOR PL            78877.0\nCITY / BUS          77691.0\nGREENPOINT AV       77602.0\nQUEENS PLAZA        77564.0\nOZONE PK LEFFRT     76758.0\nCHRISTOPHER ST      76710.0\n40 ST LOWERY ST     76698.0\nELDER AV            76230.0\nE 180 ST            75929.0\nNASSAU AV           75104.0\nEXCHANGE PLACE      74568.0\n169 ST              73721.0\nNEWARK HM HE        73438.0\nEUCLID AV           70887.0\nCANARSIE-ROCKAW     70656.0\nNEVINS ST           70479.0\nCORTLANDT ST        70192.0\n57 ST               69994.0\nBROOKLYN BRIDGE     69861.0\nBROOK AV            68489.0\nMORISN AV/SNDVW     68092.0\nNEWARK BM BW        67858.0\nASTORIA BLVD        67706.0\nPARSONS BLVD        66762.0\nPROSPECT PARK       66099.0\nCENTRAL PK N110     66081.0\nPAVONIA/NEWPORT     65965.0\nCASTLE HILL AV      65872.0\nTHIRTY ST           65777.0\nQUEENSBORO PLZ      65588.0\nSOUTH FERRY         64097.0\nBURNSIDE AV         64047.0\n46 ST               64020.0\nFRESH POND RD       63926.0\nWESTCHESTER SQ      63784.0\n45 ST               63213.0\n81 ST-MUSEUM        63061.0\nELMHURST AV         62887.0\nNEW LOTS AV         62692.0\nVAN SICLEN AV       62631.0\nLORIMER ST          62483.0\n5 AVE               62097.0\nINWOOD-207 ST       61990.0\n20 AV               61976.0\nGRAHAM AV           61965.0\nSUTTER AV-RUTLD     61565.0\nCLINTON-WASH AV     61459.0\nWEST FARMS SQ       61458.0\nNORTHERN BLVD       60820.0\n4AV-9 ST            60571.0\nWAKEFIELD/241       60058.0\nYORK ST             59554.0\nNEWKIRK AV          59058.0\nROCKAWAY BLVD       58949.0\nGRANT AV            58436.0\nPRINCE ST           58431.0\n9 AV                58236.0\n8 ST-NYU            57587.0\nSARATOGA AV         57457.0\nMOSHOLU PKWY        57226.0\nV.CORTLANDT PK      56796.0\n52 ST               56266.0\nFAR ROCKAWAY        56215.0\nBAY RIDGE AV        55780.0\nCRESCENT ST         55765.0\n174 ST              55757.0\nHARRISON            55702.0\nROOSEVELT ISLND     55129.0\nE 149 ST            54711.0\nBEDFORD-NOSTRAN     54700.0\n69 ST               54461.0\nPELHAM BAY PARK     54457.0\nCARROLL ST          54266.0\nSIMPSON ST          53885.0\n36 AV               53855.0\nPARKSIDE AV         52765.0\nPATH WTC 2          52041.0\nHOUSTON ST          52008.0\nMORGAN AV           51652.0\nBLEECKER ST         51434.0\nHOYT ST             51322.0\n207 ST              50737.0\nJAMAICA VAN WK      50497.0\n155 ST              50218.0\n183 ST              49773.0\n176 ST              49548.0\n174-175 STS         49505.0\nMT EDEN AV          49138.0\nEASTCHSTER/DYRE     49019.0\nMONTROSE AV         49010.0\n33 ST-RAWSON ST     48754.0\n116 ST-COLUMBIA     47850.0\n231 ST              47756.0\n67 AV               47623.0\nSMITH-9 ST          47512.0\nNEW LOTS            47250.0\n3 AV 138 ST         47118.0\nAVENUE J            47016.0\nRECTOR ST           46554.0\nKINGSTON-THROOP     46535.0\nHUNTERS PT AV       46385.0\nUNION ST            45638.0\nNEW UTRECHT AV      44244.0\nTWENTY THIRD ST     44007.0\nGATES AV            43871.0\n3 AV                43671.0\nWOODLAWN            43599.0\nBAY RIDGE-95 ST     43325.0\nST LAWRENCE AV      43281.0\nKNICKERBOCKER       41932.0\nFOREST AVE          41852.0\nSTERLING ST         41784.0\nFREEMAN ST          41779.0\nCORTELYOU RD        41257.0\nMYRTLE-WILLOUGH     41099.0\nAVENUE M            40866.0\nKINGSTON AV         40739.0\n74 ST-BROADWAY      40668.0\nWTC-CORTLANDT       40269.0\nCLASSON AV          40048.0\nRALPH AV            39883.0\nWILSON AV           39076.0\nJEFFERSON ST        38799.0\nHIGH ST             38096.0\nALLERTON AV         37666.0\nWINTHROP ST         37249.0\n163 ST-AMSTERDM     37059.0\nSUTTER AV           36919.0\nST. GEORGE          36753.0\n4 AV-9 ST           36488.0\nLACKAWANNA          36366.0\n182-183 STS         36110.0\nSUTPHIN BLVD        35907.0\n25 ST               35371.0\nLONGWOOD AV         35322.0\nCLEVELAND ST        35005.0\nCENTRAL AV          34981.0\nEAST 105 ST         34556.0\n71 ST               34373.0\n233 ST              34218.0\nKOSCIUSZKO ST       34124.0\nBUHRE AV            34028.0\nNORWOOD AV          33954.0\nPENNSYLVANIA AV     33282.0\nINTERVALE AV        33125.0\nDITMAS AV           32802.0\n18 ST               32288.0\nNEWARK HW BMEBE     32240.0\n104 ST              31725.0\n75 ST-ELDERTS       31618.0\nSENECA AVE          31617.0\nCYPRESS AV          31593.0\nBRIARWOOD           31323.0\n85 ST-FOREST PK     31192.0\n15 ST-PROSPECT      31016.0\nVAN SICLEN AVE      30930.0\nMETS-WILLETS PT     30877.0\nMARBLE HILL-225     30737.0\nHARLEM 148 ST       30355.0\nBEVERLEY ROAD       30222.0\n9TH STREET          29936.0\nGRAND ARMY PLAZ     29930.0\n138/GRAND CONC      29474.0\n80 ST               29445.0\nJFK JAMAICA CT1     29223.0\nJACKSON AV          29045.0\nPRESIDENT ST        28888.0\nLIVONIA AV          28507.0\nOCEAN PKWY          28482.0\nHEWES ST            28420.0\nALABAMA AV          28060.0\n65 ST               27695.0\nPARK PLACE          27646.0\nJUNIUS ST           27413.0\nCOURT SQ-23 ST      27307.0\nBROAD ST            26528.0\nEASTN PKWY-MUSM     26081.0\nCLARK ST            25797.0\nNECK RD             25714.0\nAVENUE H            25220.0\n225 ST              25153.0\n25 AV               25124.0\nNEREID AV           25109.0\nBEACH 67 ST         25020.0\nBOWERY              24962.0\n219 ST              24736.0\nSHEPHERD AV         24719.0\nBURKE AV            24124.0\nLAFAYETTE AV        24096.0\nBEVERLY RD          24083.0\nZEREGA AV           23190.0\nWHITLOCK AV         23143.0\n39 AV               23029.0\nCHAUNCEY ST         22798.0\nMORRIS PARK         22208.0\nCITY HALL           21109.0\n238 ST              20985.0\n6 AV                20804.0\nNEWARK C            20709.0\n55 ST               20403.0\n121 ST              20355.0\nAVENUE X            19937.0\nBEACH 25 ST         19672.0\nLIBERTY AV          19591.0\nBUSHWICK AV         19476.0\n88 ST               19432.0\nBEACH 60 ST         19350.0\nAVENUE N            19046.0\nBAYCHESTER AV       18750.0\nFRANKLIN ST         18645.0\nBRONX PARK EAST     18149.0\nRIT-MANHATTAN       17936.0\nHOWARD BCH JFK      17739.0\nAVENUE P            17350.0\nRIT-ROOSEVELT       17349.0\nMIDDLETOWN RD       17345.0\n21 ST               16918.0\n191 ST              16588.0\nCYPRESS HILLS       13473.0\nBAY 50 ST           13417.0\nBOTANIC GARDEN      12844.0\n75 AV               12547.0\nE 143/ST MARY'S     12337.0\nATLANTIC AV         12321.0\nAQUEDUCT N.COND     11428.0\nBEACH 90 ST         11089.0\nAVENUE I            11074.0\nROCKAWAY PARK B     11009.0\nBEACH 36 ST         11000.0\n215 ST              10550.0\n190 ST              10125.0\nBEACH 44 ST          9933.0\nNEPTUNE AV           9691.0\nAQUEDUCT RACETR      5587.0\nBEACH 98 ST          5556.0\nBEACH 105 ST         3826.0\nTOMPKINSVILLE        3570.0\nBROAD CHANNEL        1970.0\nORCHARD BEACH           8.0\nW 8 ST-AQUARIUM   -107506.0\nName: TOTAL_TRAFFIC, dtype: float64"
     },
     "metadata": {},
     "execution_count": 235
    }
   ],
   "source": [
    "entries_weekday.groupby(['STATION']).TOTAL_TRAFFIC.sum().sort_values(ascending=False)"
   ]
  },
  {
   "cell_type": "code",
   "execution_count": 237,
   "metadata": {},
   "outputs": [],
   "source": [
    "entries_weekend = entries_by_day_of_week.loc[entries_by_day_of_week['DAY_OF_WEEK'].isin(['Saturday', 'Sunday'])]"
   ]
  },
  {
   "cell_type": "code",
   "execution_count": null,
   "metadata": {},
   "outputs": [],
   "source": []
  }
 ]
}